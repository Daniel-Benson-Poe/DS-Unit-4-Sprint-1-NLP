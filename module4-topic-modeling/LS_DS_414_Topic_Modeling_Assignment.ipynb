{
 "cells": [
  {
   "cell_type": "markdown",
   "metadata": {},
   "source": [
    "<img align=\"left\" src=\"https://lever-client-logos.s3.amazonaws.com/864372b1-534c-480e-acd5-9711f850815c-1524247202159.png\" width=200>\n",
    "<br></br>\n",
    "<br></br>\n",
    "\n",
    "# Topic Modeling\n",
    "## *Data Science Unit 4 Sprint 1 Assignment 4*\n",
    "\n",
    "Analyze a corpus of Amazon reviews from Unit 4 Sprint 1 Module 1's lecture using topic modeling: \n",
    "\n",
    "- Fit a Gensim LDA topic model on Amazon Reviews\n",
    "- Select appropriate number of topics\n",
    "- Create some dope visualization of the topics\n",
    "- Write a few bullets on your findings in markdown at the end\n",
    "- **Note**: You don't *have* to use generators for this assignment"
   ]
  },
  {
   "cell_type": "code",
   "execution_count": 2,
   "metadata": {},
   "outputs": [],
   "source": [
    "import pandas as pd\n",
    "import zipfile\n",
    "\n",
    "zf = zipfile.ZipFile('../module1-text-data/data/Datafiniti_Amazon_Consumer_Reviews_of_Amazon_Products_May19.csv.zip')\n",
    "df = pd.read_csv(zf.open(zipfile.ZipFile.namelist(zf)[0]))"
   ]
  },
  {
   "cell_type": "code",
   "execution_count": 57,
   "metadata": {},
   "outputs": [
    {
     "data": {
      "text/html": [
       "<div>\n",
       "<style scoped>\n",
       "    .dataframe tbody tr th:only-of-type {\n",
       "        vertical-align: middle;\n",
       "    }\n",
       "\n",
       "    .dataframe tbody tr th {\n",
       "        vertical-align: top;\n",
       "    }\n",
       "\n",
       "    .dataframe thead th {\n",
       "        text-align: right;\n",
       "    }\n",
       "</style>\n",
       "<table border=\"1\" class=\"dataframe\">\n",
       "  <thead>\n",
       "    <tr style=\"text-align: right;\">\n",
       "      <th></th>\n",
       "      <th>id</th>\n",
       "      <th>dateAdded</th>\n",
       "      <th>dateUpdated</th>\n",
       "      <th>name</th>\n",
       "      <th>asins</th>\n",
       "      <th>brand</th>\n",
       "      <th>categories</th>\n",
       "      <th>primaryCategories</th>\n",
       "      <th>imageURLs</th>\n",
       "      <th>keys</th>\n",
       "      <th>...</th>\n",
       "      <th>reviews.didPurchase</th>\n",
       "      <th>reviews.doRecommend</th>\n",
       "      <th>reviews.id</th>\n",
       "      <th>reviews.numHelpful</th>\n",
       "      <th>reviews.rating</th>\n",
       "      <th>reviews.sourceURLs</th>\n",
       "      <th>reviews.text</th>\n",
       "      <th>reviews.title</th>\n",
       "      <th>reviews.username</th>\n",
       "      <th>sourceURLs</th>\n",
       "    </tr>\n",
       "  </thead>\n",
       "  <tbody>\n",
       "    <tr>\n",
       "      <th>0</th>\n",
       "      <td>AVpgNzjwLJeJML43Kpxn</td>\n",
       "      <td>2015-10-30T08:59:32Z</td>\n",
       "      <td>2019-04-25T09:08:16Z</td>\n",
       "      <td>AmazonBasics AAA Performance Alkaline Batteries (36 Count)</td>\n",
       "      <td>B00QWO9P0O,B00LH3DMUO</td>\n",
       "      <td>Amazonbasics</td>\n",
       "      <td>AA,AAA,Health,Electronics,Health &amp; Household,Camcorder Batteries,Camera &amp; Photo,Batteries,Household Batteries,Robot Check,Accessories,Camera Batteries,Health and Beauty,Household Supplies,Batteries &amp; Chargers,Health, Household &amp; Baby Care,Health Personal Care</td>\n",
       "      <td>Health &amp; Beauty</td>\n",
       "      <td>https://images-na.ssl-images-amazon.com/images/I/81qmNyJo%2BkL._SL1500_.jpg,https://images-na.ssl-images-amazon.com/images/I/81ZTa1BrkzL._SL1500_.jpg,http://ecx.images-amazon.com/images/I/41pSoRu7UlL._SS40_.jpg,https://www.upccodesearch.com/images/barcode/0841710106442.png,https://images-na.ssl-images-amazon.com/images/I/81qmNyJo%252525252BkL._SL1500_.jpg,https://images-na.ssl-images-amazon.com/images/I/51DfBuqy4qL._SL1189_.jpg,https://images-na.ssl-images-amazon.com/images/I/51TshsEJTIL.jpg,https://images-na.ssl-images-amazon.com/images/I/81qmNyJo%2525252525252BkL._SL1500_.jpg,https://images-na.ssl-images-amazon.com/images/I/81qmNyJo%25252BkL._SL1500_.jpg,https://images-na.ssl-images-amazon.com/images/I/81qmNyJo%2525252BkL._SL1500_.jpg,https://images-na.ssl-images-amazon.com/images/I/51g3uIwzOIL._SL1050_.jpg,http://ecx.images-amazon.com/images/I/613LUdOc1eL._SS40_.jpg</td>\n",
       "      <td>amazonbasics/hl002619,amazonbasicsaaaperformancealkalinebatteries36count/b00lh3dmuo,0841710106442,841710106442,amazonbasicsaaaperformancealkalinebatteries36count/b00qwo9p0o</td>\n",
       "      <td>...</td>\n",
       "      <td>NaN</td>\n",
       "      <td>NaN</td>\n",
       "      <td>NaN</td>\n",
       "      <td>NaN</td>\n",
       "      <td>3</td>\n",
       "      <td>https://www.amazon.com/product-reviews/B00QWO9P0O/</td>\n",
       "      <td>I order 3 of them and one of the item is bad quality. Is missing backup spring so I have to put a pcs of aluminum to make the battery work.</td>\n",
       "      <td>... 3 of them and one of the item is bad quality. Is missing backup spring so I have ...</td>\n",
       "      <td>Byger yang</td>\n",
       "      <td>https://www.barcodable.com/upc/841710106442,https://www.amazon.com/AmazonBasics-Performance-Alkaline-Batteries-Count/dp/B00LH3DMUO/,https://www.amazon.com/AmazonBasics-Performance-Alkaline-Batteries-Count/dp/B00LH3DMUO,https://www.amazon.com/AmazonBasics-Performance-Alkaline-Batteries-36-Pack/dp/B00LH3DMUO/,http://www.amazon.com/AmazonBasics-Performance-Alkaline-Batteries-36-Pack/dp/B00LH3DMUO</td>\n",
       "    </tr>\n",
       "    <tr>\n",
       "      <th>1</th>\n",
       "      <td>AVpgNzjwLJeJML43Kpxn</td>\n",
       "      <td>2015-10-30T08:59:32Z</td>\n",
       "      <td>2019-04-25T09:08:16Z</td>\n",
       "      <td>AmazonBasics AAA Performance Alkaline Batteries (36 Count)</td>\n",
       "      <td>B00QWO9P0O,B00LH3DMUO</td>\n",
       "      <td>Amazonbasics</td>\n",
       "      <td>AA,AAA,Health,Electronics,Health &amp; Household,Camcorder Batteries,Camera &amp; Photo,Batteries,Household Batteries,Robot Check,Accessories,Camera Batteries,Health and Beauty,Household Supplies,Batteries &amp; Chargers,Health, Household &amp; Baby Care,Health Personal Care</td>\n",
       "      <td>Health &amp; Beauty</td>\n",
       "      <td>https://images-na.ssl-images-amazon.com/images/I/81qmNyJo%2BkL._SL1500_.jpg,https://images-na.ssl-images-amazon.com/images/I/81ZTa1BrkzL._SL1500_.jpg,http://ecx.images-amazon.com/images/I/41pSoRu7UlL._SS40_.jpg,https://www.upccodesearch.com/images/barcode/0841710106442.png,https://images-na.ssl-images-amazon.com/images/I/81qmNyJo%252525252BkL._SL1500_.jpg,https://images-na.ssl-images-amazon.com/images/I/51DfBuqy4qL._SL1189_.jpg,https://images-na.ssl-images-amazon.com/images/I/51TshsEJTIL.jpg,https://images-na.ssl-images-amazon.com/images/I/81qmNyJo%2525252525252BkL._SL1500_.jpg,https://images-na.ssl-images-amazon.com/images/I/81qmNyJo%25252BkL._SL1500_.jpg,https://images-na.ssl-images-amazon.com/images/I/81qmNyJo%2525252BkL._SL1500_.jpg,https://images-na.ssl-images-amazon.com/images/I/51g3uIwzOIL._SL1050_.jpg,http://ecx.images-amazon.com/images/I/613LUdOc1eL._SS40_.jpg</td>\n",
       "      <td>amazonbasics/hl002619,amazonbasicsaaaperformancealkalinebatteries36count/b00lh3dmuo,0841710106442,841710106442,amazonbasicsaaaperformancealkalinebatteries36count/b00qwo9p0o</td>\n",
       "      <td>...</td>\n",
       "      <td>NaN</td>\n",
       "      <td>NaN</td>\n",
       "      <td>NaN</td>\n",
       "      <td>NaN</td>\n",
       "      <td>4</td>\n",
       "      <td>https://www.amazon.com/product-reviews/B00QWO9P0O/</td>\n",
       "      <td>Bulk is always the less expensive way to go for products like these</td>\n",
       "      <td>... always the less expensive way to go for products like</td>\n",
       "      <td>ByMG</td>\n",
       "      <td>https://www.barcodable.com/upc/841710106442,https://www.amazon.com/AmazonBasics-Performance-Alkaline-Batteries-Count/dp/B00LH3DMUO/,https://www.amazon.com/AmazonBasics-Performance-Alkaline-Batteries-Count/dp/B00LH3DMUO,https://www.amazon.com/AmazonBasics-Performance-Alkaline-Batteries-36-Pack/dp/B00LH3DMUO/,http://www.amazon.com/AmazonBasics-Performance-Alkaline-Batteries-36-Pack/dp/B00LH3DMUO</td>\n",
       "    </tr>\n",
       "    <tr>\n",
       "      <th>2</th>\n",
       "      <td>AVpgNzjwLJeJML43Kpxn</td>\n",
       "      <td>2015-10-30T08:59:32Z</td>\n",
       "      <td>2019-04-25T09:08:16Z</td>\n",
       "      <td>AmazonBasics AAA Performance Alkaline Batteries (36 Count)</td>\n",
       "      <td>B00QWO9P0O,B00LH3DMUO</td>\n",
       "      <td>Amazonbasics</td>\n",
       "      <td>AA,AAA,Health,Electronics,Health &amp; Household,Camcorder Batteries,Camera &amp; Photo,Batteries,Household Batteries,Robot Check,Accessories,Camera Batteries,Health and Beauty,Household Supplies,Batteries &amp; Chargers,Health, Household &amp; Baby Care,Health Personal Care</td>\n",
       "      <td>Health &amp; Beauty</td>\n",
       "      <td>https://images-na.ssl-images-amazon.com/images/I/81qmNyJo%2BkL._SL1500_.jpg,https://images-na.ssl-images-amazon.com/images/I/81ZTa1BrkzL._SL1500_.jpg,http://ecx.images-amazon.com/images/I/41pSoRu7UlL._SS40_.jpg,https://www.upccodesearch.com/images/barcode/0841710106442.png,https://images-na.ssl-images-amazon.com/images/I/81qmNyJo%252525252BkL._SL1500_.jpg,https://images-na.ssl-images-amazon.com/images/I/51DfBuqy4qL._SL1189_.jpg,https://images-na.ssl-images-amazon.com/images/I/51TshsEJTIL.jpg,https://images-na.ssl-images-amazon.com/images/I/81qmNyJo%2525252525252BkL._SL1500_.jpg,https://images-na.ssl-images-amazon.com/images/I/81qmNyJo%25252BkL._SL1500_.jpg,https://images-na.ssl-images-amazon.com/images/I/81qmNyJo%2525252BkL._SL1500_.jpg,https://images-na.ssl-images-amazon.com/images/I/51g3uIwzOIL._SL1050_.jpg,http://ecx.images-amazon.com/images/I/613LUdOc1eL._SS40_.jpg</td>\n",
       "      <td>amazonbasics/hl002619,amazonbasicsaaaperformancealkalinebatteries36count/b00lh3dmuo,0841710106442,841710106442,amazonbasicsaaaperformancealkalinebatteries36count/b00qwo9p0o</td>\n",
       "      <td>...</td>\n",
       "      <td>NaN</td>\n",
       "      <td>NaN</td>\n",
       "      <td>NaN</td>\n",
       "      <td>NaN</td>\n",
       "      <td>5</td>\n",
       "      <td>https://www.amazon.com/product-reviews/B00QWO9P0O/</td>\n",
       "      <td>Well they are not Duracell but for the price i am happy.</td>\n",
       "      <td>... are not Duracell but for the price i am happy.</td>\n",
       "      <td>BySharon Lambert</td>\n",
       "      <td>https://www.barcodable.com/upc/841710106442,https://www.amazon.com/AmazonBasics-Performance-Alkaline-Batteries-Count/dp/B00LH3DMUO/,https://www.amazon.com/AmazonBasics-Performance-Alkaline-Batteries-Count/dp/B00LH3DMUO,https://www.amazon.com/AmazonBasics-Performance-Alkaline-Batteries-36-Pack/dp/B00LH3DMUO/,http://www.amazon.com/AmazonBasics-Performance-Alkaline-Batteries-36-Pack/dp/B00LH3DMUO</td>\n",
       "    </tr>\n",
       "    <tr>\n",
       "      <th>3</th>\n",
       "      <td>AVpgNzjwLJeJML43Kpxn</td>\n",
       "      <td>2015-10-30T08:59:32Z</td>\n",
       "      <td>2019-04-25T09:08:16Z</td>\n",
       "      <td>AmazonBasics AAA Performance Alkaline Batteries (36 Count)</td>\n",
       "      <td>B00QWO9P0O,B00LH3DMUO</td>\n",
       "      <td>Amazonbasics</td>\n",
       "      <td>AA,AAA,Health,Electronics,Health &amp; Household,Camcorder Batteries,Camera &amp; Photo,Batteries,Household Batteries,Robot Check,Accessories,Camera Batteries,Health and Beauty,Household Supplies,Batteries &amp; Chargers,Health, Household &amp; Baby Care,Health Personal Care</td>\n",
       "      <td>Health &amp; Beauty</td>\n",
       "      <td>https://images-na.ssl-images-amazon.com/images/I/81qmNyJo%2BkL._SL1500_.jpg,https://images-na.ssl-images-amazon.com/images/I/81ZTa1BrkzL._SL1500_.jpg,http://ecx.images-amazon.com/images/I/41pSoRu7UlL._SS40_.jpg,https://www.upccodesearch.com/images/barcode/0841710106442.png,https://images-na.ssl-images-amazon.com/images/I/81qmNyJo%252525252BkL._SL1500_.jpg,https://images-na.ssl-images-amazon.com/images/I/51DfBuqy4qL._SL1189_.jpg,https://images-na.ssl-images-amazon.com/images/I/51TshsEJTIL.jpg,https://images-na.ssl-images-amazon.com/images/I/81qmNyJo%2525252525252BkL._SL1500_.jpg,https://images-na.ssl-images-amazon.com/images/I/81qmNyJo%25252BkL._SL1500_.jpg,https://images-na.ssl-images-amazon.com/images/I/81qmNyJo%2525252BkL._SL1500_.jpg,https://images-na.ssl-images-amazon.com/images/I/51g3uIwzOIL._SL1050_.jpg,http://ecx.images-amazon.com/images/I/613LUdOc1eL._SS40_.jpg</td>\n",
       "      <td>amazonbasics/hl002619,amazonbasicsaaaperformancealkalinebatteries36count/b00lh3dmuo,0841710106442,841710106442,amazonbasicsaaaperformancealkalinebatteries36count/b00qwo9p0o</td>\n",
       "      <td>...</td>\n",
       "      <td>NaN</td>\n",
       "      <td>NaN</td>\n",
       "      <td>NaN</td>\n",
       "      <td>NaN</td>\n",
       "      <td>5</td>\n",
       "      <td>https://www.amazon.com/product-reviews/B00QWO9P0O/</td>\n",
       "      <td>Seem to work as well as name brand batteries at a much better price</td>\n",
       "      <td>... as well as name brand batteries at a much better</td>\n",
       "      <td>Bymark sexson</td>\n",
       "      <td>https://www.barcodable.com/upc/841710106442,https://www.amazon.com/AmazonBasics-Performance-Alkaline-Batteries-Count/dp/B00LH3DMUO/,https://www.amazon.com/AmazonBasics-Performance-Alkaline-Batteries-Count/dp/B00LH3DMUO,https://www.amazon.com/AmazonBasics-Performance-Alkaline-Batteries-36-Pack/dp/B00LH3DMUO/,http://www.amazon.com/AmazonBasics-Performance-Alkaline-Batteries-36-Pack/dp/B00LH3DMUO</td>\n",
       "    </tr>\n",
       "    <tr>\n",
       "      <th>4</th>\n",
       "      <td>AVpgNzjwLJeJML43Kpxn</td>\n",
       "      <td>2015-10-30T08:59:32Z</td>\n",
       "      <td>2019-04-25T09:08:16Z</td>\n",
       "      <td>AmazonBasics AAA Performance Alkaline Batteries (36 Count)</td>\n",
       "      <td>B00QWO9P0O,B00LH3DMUO</td>\n",
       "      <td>Amazonbasics</td>\n",
       "      <td>AA,AAA,Health,Electronics,Health &amp; Household,Camcorder Batteries,Camera &amp; Photo,Batteries,Household Batteries,Robot Check,Accessories,Camera Batteries,Health and Beauty,Household Supplies,Batteries &amp; Chargers,Health, Household &amp; Baby Care,Health Personal Care</td>\n",
       "      <td>Health &amp; Beauty</td>\n",
       "      <td>https://images-na.ssl-images-amazon.com/images/I/81qmNyJo%2BkL._SL1500_.jpg,https://images-na.ssl-images-amazon.com/images/I/81ZTa1BrkzL._SL1500_.jpg,http://ecx.images-amazon.com/images/I/41pSoRu7UlL._SS40_.jpg,https://www.upccodesearch.com/images/barcode/0841710106442.png,https://images-na.ssl-images-amazon.com/images/I/81qmNyJo%252525252BkL._SL1500_.jpg,https://images-na.ssl-images-amazon.com/images/I/51DfBuqy4qL._SL1189_.jpg,https://images-na.ssl-images-amazon.com/images/I/51TshsEJTIL.jpg,https://images-na.ssl-images-amazon.com/images/I/81qmNyJo%2525252525252BkL._SL1500_.jpg,https://images-na.ssl-images-amazon.com/images/I/81qmNyJo%25252BkL._SL1500_.jpg,https://images-na.ssl-images-amazon.com/images/I/81qmNyJo%2525252BkL._SL1500_.jpg,https://images-na.ssl-images-amazon.com/images/I/51g3uIwzOIL._SL1050_.jpg,http://ecx.images-amazon.com/images/I/613LUdOc1eL._SS40_.jpg</td>\n",
       "      <td>amazonbasics/hl002619,amazonbasicsaaaperformancealkalinebatteries36count/b00lh3dmuo,0841710106442,841710106442,amazonbasicsaaaperformancealkalinebatteries36count/b00qwo9p0o</td>\n",
       "      <td>...</td>\n",
       "      <td>NaN</td>\n",
       "      <td>NaN</td>\n",
       "      <td>NaN</td>\n",
       "      <td>NaN</td>\n",
       "      <td>5</td>\n",
       "      <td>https://www.amazon.com/product-reviews/B00QWO9P0O/</td>\n",
       "      <td>These batteries are very long lasting the price is great.</td>\n",
       "      <td>... batteries are very long lasting the price is great.</td>\n",
       "      <td>Bylinda</td>\n",
       "      <td>https://www.barcodable.com/upc/841710106442,https://www.amazon.com/AmazonBasics-Performance-Alkaline-Batteries-Count/dp/B00LH3DMUO/,https://www.amazon.com/AmazonBasics-Performance-Alkaline-Batteries-Count/dp/B00LH3DMUO,https://www.amazon.com/AmazonBasics-Performance-Alkaline-Batteries-36-Pack/dp/B00LH3DMUO/,http://www.amazon.com/AmazonBasics-Performance-Alkaline-Batteries-36-Pack/dp/B00LH3DMUO</td>\n",
       "    </tr>\n",
       "  </tbody>\n",
       "</table>\n",
       "<p>5 rows × 24 columns</p>\n",
       "</div>"
      ],
      "text/plain": [
       "                     id             dateAdded           dateUpdated  \\\n",
       "0  AVpgNzjwLJeJML43Kpxn  2015-10-30T08:59:32Z  2019-04-25T09:08:16Z   \n",
       "1  AVpgNzjwLJeJML43Kpxn  2015-10-30T08:59:32Z  2019-04-25T09:08:16Z   \n",
       "2  AVpgNzjwLJeJML43Kpxn  2015-10-30T08:59:32Z  2019-04-25T09:08:16Z   \n",
       "3  AVpgNzjwLJeJML43Kpxn  2015-10-30T08:59:32Z  2019-04-25T09:08:16Z   \n",
       "4  AVpgNzjwLJeJML43Kpxn  2015-10-30T08:59:32Z  2019-04-25T09:08:16Z   \n",
       "\n",
       "                                                         name  \\\n",
       "0  AmazonBasics AAA Performance Alkaline Batteries (36 Count)   \n",
       "1  AmazonBasics AAA Performance Alkaline Batteries (36 Count)   \n",
       "2  AmazonBasics AAA Performance Alkaline Batteries (36 Count)   \n",
       "3  AmazonBasics AAA Performance Alkaline Batteries (36 Count)   \n",
       "4  AmazonBasics AAA Performance Alkaline Batteries (36 Count)   \n",
       "\n",
       "                   asins         brand  \\\n",
       "0  B00QWO9P0O,B00LH3DMUO  Amazonbasics   \n",
       "1  B00QWO9P0O,B00LH3DMUO  Amazonbasics   \n",
       "2  B00QWO9P0O,B00LH3DMUO  Amazonbasics   \n",
       "3  B00QWO9P0O,B00LH3DMUO  Amazonbasics   \n",
       "4  B00QWO9P0O,B00LH3DMUO  Amazonbasics   \n",
       "\n",
       "                                                                                                                                                                                                                                                            categories  \\\n",
       "0  AA,AAA,Health,Electronics,Health & Household,Camcorder Batteries,Camera & Photo,Batteries,Household Batteries,Robot Check,Accessories,Camera Batteries,Health and Beauty,Household Supplies,Batteries & Chargers,Health, Household & Baby Care,Health Personal Care   \n",
       "1  AA,AAA,Health,Electronics,Health & Household,Camcorder Batteries,Camera & Photo,Batteries,Household Batteries,Robot Check,Accessories,Camera Batteries,Health and Beauty,Household Supplies,Batteries & Chargers,Health, Household & Baby Care,Health Personal Care   \n",
       "2  AA,AAA,Health,Electronics,Health & Household,Camcorder Batteries,Camera & Photo,Batteries,Household Batteries,Robot Check,Accessories,Camera Batteries,Health and Beauty,Household Supplies,Batteries & Chargers,Health, Household & Baby Care,Health Personal Care   \n",
       "3  AA,AAA,Health,Electronics,Health & Household,Camcorder Batteries,Camera & Photo,Batteries,Household Batteries,Robot Check,Accessories,Camera Batteries,Health and Beauty,Household Supplies,Batteries & Chargers,Health, Household & Baby Care,Health Personal Care   \n",
       "4  AA,AAA,Health,Electronics,Health & Household,Camcorder Batteries,Camera & Photo,Batteries,Household Batteries,Robot Check,Accessories,Camera Batteries,Health and Beauty,Household Supplies,Batteries & Chargers,Health, Household & Baby Care,Health Personal Care   \n",
       "\n",
       "  primaryCategories  \\\n",
       "0   Health & Beauty   \n",
       "1   Health & Beauty   \n",
       "2   Health & Beauty   \n",
       "3   Health & Beauty   \n",
       "4   Health & Beauty   \n",
       "\n",
       "                                                                                                                                                                                                                                                                                                                                                                                                                                                                                                                                                                                                                                                                                                                                                                                                                                                                                                           imageURLs  \\\n",
       "0  https://images-na.ssl-images-amazon.com/images/I/81qmNyJo%2BkL._SL1500_.jpg,https://images-na.ssl-images-amazon.com/images/I/81ZTa1BrkzL._SL1500_.jpg,http://ecx.images-amazon.com/images/I/41pSoRu7UlL._SS40_.jpg,https://www.upccodesearch.com/images/barcode/0841710106442.png,https://images-na.ssl-images-amazon.com/images/I/81qmNyJo%252525252BkL._SL1500_.jpg,https://images-na.ssl-images-amazon.com/images/I/51DfBuqy4qL._SL1189_.jpg,https://images-na.ssl-images-amazon.com/images/I/51TshsEJTIL.jpg,https://images-na.ssl-images-amazon.com/images/I/81qmNyJo%2525252525252BkL._SL1500_.jpg,https://images-na.ssl-images-amazon.com/images/I/81qmNyJo%25252BkL._SL1500_.jpg,https://images-na.ssl-images-amazon.com/images/I/81qmNyJo%2525252BkL._SL1500_.jpg,https://images-na.ssl-images-amazon.com/images/I/51g3uIwzOIL._SL1050_.jpg,http://ecx.images-amazon.com/images/I/613LUdOc1eL._SS40_.jpg   \n",
       "1  https://images-na.ssl-images-amazon.com/images/I/81qmNyJo%2BkL._SL1500_.jpg,https://images-na.ssl-images-amazon.com/images/I/81ZTa1BrkzL._SL1500_.jpg,http://ecx.images-amazon.com/images/I/41pSoRu7UlL._SS40_.jpg,https://www.upccodesearch.com/images/barcode/0841710106442.png,https://images-na.ssl-images-amazon.com/images/I/81qmNyJo%252525252BkL._SL1500_.jpg,https://images-na.ssl-images-amazon.com/images/I/51DfBuqy4qL._SL1189_.jpg,https://images-na.ssl-images-amazon.com/images/I/51TshsEJTIL.jpg,https://images-na.ssl-images-amazon.com/images/I/81qmNyJo%2525252525252BkL._SL1500_.jpg,https://images-na.ssl-images-amazon.com/images/I/81qmNyJo%25252BkL._SL1500_.jpg,https://images-na.ssl-images-amazon.com/images/I/81qmNyJo%2525252BkL._SL1500_.jpg,https://images-na.ssl-images-amazon.com/images/I/51g3uIwzOIL._SL1050_.jpg,http://ecx.images-amazon.com/images/I/613LUdOc1eL._SS40_.jpg   \n",
       "2  https://images-na.ssl-images-amazon.com/images/I/81qmNyJo%2BkL._SL1500_.jpg,https://images-na.ssl-images-amazon.com/images/I/81ZTa1BrkzL._SL1500_.jpg,http://ecx.images-amazon.com/images/I/41pSoRu7UlL._SS40_.jpg,https://www.upccodesearch.com/images/barcode/0841710106442.png,https://images-na.ssl-images-amazon.com/images/I/81qmNyJo%252525252BkL._SL1500_.jpg,https://images-na.ssl-images-amazon.com/images/I/51DfBuqy4qL._SL1189_.jpg,https://images-na.ssl-images-amazon.com/images/I/51TshsEJTIL.jpg,https://images-na.ssl-images-amazon.com/images/I/81qmNyJo%2525252525252BkL._SL1500_.jpg,https://images-na.ssl-images-amazon.com/images/I/81qmNyJo%25252BkL._SL1500_.jpg,https://images-na.ssl-images-amazon.com/images/I/81qmNyJo%2525252BkL._SL1500_.jpg,https://images-na.ssl-images-amazon.com/images/I/51g3uIwzOIL._SL1050_.jpg,http://ecx.images-amazon.com/images/I/613LUdOc1eL._SS40_.jpg   \n",
       "3  https://images-na.ssl-images-amazon.com/images/I/81qmNyJo%2BkL._SL1500_.jpg,https://images-na.ssl-images-amazon.com/images/I/81ZTa1BrkzL._SL1500_.jpg,http://ecx.images-amazon.com/images/I/41pSoRu7UlL._SS40_.jpg,https://www.upccodesearch.com/images/barcode/0841710106442.png,https://images-na.ssl-images-amazon.com/images/I/81qmNyJo%252525252BkL._SL1500_.jpg,https://images-na.ssl-images-amazon.com/images/I/51DfBuqy4qL._SL1189_.jpg,https://images-na.ssl-images-amazon.com/images/I/51TshsEJTIL.jpg,https://images-na.ssl-images-amazon.com/images/I/81qmNyJo%2525252525252BkL._SL1500_.jpg,https://images-na.ssl-images-amazon.com/images/I/81qmNyJo%25252BkL._SL1500_.jpg,https://images-na.ssl-images-amazon.com/images/I/81qmNyJo%2525252BkL._SL1500_.jpg,https://images-na.ssl-images-amazon.com/images/I/51g3uIwzOIL._SL1050_.jpg,http://ecx.images-amazon.com/images/I/613LUdOc1eL._SS40_.jpg   \n",
       "4  https://images-na.ssl-images-amazon.com/images/I/81qmNyJo%2BkL._SL1500_.jpg,https://images-na.ssl-images-amazon.com/images/I/81ZTa1BrkzL._SL1500_.jpg,http://ecx.images-amazon.com/images/I/41pSoRu7UlL._SS40_.jpg,https://www.upccodesearch.com/images/barcode/0841710106442.png,https://images-na.ssl-images-amazon.com/images/I/81qmNyJo%252525252BkL._SL1500_.jpg,https://images-na.ssl-images-amazon.com/images/I/51DfBuqy4qL._SL1189_.jpg,https://images-na.ssl-images-amazon.com/images/I/51TshsEJTIL.jpg,https://images-na.ssl-images-amazon.com/images/I/81qmNyJo%2525252525252BkL._SL1500_.jpg,https://images-na.ssl-images-amazon.com/images/I/81qmNyJo%25252BkL._SL1500_.jpg,https://images-na.ssl-images-amazon.com/images/I/81qmNyJo%2525252BkL._SL1500_.jpg,https://images-na.ssl-images-amazon.com/images/I/51g3uIwzOIL._SL1050_.jpg,http://ecx.images-amazon.com/images/I/613LUdOc1eL._SS40_.jpg   \n",
       "\n",
       "                                                                                                                                                                           keys  \\\n",
       "0  amazonbasics/hl002619,amazonbasicsaaaperformancealkalinebatteries36count/b00lh3dmuo,0841710106442,841710106442,amazonbasicsaaaperformancealkalinebatteries36count/b00qwo9p0o   \n",
       "1  amazonbasics/hl002619,amazonbasicsaaaperformancealkalinebatteries36count/b00lh3dmuo,0841710106442,841710106442,amazonbasicsaaaperformancealkalinebatteries36count/b00qwo9p0o   \n",
       "2  amazonbasics/hl002619,amazonbasicsaaaperformancealkalinebatteries36count/b00lh3dmuo,0841710106442,841710106442,amazonbasicsaaaperformancealkalinebatteries36count/b00qwo9p0o   \n",
       "3  amazonbasics/hl002619,amazonbasicsaaaperformancealkalinebatteries36count/b00lh3dmuo,0841710106442,841710106442,amazonbasicsaaaperformancealkalinebatteries36count/b00qwo9p0o   \n",
       "4  amazonbasics/hl002619,amazonbasicsaaaperformancealkalinebatteries36count/b00lh3dmuo,0841710106442,841710106442,amazonbasicsaaaperformancealkalinebatteries36count/b00qwo9p0o   \n",
       "\n",
       "   ... reviews.didPurchase reviews.doRecommend reviews.id reviews.numHelpful  \\\n",
       "0  ...                 NaN                 NaN        NaN                NaN   \n",
       "1  ...                 NaN                 NaN        NaN                NaN   \n",
       "2  ...                 NaN                 NaN        NaN                NaN   \n",
       "3  ...                 NaN                 NaN        NaN                NaN   \n",
       "4  ...                 NaN                 NaN        NaN                NaN   \n",
       "\n",
       "  reviews.rating                                  reviews.sourceURLs  \\\n",
       "0              3  https://www.amazon.com/product-reviews/B00QWO9P0O/   \n",
       "1              4  https://www.amazon.com/product-reviews/B00QWO9P0O/   \n",
       "2              5  https://www.amazon.com/product-reviews/B00QWO9P0O/   \n",
       "3              5  https://www.amazon.com/product-reviews/B00QWO9P0O/   \n",
       "4              5  https://www.amazon.com/product-reviews/B00QWO9P0O/   \n",
       "\n",
       "                                                                                                                                  reviews.text  \\\n",
       "0  I order 3 of them and one of the item is bad quality. Is missing backup spring so I have to put a pcs of aluminum to make the battery work.   \n",
       "1                                                                          Bulk is always the less expensive way to go for products like these   \n",
       "2                                                                                     Well they are not Duracell but for the price i am happy.   \n",
       "3                                                                          Seem to work as well as name brand batteries at a much better price   \n",
       "4                                                                                    These batteries are very long lasting the price is great.   \n",
       "\n",
       "                                                                              reviews.title  \\\n",
       "0  ... 3 of them and one of the item is bad quality. Is missing backup spring so I have ...   \n",
       "1                                 ... always the less expensive way to go for products like   \n",
       "2                                        ... are not Duracell but for the price i am happy.   \n",
       "3                                      ... as well as name brand batteries at a much better   \n",
       "4                                   ... batteries are very long lasting the price is great.   \n",
       "\n",
       "   reviews.username  \\\n",
       "0        Byger yang   \n",
       "1              ByMG   \n",
       "2  BySharon Lambert   \n",
       "3     Bymark sexson   \n",
       "4           Bylinda   \n",
       "\n",
       "                                                                                                                                                                                                                                                                                                                                                                                                     sourceURLs  \n",
       "0  https://www.barcodable.com/upc/841710106442,https://www.amazon.com/AmazonBasics-Performance-Alkaline-Batteries-Count/dp/B00LH3DMUO/,https://www.amazon.com/AmazonBasics-Performance-Alkaline-Batteries-Count/dp/B00LH3DMUO,https://www.amazon.com/AmazonBasics-Performance-Alkaline-Batteries-36-Pack/dp/B00LH3DMUO/,http://www.amazon.com/AmazonBasics-Performance-Alkaline-Batteries-36-Pack/dp/B00LH3DMUO  \n",
       "1  https://www.barcodable.com/upc/841710106442,https://www.amazon.com/AmazonBasics-Performance-Alkaline-Batteries-Count/dp/B00LH3DMUO/,https://www.amazon.com/AmazonBasics-Performance-Alkaline-Batteries-Count/dp/B00LH3DMUO,https://www.amazon.com/AmazonBasics-Performance-Alkaline-Batteries-36-Pack/dp/B00LH3DMUO/,http://www.amazon.com/AmazonBasics-Performance-Alkaline-Batteries-36-Pack/dp/B00LH3DMUO  \n",
       "2  https://www.barcodable.com/upc/841710106442,https://www.amazon.com/AmazonBasics-Performance-Alkaline-Batteries-Count/dp/B00LH3DMUO/,https://www.amazon.com/AmazonBasics-Performance-Alkaline-Batteries-Count/dp/B00LH3DMUO,https://www.amazon.com/AmazonBasics-Performance-Alkaline-Batteries-36-Pack/dp/B00LH3DMUO/,http://www.amazon.com/AmazonBasics-Performance-Alkaline-Batteries-36-Pack/dp/B00LH3DMUO  \n",
       "3  https://www.barcodable.com/upc/841710106442,https://www.amazon.com/AmazonBasics-Performance-Alkaline-Batteries-Count/dp/B00LH3DMUO/,https://www.amazon.com/AmazonBasics-Performance-Alkaline-Batteries-Count/dp/B00LH3DMUO,https://www.amazon.com/AmazonBasics-Performance-Alkaline-Batteries-36-Pack/dp/B00LH3DMUO/,http://www.amazon.com/AmazonBasics-Performance-Alkaline-Batteries-36-Pack/dp/B00LH3DMUO  \n",
       "4  https://www.barcodable.com/upc/841710106442,https://www.amazon.com/AmazonBasics-Performance-Alkaline-Batteries-Count/dp/B00LH3DMUO/,https://www.amazon.com/AmazonBasics-Performance-Alkaline-Batteries-Count/dp/B00LH3DMUO,https://www.amazon.com/AmazonBasics-Performance-Alkaline-Batteries-36-Pack/dp/B00LH3DMUO/,http://www.amazon.com/AmazonBasics-Performance-Alkaline-Batteries-36-Pack/dp/B00LH3DMUO  \n",
       "\n",
       "[5 rows x 24 columns]"
      ]
     },
     "execution_count": 57,
     "metadata": {},
     "output_type": "execute_result"
    }
   ],
   "source": [
    "df.head()"
   ]
  },
  {
   "cell_type": "code",
   "execution_count": 58,
   "metadata": {},
   "outputs": [
    {
     "data": {
      "text/plain": [
       "(28332, 24)"
      ]
     },
     "execution_count": 58,
     "metadata": {},
     "output_type": "execute_result"
    }
   ],
   "source": [
    "df.shape"
   ]
  },
  {
   "cell_type": "code",
   "execution_count": 3,
   "metadata": {},
   "outputs": [
    {
     "data": {
      "text/plain": [
       "(10000, 24)"
      ]
     },
     "execution_count": 3,
     "metadata": {},
     "output_type": "execute_result"
    }
   ],
   "source": [
    "# Start small for compute time\n",
    "df = df.sample(10000)\n",
    "df.shape"
   ]
  },
  {
   "cell_type": "code",
   "execution_count": 4,
   "metadata": {},
   "outputs": [
    {
     "data": {
      "text/plain": [
       "Index(['id', 'dateAdded', 'dateUpdated', 'name', 'asins', 'brand',\n",
       "       'categories', 'primaryCategories', 'imageURLs', 'keys', 'manufacturer',\n",
       "       'manufacturerNumber', 'reviews.date', 'reviews.dateSeen',\n",
       "       'reviews.didPurchase', 'reviews.doRecommend', 'reviews.id',\n",
       "       'reviews.numHelpful', 'reviews.rating', 'reviews.sourceURLs',\n",
       "       'reviews.text', 'reviews.title', 'reviews.username', 'sourceURLs'],\n",
       "      dtype='object')"
      ]
     },
     "execution_count": 4,
     "metadata": {},
     "output_type": "execute_result"
    }
   ],
   "source": [
    "df.columns"
   ]
  },
  {
   "cell_type": "markdown",
   "metadata": {},
   "source": [
    "# Clean Data"
   ]
  },
  {
   "cell_type": "code",
   "execution_count": 5,
   "metadata": {},
   "outputs": [],
   "source": [
    "df = df[['name', 'primaryCategories', 'reviews.rating', 'reviews.text', 'reviews.title']]"
   ]
  },
  {
   "cell_type": "code",
   "execution_count": 6,
   "metadata": {},
   "outputs": [
    {
     "data": {
      "text/html": [
       "<div>\n",
       "<style scoped>\n",
       "    .dataframe tbody tr th:only-of-type {\n",
       "        vertical-align: middle;\n",
       "    }\n",
       "\n",
       "    .dataframe tbody tr th {\n",
       "        vertical-align: top;\n",
       "    }\n",
       "\n",
       "    .dataframe thead th {\n",
       "        text-align: right;\n",
       "    }\n",
       "</style>\n",
       "<table border=\"1\" class=\"dataframe\">\n",
       "  <thead>\n",
       "    <tr style=\"text-align: right;\">\n",
       "      <th></th>\n",
       "      <th>name</th>\n",
       "      <th>primaryCategories</th>\n",
       "      <th>reviews.rating</th>\n",
       "      <th>reviews.text</th>\n",
       "      <th>reviews.title</th>\n",
       "    </tr>\n",
       "  </thead>\n",
       "  <tbody>\n",
       "    <tr>\n",
       "      <th>8537</th>\n",
       "      <td>AmazonBasics AA Performance Alkaline Batteries...</td>\n",
       "      <td>Health &amp; Beauty</td>\n",
       "      <td>1</td>\n",
       "      <td>These batteries are bad. In any device the las...</td>\n",
       "      <td>Bad lot of batteries</td>\n",
       "    </tr>\n",
       "    <tr>\n",
       "      <th>5042</th>\n",
       "      <td>AmazonBasics AAA Performance Alkaline Batterie...</td>\n",
       "      <td>Health &amp; Beauty</td>\n",
       "      <td>5</td>\n",
       "      <td>These batteries are great and affordable! High...</td>\n",
       "      <td>Great batteries at a great price!</td>\n",
       "    </tr>\n",
       "    <tr>\n",
       "      <th>23280</th>\n",
       "      <td>Fire Kids Edition Tablet, 7 Display, Wi-Fi, 16...</td>\n",
       "      <td>Electronics</td>\n",
       "      <td>5</td>\n",
       "      <td>Bought for my son for Easter. He loves it and ...</td>\n",
       "      <td>Great for kids</td>\n",
       "    </tr>\n",
       "    <tr>\n",
       "      <th>5161</th>\n",
       "      <td>AmazonBasics AAA Performance Alkaline Batterie...</td>\n",
       "      <td>Health &amp; Beauty</td>\n",
       "      <td>5</td>\n",
       "      <td>Great batteries. They are highly comparable to...</td>\n",
       "      <td>Great batteries. They are highly comparable to...</td>\n",
       "    </tr>\n",
       "    <tr>\n",
       "      <th>13904</th>\n",
       "      <td>All-New Fire HD 8 Tablet, 8 HD Display, Wi-Fi,...</td>\n",
       "      <td>Electronics</td>\n",
       "      <td>4</td>\n",
       "      <td>Easy to use tablet. Price is pretty good. My m...</td>\n",
       "      <td>Easy to use</td>\n",
       "    </tr>\n",
       "  </tbody>\n",
       "</table>\n",
       "</div>"
      ],
      "text/plain": [
       "                                                    name primaryCategories  \\\n",
       "8537   AmazonBasics AA Performance Alkaline Batteries...   Health & Beauty   \n",
       "5042   AmazonBasics AAA Performance Alkaline Batterie...   Health & Beauty   \n",
       "23280  Fire Kids Edition Tablet, 7 Display, Wi-Fi, 16...       Electronics   \n",
       "5161   AmazonBasics AAA Performance Alkaline Batterie...   Health & Beauty   \n",
       "13904  All-New Fire HD 8 Tablet, 8 HD Display, Wi-Fi,...       Electronics   \n",
       "\n",
       "       reviews.rating                                       reviews.text  \\\n",
       "8537                1  These batteries are bad. In any device the las...   \n",
       "5042                5  These batteries are great and affordable! High...   \n",
       "23280               5  Bought for my son for Easter. He loves it and ...   \n",
       "5161                5  Great batteries. They are highly comparable to...   \n",
       "13904               4  Easy to use tablet. Price is pretty good. My m...   \n",
       "\n",
       "                                           reviews.title  \n",
       "8537                                Bad lot of batteries  \n",
       "5042                   Great batteries at a great price!  \n",
       "23280                                     Great for kids  \n",
       "5161   Great batteries. They are highly comparable to...  \n",
       "13904                                        Easy to use  "
      ]
     },
     "execution_count": 6,
     "metadata": {},
     "output_type": "execute_result"
    }
   ],
   "source": [
    "df.head()"
   ]
  },
  {
   "cell_type": "code",
   "execution_count": 7,
   "metadata": {},
   "outputs": [
    {
     "data": {
      "text/html": [
       "<div>\n",
       "<style scoped>\n",
       "    .dataframe tbody tr th:only-of-type {\n",
       "        vertical-align: middle;\n",
       "    }\n",
       "\n",
       "    .dataframe tbody tr th {\n",
       "        vertical-align: top;\n",
       "    }\n",
       "\n",
       "    .dataframe thead th {\n",
       "        text-align: right;\n",
       "    }\n",
       "</style>\n",
       "<table border=\"1\" class=\"dataframe\">\n",
       "  <thead>\n",
       "    <tr style=\"text-align: right;\">\n",
       "      <th></th>\n",
       "      <th>name</th>\n",
       "      <th>reviews.rating</th>\n",
       "      <th>reviews.text</th>\n",
       "    </tr>\n",
       "  </thead>\n",
       "  <tbody>\n",
       "    <tr>\n",
       "      <th>8537</th>\n",
       "      <td>AmazonBasics AA Performance Alkaline Batteries (48 Count) - Packaging May Vary</td>\n",
       "      <td>1</td>\n",
       "      <td>These batteries are bad. In any device the last only a very short time.</td>\n",
       "    </tr>\n",
       "    <tr>\n",
       "      <th>5042</th>\n",
       "      <td>AmazonBasics AAA Performance Alkaline Batteries (36 Count)</td>\n",
       "      <td>5</td>\n",
       "      <td>These batteries are great and affordable! Highly recommend!</td>\n",
       "    </tr>\n",
       "    <tr>\n",
       "      <th>23280</th>\n",
       "      <td>Fire Kids Edition Tablet, 7 Display, Wi-Fi, 16 GB, Blue Kid-Proof Case</td>\n",
       "      <td>5</td>\n",
       "      <td>Bought for my son for Easter. He loves it and easy for him to use. great for different apps for learning.</td>\n",
       "    </tr>\n",
       "    <tr>\n",
       "      <th>5161</th>\n",
       "      <td>AmazonBasics AAA Performance Alkaline Batteries (36 Count)</td>\n",
       "      <td>5</td>\n",
       "      <td>Great batteries. They are highly comparable to most top name brands out there. Recently I have only been buying AmazonBasics. They work just fine.</td>\n",
       "    </tr>\n",
       "    <tr>\n",
       "      <th>13904</th>\n",
       "      <td>All-New Fire HD 8 Tablet, 8 HD Display, Wi-Fi, 16 GB - Includes Special Offers, Black</td>\n",
       "      <td>4</td>\n",
       "      <td>Easy to use tablet. Price is pretty good. My mom loves it.</td>\n",
       "    </tr>\n",
       "    <tr>\n",
       "      <th>15383</th>\n",
       "      <td>Fire Kids Edition Tablet, 7 Display, Wi-Fi, 16 GB, Pink Kid-Proof Case</td>\n",
       "      <td>5</td>\n",
       "      <td>I purchased this for my youngest grandson, age 4 for christmas and he will be receiving it shortly. Games have been downloaded and it will be charged and ready to use when he opens his gift.</td>\n",
       "    </tr>\n",
       "    <tr>\n",
       "      <th>12204</th>\n",
       "      <td>Amazon 9W PowerFast Official OEM USB Charger and Power Adapter for Fire Tablets and Kindle eReaders</td>\n",
       "      <td>5</td>\n",
       "      <td>Replacement charger for my son's Kindle, works great, highly recommended.</td>\n",
       "    </tr>\n",
       "    <tr>\n",
       "      <th>26860</th>\n",
       "      <td>Fire HD 8 Tablet with Alexa, 8 HD Display, 16 GB, Tangerine - with Special Offers</td>\n",
       "      <td>4</td>\n",
       "      <td>I bought this for my dad in his late 60s mainly to listen to music and read ebooks borrowed from the library. I set it up for him and he loves it. I just don't like that it has ads on the start up unless you pay to get rid of them.</td>\n",
       "    </tr>\n",
       "    <tr>\n",
       "      <th>16779</th>\n",
       "      <td>All-New Fire HD 8 Tablet, 8 HD Display, Wi-Fi, 32 GB - Includes Special Offers, Magenta</td>\n",
       "      <td>5</td>\n",
       "      <td>Not only did my daughter in law love it I was able to experience convenience of having it shipped!</td>\n",
       "    </tr>\n",
       "    <tr>\n",
       "      <th>6941</th>\n",
       "      <td>AmazonBasics AAA Performance Alkaline Batteries (36 Count)</td>\n",
       "      <td>5</td>\n",
       "      <td>I am not a bettery expert nor an electrician. There are a few things that I consider when shopping for a battery - shelf life, price and brand. When you buy a brand product, you are most certainly guaranteed a good long lasting battery. Hence I always bought energizer or Duracell. Amazon is also a big brand so I decided to give it a try and to be honest with you it's a great battery. Price wise, it's cheaper than other name brands. One other andvreallyninportant factor is the shelf life. This battery has a shelf life of ten years, while a lot of batteries have 5 year shelf life. This is important for someone who uses batteries on a less frequent basis, such as for remote control. I started using batteries more frequently since I have a ton of baby toys now and a lot of them require batteries.One thought that came to mind while I was writing this review is that I just wanted to share a quick and easy way to check if battery is dead or not. All you need to do is hold the battery over flat surface (let's say kitchen countertop) at one or so inches high and drop it vertically on the flatter side. If it drops and falls over it is dead. If it falls and stays vertical it is still good to go. A friend of mine told me this trick and it totally works!</td>\n",
       "    </tr>\n",
       "  </tbody>\n",
       "</table>\n",
       "</div>"
      ],
      "text/plain": [
       "                                                                                                      name  \\\n",
       "8537                        AmazonBasics AA Performance Alkaline Batteries (48 Count) - Packaging May Vary   \n",
       "5042                                            AmazonBasics AAA Performance Alkaline Batteries (36 Count)   \n",
       "23280                               Fire Kids Edition Tablet, 7 Display, Wi-Fi, 16 GB, Blue Kid-Proof Case   \n",
       "5161                                            AmazonBasics AAA Performance Alkaline Batteries (36 Count)   \n",
       "13904                All-New Fire HD 8 Tablet, 8 HD Display, Wi-Fi, 16 GB - Includes Special Offers, Black   \n",
       "15383                               Fire Kids Edition Tablet, 7 Display, Wi-Fi, 16 GB, Pink Kid-Proof Case   \n",
       "12204  Amazon 9W PowerFast Official OEM USB Charger and Power Adapter for Fire Tablets and Kindle eReaders   \n",
       "26860                    Fire HD 8 Tablet with Alexa, 8 HD Display, 16 GB, Tangerine - with Special Offers   \n",
       "16779              All-New Fire HD 8 Tablet, 8 HD Display, Wi-Fi, 32 GB - Includes Special Offers, Magenta   \n",
       "6941                                            AmazonBasics AAA Performance Alkaline Batteries (36 Count)   \n",
       "\n",
       "       reviews.rating  \\\n",
       "8537                1   \n",
       "5042                5   \n",
       "23280               5   \n",
       "5161                5   \n",
       "13904               4   \n",
       "15383               5   \n",
       "12204               5   \n",
       "26860               4   \n",
       "16779               5   \n",
       "6941                5   \n",
       "\n",
       "                                                                                                                                                                                                                                                                                                                                                                                                                                                                                                                                                                                                                                                                                                                                                                                                                                                                                                                                                                                                                                                                                                                                                                                                                                                                                                        reviews.text  \n",
       "8537                                                                                                                                                                                                                                                                                                                                                                                                                                                                                                                                                                                                                                                                                                                                                                                                                                                                                                                                                                                                                                                                                                                                                                                                                                         These batteries are bad. In any device the last only a very short time.  \n",
       "5042                                                                                                                                                                                                                                                                                                                                                                                                                                                                                                                                                                                                                                                                                                                                                                                                                                                                                                                                                                                                                                                                                                                                                                                                                                                     These batteries are great and affordable! Highly recommend!  \n",
       "23280                                                                                                                                                                                                                                                                                                                                                                                                                                                                                                                                                                                                                                                                                                                                                                                                                                                                                                                                                                                                                                                                                                                                                                                                      Bought for my son for Easter. He loves it and easy for him to use. great for different apps for learning.  \n",
       "5161                                                                                                                                                                                                                                                                                                                                                                                                                                                                                                                                                                                                                                                                                                                                                                                                                                                                                                                                                                                                                                                                                                                                                              Great batteries. They are highly comparable to most top name brands out there. Recently I have only been buying AmazonBasics. They work just fine.  \n",
       "13904                                                                                                                                                                                                                                                                                                                                                                                                                                                                                                                                                                                                                                                                                                                                                                                                                                                                                                                                                                                                                                                                                                                                                                                                                                                     Easy to use tablet. Price is pretty good. My mom loves it.  \n",
       "15383                                                                                                                                                                                                                                                                                                                                                                                                                                                                                                                                                                                                                                                                                                                                                                                                                                                                                                                                                                                                                                                                                                                 I purchased this for my youngest grandson, age 4 for christmas and he will be receiving it shortly. Games have been downloaded and it will be charged and ready to use when he opens his gift.  \n",
       "12204                                                                                                                                                                                                                                                                                                                                                                                                                                                                                                                                                                                                                                                                                                                                                                                                                                                                                                                                                                                                                                                                                                                                                                                                                                      Replacement charger for my son's Kindle, works great, highly recommended.  \n",
       "26860                                                                                                                                                                                                                                                                                                                                                                                                                                                                                                                                                                                                                                                                                                                                                                                                                                                                                                                                                                                                                                                                        I bought this for my dad in his late 60s mainly to listen to music and read ebooks borrowed from the library. I set it up for him and he loves it. I just don't like that it has ads on the start up unless you pay to get rid of them.  \n",
       "16779                                                                                                                                                                                                                                                                                                                                                                                                                                                                                                                                                                                                                                                                                                                                                                                                                                                                                                                                                                                                                                                                                                                                                                                                             Not only did my daughter in law love it I was able to experience convenience of having it shipped!  \n",
       "6941   I am not a bettery expert nor an electrician. There are a few things that I consider when shopping for a battery - shelf life, price and brand. When you buy a brand product, you are most certainly guaranteed a good long lasting battery. Hence I always bought energizer or Duracell. Amazon is also a big brand so I decided to give it a try and to be honest with you it's a great battery. Price wise, it's cheaper than other name brands. One other andvreallyninportant factor is the shelf life. This battery has a shelf life of ten years, while a lot of batteries have 5 year shelf life. This is important for someone who uses batteries on a less frequent basis, such as for remote control. I started using batteries more frequently since I have a ton of baby toys now and a lot of them require batteries.One thought that came to mind while I was writing this review is that I just wanted to share a quick and easy way to check if battery is dead or not. All you need to do is hold the battery over flat surface (let's say kitchen countertop) at one or so inches high and drop it vertically on the flatter side. If it drops and falls over it is dead. If it falls and stays vertical it is still good to go. A friend of mine told me this trick and it totally works!  "
      ]
     },
     "execution_count": 7,
     "metadata": {},
     "output_type": "execute_result"
    }
   ],
   "source": [
    "pd.set_option('display.max_colwidth', None)\n",
    "df[['name', 'reviews.rating', 'reviews.text']].head(10)"
   ]
  },
  {
   "cell_type": "markdown",
   "metadata": {},
   "source": [
    "# Tokenization"
   ]
  },
  {
   "cell_type": "code",
   "execution_count": 8,
   "metadata": {},
   "outputs": [],
   "source": [
    "import spacy\n",
    "\n",
    "nlp = spacy.load(\"en_core_web_lg\")"
   ]
  },
  {
   "cell_type": "code",
   "execution_count": 9,
   "metadata": {},
   "outputs": [],
   "source": [
    "# Using Lemmas as tokens\n",
    "\n",
    "tokens = []\n",
    "\n",
    "for doc in nlp.pipe(df['reviews.text']):\n",
    "    \n",
    "    doc_tokens = []\n",
    "    \n",
    "    for token in doc:\n",
    "        if ((token.is_stop != True) and (token.pos_ != \"PRON\")) and (token.is_punct != True):\n",
    "            doc_tokens.append(token.lemma_.strip())\n",
    "            \n",
    "    tokens.append(doc_tokens)"
   ]
  },
  {
   "cell_type": "code",
   "execution_count": 10,
   "metadata": {},
   "outputs": [
    {
     "data": {
      "text/plain": [
       "True"
      ]
     },
     "execution_count": 10,
     "metadata": {},
     "output_type": "execute_result"
    }
   ],
   "source": [
    "len(tokens) == df.shape[0]"
   ]
  },
  {
   "cell_type": "code",
   "execution_count": 11,
   "metadata": {},
   "outputs": [
    {
     "data": {
      "text/plain": [
       "['battery', 'bad', 'device', 'short', 'time']"
      ]
     },
     "execution_count": 11,
     "metadata": {},
     "output_type": "execute_result"
    }
   ],
   "source": [
    "tokens[0]"
   ]
  },
  {
   "cell_type": "markdown",
   "metadata": {},
   "source": [
    "# Gensim LDA Topic Modeling"
   ]
  },
  {
   "cell_type": "code",
   "execution_count": 12,
   "metadata": {},
   "outputs": [],
   "source": [
    "import gensim\n",
    "\n",
    "from gensim import corpora\n",
    "from gensim.models.ldamulticore import LdaMulticore"
   ]
  },
  {
   "cell_type": "code",
   "execution_count": 13,
   "metadata": {},
   "outputs": [],
   "source": [
    "id2word = corpora.Dictionary(tokens) # A list of list of tokens"
   ]
  },
  {
   "cell_type": "code",
   "execution_count": 15,
   "metadata": {},
   "outputs": [
    {
     "data": {
      "text/plain": [
       "6358"
      ]
     },
     "execution_count": 15,
     "metadata": {},
     "output_type": "execute_result"
    }
   ],
   "source": [
    "len(id2word.keys())"
   ]
  },
  {
   "cell_type": "code",
   "execution_count": 16,
   "metadata": {},
   "outputs": [],
   "source": [
    "id2word.filter_extremes(no_below=5, no_above=.95)"
   ]
  },
  {
   "cell_type": "code",
   "execution_count": 17,
   "metadata": {},
   "outputs": [
    {
     "data": {
      "text/plain": [
       "1764"
      ]
     },
     "execution_count": 17,
     "metadata": {},
     "output_type": "execute_result"
    }
   ],
   "source": [
    "len(id2word.keys())"
   ]
  },
  {
   "cell_type": "code",
   "execution_count": 18,
   "metadata": {},
   "outputs": [],
   "source": [
    "corpora = [id2word.doc2bow(doc) for doc in tokens]"
   ]
  },
  {
   "cell_type": "code",
   "execution_count": 19,
   "metadata": {},
   "outputs": [
    {
     "data": {
      "text/plain": [
       "[(16, 1),\n",
       " (28, 1),\n",
       " (29, 1),\n",
       " (30, 1),\n",
       " (31, 1),\n",
       " (32, 1),\n",
       " (33, 1),\n",
       " (34, 1),\n",
       " (35, 1),\n",
       " (36, 1),\n",
       " (37, 1),\n",
       " (38, 1),\n",
       " (39, 1),\n",
       " (40, 1),\n",
       " (41, 1)]"
      ]
     },
     "execution_count": 19,
     "metadata": {},
     "output_type": "execute_result"
    }
   ],
   "source": [
    "corpora[5]"
   ]
  },
  {
   "cell_type": "code",
   "execution_count": 20,
   "metadata": {},
   "outputs": [],
   "source": [
    "lda = LdaMulticore(corpus=corpora,\n",
    "                  id2word=id2word,\n",
    "                  num_topics=15,\n",
    "                  passes=50)"
   ]
  },
  {
   "cell_type": "code",
   "execution_count": 21,
   "metadata": {},
   "outputs": [
    {
     "data": {
      "text/plain": [
       "[(0,\n",
       "  '0.057*\"light\" + 0.053*\"read\" + 0.039*\"money\" + 0.033*\"kindle\" + 0.032*\"love\" + 0.030*\"amazon\" + 0.028*\"buy\" + 0.021*\"worth\" + 0.018*\"spend\" + 0.016*\"book\"'),\n",
       " (1,\n",
       "  '0.080*\"game\" + 0.060*\"app\" + 0.059*\"play\" + 0.052*\"tablet\" + 0.032*\"kid\" + 0.027*\"download\" + 0.027*\"watch\" + 0.023*\"great\" + 0.022*\"video\" + 0.022*\"love\"'),\n",
       " (2,\n",
       "  '0.109*\"tablet\" + 0.030*\"Amazon\" + 0.022*\"nice\" + 0.020*\"iPad\" + 0.018*\"fire\" + 0.016*\"Fire\" + 0.015*\"work\" + 0.013*\"price\" + 0.013*\"well\" + 0.012*\"kid\"'),\n",
       " (3,\n",
       "  '0.077*\"easy\" + 0.077*\"use\" + 0.053*\"read\" + 0.051*\"book\" + 0.026*\"tablet\" + 0.024*\"love\" + 0.022*\"great\" + 0.021*\"size\" + 0.017*\"screen\" + 0.016*\"Kindle\"'),\n",
       " (4,\n",
       "  '0.267*\"great\" + 0.143*\"work\" + 0.120*\"price\" + 0.054*\"product\" + 0.044*\"battery\" + 0.025*\"excellent\" + 0.025*\"buy\" + 0.025*\"value\" + 0.023*\"recommend\" + 0.022*\"good\"'),\n",
       " (5,\n",
       "  '0.064*\"need\" + 0.060*\"purchase\" + 0.047*\"perfect\" + 0.043*\"gift\" + 0.040*\"thank\" + 0.038*\"happy\" + 0.031*\"ok\" + 0.028*\"item\" + 0.026*\"give\" + 0.025*\"product\"'),\n",
       " (6,\n",
       "  '0.033*\"like\" + 0.025*\"Kindle\" + 0.024*\"reader\" + 0.019*\"screen\" + 0.017*\"device\" + 0.015*\"hold\" + 0.015*\"button\" + 0.015*\"page\" + 0.014*\"turn\" + 0.013*\"hand\"'),\n",
       " (7,\n",
       "  '0.111*\"battery\" + 0.023*\"work\" + 0.019*\"buy\" + 0.018*\"use\" + 0.017*\"week\" + 0.017*\"Duracell\" + 0.015*\"remote\" + 0.013*\"brand\" + 0.012*\"longer\" + 0.011*\"month\"'),\n",
       " (8,\n",
       "  '0.265*\"good\" + 0.091*\"price\" + 0.057*\"battery\" + 0.041*\"deal\" + 0.033*\"quality\" + 0.025*\"value\" + 0.022*\"far\" + 0.021*\"buy\" + 0.018*\"product\" + 0.016*\"beat\"'),\n",
       " (9,\n",
       "  '0.102*\"battery\" + 0.033*\"Amazon\" + 0.026*\"brand\" + 0.021*\"buy\" + 0.016*\"box\" + 0.015*\"come\" + 0.015*\"order\" + 0.014*\"store\" + 0.013*\"package\" + 0.012*\"like\"'),\n",
       " (10,\n",
       "  '0.176*\"long\" + 0.123*\"battery\" + 0.062*\"time\" + 0.045*\"brand\" + 0.040*\"great\" + 0.033*\"last\" + 0.024*\"life\" + 0.022*\"toy\" + 0.017*\"controller\" + 0.017*\"cheap\"'),\n",
       " (11,\n",
       "  '0.023*\"Amazon\" + 0.023*\"tablet\" + 0.019*\"sound\" + 0.017*\"screen\" + 0.016*\"good\" + 0.014*\"music\" + 0.014*\"great\" + 0.013*\"Alexa\" + 0.013*\"device\" + 0.013*\"app\"'),\n",
       " (12,\n",
       "  '0.102*\"love\" + 0.061*\"buy\" + 0.039*\"tablet\" + 0.033*\"Kindle\" + 0.033*\"get\" + 0.025*\"gift\" + 0.023*\"Fire\" + 0.023*\"great\" + 0.022*\"Christmas\" + 0.018*\"new\"'),\n",
       " (13,\n",
       "  '0.066*\"kid\" + 0.061*\"tablet\" + 0.043*\"love\" + 0.034*\"easy\" + 0.033*\"use\" + 0.029*\"child\" + 0.027*\"great\" + 0.024*\"set\" + 0.022*\"control\" + 0.021*\"case\"'),\n",
       " (14,\n",
       "  '0.108*\"year\" + 0.107*\"old\" + 0.057*\"love\" + 0.033*\"buy\" + 0.030*\"3\" + 0.026*\"kindle\" + 0.023*\"2\" + 0.021*\"4\" + 0.017*\"charge\" + 0.015*\"tablet\"')]"
      ]
     },
     "execution_count": 21,
     "metadata": {},
     "output_type": "execute_result"
    }
   ],
   "source": [
    "lda.print_topics()"
   ]
  },
  {
   "cell_type": "code",
   "execution_count": 22,
   "metadata": {},
   "outputs": [],
   "source": [
    "import re\n",
    "words = [re.findall('\"([^\"]*)\"', t[1]) for t in lda.print_topics()]"
   ]
  },
  {
   "cell_type": "code",
   "execution_count": 23,
   "metadata": {},
   "outputs": [
    {
     "data": {
      "text/plain": [
       "[['light',\n",
       "  'read',\n",
       "  'money',\n",
       "  'kindle',\n",
       "  'love',\n",
       "  'amazon',\n",
       "  'buy',\n",
       "  'worth',\n",
       "  'spend',\n",
       "  'book'],\n",
       " ['game',\n",
       "  'app',\n",
       "  'play',\n",
       "  'tablet',\n",
       "  'kid',\n",
       "  'download',\n",
       "  'watch',\n",
       "  'great',\n",
       "  'video',\n",
       "  'love']]"
      ]
     },
     "execution_count": 23,
     "metadata": {},
     "output_type": "execute_result"
    }
   ],
   "source": [
    "words[:2]"
   ]
  },
  {
   "cell_type": "code",
   "execution_count": 24,
   "metadata": {},
   "outputs": [],
   "source": [
    "topics = [' '.join(t[0:5]) for t in words]"
   ]
  },
  {
   "cell_type": "code",
   "execution_count": 25,
   "metadata": {},
   "outputs": [
    {
     "name": "stdout",
     "output_type": "stream",
     "text": [
      "----- Topic 0 -----\n",
      "light read money kindle love\n",
      "\n",
      "----- Topic 1 -----\n",
      "game app play tablet kid\n",
      "\n",
      "----- Topic 2 -----\n",
      "tablet Amazon nice iPad fire\n",
      "\n",
      "----- Topic 3 -----\n",
      "easy use read book tablet\n",
      "\n",
      "----- Topic 4 -----\n",
      "great work price product battery\n",
      "\n",
      "----- Topic 5 -----\n",
      "need purchase perfect gift thank\n",
      "\n",
      "----- Topic 6 -----\n",
      "like Kindle reader screen device\n",
      "\n",
      "----- Topic 7 -----\n",
      "battery work buy use week\n",
      "\n",
      "----- Topic 8 -----\n",
      "good price battery deal quality\n",
      "\n",
      "----- Topic 9 -----\n",
      "battery Amazon brand buy box\n",
      "\n",
      "----- Topic 10 -----\n",
      "long battery time brand great\n",
      "\n",
      "----- Topic 11 -----\n",
      "Amazon tablet sound screen good\n",
      "\n",
      "----- Topic 12 -----\n",
      "love buy tablet Kindle get\n",
      "\n",
      "----- Topic 13 -----\n",
      "kid tablet love easy use\n",
      "\n",
      "----- Topic 14 -----\n",
      "year old love buy 3\n",
      "\n"
     ]
    }
   ],
   "source": [
    "for id, t in enumerate(topics):\n",
    "    print(f\"----- Topic {id} -----\")\n",
    "    print(t, end=\"\\n\\n\")"
   ]
  },
  {
   "cell_type": "markdown",
   "metadata": {},
   "source": [
    "# Interpret LDA Results"
   ]
  },
  {
   "cell_type": "code",
   "execution_count": 26,
   "metadata": {},
   "outputs": [],
   "source": [
    "# Topic Distance Visualization\n",
    "\"\"\"\n",
    "Tells us if the topics are distinct, and what terms are most important to the topic distribution.\n",
    "\"\"\"\n",
    "\n",
    "import pyLDAvis.gensim\n",
    "\n",
    "pyLDAvis.enable_notebook()"
   ]
  },
  {
   "cell_type": "code",
   "execution_count": 82,
   "metadata": {},
   "outputs": [
    {
     "data": {
      "text/html": [
       "\n",
       "<link rel=\"stylesheet\" type=\"text/css\" href=\"https://cdn.rawgit.com/bmabey/pyLDAvis/files/ldavis.v1.0.0.css\">\n",
       "\n",
       "\n",
       "<div id=\"ldavis_el620166361501208298899639\"></div>\n",
       "<script type=\"text/javascript\">\n",
       "\n",
       "var ldavis_el620166361501208298899639_data = {\"mdsDat\": {\"x\": [-0.20828107566635826, 0.18422225138546136, 0.09667145089614948, 0.16163102842208968, -0.0957755110077802, 0.17062115018166796, 0.13455922598700143, -0.2459391349191758, 0.1581001700364133, -0.21932875629525156, 0.03148333525248439, 0.046901219451737385, -0.02715958087124999, -0.14284346704369624, -0.04486230580949291], \"y\": [0.12009588817898767, -0.12464974590109225, 0.049978446853129285, -0.12431373115615367, 0.24515445677205455, 0.024125770165217508, -0.11550160600994068, -0.06579793044487926, 0.006036499108068859, -0.26323263599437036, 0.08258813842080812, 0.160243015054946, 0.009491690557170451, -0.13497819988939508, 0.13075994428544885], \"topics\": [1, 2, 3, 4, 5, 6, 7, 8, 9, 10, 11, 12, 13, 14, 15], \"cluster\": [1, 1, 1, 1, 1, 1, 1, 1, 1, 1, 1, 1, 1, 1, 1], \"Freq\": [14.929305076599121, 8.774385452270508, 7.618729591369629, 7.253582000732422, 7.0099406242370605, 6.970577716827393, 6.28069543838501, 5.895719528198242, 5.885820388793945, 5.7509613037109375, 5.448372840881348, 5.237620830535889, 4.955623626708984, 4.323171615600586, 3.665494918823242]}, \"tinfo\": {\"Term\": [\"great\", \"battery\", \"good\", \"easy\", \"price\", \"love\", \"work\", \"kid\", \"old\", \"buy\", \"year\", \"use\", \"brand\", \"product\", \"tablet\", \"game\", \"gift\", \"Kindle\", \"quality\", \"value\", \"long\", \"Fire\", \"book\", \"read\", \"money\", \"kindle\", \"light\", \"play\", \"app\", \"Amazon\", \"brand\", \"Basics\", \"duracell\", \"cardboard\", \"Costco\", \"name\", \"wrap\", \"toy\", \"span\", \"energizer\", \"supply\", \"comparison\", \"Basic\", \"lasting\", \"comparable\", \"drawer\", \"shrink\", \"saver\", \"mark\", \"competitor\", \"bulk\", \"cent\", \"discharge\", \"AmazonBasics\", \"lifespan\", \"shelf\", \"label\", \"grocery\", \"packaging\", \"competition\", \"AA\", \"rechargeable\", \"battery\", \"long\", \"AAA\", \"cheap\", \"package\", \"pack\", \"last\", \"Duracell\", \"longer\", \"box\", \"alkaline\", \"life\", \"difference\", \"one\", \"cost\", \"work\", \"store\", \"expensive\", \"price\", \"Amazon\", \"buy\", \"like\", \"well\", \"time\", \"come\", \"lot\", \"good\", \"need\", \"great\", \"purchase\", \"quality\", \"use\", \"kid\", \"parental\", \"young\", \"protect\", \"Kids\", \"Edition\", \"occupy\", \"cartoon\", \"friendly\", \"entertain\", \"interested\", \"rubber\", \"maneuver\", \"prevent\", \"adult\", \"Nabi\", \"reach\", \"proof\", \"Freetime\", \"rugged\", \"password\", \"user\", \"educational\", \"protection\", \"foam\", \"beating\", \"profile\", \"guard\", \"frustrate\", \"church\", \"child\", \"appropriate\", \"learning\", \"safe\", \"protective\", \"parent\", \"control\", \"bonus\", \"limit\", \"grand\", \"bumper\", \"age\", \"case\", \"app\", \"keep\", \"warranty\", \"tablet\", \"durable\", \"content\", \"daughter\", \"game\", \"set\", \"play\", \"love\", \"great\", \"free\", \"time\", \"son\", \"learn\", \"come\", \"lot\", \"use\", \"like\", \"enjoy\", \"little\", \"perfect\", \"get\", \"HD\", \"ad\", \"HD8\", \"Play\", \"GB\", \"Fire\", \"browser\", \"format\", \"Galaxy\", \"model\", \"Samsung\", \"complicated\", \"friday\", \"thousand\", \"rid\", \"strain\", \"advertisement\", \"substitute\", \"sufficient\", \"vacation\", \"60\", \"App\", \"padded\", \"samsung\", \"$\", \"crystal\", \"joy\", \"recognize\", \"audible\", \"mini\", \"improvement\", \"previous\", \"Android\", \"inch\", \"Apple\", \"Kindle\", \"black\", \"Store\", \"android\", \"install\", \"version\", \"16\", \"book\", \"e\", \"reader\", \"Nook\", \"limited\", \"library\", \"Amazon\", \"read\", \"screen\", \"8\", \"store\", \"tablet\", \"well\", \"app\", \"iPad\", \"like\", \"want\", \"new\", \"fire\", \"purchase\", \"look\", \"get\", \"buy\", \"device\", \"movie\", \"prime\", \"surf\", \"playing\", \"watch\", \"block\", \"christmas\", \"netflix\", \"win\", \"entertainment\", \"stream\", \"mail\", \"serve\", \"show\", \"entertaining\", \"processing\", \"offline\", \"tube\", \"education\", \"net\", \"vehicle\", \"wonder\", \"website\", \"internet\", \"Netflix\", \"visit\", \"explore\", \"tend\", \"web\", \"browsing\", \"video\", \"purpose\", \"game\", \"member\", \"link\", \"play\", \"present\", \"email\", \"Prime\", \"download\", \"favorite\", \"book\", \"amazon\", \"enjoy\", \"read\", \"school\", \"tablet\", \"music\", \"reading\", \"access\", \"app\", \"use\", \"great\", \"perfect\", \"able\", \"love\", \"look\", \"buy\", \"need\", \"son\", \"Amazon\", \"want\", \"mouse\", \"batch\", \"candle\", \"junk\", \"40\", \"detector\", \"18\", \"basics\", \"volt\", \"silver\", \"sorry\", \"today\", \"Fi\", \"Wi\", \"outlast\", \"shot\", \"shipment\", \"headphone\", \"installation\", \"keypad\", \"clock\", \"tester\", \"meter\", \"yeah\", \"Duracells\", \"superior\", \"expiration\", \"dim\", \"Video\", \"Duracel\", \"week\", \"flashlight\", \"dead\", \"nearly\", \"month\", \"remote\", \"bad\", \"lead\", \"day\", \"receive\", \"disappointed\", \"weather\", \"20\", \"maybe\", \"led\", \"hour\", \"order\", \"tv\", \"wireless\", \"die\", \"change\", \"battery\", \"3\", \"2\", \"short\", \"replace\", \"try\", \"review\", \"use\", \"4\", \"Amazon\", \"time\", \"work\", \"light\", \"new\", \"last\", \"purchase\", \"thing\", \"like\", \"long\", \"yr\", \"old\", \"boy\", \"membership\", \"unable\", \"year\", \"thrill\", \"introduce\", \"accidental\", \"1.5\", \"indestructible\", \"dirt\", \"hesitate\", \"specific\", \"knowledgeable\", \"rock\", \"kids\", \"kiddo\", \"locally\", \"grandkid\", \"Windows\", \"truly\", \"lol\", \"13\", \"Bought\", \"9\", \"guarantee\", \"Free\", \"break\", \"girl\", \"original\", \"7\", \"10\", \"3\", \"fire\", \"2\", \"4\", \"5\", \"son\", \"8\", \"6\", \"replace\", \"1\", \"road\", \"love\", \"hd\", \"drop\", \"kindle\", \"buy\", \"durable\", \"recommend\", \"tablet\", \"get\", \"warranty\", \"granddaughter\", \"purchase\", \"time\", \"perfect\", \"new\", \"easy\", \"restart\", \"exceed\", \"setup\", \"nook\", \"preschooler\", \"64\", \"def\", \"practical\", \"forth\", \"public\", \"sd\", \"lunch\", \"novice\", \"avid\", \"beginner\", \"modern\", \"map\", \"agree\", \"eBooks\", \"annoying\", \"obviously\", \"side\", \"ideal\", \"ease\", \"XBox\", \"filter\", \"class\", \"Facebook\", \"buffer\", \"navigate\", \"daily\", \"use\", \"fit\", \"wonderful\", \"travel\", \"card\", \"simple\", \"reader\", \"dad\", \"mainly\", \"function\", \"purse\", \"expectation\", \"everyday\", \"memory\", \"set\", \"tablet\", \"storage\", \"size\", \"love\", \"add\", \"convenient\", \"screen\", \"e\", \"great\", \"lot\", \"want\", \"perfect\", \"kindle\", \"app\", \"read\", \"nice\", \"feature\", \"find\", \"purchase\", \"new\", \"like\", \"need\", \"got\", \"fair\", \"pleasantly\", \"wi\", \"outstanding\", \"whistle\", \"bell\", \"fi\", \"concerned\", \"slippery\", \"compete\", \"resist\", \"suitable\", \"superb\", \"curious\", \"warm\", \"spec\", \"economical\", \"solid\", \"resolution\", \"Alkaline\", \"Batteries\", \"hardware\", \"powerful\", \"satisfied\", \"Air\", \"clarity\", \"r\", \"period\", \"cheapo\", \"quality\", \"decent\", \"good\", \"ok\", \"complain\", \"nice\", \"far\", \"surprised\", \"reasonable\", \"size\", \"graphic\", \"price\", \"right\", \"performance\", \"pretty\", \"display\", \"handle\", \"sale\", \"high\", \"consider\", \"screen\", \"tablet\", \"battery\", \"recommend\", \"product\", \"low\", \"color\", \"picture\", \"like\", \"feature\", \"long\", \"time\", \"worth\", \"purchase\", \"buy\", \"gift\", \"nephew\", \"sister\", \"law\", \"father\", \"niece\", \"grandchild\", \"teenager\", \"self\", \"bc\", \"seller\", \"Mother\", \"Christmas\", \"reccomend\", \"aunt\", \"reluctant\", \"grandfather\", \"cruise\", \"mother\", \"wife\", \"versatility\", \"mom\", \"AmazonBasic\", \"transfer\", \"absolutely\", \"Xmas\", \"husband\", \"Price\", \"friend\", \"cheaply\", \"savvy\", \"happy\", \"daughter\", \"love\", \"granddaughter\", \"glad\", \"tech\", \"purchase\", \"grandson\", \"buy\", \"computer\", \"get\", \"say\", \"give\", \"tablet\", \"learn\", \"family\", \"have\", \"use\", \"need\", \"product\", \"read\", \"time\", \"thing\", \"perfect\", \"like\", \"want\", \"Product\", \"value\", \"Great\", \"thanks\", \"associate\", \"student\", \"praise\", \"season\", \"silk\", \"deal\", \"functional\", \"broke\", \"affordable\", \"shipping\", \"portion\", \"invest\", \"encourage\", \"excellent\", \"pocket\", \"investment\", \"reasonably\", \"usb\", \"visual\", \"track\", \"task\", \"wake\", \"stylus\", \"laptop\", \"awesome\", \"backpack\", \"cable\", \"beat\", \"great\", \"highly\", \"price\", \"recommend\", \"product\", \"basic\", \"good\", \"amazing\", \"budget\", \"need\", \"fast\", \"wrong\", \"job\", \"Amazon\", \"tablet\", \"money\", \"work\", \"travel\", \"high\", \"little\", \"look\", \"cheap\", \"speaker\", \"Alexa\", \"Echo\", \"tap\", \"portable\", \"Tap\", \"Bluetooth\", \"voice\", \"command\", \"echo\", \"activate\", \"surfing\", \"selection\", \"social\", \"till\", \"sensitive\", \"speak\", \"Dot\", \"magazine\", \"press\", \"sync\", \"dot\", \"request\", \"stereo\", \"outlet\", \"seven\", \"living\", \"operating\", \"tie\", \"relative\", \"sound\", \"responsive\", \"listen\", \"push\", \"connect\", \"answer\", \"respond\", \"music\", \"smart\", \"device\", \"search\", \"system\", \"touch\", \"button\", \"wifi\", \"better\", \"Google\", \"Amazon\", \"phone\", \"home\", \"like\", \"add\", \"account\", \"feature\", \"screen\", \"app\", \"want\", \"use\", \"small\", \"need\", \"play\", \"problem\", \"page\", \"Oasis\", \"paper\", \"voyage\", \"forward\", \"port\", \"accidentally\", \"adapter\", \"position\", \"hang\", \"comfortable\", \"operation\", \"weight\", \"sunlight\", \"edge\", \"oasis\", \"bezel\", \"turning\", \"cousin\", \"bed\", \"hey\", \"slide\", \"extend\", \"excelent\", \"cold\", \"7th\", \"bug\", \"adaptive\", \"board\", \"flip\", \"crisp\", \"adjust\", \"white\", \"charge\", \"lightweight\", \"compact\", \"turn\", \"light\", \"Voyage\", \"cover\", \"bag\", \"kindle\", \"small\", \"hold\", \"plug\", \"charger\", \"button\", \"meet\", \"design\", \"read\", \"Kindle\", \"hand\", \"screen\", \"new\", \"reading\", \"upgrade\", \"little\", \"case\", \"device\", \"life\", \"like\", \"need\", \"book\", \"love\", \"think\", \"want\", \"OS\", \"crack\", \"total\", \"direction\", \"expand\", \"intuitive\", \"restrict\", \"bunny\", \"interactive\", \"adequate\", \"tough\", \"angle\", \"background\", \"microphone\", \"aside\", \"utilize\", \"forever\", \"gigabyte\", \"shortly\", \"shoot\", \"despite\", \"camera\", \"promptly\", \"salesman\", \"ample\", \"enjoyment\", \"please\", \"logo\", \"willing\", \"sign\", \"sharp\", \"rating\", \"credit\", \"delivery\", \"star\", \"lack\", \"stand\", \"space\", \"usage\", \"certain\", \"run\", \"slow\", \"fast\", \"not\", \"quickly\", \"freeze\", \"understand\", \"gaming\", \"gb\", \"pretty\", \"give\", \"monitor\", \"basically\", \"overall\", \"complaint\", \"set\", \"time\", \"replacement\", \"good\", \"tablet\", \"store\", \"Google\", \"like\", \"day\", \"purchase\", \"app\", \"charge\", \"5\", \"free\", \"dollar\", \"product\", \"child\", \"need\", \"Amazon\", \"come\", \"describe\", \"advertise\", \"promise\", \"ereader\", \"jump\", \"touchscreen\", \"explain\", \"water\", \"b\", \"Geek\", \"Squad\", \"exactly\", \"advanced\", \"winner\", \"balance\", \"pass\", \"charm\", \"flimsy\", \"weird\", \"omg\", \"desire\", \"imo\", \"bedroom\", \"Keyboard\", \"seamless\", \"flush\", \"paperwhite\", \"leather\", \"certificate\", \"situation\", \"register\", \"arrive\", \"item\", \"product\", \"work\", \"expect\", \"thank\", \"experience\", \"Buy\", \"look\", \"great\", \"perfect\", \"area\", \"family\", \"perfectly\", \"shopping\", \"service\", \"issue\", \"review\", \"size\", \"recommend\", \"overall\", \"return\", \"online\", \"nice\", \"good\", \"like\", \"want\", \"get\", \"feature\", \"storage\", \"fine\", \"waste\", \"bang\", \"okay\", \"mic\", \"trail\", \"positive\", \"Black\", \"zero\", \"buck\", \"totally\", \"arrival\", \"alright\", \"occasionally\", \"construct\", \"grader\", \"target\", \"22\", \"pump\", \"refund\", \"acid\", \"cash\", \"compatible\", \"clunky\", \"blank\", \"abuse\", \"5th\", \"navigation\", \"yup\", \"teacher\", \"money\", \"spend\", \"15\", \"inexpensive\", \"save\", \"blow\", \"call\", \"guy\", \"single\", \"anymore\", \"homework\", \"pro\", \"fancy\", \"train\", \"buy\", \"Friday\", \"will\", \"48\", \"soon\", \"work\", \"reason\", \"think\", \"leak\", \"tell\", \"get\", \"sure\", \"need\", \"keep\", \"birthday\", \"perfectly\", \"hour\", \"die\", \"go\", \"quick\", \"8\", \"new\", \"happy\", \"little\", \"time\", \"use\"], \"Freq\": [3162.0, 3355.0, 2363.0, 1160.0, 1849.0, 2146.0, 1576.0, 977.0, 859.0, 1935.0, 822.0, 1687.0, 790.0, 802.0, 2509.0, 643.0, 391.0, 592.0, 515.0, 357.0, 927.0, 377.0, 632.0, 727.0, 293.0, 481.0, 375.0, 529.0, 775.0, 1093.0, 788.4053344726562, 64.59339904785156, 44.49312973022461, 31.8655948638916, 27.4905948638916, 23.469717025756836, 41.43363571166992, 144.92630004882812, 17.959644317626953, 64.83457946777344, 15.594021797180176, 15.233052253723145, 14.130096435546875, 54.645755767822266, 37.72496032714844, 12.852503776550293, 12.309857368469238, 12.306842803955078, 10.487401962280273, 10.299717903137207, 47.16617202758789, 10.110102653503418, 9.373459815979004, 105.3224868774414, 8.833216667175293, 30.716413497924805, 8.47812557220459, 9.633665084838867, 86.99832916259766, 8.096006393432617, 144.0966033935547, 49.608177185058594, 2633.0439453125, 747.4374389648438, 56.17615509033203, 262.65936279296875, 107.6921615600586, 117.64281463623047, 174.07354736328125, 122.20021057128906, 81.36505126953125, 127.00653076171875, 42.427574157714844, 209.2004852294922, 68.0362319946289, 89.8036117553711, 95.74748229980469, 450.7220153808594, 152.66085815429688, 92.37968444824219, 430.951904296875, 306.83148193359375, 367.2685546875, 215.43075561523438, 129.6463623046875, 191.76434326171875, 123.9909896850586, 129.2424774169922, 267.8057861328125, 139.47621154785156, 215.8192138671875, 132.62965393066406, 110.32713317871094, 101.25653839111328, 976.2691650390625, 149.38052368164062, 82.02987670898438, 39.8360710144043, 34.201786041259766, 21.07103157043457, 16.36540985107422, 15.443381309509277, 147.56394958496094, 49.375701904296875, 13.378658294677734, 10.95425796508789, 10.92553424835205, 10.002259254455566, 60.60349655151367, 8.503042221069336, 8.497355461120605, 20.12590789794922, 7.946797847747803, 7.74954080581665, 7.193413734436035, 120.90380859375, 74.28472900390625, 31.576013565063477, 6.441882133483887, 5.884905815124512, 42.71199035644531, 5.690110683441162, 5.6861371994018555, 5.496614456176758, 262.81378173828125, 36.268043518066406, 46.51995849609375, 31.19219970703125, 39.63450622558594, 60.11695861816406, 154.6312713623047, 18.33415412902832, 68.13316345214844, 39.36811447143555, 25.685527801513672, 71.51331329345703, 175.75119018554688, 290.0008239746094, 82.26468658447266, 60.067996978759766, 530.3327026367188, 61.71419143676758, 49.54997253417969, 125.73749542236328, 170.2298583984375, 113.20836639404297, 142.40789794921875, 310.212646484375, 373.6565856933594, 90.09455871582031, 159.30943298339844, 94.26210021972656, 68.53707122802734, 92.25109100341797, 94.79073333740234, 116.21343994140625, 97.3533706665039, 73.59403228759766, 74.35966491699219, 72.98560333251953, 71.02245330810547, 73.2508316040039, 66.82325744628906, 42.07706069946289, 34.86808776855469, 46.75376892089844, 360.0253601074219, 17.952795028686523, 17.754587173461914, 14.290509223937988, 71.51467895507812, 36.61276626586914, 11.98107624053955, 11.808865547180176, 10.638259887695312, 10.43795394897461, 10.062936782836914, 8.722029685974121, 7.938011169433594, 7.577261447906494, 14.36361312866211, 12.987152099609375, 12.621335983276367, 6.035935878753662, 12.01226806640625, 127.87586975097656, 5.836575984954834, 5.6353068351745605, 5.635231971740723, 11.433295249938965, 25.147491455078125, 32.4398078918457, 61.20947265625, 50.787479400634766, 41.551292419433594, 39.753849029541016, 414.5902099609375, 48.16945266723633, 27.77246856689453, 39.437625885009766, 31.12664222717285, 74.75961303710938, 29.45113754272461, 248.12655639648438, 61.8930549621582, 92.28461456298828, 24.609893798828125, 31.48349380493164, 30.640392303466797, 251.07339477539062, 180.6814727783203, 156.0357208251953, 87.75794219970703, 98.6521224975586, 292.1489562988281, 99.9417495727539, 143.01036071777344, 63.714599609375, 153.75828552246094, 91.14341735839844, 81.05489349365234, 81.14910125732422, 85.80225372314453, 62.07306671142578, 64.0498046875, 70.79246520996094, 55.50697326660156, 224.76820373535156, 64.1192626953125, 50.06941604614258, 35.03360366821289, 285.9392395019531, 16.152685165405273, 15.035255432128906, 12.700708389282227, 11.73762035369873, 30.67158317565918, 42.3539924621582, 16.878786087036133, 21.700918197631836, 105.46359252929688, 7.246784210205078, 7.071486473083496, 7.0442914962768555, 6.093895435333252, 6.0934672355651855, 5.893010139465332, 5.69000768661499, 4.53593635559082, 7.982781887054443, 123.34212493896484, 72.11676025390625, 6.343512058258057, 7.649786949157715, 7.8726043701171875, 80.73225402832031, 18.770832061767578, 176.84878540039062, 45.36650466918945, 453.8260192871094, 42.023189544677734, 18.55269432067871, 295.9161376953125, 39.674110412597656, 49.87712097167969, 54.134395599365234, 144.250244140625, 50.9978141784668, 276.3138732910156, 116.63113403320312, 126.50930786132812, 250.93923950195312, 40.0929069519043, 475.4605407714844, 80.16851043701172, 68.43016815185547, 60.80441665649414, 158.33900451660156, 170.4822235107422, 205.9208526611328, 74.26515197753906, 58.89613723754883, 107.92898559570312, 65.71210479736328, 89.72032165527344, 69.63130187988281, 63.074737548828125, 71.21353149414062, 59.89046096801758, 71.61231231689453, 33.47339630126953, 34.084651947021484, 15.137758255004883, 14.71625804901123, 12.761112213134766, 12.377089500427246, 12.371949195861816, 12.178208351135254, 11.395927429199219, 10.232193946838379, 18.18394660949707, 9.439407348632812, 9.439407348632812, 9.245345115661621, 9.244733810424805, 8.082205772399902, 8.079773902893066, 7.874148368835449, 7.677518367767334, 42.005977630615234, 7.501071929931641, 7.297799587249756, 7.095312595367432, 16.502960205078125, 6.913247585296631, 11.864860534667969, 12.9241304397583, 6.712038993835449, 6.513824462890625, 113.8494644165039, 51.028018951416016, 52.965354919433594, 18.326555252075195, 150.16421508789062, 154.18785095214844, 105.3968276977539, 21.745296478271484, 155.4604949951172, 55.487552642822266, 28.636301040649414, 20.211271286010742, 29.95004653930664, 40.75246810913086, 22.949872970581055, 71.73253631591797, 92.6566162109375, 52.96982192993164, 31.73538589477539, 50.63212966918945, 59.76886749267578, 535.0139770507812, 91.2646255493164, 112.66275024414062, 40.67003631591797, 67.7979507446289, 60.574100494384766, 51.099395751953125, 197.41201782226562, 54.991275787353516, 107.83963012695312, 99.61380767822266, 120.96275329589844, 64.09288787841797, 63.033607482910156, 52.429786682128906, 69.92860412597656, 56.72632598876953, 66.6492919921875, 53.215660095214844, 84.41413116455078, 831.6010131835938, 31.732419967651367, 9.653202056884766, 9.29074764251709, 746.6893310546875, 8.534889221191406, 7.583621025085449, 6.83012056350708, 6.4666900634765625, 6.272823333740234, 6.0780744552612305, 6.071140289306641, 6.067866802215576, 5.712155818939209, 5.709359169006348, 5.151594638824463, 12.401456832885742, 4.3925018310546875, 53.96222686767578, 8.355794906616211, 11.405190467834473, 21.97037696838379, 9.359023094177246, 5.519138336181641, 44.26319122314453, 12.072132110595703, 6.079039096832275, 98.81912994384766, 19.176651000976562, 39.610145568847656, 86.08902740478516, 57.05802536010742, 147.81402587890625, 216.50051879882812, 184.32254028320312, 117.85163116455078, 91.79894256591797, 165.54922485351562, 110.55701446533203, 52.49799346923828, 93.18861389160156, 48.42034912109375, 16.028940200805664, 453.1379089355469, 40.36666488647461, 48.1399040222168, 121.25342559814453, 304.9786071777344, 45.51209259033203, 85.48114013671875, 235.19818115234375, 105.51849365234375, 37.50147247314453, 42.46540832519531, 80.73819732666016, 63.65280532836914, 49.152618408203125, 46.934471130371094, 1139.4713134765625, 15.978022575378418, 14.111854553222656, 47.25659942626953, 11.470818519592285, 8.10365104675293, 8.102713584899902, 7.7346649169921875, 7.18353271484375, 6.790277481079102, 5.876578330993652, 28.09432029724121, 5.48908805847168, 4.569337368011475, 19.024980545043945, 27.313112258911133, 4.360475540161133, 4.346109867095947, 3.812786340713501, 5.874976634979248, 22.73097801208496, 7.790594577789307, 5.6439127922058105, 4.367023944854736, 50.36222457885742, 3.617434024810791, 7.109353542327881, 16.395736694335938, 14.301368713378906, 6.719006538391113, 64.41679382324219, 26.371028900146484, 870.4190673828125, 62.47270965576172, 41.07809066772461, 67.5201644897461, 51.48440933227539, 43.46235275268555, 85.25788879394531, 15.209272384643555, 22.16034698486328, 31.981529235839844, 19.91619110107422, 18.032806396484375, 22.18389129638672, 42.20155715942383, 83.10646057128906, 286.1314697265625, 46.35224914550781, 86.56227111816406, 220.38023376464844, 40.712223052978516, 30.36067008972168, 93.63529968261719, 36.950401306152344, 214.7232208251953, 71.97852325439453, 63.47264099121094, 60.204952239990234, 62.70199966430664, 65.59876251220703, 59.816829681396484, 49.88340759277344, 42.92579650878906, 43.505916595458984, 52.337890625, 43.75899124145508, 44.399169921875, 43.79890441894531, 16.34705352783203, 14.155847549438477, 10.507661819458008, 8.850109100341797, 16.512535095214844, 8.092737197875977, 8.092737197875977, 6.835910320281982, 5.557086944580078, 5.365582466125488, 5.009015083312988, 5.0085248947143555, 4.818350315093994, 4.27446985244751, 4.273414134979248, 4.271062850952148, 11.485814094543457, 13.40948486328125, 27.880189895629883, 43.61902618408203, 20.568632125854492, 41.4643669128418, 5.343315124511719, 19.205289840698242, 46.919132232666016, 6.052373886108398, 18.492263793945312, 7.941313743591309, 9.406184196472168, 5.364745140075684, 354.95343017578125, 74.32002258300781, 1462.7418212890625, 84.74588775634766, 24.132795333862305, 243.46224975585938, 239.4871826171875, 30.88064956665039, 24.592323303222656, 176.66217041015625, 26.934885025024414, 597.9688110351562, 80.30082702636719, 59.37446975708008, 73.92240142822266, 37.69813919067383, 23.575138092041016, 38.95575714111328, 47.929500579833984, 19.751739501953125, 86.66876220703125, 161.4340362548828, 155.75665283203125, 57.235694885253906, 73.1043930053711, 39.087249755859375, 33.11966323852539, 33.474876403808594, 62.079627990722656, 41.655784606933594, 58.980892181396484, 55.212772369384766, 35.139862060546875, 43.37992858886719, 38.459022521972656, 390.5376892089844, 49.91057205200195, 37.15677261352539, 32.60560989379883, 19.997560501098633, 62.9532356262207, 33.897464752197266, 8.53195858001709, 8.318440437316895, 7.580077648162842, 7.5778489112854, 7.218379497528076, 244.06723022460938, 6.268650531768799, 5.70831823348999, 5.511829853057861, 5.150140762329102, 5.146755218505859, 43.4718132019043, 128.44677734375, 7.383412837982178, 68.71441650390625, 3.828005313873291, 11.999565124511719, 75.32561492919922, 11.084444999694824, 45.10856628417969, 8.165471076965332, 59.6028938293457, 4.198404788970947, 12.663071632385254, 193.80491638183594, 196.96728515625, 988.4645385742188, 78.91136169433594, 48.99055862426758, 23.879615783691406, 293.740478515625, 66.33638763427734, 476.360595703125, 35.077945709228516, 153.81735229492188, 42.91984176635742, 49.09799575805664, 213.93008422851562, 44.05615997314453, 27.878562927246094, 38.564186096191406, 102.68407440185547, 63.65841293334961, 61.27708053588867, 56.98849105834961, 56.916595458984375, 45.834781646728516, 46.728271484375, 51.26342010498047, 45.28141403198242, 9.825568199157715, 326.2937316894531, 24.82819366455078, 8.396469116210938, 7.83346700668335, 6.21516752243042, 5.306085109710693, 4.948596000671387, 4.758479595184326, 239.78375244140625, 17.22270965576172, 4.215679168701172, 64.9097671508789, 40.64196014404297, 6.214873790740967, 8.018487930297852, 5.844620227813721, 176.7753143310547, 18.90361785888672, 15.127114295959473, 12.188653945922852, 15.152073860168457, 7.618101119995117, 5.3041768074035645, 7.666106224060059, 5.445223808288574, 3.474525213241577, 49.870967864990234, 133.9784393310547, 14.549725532531738, 25.700960159301758, 100.68370056152344, 1615.7120361328125, 71.13062286376953, 779.9080810546875, 151.2030029296875, 185.0131378173828, 43.357200622558594, 288.62786865234375, 40.353790283203125, 14.175458908081055, 98.44281768798828, 51.26236343383789, 26.38331413269043, 24.415271759033203, 82.8095474243164, 121.91718292236328, 41.72251892089844, 49.592655181884766, 21.82196807861328, 21.6826229095459, 24.458093643188477, 23.882038116455078, 23.063371658325195, 123.9383316040039, 108.65126037597656, 87.58611297607422, 85.77851867675781, 81.12122344970703, 35.074344635009766, 33.29049301147461, 32.09653091430664, 28.763717651367188, 28.382797241210938, 17.773738861083984, 17.688274383544922, 16.19206428527832, 14.251043319702148, 13.983189582824707, 11.86937427520752, 11.691425323486328, 11.668323516845703, 29.50863265991211, 20.416324615478516, 10.493266105651855, 9.504684448242188, 8.513298034667969, 8.130436897277832, 7.925142288208008, 7.340364456176758, 7.1363396644592285, 15.601707458496094, 6.755341529846191, 6.550966739654541, 131.1352996826172, 20.807615280151367, 62.99164581298828, 13.938433647155762, 56.31715393066406, 13.230574607849121, 15.429459571838379, 103.42940521240234, 20.840457916259766, 193.7931671142578, 28.42453956604004, 35.67018127441406, 38.41887664794922, 50.90060043334961, 42.40801239013672, 54.33089828491211, 47.889347076416016, 189.3351287841797, 53.88505554199219, 45.905242919921875, 113.12956237792969, 40.9251708984375, 36.144344329833984, 54.075439453125, 60.26511001586914, 49.81480407714844, 42.07388687133789, 50.3165168762207, 38.649715423583984, 40.80944061279297, 37.408485412597656, 36.41973114013672, 118.45563507080078, 36.860782623291016, 29.55647850036621, 24.876935958862305, 19.350467681884766, 37.22897720336914, 15.407417297363281, 15.230581283569336, 11.084043502807617, 11.080536842346191, 27.12660789489746, 10.674809455871582, 78.81613159179688, 9.327942848205566, 8.921270370483398, 8.718225479125977, 8.71815013885498, 8.133338928222656, 7.538167476654053, 18.999818801879883, 6.755035400390625, 6.375494956970215, 5.968873023986816, 5.968520164489746, 5.963167667388916, 5.764026641845703, 5.761661052703857, 5.385071754455566, 5.178171157836914, 5.179703235626221, 16.806039810180664, 22.868738174438477, 29.038654327392578, 240.3054962158203, 52.647464752197266, 39.193214416503906, 111.7955093383789, 254.34365844726562, 46.815608978271484, 60.045711517333984, 22.830825805664062, 241.3374481201172, 127.60448455810547, 111.69537353515625, 39.13187026977539, 55.05689239501953, 57.596580505371094, 27.469696044921875, 30.66459846496582, 166.27920532226562, 135.6709442138672, 54.73572540283203, 111.88435363769531, 83.10640716552734, 52.488067626953125, 41.917869567871094, 69.35037231445312, 62.917152404785156, 71.40133666992188, 56.87553024291992, 73.80089569091797, 62.32711410522461, 59.83645248413086, 50.967124938964844, 41.508052825927734, 40.55288314819336, 21.466400146484375, 21.246044158935547, 18.254350662231445, 15.521190643310547, 12.875463485717773, 12.45927906036377, 10.675841331481934, 10.07995891571045, 9.458945274353027, 9.274813652038574, 16.459218978881836, 7.673736572265625, 7.672567844390869, 7.077456474304199, 6.27655029296875, 6.071988105773926, 11.949188232421875, 5.8630757331848145, 5.858698844909668, 5.860914707183838, 7.891087532043457, 139.38145446777344, 5.472486972808838, 5.267720699310303, 5.267178058624268, 5.265646457672119, 5.265293121337891, 5.259840488433838, 5.252811431884766, 9.443181037902832, 16.47757911682129, 15.481539726257324, 11.23631763458252, 25.565998077392578, 55.787498474121094, 24.028284072875977, 21.850645065307617, 50.38139343261719, 29.95438575744629, 21.55305290222168, 113.15476989746094, 65.0101089477539, 140.31283569335938, 73.90601348876953, 63.81776428222656, 23.52995491027832, 23.44766616821289, 22.295663833618164, 26.51827049255371, 76.2733383178711, 63.03554153442383, 17.481800079345703, 16.577068328857422, 49.30155563354492, 39.931663513183594, 78.755859375, 131.23887634277344, 32.39907455444336, 195.54196166992188, 180.07373046875, 66.19066619873047, 38.11079025268555, 89.0300064086914, 48.902225494384766, 71.85811614990234, 67.15208435058594, 46.940738677978516, 38.13355255126953, 41.4145393371582, 29.47002410888672, 45.60103988647461, 38.405147552490234, 42.95083236694336, 45.246665954589844, 37.597938537597656, 60.34809875488281, 56.36383056640625, 15.359237670898438, 9.493546485900879, 9.491935729980469, 9.127997398376465, 10.139979362487793, 9.113837242126465, 8.953814506530762, 7.603395938873291, 7.603395938873291, 65.54571533203125, 6.855280876159668, 6.48637580871582, 6.294435024261475, 16.15398406982422, 5.733687877655029, 5.366021633148193, 5.167988300323486, 4.974126815795898, 4.956349849700928, 5.096668243408203, 4.605963706970215, 4.590028762817383, 4.4079999923706055, 3.8479533195495605, 20.037229537963867, 4.408685207366943, 3.6332969665527344, 4.488409996032715, 6.617810249328613, 46.19076156616211, 128.3617401123047, 404.5026550292969, 709.2217407226562, 106.51277923583984, 54.55964279174805, 43.57321548461914, 31.563901901245117, 114.05060577392578, 514.0117797851562, 113.18907928466797, 17.333513259887695, 33.96922302246094, 31.325428009033203, 12.067594528198242, 28.51651382446289, 37.57990646362305, 30.86417007446289, 50.89152145385742, 52.13005447387695, 29.728134155273438, 23.464860916137695, 21.710966110229492, 36.866477966308594, 65.30287170410156, 42.21792221069336, 32.12571334838867, 35.07612991333008, 26.195884704589844, 23.351518630981445, 204.60076904296875, 39.482906341552734, 28.10458755493164, 25.6600399017334, 13.890305519104004, 13.68040657043457, 10.235761642456055, 33.132354736328125, 9.815496444702148, 43.63294982910156, 15.47917366027832, 7.545615196228027, 6.768341541290283, 6.766519069671631, 6.3732075691223145, 6.164884090423584, 5.952578067779541, 5.952469825744629, 11.315674781799316, 5.560823440551758, 5.559323310852051, 5.34954309463501, 5.348862171173096, 5.3482279777526855, 4.74537992477417, 4.741955757141113, 4.741519451141357, 4.7381744384765625, 4.141819477081299, 4.133939743041992, 237.3151092529297, 84.45768737792969, 21.239261627197266, 57.952735900878906, 59.66487121582031, 9.947588920593262, 18.481159210205078, 18.22748374938965, 12.418160438537598, 17.66287612915039, 8.357110023498535, 23.642179489135742, 13.996535301208496, 10.025729179382324, 404.0423278808594, 28.528644561767578, 47.2205696105957, 17.756820678710938, 18.623201370239258, 197.07064819335938, 28.668609619140625, 61.262359619140625, 26.245153427124023, 31.852766036987305, 73.90765380859375, 35.35612106323242, 67.65270233154297, 32.384761810302734, 24.109527587890625, 24.746475219726562, 29.15876007080078, 25.596837997436523, 33.18538284301758, 21.755191802978516, 27.085472106933594, 28.51666259765625, 27.68477439880371, 26.92140007019043, 27.141637802124023, 26.21722412109375], \"Total\": [3162.0, 3355.0, 2363.0, 1160.0, 1849.0, 2146.0, 1576.0, 977.0, 859.0, 1935.0, 822.0, 1687.0, 790.0, 802.0, 2509.0, 643.0, 391.0, 592.0, 515.0, 357.0, 927.0, 377.0, 632.0, 727.0, 293.0, 481.0, 375.0, 529.0, 775.0, 1093.0, 790.8624267578125, 65.52351379394531, 45.42326736450195, 32.79573059082031, 28.42072105407715, 24.399845123291016, 43.484291076660156, 152.4253692626953, 18.890178680419922, 68.41343688964844, 16.52414894104004, 16.169301986694336, 15.060225486755371, 58.361446380615234, 40.34404754638672, 13.782632827758789, 13.239986419677734, 13.23697280883789, 11.41814136505127, 11.229846954345703, 51.475833892822266, 11.040358543395996, 10.303589820861816, 115.97899627685547, 9.763345718383789, 33.95566940307617, 9.408254623413086, 10.695718765258789, 96.83614349365234, 9.026139259338379, 160.8566436767578, 55.36729049682617, 3355.291259765625, 927.7008056640625, 65.93089294433594, 352.0932922363281, 137.20907592773438, 151.595947265625, 236.8607177734375, 166.55409240722656, 106.9955825805664, 175.63446044921875, 52.042015075683594, 358.368896484375, 96.88044738769531, 144.3028106689453, 160.9486541748047, 1576.5345458984375, 344.9610900878906, 164.40127563476562, 1849.896240234375, 1093.493408203125, 1935.83203125, 1051.923828125, 383.0824890136719, 913.4501342773438, 379.5244445800781, 430.34405517578125, 2363.51904296875, 655.1287231445312, 3162.72607421875, 919.796630859375, 515.6373901367188, 1687.582275390625, 977.4103393554688, 150.46908569335938, 82.96600341796875, 40.777671813964844, 35.32012176513672, 21.999874114990234, 17.293895721435547, 16.371864318847656, 156.87367248535156, 52.718238830566406, 14.307144165039062, 11.882743835449219, 11.854137420654297, 10.930760383605957, 67.21341705322266, 9.431527137756348, 9.42584228515625, 22.47153663635254, 8.875283241271973, 8.67802619934082, 8.121899604797363, 136.6039276123047, 84.3130111694336, 36.070438385009766, 7.370368003845215, 6.813418865203857, 49.58161163330078, 6.618595600128174, 6.614624977111816, 6.4250993728637695, 314.410400390625, 42.6163444519043, 54.93376159667969, 37.304466247558594, 48.12445068359375, 74.4916000366211, 207.05227661132812, 21.926551818847656, 96.49420928955078, 52.41115188598633, 32.68955612182617, 107.63141632080078, 310.2607116699219, 775.4239501953125, 153.69171142578125, 104.94164276123047, 2509.59814453125, 119.11315155029297, 85.99372863769531, 346.2757873535156, 643.1858520507812, 334.76611328125, 529.568115234375, 2146.276123046875, 3162.72607421875, 252.2102813720703, 913.4501342773438, 356.6559143066406, 164.11500549316406, 379.5244445800781, 430.34405517578125, 1687.582275390625, 1051.923828125, 294.50604248046875, 359.9785461425781, 422.7344665527344, 664.4829711914062, 74.24186706542969, 67.75006866455078, 43.09009552001953, 35.801116943359375, 48.472129821777344, 377.4563903808594, 18.87984275817871, 18.68140411376953, 15.22317123413086, 76.29434967041016, 39.29415512084961, 12.90792465209961, 12.73568344116211, 11.565077781677246, 11.36484146118164, 10.992215156555176, 9.649206161499023, 8.874754905700684, 8.504079818725586, 16.235382080078125, 14.868417739868164, 14.46971607208252, 6.96275520324707, 13.896316528320312, 147.9779052734375, 6.763393878936768, 6.562125205993652, 6.562051296234131, 13.3141450881958, 29.45050621032715, 38.22426223754883, 73.06121826171875, 61.56438064575195, 50.703712463378906, 49.069976806640625, 592.1543579101562, 60.3066291809082, 35.530330657958984, 55.17116165161133, 41.92572784423828, 124.36067199707031, 40.213382720947266, 632.5089721679688, 108.9598159790039, 188.37664794921875, 33.45947265625, 47.07198715209961, 47.119136810302734, 1093.493408203125, 727.4458618164062, 583.8226318359375, 245.21688842773438, 344.9610900878906, 2509.59814453125, 383.0824890136719, 775.4239501953125, 171.2477264404297, 1051.923828125, 430.7154235839844, 383.38629150390625, 387.119384765625, 919.796630859375, 346.18292236328125, 664.4829711914062, 1935.83203125, 491.3648376464844, 225.6957550048828, 65.0454330444336, 51.10731887817383, 35.95979309082031, 296.1509094238281, 17.08971405029297, 15.961455345153809, 13.626888275146484, 12.67062759399414, 33.75017547607422, 46.621089935302734, 18.713321685791016, 24.249126434326172, 118.73600769042969, 8.172964096069336, 7.997666835784912, 7.971826076507568, 7.020074844360352, 7.019647121429443, 6.819191932678223, 6.616186618804932, 5.462116718292236, 9.734789848327637, 153.5743865966797, 90.23725891113281, 8.138646125793457, 9.88819694519043, 10.235315322875977, 105.14541625976562, 24.594345092773438, 232.8087158203125, 59.570281982421875, 643.1858520507812, 58.8465461730957, 24.476160049438477, 529.568115234375, 57.86652755737305, 76.19194793701172, 88.25357055664062, 281.228271484375, 83.18126678466797, 632.5089721679688, 236.29579162597656, 294.50604248046875, 727.4458618164062, 67.36998748779297, 2509.59814453125, 185.8955841064453, 165.20455932617188, 140.65744018554688, 775.4239501953125, 1687.582275390625, 3162.72607421875, 422.7344665527344, 201.59793090820312, 2146.276123046875, 346.18292236328125, 1935.83203125, 655.1287231445312, 356.6559143066406, 1093.493408203125, 430.7154235839844, 72.53912353515625, 34.39912796020508, 35.74052810668945, 16.0634822845459, 15.656601905822754, 13.686835289001465, 13.302821159362793, 13.301897048950195, 13.103931427001953, 12.321651458740234, 11.157917976379395, 19.940513610839844, 10.370126724243164, 10.370126724243164, 10.17106819152832, 10.17045783996582, 9.007946014404297, 9.005574226379395, 8.803010940551758, 8.60324478149414, 47.14546585083008, 8.426993370056152, 8.223523139953613, 8.021038055419922, 18.706541061401367, 7.839421272277832, 13.4547119140625, 14.673820495605469, 7.637771129608154, 7.439547061920166, 137.10476684570312, 61.88277053833008, 64.33470916748047, 21.637001037597656, 202.2765655517578, 208.60218811035156, 146.2647705078125, 26.50271987915039, 245.92372131347656, 81.30326843261719, 39.219276428222656, 26.024669647216797, 42.24457931518555, 62.18928527832031, 31.46554183959961, 141.95370483398438, 221.32577514648438, 101.95333862304688, 50.37063217163086, 97.58465576171875, 125.41011047363281, 3355.291259765625, 248.7508544921875, 345.1895751953125, 85.13046264648438, 212.63845825195312, 183.1934814453125, 136.60362243652344, 1687.582275390625, 215.66407775878906, 1093.493408203125, 913.4501342773438, 1576.5345458984375, 375.1761779785156, 383.38629150390625, 236.8607177734375, 919.796630859375, 356.4684753417969, 1051.923828125, 927.7008056640625, 85.34236907958984, 859.2810668945312, 34.360660552978516, 10.581426620483398, 10.218973159790039, 822.02734375, 9.46312141418457, 8.511853218078613, 7.75847864151001, 7.394914150238037, 7.201047420501709, 7.006298065185547, 6.999366283416748, 6.99609375, 6.640379428863525, 6.637582778930664, 6.079818248748779, 14.724430084228516, 5.3207268714904785, 66.13886260986328, 10.643182754516602, 14.63318157196045, 28.211570739746094, 12.022567749023438, 7.174718379974365, 58.77171325683594, 16.333972930908203, 8.279120445251465, 140.2962188720703, 27.380908966064453, 57.63051986694336, 135.9342803955078, 87.78028106689453, 248.7508544921875, 387.119384765625, 345.1895751953125, 215.66407775878906, 174.32777404785156, 356.6559143066406, 245.21688842773438, 103.07292175292969, 212.63845825195312, 94.80976867675781, 23.927764892578125, 2146.276123046875, 86.15508270263672, 119.7361068725586, 481.07708740234375, 1935.83203125, 119.11315155029297, 424.9647521972656, 2509.59814453125, 664.4829711914062, 104.94164276123047, 143.8289031982422, 919.796630859375, 913.4501342773438, 422.7344665527344, 383.38629150390625, 1160.6368408203125, 16.90660285949707, 15.040682792663574, 50.58319854736328, 12.39940071105957, 9.032232284545898, 9.031295776367188, 8.66368293762207, 8.112113952636719, 7.718862533569336, 6.805159568786621, 32.644798278808594, 6.4176716804504395, 5.497918128967285, 22.966567993164062, 33.0462532043457, 5.293940544128418, 5.301045894622803, 4.741368770599365, 7.5691914558410645, 29.477882385253906, 10.684469223022461, 7.768625736236572, 6.025580406188965, 70.41585540771484, 5.303142547607422, 10.576591491699219, 24.52669906616211, 21.575511932373047, 10.262544631958008, 102.68002319335938, 41.443424224853516, 1687.582275390625, 106.58112335205078, 67.77239990234375, 121.27644348144531, 96.300048828125, 82.3194808959961, 188.37664794921875, 23.63666343688965, 37.37752151489258, 60.712806701660156, 34.850067138671875, 31.237592697143555, 42.6085090637207, 113.27095031738281, 334.76611328125, 2509.59814453125, 140.16265869140625, 395.89508056640625, 2146.276123046875, 125.42513275146484, 74.74659729003906, 583.8226318359375, 108.9598159790039, 3162.72607421875, 430.34405517578125, 430.7154235839844, 422.7344665527344, 481.07708740234375, 775.4239501953125, 727.4458618164062, 443.6111145019531, 267.3762512207031, 290.0926208496094, 919.796630859375, 383.38629150390625, 1051.923828125, 655.1287231445312, 17.28679847717285, 15.085885047912598, 11.437674522399902, 9.780121803283691, 18.26724624633789, 9.047374725341797, 9.047374725341797, 7.765923500061035, 6.487099647521973, 6.295595169067383, 5.939027786254883, 5.938539981842041, 5.748363018035889, 5.204482555389404, 5.203427314758301, 5.201077461242676, 14.289291381835938, 16.682781219482422, 35.271461486816406, 55.23857116699219, 26.258434295654297, 53.927974700927734, 7.050161361694336, 25.47857666015625, 63.06013870239258, 8.405481338500977, 25.87477684020996, 11.182482719421387, 13.268744468688965, 7.636762619018555, 515.6373901367188, 107.89816284179688, 2363.51904296875, 127.6391372680664, 35.24306106567383, 443.6111145019531, 449.5982360839844, 48.36595153808594, 37.850013732910156, 395.89508056640625, 43.13459014892578, 1849.896240234375, 176.2589874267578, 131.1232147216797, 192.55697631835938, 77.00926208496094, 40.9050178527832, 97.30846405029297, 150.19122314453125, 34.30341339111328, 583.8226318359375, 2509.59814453125, 3355.291259765625, 424.9647521972656, 802.2147216796875, 178.4921875, 118.61662292480469, 126.19933319091797, 1051.923828125, 267.3762512207031, 927.7008056640625, 913.4501342773438, 160.54542541503906, 919.796630859375, 1935.83203125, 391.4661865234375, 50.83929443359375, 38.08506393432617, 33.53390884399414, 20.9258975982666, 66.85826110839844, 37.3846321105957, 9.46022891998291, 9.263646125793457, 8.508350372314453, 8.506119728088379, 8.146649360656738, 279.18096923828125, 7.196920394897461, 6.6365885734558105, 6.440100193023682, 6.0784101486206055, 6.075026988983154, 52.73086929321289, 156.6334228515625, 9.061017990112305, 84.57431030273438, 4.756276607513428, 15.016393661499023, 96.08403778076172, 14.254688262939453, 60.78466033935547, 11.105305671691895, 81.72838592529297, 5.8534770011901855, 17.68342399597168, 307.5390930175781, 346.2757873535156, 2146.276123046875, 143.8289031982422, 83.47093963623047, 36.178916931152344, 919.796630859375, 146.9489288330078, 1935.83203125, 69.3208236694336, 664.4829711914062, 114.60638427734375, 156.64031982421875, 2509.59814453125, 164.11500549316406, 87.95703125, 178.51458740234375, 1687.582275390625, 655.1287231445312, 802.2147216796875, 727.4458618164062, 913.4501342773438, 356.4684753417969, 422.7344665527344, 1051.923828125, 430.7154235839844, 10.756318092346191, 357.90777587890625, 27.236299514770508, 9.32721996307373, 8.764217376708984, 7.145917892456055, 6.236834526062012, 5.8793463706970215, 5.689230918884277, 287.32049560546875, 20.819507598876953, 5.1464314460754395, 80.75984954833984, 51.716156005859375, 7.921298980712891, 10.299847602844238, 7.546919345855713, 233.26991271972656, 25.21888542175293, 20.44807243347168, 16.71455192565918, 20.799497604370117, 10.556098937988281, 7.630032062530518, 11.226184844970703, 7.981300354003906, 5.179034233093262, 74.85808563232422, 203.3387451171875, 22.085206985473633, 40.1502571105957, 165.9962158203125, 3162.72607421875, 121.21498107910156, 1849.896240234375, 424.9647521972656, 802.2147216796875, 129.25360107421875, 2363.51904296875, 128.2813262939453, 27.91640853881836, 655.1287231445312, 264.6255187988281, 84.82894897460938, 82.83262634277344, 1093.493408203125, 2509.59814453125, 293.9542541503906, 1576.5345458984375, 121.27644348144531, 150.19122314453125, 359.9785461425781, 346.18292236328125, 352.0932922363281, 124.86503601074219, 109.57658386230469, 88.51142883300781, 86.7038345336914, 82.04735565185547, 35.99968719482422, 34.217674255371094, 33.021854400634766, 29.689037322998047, 29.308115005493164, 18.699064254760742, 18.69463348388672, 17.11738395690918, 15.183706283569336, 14.952960968017578, 12.794694900512695, 12.61674690246582, 12.593643188476562, 32.025428771972656, 22.195987701416016, 11.41858959197998, 10.43000602722168, 9.438617706298828, 9.055757522583008, 8.850462913513184, 8.265684127807617, 8.061659812927246, 17.679161071777344, 7.680661201477051, 7.476286888122559, 155.62437438964844, 24.566837310791016, 79.07303619384766, 16.45712661743164, 76.02349090576172, 15.682600021362305, 18.779006958007812, 185.8955841064453, 27.0738525390625, 491.3648376464844, 44.163177490234375, 61.17913818359375, 70.94235229492188, 109.35433197021484, 85.01654052734375, 126.44499206542969, 109.67633056640625, 1093.493408203125, 144.88975524902344, 112.23822021484375, 1051.923828125, 125.42513275146484, 95.97649383544922, 267.3762512207031, 583.8226318359375, 775.4239501953125, 430.7154235839844, 1687.582275390625, 234.91578674316406, 655.1287231445312, 529.568115234375, 195.81478881835938, 119.38832092285156, 37.78609848022461, 30.481792449951172, 25.80225372314453, 20.276386260986328, 39.15634536743164, 16.332744598388672, 16.15589141845703, 12.009354591369629, 12.005847930908203, 29.468170166015625, 11.600119590759277, 86.27510833740234, 10.253254890441895, 9.846647262573242, 9.643534660339355, 9.643476486206055, 9.058649063110352, 8.464325904846191, 21.387409210205078, 7.680347919464111, 7.300807952880859, 6.8941826820373535, 6.893829822540283, 6.888478755950928, 6.689378261566162, 6.686971664428711, 6.310389995574951, 6.103481292724609, 6.1055521965026855, 19.96088981628418, 27.50653076171875, 35.21298599243164, 320.701416015625, 66.78572082519531, 49.68053436279297, 150.13372802734375, 375.1761779785156, 62.21401596069336, 91.23038482666016, 30.506671905517578, 481.07708740234375, 234.91578674316406, 210.65512084960938, 59.00105667114258, 90.8562240600586, 109.35433197021484, 42.45872116088867, 53.90785598754883, 727.4458618164062, 592.1543579101562, 138.2791290283203, 583.8226318359375, 383.38629150390625, 165.20455932617188, 110.34357452392578, 359.9785461425781, 310.2607116699219, 491.3648376464844, 358.368896484375, 1051.923828125, 655.1287231445312, 632.5089721679688, 2146.276123046875, 289.27777099609375, 430.7154235839844, 22.390628814697266, 22.18203353881836, 19.178586959838867, 16.58411979675293, 13.800156593322754, 13.383440017700195, 11.599993705749512, 11.004110336303711, 10.383097648620605, 10.198978424072266, 18.181564331054688, 8.597888946533203, 8.596795082092285, 8.001608848571777, 7.200717449188232, 6.9961395263671875, 13.782569885253906, 6.787365913391113, 6.782851219177246, 6.787555694580078, 9.182367324829102, 162.8625946044922, 6.396639823913574, 6.1919050216674805, 6.1913652420043945, 6.189798355102539, 6.189445495605469, 6.183993816375732, 6.191467761993408, 11.19632339477539, 19.757793426513672, 18.763164520263672, 13.504880905151367, 31.8802547454834, 77.72904968261719, 32.378841400146484, 29.17581558227539, 74.53555297851562, 42.13279342651367, 29.54995346069336, 197.6497802734375, 104.55335235595703, 264.6255187988281, 137.6959991455078, 116.91525268554688, 34.30857849121094, 34.62855911254883, 33.11368942260742, 42.44075012207031, 192.55697631835938, 156.64031982421875, 24.57946014404297, 22.82091522216797, 131.0140838623047, 98.67182922363281, 334.76611328125, 913.4501342773438, 75.31436157226562, 2363.51904296875, 2509.59814453125, 344.9610900878906, 109.67633056640625, 1051.923828125, 245.92372131347656, 919.796630859375, 775.4239501953125, 320.701416015625, 174.32777404785156, 252.2102813720703, 73.28984832763672, 802.2147216796875, 314.410400390625, 655.1287231445312, 1093.493408203125, 379.5244445800781, 61.2761344909668, 57.29204177856445, 16.28725242614746, 10.421561241149902, 10.419950485229492, 10.056021690368652, 11.179638862609863, 10.054526329040527, 9.883155822753906, 8.539983749389648, 8.539983749389648, 73.82209777832031, 7.783304214477539, 7.41439151763916, 7.22244930267334, 18.74532127380371, 6.661707878112793, 6.294036388397217, 6.096004009246826, 5.9021477699279785, 5.900205612182617, 6.097109317779541, 5.5339813232421875, 5.5336737632751465, 5.336281776428223, 4.7759690284729, 26.257211685180664, 6.108782768249512, 5.397148132324219, 6.750563621520996, 9.97813606262207, 77.7497329711914, 231.27134704589844, 802.2147216796875, 1576.5345458984375, 208.29151916503906, 119.5568618774414, 90.61927795410156, 62.77578353881836, 346.18292236328125, 3162.72607421875, 422.7344665527344, 32.68207550048828, 87.95703125, 80.71003723144531, 20.137025833129883, 81.25514221191406, 165.97462463378906, 136.60362243652344, 395.89508056640625, 424.9647521972656, 131.0140838623047, 95.16929626464844, 81.6290512084961, 443.6111145019531, 2363.51904296875, 1051.923828125, 430.7154235839844, 664.4829711914062, 267.3762512207031, 140.16265869140625, 207.1812286376953, 40.40599822998047, 29.027673721313477, 26.58312225341797, 14.813387870788574, 14.60348892211914, 11.158843994140625, 36.235565185546875, 10.738641738891602, 48.373329162597656, 17.396785736083984, 8.500926971435547, 7.6914238929748535, 7.689601898193359, 7.296290397644043, 7.087966442108154, 6.875671863555908, 6.875552177429199, 13.146707534790039, 6.483905792236328, 6.482405662536621, 6.27262544631958, 6.271944522857666, 6.271315574645996, 5.66846227645874, 5.665038585662842, 5.664602756500244, 5.66611385345459, 5.064901351928711, 5.057023525238037, 293.9542541503906, 112.09130096435547, 27.31673812866211, 78.9084701538086, 86.12297058105469, 13.104094505310059, 27.60637092590332, 27.319190979003906, 17.418516159057617, 27.14282989501953, 10.819258689880371, 41.528564453125, 21.322555541992188, 13.694557189941406, 1935.83203125, 55.597076416015625, 112.75053405761719, 31.29433822631836, 33.583290100097656, 1576.5345458984375, 71.88674926757812, 289.27777099609375, 68.51978302001953, 113.80561065673828, 664.4829711914062, 148.86492919921875, 655.1287231445312, 153.69171142578125, 68.9510726928711, 80.71003723144531, 141.95370483398438, 97.58465576171875, 267.73028564453125, 61.71556854248047, 245.21688842773438, 383.38629150390625, 307.5390930175781, 359.9785461425781, 913.4501342773438, 1687.582275390625], \"Category\": [\"Default\", \"Default\", \"Default\", \"Default\", \"Default\", \"Default\", \"Default\", \"Default\", \"Default\", \"Default\", \"Default\", \"Default\", \"Default\", \"Default\", \"Default\", \"Default\", \"Default\", \"Default\", \"Default\", \"Default\", \"Default\", \"Default\", \"Default\", \"Default\", \"Default\", \"Default\", \"Default\", \"Default\", \"Default\", \"Default\", \"Topic1\", \"Topic1\", \"Topic1\", \"Topic1\", \"Topic1\", \"Topic1\", \"Topic1\", \"Topic1\", \"Topic1\", \"Topic1\", \"Topic1\", \"Topic1\", \"Topic1\", \"Topic1\", \"Topic1\", \"Topic1\", \"Topic1\", \"Topic1\", \"Topic1\", \"Topic1\", \"Topic1\", \"Topic1\", \"Topic1\", \"Topic1\", \"Topic1\", \"Topic1\", \"Topic1\", \"Topic1\", \"Topic1\", \"Topic1\", \"Topic1\", \"Topic1\", \"Topic1\", \"Topic1\", \"Topic1\", \"Topic1\", \"Topic1\", \"Topic1\", \"Topic1\", \"Topic1\", \"Topic1\", \"Topic1\", \"Topic1\", \"Topic1\", \"Topic1\", \"Topic1\", \"Topic1\", \"Topic1\", \"Topic1\", \"Topic1\", \"Topic1\", \"Topic1\", \"Topic1\", \"Topic1\", \"Topic1\", \"Topic1\", \"Topic1\", \"Topic1\", \"Topic1\", \"Topic1\", \"Topic1\", \"Topic1\", \"Topic1\", \"Topic1\", \"Topic2\", \"Topic2\", \"Topic2\", \"Topic2\", \"Topic2\", \"Topic2\", \"Topic2\", \"Topic2\", \"Topic2\", \"Topic2\", \"Topic2\", \"Topic2\", \"Topic2\", \"Topic2\", \"Topic2\", \"Topic2\", \"Topic2\", \"Topic2\", \"Topic2\", \"Topic2\", \"Topic2\", \"Topic2\", \"Topic2\", \"Topic2\", \"Topic2\", \"Topic2\", \"Topic2\", \"Topic2\", \"Topic2\", \"Topic2\", \"Topic2\", \"Topic2\", \"Topic2\", \"Topic2\", \"Topic2\", \"Topic2\", \"Topic2\", \"Topic2\", \"Topic2\", \"Topic2\", \"Topic2\", \"Topic2\", \"Topic2\", \"Topic2\", \"Topic2\", \"Topic2\", \"Topic2\", \"Topic2\", \"Topic2\", \"Topic2\", \"Topic2\", \"Topic2\", \"Topic2\", \"Topic2\", \"Topic2\", \"Topic2\", \"Topic2\", \"Topic2\", \"Topic2\", \"Topic2\", \"Topic2\", \"Topic2\", \"Topic2\", \"Topic2\", \"Topic2\", \"Topic2\", \"Topic2\", \"Topic3\", \"Topic3\", \"Topic3\", \"Topic3\", \"Topic3\", \"Topic3\", \"Topic3\", \"Topic3\", \"Topic3\", \"Topic3\", \"Topic3\", \"Topic3\", \"Topic3\", \"Topic3\", \"Topic3\", \"Topic3\", \"Topic3\", \"Topic3\", \"Topic3\", \"Topic3\", \"Topic3\", \"Topic3\", \"Topic3\", \"Topic3\", \"Topic3\", \"Topic3\", \"Topic3\", \"Topic3\", \"Topic3\", \"Topic3\", \"Topic3\", \"Topic3\", \"Topic3\", \"Topic3\", \"Topic3\", \"Topic3\", \"Topic3\", \"Topic3\", \"Topic3\", \"Topic3\", \"Topic3\", \"Topic3\", \"Topic3\", \"Topic3\", \"Topic3\", \"Topic3\", \"Topic3\", \"Topic3\", \"Topic3\", \"Topic3\", \"Topic3\", \"Topic3\", \"Topic3\", \"Topic3\", \"Topic3\", \"Topic3\", \"Topic3\", \"Topic3\", \"Topic3\", \"Topic3\", \"Topic3\", \"Topic3\", \"Topic3\", \"Topic3\", \"Topic3\", \"Topic3\", \"Topic4\", \"Topic4\", \"Topic4\", \"Topic4\", \"Topic4\", \"Topic4\", \"Topic4\", \"Topic4\", \"Topic4\", \"Topic4\", \"Topic4\", \"Topic4\", \"Topic4\", \"Topic4\", \"Topic4\", \"Topic4\", \"Topic4\", \"Topic4\", \"Topic4\", \"Topic4\", \"Topic4\", \"Topic4\", \"Topic4\", \"Topic4\", \"Topic4\", \"Topic4\", \"Topic4\", \"Topic4\", \"Topic4\", \"Topic4\", \"Topic4\", \"Topic4\", \"Topic4\", \"Topic4\", \"Topic4\", \"Topic4\", \"Topic4\", \"Topic4\", \"Topic4\", \"Topic4\", \"Topic4\", \"Topic4\", \"Topic4\", \"Topic4\", \"Topic4\", \"Topic4\", \"Topic4\", \"Topic4\", \"Topic4\", \"Topic4\", \"Topic4\", \"Topic4\", \"Topic4\", \"Topic4\", \"Topic4\", \"Topic4\", \"Topic4\", \"Topic4\", \"Topic4\", \"Topic4\", \"Topic4\", \"Topic4\", \"Topic5\", \"Topic5\", \"Topic5\", \"Topic5\", \"Topic5\", \"Topic5\", \"Topic5\", \"Topic5\", \"Topic5\", \"Topic5\", \"Topic5\", \"Topic5\", \"Topic5\", \"Topic5\", \"Topic5\", \"Topic5\", \"Topic5\", \"Topic5\", \"Topic5\", \"Topic5\", \"Topic5\", \"Topic5\", \"Topic5\", \"Topic5\", \"Topic5\", \"Topic5\", \"Topic5\", \"Topic5\", \"Topic5\", \"Topic5\", \"Topic5\", \"Topic5\", \"Topic5\", \"Topic5\", \"Topic5\", \"Topic5\", \"Topic5\", \"Topic5\", \"Topic5\", \"Topic5\", \"Topic5\", \"Topic5\", \"Topic5\", \"Topic5\", \"Topic5\", \"Topic5\", \"Topic5\", \"Topic5\", \"Topic5\", \"Topic5\", \"Topic5\", \"Topic5\", \"Topic5\", \"Topic5\", \"Topic5\", \"Topic5\", \"Topic5\", \"Topic5\", \"Topic5\", \"Topic5\", \"Topic5\", \"Topic5\", \"Topic5\", \"Topic5\", \"Topic5\", \"Topic5\", \"Topic5\", \"Topic5\", \"Topic5\", \"Topic5\", \"Topic6\", \"Topic6\", \"Topic6\", \"Topic6\", \"Topic6\", \"Topic6\", \"Topic6\", \"Topic6\", \"Topic6\", \"Topic6\", \"Topic6\", \"Topic6\", \"Topic6\", \"Topic6\", \"Topic6\", \"Topic6\", \"Topic6\", \"Topic6\", \"Topic6\", \"Topic6\", \"Topic6\", \"Topic6\", \"Topic6\", \"Topic6\", \"Topic6\", \"Topic6\", \"Topic6\", \"Topic6\", \"Topic6\", \"Topic6\", \"Topic6\", \"Topic6\", \"Topic6\", \"Topic6\", \"Topic6\", \"Topic6\", \"Topic6\", \"Topic6\", \"Topic6\", \"Topic6\", \"Topic6\", \"Topic6\", \"Topic6\", \"Topic6\", \"Topic6\", \"Topic6\", \"Topic6\", \"Topic6\", \"Topic6\", \"Topic6\", \"Topic6\", \"Topic6\", \"Topic6\", \"Topic6\", \"Topic6\", \"Topic6\", \"Topic6\", \"Topic6\", \"Topic6\", \"Topic7\", \"Topic7\", \"Topic7\", \"Topic7\", \"Topic7\", \"Topic7\", \"Topic7\", \"Topic7\", \"Topic7\", \"Topic7\", \"Topic7\", \"Topic7\", \"Topic7\", \"Topic7\", \"Topic7\", \"Topic7\", \"Topic7\", \"Topic7\", \"Topic7\", \"Topic7\", \"Topic7\", \"Topic7\", \"Topic7\", \"Topic7\", \"Topic7\", \"Topic7\", \"Topic7\", \"Topic7\", \"Topic7\", \"Topic7\", \"Topic7\", \"Topic7\", \"Topic7\", \"Topic7\", \"Topic7\", \"Topic7\", \"Topic7\", \"Topic7\", \"Topic7\", \"Topic7\", \"Topic7\", \"Topic7\", \"Topic7\", \"Topic7\", \"Topic7\", \"Topic7\", \"Topic7\", \"Topic7\", \"Topic7\", \"Topic7\", \"Topic7\", \"Topic7\", \"Topic7\", \"Topic7\", \"Topic7\", \"Topic7\", \"Topic7\", \"Topic7\", \"Topic7\", \"Topic7\", \"Topic7\", \"Topic7\", \"Topic7\", \"Topic7\", \"Topic7\", \"Topic7\", \"Topic7\", \"Topic7\", \"Topic7\", \"Topic8\", \"Topic8\", \"Topic8\", \"Topic8\", \"Topic8\", \"Topic8\", \"Topic8\", \"Topic8\", \"Topic8\", \"Topic8\", \"Topic8\", \"Topic8\", \"Topic8\", \"Topic8\", \"Topic8\", \"Topic8\", \"Topic8\", \"Topic8\", \"Topic8\", \"Topic8\", \"Topic8\", \"Topic8\", \"Topic8\", \"Topic8\", \"Topic8\", \"Topic8\", \"Topic8\", \"Topic8\", \"Topic8\", \"Topic8\", \"Topic8\", \"Topic8\", \"Topic8\", \"Topic8\", \"Topic8\", \"Topic8\", \"Topic8\", \"Topic8\", \"Topic8\", \"Topic8\", \"Topic8\", \"Topic8\", \"Topic8\", \"Topic8\", \"Topic8\", \"Topic8\", \"Topic8\", \"Topic8\", \"Topic8\", \"Topic8\", \"Topic8\", \"Topic8\", \"Topic8\", \"Topic8\", \"Topic8\", \"Topic8\", \"Topic8\", \"Topic8\", \"Topic8\", \"Topic8\", \"Topic8\", \"Topic8\", \"Topic8\", \"Topic8\", \"Topic8\", \"Topic9\", \"Topic9\", \"Topic9\", \"Topic9\", \"Topic9\", \"Topic9\", \"Topic9\", \"Topic9\", \"Topic9\", \"Topic9\", \"Topic9\", \"Topic9\", \"Topic9\", \"Topic9\", \"Topic9\", \"Topic9\", \"Topic9\", \"Topic9\", \"Topic9\", \"Topic9\", \"Topic9\", \"Topic9\", \"Topic9\", \"Topic9\", \"Topic9\", \"Topic9\", \"Topic9\", \"Topic9\", \"Topic9\", \"Topic9\", \"Topic9\", \"Topic9\", \"Topic9\", \"Topic9\", \"Topic9\", \"Topic9\", \"Topic9\", \"Topic9\", \"Topic9\", \"Topic9\", \"Topic9\", \"Topic9\", \"Topic9\", \"Topic9\", \"Topic9\", \"Topic9\", \"Topic9\", \"Topic9\", \"Topic9\", \"Topic9\", \"Topic9\", \"Topic9\", \"Topic9\", \"Topic9\", \"Topic9\", \"Topic9\", \"Topic9\", \"Topic10\", \"Topic10\", \"Topic10\", \"Topic10\", \"Topic10\", \"Topic10\", \"Topic10\", \"Topic10\", \"Topic10\", \"Topic10\", \"Topic10\", \"Topic10\", \"Topic10\", \"Topic10\", \"Topic10\", \"Topic10\", \"Topic10\", \"Topic10\", \"Topic10\", \"Topic10\", \"Topic10\", \"Topic10\", \"Topic10\", \"Topic10\", \"Topic10\", \"Topic10\", \"Topic10\", \"Topic10\", \"Topic10\", \"Topic10\", \"Topic10\", \"Topic10\", \"Topic10\", \"Topic10\", \"Topic10\", \"Topic10\", \"Topic10\", \"Topic10\", \"Topic10\", \"Topic10\", \"Topic10\", \"Topic10\", \"Topic10\", \"Topic10\", \"Topic10\", \"Topic10\", \"Topic10\", \"Topic10\", \"Topic10\", \"Topic10\", \"Topic10\", \"Topic10\", \"Topic10\", \"Topic10\", \"Topic11\", \"Topic11\", \"Topic11\", \"Topic11\", \"Topic11\", \"Topic11\", \"Topic11\", \"Topic11\", \"Topic11\", \"Topic11\", \"Topic11\", \"Topic11\", \"Topic11\", \"Topic11\", \"Topic11\", \"Topic11\", \"Topic11\", \"Topic11\", \"Topic11\", \"Topic11\", \"Topic11\", \"Topic11\", \"Topic11\", \"Topic11\", \"Topic11\", \"Topic11\", \"Topic11\", \"Topic11\", \"Topic11\", \"Topic11\", \"Topic11\", \"Topic11\", \"Topic11\", \"Topic11\", \"Topic11\", \"Topic11\", \"Topic11\", \"Topic11\", \"Topic11\", \"Topic11\", \"Topic11\", \"Topic11\", \"Topic11\", \"Topic11\", \"Topic11\", \"Topic11\", \"Topic11\", \"Topic11\", \"Topic11\", \"Topic11\", \"Topic11\", \"Topic11\", \"Topic11\", \"Topic11\", \"Topic11\", \"Topic11\", \"Topic11\", \"Topic11\", \"Topic11\", \"Topic11\", \"Topic11\", \"Topic11\", \"Topic12\", \"Topic12\", \"Topic12\", \"Topic12\", \"Topic12\", \"Topic12\", \"Topic12\", \"Topic12\", \"Topic12\", \"Topic12\", \"Topic12\", \"Topic12\", \"Topic12\", \"Topic12\", \"Topic12\", \"Topic12\", \"Topic12\", \"Topic12\", \"Topic12\", \"Topic12\", \"Topic12\", \"Topic12\", \"Topic12\", \"Topic12\", \"Topic12\", \"Topic12\", \"Topic12\", \"Topic12\", \"Topic12\", \"Topic12\", \"Topic12\", \"Topic12\", \"Topic12\", \"Topic12\", \"Topic12\", \"Topic12\", \"Topic12\", \"Topic12\", \"Topic12\", \"Topic12\", \"Topic12\", \"Topic12\", \"Topic12\", \"Topic12\", \"Topic12\", \"Topic12\", \"Topic12\", \"Topic12\", \"Topic12\", \"Topic12\", \"Topic12\", \"Topic12\", \"Topic12\", \"Topic12\", \"Topic12\", \"Topic12\", \"Topic12\", \"Topic12\", \"Topic12\", \"Topic12\", \"Topic12\", \"Topic12\", \"Topic12\", \"Topic12\", \"Topic12\", \"Topic12\", \"Topic13\", \"Topic13\", \"Topic13\", \"Topic13\", \"Topic13\", \"Topic13\", \"Topic13\", \"Topic13\", \"Topic13\", \"Topic13\", \"Topic13\", \"Topic13\", \"Topic13\", \"Topic13\", \"Topic13\", \"Topic13\", \"Topic13\", \"Topic13\", \"Topic13\", \"Topic13\", \"Topic13\", \"Topic13\", \"Topic13\", \"Topic13\", \"Topic13\", \"Topic13\", \"Topic13\", \"Topic13\", \"Topic13\", \"Topic13\", \"Topic13\", \"Topic13\", \"Topic13\", \"Topic13\", \"Topic13\", \"Topic13\", \"Topic13\", \"Topic13\", \"Topic13\", \"Topic13\", \"Topic13\", \"Topic13\", \"Topic13\", \"Topic13\", \"Topic13\", \"Topic13\", \"Topic13\", \"Topic13\", \"Topic13\", \"Topic13\", \"Topic13\", \"Topic13\", \"Topic13\", \"Topic13\", \"Topic13\", \"Topic13\", \"Topic13\", \"Topic13\", \"Topic13\", \"Topic13\", \"Topic13\", \"Topic13\", \"Topic13\", \"Topic13\", \"Topic13\", \"Topic13\", \"Topic13\", \"Topic13\", \"Topic13\", \"Topic13\", \"Topic13\", \"Topic13\", \"Topic13\", \"Topic13\", \"Topic13\", \"Topic14\", \"Topic14\", \"Topic14\", \"Topic14\", \"Topic14\", \"Topic14\", \"Topic14\", \"Topic14\", \"Topic14\", \"Topic14\", \"Topic14\", \"Topic14\", \"Topic14\", \"Topic14\", \"Topic14\", \"Topic14\", \"Topic14\", \"Topic14\", \"Topic14\", \"Topic14\", \"Topic14\", \"Topic14\", \"Topic14\", \"Topic14\", \"Topic14\", \"Topic14\", \"Topic14\", \"Topic14\", \"Topic14\", \"Topic14\", \"Topic14\", \"Topic14\", \"Topic14\", \"Topic14\", \"Topic14\", \"Topic14\", \"Topic14\", \"Topic14\", \"Topic14\", \"Topic14\", \"Topic14\", \"Topic14\", \"Topic14\", \"Topic14\", \"Topic14\", \"Topic14\", \"Topic14\", \"Topic14\", \"Topic14\", \"Topic14\", \"Topic14\", \"Topic14\", \"Topic14\", \"Topic14\", \"Topic14\", \"Topic14\", \"Topic14\", \"Topic14\", \"Topic14\", \"Topic14\", \"Topic14\", \"Topic15\", \"Topic15\", \"Topic15\", \"Topic15\", \"Topic15\", \"Topic15\", \"Topic15\", \"Topic15\", \"Topic15\", \"Topic15\", \"Topic15\", \"Topic15\", \"Topic15\", \"Topic15\", \"Topic15\", \"Topic15\", \"Topic15\", \"Topic15\", \"Topic15\", \"Topic15\", \"Topic15\", \"Topic15\", \"Topic15\", \"Topic15\", \"Topic15\", \"Topic15\", \"Topic15\", \"Topic15\", \"Topic15\", \"Topic15\", \"Topic15\", \"Topic15\", \"Topic15\", \"Topic15\", \"Topic15\", \"Topic15\", \"Topic15\", \"Topic15\", \"Topic15\", \"Topic15\", \"Topic15\", \"Topic15\", \"Topic15\", \"Topic15\", \"Topic15\", \"Topic15\", \"Topic15\", \"Topic15\", \"Topic15\", \"Topic15\", \"Topic15\", \"Topic15\", \"Topic15\", \"Topic15\", \"Topic15\", \"Topic15\", \"Topic15\", \"Topic15\", \"Topic15\", \"Topic15\", \"Topic15\", \"Topic15\", \"Topic15\", \"Topic15\", \"Topic15\", \"Topic15\", \"Topic15\", \"Topic15\", \"Topic15\", \"Topic15\"], \"logprob\": [30.0, 29.0, 28.0, 27.0, 26.0, 25.0, 24.0, 23.0, 22.0, 21.0, 20.0, 19.0, 18.0, 17.0, 16.0, 15.0, 14.0, 13.0, 12.0, 11.0, 10.0, 9.0, 8.0, 7.0, 6.0, 5.0, 4.0, 3.0, 2.0, 1.0, -3.021699905395508, -5.523600101470947, -5.896299839019775, -6.230199813842773, -6.377799987792969, -6.535999774932861, -5.967599868774414, -4.7154998779296875, -6.803599834442139, -5.519800186157227, -6.944799900054932, -6.968200206756592, -7.043399810791016, -5.690800189971924, -6.061399936676025, -7.1381001472473145, -7.181300163269043, -7.18149995803833, -7.3414998054504395, -7.359600067138672, -5.8379998207092285, -7.3780999183654785, -7.453800201416016, -5.0346999168396, -7.513199806213379, -6.266900062561035, -7.554200172424316, -7.426400184631348, -5.225800037384033, -7.600299835205078, -4.721199989318848, -5.787499904632568, -1.8157999515533447, -3.075000047683716, -5.6631999015808105, -4.120800018310547, -5.012400150299072, -4.923999786376953, -4.532199859619141, -4.886000156402588, -5.292699813842773, -4.847400188446045, -5.943900108337402, -4.348400115966797, -5.47160005569458, -5.1940999031066895, -5.130000114440918, -3.5808000564575195, -4.66349983215332, -5.165800094604492, -3.625699996948242, -3.965399980545044, -3.785599946975708, -4.318999767303467, -4.826900005340576, -4.435400009155273, -4.871500015258789, -4.829999923706055, -4.101399898529053, -4.753799915313721, -4.317200183868408, -4.804100036621094, -4.9882001876831055, -5.073999881744385, -2.2764999866485596, -4.15369987487793, -4.7530999183654785, -5.475399971008301, -5.627900123596191, -6.112299919128418, -6.364999771118164, -6.422999858856201, -4.165900230407715, -5.260700225830078, -6.566500186920166, -6.766499996185303, -6.769100189208984, -6.857399940490723, -5.055799961090088, -7.019800186157227, -7.020400047302246, -6.158199787139893, -7.087399959564209, -7.112599849700928, -7.186999797821045, -4.365200042724609, -4.85230016708374, -5.707799911499023, -7.297399997711182, -7.387800216674805, -5.405700206756592, -7.421500205993652, -7.4222002029418945, -7.456099987030029, -3.58870005607605, -5.569300174713135, -5.320300102233887, -5.71999979019165, -5.480500221252441, -5.063899993896484, -4.119100093841553, -6.251399993896484, -4.938700199127197, -5.487199783325195, -5.914299964904785, -4.8902997970581055, -3.9911000728607178, -3.490299940109253, -4.750199794769287, -5.064700126647949, -2.886699914932251, -5.037700176239014, -5.257199764251709, -4.326000213623047, -4.0229997634887695, -4.431000232696533, -4.201499938964844, -3.4228999614715576, -3.2369000911712646, -4.659299850463867, -4.089300155639648, -4.614099979400635, -4.932799816131592, -4.635700225830078, -4.608500003814697, -4.404799938201904, -4.5817999839782715, -4.861599922180176, -4.85129976272583, -4.869900226593018, -4.897200107574463, -4.725100040435791, -4.81689977645874, -5.2795000076293945, -5.467400074005127, -5.174099922180176, -3.1328001022338867, -6.131199836730957, -6.142300128936768, -6.359399795532227, -4.749100208282471, -5.418600082397461, -6.535600185394287, -6.550099849700928, -6.6545000076293945, -6.673500061035156, -6.710100173950195, -6.853099822998047, -6.947299957275391, -6.993800163269043, -6.354300022125244, -6.454999923706055, -6.48360013961792, -7.221199989318848, -6.5329999923706055, -4.167900085449219, -7.254799842834473, -7.289899826049805, -7.289899826049805, -6.582399845123291, -5.7941999435424805, -5.539599895477295, -4.904699802398682, -5.091300010681152, -5.291999816894531, -5.336299896240234, -2.9916999340057373, -5.144199848175049, -5.694900035858154, -5.344200134277344, -5.580900192260742, -4.704699993133545, -5.636199951171875, -3.505000114440918, -4.893599987030029, -4.494100093841553, -5.815800189971924, -5.569499969482422, -5.59660005569458, -3.4932000637054443, -3.822200059890747, -3.968899965286255, -4.544400215148926, -4.4274001121521, -3.3417000770568848, -4.414400100708008, -4.056000232696533, -4.86460018157959, -3.983599901199341, -4.506499767303467, -4.623799800872803, -4.622700214385986, -4.56689977645874, -4.890699863433838, -4.859300136566162, -4.759200096130371, -5.002500057220459, -3.554800033569336, -4.809100151062012, -5.056399822235107, -5.41349983215332, -3.3141000270843506, -6.18779993057251, -6.259500026702881, -6.428199768066406, -6.5071001052856445, -5.546500205993652, -5.223800182342529, -6.143799781799316, -5.892499923706055, -4.311500072479248, -6.989299774169922, -7.013800144195557, -7.017600059509277, -7.162600040435791, -7.162600040435791, -7.196100234985352, -7.231100082397461, -7.457799911499023, -6.892600059509277, -4.154900074005127, -4.6915998458862305, -7.122399806976318, -6.935200214385986, -6.906499862670898, -4.578700065612793, -6.037499904632568, -3.794600009918213, -5.155099868774414, -2.852099895477295, -5.231599807739258, -6.049200057983398, -3.2797999382019043, -5.2891998291015625, -5.060299873352051, -4.978400230407715, -3.998300075531006, -5.038099765777588, -3.348299980163574, -4.2108001708984375, -4.129499912261963, -3.4446001052856445, -5.27869987487793, -2.8055999279022217, -4.585700035095215, -4.74399995803833, -4.862199783325195, -3.905100107192993, -3.831199884414673, -3.642400026321411, -4.662199974060059, -4.894100189208984, -4.288400173187256, -4.784599781036377, -4.473199844360352, -4.726600170135498, -4.825500011444092, -4.70419979095459, -4.877299785614014, -4.664400100708008, -5.424900054931641, -5.406799793243408, -6.218500137329102, -6.246699810028076, -6.3892998695373535, -6.4197998046875, -6.420300006866455, -6.435999870300293, -6.502399921417236, -6.610099792480469, -6.035099983215332, -6.690800189971924, -6.690800189971924, -6.711599826812744, -6.711599826812744, -6.8460001945495605, -6.84630012512207, -6.872099876403809, -6.89739990234375, -5.19789981842041, -6.920599937438965, -6.9481000900268555, -6.976200103759766, -6.1321001052856445, -7.002200126647949, -6.462100028991699, -6.3765997886657715, -7.031799793243408, -7.061800003051758, -4.200799942016602, -5.003300189971924, -4.966000080108643, -6.027299880981445, -3.9240000247955322, -3.8975000381469727, -4.2779998779296875, -5.856299877166748, -3.8893001079559326, -4.91949987411499, -5.580999851226807, -5.9293999671936035, -5.536200046539307, -5.2281999588012695, -5.8024001121521, -4.662700176239014, -4.406799793243408, -4.966000080108643, -5.478300094604492, -5.011099815368652, -4.845200061798096, -2.65339994430542, -4.421899795532227, -4.211299896240234, -5.230199813842773, -4.719200134277344, -4.8317999839782715, -5.0019001960754395, -3.650399923324585, -4.928500175476074, -4.255000114440918, -4.334400177001953, -4.140200138092041, -4.775400161743164, -4.791999816894531, -4.976200103759766, -4.688199996948242, -4.89739990234375, -4.736199855804443, -4.961299896240234, -4.49429988861084, -2.206700086593628, -5.472700119018555, -6.662799835205078, -6.701000213623047, -2.3143999576568604, -6.785900115966797, -6.904099941253662, -7.008699893951416, -7.063399791717529, -7.093800067901611, -7.125400066375732, -7.126500129699707, -7.126999855041504, -7.1875, -7.187900066375732, -7.2906999588012695, -6.412199974060059, -7.450200080871582, -4.941800117492676, -6.80709981918335, -6.495999813079834, -5.840400218963623, -6.693699836730957, -7.221799850463867, -5.139900207519531, -6.439199924468994, -7.125199794769287, -4.3368000984191895, -5.976399898529053, -5.250999927520752, -4.474699974060059, -4.886000156402588, -3.9340999126434326, -3.552500009536743, -3.713399887084961, -4.160600185394287, -4.4105000495910645, -3.8208000659942627, -4.2245001792907715, -4.969299793243408, -4.395400047302246, -5.050099849700928, -6.155700206756592, -2.8138999938964844, -5.23199987411499, -5.0559000968933105, -4.132199764251709, -3.2098000049591064, -5.112100124359131, -4.481800079345703, -3.469599962234497, -4.271200180053711, -5.305699825286865, -5.181399822235107, -4.53879976272583, -4.776599884033203, -5.035099983215332, -5.081299781799316, -1.787500023841858, -6.054599761962891, -6.178800106048584, -4.970200061798096, -6.386000156402588, -6.733500003814697, -6.73360013961792, -6.780099868774414, -6.854000091552734, -6.910299777984619, -7.054900169372559, -5.490300178527832, -7.1230998039245605, -7.30649995803833, -5.880099773406982, -5.518499851226807, -7.353300094604492, -7.356599807739258, -7.487500190734863, -7.055099964141846, -5.702099800109863, -6.772900104522705, -7.095300197601318, -7.351799964904785, -4.906599998474121, -7.54010009765625, -6.8643999099731445, -6.028800010681152, -6.165500164031982, -6.920899868011475, -4.6605000495910645, -5.553599834442139, -2.0569000244140625, -4.691100120544434, -5.110400199890137, -4.613399982452393, -4.8846001625061035, -5.053899765014648, -4.380199909210205, -6.103899955749512, -5.727499961853027, -5.3607001304626465, -5.8343000411987305, -5.933599948883057, -5.726500034332275, -5.083399772644043, -4.405700206756592, -3.1693999767303467, -4.98960018157959, -4.364999771118164, -3.430500030517578, -5.11929988861084, -5.412700176239014, -4.286399841308594, -5.216300010681152, -3.4565000534057617, -4.549499988555908, -4.67519998550415, -4.728099822998047, -4.687399864196777, -4.642300128936768, -4.734499931335449, -4.916100025177002, -5.066400051116943, -5.0528998374938965, -4.868100166320801, -5.047100067138672, -5.032599925994873, -5.046199798583984, -5.968500137329102, -6.112500190734863, -6.4105000495910645, -6.582200050354004, -5.958499908447266, -6.671599864959717, -6.671599864959717, -6.840400218963623, -7.047500133514404, -7.082600116729736, -7.151299953460693, -7.151400089263916, -7.190100193023682, -7.309899806976318, -7.310200214385986, -7.310699939727783, -6.321499824523926, -6.166600227355957, -5.434700012207031, -4.987100124359131, -5.738800048828125, -5.037700176239014, -7.086699962615967, -5.807400226593018, -4.9141998291015625, -6.962100028991699, -5.845200061798096, -6.690499782562256, -6.521200180053711, -7.082699775695801, -2.8905999660491943, -4.45419979095459, -1.4744999408721924, -4.32289981842041, -5.578999996185303, -3.2676000595092773, -3.28410005569458, -5.332499980926514, -5.560100078582764, -3.5882999897003174, -5.469200134277344, -2.36899995803833, -4.376800060272217, -4.678699970245361, -4.45959997177124, -5.132999897003174, -5.602399826049805, -5.100200176239014, -4.8927998542785645, -5.779300212860107, -4.30049991607666, -3.678499937057495, -3.7142999172210693, -4.715400218963623, -4.470699787139893, -5.096799850463867, -5.262499809265137, -5.251800060272217, -4.634200096130371, -5.033100128173828, -4.685400009155273, -4.751399993896484, -5.203199863433838, -4.992599964141846, -5.11299991607666, -2.7934000492095947, -4.8506999015808105, -5.1458001136779785, -5.276400089263916, -5.7652997970581055, -4.618500232696533, -5.237599849700928, -6.617099761962891, -6.642399787902832, -6.735400199890137, -6.7357001304626465, -6.784299850463867, -3.2634999752044678, -6.925300121307373, -7.019000053405762, -7.053999900817871, -7.1219000816345215, -7.122499942779541, -4.988800048828125, -3.905400037765503, -6.76170015335083, -4.530900001525879, -7.418600082397461, -6.276000022888184, -4.4390997886657715, -6.355400085449219, -4.9517998695373535, -6.660999774932861, -4.6732001304626465, -7.326200008392334, -6.2221999168396, -3.49399995803833, -3.4779000282287598, -1.8646999597549438, -4.392600059509277, -4.86929988861084, -5.587900161743164, -3.078200101852417, -4.566199779510498, -2.5947000980377197, -5.2032999992370605, -3.725100040435791, -5.0015997886657715, -4.867099761962891, -3.3952999114990234, -4.975399971008301, -5.433000087738037, -5.10860013961792, -4.129199981689453, -4.607399940490723, -4.645500183105469, -4.718100070953369, -4.719299793243408, -4.9359002113342285, -4.916600227355957, -4.82390022277832, -4.947999954223633, -6.452700138092041, -2.949899911880493, -5.525700092315674, -6.609899997711182, -6.679299831390381, -6.910699844360352, -7.068900108337402, -7.138599872589111, -7.177800178527832, -3.257999897003174, -5.891499996185303, -7.298900127410889, -4.564700126647949, -5.032899856567383, -6.910799980163574, -6.656000137329102, -6.9721999168396, -3.5627999305725098, -5.798399925231934, -6.021200180053711, -6.237199783325195, -6.019599914550781, -6.707200050354004, -7.069200038909912, -6.700900077819824, -7.043000221252441, -7.492300033569336, -4.8282999992370605, -3.8399999141693115, -6.060100078582764, -5.491199970245361, -4.125699996948242, -1.3502000570297241, -4.473199844360352, -2.0785000324249268, -3.719099998474121, -3.5172998905181885, -4.968200206756592, -3.0725998878479004, -5.039999961853027, -6.08620023727417, -4.148200035095215, -4.80079984664917, -5.465000152587891, -5.542500019073486, -4.321199893951416, -3.9344000816345215, -5.006700038909912, -4.833899974822998, -5.654799938201904, -5.661200046539307, -5.540800094604492, -5.564599990844727, -5.5995001792907715, -3.8638999462127686, -3.995500087738037, -4.210999965667725, -4.231900215148926, -4.287700176239014, -5.126200199127197, -5.178400039672852, -5.214900016784668, -5.3246002197265625, -5.337900161743164, -5.8059000968933105, -5.810800075531006, -5.899199962615967, -6.026800155639648, -6.04580020904541, -6.209700107574463, -6.224800109863281, -6.226799964904785, -5.298999786376953, -5.667300224304199, -6.332900047302246, -6.4319000244140625, -6.541999816894531, -6.588099956512451, -6.61359977722168, -6.690299987792969, -6.718500137329102, -5.936299800872803, -6.7733001708984375, -6.804100036621094, -3.8073999881744385, -5.648399829864502, -4.5406999588012695, -6.048999786376953, -4.652699947357178, -6.101099967956543, -5.947400093078613, -4.0447998046875, -5.6468000411987305, -3.4168999195098877, -5.336400032043457, -5.109399795532227, -5.035099983215332, -4.753799915313721, -4.936299800872803, -4.688600063323975, -4.814799785614014, -3.440200090408325, -4.696800231933594, -4.857100009918213, -3.9551000595092773, -4.97189998626709, -5.096199989318848, -4.693299770355225, -4.58489990234375, -4.775400161743164, -4.944200038909912, -4.7652997970581055, -5.029099941253662, -4.974800109863281, -5.061800003051758, -5.088600158691406, -3.8696999549865723, -5.037099838256836, -5.257900238037109, -5.430300235748291, -5.68149995803833, -5.027100086212158, -5.90939998626709, -5.920899868011475, -6.238699913024902, -6.238999843597412, -5.343699932098389, -6.276299953460693, -4.277100086212158, -6.411200046539307, -6.4558000564575195, -6.478799819946289, -6.478799819946289, -6.548299789428711, -6.624199867248535, -5.69980001449585, -6.73390007019043, -6.791800022125244, -6.857699871063232, -6.857699871063232, -6.85860013961792, -6.892600059509277, -6.89300012588501, -6.960599899291992, -6.999800205230713, -6.999499797821045, -5.822500228881836, -5.514500141143799, -5.275599956512451, -3.1623001098632812, -4.680600166320801, -4.9756999015808105, -3.9275999069213867, -3.1054999828338623, -4.797999858856201, -4.549099922180176, -5.51609992980957, -3.1579999923706055, -3.795300006866455, -3.9284000396728516, -4.97730016708374, -4.635900020599365, -4.590799808502197, -5.331099987030029, -5.221099853515625, -3.530600070953369, -3.7339999675750732, -4.64169979095459, -3.926800012588501, -4.224100112915039, -4.683599948883057, -4.9085001945495605, -4.405099868774414, -4.502399921417236, -4.375899791717529, -4.603400230407715, -4.342899799346924, -4.5117998123168945, -4.552599906921387, -4.7129998207092285, -4.918300151824951, -4.9415998458862305, -5.52239990234375, -5.532700061798096, -5.684500217437744, -5.846700191497803, -6.033599853515625, -6.066400051116943, -6.220900058746338, -6.278299808502197, -6.341899871826172, -6.361599922180176, -5.788000106811523, -6.55109977722168, -6.551199913024902, -6.631999969482422, -6.752099990844727, -6.785200119018555, -6.1082000732421875, -6.820199966430664, -6.821000099182129, -6.8206000328063965, -6.523099899291992, -3.651700019836426, -6.889100074768066, -6.927299976348877, -6.9274001121521, -6.927700042724609, -6.927700042724609, -6.928800106048584, -6.930099964141846, -6.343599796295166, -5.786900043487549, -5.8491997718811035, -6.1697001457214355, -5.347599983215332, -4.567299842834473, -5.409599781036377, -5.5046000480651855, -4.669300079345703, -5.189199924468994, -5.518400192260742, -3.860100030899048, -4.414299964904785, -3.6449999809265137, -4.286099910736084, -4.432799816131592, -5.430600166320801, -5.434100151062012, -5.484499931335449, -5.310999870300293, -4.2546000480651855, -4.445199966430664, -5.727700233459473, -5.780900001525879, -4.690899848937988, -4.901700019836426, -4.222499847412109, -3.711899995803833, -5.1107001304626465, -3.3131000995635986, -3.3954999446868896, -4.396299839019775, -4.948400020599365, -4.099899768829346, -4.699100017547607, -4.314199924468994, -4.381899833679199, -4.739999771118164, -4.947800159454346, -4.865200042724609, -5.20550012588501, -4.768899917602539, -4.940700054168701, -4.828800201416016, -4.776700019836426, -4.961900234222412, -4.352200031280518, -4.420499801635742, -5.720600128173828, -6.201700210571289, -6.201900005340576, -6.241000175476074, -6.135900020599365, -6.242599964141846, -6.260300159454346, -6.423699855804443, -6.423699855804443, -4.269599914550781, -6.527299880981445, -6.582600116729736, -6.61269998550415, -5.670199871063232, -6.705999851226807, -6.772299766540527, -6.809899806976318, -6.848100185394287, -6.8516998291015625, -6.823800086975098, -6.925000190734863, -6.928500175476074, -6.968900203704834, -7.104800224304199, -5.454800128936768, -6.968800067901611, -7.162199974060059, -6.950799942016602, -6.562600135803223, -4.61959981918335, -3.5975000858306885, -2.449700117111206, -1.888200044631958, -3.78410005569458, -4.453000068664551, -4.6778998374938965, -5.00029993057251, -3.7156999111175537, -2.210099935531616, -3.723299980163574, -5.599699974060059, -4.9268999099731445, -5.007900238037109, -5.9618000984191895, -5.101900100708008, -4.825900077819824, -5.02269983291626, -4.522600173950195, -4.498600006103516, -5.060200214385986, -5.296800136566162, -5.374499797821045, -4.84499979019165, -4.2733001708984375, -4.709499835968018, -4.982699871063232, -4.894800186157227, -5.186699867248535, -5.301700115203857, -2.9663000106811523, -4.611400127410889, -4.951399803161621, -5.042399883270264, -5.656099796295166, -5.67140007019043, -5.961400032043457, -4.786799907684326, -6.003399848937988, -4.511499881744385, -5.547800064086914, -6.26639986038208, -6.375100135803223, -6.37529993057251, -6.435200214385986, -6.468400001525879, -6.503499984741211, -6.503499984741211, -5.861100196838379, -6.571599960327148, -6.571800231933594, -6.610300064086914, -6.610400199890137, -6.610599994659424, -6.730100154876709, -6.730899810791016, -6.730999946594238, -6.7316999435424805, -6.866199970245361, -6.868100166320801, -2.8178999423980713, -3.851099967956543, -5.231500148773193, -4.227700233459473, -4.198599815368652, -5.989999771118164, -5.37060022354126, -5.384399890899658, -5.768199920654297, -5.415900230407715, -6.1641998291015625, -5.124300003051758, -5.648499965667725, -5.9822001457214355, -2.285799980163574, -4.936399936676025, -4.432499885559082, -5.4105000495910645, -5.3628997802734375, -3.0037999153137207, -4.93149995803833, -4.1722002029418945, -5.019800186157227, -4.826200008392334, -3.984499931335449, -4.721799850463867, -4.07289981842041, -4.809599876403809, -5.104700088500977, -5.07859992980957, -4.914599895477295, -5.0447998046875, -4.785200119018555, -5.207499980926514, -4.98829984664917, -4.936800003051758, -4.966400146484375, -4.9944000244140625, -4.986199855804443, -5.020899772644043], \"loglift\": [30.0, 29.0, 28.0, 27.0, 26.0, 25.0, 24.0, 23.0, 22.0, 21.0, 20.0, 19.0, 18.0, 17.0, 16.0, 15.0, 14.0, 13.0, 12.0, 11.0, 10.0, 9.0, 8.0, 7.0, 6.0, 5.0, 4.0, 3.0, 2.0, 1.0, 1.8986999988555908, 1.8875000476837158, 1.8811999559402466, 1.8731000423431396, 1.8686000108718872, 1.8630000352859497, 1.8535000085830688, 1.8514000177383423, 1.8513000011444092, 1.848099946975708, 1.8438999652862549, 1.8422000408172607, 1.8380999565124512, 1.8360999822616577, 1.8346999883651733, 1.8320000171661377, 1.8289999961853027, 1.8289999961853027, 1.8167999982833862, 1.8154000043869019, 1.8143999576568604, 1.8137999773025513, 1.8071999549865723, 1.8055000305175781, 1.8016999959945679, 1.8015999794006348, 1.797700047492981, 1.7972999811172485, 1.794700026512146, 1.7930999994277954, 1.7918000221252441, 1.7920000553131104, 1.6593999862670898, 1.6857999563217163, 1.7417000532150269, 1.6088000535964966, 1.659600019454956, 1.648300051689148, 1.5937999486923218, 1.5922000408172607, 1.628000020980835, 1.5777000188827515, 1.69760000705719, 1.3636000156402588, 1.5484000444412231, 1.4276000261306763, 1.3825000524520874, 0.6496999859809875, 1.0865999460220337, 1.3253999948501587, 0.4449999928474426, 0.6309999823570251, 0.23960000276565552, 0.31610000133514404, 0.8184000253677368, 0.3409000039100647, 0.7831000089645386, 0.6988999843597412, -0.2757999897003174, 0.3549000024795532, -0.7828999757766724, -0.034699998795986176, 0.35989999771118164, -0.9115999937057495, 2.4321999549865723, 2.426100015640259, 2.421999931335449, 2.4100000858306885, 2.40120005607605, 2.390199899673462, 2.3780999183654785, 2.3749001026153564, 2.3722000122070312, 2.367799997329712, 2.3661999702453613, 2.3519999980926514, 2.351799964904785, 2.344599962234497, 2.3297998905181885, 2.329699993133545, 2.3296000957489014, 2.3231000900268555, 2.3227999210357666, 2.320199966430664, 2.3118999004364014, 2.311199903488159, 2.3066999912261963, 2.300299882888794, 2.2987000942230225, 2.286799907684326, 2.2841999530792236, 2.2822000980377197, 2.282099962234497, 2.2772998809814453, 2.2541000843048096, 2.2720000743865967, 2.2671000957489014, 2.2544000148773193, 2.2392001152038574, 2.218899965286255, 2.141400098800659, 2.2544000148773193, 2.0852999687194824, 2.147200107574463, 2.192199945449829, 2.0244998931884766, 1.8650000095367432, 1.4498000144958496, 1.8083000183105469, 1.8753999471664429, 0.8790000081062317, 1.7757999897003174, 1.8819999694824219, 1.420300006866455, 1.1039999723434448, 1.3490999937057495, 1.1200000047683716, 0.499099999666214, 0.29750001430511475, 1.4039000272750854, 0.6869999766349792, 1.1025999784469604, 1.5600999593734741, 1.0189000368118286, 0.9204000234603882, -0.24230000376701355, 0.053300000727176666, 1.0465999841690063, 0.8561999797821045, 0.6769000291824341, 0.1973000019788742, 2.5611000061035156, 2.560800075531006, 2.550800085067749, 2.5481998920440674, 2.5385000705718994, 2.5272998809814453, 2.524199962615967, 2.523699998855591, 2.5113000869750977, 2.5099000930786133, 2.5039000511169434, 2.5, 2.499000072479248, 2.490999937057495, 2.489500045776367, 2.4862000942230225, 2.4735000133514404, 2.4630000591278076, 2.459199905395508, 2.4521000385284424, 2.439300060272217, 2.4379000663757324, 2.4316999912261963, 2.4289000034332275, 2.4286000728607178, 2.4272000789642334, 2.422300100326538, 2.422300100326538, 2.422300100326538, 2.416599988937378, 2.4105000495910645, 2.397599935531616, 2.3821001052856445, 2.375499963760376, 2.364000082015991, 2.218100070953369, 2.3498001098632812, 2.328200101852417, 2.238800048828125, 2.276700019836426, 2.065700054168701, 2.2630999088287354, 1.638800024986267, 2.009000062942505, 1.8609999418258667, 2.267400026321411, 2.172300100326538, 2.144200086593628, 1.1031999588012695, 1.1818000078201294, 1.2549999952316284, 1.5470000505447388, 1.322700023651123, 0.4239000082015991, 1.2309000492095947, 0.8841000199317932, 1.5858999490737915, 0.6516000032424927, 1.0214999914169312, 1.0205999612808228, 1.0120999813079834, 0.20250000059604645, 0.85589998960495, 0.23520000278949738, -0.734000027179718, 0.3939000070095062, 2.6196000576019287, 2.609299898147583, 2.6031999588012695, 2.597599983215332, 2.588599920272827, 2.5673000812530518, 2.5638999938964844, 2.553299903869629, 2.5471999645233154, 2.5280001163482666, 2.5276999473571777, 2.5204999446868896, 2.5125999450683594, 2.5051000118255615, 2.5034000873565674, 2.5006000995635986, 2.5, 2.4821999073028564, 2.4821999073028564, 2.4776999950408936, 2.472899913787842, 2.4379000663757324, 2.425299882888794, 2.4045000076293945, 2.3994998931884766, 2.374500036239624, 2.367000102996826, 2.3612000942230225, 2.359499931335449, 2.3534998893737793, 2.34879994392395, 2.351300001144409, 2.2750000953674316, 2.2869999408721924, 2.34660005569458, 2.0416998863220215, 2.2462000846862793, 2.200000047683716, 2.1349000930786133, 1.9560999870300293, 2.134399890899658, 1.7955000400543213, 1.9176000356674194, 1.7786999940872192, 1.5592999458312988, 2.1047000885009766, 0.960099995136261, 1.7826000452041626, 1.742300033569336, 1.784999966621399, 1.034999966621399, 0.3312999904155731, -0.1080000028014183, 0.8845999836921692, 1.3932000398635864, -0.36629998683929443, 0.9620000123977661, -0.4478999972343445, 0.382099986076355, 0.8912000060081482, -0.10779999941587448, 0.6506999731063843, 2.6449999809265137, 2.6305999755859375, 2.6103999614715576, 2.5985000133514404, 2.595900058746338, 2.5878000259399414, 2.585700035095215, 2.585400104522705, 2.5845999717712402, 2.579699993133545, 2.571199893951416, 2.5655999183654785, 2.563800096511841, 2.563800096511841, 2.5624001026153564, 2.5624001026153564, 2.5494000911712646, 2.5494000911712646, 2.546299934387207, 2.5439999103546143, 2.5423998832702637, 2.5413999557495117, 2.5383999347686768, 2.5352001190185547, 2.5325000286102295, 2.532099962234497, 2.532099962234497, 2.530900001525879, 2.528599977493286, 2.5250000953674316, 2.4719998836517334, 2.4649999141693115, 2.463399887084961, 2.49180006980896, 2.3598999977111816, 2.355600118637085, 2.330199956893921, 2.4600000381469727, 2.199199914932251, 2.2757999897003174, 2.3433001041412354, 2.4049999713897705, 2.3138999938964844, 2.2351999282836914, 2.3422999382019043, 1.9752999544143677, 1.7870999574661255, 2.003000020980835, 2.1958999633789062, 2.001699924468994, 1.916700005531311, 0.8217999935150146, 1.6552000045776367, 1.538100004196167, 1.919100046157837, 1.514799952507019, 1.551200032234192, 1.6744999885559082, 0.5120999813079834, 1.2913000583648682, 0.34139999747276306, 0.44190001487731934, 0.09030000120401382, 0.8907999992370605, 0.8525000214576721, 1.1497999429702759, 0.0812000036239624, 0.8198000192642212, -0.10109999775886536, -0.2004999965429306, 2.6524999141693115, 2.63070011138916, 2.583899974822998, 2.571700096130371, 2.56820011138916, 2.5673000812530518, 2.5601999759674072, 2.5480000972747803, 2.5360000133514404, 2.5292999744415283, 2.5255000591278076, 2.521399974822998, 2.521199941635132, 2.5211000442504883, 2.5129001140594482, 2.5127999782562256, 2.49780011177063, 2.49180006980896, 2.4718000888824463, 2.4600000381469727, 2.4214999675750732, 2.4142000675201416, 2.4133999347686768, 2.4130001068115234, 2.401099920272827, 2.380000114440918, 2.3610999584198, 2.354599952697754, 2.312999963760376, 2.307300090789795, 2.2885000705718994, 2.206700086593628, 2.2327001094818115, 2.1429998874664307, 2.0822999477386475, 2.036099910736084, 2.0592000484466553, 2.0220999717712402, 1.8960000276565552, 1.8668999671936035, 1.988800048828125, 1.8385000228881836, 1.9915000200271606, 2.2627999782562256, 1.108199954032898, 1.9053000211715698, 1.7523000240325928, 1.2853000164031982, 0.8154000043869019, 1.7014000415802002, 1.0598000288009644, 0.29600000381469727, 0.8233000040054321, 1.6344000101089478, 1.44350004196167, 0.2304999977350235, -0.0003000000142492354, 0.5116999745368958, 0.5631999969482422, 2.749300003051758, 2.711199998855591, 2.703900098800659, 2.699700117111206, 2.6898000240325928, 2.6591999530792236, 2.6591999530792236, 2.6542999744415283, 2.6461000442504883, 2.6394999027252197, 2.621000051498413, 2.6175999641418457, 2.6113998889923096, 2.58270001411438, 2.579400062561035, 2.5771000385284424, 2.573699951171875, 2.5690999031066895, 2.5497000217437744, 2.5143001079559326, 2.5078001022338867, 2.4518001079559326, 2.448199987411499, 2.4458000659942627, 2.432499885559082, 2.385200023651123, 2.370500087738037, 2.3649001121520996, 2.3564999103546143, 2.344099998474121, 2.3013999462127686, 2.3155999183654785, 2.105600118637085, 2.2335000038146973, 2.2669999599456787, 2.181999921798706, 2.1414999961853027, 2.128999948501587, 1.9749000072479248, 2.3268001079559326, 2.2448999881744385, 2.126699924468994, 2.208199977874756, 2.2183001041412354, 2.115000009536743, 1.780400037765503, 1.374400019645691, 0.5963000059127808, 1.6612000465393066, 1.2474000453948975, 0.49160000681877136, 1.6425000429153442, 1.8667000532150269, 0.9375, 1.6863000392913818, 0.07779999822378159, 0.9794999957084656, 0.8529000282287598, 0.8187000155448914, 0.7300999760627747, 0.2978000044822693, 0.2694000005722046, 0.5824000239372253, 0.9384999871253967, 0.8704000115394592, -0.09870000183582306, 0.5972999930381775, -0.39750000834465027, 0.0625, 2.7750000953674316, 2.7672998905181885, 2.7460999488830566, 2.7309999465942383, 2.7300000190734863, 2.719399929046631, 2.719399929046631, 2.703399896621704, 2.6761999130249023, 2.671099901199341, 2.660599946975708, 2.660599946975708, 2.6545000076293945, 2.6340999603271484, 2.634000062942505, 2.6338999271392822, 2.612499952316284, 2.612499952316284, 2.5957999229431152, 2.5947999954223633, 2.586699962615967, 2.5680999755859375, 2.5536999702453613, 2.54830002784729, 2.5353000164031982, 2.502500057220459, 2.494999885559082, 2.4886999130249023, 2.4869000911712646, 2.477799892425537, 2.4574999809265137, 2.4581000804901123, 2.351099967956543, 2.4214000701904297, 2.452199935913086, 2.2309999465942383, 2.2011001110076904, 2.3822999000549316, 2.3996999263763428, 2.0239999294281006, 2.359999895095825, 1.7015999555587769, 2.044800043106079, 2.0387001037597656, 1.8736000061035156, 2.1166000366210938, 2.279900074005127, 1.9155000448226929, 1.6887999773025513, 2.278899908065796, 0.9233999848365784, 0.08720000088214874, -0.23909999430179596, 0.8260999917984009, 0.43549999594688416, 1.3121999502182007, 1.5551999807357788, 1.5039000511169434, 0.0010000000474974513, 0.9717000126838684, 0.07540000230073929, 0.024900000542402267, 1.3116999864578247, -0.2231999933719635, -1.0878000259399414, 2.830199956893921, 2.814199924468994, 2.8078999519348145, 2.8046000003814697, 2.7871999740600586, 2.77239990234375, 2.7346999645233154, 2.729300022125244, 2.7249999046325684, 2.717099905014038, 2.717099905014038, 2.7116000652313232, 2.698199987411499, 2.694499969482422, 2.681999921798706, 2.677000045776367, 2.6668999195098877, 2.666800022125244, 2.6394999027252197, 2.634200096130371, 2.6278998851776123, 2.625, 2.615499973297119, 2.6084001064300537, 2.589200019836426, 2.5810999870300293, 2.53439998626709, 2.525099992752075, 2.516900062561035, 2.5002999305725098, 2.498699903488159, 2.3708999156951904, 2.268399953842163, 2.057300090789795, 2.232300043106079, 2.299799919128418, 2.4172000885009766, 1.6912000179290771, 2.0373001098632812, 1.4305000305175781, 2.1514999866485596, 1.3694000244140625, 1.8504999876022339, 1.6725000143051147, 0.37040001153945923, 1.5175000429153442, 1.6835999488830566, 1.3003000020980835, 0.03319999948143959, 0.5012999773025513, 0.260699987411499, 0.2858999967575073, 0.05700000002980232, 0.7814000248908997, 0.6302000284194946, -0.18880000710487366, 0.5800999999046326, 2.7653000354766846, 2.7632999420166016, 2.763200044631958, 2.750699996948242, 2.743499994277954, 2.7163000106811523, 2.694200038909912, 2.683500051498413, 2.6772000789642334, 2.6749000549316406, 2.666100025177002, 2.6563000679016113, 2.6373000144958496, 2.614799976348877, 2.6131999492645264, 2.6054000854492188, 2.6001999378204346, 2.5785000324249268, 2.5676000118255615, 2.5543999671936035, 2.5399999618530273, 2.5390000343322754, 2.529599905014038, 2.4921998977661133, 2.474400043487549, 2.473400115966797, 2.4565999507904053, 2.4495999813079834, 2.4386000633239746, 2.438499927520752, 2.4096999168395996, 2.355799913406372, 2.1840999126434326, 2.3227999210357666, 1.9921000003814697, 1.8223999738693237, 1.3889000415802002, 1.7634999752044678, 0.753000020980835, 1.6993000507354736, 2.178100109100342, 0.9603999853134155, 1.214400053024292, 1.6878999471664429, 1.6341999769210815, 0.2752000093460083, -0.16869999468326569, 0.9034000039100647, -0.6032999753952026, 1.1405999660491943, 0.9204000234603882, 0.16670000553131104, 0.18199999630451202, 0.13019999861717224, 2.902400016784668, 2.901400089263916, 2.8993000984191895, 2.8991000652313232, 2.8984999656677246, 2.8838000297546387, 2.8824000358581543, 2.8814001083374023, 2.878200054168701, 2.8777999877929688, 2.859100103378296, 2.8545000553131104, 2.854300022125244, 2.8464999198913574, 2.8427999019622803, 2.8348000049591064, 2.833699941635132, 2.8334999084472656, 2.828000068664551, 2.8262999057769775, 2.8252999782562256, 2.816999912261963, 2.8066999912261963, 2.8020999431610107, 2.7994000911712646, 2.791100025177002, 2.787899971008301, 2.7848000526428223, 2.7815001010894775, 2.7776999473571777, 2.738600015640259, 2.743799924850464, 2.682499885559082, 2.7437000274658203, 2.609800100326538, 2.739799976348877, 2.713399887084961, 2.3236000537872314, 2.648200035095215, 1.9795000553131104, 2.4691998958587646, 2.3703999519348145, 2.2964999675750732, 2.1451001167297363, 2.2142999172210693, 2.0650999546051025, 2.081199884414673, 1.1562000513076782, 1.920699954032898, 2.0157999992370605, 0.6800000071525574, 1.7898999452590942, 1.9333000183105469, 1.3115999698638916, 0.6389999985694885, 0.1648000031709671, 0.5838000178337097, -0.6029000282287598, 1.1052000522613525, 0.1339000016450882, 0.2597000002861023, 1.2278000116348267, 2.941499948501587, 2.924499988555908, 2.9184999465942383, 2.9128000736236572, 2.902600049972534, 2.8987998962402344, 2.8910000324249268, 2.8903000354766846, 2.8691000938415527, 2.8691000938415527, 2.866499900817871, 2.8661999702453613, 2.8589000701904297, 2.8547000885009766, 2.850600004196167, 2.848400115966797, 2.848400115966797, 2.841599941253662, 2.833400011062622, 2.830899953842163, 2.8208999633789062, 2.813800096511841, 2.8052000999450684, 2.8052000999450684, 2.8050999641418457, 2.8004000186920166, 2.8004000186920166, 2.7906999588012695, 2.784899950027466, 2.784899950027466, 2.7772998809814453, 2.764699935913086, 2.756500005722046, 2.6607000827789307, 2.711400032043457, 2.7121999263763428, 2.654400110244751, 2.5606000423431396, 2.664900064468384, 2.5309998989105225, 2.6594998836517334, 2.259500026702881, 2.3389999866485596, 2.3148999214172363, 2.5387001037597656, 2.4484000205993652, 2.308199882507324, 2.5139000415802, 2.3850998878479004, 1.4733999967575073, 1.4758000373840332, 2.0225000381469727, 1.2971999645233154, 1.4204000234603882, 1.8027000427246094, 1.9814000129699707, 1.30239999294281, 1.353700041770935, 1.020400047302246, 1.1086000204086304, 0.2922999858856201, 0.5968999862670898, 0.5911999940872192, -0.7910000085830688, 1.0077999830245972, 0.5864999890327454, 2.9625000953674316, 2.9614999294281006, 2.9553000926971436, 2.9384000301361084, 2.93530011177063, 2.9330999851226807, 2.921600103378296, 2.9168999195098877, 2.911400079727173, 2.9096999168395996, 2.905100107192993, 2.890899896621704, 2.890899896621704, 2.8819000720977783, 2.867300033569336, 2.86299991607666, 2.8619000911712646, 2.858299970626831, 2.8582000732421875, 2.8578999042510986, 2.853100061416626, 2.8489999771118164, 2.848599910736084, 2.8429999351501465, 2.8429999351501465, 2.842900037765503, 2.842900037765503, 2.8427999019622803, 2.8401999473571777, 2.834399938583374, 2.8231000900268555, 2.8124001026153564, 2.82069993019104, 2.783900022506714, 2.6730000972747803, 2.706399917602539, 2.7155001163482666, 2.61299991607666, 2.6635000705718994, 2.6891000270843506, 2.446899890899658, 2.5295000076293945, 2.3701999187469482, 2.3824000358581543, 2.399199962615967, 2.627500057220459, 2.6147000789642334, 2.609100103378296, 2.53439998626709, 2.0785999298095703, 2.094399929046631, 2.6638998985290527, 2.684999942779541, 2.0272998809814453, 2.0999999046325684, 1.5576000213623047, 1.0643999576568604, 2.161099910736084, 0.512499988079071, 0.3700999915599823, 1.3538000583648682, 1.94760000705719, 0.5351999998092651, 1.3894000053405762, 0.4551999866962433, 0.5582000017166138, 1.0829999446868896, 1.4847999811172485, 1.1979999542236328, 2.093600034713745, 0.1371999979019165, 0.9021000266075134, 0.2799000144004822, -0.18039999902248383, 0.6927000284194946, 3.1259000301361084, 3.124799966812134, 3.0824999809265137, 3.0478999614715576, 3.0478999614715576, 3.0443999767303467, 3.043600082397461, 3.0429999828338623, 3.0423998832702637, 3.0250000953674316, 3.0250000953674316, 3.0223000049591064, 3.01419997215271, 3.007499933242798, 3.003700017929077, 2.9923999309539795, 2.9911999702453613, 2.9816999435424805, 2.9760000705718994, 2.970099925994873, 2.966900110244751, 2.9619998931884766, 2.9576001167297363, 2.954200029373169, 2.9500999450683594, 2.925100088119507, 2.870800018310547, 2.815000057220459, 2.745500087738037, 2.733099937438965, 2.7304999828338623, 2.620500087738037, 2.5524001121520996, 2.4565000534057617, 2.342400074005127, 2.4704999923706055, 2.3566999435424805, 2.4089999198913574, 2.4535999298095703, 2.030900001525879, 1.3242000341415405, 1.8235000371932983, 2.506999969482422, 2.1898000240325928, 2.194700002670288, 2.6291000843048096, 2.094099998474121, 1.6557999849319458, 1.6536999940872192, 1.0896999835968018, 1.0428999662399292, 1.6579999923706055, 1.7410000562667847, 1.8167999982833862, 0.6535000205039978, -0.44769999384880066, -0.07440000027418137, 0.5454000234603882, 0.1996999979019165, 0.8180999755859375, 1.3489999771118164, 3.2936999797821045, 3.283099889755249, 3.273900032043457, 3.270900011062622, 3.2418999671936035, 3.2409000396728516, 3.219899892807007, 3.2167000770568848, 3.2163000106811523, 3.2030999660491943, 3.1893999576568604, 3.187000036239624, 3.1784000396728516, 3.178299903869629, 3.1709001064300537, 3.1666998863220215, 3.1619999408721924, 3.1619999408721924, 3.1561999320983887, 3.152600049972534, 3.152600049972534, 3.1470000743865967, 3.1470000743865967, 3.1470000743865967, 3.128499984741211, 3.1282999515533447, 3.1282999515533447, 3.1273999214172363, 3.1050000190734863, 3.1047000885009766, 3.0922000408172607, 3.023099899291992, 3.0546000003814697, 2.997499942779541, 2.939199924468994, 3.030600070953369, 2.904900074005127, 2.9014999866485596, 2.9677999019622803, 2.8766000270843506, 3.0480000972747803, 2.7428998947143555, 2.8852999210357666, 2.9944000244140625, 1.739400029182434, 2.6389999389648438, 2.4358999729156494, 2.739500045776367, 2.716599941253662, 1.2267999649047852, 2.386899948120117, 1.753999948501587, 2.34660005569458, 2.0327999591827393, 1.1100000143051147, 1.8686000108718872, 1.0357999801635742, 1.748900055885315, 2.2553999423980713, 2.124000072479248, 1.7235000133514404, 1.968000054359436, 1.2182999849319458, 2.2634999752044678, 1.1030999422073364, 0.7077000141143799, 0.8985000252723694, 0.713100016117096, -0.20999999344348907, -0.8583999872207642]}, \"token.table\": {\"Topic\": [3, 4, 7, 11, 3, 5, 6, 9, 6, 4, 5, 6, 14, 15, 6, 10, 3, 15, 3, 6, 5, 2, 3, 5, 6, 1, 3, 5, 7, 15, 2, 5, 6, 1, 2, 5, 6, 13, 5, 1, 5, 15, 5, 6, 13, 15, 15, 5, 6, 15, 3, 11, 7, 3, 6, 11, 15, 12, 3, 5, 6, 15, 2, 5, 6, 8, 1, 5, 1, 5, 8, 11, 11, 1, 8, 1, 2, 3, 4, 5, 6, 7, 9, 10, 11, 13, 9, 1, 8, 3, 11, 13, 3, 11, 3, 11, 1, 1, 5, 8, 12, 3, 15, 11, 1, 6, 4, 6, 10, 14, 6, 9, 1, 11, 5, 1, 5, 5, 8, 11, 2, 3, 7, 5, 3, 6, 6, 8, 2, 3, 15, 3, 6, 3, 14, 3, 11, 13, 10, 15, 3, 3, 14, 2, 3, 6, 9, 12, 9, 2, 4, 7, 13, 14, 3, 10, 13, 13, 12, 3, 8, 9, 1, 4, 5, 10, 11, 10, 3, 11, 14, 3, 5, 11, 11, 5, 3, 12, 5, 6, 11, 3, 7, 9, 11, 1, 2, 3, 4, 9, 11, 12, 14, 2, 3, 6, 9, 15, 2, 3, 4, 10, 14, 6, 12, 2, 4, 9, 11, 13, 15, 11, 3, 12, 12, 3, 6, 7, 10, 11, 13, 13, 4, 12, 2, 6, 13, 14, 14, 3, 8, 9, 10, 2, 6, 7, 1, 5, 15, 2, 5, 6, 10, 11, 12, 14, 1, 3, 4, 5, 6, 11, 13, 3, 4, 13, 13, 5, 7, 11, 14, 1, 7, 9, 15, 2, 3, 4, 7, 11, 13, 15, 2, 6, 6, 14, 15, 1, 5, 14, 13, 10, 3, 4, 9, 3, 7, 2, 3, 6, 10, 14, 13, 5, 10, 14, 3, 5, 13, 10, 12, 14, 15, 1, 4, 8, 10, 15, 3, 5, 13, 5, 5, 1, 5, 8, 12, 15, 9, 1, 8, 10, 2, 12, 14, 14, 2, 7, 8, 1, 4, 5, 9, 11, 13, 12, 2, 4, 6, 15, 3, 13, 14, 15, 4, 12, 15, 12, 2, 11, 2, 3, 4, 7, 9, 12, 1, 5, 12, 4, 6, 1, 5, 1, 2, 4, 6, 12, 13, 10, 3, 4, 11, 13, 5, 15, 10, 13, 4, 7, 12, 1, 12, 2, 13, 13, 11, 12, 1, 2, 3, 4, 5, 6, 7, 8, 9, 11, 12, 13, 14, 15, 4, 10, 11, 12, 3, 10, 15, 7, 11, 13, 14, 15, 1, 5, 3, 6, 7, 10, 13, 1, 2, 1, 2, 5, 6, 7, 9, 10, 12, 13, 15, 1, 9, 13, 14, 15, 1, 5, 11, 12, 13, 11, 12, 13, 15, 11, 12, 13, 15, 14, 1, 3, 4, 6, 7, 10, 1, 9, 3, 8, 1, 2, 8, 13, 4, 2, 4, 8, 7, 10, 1, 5, 11, 15, 12, 2, 4, 6, 7, 8, 9, 10, 1, 2, 3, 5, 6, 9, 11, 12, 13, 7, 12, 11, 4, 12, 14, 1, 14, 1, 15, 8, 1, 1, 6, 8, 12, 14, 1, 2, 4, 9, 13, 14, 3, 5, 7, 9, 8, 3, 4, 11, 14, 1, 2, 4, 8, 15, 2, 3, 6, 7, 11, 13, 1, 2, 5, 6, 13, 1, 3, 5, 7, 8, 12, 1, 3, 4, 8, 9, 11, 14, 12, 2, 6, 12, 13, 6, 13, 9, 12, 9, 3, 8, 4, 6, 7, 6, 7, 12, 2, 6, 9, 4, 5, 9, 12, 13, 1, 5, 15, 1, 5, 10, 1, 4, 8, 11, 13, 7, 8, 13, 14, 3, 7, 11, 12, 14, 14, 13, 5, 1, 2, 3, 4, 5, 7, 11, 12, 13, 15, 1, 5, 13, 15, 1, 3, 14, 15, 5, 11, 13, 6, 2, 3, 5, 1, 5, 7, 8, 10, 12, 1, 6, 12, 13, 11, 2, 3, 4, 6, 7, 12, 13, 1, 2, 6, 13, 2, 6, 10, 1, 3, 4, 7, 3, 7, 4, 7, 2, 7, 11, 11, 4, 8, 12, 4, 2, 6, 3, 4, 7, 11, 14, 5, 10, 1, 5, 2, 3, 4, 7, 8, 10, 11, 12, 13, 2, 13, 4, 4, 9, 14, 5, 6, 7, 9, 5, 11, 14, 7, 12, 2, 3, 5, 8, 10, 13, 1, 3, 5, 8, 14, 2, 5, 6, 7, 1, 2, 3, 7, 8, 11, 13, 5, 12, 14, 5, 10, 14, 4, 6, 12, 8, 1, 3, 4, 9, 10, 14, 1, 12, 15, 1, 2, 4, 5, 8, 9, 10, 12, 3, 5, 6, 7, 10, 13, 9, 2, 4, 6, 11, 2, 3, 4, 6, 7, 8, 9, 11, 13, 14, 8, 2, 7, 11, 1, 2, 3, 4, 5, 7, 10, 11, 12, 15, 1, 15, 3, 4, 6, 7, 10, 1, 2, 4, 6, 7, 8, 10, 11, 15, 1, 5, 14, 12, 14, 2, 12, 13, 3, 7, 12, 1, 2, 3, 4, 6, 7, 10, 11, 13, 4, 11, 13, 14, 3, 4, 7, 9, 15, 2, 14, 2, 1, 3, 4, 7, 11, 13, 2, 10, 2, 4, 6, 7, 4, 13, 6, 13, 1, 2, 3, 4, 5, 6, 8, 9, 10, 12, 13, 14, 15, 9, 13, 2, 6, 15, 1, 4, 5, 9, 10, 13, 2, 7, 9, 13, 15, 1, 3, 4, 5, 6, 9, 12, 14, 15, 1, 2, 3, 4, 5, 6, 7, 8, 10, 11, 13, 14, 15, 8, 15, 2, 9, 4, 9, 2, 4, 6, 9, 9, 6, 9, 2, 6, 9, 2, 6, 8, 9, 11, 1, 2, 4, 6, 7, 8, 9, 10, 12, 14, 1, 4, 6, 2, 2, 7, 15, 1, 7, 8, 9, 10, 11, 12, 2, 6, 8, 11, 13, 12, 1, 3, 4, 6, 8, 9, 15, 8, 14, 1, 2, 3, 5, 9, 10, 11, 12, 13, 14, 3, 4, 6, 5, 6, 12, 1, 5, 8, 10, 11, 14, 1, 6, 8, 10, 13, 1, 4, 6, 7, 8, 11, 12, 1, 4, 7, 11, 12, 13, 14, 2, 15, 1, 2, 3, 5, 15, 1, 6, 9, 12, 2, 3, 4, 7, 8, 9, 11, 1, 7, 14, 3, 14, 3, 6, 8, 6, 1, 4, 15, 3, 13, 5, 13, 2, 2, 3, 4, 7, 13, 14, 6, 13, 4, 10, 3, 5, 10, 1, 3, 6, 7, 8, 12, 13, 14, 15, 1, 5, 6, 7, 9, 11, 14, 1, 10, 12, 13, 3, 14, 5, 2, 5, 9, 11, 12, 13, 15, 5, 2, 6, 9, 6, 2, 3, 4, 6, 7, 8, 12, 6, 1, 8, 12, 13, 10, 11, 13, 1, 5, 6, 1, 8, 9, 5, 10, 1, 15, 2, 4, 6, 7, 9, 15, 2, 10, 14, 4, 14, 1, 5, 12, 3, 4, 1, 5, 7, 8, 12, 13, 1, 5, 7, 11, 12, 14, 7, 12, 1, 2, 3, 4, 5, 6, 7, 8, 9, 11, 12, 13, 14, 15, 2, 13, 2, 3, 5, 3, 4, 15, 3, 7, 11, 1, 2, 3, 5, 7, 9, 10, 11, 12, 13, 14, 15, 11, 6, 13, 6, 11, 13, 1, 4, 5, 6, 8, 12, 13, 1, 2, 5, 12, 1, 2, 3, 4, 5, 10, 12, 13, 14, 1, 2, 3, 4, 7, 9, 10, 11, 12, 13, 14, 2, 4, 6, 7, 9, 11, 12, 14, 1, 3, 4, 5, 8, 12, 14, 7, 11, 12, 4, 15, 5, 7, 12, 2, 7, 1, 1, 2, 5, 13, 6, 9, 12, 14, 1, 3, 4, 9, 10, 6, 3, 6, 7, 10, 13, 5, 15, 13, 3, 10, 3, 12, 7, 6, 9, 11, 13, 1, 10, 15, 6, 13, 15, 2, 4, 5, 12, 13, 15, 2, 7, 9, 5, 4, 4, 7, 11, 1, 2, 4, 6, 7, 14, 15, 5, 14, 1, 3, 4, 5, 7, 8, 9, 10, 11, 12, 13, 15, 9, 4, 4, 1, 2, 3, 4, 5, 6, 7, 9, 12, 15, 1, 3, 4, 7, 8, 11, 12, 14, 6, 9, 7, 1, 3, 4, 5, 13, 7, 12, 7, 15, 15, 2, 4, 3, 5, 7, 8, 15, 2, 6, 12, 14, 1, 2, 5, 9, 11, 15, 4, 9, 11, 13, 14, 15, 3, 11, 12, 1, 4, 5, 8, 9, 10, 6, 9, 11, 5, 11, 8, 11, 2, 8, 11, 13, 14, 15, 1, 5, 14, 15, 1, 5, 1, 10, 3, 12, 12, 7, 14, 2, 5, 6, 15, 2, 2, 14, 2, 2, 4, 6, 7, 8, 9, 11, 14, 1, 7, 10, 13, 14, 15, 1, 5, 8, 10, 13, 8, 12, 2, 3, 4, 7, 9, 11, 4, 6, 7, 8, 9, 11, 13, 15, 2, 3, 4, 6, 7, 9, 11, 4, 8, 13, 11, 12, 10, 12, 15, 11, 12, 11, 4, 10, 12, 15, 4, 8, 7, 10, 7, 4, 6, 11, 11, 14, 1, 5, 6, 8, 12, 13, 15, 2, 3, 4, 5, 6, 12, 1, 3, 8, 10, 12, 13, 14, 4, 4, 12, 15, 1, 2, 4, 5, 6, 7, 8, 10, 11, 12, 13, 14, 15, 4, 1, 7, 8, 9, 10, 13, 14, 15, 2, 6, 14, 13, 2, 15, 2, 2, 14, 2, 6, 12, 7, 5, 15, 1, 2, 3, 4, 5, 6, 7, 8, 9, 10, 13, 14, 4, 7, 11, 6, 7, 12, 2, 11, 1, 5, 8, 11, 14, 3, 7, 10, 15, 1, 7, 13, 14, 15, 3, 5, 8, 5, 13, 2, 3, 4, 5, 7, 9, 12, 14, 3, 7, 12, 3, 4, 10, 11, 12, 14, 3, 6, 13, 14, 15, 1, 8, 14, 10, 13, 9, 4, 5, 9, 13, 1, 11, 15, 3, 1, 4, 5, 6, 7, 8, 10, 13, 14, 15, 11, 14, 11, 9, 1, 5, 3, 5, 6, 12, 14, 15, 2, 3, 10, 13, 11, 8, 4, 6, 8, 7, 11, 8, 11, 7, 13, 3, 4, 5, 9, 11, 14, 15, 1, 3, 4, 5, 9, 14, 3, 5, 8, 9, 11, 12, 14, 15, 2, 6, 6, 2, 2, 1, 4, 5, 8, 13, 1, 2, 5, 1, 3, 4, 8, 10, 11, 12, 13, 3, 12, 8, 15, 1, 15, 1, 4, 5, 9, 1, 3, 5, 9, 11, 12, 14, 2, 4, 5, 9, 15, 3, 4, 6, 7, 8, 11, 12, 13, 14, 6, 7, 14, 1, 3, 9, 11, 10, 11, 9, 9, 11, 4, 9, 3, 4, 6, 10, 13, 14, 15, 1, 2, 4, 5, 6, 7, 9, 11, 13, 7, 13, 11, 11, 13, 1, 2, 5, 1, 5, 10, 13, 2, 4, 14, 1, 5, 12, 13, 5, 4, 5, 15, 1, 3, 7, 11, 13, 10, 5, 2, 7, 9, 11, 14, 3, 15, 9, 14, 15, 1, 4, 6, 7, 8, 9, 11, 14, 12, 8, 3, 6, 12, 13, 1, 5, 6, 8, 10, 11, 12, 4, 11, 11, 5, 8, 2, 4, 6, 7, 15, 1, 5, 14, 15, 5, 4, 7, 9, 11, 14, 3, 6, 13, 1, 11, 11, 4, 8, 6, 13, 15, 9, 11, 12, 13, 1, 2, 5, 12, 13, 15, 11, 1, 2, 3, 4, 6, 7, 8, 14, 1, 3, 8, 9, 11, 13, 14, 3, 3, 4, 15, 10, 9, 10, 3, 3, 8, 12, 8, 5, 1, 1, 2, 5, 7, 9, 10, 11, 15, 4, 11, 1, 5, 8, 11, 3, 4, 5, 11, 2, 3, 4, 6, 7, 8, 9, 10, 11, 13, 15, 11, 15, 9, 10, 15, 4, 5, 9, 9, 1, 5, 6, 8, 9, 12, 14, 15, 4, 7, 5, 1, 7, 9, 10, 14, 15, 10, 1, 2, 3, 4, 5, 7, 9, 11, 12, 13, 14, 15, 1, 2, 3, 5, 8, 9, 11, 12, 13, 15, 3, 6, 11, 11, 1, 2, 3, 4, 5, 6, 7, 8, 9, 10, 11, 12, 13, 15, 3, 5, 13, 5, 15, 3, 6, 7, 10, 11, 14, 11, 13, 1, 5, 10, 13, 15, 12, 15, 9, 10, 4, 7, 8, 10, 14, 5, 6, 1, 3, 5, 9, 11, 12, 14, 15, 4, 3, 5, 6, 11, 12, 12, 4, 5, 6, 2, 5, 13, 14, 3, 6, 10, 12, 2, 5, 13, 10, 13, 1, 2, 3, 4, 5, 7, 9, 11, 12, 13, 15, 2, 11, 14, 13, 3, 15, 1, 10, 4, 6, 9, 3, 6, 11, 12, 2, 4, 13, 4, 7, 10, 11, 11, 5, 12, 4, 5, 10, 2, 3, 4, 6, 7, 9, 11, 12, 14, 8, 2, 5, 6, 11, 15, 4, 14, 14, 5, 12, 3, 4, 15, 4, 12, 5, 12, 15, 8, 10, 12, 14, 1, 2, 3, 5, 6, 8, 9, 10, 11, 12, 13, 8, 11, 12, 8, 3, 9, 2, 3, 7, 11, 12, 1, 2, 4, 5, 9, 12, 15, 13, 4, 14, 4, 5, 11, 13, 4, 2, 4, 5, 7, 14, 15, 1, 3, 5, 6, 7, 10, 11, 14, 15, 1, 2, 3, 4, 8, 9, 12, 13, 1, 13, 1, 5, 6, 7, 9, 10, 5, 2, 5, 6, 2, 6, 15, 15], \"Freq\": [0.8649939894676208, 0.04730435833334923, 0.020273296162486076, 0.06081989035010338, 0.021094873547554016, 0.3797076940536499, 0.5062769651412964, 0.07383205741643906, 0.811368465423584, 0.07974456250667572, 0.1367049664258957, 0.6493485569953918, 0.0227841604501009, 0.10252872109413147, 0.7485921382904053, 0.16635380685329437, 0.18303796648979187, 0.7687594294548035, 0.7211529612541199, 0.2486734390258789, 0.902064323425293, 0.12746618688106537, 0.008690876886248589, 0.32735633850097656, 0.5330404043197632, 0.1657017320394516, 0.09468670189380646, 0.7101503014564514, 0.023671675473451614, 0.8726571798324585, 0.036180779337882996, 0.36582788825035095, 0.5949728488922119, 0.13446837663650513, 0.03245788440108299, 0.255026251077652, 0.5471472144126892, 0.027821045368909836, 0.9580622911453247, 0.12781864404678345, 0.28759196400642395, 0.5751839280128479, 0.172089621424675, 0.5277414917945862, 0.21798017621040344, 0.08030848950147629, 0.8826744556427002, 0.35896915197372437, 0.5044971704483032, 0.1261242926120758, 0.8743364810943604, 0.06725665181875229, 0.8858086466789246, 0.3016163408756256, 0.6326586604118347, 0.04413897544145584, 0.014712992124259472, 0.8969443440437317, 0.35886597633361816, 0.0774824246764183, 0.4526605010032654, 0.11010660976171494, 0.03402997553348541, 0.18716487288475037, 0.7486594915390015, 0.017014987766742706, 0.8952070474624634, 0.0994674488902092, 0.8493742346763611, 0.1365065723657608, 0.7138199210166931, 0.11896998435258865, 0.9947381019592285, 0.19041500985622406, 0.7997430562973022, 0.2807515859603882, 0.012803003191947937, 0.22953955829143524, 0.06492951512336731, 0.098766028881073, 0.0064015015959739685, 0.0036580010782927275, 0.012803003191947937, 0.07590351998806, 0.17284055054187775, 0.04115251079201698, 0.8409940004348755, 0.905336320400238, 0.08622250705957413, 0.8284010887145996, 0.016243157908320427, 0.146188423037529, 0.8984281420707703, 0.06910985708236694, 0.8151624202728271, 0.16303248703479767, 0.9296009540557861, 0.9920102953910828, 0.14834600687026978, 0.7602733373641968, 0.07417300343513489, 0.055194392800331116, 0.9107074737548828, 0.9644138813018799, 0.13937829434871674, 0.836269736289978, 0.04778913035988808, 0.3823130428791046, 0.04778913035988808, 0.5097507238388062, 0.12178480625152588, 0.8739850521087646, 0.9500110745429993, 0.9528616666793823, 0.9409174919128418, 0.7324947714805603, 0.2581743896007538, 0.9087730050086975, 0.05345723778009415, 0.9942218661308289, 0.9545509219169617, 0.27809303998947144, 0.6488838195800781, 0.8678775429725647, 0.9537525773048401, 0.045038316398859024, 0.7247146368026733, 0.12078578025102615, 0.9013797044754028, 0.46765050292015076, 0.5216101408004761, 0.9696293473243713, 0.02063041180372238, 0.919650673866272, 0.9367699027061462, 0.20970796048641205, 0.4376513957977295, 0.3464740216732025, 0.9178926944732666, 0.07343141734600067, 0.9832726716995239, 0.9747019410133362, 0.9035588502883911, 0.9626240730285645, 0.7008307576179504, 0.06754995137453079, 0.0016887488309293985, 0.22966983914375305, 0.8592489361763, 0.9542463421821594, 0.7978965640068054, 0.011081896722316742, 0.04432758688926697, 0.14406466484069824, 0.7471725940704346, 0.08966070413589478, 0.14943450689315796, 0.9378923773765564, 0.9791960716247559, 0.9776231050491333, 0.18009409308433533, 0.7203763723373413, 0.0339929573237896, 0.6118732690811157, 0.10197887569665909, 0.09064789116382599, 0.14730282127857208, 0.9296861290931702, 0.941615879535675, 0.05089815333485603, 0.9367699027061462, 0.7880591154098511, 0.08443490415811539, 0.11257986724376678, 0.9722306728363037, 0.9164977669715881, 0.24110323190689087, 0.755456805229187, 0.8678775429725647, 0.751654863357544, 0.093956857919693, 0.18856744468212128, 0.7542697787284851, 0.7716759443283081, 0.14030471444129944, 0.03472257778048515, 0.20337510108947754, 0.0694451555609703, 0.29266172647476196, 0.1388903111219406, 0.13392995297908783, 0.08928663283586502, 0.03472257778048515, 0.11448311805725098, 0.020815111696720123, 0.07285289466381073, 0.7805666923522949, 0.8826065063476562, 0.3554735481739044, 0.13507995009422302, 0.4336777329444885, 0.07109471410512924, 0.007109471131116152, 0.9022387266159058, 0.9184004664421082, 0.1562882661819458, 0.16670748591423035, 0.06251531094312668, 0.3750918507575989, 0.23964200913906097, 0.9255822896957397, 0.9626150131225586, 0.9889289140701294, 0.9284538626670837, 0.7923440337181091, 0.015945767983794212, 0.11162037402391434, 0.32688823342323303, 0.03986441716551781, 0.32688823342323303, 0.1754034459590912, 0.8824413418769836, 0.14542001485824585, 0.8361650705337524, 0.9075568914413452, 0.04463394731283188, 0.04463394731283188, 0.8993609547615051, 0.9774481654167175, 0.9327192306518555, 0.037147171795368195, 0.14858868718147278, 0.8048554062843323, 0.6689496636390686, 0.3251838684082031, 0.8436382412910461, 0.8070402145385742, 0.17293719947338104, 0.9101045727729797, 0.1792934387922287, 0.03897683322429657, 0.14031660556793213, 0.31181466579437256, 0.14031660556793213, 0.07795366644859314, 0.10133977234363556, 0.30047085881233215, 0.04231983795762062, 0.4951421320438385, 0.03808785602450371, 0.09733562916517258, 0.02539190463721752, 0.8075762987136841, 0.7068910598754883, 0.018125411123037338, 0.25375574827194214, 0.9304609298706055, 0.20354244112968445, 0.7802460193634033, 0.828944206237793, 0.12752987444400787, 0.18421071767807007, 0.036842141300439835, 0.1105264276266098, 0.6631585359573364, 0.37398895621299744, 0.18441525101661682, 0.20375950634479523, 0.0851147323846817, 0.06448085606098175, 0.08640434592962265, 0.0012896171538159251, 0.8447462916374207, 0.11732587963342667, 0.4283693730831146, 0.52016282081604, 0.9410738348960876, 0.012861780822277069, 0.3858534097671509, 0.591641902923584, 0.8332502841949463, 0.9128025770187378, 0.8261889815330505, 0.07510808855295181, 0.9040789604187012, 0.1306246519088745, 0.8272894620895386, 0.22622348368167877, 0.014753705821931362, 0.09344013780355453, 0.6589988470077515, 0.910640299320221, 0.9305793642997742, 0.2263958901166916, 0.6791876554489136, 0.04527917876839638, 0.19143365323543549, 0.7178761959075928, 0.08204299956560135, 0.2294580042362213, 0.7539334297180176, 0.830743134021759, 0.9645967483520508, 0.2398385852575302, 0.2475753128528595, 0.07736728340387344, 0.3326793313026428, 0.09284073859453201, 0.17527781426906586, 0.08763890713453293, 0.7449306845664978, 0.9021269679069519, 0.9593266248703003, 0.7847306728363037, 0.15944965183734894, 0.04649372771382332, 0.008643064647912979, 0.00029803672805428505, 0.9402527809143066, 0.3012116849422455, 0.08433926850557327, 0.6084476113319397, 0.8806151747703552, 0.8883731365203857, 0.09351295977830887, 0.9035086631774902, 0.15130308270454407, 0.8170366287231445, 0.8842344284057617, 0.3242516815662384, 0.05536004155874252, 0.1265372335910797, 0.03163430839776993, 0.4270631670951843, 0.03163430839776993, 0.9332733750343323, 0.15953341126441956, 0.24655163288116455, 0.23204860091209412, 0.34807291626930237, 0.795932412147522, 0.08290962129831314, 0.09949155151844025, 0.8820734620094299, 0.9362356662750244, 0.15262405574321747, 0.7631202340126038, 0.8192046284675598, 0.8209224939346313, 0.13682042062282562, 0.025296084582805634, 0.392089307308197, 0.43635743856430054, 0.04743015766143799, 0.001581005286425352, 0.09486031532287598, 0.7230927348136902, 0.21635845303535461, 0.05693643540143967, 0.05820610001683235, 0.9312976002693176, 0.996380627155304, 0.0025288849137723446, 0.02138332836329937, 0.07840553671121597, 0.08553331345319748, 0.7056497931480408, 0.007127775810658932, 0.0997888594865799, 0.777237594127655, 0.9533977508544922, 0.7725353240966797, 0.121979258954525, 0.08131950348615646, 0.08269019424915314, 0.9095921516418457, 0.5014971494674683, 0.465675950050354, 0.2923251688480377, 0.682092010974884, 0.8972671627998352, 0.9130498170852661, 0.05827977508306503, 0.7953610420227051, 0.18354485929012299, 0.908751368522644, 0.46637383103370667, 0.5303859114646912, 0.18958257138729095, 0.030477851629257202, 0.03667673468589783, 0.04649163782596588, 0.020662950351834297, 0.1575549989938736, 0.01394749153405428, 0.01962980255484581, 0.2458890974521637, 0.01394749153405428, 0.005165737587958574, 0.006198884919285774, 0.005682311020791531, 0.20869579911231995, 0.12453220039606094, 0.6475674510002136, 0.12453220039606094, 0.09962576627731323, 0.21734113991260529, 0.0724470466375351, 0.652023434638977, 0.006140145473182201, 0.006140145473182201, 0.8534802198410034, 0.03684087097644806, 0.09824232757091522, 0.027979440987110138, 0.9513009786605835, 0.1661473661661148, 0.0519210547208786, 0.5295947194099426, 0.02076842077076435, 0.2180684208869934, 0.9757367372512817, 0.9162060022354126, 0.0386771485209465, 0.5672648549079895, 0.016115479171276093, 0.02256167121231556, 0.0064461915753781796, 0.01933857426047325, 0.009669287130236626, 0.20305503904819489, 0.11925454437732697, 0.797114372253418, 0.9057676792144775, 0.23688700795173645, 0.7445020079612732, 0.7411321401596069, 0.18528303503990173, 0.1275814175605774, 0.4784303307533264, 0.15150293707847595, 0.15150293707847595, 0.08771222829818726, 0.056126974523067474, 0.7483596801757812, 0.14655376970767975, 0.04677248001098633, 0.04402560368180275, 0.6053520441055298, 0.2861664295196533, 0.05503200367093086, 0.9006699323654175, 0.7469611167907715, 0.07668422162532806, 0.06248344108462334, 0.03692203387618065, 0.008520469069480896, 0.0653235986828804, 0.1708386242389679, 0.6833544969558716, 0.13094553351402283, 0.6547276973724365, 0.01590278185904026, 0.8364863395690918, 0.022263893857598305, 0.12086114287376404, 0.9397639036178589, 0.7781980633735657, 0.2705337405204773, 0.6956581473350525, 0.6523503065109253, 0.2854032516479492, 0.06363284587860107, 0.8908597826957703, 0.04242189601063728, 0.7972809076309204, 0.8710196018218994, 0.0758746936917305, 0.02529156394302845, 0.151749387383461, 0.16861043870449066, 0.2782072126865387, 0.16861043870449066, 0.1264578253030777, 0.32672467827796936, 0.2424086332321167, 0.026348764076828957, 0.06850678473711014, 0.04215802252292633, 0.03688826784491539, 0.08168116956949234, 0.0764114186167717, 0.10012530535459518, 0.03393492102622986, 0.9162428379058838, 0.976791501045227, 0.08051443099975586, 0.7850157022476196, 0.12077164649963379, 0.9418985247612, 0.04957360774278641, 0.9276838302612305, 0.7972009181976318, 0.8418886065483093, 0.8863146901130676, 0.890484094619751, 0.056748759001493454, 0.6809850931167603, 0.17024627327919006, 0.056748759001493454, 0.2533651292324066, 0.050673022866249084, 0.020269209519028664, 0.17228828370571136, 0.4053841829299927, 0.08107683807611465, 0.9296614527702332, 0.31736496090888977, 0.15868248045444489, 0.5048987865447998, 0.9249125719070435, 0.07892297208309174, 0.07892297208309174, 0.7366144061088562, 0.07892297208309174, 0.08745485544204712, 0.2040613293647766, 0.11660647392272949, 0.5830323696136475, 0.8223356604576111, 0.5814377665519714, 0.023257510736584663, 0.0814012885093689, 0.04651502147316933, 0.19768883287906647, 0.058143775910139084, 0.03863758593797684, 0.7486032247543335, 0.08693456649780273, 0.04346728324890137, 0.0821048691868782, 0.2809492349624634, 0.08027121424674988, 0.09364974498748779, 0.4013560712337494, 0.05351414158940315, 0.09364974498748779, 0.5964635014533997, 0.06834477931261063, 0.05591845512390137, 0.14290271699428558, 0.02485264651477337, 0.006213161628693342, 0.1056237444281578, 0.9451431632041931, 0.23018646240234375, 0.1096126064658165, 0.6576756238937378, 0.9467121362686157, 0.07404730468988419, 0.8145202994346619, 0.10019593685865402, 0.8516654372215271, 0.8230416178703308, 0.8871285915374756, 0.7687240839004517, 0.16922862827777863, 0.12692146003246307, 0.6346073150634766, 0.16890496015548706, 0.6273612976074219, 0.16890496015548706, 0.36387181282043457, 0.06642104685306549, 0.5689107179641724, 0.008132603019475937, 0.6302767395973206, 0.08132603019475937, 0.07725972682237625, 0.1992487758398056, 0.06217483431100845, 0.8238165974617004, 0.10880596190690994, 0.16009995341300964, 0.003480433952063322, 0.8353041410446167, 0.009267998859286308, 0.07414399087429047, 0.6858319044113159, 0.05560798943042755, 0.16682396829128265, 0.9233947992324829, 0.15683689713478088, 0.8155518174171448, 0.979174017906189, 0.07420068979263306, 0.22260206937789917, 0.07420068979263306, 0.5750553607940674, 0.05565051734447479, 0.8474280834197998, 0.8712350130081177, 0.9498178362846375, 0.10175738483667374, 0.032562363892793655, 0.11396826803684235, 0.0468083955347538, 0.044773247092962265, 0.05698413401842117, 0.39481863379478455, 0.14449548721313477, 0.05494898557662964, 0.010175738483667374, 0.010247512720525265, 0.5226231217384338, 0.2049502581357956, 0.26643532514572144, 0.7018960118293762, 0.2064400017261505, 0.04128799960017204, 0.05161000043153763, 0.8859314918518066, 0.06814857572317123, 0.9647783637046814, 0.8563723564147949, 0.12748833000659943, 0.12748833000659943, 0.7394323348999023, 0.8734819889068604, 0.038956351578235626, 0.11686906218528748, 0.49344712495803833, 0.1428399682044983, 0.19478176534175873, 0.5184892416000366, 0.013644454069435596, 0.054577816277742386, 0.3956891894340515, 0.9587722420692444, 0.23112896084785461, 0.13156571984291077, 0.5120395421981812, 0.007111660670489073, 0.02489081211388111, 0.01777915097773075, 0.071116603910923, 0.9432160258293152, 0.3591230809688568, 0.4008815884590149, 0.23384758830070496, 0.5205134749412537, 0.3861874043941498, 0.09234916418790817, 0.9686665534973145, 0.5690171122550964, 0.08259925991296768, 0.3395747244358063, 0.13211451470851898, 0.7926870584487915, 0.26982560753822327, 0.7100673317909241, 0.004307979717850685, 0.9813578128814697, 0.012923939153552055, 0.9553667902946472, 0.11988408863544464, 0.7792465686798096, 0.9140167236328125, 0.8547438383102417, 0.8776818513870239, 0.10674509406089783, 0.013124746270477772, 0.6562373042106628, 0.24937018752098083, 0.026249492540955544, 0.03937423974275589, 0.132504403591156, 0.7950263619422913, 0.9501057267189026, 0.043851036578416824, 0.2512681782245636, 0.11884306371212006, 0.4312305450439453, 0.11544754356145859, 0.0067910319194197655, 0.030559644103050232, 0.02037309668958187, 0.030559644103050232, 0.8077807426452637, 0.9294695854187012, 0.03793753311038017, 0.8564823865890503, 0.9185137152671814, 0.05925895273685455, 0.8635942339897156, 0.21122542023658752, 0.07040847092866898, 0.5163288116455078, 0.18775592744350433, 0.013546079397201538, 0.08127647638320923, 0.8940412402153015, 0.9308087825775146, 0.8703435063362122, 0.08573758602142334, 0.09431134909391403, 0.004286879673600197, 0.06001631170511246, 0.7587776780128479, 0.9420182704925537, 0.17283469438552856, 0.12962602078914642, 0.12962602078914642, 0.05281059816479683, 0.5137031078338623, 0.09603813290596008, 0.19207626581192017, 0.12805083394050598, 0.5762287974357605, 0.5596063733100891, 0.042578745633363724, 0.09124016761779785, 0.03649606555700302, 0.1703149825334549, 0.042578745633363724, 0.04866142198443413, 0.4083016514778137, 0.1103517934679985, 0.48554790019989014, 0.8918808698654175, 0.07432340830564499, 0.8944832682609558, 0.8090453743934631, 0.10113067179918289, 0.8702989816665649, 0.9280198216438293, 0.07958431541919708, 0.045476749539375305, 0.09095349907875061, 0.31833726167678833, 0.07958431541919708, 0.3865523934364319, 0.2344934642314911, 0.09379738569259644, 0.656581699848175, 0.18238505721092224, 0.01779366470873356, 0.06450203061103821, 0.09564094245433807, 0.531585693359375, 0.04448416084051132, 0.01779366470873356, 0.04448416084051132, 0.06802064925432205, 0.022673550993204117, 0.037789251655340195, 0.14359915256500244, 0.19272518157958984, 0.5290495157241821, 0.95575350522995, 0.07213162630796432, 0.6131188273429871, 0.2765045762062073, 0.024043874815106392, 0.10472134500741959, 0.04114052653312683, 0.007480096071958542, 0.09724124521017075, 0.1608220636844635, 0.15708202123641968, 0.05236067250370979, 0.20196259021759033, 0.08228105306625366, 0.09724124521017075, 0.9013738036155701, 0.1890968382358551, 0.661838948726654, 0.09454841911792755, 0.27922117710113525, 0.017235875129699707, 0.17235875129699707, 0.058601971715688705, 0.07239067554473877, 0.15167570114135742, 0.02413022518157959, 0.10686241835355759, 0.06894350051879883, 0.0413661003112793, 0.009653383865952492, 0.9894718527793884, 0.20923778414726257, 0.15240776538848877, 0.5605505704879761, 0.07491228729486465, 0.002583182416856289, 0.018765049055218697, 0.009382524527609348, 0.009382524527609348, 0.1407378613948822, 0.5817165374755859, 0.09382524341344833, 0.07506019622087479, 0.009382524527609348, 0.04691262170672417, 0.16159586608409882, 0.8241389393806458, 0.7944027781486511, 0.8189267516136169, 0.8375263810157776, 0.8140706419944763, 0.07255540788173676, 0.8706648945808411, 0.9635249972343445, 0.9068693518638611, 0.9370505809783936, 0.03171956166625023, 0.35684508085250854, 0.023789672181010246, 0.13480813801288605, 0.11498341709375381, 0.035684507340192795, 0.027754617854952812, 0.11101847141981125, 0.162562757730484, 0.05829446017742157, 0.1748833805322647, 0.6995335221290588, 0.05829446017742157, 0.942234456539154, 0.03670695424079895, 0.11012085527181625, 0.7341390252113342, 0.12235651165246964, 0.9434342980384827, 0.05099644884467125, 0.907080888748169, 0.08235494792461395, 0.09882593899965286, 0.13176791369915009, 0.5270716547966003, 0.03294197842478752, 0.13176791369915009, 0.14409562945365906, 0.8165419101715088, 0.264309287071228, 0.7058612704277039, 0.01710236631333828, 0.010883323848247528, 0.30198991298675537, 0.6643778085708618, 0.35343390703201294, 0.6361810564994812, 0.052672531455755234, 0.10684999078512192, 0.09631548821926117, 0.04364295303821564, 0.07675140351057053, 0.15952251851558685, 0.004514788277447224, 0.23175913095474243, 0.0015049295034259558, 0.022573942318558693, 0.04063309729099274, 0.052672531455755234, 0.11136478185653687, 0.9988090991973877, 0.8839953541755676, 0.21913078427314758, 0.6939141154289246, 0.0365217961370945, 0.006384052336215973, 0.1659853607416153, 0.057456471025943756, 0.3128185570240021, 0.05107241868972778, 0.4021953046321869, 0.10782195627689362, 0.10782195627689362, 0.5870306491851807, 0.047920867800712585, 0.14376260340213776, 0.2838677763938904, 0.08590735495090485, 0.0037351022474467754, 0.18302001059055328, 0.05976163595914841, 0.12325837463140488, 0.1008477583527565, 0.033615920692682266, 0.12325837463140488, 0.1133902445435524, 0.003384783398360014, 0.00042309792479500175, 0.012269839644432068, 0.008038860745728016, 0.0025385874323546886, 0.0008461958495900035, 0.618992269039154, 0.12227530032396317, 0.0038078813813626766, 0.08292718976736069, 0.027501365169882774, 0.003384783398360014, 0.925561785697937, 0.8465051651000977, 0.7441164255142212, 0.22895890474319458, 0.08024688065052032, 0.9094645977020264, 0.10429058223962784, 0.048668939620256424, 0.29201361536979675, 0.5492637157440186, 0.8225834965705872, 0.8164640069007874, 0.16631673276424408, 0.27900850772857666, 0.25859323143959045, 0.4491356313228607, 0.023183250799775124, 0.11591625213623047, 0.6259477734565735, 0.11591625213623047, 0.0927330031991005, 0.06829551607370377, 0.11825241893529892, 0.06513368338346481, 0.0006323658744804561, 0.06797932833433151, 0.00031618293724022806, 0.003794195130467415, 0.5109516382217407, 0.0025294634979218245, 0.16251802444458008, 0.934953510761261, 0.18366627395153046, 0.7346650958061218, 0.9065366983413696, 0.2562301456928253, 0.03660430386662483, 0.6588774919509888, 0.1012444943189621, 0.12293973565101624, 0.021695248782634735, 0.1012444943189621, 0.0650857463479042, 0.18802548944950104, 0.397746205329895, 0.0977875143289566, 0.1466812640428543, 0.5867250561714172, 0.0977875143289566, 0.0488937571644783, 0.9162201881408691, 0.07803885638713837, 0.06503238528966904, 0.0032516191713511944, 0.10080019384622574, 0.029264573007822037, 0.6308141350746155, 0.0910453349351883, 0.7092036008834839, 0.14184072613716125, 0.12323922663927078, 0.0728231817483902, 0.2296731024980545, 0.03361069783568382, 0.2184695452451706, 0.06722139567136765, 0.11203566193580627, 0.01680534891784191, 0.05041604861617088, 0.06722139567136765, 0.4758860170841217, 0.046427905559539795, 0.46427905559539795, 0.8883386850357056, 0.857220470905304, 0.9114170670509338, 0.23969443142414093, 0.1664544641971588, 0.31959256529808044, 0.14647993445396423, 0.0932145044207573, 0.03329089283943176, 0.03299922123551369, 0.23924435675144196, 0.09074785560369492, 0.5857361555099487, 0.04949883371591568, 0.17089544236660004, 0.004747095517814159, 0.06171224266290665, 0.09494191408157349, 0.02373547852039337, 0.10443610697984695, 0.5316746830940247, 0.14255394041538239, 0.13364431262016296, 0.16037318110466003, 0.4098425507545471, 0.008909621275961399, 0.026728862896561623, 0.11582507193088531, 0.18485555052757263, 0.7394222021102905, 0.007044550031423569, 0.2747374475002289, 0.007044550031423569, 0.5072076320648193, 0.2042919546365738, 0.0329030379652977, 0.01645151898264885, 0.7403183579444885, 0.21386975049972534, 0.19270329177379608, 0.37372758984565735, 0.16934531927108765, 0.029197467491030693, 0.128468856215477, 0.029197467491030693, 0.07591341435909271, 0.16595911979675293, 0.6638364791870117, 0.8200607299804688, 0.8371646404266357, 0.13080696761608124, 0.8283417224884033, 0.09861210733652115, 0.05916726589202881, 0.83321213722229, 0.16474783420562744, 0.08871037513017654, 0.7350288033485413, 0.7394027709960938, 0.23851703107357025, 0.9087799787521362, 0.8667933344841003, 0.9086369872093201, 0.07813803106546402, 0.08464953303337097, 0.8009148240089417, 0.013023004867136478, 0.006511502433568239, 0.006511502433568239, 0.9398658275604248, 0.8966304659843445, 0.09708881378173828, 0.7767105102539062, 0.14671309292316437, 0.09780873358249664, 0.7335654497146606, 0.16267547011375427, 0.0301250871270895, 0.04217512160539627, 0.01205003447830677, 0.060250174254179, 0.22895066440105438, 0.16870048642158508, 0.22895066440105438, 0.06627519428730011, 0.1167459785938263, 0.06485887616872787, 0.05621102824807167, 0.021619625389575958, 0.12106990814208984, 0.06053495407104492, 0.5534624457359314, 0.3259585201740265, 0.2897408902645111, 0.048290152102708817, 0.31388598680496216, 0.9143379330635071, 0.8637276887893677, 0.9337950348854065, 0.5335355997085571, 0.08458491414785385, 0.026026127859950066, 0.04554572328925133, 0.013013063929975033, 0.07157184928655624, 0.20820902287960052, 0.9298816919326782, 0.9985570907592773, 0.8149721026420593, 0.06791434437036514, 0.822393000125885, 0.037416040897369385, 0.01247201394289732, 0.062360066920518875, 0.25151893496513367, 0.13095614314079285, 0.004157337825745344, 0.5009592175483704, 0.9035628437995911, 0.850317120552063, 0.12353746592998505, 0.12353746592998505, 0.7412247657775879, 0.667930543422699, 0.28053081035614014, 0.04007583111524582, 0.7346089482307434, 0.21953830122947693, 0.042218904942274094, 0.9424029588699341, 0.051403798162937164, 0.9840785264968872, 0.8301034569740295, 0.15092790126800537, 0.5983673334121704, 0.3794524669647217, 0.42043688893318176, 0.09749260544776917, 0.10967918485403061, 0.08530603349208832, 0.2681046724319458, 0.012186575680971146, 0.8555758595466614, 0.05461122468113899, 0.09101870656013489, 0.1636987328529358, 0.6547949314117432, 0.031780797988176346, 0.7309583425521851, 0.22246557474136353, 0.6579067707061768, 0.33956480026245117, 0.5831979513168335, 0.1227785125374794, 0.0027904207818210125, 0.0865030437707901, 0.1590539813041687, 0.0418563112616539, 0.9218151569366455, 0.17058652639389038, 0.09062409400939941, 0.053308289498090744, 0.6770152449607849, 0.002665414474904537, 0.19465239346027374, 0.7935827970504761, 0.20438742637634277, 0.0922119989991188, 0.14639844000339508, 0.021864701062440872, 0.06369282305240631, 0.011407669633626938, 0.04182812198996544, 0.058939628303050995, 0.04848259687423706, 0.10742222517728806, 0.07034730166196823, 0.08460688591003418, 0.03992684558033943, 0.006654474418610334, 0.7047054767608643, 0.29017284512519836, 0.25492867827415466, 0.6585657596588135, 0.06373216956853867, 0.1634243279695511, 0.776265561580658, 0.04085608199238777, 0.08852574974298477, 0.11381882429122925, 0.7967317700386047, 0.0916721299290657, 0.20556780695915222, 0.12222950905561447, 0.01944560371339321, 0.03611326217651367, 0.0027779433876276016, 0.06667064130306244, 0.07778241485357285, 0.19167809188365936, 0.0916721299290657, 0.01666766032576561, 0.0750044733285904, 0.8683075308799744, 0.7517769932746887, 0.8085389733314514, 0.7798218727111816, 0.07089290022850037, 0.14178580045700073, 0.8052164912223816, 0.006467602215707302, 0.057130489498376846, 0.03880561515688896, 0.06359808892011642, 0.006467602215707302, 0.021558674052357674, 0.7570406198501587, 0.056077081710100174, 0.037384722381830215, 0.14019270241260529, 0.0144432308152318, 0.011554584838449955, 0.1790960729122162, 0.19065065681934357, 0.06643886119127274, 0.06932751089334488, 0.0895480364561081, 0.05199563130736351, 0.3293056786060333, 0.2997601628303528, 0.22075359523296356, 0.037179555743932724, 0.1045674979686737, 0.1673079878091812, 0.0023237222339957952, 0.02323722094297409, 0.034855831414461136, 0.04647444188594818, 0.02323722094297409, 0.0418269969522953, 0.14443621039390564, 0.05031971260905266, 0.21106325089931488, 0.10250312089920044, 0.4603321850299835, 0.002329616341739893, 0.023762086406350136, 0.004659232683479786, 0.2577143609523773, 0.212894469499588, 0.03361491486430168, 0.12885718047618866, 0.21849696338176727, 0.06722982972860336, 0.07843480259180069, 0.7790987491607666, 0.9367555975914001, 0.06245037540793419, 0.9084437489509583, 0.053437866270542145, 0.214032381772995, 0.588589072227478, 0.16052429378032684, 0.9279460310935974, 0.7545680999755859, 0.875799298286438, 0.25727903842926025, 0.03215987980365753, 0.6592775583267212, 0.0482398197054863, 0.11776143312454224, 0.07065685838460922, 0.635911762714386, 0.14131371676921844, 0.01699335128068924, 0.03398670256137848, 0.7137207388877869, 0.10196010768413544, 0.11895345896482468, 0.9450521469116211, 0.2560232877731323, 0.02648516744375229, 0.37079232931137085, 0.06179872155189514, 0.27368006110191345, 0.8512166738510132, 0.9450910091400146, 0.874824047088623, 0.8488818407058716, 0.10186582058668137, 0.9437134265899658, 0.05242852121591568, 0.7555808424949646, 0.08276744931936264, 0.815850555896759, 0.04729568585753441, 0.03547176346182823, 0.04762645810842514, 0.14287938177585602, 0.806247889995575, 0.16273750364780426, 0.6916344165802002, 0.08136875182390213, 0.0049437265843153, 0.08404334634542465, 0.7415589690208435, 0.049437265843153, 0.0247186329215765, 0.0889870747923851, 0.13274957239627838, 0.037928447127342224, 0.8154616355895996, 0.9925678372383118, 0.9969173073768616, 0.43034911155700684, 0.010758727788925171, 0.5540744662284851, 0.9426289200782776, 0.11686791479587555, 0.07791194319725037, 0.09738992899656296, 0.6232955455780029, 0.08765093237161636, 0.8824390172958374, 0.8319082856178284, 0.09243424981832504, 0.21217204630374908, 0.03358118608593941, 0.10684923082590103, 0.0015264175599440932, 0.06716237217187881, 0.004579252563416958, 0.09769072383642197, 0.1495889276266098, 0.06258311867713928, 0.09463789314031601, 0.06563595682382584, 0.10379639267921448, 0.9834912419319153, 0.8798696398735046, 0.9539962410926819, 0.02347501739859581, 0.00521667068824172, 0.2112751603126526, 0.03912502899765968, 0.16432511806488037, 0.12259175628423691, 0.11476675420999527, 0.028691688552498817, 0.21649183332920074, 0.07564172148704529, 0.09242329001426697, 0.11045710742473602, 0.009016906842589378, 0.1127113327383995, 0.5477770566940308, 0.02028803899884224, 0.02254226617515087, 0.08340638875961304, 0.04487104341387749, 0.9422919154167175, 0.8871396780014038, 0.09441087394952774, 0.18155938386917114, 0.10893562436103821, 0.07262375205755234, 0.5374157428741455, 0.9094351530075073, 0.9332677721977234, 0.7487503290176392, 0.1871875822544098, 0.9103202223777771, 0.9251819252967834, 0.8780924081802368, 0.11751881241798401, 0.1958646923303604, 0.01566917449235916, 0.6659399271011353, 0.9780641794204712, 0.019783981144428253, 0.9682512879371643, 0.01163763552904129, 0.8471492528915405, 0.6236884593963623, 0.15245717763900757, 0.1247376948595047, 0.06236884742975235, 0.013859744183719158, 0.02078961580991745, 0.1715075671672821, 0.19600865244865417, 0.24501080811023712, 0.06125270202755928, 0.269511878490448, 0.06125270202755928, 0.05656376853585243, 0.9050202965736389, 0.9482660889625549, 0.39760392904281616, 0.022591132670640945, 0.420195072889328, 0.05873694643378258, 0.05873694643378258, 0.04066403955221176, 0.694076657295227, 0.08675958216190338, 0.20822300016880035, 0.8848628401756287, 0.9039075374603271, 0.9306274056434631, 0.05474278703331947, 0.05342936888337135, 0.22898301482200623, 0.05342936888337135, 0.37400558590888977, 0.22898301482200623, 0.05342936888337135, 0.7783849239349365, 0.12533316016197205, 0.052771858870983124, 0.04617537558078766, 0.7871199250221252, 0.2113562822341919, 0.8984248638153076, 0.09294050186872482, 0.8617278337478638, 0.9883713722229004, 0.9841940999031067, 0.1904238760471344, 0.7616955041885376, 0.8054599165916443, 0.01342433225363493, 0.09397032856941223, 0.08054599165916443, 0.9902366399765015, 0.10669329017400742, 0.8535463213920593, 0.861867368221283, 0.17268523573875427, 0.1750507801771164, 0.11591200530529022, 0.14193306863307953, 0.007096653338521719, 0.11118090152740479, 0.007096653338521719, 0.2673072814941406, 0.012390032410621643, 0.12390032410621643, 0.14868038892745972, 0.012390032410621643, 0.38409101963043213, 0.30975082516670227, 0.19828678667545319, 0.12202263623476028, 0.449958473443985, 0.12964904308319092, 0.09151697158813477, 0.6782857179641724, 0.22609524428844452, 0.07591979205608368, 0.05521439388394356, 0.24846477806568146, 0.13113418221473694, 0.11733058840036392, 0.3726971447467804, 0.2297951877117157, 0.007923971861600876, 0.22187122702598572, 0.2614910900592804, 0.03961985930800438, 0.023771915584802628, 0.15847943723201752, 0.03961985930800438, 0.26814302802085876, 0.05853826925158501, 0.5589460134506226, 0.03210163116455078, 0.005664993543177843, 0.003776662517338991, 0.06986825168132782, 0.9733092784881592, 0.9617339372634888, 0.807826817035675, 0.32202813029289246, 0.6610051393508911, 0.7534036636352539, 0.15861129760742188, 0.07930564880371094, 0.025538645684719086, 0.944929838180542, 0.9872347712516785, 0.12624192237854004, 0.7574515342712402, 0.9159526228904724, 0.8961501717567444, 0.1962433010339737, 0.7457245588302612, 0.8629069924354553, 0.8016887307167053, 0.8857167959213257, 0.6912459135055542, 0.25921720266342163, 0.051843442022800446, 0.9010637402534485, 0.045053187757730484, 0.03635287657380104, 0.06231921538710594, 0.06231921538710594, 0.3843018412590027, 0.0519326813519001, 0.39468836784362793, 0.005193267948925495, 0.9148494601249695, 0.8349162936210632, 0.027374304831027985, 0.013687152415513992, 0.027374304831027985, 0.08212291449308395, 0.23298603296279907, 0.0005405708798207343, 0.3232613801956177, 0.42164528369903564, 0.005946279503405094, 0.014595413580536842, 0.0010811417596414685, 0.9839276671409607, 0.28895774483680725, 0.12039905786514282, 0.5779154896736145, 0.035748064517974854, 0.035748064517974854, 0.015320600010454655, 0.09703046828508377, 0.10724420100450516, 0.056175533682107925, 0.10724420100450516, 0.03064120002090931, 0.18384720385074615, 0.11235106736421585, 0.0817098617553711, 0.05106866732239723, 0.08681672811508179, 0.875255286693573, 0.002493098145350814, 0.016205137595534325, 0.0909980833530426, 0.07603949308395386, 0.23061157763004303, 0.057341255247592926, 0.5048523545265198, 0.02119133435189724, 0.8672569990158081, 0.1210126057267189, 0.9209656715393066, 0.7816603779792786, 0.8900147676467896, 0.04450073838233948, 0.9809289574623108, 0.8871530890464783, 0.11089413613080978, 0.8311783075332642, 0.1454562097787857, 0.020779458805918694, 0.8816839456558228, 0.07606466859579086, 0.8367114067077637, 0.14459718763828278, 0.030441511422395706, 0.09349893033504486, 0.04131348058581352, 0.07610377669334412, 0.08806294202804565, 0.056534234434366226, 0.04674946516752243, 0.31963586807250977, 0.0032615906093269587, 0.07827817648649216, 0.021743936464190483, 0.7554101943969727, 0.0839344710111618, 0.15108203887939453, 0.08608304709196091, 0.5738869905471802, 0.31563785672187805, 0.12152789533138275, 0.8506953120231628, 0.21332821249961853, 0.046544335782527924, 0.6884682774543762, 0.044604990631341934, 0.0058180419728159904, 0.2430505007505417, 0.12962692975997925, 0.2592538595199585, 0.3564740717411041, 0.06842563301324844, 0.03421281650662422, 0.5474050641059875, 0.1796172857284546, 0.1710640788078308, 0.08942557871341705, 0.08942557871341705, 0.7154046297073364, 0.10659182816743851, 0.7994387149810791, 0.8487305045127869, 0.24881576001644135, 0.3450428545475006, 0.015121400356292725, 0.08248036354780197, 0.07835634797811508, 0.2281956821680069, 0.0013746727490797639, 0.4883832633495331, 0.4512236714363098, 0.05308513715863228, 0.07263722270727158, 0.4116109013557434, 0.04842481389641762, 0.06658411771059036, 0.31476128101348877, 0.0847434252500534, 0.055643077939748764, 0.2086615413427353, 0.26430460810661316, 0.06955384463071823, 0.4034123122692108, 0.2906207740306854, 0.6605017185211182, 0.05284013971686363, 0.7179372906684875, 0.23931242525577545, 0.8336899280548096, 0.061498142778873444, 0.6764795780181885, 0.20909368991851807, 0.036898884922266006, 0.903060257434845, 0.036122411489486694, 0.05418361723423004, 0.9143482446670532, 0.05176899954676628, 0.03059077262878418, 0.007059408817440271, 0.200016587972641, 0.07765349745750427, 0.13412876427173615, 0.35532358288764954, 0.016471954062581062, 0.12236309051513672, 0.9253681898117065, 0.30065736174583435, 0.701533854007721, 0.9362936615943909, 0.9316624999046326, 0.25886592268943787, 0.738247275352478, 0.15989582240581512, 0.31979164481163025, 0.43736207485198975, 0.023514090105891228, 0.009405636228621006, 0.047028180211782455, 0.1991651952266693, 0.1991651952266693, 0.1726098358631134, 0.42488574981689453, 0.9535294771194458, 0.8419578075408936, 0.07241316884756088, 0.126723051071167, 0.7965448498725891, 0.10650190711021423, 0.7987642884254456, 0.1221158429980278, 0.854810893535614, 0.9463757872581482, 0.9482764005661011, 0.37827324867248535, 0.03152277320623398, 0.11558349430561066, 0.03152277320623398, 0.06304554641246796, 0.24167458713054657, 0.13659867644309998, 0.19033169746398926, 0.07320450246334076, 0.07320450246334076, 0.37334296107292175, 0.05856360122561455, 0.22693395614624023, 0.8799067139625549, 0.08510204404592514, 0.4538775682449341, 0.11346939206123352, 0.08510204404592514, 0.09644898027181625, 0.07942857593297958, 0.07942857593297958, 0.29254716634750366, 0.6686792373657227, 0.9039435386657715, 0.9257121086120605, 0.921868622303009, 0.338983416557312, 0.015178362838923931, 0.0657729059457779, 0.005059454124420881, 0.5717183351516724, 0.10722576826810837, 0.8309996724128723, 0.026806442067027092, 0.07193619012832642, 0.18497876822948456, 0.010276597924530506, 0.4007873237133026, 0.14387238025665283, 0.11304257810115814, 0.08221278339624405, 0.8075059056282043, 0.8635382056236267, 0.07196151465177536, 0.7453202605247498, 0.23786817491054535, 0.3018939197063446, 0.6966782212257385, 0.9065516591072083, 0.05655013397336006, 0.16965040564537048, 0.7351517677307129, 0.14833380281925201, 0.12215724587440491, 0.034902069717645645, 0.37519726157188416, 0.22686345875263214, 0.034902069717645645, 0.05235310271382332, 0.08906042575836182, 0.5937361717224121, 0.029686810448765755, 0.11874724179506302, 0.14843404293060303, 0.2672044336795807, 0.006851396057754755, 0.037682678550481796, 0.1610078066587448, 0.14901785552501678, 0.10277093946933746, 0.1918390840291977, 0.05481116846203804, 0.02740558423101902, 0.12253100425004959, 0.8577170372009277, 0.7495856285095215, 0.045286595821380615, 0.24907627701759338, 0.045286595821380615, 0.6340123414993286, 0.8504346609115601, 0.9347222447395325, 0.8635908365249634, 0.9404993653297424, 0.9378887414932251, 0.9072491526603699, 0.08247719705104828, 0.02461382746696472, 0.1846037060022354, 0.04922765493392944, 0.03692074120044708, 0.27075210213661194, 0.35690048336982727, 0.061534568667411804, 0.03883308172225952, 0.337549090385437, 0.011948640458285809, 0.050781723111867905, 0.026884442195296288, 0.24793429672718048, 0.005974320229142904, 0.04182024300098419, 0.2359856516122818, 0.9291622638702393, 0.03953881934285164, 0.8468748331069946, 0.10122587531805038, 0.8098070025444031, 0.9129550457000732, 0.05890032649040222, 0.8881047964096069, 0.1160179004073143, 0.07734526693820953, 0.7927889823913574, 0.8839706182479858, 0.19863906502723694, 0.1489793062210083, 0.5959172248840332, 0.2701735496520996, 0.48161372542381287, 0.2349335253238678, 0.8845837712287903, 0.8849158883094788, 0.8843147158622742, 0.06737636029720306, 0.042110223323106766, 0.9063453674316406, 0.1287228912115097, 0.7723373770713806, 0.0893150344491005, 0.8038352727890015, 0.878853440284729, 0.8927374482154846, 0.27939924597740173, 0.5223550796508789, 0.06073896586894989, 0.08503454923629761, 0.036443378776311874, 0.22964069247245789, 0.6889220476150513, 0.9715094566345215, 0.5925431251525879, 0.14813578128814697, 0.0454665906727314, 0.04041474685072899, 0.002525921678170562, 0.21975518763065338, 0.4470881521701813, 0.04041474685072899, 0.07577764987945557, 0.12882201373577118, 0.8218268752098083, 0.7942060828208923, 0.23911237716674805, 0.04782247543334961, 0.08608045428991318, 0.6216921806335449, 0.08513689041137695, 0.046825289726257324, 0.004256844520568848, 0.14473271369934082, 0.008513689041137695, 0.16601693630218506, 0.5448760986328125, 0.1846800297498703, 0.7756561636924744, 0.9220409989356995, 0.19846072793006897, 0.7938429117202759, 0.26355934143066406, 0.1766408383846283, 0.46543458104133606, 0.0336458757519722, 0.0588802807033062, 0.2382137030363083, 0.14888356626033783, 0.029776712879538536, 0.5657575726509094, 0.8962245583534241, 0.06425728648900986, 0.03212864324450493, 0.012851457111537457, 0.8417704701423645, 0.04498010128736496, 0.2549118995666504, 0.05366566404700279, 0.6708208322525024, 0.952876091003418, 0.9511168003082275, 0.9930722117424011, 0.13996495306491852, 0.7698072195053101, 0.857621431350708, 0.24087506532669067, 0.749389111995697, 0.10282488912343979, 0.03427496179938316, 0.06854992359876633, 0.7540491819381714, 0.012865202501416206, 0.03859560936689377, 0.1157868281006813, 0.0900564193725586, 0.7204513549804688, 0.025730405002832413, 0.8834158778190613, 0.09988395124673843, 0.021403703838586807, 0.17836420238018036, 0.04994197562336922, 0.09988395124673843, 0.3281901180744171, 0.05707654356956482, 0.16409505903720856, 0.44352829456329346, 0.28698888421058655, 0.008696633391082287, 0.017393266782164574, 0.011595510877668858, 0.19132593274116516, 0.04058428853750229, 0.9097347259521484, 0.06434856355190277, 0.9008798599243164, 0.02144951932132244, 0.839640200138092, 0.1930861920118332, 0.5792585611343384, 0.9014333486557007, 0.9407249689102173, 0.8698128461837769, 0.8777700662612915, 0.768568217754364, 0.8929230570793152, 0.9682798385620117, 0.2888524532318115, 0.0738924890756607, 0.12091498076915741, 0.1343499720096588, 0.0671749860048294, 0.006717498879879713, 0.0671749860048294, 0.23511245846748352, 0.9783334732055664, 0.9628431797027588, 0.2274327278137207, 0.10337851196527481, 0.6409467458724976, 0.8757649064064026, 0.2124907374382019, 0.06538176536560059, 0.13076353073120117, 0.5884358882904053, 0.21118919551372528, 0.11635328829288483, 0.18927332758903503, 0.09364049136638641, 0.11396247148513794, 0.06415370106697083, 0.08527261763811111, 0.04861336201429367, 0.0003984701761510223, 0.07172463089227676, 0.004383171908557415, 0.99188232421875, 0.8726419806480408, 0.26723235845565796, 0.7126196622848511, 0.7909790873527527, 0.1658424437046051, 0.1658424437046051, 0.6633697748184204, 0.9513511657714844, 0.2811812162399292, 0.026360739022493362, 0.08786913007497787, 0.07908221334218979, 0.08786913007497787, 0.008786913007497787, 0.1405906081199646, 0.2811812162399292, 0.7816075682640076, 0.1954018920660019, 0.9493302702903748, 0.15892019867897034, 0.15055598318576813, 0.03345688432455063, 0.1170990914106369, 0.4600321352481842, 0.07527799159288406, 0.8577046394348145, 0.07574301958084106, 0.14868074655532837, 0.07574301958084106, 0.07574301958084106, 0.1599019318819046, 0.022442378103733063, 0.12904366850852966, 0.07574301958084106, 0.05610594153404236, 0.06171653792262077, 0.06452183425426483, 0.0533006452023983, 0.1486460566520691, 0.04493950679898262, 0.11062031984329224, 0.1486460566520691, 0.04839638993144035, 0.051853276789188385, 0.006913769990205765, 0.14518916606903076, 0.08642212301492691, 0.21086998283863068, 0.9511393308639526, 0.95106041431427, 0.911379873752594, 0.9362694025039673, 0.21019209921360016, 0.17406533658504486, 0.020800258964300156, 0.019705509766936302, 0.10947505384683609, 0.07006403058767319, 0.04597952216863632, 0.06021127849817276, 0.062400780618190765, 0.01313700620085001, 0.0186107587069273, 0.02298976108431816, 0.14341232180595398, 0.02955826371908188, 0.050149161368608475, 0.9026848673820496, 0.9385467171669006, 0.057481881231069565, 0.8622282147407532, 0.09867166727781296, 0.14095951616764069, 0.09867166727781296, 0.11276761442422867, 0.5356462001800537, 0.8949861526489258, 0.05500076711177826, 0.8800122737884521, 0.9512852430343628, 0.045924112200737, 0.6553052663803101, 0.13106104731559753, 0.9586750268936157, 0.2190651297569275, 0.7302170991897583, 0.7991266250610352, 0.13318777084350586, 0.17315810918807983, 0.5607024431228638, 0.008245624601840973, 0.1814037412405014, 0.07421062141656876, 0.1366756707429886, 0.7517161965370178, 0.24018321931362152, 0.14192645251750946, 0.33298128843307495, 0.03821096569299698, 0.021834837272763252, 0.1473851501941681, 0.021834837272763252, 0.04912838712334633, 0.854691743850708, 0.0333036407828331, 0.10657165944576263, 0.07326801121234894, 0.03996437042951584, 0.7460016012191772, 0.8831338882446289, 0.4708036184310913, 0.5198456645011902, 0.8807147145271301, 0.1732673943042755, 0.05775579437613487, 0.6641916632652283, 0.05775579437613487, 0.3081285059452057, 0.2537528872489929, 0.05437561869621277, 0.3806293308734894, 0.11867240816354752, 0.1424068808555603, 0.7120344638824463, 0.7211712598800659, 0.24039041996002197, 0.059848934412002563, 0.06873738765716553, 0.011851274408400059, 0.10073582828044891, 0.1167350485920906, 0.5155304074287415, 0.06103406101465225, 0.02962818555533886, 0.01125871017575264, 0.007703328039497137, 0.015406656078994274, 0.8857724666595459, 0.014640867710113525, 0.09516564011573792, 0.8576158285140991, 0.8623141646385193, 0.06159386783838272, 0.08661448955535889, 0.9108491539955139, 0.9068667888641357, 0.11036287248134613, 0.7725401520729065, 0.6030845642089844, 0.1527814269065857, 0.06432902067899704, 0.1769047975540161, 0.17611023783683777, 0.7602807879447937, 0.06013520434498787, 0.7372233271598816, 0.1228705570101738, 0.7578557133674622, 0.18946392834186554, 0.9690552353858948, 0.9157556891441345, 0.9689075946807861, 0.12529286742210388, 0.12529286742210388, 0.626464307308197, 0.1137642115354538, 0.21127639710903168, 0.13930311799049377, 0.016252029687166214, 0.14626826345920563, 0.10447733849287033, 0.09751217812299728, 0.09519045799970627, 0.07429499179124832, 0.7690714001655579, 0.5717463493347168, 0.02858731709420681, 0.3621060252189636, 0.038116421550512314, 0.9652032256126404, 0.9657238721847534, 0.03038991242647171, 0.8951192498207092, 0.7685015797615051, 0.19212539494037628, 0.20923404395580292, 0.7703616619110107, 0.009510638192296028, 0.8217948079109192, 0.1027243509888649, 0.8314809203147888, 0.007293692324310541, 0.16046123206615448, 0.0695449709892273, 0.011590829119086266, 0.9156754612922668, 0.8202094435691833, 0.33935248851776123, 0.010441615246236324, 0.2610403895378113, 0.0156624224036932, 0.0939745381474495, 0.05481848120689392, 0.0078312112018466, 0.05481848120689392, 0.06003928929567337, 0.04437686502933502, 0.06003928929567337, 0.8842344284057617, 0.14199307560920715, 0.8235598206520081, 0.920233964920044, 0.17237700521945953, 0.8171947002410889, 0.25877317786216736, 0.11762417107820511, 0.10586175322532654, 0.4940215051174164, 0.023524833843111992, 0.1596444696187973, 0.1596444696187973, 0.026607412844896317, 0.12416792660951614, 0.017738275229930878, 0.08869137614965439, 0.4168494641780853, 0.8075629472732544, 0.9470722675323486, 0.809237003326416, 0.03970567509531975, 0.635290801525116, 0.2580868899822235, 0.03970567509531975, 0.9153960347175598, 0.10328688472509384, 0.20657376945018768, 0.029510539025068283, 0.6049660444259644, 0.029510539025068283, 0.029510539025068283, 0.28607049584388733, 0.009514539502561092, 0.07675062119960785, 0.0019029078539460897, 0.0038058157078921795, 0.03171513229608536, 0.01585756614804268, 0.449720561504364, 0.1249576136469841, 0.22423559427261353, 0.11834656447172165, 0.11211779713630676, 0.024915067479014397, 0.21800683438777924, 0.024915067479014397, 0.1432616412639618, 0.13080410659313202, 0.942869246006012, 0.022996811196208, 0.21219171583652496, 0.11788428574800491, 0.1886148601770401, 0.047153715044260025, 0.11788428574800491, 0.3064991533756256, 0.8727049827575684, 0.04744367673993111, 0.043794162571430206, 0.9087288975715637, 0.9883566498756409, 0.9842707514762878, 0.7897488474845886, 0.9312164783477783], \"Term\": [\"$\", \"$\", \"$\", \"$\", \"1\", \"1\", \"1\", \"1\", \"1.5\", \"10\", \"10\", \"10\", \"10\", \"10\", \"13\", \"13\", \"15\", \"15\", \"16\", \"16\", \"18\", \"2\", \"2\", \"2\", \"2\", \"20\", \"20\", \"20\", \"20\", \"22\", \"3\", \"3\", \"3\", \"4\", \"4\", \"4\", \"4\", \"4\", \"40\", \"48\", \"48\", \"48\", \"5\", \"5\", \"5\", \"5\", \"5th\", \"6\", \"6\", \"6\", \"60\", \"60\", \"64\", \"7\", \"7\", \"7\", \"7\", \"7th\", \"8\", \"8\", \"8\", \"8\", \"9\", \"9\", \"9\", \"9\", \"AA\", \"AA\", \"AAA\", \"AAA\", \"Air\", \"Air\", \"Alexa\", \"Alkaline\", \"Alkaline\", \"Amazon\", \"Amazon\", \"Amazon\", \"Amazon\", \"Amazon\", \"Amazon\", \"Amazon\", \"Amazon\", \"Amazon\", \"Amazon\", \"Amazon\", \"AmazonBasic\", \"AmazonBasics\", \"AmazonBasics\", \"Android\", \"Android\", \"Android\", \"App\", \"App\", \"Apple\", \"Apple\", \"Basic\", \"Basics\", \"Batteries\", \"Batteries\", \"Batteries\", \"Black\", \"Black\", \"Bluetooth\", \"Bought\", \"Bought\", \"Buy\", \"Buy\", \"Buy\", \"Buy\", \"Christmas\", \"Christmas\", \"Costco\", \"Dot\", \"Duracel\", \"Duracell\", \"Duracell\", \"Duracells\", \"Duracells\", \"Echo\", \"Edition\", \"Facebook\", \"Facebook\", \"Fi\", \"Fire\", \"Fire\", \"Free\", \"Free\", \"Freetime\", \"Friday\", \"Friday\", \"GB\", \"GB\", \"Galaxy\", \"Geek\", \"Google\", \"Google\", \"Google\", \"Great\", \"Great\", \"HD\", \"HD8\", \"Keyboard\", \"Kids\", \"Kindle\", \"Kindle\", \"Kindle\", \"Kindle\", \"Mother\", \"Nabi\", \"Netflix\", \"Netflix\", \"Netflix\", \"Netflix\", \"Nook\", \"Nook\", \"Nook\", \"OS\", \"Oasis\", \"Play\", \"Price\", \"Price\", \"Prime\", \"Prime\", \"Prime\", \"Prime\", \"Prime\", \"Product\", \"Samsung\", \"Samsung\", \"Squad\", \"Store\", \"Store\", \"Store\", \"Tap\", \"Video\", \"Voyage\", \"Voyage\", \"Wi\", \"Windows\", \"Windows\", \"XBox\", \"XBox\", \"Xmas\", \"Xmas\", \"able\", \"able\", \"able\", \"able\", \"able\", \"able\", \"able\", \"able\", \"absolutely\", \"absolutely\", \"absolutely\", \"absolutely\", \"abuse\", \"access\", \"access\", \"access\", \"access\", \"access\", \"accidental\", \"accidentally\", \"account\", \"account\", \"account\", \"account\", \"account\", \"acid\", \"activate\", \"ad\", \"adapter\", \"adaptive\", \"add\", \"add\", \"add\", \"add\", \"add\", \"add\", \"adequate\", \"adjust\", \"adjust\", \"adult\", \"adult\", \"adult\", \"advanced\", \"advertise\", \"advertisement\", \"affordable\", \"affordable\", \"affordable\", \"age\", \"age\", \"agree\", \"alkaline\", \"alkaline\", \"alright\", \"amazing\", \"amazing\", \"amazing\", \"amazing\", \"amazing\", \"amazing\", \"amazing\", \"amazon\", \"amazon\", \"amazon\", \"amazon\", \"amazon\", \"amazon\", \"ample\", \"android\", \"android\", \"android\", \"angle\", \"annoying\", \"annoying\", \"answer\", \"answer\", \"anymore\", \"anymore\", \"anymore\", \"anymore\", \"app\", \"app\", \"app\", \"app\", \"app\", \"app\", \"app\", \"appropriate\", \"appropriate\", \"area\", \"area\", \"arrival\", \"arrive\", \"arrive\", \"arrive\", \"aside\", \"associate\", \"audible\", \"audible\", \"aunt\", \"avid\", \"avid\", \"awesome\", \"awesome\", \"awesome\", \"awesome\", \"b\", \"background\", \"backpack\", \"backpack\", \"backpack\", \"bad\", \"bad\", \"bad\", \"bag\", \"bag\", \"balance\", \"bang\", \"basic\", \"basic\", \"basic\", \"basic\", \"basic\", \"basically\", \"basically\", \"basically\", \"basics\", \"batch\", \"battery\", \"battery\", \"battery\", \"battery\", \"battery\", \"bc\", \"beat\", \"beat\", \"beat\", \"beating\", \"bed\", \"bed\", \"bedroom\", \"beginner\", \"beginner\", \"bell\", \"better\", \"better\", \"better\", \"better\", \"better\", \"better\", \"bezel\", \"birthday\", \"birthday\", \"birthday\", \"birthday\", \"black\", \"black\", \"black\", \"blank\", \"block\", \"blow\", \"blow\", \"board\", \"bonus\", \"bonus\", \"book\", \"book\", \"book\", \"book\", \"book\", \"book\", \"box\", \"box\", \"box\", \"boy\", \"boy\", \"brand\", \"brand\", \"break\", \"break\", \"break\", \"break\", \"break\", \"break\", \"broke\", \"browser\", \"browsing\", \"browsing\", \"browsing\", \"buck\", \"buck\", \"budget\", \"budget\", \"buffer\", \"buffer\", \"bug\", \"bulk\", \"bulk\", \"bumper\", \"bumper\", \"bunny\", \"button\", \"button\", \"buy\", \"buy\", \"buy\", \"buy\", \"buy\", \"buy\", \"buy\", \"buy\", \"buy\", \"buy\", \"buy\", \"buy\", \"buy\", \"buy\", \"cable\", \"cable\", \"cable\", \"cable\", \"call\", \"call\", \"call\", \"camera\", \"camera\", \"camera\", \"camera\", \"camera\", \"candle\", \"candle\", \"card\", \"card\", \"card\", \"card\", \"card\", \"cardboard\", \"cartoon\", \"case\", \"case\", \"case\", \"case\", \"case\", \"case\", \"case\", \"case\", \"case\", \"cash\", \"cent\", \"certain\", \"certain\", \"certificate\", \"certificate\", \"change\", \"change\", \"change\", \"change\", \"change\", \"charge\", \"charge\", \"charge\", \"charge\", \"charger\", \"charger\", \"charger\", \"charger\", \"charm\", \"cheap\", \"cheap\", \"cheap\", \"cheap\", \"cheap\", \"cheap\", \"cheaply\", \"cheaply\", \"cheapo\", \"cheapo\", \"child\", \"child\", \"child\", \"child\", \"christmas\", \"church\", \"clarity\", \"clarity\", \"class\", \"class\", \"clock\", \"clock\", \"clock\", \"clunky\", \"cold\", \"color\", \"color\", \"color\", \"color\", \"color\", \"color\", \"color\", \"come\", \"come\", \"come\", \"come\", \"come\", \"come\", \"come\", \"come\", \"come\", \"comfortable\", \"comfortable\", \"command\", \"compact\", \"compact\", \"compact\", \"comparable\", \"comparable\", \"comparison\", \"compatible\", \"compete\", \"competition\", \"competitor\", \"complain\", \"complain\", \"complain\", \"complain\", \"complaint\", \"complaint\", \"complaint\", \"complaint\", \"complaint\", \"complaint\", \"complicated\", \"computer\", \"computer\", \"computer\", \"concerned\", \"connect\", \"connect\", \"connect\", \"connect\", \"consider\", \"consider\", \"consider\", \"consider\", \"construct\", \"content\", \"content\", \"content\", \"content\", \"content\", \"content\", \"control\", \"control\", \"control\", \"control\", \"control\", \"convenient\", \"convenient\", \"convenient\", \"convenient\", \"convenient\", \"convenient\", \"cost\", \"cost\", \"cost\", \"cost\", \"cost\", \"cost\", \"cost\", \"cousin\", \"cover\", \"cover\", \"cover\", \"crack\", \"credit\", \"credit\", \"crisp\", \"crisp\", \"cruise\", \"crystal\", \"curious\", \"dad\", \"dad\", \"dad\", \"daily\", \"daily\", \"daily\", \"daughter\", \"daughter\", \"daughter\", \"day\", \"day\", \"day\", \"day\", \"day\", \"dead\", \"dead\", \"dead\", \"deal\", \"deal\", \"deal\", \"decent\", \"decent\", \"decent\", \"decent\", \"decent\", \"def\", \"delivery\", \"delivery\", \"describe\", \"design\", \"design\", \"design\", \"design\", \"design\", \"desire\", \"despite\", \"detector\", \"device\", \"device\", \"device\", \"device\", \"device\", \"device\", \"device\", \"device\", \"device\", \"device\", \"die\", \"die\", \"die\", \"die\", \"difference\", \"difference\", \"difference\", \"difference\", \"dim\", \"dim\", \"direction\", \"dirt\", \"disappointed\", \"disappointed\", \"disappointed\", \"discharge\", \"display\", \"display\", \"display\", \"display\", \"display\", \"dollar\", \"dollar\", \"dollar\", \"dollar\", \"dot\", \"download\", \"download\", \"download\", \"download\", \"download\", \"download\", \"download\", \"drawer\", \"drop\", \"drop\", \"drop\", \"durable\", \"durable\", \"durable\", \"duracell\", \"e\", \"e\", \"e\", \"eBooks\", \"eBooks\", \"ease\", \"ease\", \"easy\", \"easy\", \"easy\", \"echo\", \"economical\", \"economical\", \"edge\", \"education\", \"educational\", \"educational\", \"email\", \"email\", \"email\", \"email\", \"email\", \"encourage\", \"encourage\", \"energizer\", \"energizer\", \"enjoy\", \"enjoy\", \"enjoy\", \"enjoy\", \"enjoy\", \"enjoy\", \"enjoy\", \"enjoy\", \"enjoyment\", \"entertain\", \"entertain\", \"entertaining\", \"entertainment\", \"entertainment\", \"ereader\", \"everyday\", \"everyday\", \"everyday\", \"everyday\", \"exactly\", \"exactly\", \"exactly\", \"exceed\", \"excelent\", \"excellent\", \"excellent\", \"excellent\", \"excellent\", \"excellent\", \"expand\", \"expect\", \"expect\", \"expect\", \"expect\", \"expect\", \"expectation\", \"expectation\", \"expectation\", \"expectation\", \"expensive\", \"expensive\", \"expensive\", \"expensive\", \"expensive\", \"expensive\", \"expensive\", \"experience\", \"experience\", \"experience\", \"expiration\", \"expiration\", \"explain\", \"explore\", \"explore\", \"extend\", \"fair\", \"family\", \"family\", \"family\", \"family\", \"family\", \"family\", \"fancy\", \"fancy\", \"fancy\", \"far\", \"far\", \"far\", \"far\", \"far\", \"far\", \"far\", \"far\", \"fast\", \"fast\", \"fast\", \"fast\", \"fast\", \"fast\", \"father\", \"favorite\", \"favorite\", \"favorite\", \"favorite\", \"feature\", \"feature\", \"feature\", \"feature\", \"feature\", \"feature\", \"feature\", \"feature\", \"feature\", \"feature\", \"fi\", \"filter\", \"filter\", \"filter\", \"find\", \"find\", \"find\", \"find\", \"find\", \"find\", \"find\", \"find\", \"find\", \"find\", \"fine\", \"fine\", \"fire\", \"fire\", \"fire\", \"fire\", \"fire\", \"fit\", \"fit\", \"fit\", \"fit\", \"fit\", \"fit\", \"fit\", \"fit\", \"fit\", \"flashlight\", \"flashlight\", \"flimsy\", \"flip\", \"flush\", \"foam\", \"forever\", \"forever\", \"format\", \"forth\", \"forward\", \"free\", \"free\", \"free\", \"free\", \"free\", \"free\", \"free\", \"free\", \"free\", \"freeze\", \"freeze\", \"freeze\", \"freeze\", \"friday\", \"friend\", \"friend\", \"friend\", \"friend\", \"friendly\", \"friendly\", \"frustrate\", \"function\", \"function\", \"function\", \"function\", \"function\", \"function\", \"functional\", \"functional\", \"game\", \"game\", \"game\", \"game\", \"gaming\", \"gaming\", \"gb\", \"gb\", \"get\", \"get\", \"get\", \"get\", \"get\", \"get\", \"get\", \"get\", \"get\", \"get\", \"get\", \"get\", \"get\", \"gift\", \"gigabyte\", \"girl\", \"girl\", \"girl\", \"give\", \"give\", \"give\", \"give\", \"give\", \"give\", \"glad\", \"glad\", \"glad\", \"glad\", \"glad\", \"go\", \"go\", \"go\", \"go\", \"go\", \"go\", \"go\", \"go\", \"go\", \"good\", \"good\", \"good\", \"good\", \"good\", \"good\", \"good\", \"good\", \"good\", \"good\", \"good\", \"good\", \"good\", \"got\", \"grader\", \"grand\", \"grand\", \"grandchild\", \"grandchild\", \"granddaughter\", \"granddaughter\", \"granddaughter\", \"granddaughter\", \"grandfather\", \"grandkid\", \"grandkid\", \"grandson\", \"grandson\", \"grandson\", \"graphic\", \"graphic\", \"graphic\", \"graphic\", \"graphic\", \"great\", \"great\", \"great\", \"great\", \"great\", \"great\", \"great\", \"great\", \"great\", \"great\", \"grocery\", \"guarantee\", \"guarantee\", \"guard\", \"guy\", \"guy\", \"guy\", \"hand\", \"hand\", \"hand\", \"hand\", \"hand\", \"hand\", \"hand\", \"handle\", \"handle\", \"handle\", \"handle\", \"handle\", \"hang\", \"happy\", \"happy\", \"happy\", \"happy\", \"happy\", \"happy\", \"happy\", \"hardware\", \"hardware\", \"have\", \"have\", \"have\", \"have\", \"have\", \"have\", \"have\", \"have\", \"have\", \"have\", \"hd\", \"hd\", \"hd\", \"headphone\", \"hesitate\", \"hey\", \"high\", \"high\", \"high\", \"high\", \"high\", \"high\", \"highly\", \"highly\", \"highly\", \"highly\", \"highly\", \"hold\", \"hold\", \"hold\", \"hold\", \"hold\", \"hold\", \"hold\", \"home\", \"home\", \"home\", \"home\", \"home\", \"home\", \"home\", \"homework\", \"homework\", \"hour\", \"hour\", \"hour\", \"hour\", \"hour\", \"husband\", \"husband\", \"husband\", \"husband\", \"iPad\", \"iPad\", \"iPad\", \"iPad\", \"iPad\", \"iPad\", \"iPad\", \"ideal\", \"ideal\", \"imo\", \"improvement\", \"improvement\", \"inch\", \"inch\", \"inch\", \"indestructible\", \"inexpensive\", \"inexpensive\", \"inexpensive\", \"install\", \"install\", \"installation\", \"interactive\", \"interested\", \"internet\", \"internet\", \"internet\", \"internet\", \"internet\", \"internet\", \"introduce\", \"intuitive\", \"invest\", \"invest\", \"investment\", \"investment\", \"investment\", \"issue\", \"issue\", \"issue\", \"issue\", \"issue\", \"issue\", \"issue\", \"issue\", \"issue\", \"item\", \"item\", \"item\", \"item\", \"item\", \"item\", \"item\", \"job\", \"job\", \"job\", \"job\", \"joy\", \"jump\", \"junk\", \"keep\", \"keep\", \"keep\", \"keep\", \"keep\", \"keep\", \"keep\", \"keypad\", \"kid\", \"kiddo\", \"kiddo\", \"kids\", \"kindle\", \"kindle\", \"kindle\", \"kindle\", \"kindle\", \"kindle\", \"kindle\", \"knowledgeable\", \"label\", \"lack\", \"lack\", \"lack\", \"laptop\", \"laptop\", \"laptop\", \"last\", \"last\", \"last\", \"lasting\", \"lasting\", \"law\", \"lead\", \"lead\", \"leak\", \"leak\", \"learn\", \"learn\", \"learn\", \"learn\", \"learn\", \"learn\", \"learning\", \"learning\", \"learning\", \"leather\", \"leather\", \"led\", \"led\", \"led\", \"library\", \"library\", \"life\", \"life\", \"life\", \"life\", \"life\", \"life\", \"lifespan\", \"light\", \"light\", \"light\", \"light\", \"light\", \"lightweight\", \"lightweight\", \"like\", \"like\", \"like\", \"like\", \"like\", \"like\", \"like\", \"like\", \"like\", \"like\", \"like\", \"like\", \"like\", \"like\", \"limit\", \"limit\", \"limited\", \"limited\", \"limited\", \"link\", \"link\", \"link\", \"listen\", \"listen\", \"listen\", \"little\", \"little\", \"little\", \"little\", \"little\", \"little\", \"little\", \"little\", \"little\", \"little\", \"little\", \"little\", \"living\", \"locally\", \"logo\", \"lol\", \"lol\", \"lol\", \"long\", \"long\", \"long\", \"long\", \"long\", \"long\", \"long\", \"longer\", \"longer\", \"longer\", \"longer\", \"look\", \"look\", \"look\", \"look\", \"look\", \"look\", \"look\", \"look\", \"look\", \"lot\", \"lot\", \"lot\", \"lot\", \"lot\", \"lot\", \"lot\", \"lot\", \"lot\", \"lot\", \"lot\", \"love\", \"love\", \"love\", \"love\", \"love\", \"love\", \"love\", \"love\", \"low\", \"low\", \"low\", \"low\", \"low\", \"low\", \"low\", \"lunch\", \"magazine\", \"magazine\", \"mail\", \"mail\", \"mainly\", \"mainly\", \"mainly\", \"maneuver\", \"map\", \"mark\", \"maybe\", \"maybe\", \"maybe\", \"maybe\", \"meet\", \"meet\", \"meet\", \"meet\", \"member\", \"member\", \"member\", \"member\", \"member\", \"membership\", \"memory\", \"memory\", \"memory\", \"memory\", \"memory\", \"meter\", \"mic\", \"microphone\", \"mini\", \"mini\", \"model\", \"model\", \"modern\", \"mom\", \"mom\", \"mom\", \"mom\", \"money\", \"money\", \"money\", \"monitor\", \"monitor\", \"monitor\", \"month\", \"month\", \"month\", \"month\", \"month\", \"month\", \"mother\", \"mother\", \"mother\", \"mouse\", \"movie\", \"music\", \"music\", \"music\", \"name\", \"navigate\", \"navigate\", \"navigate\", \"navigate\", \"navigate\", \"navigation\", \"nearly\", \"nearly\", \"need\", \"need\", \"need\", \"need\", \"need\", \"need\", \"need\", \"need\", \"need\", \"need\", \"need\", \"need\", \"nephew\", \"net\", \"netflix\", \"new\", \"new\", \"new\", \"new\", \"new\", \"new\", \"new\", \"new\", \"new\", \"new\", \"nice\", \"nice\", \"nice\", \"nice\", \"nice\", \"nice\", \"nice\", \"nice\", \"niece\", \"niece\", \"nook\", \"not\", \"not\", \"not\", \"not\", \"not\", \"novice\", \"oasis\", \"obviously\", \"obviously\", \"occasionally\", \"occupy\", \"offline\", \"ok\", \"ok\", \"ok\", \"ok\", \"okay\", \"old\", \"old\", \"old\", \"omg\", \"one\", \"one\", \"one\", \"one\", \"one\", \"one\", \"online\", \"online\", \"online\", \"online\", \"online\", \"online\", \"operating\", \"operating\", \"operation\", \"order\", \"order\", \"order\", \"order\", \"order\", \"order\", \"original\", \"original\", \"original\", \"outlast\", \"outlet\", \"outstanding\", \"outstanding\", \"overall\", \"overall\", \"overall\", \"overall\", \"overall\", \"overall\", \"pack\", \"pack\", \"pack\", \"pack\", \"package\", \"package\", \"packaging\", \"packaging\", \"padded\", \"page\", \"paper\", \"paperwhite\", \"paperwhite\", \"parent\", \"parent\", \"parent\", \"parent\", \"parental\", \"pass\", \"pass\", \"password\", \"perfect\", \"perfect\", \"perfect\", \"perfect\", \"perfect\", \"perfect\", \"perfect\", \"perfect\", \"perfectly\", \"perfectly\", \"perfectly\", \"perfectly\", \"perfectly\", \"perfectly\", \"performance\", \"performance\", \"performance\", \"performance\", \"performance\", \"period\", \"period\", \"phone\", \"phone\", \"phone\", \"phone\", \"phone\", \"phone\", \"picture\", \"picture\", \"picture\", \"picture\", \"picture\", \"picture\", \"picture\", \"picture\", \"play\", \"play\", \"play\", \"play\", \"play\", \"play\", \"play\", \"playing\", \"pleasantly\", \"please\", \"plug\", \"plug\", \"pocket\", \"pocket\", \"pocket\", \"port\", \"port\", \"portable\", \"portion\", \"portion\", \"position\", \"positive\", \"powerful\", \"powerful\", \"practical\", \"praise\", \"preschooler\", \"present\", \"present\", \"present\", \"press\", \"press\", \"pretty\", \"pretty\", \"pretty\", \"pretty\", \"pretty\", \"pretty\", \"pretty\", \"prevent\", \"previous\", \"previous\", \"previous\", \"previous\", \"previous\", \"price\", \"price\", \"price\", \"price\", \"price\", \"price\", \"price\", \"prime\", \"pro\", \"pro\", \"pro\", \"problem\", \"problem\", \"problem\", \"problem\", \"problem\", \"problem\", \"problem\", \"problem\", \"problem\", \"problem\", \"problem\", \"problem\", \"problem\", \"processing\", \"product\", \"product\", \"product\", \"product\", \"product\", \"product\", \"product\", \"product\", \"profile\", \"profile\", \"promise\", \"promptly\", \"proof\", \"proof\", \"protect\", \"protection\", \"protection\", \"protective\", \"protective\", \"protective\", \"public\", \"pump\", \"pump\", \"purchase\", \"purchase\", \"purchase\", \"purchase\", \"purchase\", \"purchase\", \"purchase\", \"purchase\", \"purchase\", \"purchase\", \"purchase\", \"purchase\", \"purpose\", \"purpose\", \"purpose\", \"purse\", \"purse\", \"purse\", \"push\", \"push\", \"quality\", \"quality\", \"quality\", \"quality\", \"quality\", \"quick\", \"quick\", \"quick\", \"quick\", \"quickly\", \"quickly\", \"quickly\", \"quickly\", \"quickly\", \"r\", \"r\", \"r\", \"rating\", \"rating\", \"reach\", \"read\", \"read\", \"read\", \"read\", \"read\", \"read\", \"read\", \"reader\", \"reader\", \"reader\", \"reading\", \"reading\", \"reading\", \"reading\", \"reading\", \"reading\", \"reason\", \"reason\", \"reason\", \"reason\", \"reason\", \"reasonable\", \"reasonable\", \"reasonable\", \"reasonably\", \"reasonably\", \"reccomend\", \"receive\", \"receive\", \"receive\", \"receive\", \"rechargeable\", \"rechargeable\", \"rechargeable\", \"recognize\", \"recommend\", \"recommend\", \"recommend\", \"recommend\", \"recommend\", \"recommend\", \"recommend\", \"recommend\", \"recommend\", \"refund\", \"register\", \"register\", \"relative\", \"reluctant\", \"remote\", \"remote\", \"replace\", \"replace\", \"replace\", \"replace\", \"replace\", \"replace\", \"replacement\", \"replacement\", \"replacement\", \"replacement\", \"request\", \"resist\", \"resolution\", \"resolution\", \"resolution\", \"respond\", \"respond\", \"responsive\", \"responsive\", \"restart\", \"restrict\", \"return\", \"return\", \"return\", \"return\", \"return\", \"return\", \"return\", \"review\", \"review\", \"review\", \"review\", \"review\", \"review\", \"rid\", \"right\", \"right\", \"right\", \"right\", \"right\", \"right\", \"right\", \"road\", \"road\", \"rock\", \"rubber\", \"rugged\", \"run\", \"run\", \"run\", \"run\", \"run\", \"safe\", \"safe\", \"safe\", \"sale\", \"sale\", \"sale\", \"sale\", \"sale\", \"sale\", \"sale\", \"salesman\", \"samsung\", \"samsung\", \"satisfied\", \"satisfied\", \"save\", \"save\", \"saver\", \"savvy\", \"savvy\", \"savvy\", \"say\", \"say\", \"say\", \"say\", \"say\", \"say\", \"say\", \"school\", \"school\", \"school\", \"school\", \"school\", \"screen\", \"screen\", \"screen\", \"screen\", \"screen\", \"screen\", \"screen\", \"screen\", \"screen\", \"sd\", \"sd\", \"seamless\", \"search\", \"search\", \"search\", \"search\", \"season\", \"selection\", \"self\", \"seller\", \"sensitive\", \"serve\", \"serve\", \"service\", \"service\", \"service\", \"service\", \"service\", \"service\", \"service\", \"set\", \"set\", \"set\", \"set\", \"set\", \"set\", \"set\", \"set\", \"set\", \"setup\", \"setup\", \"seven\", \"sharp\", \"sharp\", \"shelf\", \"shelf\", \"shipment\", \"shipping\", \"shipping\", \"shipping\", \"shoot\", \"shopping\", \"shopping\", \"shopping\", \"short\", \"short\", \"short\", \"shortly\", \"shot\", \"show\", \"show\", \"show\", \"shrink\", \"side\", \"side\", \"sign\", \"sign\", \"silk\", \"silver\", \"simple\", \"simple\", \"simple\", \"simple\", \"simple\", \"single\", \"single\", \"sister\", \"situation\", \"situation\", \"size\", \"size\", \"size\", \"size\", \"size\", \"size\", \"size\", \"size\", \"slide\", \"slippery\", \"slow\", \"slow\", \"slow\", \"slow\", \"small\", \"small\", \"small\", \"small\", \"small\", \"small\", \"small\", \"smart\", \"smart\", \"social\", \"solid\", \"solid\", \"son\", \"son\", \"son\", \"son\", \"son\", \"soon\", \"soon\", \"soon\", \"soon\", \"sorry\", \"sound\", \"sound\", \"sound\", \"sound\", \"sound\", \"space\", \"space\", \"space\", \"span\", \"speak\", \"speaker\", \"spec\", \"spec\", \"specific\", \"spend\", \"spend\", \"stand\", \"stand\", \"stand\", \"stand\", \"star\", \"star\", \"star\", \"star\", \"star\", \"star\", \"stereo\", \"storage\", \"storage\", \"storage\", \"storage\", \"storage\", \"storage\", \"storage\", \"storage\", \"store\", \"store\", \"store\", \"store\", \"store\", \"store\", \"store\", \"strain\", \"stream\", \"stream\", \"stream\", \"student\", \"stylus\", \"stylus\", \"substitute\", \"sufficient\", \"suitable\", \"sunlight\", \"superb\", \"superior\", \"supply\", \"sure\", \"sure\", \"sure\", \"sure\", \"sure\", \"sure\", \"sure\", \"sure\", \"surf\", \"surfing\", \"surprised\", \"surprised\", \"surprised\", \"sync\", \"system\", \"system\", \"system\", \"system\", \"tablet\", \"tablet\", \"tablet\", \"tablet\", \"tablet\", \"tablet\", \"tablet\", \"tablet\", \"tablet\", \"tablet\", \"tablet\", \"tap\", \"target\", \"task\", \"task\", \"teacher\", \"tech\", \"tech\", \"tech\", \"teenager\", \"tell\", \"tell\", \"tell\", \"tell\", \"tell\", \"tell\", \"tell\", \"tell\", \"tend\", \"tend\", \"tester\", \"thank\", \"thank\", \"thank\", \"thank\", \"thank\", \"thank\", \"thanks\", \"thing\", \"thing\", \"thing\", \"thing\", \"thing\", \"thing\", \"thing\", \"thing\", \"thing\", \"thing\", \"thing\", \"thing\", \"think\", \"think\", \"think\", \"think\", \"think\", \"think\", \"think\", \"think\", \"think\", \"think\", \"thousand\", \"thrill\", \"tie\", \"till\", \"time\", \"time\", \"time\", \"time\", \"time\", \"time\", \"time\", \"time\", \"time\", \"time\", \"time\", \"time\", \"time\", \"time\", \"today\", \"today\", \"total\", \"totally\", \"totally\", \"touch\", \"touch\", \"touch\", \"touch\", \"touch\", \"touchscreen\", \"tough\", \"tough\", \"toy\", \"toy\", \"track\", \"track\", \"trail\", \"train\", \"train\", \"transfer\", \"transfer\", \"travel\", \"travel\", \"travel\", \"travel\", \"travel\", \"truly\", \"truly\", \"try\", \"try\", \"try\", \"try\", \"try\", \"try\", \"try\", \"try\", \"tube\", \"turn\", \"turn\", \"turn\", \"turn\", \"turn\", \"turning\", \"tv\", \"tv\", \"unable\", \"understand\", \"understand\", \"understand\", \"understand\", \"upgrade\", \"upgrade\", \"upgrade\", \"upgrade\", \"usage\", \"usage\", \"usage\", \"usb\", \"usb\", \"use\", \"use\", \"use\", \"use\", \"use\", \"use\", \"use\", \"use\", \"use\", \"use\", \"use\", \"user\", \"user\", \"user\", \"utilize\", \"vacation\", \"vacation\", \"value\", \"value\", \"vehicle\", \"versatility\", \"versatility\", \"version\", \"version\", \"version\", \"version\", \"video\", \"video\", \"video\", \"visit\", \"visit\", \"visual\", \"visual\", \"voice\", \"volt\", \"voyage\", \"wake\", \"wake\", \"wake\", \"want\", \"want\", \"want\", \"want\", \"want\", \"want\", \"want\", \"want\", \"want\", \"warm\", \"warranty\", \"warranty\", \"warranty\", \"warranty\", \"waste\", \"watch\", \"watch\", \"water\", \"weather\", \"weather\", \"web\", \"web\", \"web\", \"website\", \"website\", \"week\", \"week\", \"week\", \"weight\", \"weight\", \"weight\", \"weird\", \"well\", \"well\", \"well\", \"well\", \"well\", \"well\", \"well\", \"well\", \"well\", \"well\", \"well\", \"whistle\", \"white\", \"white\", \"wi\", \"wife\", \"wife\", \"wifi\", \"wifi\", \"wifi\", \"wifi\", \"wifi\", \"will\", \"will\", \"will\", \"will\", \"will\", \"will\", \"will\", \"willing\", \"win\", \"winner\", \"wireless\", \"wireless\", \"wireless\", \"wireless\", \"wonder\", \"wonderful\", \"wonderful\", \"wonderful\", \"wonderful\", \"wonderful\", \"wonderful\", \"work\", \"work\", \"work\", \"work\", \"work\", \"work\", \"work\", \"work\", \"work\", \"worth\", \"worth\", \"worth\", \"worth\", \"worth\", \"worth\", \"worth\", \"worth\", \"wrap\", \"wrap\", \"wrong\", \"wrong\", \"wrong\", \"wrong\", \"wrong\", \"wrong\", \"yeah\", \"year\", \"year\", \"year\", \"young\", \"yr\", \"yup\", \"zero\"]}, \"R\": 30, \"lambda.step\": 0.01, \"plot.opts\": {\"xlab\": \"PC1\", \"ylab\": \"PC2\"}, \"topic.order\": [3, 5, 8, 15, 11, 12, 9, 13, 4, 6, 7, 10, 1, 2, 14]};\n",
       "\n",
       "function LDAvis_load_lib(url, callback){\n",
       "  var s = document.createElement('script');\n",
       "  s.src = url;\n",
       "  s.async = true;\n",
       "  s.onreadystatechange = s.onload = callback;\n",
       "  s.onerror = function(){console.warn(\"failed to load library \" + url);};\n",
       "  document.getElementsByTagName(\"head\")[0].appendChild(s);\n",
       "}\n",
       "\n",
       "if(typeof(LDAvis) !== \"undefined\"){\n",
       "   // already loaded: just create the visualization\n",
       "   !function(LDAvis){\n",
       "       new LDAvis(\"#\" + \"ldavis_el620166361501208298899639\", ldavis_el620166361501208298899639_data);\n",
       "   }(LDAvis);\n",
       "}else if(typeof define === \"function\" && define.amd){\n",
       "   // require.js is available: use it to load d3/LDAvis\n",
       "   require.config({paths: {d3: \"https://cdnjs.cloudflare.com/ajax/libs/d3/3.5.5/d3.min\"}});\n",
       "   require([\"d3\"], function(d3){\n",
       "      window.d3 = d3;\n",
       "      LDAvis_load_lib(\"https://cdn.rawgit.com/bmabey/pyLDAvis/files/ldavis.v1.0.0.js\", function(){\n",
       "        new LDAvis(\"#\" + \"ldavis_el620166361501208298899639\", ldavis_el620166361501208298899639_data);\n",
       "      });\n",
       "    });\n",
       "}else{\n",
       "    // require.js not available: dynamically load d3 & LDAvis\n",
       "    LDAvis_load_lib(\"https://cdnjs.cloudflare.com/ajax/libs/d3/3.5.5/d3.min.js\", function(){\n",
       "         LDAvis_load_lib(\"https://cdn.rawgit.com/bmabey/pyLDAvis/files/ldavis.v1.0.0.js\", function(){\n",
       "                 new LDAvis(\"#\" + \"ldavis_el620166361501208298899639\", ldavis_el620166361501208298899639_data);\n",
       "            })\n",
       "         });\n",
       "}\n",
       "</script>"
      ],
      "text/plain": [
       "PreparedData(topic_coordinates=              x         y  topics  cluster       Freq\n",
       "topic                                                \n",
       "2     -0.208281  0.120096       1        1  14.929305\n",
       "4      0.184222 -0.124650       2        1   8.774385\n",
       "7      0.096671  0.049978       3        1   7.618730\n",
       "14     0.161631 -0.124314       4        1   7.253582\n",
       "10    -0.095776  0.245154       5        1   7.009941\n",
       "11     0.170621  0.024126       6        1   6.970578\n",
       "8      0.134559 -0.115502       7        1   6.280695\n",
       "12    -0.245939 -0.065798       8        1   5.895720\n",
       "3      0.158100  0.006036       9        1   5.885820\n",
       "5     -0.219329 -0.263233      10        1   5.750961\n",
       "6      0.031483  0.082588      11        1   5.448373\n",
       "9      0.046901  0.160243      12        1   5.237621\n",
       "0     -0.027160  0.009492      13        1   4.955624\n",
       "1     -0.142843 -0.134978      14        1   4.323172\n",
       "13    -0.044862  0.130760      15        1   3.665495, topic_info=        Term         Freq        Total Category  logprob  loglift\n",
       "20     great  3162.000000  3162.000000  Default  30.0000  30.0000\n",
       "124  battery  3355.000000  3355.000000  Default  29.0000  29.0000\n",
       "32      good  2363.000000  2363.000000  Default  28.0000  28.0000\n",
       "0       easy  1160.000000  1160.000000  Default  27.0000  27.0000\n",
       "33     price  1849.000000  1849.000000  Default  26.0000  26.0000\n",
       "..       ...          ...          ...      ...      ...      ...\n",
       "136      new    28.516663   383.386292  Topic15  -4.9368   0.7077\n",
       "177    happy    27.684774   307.539093  Topic15  -4.9664   0.8985\n",
       "447   little    26.921400   359.978546  Topic15  -4.9944   0.7131\n",
       "126     time    27.141638   913.450134  Topic15  -4.9862  -0.2100\n",
       "7        use    26.217224  1687.582275  Topic15  -5.0209  -0.8584\n",
       "\n",
       "[997 rows x 6 columns], token_table=      Topic      Freq   Term\n",
       "term                        \n",
       "171       3  0.864994      $\n",
       "171       4  0.047304      $\n",
       "171       7  0.020273      $\n",
       "171      11  0.060820      $\n",
       "229       3  0.021095      1\n",
       "...     ...       ...    ...\n",
       "28        6  0.908729   year\n",
       "711       2  0.988357  young\n",
       "188       6  0.984271     yr\n",
       "1179     15  0.789749    yup\n",
       "894      15  0.931216   zero\n",
       "\n",
       "[2192 rows x 3 columns], R=30, lambda_step=0.01, plot_opts={'xlab': 'PC1', 'ylab': 'PC2'}, topic_order=[3, 5, 8, 15, 11, 12, 9, 13, 4, 6, 7, 10, 1, 2, 14])"
      ]
     },
     "execution_count": 82,
     "metadata": {},
     "output_type": "execute_result"
    }
   ],
   "source": [
    "pyLDAvis.gensim.prepare(lda, corpora, id2word)"
   ]
  },
  {
   "cell_type": "code",
   "execution_count": 27,
   "metadata": {},
   "outputs": [
    {
     "data": {
      "text/plain": [
       "[(0, 0.011111299),\n",
       " (1, 0.01111131),\n",
       " (2, 0.011111305),\n",
       " (3, 0.011111308),\n",
       " (4, 0.011111304),\n",
       " (5, 0.011111304),\n",
       " (6, 0.01111132),\n",
       " (7, 0.8444416),\n",
       " (8, 0.011111302),\n",
       " (9, 0.011111316),\n",
       " (10, 0.011111406),\n",
       " (11, 0.011111315),\n",
       " (12, 0.011111299),\n",
       " (13, 0.011111323),\n",
       " (14, 0.0111113135)]"
      ]
     },
     "execution_count": 27,
     "metadata": {},
     "output_type": "execute_result"
    }
   ],
   "source": [
    "# What are the documents about?\n",
    "# Eqv. to a .predict statement in sklearn\n",
    "# Scoring the topic distribution of a single document\n",
    "\n",
    "lda[corpora[0]]"
   ]
  },
  {
   "cell_type": "code",
   "execution_count": 28,
   "metadata": {},
   "outputs": [],
   "source": [
    "distro = [lda[d] for d in corpora]"
   ]
  },
  {
   "cell_type": "code",
   "execution_count": 29,
   "metadata": {},
   "outputs": [],
   "source": [
    "def update(doc):\n",
    "    d_dist = {k:0 for k in range(0,15)}\n",
    "    for t in doc:\n",
    "        d_dist[t[0]] = t[1]\n",
    "    return d_dist\n",
    "\n",
    "new_distro = [update(d) for d in distro]"
   ]
  },
  {
   "cell_type": "code",
   "execution_count": 30,
   "metadata": {},
   "outputs": [],
   "source": [
    "doc_topics = pd.DataFrame.from_records(new_distro)\n",
    "doc_topics.columns = topics"
   ]
  },
  {
   "cell_type": "code",
   "execution_count": 31,
   "metadata": {},
   "outputs": [
    {
     "data": {
      "text/html": [
       "<div>\n",
       "<style scoped>\n",
       "    .dataframe tbody tr th:only-of-type {\n",
       "        vertical-align: middle;\n",
       "    }\n",
       "\n",
       "    .dataframe tbody tr th {\n",
       "        vertical-align: top;\n",
       "    }\n",
       "\n",
       "    .dataframe thead th {\n",
       "        text-align: right;\n",
       "    }\n",
       "</style>\n",
       "<table border=\"1\" class=\"dataframe\">\n",
       "  <thead>\n",
       "    <tr style=\"text-align: right;\">\n",
       "      <th></th>\n",
       "      <th>light read money kindle love</th>\n",
       "      <th>game app play tablet kid</th>\n",
       "      <th>tablet Amazon nice iPad fire</th>\n",
       "      <th>easy use read book tablet</th>\n",
       "      <th>great work price product battery</th>\n",
       "      <th>need purchase perfect gift thank</th>\n",
       "      <th>like Kindle reader screen device</th>\n",
       "      <th>battery work buy use week</th>\n",
       "      <th>good price battery deal quality</th>\n",
       "      <th>battery Amazon brand buy box</th>\n",
       "      <th>long battery time brand great</th>\n",
       "      <th>Amazon tablet sound screen good</th>\n",
       "      <th>love buy tablet Kindle get</th>\n",
       "      <th>kid tablet love easy use</th>\n",
       "      <th>year old love buy 3</th>\n",
       "    </tr>\n",
       "  </thead>\n",
       "  <tbody>\n",
       "    <tr>\n",
       "      <th>0</th>\n",
       "      <td>0.011111</td>\n",
       "      <td>0.011111</td>\n",
       "      <td>0.011111</td>\n",
       "      <td>0.011111</td>\n",
       "      <td>0.011111</td>\n",
       "      <td>0.011111</td>\n",
       "      <td>0.011111</td>\n",
       "      <td>0.844442</td>\n",
       "      <td>0.011111</td>\n",
       "      <td>0.011111</td>\n",
       "      <td>0.011111</td>\n",
       "      <td>0.011111</td>\n",
       "      <td>0.011111</td>\n",
       "      <td>0.011111</td>\n",
       "      <td>0.011111</td>\n",
       "    </tr>\n",
       "    <tr>\n",
       "      <th>1</th>\n",
       "      <td>0.011111</td>\n",
       "      <td>0.011111</td>\n",
       "      <td>0.011111</td>\n",
       "      <td>0.011111</td>\n",
       "      <td>0.541189</td>\n",
       "      <td>0.011111</td>\n",
       "      <td>0.011111</td>\n",
       "      <td>0.011111</td>\n",
       "      <td>0.011111</td>\n",
       "      <td>0.011111</td>\n",
       "      <td>0.314363</td>\n",
       "      <td>0.011111</td>\n",
       "      <td>0.011111</td>\n",
       "      <td>0.011111</td>\n",
       "      <td>0.011111</td>\n",
       "    </tr>\n",
       "    <tr>\n",
       "      <th>2</th>\n",
       "      <td>0.000000</td>\n",
       "      <td>0.485360</td>\n",
       "      <td>0.000000</td>\n",
       "      <td>0.221971</td>\n",
       "      <td>0.000000</td>\n",
       "      <td>0.000000</td>\n",
       "      <td>0.000000</td>\n",
       "      <td>0.000000</td>\n",
       "      <td>0.000000</td>\n",
       "      <td>0.000000</td>\n",
       "      <td>0.000000</td>\n",
       "      <td>0.000000</td>\n",
       "      <td>0.212667</td>\n",
       "      <td>0.000000</td>\n",
       "      <td>0.000000</td>\n",
       "    </tr>\n",
       "    <tr>\n",
       "      <th>3</th>\n",
       "      <td>0.000000</td>\n",
       "      <td>0.000000</td>\n",
       "      <td>0.000000</td>\n",
       "      <td>0.000000</td>\n",
       "      <td>0.582165</td>\n",
       "      <td>0.000000</td>\n",
       "      <td>0.000000</td>\n",
       "      <td>0.000000</td>\n",
       "      <td>0.000000</td>\n",
       "      <td>0.339041</td>\n",
       "      <td>0.000000</td>\n",
       "      <td>0.000000</td>\n",
       "      <td>0.000000</td>\n",
       "      <td>0.000000</td>\n",
       "      <td>0.000000</td>\n",
       "    </tr>\n",
       "    <tr>\n",
       "      <th>4</th>\n",
       "      <td>0.000000</td>\n",
       "      <td>0.000000</td>\n",
       "      <td>0.000000</td>\n",
       "      <td>0.552006</td>\n",
       "      <td>0.000000</td>\n",
       "      <td>0.000000</td>\n",
       "      <td>0.000000</td>\n",
       "      <td>0.000000</td>\n",
       "      <td>0.351696</td>\n",
       "      <td>0.000000</td>\n",
       "      <td>0.000000</td>\n",
       "      <td>0.000000</td>\n",
       "      <td>0.000000</td>\n",
       "      <td>0.000000</td>\n",
       "      <td>0.000000</td>\n",
       "    </tr>\n",
       "  </tbody>\n",
       "</table>\n",
       "</div>"
      ],
      "text/plain": [
       "   light read money kindle love  game app play tablet kid  \\\n",
       "0                      0.011111                  0.011111   \n",
       "1                      0.011111                  0.011111   \n",
       "2                      0.000000                  0.485360   \n",
       "3                      0.000000                  0.000000   \n",
       "4                      0.000000                  0.000000   \n",
       "\n",
       "   tablet Amazon nice iPad fire  easy use read book tablet  \\\n",
       "0                      0.011111                   0.011111   \n",
       "1                      0.011111                   0.011111   \n",
       "2                      0.000000                   0.221971   \n",
       "3                      0.000000                   0.000000   \n",
       "4                      0.000000                   0.552006   \n",
       "\n",
       "   great work price product battery  need purchase perfect gift thank  \\\n",
       "0                          0.011111                          0.011111   \n",
       "1                          0.541189                          0.011111   \n",
       "2                          0.000000                          0.000000   \n",
       "3                          0.582165                          0.000000   \n",
       "4                          0.000000                          0.000000   \n",
       "\n",
       "   like Kindle reader screen device  battery work buy use week  \\\n",
       "0                          0.011111                   0.844442   \n",
       "1                          0.011111                   0.011111   \n",
       "2                          0.000000                   0.000000   \n",
       "3                          0.000000                   0.000000   \n",
       "4                          0.000000                   0.000000   \n",
       "\n",
       "   good price battery deal quality  battery Amazon brand buy box  \\\n",
       "0                         0.011111                      0.011111   \n",
       "1                         0.011111                      0.011111   \n",
       "2                         0.000000                      0.000000   \n",
       "3                         0.000000                      0.339041   \n",
       "4                         0.351696                      0.000000   \n",
       "\n",
       "   long battery time brand great  Amazon tablet sound screen good  \\\n",
       "0                       0.011111                         0.011111   \n",
       "1                       0.314363                         0.011111   \n",
       "2                       0.000000                         0.000000   \n",
       "3                       0.000000                         0.000000   \n",
       "4                       0.000000                         0.000000   \n",
       "\n",
       "   love buy tablet Kindle get  kid tablet love easy use  year old love buy 3  \n",
       "0                    0.011111                  0.011111             0.011111  \n",
       "1                    0.011111                  0.011111             0.011111  \n",
       "2                    0.212667                  0.000000             0.000000  \n",
       "3                    0.000000                  0.000000             0.000000  \n",
       "4                    0.000000                  0.000000             0.000000  "
      ]
     },
     "execution_count": 31,
     "metadata": {},
     "output_type": "execute_result"
    }
   ],
   "source": [
    "doc_topics.head()"
   ]
  },
  {
   "cell_type": "code",
   "execution_count": 32,
   "metadata": {},
   "outputs": [],
   "source": [
    "doc_topics['primary_topic'] = doc_topics.idxmax(axis=1)"
   ]
  },
  {
   "cell_type": "code",
   "execution_count": 33,
   "metadata": {},
   "outputs": [
    {
     "data": {
      "text/plain": [
       "great work price product battery    1254\n",
       "good price battery deal quality      967\n",
       "love buy tablet Kindle get           884\n",
       "easy use read book tablet            857\n",
       "battery Amazon brand buy box         811\n",
       "kid tablet love easy use             788\n",
       "battery work buy use week            772\n",
       "game app play tablet kid             649\n",
       "long battery time brand great        545\n",
       "year old love buy 3                  531\n",
       "Amazon tablet sound screen good      525\n",
       "tablet Amazon nice iPad fire         488\n",
       "like Kindle reader screen device     375\n",
       "need purchase perfect gift thank     301\n",
       "light read money kindle love         253\n",
       "Name: primary_topic, dtype: int64"
      ]
     },
     "execution_count": 33,
     "metadata": {},
     "output_type": "execute_result"
    }
   ],
   "source": [
    "doc_topics['primary_topic'].value_counts()"
   ]
  },
  {
   "cell_type": "markdown",
   "metadata": {},
   "source": [
    "# Selecting the Number of Topics"
   ]
  },
  {
   "cell_type": "code",
   "execution_count": 34,
   "metadata": {},
   "outputs": [],
   "source": [
    "from gensim.models.coherencemodel import CoherenceModel\n",
    "\n",
    "def compute_coherence_values(dictionary, corpus, limit, start=2, step=3, passes=5):\n",
    "    \"\"\"\n",
    "    Compute u_mass coherence for various number of topics\n",
    "\n",
    "    Parameters:\n",
    "    ----------\n",
    "    dictionary : Gensim dictionary\n",
    "    corpus : Gensim corpus\n",
    "    limit : Max num of topics\n",
    "    passes: the number of times the entire lda model & coherence values are calculated\n",
    "\n",
    "    Returns:\n",
    "    -------\n",
    "    coherence_values : Coherence values corresponding to the LDA model with respective number of topics\n",
    "    \"\"\"\n",
    "    \n",
    "    coherence_values = []\n",
    "    \n",
    "    for iter_ in range(passes):\n",
    "        for num_topics in range(start, limit, step):\n",
    "            model = LdaMulticore(corpus=corpus, num_topics=num_topics, id2word=dictionary, workers=12)\n",
    "            coherencemodel = CoherenceModel(model=model, dictionary=dictionary, corpus=corpus, coherence='u_mass')\n",
    "            coherence_values.append({\"pass\": iter_,\n",
    "                                    \"num_topics\": num_topics,\n",
    "                                    \"coherence_score\": coherencemodel.get_coherence()\n",
    "                                    })\n",
    "            \n",
    "    return coherence_values        "
   ]
  },
  {
   "cell_type": "code",
   "execution_count": 35,
   "metadata": {},
   "outputs": [],
   "source": [
    "coherence_values = compute_coherence_values(dictionary=id2word,\n",
    "                                           corpus=corpora,\n",
    "                                           start=3,\n",
    "                                           limit=40,\n",
    "                                           step=2,\n",
    "                                           passes=1)"
   ]
  },
  {
   "cell_type": "code",
   "execution_count": 36,
   "metadata": {},
   "outputs": [],
   "source": [
    "topic_coherence = pd.DataFrame.from_records(coherence_values)"
   ]
  },
  {
   "cell_type": "code",
   "execution_count": 37,
   "metadata": {},
   "outputs": [
    {
     "data": {
      "text/html": [
       "<div>\n",
       "<style scoped>\n",
       "    .dataframe tbody tr th:only-of-type {\n",
       "        vertical-align: middle;\n",
       "    }\n",
       "\n",
       "    .dataframe tbody tr th {\n",
       "        vertical-align: top;\n",
       "    }\n",
       "\n",
       "    .dataframe thead th {\n",
       "        text-align: right;\n",
       "    }\n",
       "</style>\n",
       "<table border=\"1\" class=\"dataframe\">\n",
       "  <thead>\n",
       "    <tr style=\"text-align: right;\">\n",
       "      <th></th>\n",
       "      <th>pass</th>\n",
       "      <th>num_topics</th>\n",
       "      <th>coherence_score</th>\n",
       "    </tr>\n",
       "  </thead>\n",
       "  <tbody>\n",
       "    <tr>\n",
       "      <th>0</th>\n",
       "      <td>0</td>\n",
       "      <td>3</td>\n",
       "      <td>-2.376442</td>\n",
       "    </tr>\n",
       "    <tr>\n",
       "      <th>1</th>\n",
       "      <td>0</td>\n",
       "      <td>5</td>\n",
       "      <td>-2.369452</td>\n",
       "    </tr>\n",
       "    <tr>\n",
       "      <th>2</th>\n",
       "      <td>0</td>\n",
       "      <td>7</td>\n",
       "      <td>-2.373709</td>\n",
       "    </tr>\n",
       "    <tr>\n",
       "      <th>3</th>\n",
       "      <td>0</td>\n",
       "      <td>9</td>\n",
       "      <td>-2.356680</td>\n",
       "    </tr>\n",
       "    <tr>\n",
       "      <th>4</th>\n",
       "      <td>0</td>\n",
       "      <td>11</td>\n",
       "      <td>-2.346559</td>\n",
       "    </tr>\n",
       "  </tbody>\n",
       "</table>\n",
       "</div>"
      ],
      "text/plain": [
       "   pass  num_topics  coherence_score\n",
       "0     0           3        -2.376442\n",
       "1     0           5        -2.369452\n",
       "2     0           7        -2.373709\n",
       "3     0           9        -2.356680\n",
       "4     0          11        -2.346559"
      ]
     },
     "execution_count": 37,
     "metadata": {},
     "output_type": "execute_result"
    }
   ],
   "source": [
    "topic_coherence.head()"
   ]
  },
  {
   "cell_type": "code",
   "execution_count": 38,
   "metadata": {},
   "outputs": [
    {
     "data": {
      "image/png": "[encoded data removed]",
      "text/plain": [
       "<Figure size 432x288 with 1 Axes>"
      ]
     },
     "metadata": {
      "needs_background": "light"
     },
     "output_type": "display_data"
    }
   ],
   "source": [
    "import seaborn as sns\n",
    "\n",
    "ax = sns.lineplot(x=\"num_topics\", y=\"coherence_score\", data=topic_coherence)"
   ]
  },
  {
   "cell_type": "markdown",
   "metadata": {},
   "source": [
    "# Let's seperate the data by ratings now"
   ]
  },
  {
   "cell_type": "code",
   "execution_count": 54,
   "metadata": {},
   "outputs": [
    {
     "data": {
      "text/plain": [
       "5    19897\n",
       "4     5648\n",
       "3     1206\n",
       "1      965\n",
       "2      616\n",
       "Name: reviews.rating, dtype: int64"
      ]
     },
     "execution_count": 54,
     "metadata": {},
     "output_type": "execute_result"
    }
   ],
   "source": [
    "df = pd.read_csv(zf.open(zipfile.ZipFile.namelist(zf)[0]))\n",
    "df = df[['name', 'primaryCategories', 'reviews.rating', 'reviews.text', 'reviews.title']]\n",
    "df['reviews.rating'].value_counts()"
   ]
  },
  {
   "cell_type": "code",
   "execution_count": 55,
   "metadata": {},
   "outputs": [
    {
     "data": {
      "image/png": "[encoded data removed]",
      "text/plain": [
       "<Figure size 432x288 with 1 Axes>"
      ]
     },
     "metadata": {
      "needs_background": "light"
     },
     "output_type": "display_data"
    }
   ],
   "source": [
    "import seaborn as sns\n",
    "\n",
    "sns.countplot(x=\"reviews.rating\", data=df);"
   ]
  },
  {
   "cell_type": "code",
   "execution_count": 56,
   "metadata": {},
   "outputs": [],
   "source": [
    "def rating_converter(df, rating, string_rating):\n",
    "    df = df.replace(rating, string_rating)\n",
    "    return df"
   ]
  },
  {
   "cell_type": "code",
   "execution_count": 57,
   "metadata": {},
   "outputs": [],
   "source": [
    "df['reviews.rating'] = rating_converter(df['reviews.rating'], 1, 'bad')"
   ]
  },
  {
   "cell_type": "code",
   "execution_count": 58,
   "metadata": {},
   "outputs": [],
   "source": [
    "df['reviews.rating'] = rating_converter(df['reviews.rating'], 2, 'bad')"
   ]
  },
  {
   "cell_type": "code",
   "execution_count": 59,
   "metadata": {},
   "outputs": [],
   "source": [
    "df['reviews.rating'] = rating_converter(df['reviews.rating'], 3, 'bad')"
   ]
  },
  {
   "cell_type": "code",
   "execution_count": 60,
   "metadata": {},
   "outputs": [],
   "source": [
    "df['reviews.rating'] = rating_converter(df['reviews.rating'], 4, 'good')"
   ]
  },
  {
   "cell_type": "code",
   "execution_count": 61,
   "metadata": {},
   "outputs": [],
   "source": [
    "df['reviews.rating'] = rating_converter(df['reviews.rating'], 5, 'great')"
   ]
  },
  {
   "cell_type": "code",
   "execution_count": 62,
   "metadata": {},
   "outputs": [
    {
     "data": {
      "text/plain": [
       "great    19897\n",
       "good      5648\n",
       "bad       2787\n",
       "Name: reviews.rating, dtype: int64"
      ]
     },
     "execution_count": 62,
     "metadata": {},
     "output_type": "execute_result"
    }
   ],
   "source": [
    "df['reviews.rating'].value_counts()"
   ]
  },
  {
   "cell_type": "code",
   "execution_count": 63,
   "metadata": {},
   "outputs": [
    {
     "data": {
      "image/png": "[encoded data removed]",
      "text/plain": [
       "<Figure size 432x288 with 1 Axes>"
      ]
     },
     "metadata": {
      "needs_background": "light"
     },
     "output_type": "display_data"
    }
   ],
   "source": [
    "sns.countplot(x=\"reviews.rating\", data=df);"
   ]
  },
  {
   "cell_type": "code",
   "execution_count": 64,
   "metadata": {},
   "outputs": [],
   "source": [
    "great_percent = df['reviews.rating'].value_counts()[0] / sum(df['reviews.rating'].value_counts()) * 100\n",
    "good_percent = df['reviews.rating'].value_counts()[1] / sum(df['reviews.rating'].value_counts()) * 100\n",
    "bad_percent = df['reviews.rating'].value_counts()[2] / sum(df['reviews.rating'].value_counts()) * 100"
   ]
  },
  {
   "cell_type": "code",
   "execution_count": 65,
   "metadata": {},
   "outputs": [
    {
     "name": "stdout",
     "output_type": "stream",
     "text": [
      "A great rating accounts for 70.2280107299167% of the ratings\n",
      "A good rating accounts for 19.93505576733023% of the ratings\n",
      "A bad rating accounts for 9.83693350275307% of the ratings\n"
     ]
    }
   ],
   "source": [
    "print(f\"A great rating accounts for {great_percent}% of the ratings\")\n",
    "print(f\"A good rating accounts for {good_percent}% of the ratings\")\n",
    "print(f\"A bad rating accounts for {bad_percent}% of the ratings\")\n",
    "    "
   ]
  },
  {
   "cell_type": "code",
   "execution_count": 69,
   "metadata": {},
   "outputs": [],
   "source": [
    "great_ratings = df[df['reviews.rating'] == 'great']\n",
    "good_ratings = df[df['reviews.rating'] == 'good']\n",
    "bad_ratings = df[df['reviews.rating'] == 'bad']"
   ]
  },
  {
   "cell_type": "code",
   "execution_count": 70,
   "metadata": {},
   "outputs": [
    {
     "data": {
      "text/html": [
       "<div>\n",
       "<style scoped>\n",
       "    .dataframe tbody tr th:only-of-type {\n",
       "        vertical-align: middle;\n",
       "    }\n",
       "\n",
       "    .dataframe tbody tr th {\n",
       "        vertical-align: top;\n",
       "    }\n",
       "\n",
       "    .dataframe thead th {\n",
       "        text-align: right;\n",
       "    }\n",
       "</style>\n",
       "<table border=\"1\" class=\"dataframe\">\n",
       "  <thead>\n",
       "    <tr style=\"text-align: right;\">\n",
       "      <th></th>\n",
       "      <th>name</th>\n",
       "      <th>primaryCategories</th>\n",
       "      <th>reviews.rating</th>\n",
       "      <th>reviews.text</th>\n",
       "      <th>reviews.title</th>\n",
       "    </tr>\n",
       "  </thead>\n",
       "  <tbody>\n",
       "    <tr>\n",
       "      <th>2</th>\n",
       "      <td>AmazonBasics AAA Performance Alkaline Batteries (36 Count)</td>\n",
       "      <td>Health &amp; Beauty</td>\n",
       "      <td>great</td>\n",
       "      <td>Well they are not Duracell but for the price i am happy.</td>\n",
       "      <td>... are not Duracell but for the price i am happy.</td>\n",
       "    </tr>\n",
       "    <tr>\n",
       "      <th>3</th>\n",
       "      <td>AmazonBasics AAA Performance Alkaline Batteries (36 Count)</td>\n",
       "      <td>Health &amp; Beauty</td>\n",
       "      <td>great</td>\n",
       "      <td>Seem to work as well as name brand batteries at a much better price</td>\n",
       "      <td>... as well as name brand batteries at a much better</td>\n",
       "    </tr>\n",
       "    <tr>\n",
       "      <th>4</th>\n",
       "      <td>AmazonBasics AAA Performance Alkaline Batteries (36 Count)</td>\n",
       "      <td>Health &amp; Beauty</td>\n",
       "      <td>great</td>\n",
       "      <td>These batteries are very long lasting the price is great.</td>\n",
       "      <td>... batteries are very long lasting the price is great.</td>\n",
       "    </tr>\n",
       "    <tr>\n",
       "      <th>5</th>\n",
       "      <td>AmazonBasics AAA Performance Alkaline Batteries (36 Count)</td>\n",
       "      <td>Health &amp; Beauty</td>\n",
       "      <td>great</td>\n",
       "      <td>Bought a lot of batteries for Christmas and the AmazonBasics Cell have been good. I haven't noticed a difference between the brand name batteries and the Amazon Basic brand. Just a lot easier to purchase and have arrive at the house and have on hand. Will buy again.</td>\n",
       "      <td>... batteries for Christmas and the AmazonBasics Cell have been good. I haven't noticed a difference between the brand ...</td>\n",
       "    </tr>\n",
       "    <tr>\n",
       "      <th>6</th>\n",
       "      <td>AmazonBasics AAA Performance Alkaline Batteries (36 Count)</td>\n",
       "      <td>Health &amp; Beauty</td>\n",
       "      <td>great</td>\n",
       "      <td>ive not had any problame with these batteries have ordered them in the past been very pleased.</td>\n",
       "      <td>... batteries have ordered them in the past been very pleased.</td>\n",
       "    </tr>\n",
       "  </tbody>\n",
       "</table>\n",
       "</div>"
      ],
      "text/plain": [
       "                                                         name  \\\n",
       "2  AmazonBasics AAA Performance Alkaline Batteries (36 Count)   \n",
       "3  AmazonBasics AAA Performance Alkaline Batteries (36 Count)   \n",
       "4  AmazonBasics AAA Performance Alkaline Batteries (36 Count)   \n",
       "5  AmazonBasics AAA Performance Alkaline Batteries (36 Count)   \n",
       "6  AmazonBasics AAA Performance Alkaline Batteries (36 Count)   \n",
       "\n",
       "  primaryCategories reviews.rating  \\\n",
       "2   Health & Beauty          great   \n",
       "3   Health & Beauty          great   \n",
       "4   Health & Beauty          great   \n",
       "5   Health & Beauty          great   \n",
       "6   Health & Beauty          great   \n",
       "\n",
       "                                                                                                                                                                                                                                                                 reviews.text  \\\n",
       "2                                                                                                                                                                                                                    Well they are not Duracell but for the price i am happy.   \n",
       "3                                                                                                                                                                                                         Seem to work as well as name brand batteries at a much better price   \n",
       "4                                                                                                                                                                                                                   These batteries are very long lasting the price is great.   \n",
       "5  Bought a lot of batteries for Christmas and the AmazonBasics Cell have been good. I haven't noticed a difference between the brand name batteries and the Amazon Basic brand. Just a lot easier to purchase and have arrive at the house and have on hand. Will buy again.   \n",
       "6                                                                                                                                                                              ive not had any problame with these batteries have ordered them in the past been very pleased.   \n",
       "\n",
       "                                                                                                                reviews.title  \n",
       "2                                                                          ... are not Duracell but for the price i am happy.  \n",
       "3                                                                        ... as well as name brand batteries at a much better  \n",
       "4                                                                     ... batteries are very long lasting the price is great.  \n",
       "5  ... batteries for Christmas and the AmazonBasics Cell have been good. I haven't noticed a difference between the brand ...  \n",
       "6                                                              ... batteries have ordered them in the past been very pleased.  "
      ]
     },
     "execution_count": 70,
     "metadata": {},
     "output_type": "execute_result"
    }
   ],
   "source": [
    "great_ratings.head()"
   ]
  },
  {
   "cell_type": "code",
   "execution_count": 71,
   "metadata": {},
   "outputs": [
    {
     "data": {
      "text/html": [
       "<div>\n",
       "<style scoped>\n",
       "    .dataframe tbody tr th:only-of-type {\n",
       "        vertical-align: middle;\n",
       "    }\n",
       "\n",
       "    .dataframe tbody tr th {\n",
       "        vertical-align: top;\n",
       "    }\n",
       "\n",
       "    .dataframe thead th {\n",
       "        text-align: right;\n",
       "    }\n",
       "</style>\n",
       "<table border=\"1\" class=\"dataframe\">\n",
       "  <thead>\n",
       "    <tr style=\"text-align: right;\">\n",
       "      <th></th>\n",
       "      <th>name</th>\n",
       "      <th>primaryCategories</th>\n",
       "      <th>reviews.rating</th>\n",
       "      <th>reviews.text</th>\n",
       "      <th>reviews.title</th>\n",
       "    </tr>\n",
       "  </thead>\n",
       "  <tbody>\n",
       "    <tr>\n",
       "      <th>1</th>\n",
       "      <td>AmazonBasics AAA Performance Alkaline Batteries (36 Count)</td>\n",
       "      <td>Health &amp; Beauty</td>\n",
       "      <td>good</td>\n",
       "      <td>Bulk is always the less expensive way to go for products like these</td>\n",
       "      <td>... always the less expensive way to go for products like</td>\n",
       "    </tr>\n",
       "    <tr>\n",
       "      <th>9</th>\n",
       "      <td>AmazonBasics AAA Performance Alkaline Batteries (36 Count)</td>\n",
       "      <td>Health &amp; Beauty</td>\n",
       "      <td>good</td>\n",
       "      <td>AmazonBasics AA AAA batteries have done well by me appear to have a good shelf life. I'll buy them again.</td>\n",
       "      <td>... done well by me appear to have a good shelf life</td>\n",
       "    </tr>\n",
       "    <tr>\n",
       "      <th>18</th>\n",
       "      <td>AmazonBasics AAA Performance Alkaline Batteries (36 Count)</td>\n",
       "      <td>Health &amp; Beauty</td>\n",
       "      <td>good</td>\n",
       "      <td>They don't last as long as the brand name but are good enough considering they are much cheaper.</td>\n",
       "      <td>... last as long as the brand name but are good enough considering they are much cheaper</td>\n",
       "    </tr>\n",
       "    <tr>\n",
       "      <th>20</th>\n",
       "      <td>AmazonBasics AAA Performance Alkaline Batteries (36 Count)</td>\n",
       "      <td>Health &amp; Beauty</td>\n",
       "      <td>good</td>\n",
       "      <td>This my second order and they seem to work as good as name brand and ship to my door.</td>\n",
       "      <td>... my second order and they seem to work as good as name brand and ship to my door</td>\n",
       "    </tr>\n",
       "    <tr>\n",
       "      <th>23</th>\n",
       "      <td>AmazonBasics AAA Performance Alkaline Batteries (36 Count)</td>\n",
       "      <td>Health &amp; Beauty</td>\n",
       "      <td>good</td>\n",
       "      <td>they seemed to not last as long as other name brand names disappointed!</td>\n",
       "      <td>... not last as long as other name brand names disappointed!</td>\n",
       "    </tr>\n",
       "  </tbody>\n",
       "</table>\n",
       "</div>"
      ],
      "text/plain": [
       "                                                          name  \\\n",
       "1   AmazonBasics AAA Performance Alkaline Batteries (36 Count)   \n",
       "9   AmazonBasics AAA Performance Alkaline Batteries (36 Count)   \n",
       "18  AmazonBasics AAA Performance Alkaline Batteries (36 Count)   \n",
       "20  AmazonBasics AAA Performance Alkaline Batteries (36 Count)   \n",
       "23  AmazonBasics AAA Performance Alkaline Batteries (36 Count)   \n",
       "\n",
       "   primaryCategories reviews.rating  \\\n",
       "1    Health & Beauty           good   \n",
       "9    Health & Beauty           good   \n",
       "18   Health & Beauty           good   \n",
       "20   Health & Beauty           good   \n",
       "23   Health & Beauty           good   \n",
       "\n",
       "                                                                                                 reviews.text  \\\n",
       "1                                         Bulk is always the less expensive way to go for products like these   \n",
       "9   AmazonBasics AA AAA batteries have done well by me appear to have a good shelf life. I'll buy them again.   \n",
       "18           They don't last as long as the brand name but are good enough considering they are much cheaper.   \n",
       "20                      This my second order and they seem to work as good as name brand and ship to my door.   \n",
       "23                                    they seemed to not last as long as other name brand names disappointed!   \n",
       "\n",
       "                                                                               reviews.title  \n",
       "1                                  ... always the less expensive way to go for products like  \n",
       "9                                       ... done well by me appear to have a good shelf life  \n",
       "18  ... last as long as the brand name but are good enough considering they are much cheaper  \n",
       "20       ... my second order and they seem to work as good as name brand and ship to my door  \n",
       "23                              ... not last as long as other name brand names disappointed!  "
      ]
     },
     "execution_count": 71,
     "metadata": {},
     "output_type": "execute_result"
    }
   ],
   "source": [
    "good_ratings.head()"
   ]
  },
  {
   "cell_type": "code",
   "execution_count": 72,
   "metadata": {},
   "outputs": [
    {
     "data": {
      "text/html": [
       "<div>\n",
       "<style scoped>\n",
       "    .dataframe tbody tr th:only-of-type {\n",
       "        vertical-align: middle;\n",
       "    }\n",
       "\n",
       "    .dataframe tbody tr th {\n",
       "        vertical-align: top;\n",
       "    }\n",
       "\n",
       "    .dataframe thead th {\n",
       "        text-align: right;\n",
       "    }\n",
       "</style>\n",
       "<table border=\"1\" class=\"dataframe\">\n",
       "  <thead>\n",
       "    <tr style=\"text-align: right;\">\n",
       "      <th></th>\n",
       "      <th>name</th>\n",
       "      <th>primaryCategories</th>\n",
       "      <th>reviews.rating</th>\n",
       "      <th>reviews.text</th>\n",
       "      <th>reviews.title</th>\n",
       "    </tr>\n",
       "  </thead>\n",
       "  <tbody>\n",
       "    <tr>\n",
       "      <th>0</th>\n",
       "      <td>AmazonBasics AAA Performance Alkaline Batteries (36 Count)</td>\n",
       "      <td>Health &amp; Beauty</td>\n",
       "      <td>bad</td>\n",
       "      <td>I order 3 of them and one of the item is bad quality. Is missing backup spring so I have to put a pcs of aluminum to make the battery work.</td>\n",
       "      <td>... 3 of them and one of the item is bad quality. Is missing backup spring so I have ...</td>\n",
       "    </tr>\n",
       "    <tr>\n",
       "      <th>8</th>\n",
       "      <td>AmazonBasics AAA Performance Alkaline Batteries (36 Count)</td>\n",
       "      <td>Health &amp; Beauty</td>\n",
       "      <td>bad</td>\n",
       "      <td>These do not hold the amount of high power juice like energizer or duracell, but they are half the price.</td>\n",
       "      <td>... do not hold the amount of high power juice like energizer or duracell</td>\n",
       "    </tr>\n",
       "    <tr>\n",
       "      <th>11</th>\n",
       "      <td>AmazonBasics AAA Performance Alkaline Batteries (36 Count)</td>\n",
       "      <td>Health &amp; Beauty</td>\n",
       "      <td>bad</td>\n",
       "      <td>When I first started getting the Amazon basic batteries I really liked them. With recent purchases, they do not seem to last like they had, or maybe a mixed-bag (inconsistent with some lasting better than others). I have not done any tests, but feel some other brands may last longer. However, the price is hard to beat.</td>\n",
       "      <td>... first started getting the Amazon basic batteries I really liked them. With recent purchases</td>\n",
       "    </tr>\n",
       "    <tr>\n",
       "      <th>16</th>\n",
       "      <td>AmazonBasics AAA Performance Alkaline Batteries (36 Count)</td>\n",
       "      <td>Health &amp; Beauty</td>\n",
       "      <td>bad</td>\n",
       "      <td>I don't know if I would buy thus brand again seems like they don't last as long as Duracell</td>\n",
       "      <td>... know if I would buy thus brand again seems like they don't last as long as Duracell</td>\n",
       "    </tr>\n",
       "    <tr>\n",
       "      <th>17</th>\n",
       "      <td>AmazonBasics AAA Performance Alkaline Batteries (36 Count)</td>\n",
       "      <td>Health &amp; Beauty</td>\n",
       "      <td>bad</td>\n",
       "      <td>In my opinion these did not last anywhere near as long as Duracel in things like LED candles (which is crazy) and trail cameras. Cameras were not exposed to cold temps more or less than other batteries. WE buy in bulk for the north house. Amazon Basics is great for things like sheets and beeding and towels. In my opinion the battery life, in the large package of aaa and aa size we purchased were lacking.</td>\n",
       "      <td>... last anywhere near as long as Duracel in things like LED candles (which is crazy) and trail cameras</td>\n",
       "    </tr>\n",
       "  </tbody>\n",
       "</table>\n",
       "</div>"
      ],
      "text/plain": [
       "                                                          name  \\\n",
       "0   AmazonBasics AAA Performance Alkaline Batteries (36 Count)   \n",
       "8   AmazonBasics AAA Performance Alkaline Batteries (36 Count)   \n",
       "11  AmazonBasics AAA Performance Alkaline Batteries (36 Count)   \n",
       "16  AmazonBasics AAA Performance Alkaline Batteries (36 Count)   \n",
       "17  AmazonBasics AAA Performance Alkaline Batteries (36 Count)   \n",
       "\n",
       "   primaryCategories reviews.rating  \\\n",
       "0    Health & Beauty            bad   \n",
       "8    Health & Beauty            bad   \n",
       "11   Health & Beauty            bad   \n",
       "16   Health & Beauty            bad   \n",
       "17   Health & Beauty            bad   \n",
       "\n",
       "                                                                                                                                                                                                                                                                                                                                                                                                               reviews.text  \\\n",
       "0                                                                                                                                                                                                                                                                               I order 3 of them and one of the item is bad quality. Is missing backup spring so I have to put a pcs of aluminum to make the battery work.   \n",
       "8                                                                                                                                                                                                                                                                                                                 These do not hold the amount of high power juice like energizer or duracell, but they are half the price.   \n",
       "11                                                                                         When I first started getting the Amazon basic batteries I really liked them. With recent purchases, they do not seem to last like they had, or maybe a mixed-bag (inconsistent with some lasting better than others). I have not done any tests, but feel some other brands may last longer. However, the price is hard to beat.   \n",
       "16                                                                                                                                                                                                                                                                                                                              I don't know if I would buy thus brand again seems like they don't last as long as Duracell   \n",
       "17  In my opinion these did not last anywhere near as long as Duracel in things like LED candles (which is crazy) and trail cameras. Cameras were not exposed to cold temps more or less than other batteries. WE buy in bulk for the north house. Amazon Basics is great for things like sheets and beeding and towels. In my opinion the battery life, in the large package of aaa and aa size we purchased were lacking.   \n",
       "\n",
       "                                                                                              reviews.title  \n",
       "0                  ... 3 of them and one of the item is bad quality. Is missing backup spring so I have ...  \n",
       "8                                 ... do not hold the amount of high power juice like energizer or duracell  \n",
       "11          ... first started getting the Amazon basic batteries I really liked them. With recent purchases  \n",
       "16                  ... know if I would buy thus brand again seems like they don't last as long as Duracell  \n",
       "17  ... last anywhere near as long as Duracel in things like LED candles (which is crazy) and trail cameras  "
      ]
     },
     "execution_count": 72,
     "metadata": {},
     "output_type": "execute_result"
    }
   ],
   "source": [
    "bad_ratings.head()"
   ]
  },
  {
   "cell_type": "code",
   "execution_count": 73,
   "metadata": {},
   "outputs": [],
   "source": [
    "great_tokens = []\n",
    "\n",
    "for doc in nlp.pipe(great_ratings['reviews.text']):\n",
    "    \n",
    "    doc_tokens = []\n",
    "    \n",
    "    for token in doc:\n",
    "        if ((token.is_stop != True) and (token.pos_ != \"PRON\")) and (token.is_punct != True):\n",
    "            doc_tokens.append(token.lemma_.strip())\n",
    "            \n",
    "    great_tokens.append(doc_tokens)"
   ]
  },
  {
   "cell_type": "code",
   "execution_count": 74,
   "metadata": {},
   "outputs": [],
   "source": [
    "good_tokens = []\n",
    "\n",
    "for doc in nlp.pipe(good_ratings['reviews.text']):\n",
    "    \n",
    "    doc_tokens = []\n",
    "    \n",
    "    for token in doc:\n",
    "        if ((token.is_stop != True) and (token.pos_ != \"PRON\")) and (token.is_punct != True):\n",
    "            doc_tokens.append(token.lemma_.strip())\n",
    "            \n",
    "    good_tokens.append(doc_tokens)"
   ]
  },
  {
   "cell_type": "code",
   "execution_count": 75,
   "metadata": {},
   "outputs": [],
   "source": [
    "bad_tokens = []\n",
    "\n",
    "for doc in nlp.pipe(bad_ratings['reviews.text']):\n",
    "    \n",
    "    doc_tokens = []\n",
    "    \n",
    "    for token in doc:\n",
    "        if ((token.is_stop != True) and (token.pos_ != \"PRON\")) and (token.is_punct != True):\n",
    "            doc_tokens.append(token.lemma_.strip())\n",
    "            \n",
    "    bad_tokens.append(doc_tokens)"
   ]
  },
  {
   "cell_type": "code",
   "execution_count": 78,
   "metadata": {},
   "outputs": [
    {
     "data": {
      "text/plain": [
       "(['Duracell', 'price', 'happy'],\n",
       " ['bulk', 'expensive', 'way', 'product', 'like'],\n",
       " ['order',\n",
       "  '3',\n",
       "  'item',\n",
       "  'bad',\n",
       "  'quality',\n",
       "  'miss',\n",
       "  'backup',\n",
       "  'spring',\n",
       "  'pc',\n",
       "  'aluminum',\n",
       "  'battery',\n",
       "  'work'])"
      ]
     },
     "execution_count": 78,
     "metadata": {},
     "output_type": "execute_result"
    }
   ],
   "source": [
    "great_tokens[0], good_tokens[0], bad_tokens[0]"
   ]
  },
  {
   "cell_type": "code",
   "execution_count": 80,
   "metadata": {},
   "outputs": [],
   "source": [
    "import gensim\n",
    "\n",
    "from gensim import corpora\n",
    "from gensim.models.ldamulticore import LdaMulticore\n",
    "\n",
    "great_id2word = corpora.Dictionary(great_tokens)\n",
    "good_id2word = corpora.Dictionary(good_tokens)\n",
    "bad_id2word = corpora.Dictionary(bad_tokens)"
   ]
  },
  {
   "cell_type": "code",
   "execution_count": 81,
   "metadata": {},
   "outputs": [
    {
     "data": {
      "text/plain": [
       "(7265, 4358, 3732)"
      ]
     },
     "execution_count": 81,
     "metadata": {},
     "output_type": "execute_result"
    }
   ],
   "source": [
    "len(great_id2word), len(good_id2word), len(bad_id2word)"
   ]
  },
  {
   "cell_type": "code",
   "execution_count": 82,
   "metadata": {},
   "outputs": [],
   "source": [
    "great_id2word.filter_extremes(no_below=5, no_above=.95)\n",
    "good_id2word.filter_extremes(no_below=5, no_above=.95)\n",
    "bad_id2word.filter_extremes(no_below=5, no_above=.95)"
   ]
  },
  {
   "cell_type": "code",
   "execution_count": 83,
   "metadata": {},
   "outputs": [
    {
     "data": {
      "text/plain": [
       "(2360, 1463, 1104)"
      ]
     },
     "execution_count": 83,
     "metadata": {},
     "output_type": "execute_result"
    }
   ],
   "source": [
    "len(great_id2word), len(good_id2word), len(bad_id2word)"
   ]
  },
  {
   "cell_type": "code",
   "execution_count": 84,
   "metadata": {},
   "outputs": [],
   "source": [
    "great_corpora = [great_id2word.doc2bow(doc) for doc in great_tokens]\n",
    "good_corpora = [good_id2word.doc2bow(doc) for doc in good_tokens]\n",
    "bad_corpora = [bad_id2word.doc2bow(doc) for doc in bad_tokens]"
   ]
  },
  {
   "cell_type": "code",
   "execution_count": 86,
   "metadata": {},
   "outputs": [
    {
     "data": {
      "text/plain": [
       "([(3, 1), (28, 1), (29, 1), (30, 1), (31, 1), (32, 1)],\n",
       " [(9, 2), (11, 1), (24, 1)],\n",
       " [(2, 4),\n",
       "  (7, 1),\n",
       "  (14, 1),\n",
       "  (27, 1),\n",
       "  (34, 1),\n",
       "  (36, 1),\n",
       "  (57, 1),\n",
       "  (58, 1),\n",
       "  (59, 1),\n",
       "  (60, 1),\n",
       "  (61, 2),\n",
       "  (62, 1),\n",
       "  (63, 2),\n",
       "  (64, 1),\n",
       "  (65, 1)])"
      ]
     },
     "execution_count": 86,
     "metadata": {},
     "output_type": "execute_result"
    }
   ],
   "source": [
    "great_corpora[5], good_corpora[5], bad_corpora[5]"
   ]
  },
  {
   "cell_type": "code",
   "execution_count": 87,
   "metadata": {},
   "outputs": [],
   "source": [
    "grea_lda = LdaMulticore(corpus=great_corpora,\n",
    "                       id2word=great_id2word,\n",
    "                       num_topics=15,\n",
    "                       passes=50)"
   ]
  },
  {
   "cell_type": "code",
   "execution_count": 88,
   "metadata": {},
   "outputs": [],
   "source": [
    "good_lda = LdaMulticore(corpus=good_corpora,\n",
    "                       id2word=good_id2word,\n",
    "                        num_topics=15,\n",
    "                        passes=50)"
   ]
  },
  {
   "cell_type": "code",
   "execution_count": 89,
   "metadata": {},
   "outputs": [],
   "source": [
    "bad_lda = LdaMulticore(corpus=bad_corpora,\n",
    "                      id2word=bad_id2word,\n",
    "                      num_topics=15,\n",
    "                      passes=50)"
   ]
  },
  {
   "cell_type": "code",
   "execution_count": 90,
   "metadata": {},
   "outputs": [
    {
     "data": {
      "text/plain": [
       "[(0,\n",
       "  '0.082*\"kid\" + 0.065*\"tablet\" + 0.055*\"game\" + 0.049*\"love\" + 0.038*\"great\" + 0.032*\"play\" + 0.024*\"watch\" + 0.023*\"app\" + 0.018*\"son\" + 0.017*\"learn\"'),\n",
       " (1,\n",
       "  '0.026*\"Amazon\" + 0.025*\"sound\" + 0.021*\"Alexa\" + 0.018*\"speaker\" + 0.018*\"know\" + 0.017*\"music\" + 0.015*\"tap\" + 0.015*\"Echo\" + 0.014*\"portable\" + 0.013*\"device\"'),\n",
       " (2,\n",
       "  '0.039*\"control\" + 0.039*\"tablet\" + 0.036*\"child\" + 0.030*\"app\" + 0.029*\"parental\" + 0.027*\"kid\" + 0.026*\"time\" + 0.025*\"set\" + 0.024*\"user\" + 0.022*\"friendly\"'),\n",
       " (3,\n",
       "  '0.170*\"great\" + 0.161*\"good\" + 0.127*\"price\" + 0.097*\"battery\" + 0.079*\"work\" + 0.042*\"value\" + 0.030*\"deal\" + 0.024*\"buy\" + 0.023*\"quality\" + 0.021*\"far\"'),\n",
       " (4,\n",
       "  '0.117*\"love\" + 0.107*\"year\" + 0.104*\"old\" + 0.062*\"buy\" + 0.031*\"grandson\" + 0.028*\"Christmas\" + 0.028*\"tablet\" + 0.027*\"daughter\" + 0.024*\"3\" + 0.022*\"2\"'),\n",
       " (5,\n",
       "  '0.113*\"love\" + 0.098*\"buy\" + 0.054*\"gift\" + 0.044*\"tablet\" + 0.041*\"purchase\" + 0.034*\"son\" + 0.029*\"happy\" + 0.026*\"great\" + 0.025*\"Christmas\" + 0.025*\"get\"'),\n",
       " (6,\n",
       "  '0.148*\"product\" + 0.144*\"great\" + 0.071*\"recommend\" + 0.051*\"price\" + 0.037*\"good\" + 0.037*\"excellent\" + 0.030*\"highly\" + 0.028*\"thank\" + 0.027*\"fast\" + 0.025*\"item\"'),\n",
       " (7,\n",
       "  '0.151*\"battery\" + 0.062*\"long\" + 0.053*\"brand\" + 0.030*\"work\" + 0.030*\"buy\" + 0.022*\"time\" + 0.020*\"price\" + 0.018*\"last\" + 0.018*\"cheap\" + 0.015*\"toy\"'),\n",
       " (8,\n",
       "  '0.077*\"great\" + 0.071*\"tablet\" + 0.059*\"size\" + 0.058*\"nice\" + 0.057*\"perfect\" + 0.035*\"screen\" + 0.027*\"look\" + 0.025*\"want\" + 0.019*\"good\" + 0.019*\"picture\"'),\n",
       " (9,\n",
       "  '0.028*\"hold\" + 0.019*\"case\" + 0.017*\"light\" + 0.017*\"Kindle\" + 0.016*\"turn\" + 0.015*\"hand\" + 0.015*\"charge\" + 0.014*\"screen\" + 0.014*\"page\" + 0.012*\"small\"'),\n",
       " (10,\n",
       "  '0.262*\"easy\" + 0.180*\"use\" + 0.081*\"book\" + 0.079*\"read\" + 0.035*\"love\" + 0.026*\"set\" + 0.016*\"navigate\" + 0.013*\"carry\" + 0.013*\"want\" + 0.012*\"purchase\"'),\n",
       " (11,\n",
       "  '0.080*\"tablet\" + 0.040*\"Amazon\" + 0.023*\"Fire\" + 0.022*\"app\" + 0.016*\"great\" + 0.016*\"$\" + 0.016*\"fire\" + 0.015*\"price\" + 0.013*\"movie\" + 0.011*\"8\"'),\n",
       " (12,\n",
       "  '0.059*\"battery\" + 0.050*\"Amazon\" + 0.025*\"good\" + 0.019*\"buy\" + 0.018*\"try\" + 0.018*\"review\" + 0.016*\"purchase\" + 0.016*\"AmazonBasics\" + 0.015*\"order\" + 0.012*\"time\"'),\n",
       " (13,\n",
       "  '0.073*\"battery\" + 0.043*\"come\" + 0.036*\"box\" + 0.025*\"work\" + 0.024*\"package\" + 0.021*\"pack\" + 0.019*\"need\" + 0.019*\"packaging\" + 0.015*\"store\" + 0.014*\"quickly\"'),\n",
       " (14,\n",
       "  '0.051*\"kindle\" + 0.051*\"Kindle\" + 0.040*\"love\" + 0.037*\"read\" + 0.029*\"new\" + 0.029*\"book\" + 0.023*\"fire\" + 0.018*\"reader\" + 0.018*\"Fire\" + 0.015*\"old\"')]"
      ]
     },
     "execution_count": 90,
     "metadata": {},
     "output_type": "execute_result"
    }
   ],
   "source": [
    "grea_lda.print_topics()"
   ]
  },
  {
   "cell_type": "code",
   "execution_count": 91,
   "metadata": {},
   "outputs": [
    {
     "data": {
      "text/plain": [
       "[(0,\n",
       "  '0.088*\"love\" + 0.058*\"tablet\" + 0.039*\"old\" + 0.034*\"kid\" + 0.034*\"easy\" + 0.032*\"year\" + 0.032*\"purchase\" + 0.027*\"use\" + 0.026*\"buy\" + 0.023*\"great\"'),\n",
       " (1,\n",
       "  '0.043*\"great\" + 0.040*\"old\" + 0.038*\"buy\" + 0.037*\"year\" + 0.029*\"tablet\" + 0.019*\"use\" + 0.018*\"Christmas\" + 0.017*\"love\" + 0.016*\"card\" + 0.015*\"grandson\"'),\n",
       " (2,\n",
       "  '0.087*\"great\" + 0.063*\"little\" + 0.057*\"work\" + 0.050*\"tablet\" + 0.029*\"app\" + 0.018*\"expect\" + 0.018*\"love\" + 0.017*\"kid\" + 0.017*\"screen\" + 0.015*\"product\"'),\n",
       " (3,\n",
       "  '0.051*\"play\" + 0.044*\"game\" + 0.037*\"good\" + 0.033*\"kid\" + 0.028*\"tablet\" + 0.021*\"love\" + 0.019*\"charge\" + 0.019*\"great\" + 0.016*\"work\" + 0.013*\"get\"'),\n",
       " (4,\n",
       "  '0.140*\"battery\" + 0.029*\"long\" + 0.025*\"life\" + 0.021*\"brand\" + 0.019*\"good\" + 0.019*\"work\" + 0.019*\"time\" + 0.016*\"use\" + 0.013*\"Amazon\" + 0.011*\"test\"'),\n",
       " (5,\n",
       "  '0.077*\"tablet\" + 0.029*\"read\" + 0.027*\"book\" + 0.024*\"great\" + 0.022*\"watch\" + 0.022*\"internet\" + 0.020*\"game\" + 0.020*\"want\" + 0.019*\"look\" + 0.017*\"use\"'),\n",
       " (6,\n",
       "  '0.096*\"price\" + 0.072*\"good\" + 0.071*\"great\" + 0.067*\"battery\" + 0.050*\"work\" + 0.037*\"far\" + 0.035*\"long\" + 0.030*\"buy\" + 0.030*\"brand\" + 0.017*\"fine\"'),\n",
       " (7,\n",
       "  '0.053*\"tablet\" + 0.041*\"great\" + 0.035*\"buy\" + 0.023*\"good\" + 0.019*\"$\" + 0.015*\"price\" + 0.015*\"cheap\" + 0.014*\"Amazon\" + 0.013*\"fire\" + 0.012*\"device\"'),\n",
       " (8,\n",
       "  '0.059*\"kid\" + 0.033*\"great\" + 0.023*\"kindle\" + 0.020*\"love\" + 0.019*\"tablet\" + 0.018*\"use\" + 0.015*\"page\" + 0.014*\"turn\" + 0.014*\"time\" + 0.013*\"device\"'),\n",
       " (9,\n",
       "  '0.037*\"Kindle\" + 0.025*\"tablet\" + 0.025*\"good\" + 0.022*\"screen\" + 0.022*\"like\" + 0.017*\"great\" + 0.014*\"reader\" + 0.012*\"product\" + 0.012*\"Fire\" + 0.011*\"purchase\"'),\n",
       " (10,\n",
       "  '0.031*\"like\" + 0.021*\"app\" + 0.019*\"wifi\" + 0.017*\"work\" + 0.017*\"book\" + 0.016*\"read\" + 0.014*\"need\" + 0.014*\"time\" + 0.013*\"download\" + 0.013*\"love\"'),\n",
       " (11,\n",
       "  '0.059*\"app\" + 0.047*\"tablet\" + 0.035*\"Amazon\" + 0.026*\"store\" + 0.024*\"use\" + 0.020*\"play\" + 0.018*\"like\" + 0.017*\"need\" + 0.016*\"Google\" + 0.015*\"great\"'),\n",
       " (12,\n",
       "  '0.035*\"device\" + 0.024*\"app\" + 0.023*\"Amazon\" + 0.019*\"screen\" + 0.016*\"Alexa\" + 0.013*\"button\" + 0.013*\"use\" + 0.013*\"speaker\" + 0.012*\"tablet\" + 0.011*\"music\"'),\n",
       " (13,\n",
       "  '0.140*\"good\" + 0.067*\"price\" + 0.045*\"tablet\" + 0.027*\"product\" + 0.026*\"quality\" + 0.026*\"great\" + 0.017*\"nice\" + 0.015*\"feature\" + 0.014*\"overall\" + 0.014*\"buy\"'),\n",
       " (14,\n",
       "  '0.046*\"use\" + 0.043*\"easy\" + 0.041*\"read\" + 0.038*\"book\" + 0.027*\"like\" + 0.026*\"love\" + 0.026*\"buy\" + 0.022*\"kindle\" + 0.018*\"control\" + 0.016*\"get\"')]"
      ]
     },
     "execution_count": 91,
     "metadata": {},
     "output_type": "execute_result"
    }
   ],
   "source": [
    "good_lda.print_topics()"
   ]
  },
  {
   "cell_type": "code",
   "execution_count": 92,
   "metadata": {},
   "outputs": [
    {
     "data": {
      "text/plain": [
       "[(0,\n",
       "  '0.064*\"tablet\" + 0.047*\"kid\" + 0.037*\"good\" + 0.026*\"great\" + 0.021*\"game\" + 0.018*\"app\" + 0.017*\"child\" + 0.012*\"use\" + 0.011*\"think\" + 0.011*\"friendly\"'),\n",
       " (1,\n",
       "  '0.119*\"battery\" + 0.031*\"leak\" + 0.022*\"remote\" + 0.021*\"work\" + 0.019*\"buy\" + 0.017*\"pack\" + 0.016*\"day\" + 0.013*\"2\" + 0.013*\"go\" + 0.012*\"get\"'),\n",
       " (2,\n",
       "  '0.147*\"battery\" + 0.067*\"long\" + 0.034*\"brand\" + 0.024*\"price\" + 0.023*\"Duracell\" + 0.019*\"die\" + 0.017*\"good\" + 0.015*\"work\" + 0.014*\"last\" + 0.014*\"life\"'),\n",
       " (3,\n",
       "  '0.102*\"battery\" + 0.040*\"life\" + 0.030*\"short\" + 0.026*\"ok\" + 0.023*\"Amazon\" + 0.022*\"clock\" + 0.021*\"mouse\" + 0.017*\"buy\" + 0.017*\"week\" + 0.016*\"purchase\"'),\n",
       " (4,\n",
       "  '0.060*\"long\" + 0.053*\"buy\" + 0.026*\"not\" + 0.025*\"8\" + 0.024*\"charge\" + 0.023*\"tablet\" + 0.019*\"expect\" + 0.019*\"get\" + 0.018*\"good\" + 0.018*\"hold\"'),\n",
       " (5,\n",
       "  '0.051*\"charge\" + 0.050*\"battery\" + 0.023*\"dead\" + 0.021*\"device\" + 0.019*\"Amazon\" + 0.019*\"buy\" + 0.017*\"purchase\" + 0.017*\"problem\" + 0.016*\"month\" + 0.015*\"new\"'),\n",
       " (6,\n",
       "  '0.041*\"turn\" + 0.029*\"Christmas\" + 0.029*\"app\" + 0.024*\"buy\" + 0.023*\"junk\" + 0.021*\"account\" + 0.021*\"gift\" + 0.021*\"charge\" + 0.020*\"hour\" + 0.019*\"week\"'),\n",
       " (7,\n",
       "  '0.032*\"Amazon\" + 0.030*\"tablet\" + 0.025*\"product\" + 0.024*\"little\" + 0.021*\"device\" + 0.019*\"good\" + 0.016*\"camera\" + 0.014*\"look\" + 0.012*\"storage\" + 0.012*\"cost\"'),\n",
       " (8,\n",
       "  '0.037*\"old\" + 0.030*\"return\" + 0.026*\"purchase\" + 0.025*\"love\" + 0.021*\"year\" + 0.020*\"easy\" + 0.019*\"work\" + 0.017*\"buy\" + 0.017*\"son\" + 0.017*\"tablet\"'),\n",
       " (9,\n",
       "  '0.046*\"like\" + 0.033*\"buy\" + 0.020*\"cheap\" + 0.017*\"return\" + 0.017*\"daughter\" + 0.016*\"tablet\" + 0.016*\"find\" + 0.015*\"ad\" + 0.014*\"purchase\" + 0.013*\"product\"'),\n",
       " (10,\n",
       "  '0.038*\"tablet\" + 0.032*\"good\" + 0.027*\"app\" + 0.024*\"screen\" + 0.022*\"work\" + 0.022*\"use\" + 0.021*\"price\" + 0.019*\"time\" + 0.017*\"iPad\" + 0.016*\"read\"'),\n",
       " (11,\n",
       "  '0.038*\"need\" + 0.021*\"slow\" + 0.021*\"buy\" + 0.018*\"sound\" + 0.018*\"use\" + 0.017*\"performance\" + 0.014*\"tablet\" + 0.012*\"time\" + 0.012*\"speaker\" + 0.012*\"get\"'),\n",
       " (12,\n",
       "  '0.035*\"store\" + 0.031*\"product\" + 0.028*\"use\" + 0.026*\"Amazon\" + 0.024*\"app\" + 0.023*\"like\" + 0.021*\"Google\" + 0.020*\"amazon\" + 0.018*\"second\" + 0.017*\"play\"'),\n",
       " (13,\n",
       "  '0.090*\"work\" + 0.024*\"try\" + 0.020*\"like\" + 0.020*\"buy\" + 0.018*\"case\" + 0.015*\"thing\" + 0.014*\"Amazon\" + 0.013*\"app\" + 0.012*\"not\" + 0.011*\"play\"'),\n",
       " (14,\n",
       "  '0.099*\"battery\" + 0.030*\"use\" + 0.028*\"buy\" + 0.021*\"brand\" + 0.020*\"money\" + 0.018*\"week\" + 0.018*\"2\" + 0.016*\"hour\" + 0.015*\"last\" + 0.013*\"work\"')]"
      ]
     },
     "execution_count": 92,
     "metadata": {},
     "output_type": "execute_result"
    }
   ],
   "source": [
    "bad_lda.print_topics()"
   ]
  },
  {
   "cell_type": "code",
   "execution_count": 93,
   "metadata": {},
   "outputs": [],
   "source": [
    "import re\n",
    "\n",
    "great_words = [re.findall('\"([^\"]*)\"', t[1]) for t in grea_lda.print_topics()]\n",
    "good_words = [re.findall('\"([^\"]*)\"', t[1]) for t in good_lda.print_topics()]\n",
    "bad_words = [re.findall('\"([^\"]*)\"', t[1]) for t in bad_lda.print_topics()]"
   ]
  },
  {
   "cell_type": "code",
   "execution_count": 94,
   "metadata": {},
   "outputs": [],
   "source": [
    "great_topics = [' '.join(t[0:5]) for t in great_words]\n",
    "good_topics = [' '.join(t[0:5]) for t in good_words]\n",
    "bad_topics = [' '.join(t[0:5]) for t in bad_words]"
   ]
  },
  {
   "cell_type": "code",
   "execution_count": 95,
   "metadata": {},
   "outputs": [
    {
     "name": "stdout",
     "output_type": "stream",
     "text": [
      "----- Great Topic 0 -----\n",
      "kid tablet game love great\n",
      "\n",
      "----- Great Topic 1 -----\n",
      "Amazon sound Alexa speaker know\n",
      "\n",
      "----- Great Topic 2 -----\n",
      "control tablet child app parental\n",
      "\n",
      "----- Great Topic 3 -----\n",
      "great good price battery work\n",
      "\n",
      "----- Great Topic 4 -----\n",
      "love year old buy grandson\n",
      "\n",
      "----- Great Topic 5 -----\n",
      "love buy gift tablet purchase\n",
      "\n",
      "----- Great Topic 6 -----\n",
      "product great recommend price good\n",
      "\n",
      "----- Great Topic 7 -----\n",
      "battery long brand work buy\n",
      "\n",
      "----- Great Topic 8 -----\n",
      "great tablet size nice perfect\n",
      "\n",
      "----- Great Topic 9 -----\n",
      "hold case light Kindle turn\n",
      "\n",
      "----- Great Topic 10 -----\n",
      "easy use book read love\n",
      "\n",
      "----- Great Topic 11 -----\n",
      "tablet Amazon Fire app great\n",
      "\n",
      "----- Great Topic 12 -----\n",
      "battery Amazon good buy try\n",
      "\n",
      "----- Great Topic 13 -----\n",
      "battery come box work package\n",
      "\n",
      "----- Great Topic 14 -----\n",
      "kindle Kindle love read new\n",
      "\n"
     ]
    }
   ],
   "source": [
    "for id, t in enumerate(great_topics):\n",
    "    print(f\"----- Great Topic {id} -----\")\n",
    "    print(t, end=\"\\n\\n\")  "
   ]
  },
  {
   "cell_type": "code",
   "execution_count": 96,
   "metadata": {},
   "outputs": [
    {
     "name": "stdout",
     "output_type": "stream",
     "text": [
      "----- Good Topic 0 -----\n",
      "love tablet old kid easy\n",
      "\n",
      "----- Good Topic 1 -----\n",
      "great old buy year tablet\n",
      "\n",
      "----- Good Topic 2 -----\n",
      "great little work tablet app\n",
      "\n",
      "----- Good Topic 3 -----\n",
      "play game good kid tablet\n",
      "\n",
      "----- Good Topic 4 -----\n",
      "battery long life brand good\n",
      "\n",
      "----- Good Topic 5 -----\n",
      "tablet read book great watch\n",
      "\n",
      "----- Good Topic 6 -----\n",
      "price good great battery work\n",
      "\n",
      "----- Good Topic 7 -----\n",
      "tablet great buy good $\n",
      "\n",
      "----- Good Topic 8 -----\n",
      "kid great kindle love tablet\n",
      "\n",
      "----- Good Topic 9 -----\n",
      "Kindle tablet good screen like\n",
      "\n",
      "----- Good Topic 10 -----\n",
      "like app wifi work book\n",
      "\n",
      "----- Good Topic 11 -----\n",
      "app tablet Amazon store use\n",
      "\n",
      "----- Good Topic 12 -----\n",
      "device app Amazon screen Alexa\n",
      "\n",
      "----- Good Topic 13 -----\n",
      "good price tablet product quality\n",
      "\n",
      "----- Good Topic 14 -----\n",
      "use easy read book like\n",
      "\n"
     ]
    }
   ],
   "source": [
    "for id, t in enumerate(good_topics):\n",
    "    print(f\"----- Good Topic {id} -----\")\n",
    "    print(t, end=\"\\n\\n\")"
   ]
  },
  {
   "cell_type": "code",
   "execution_count": 97,
   "metadata": {},
   "outputs": [
    {
     "name": "stdout",
     "output_type": "stream",
     "text": [
      "----- Bad Topic 0 -----\n",
      "light read money kindle love\n",
      "\n",
      "----- Bad Topic 1 -----\n",
      "game app play tablet kid\n",
      "\n",
      "----- Bad Topic 2 -----\n",
      "tablet Amazon nice iPad fire\n",
      "\n",
      "----- Bad Topic 3 -----\n",
      "easy use read book tablet\n",
      "\n",
      "----- Bad Topic 4 -----\n",
      "great work price product battery\n",
      "\n",
      "----- Bad Topic 5 -----\n",
      "need purchase perfect gift thank\n",
      "\n",
      "----- Bad Topic 6 -----\n",
      "like Kindle reader screen device\n",
      "\n",
      "----- Bad Topic 7 -----\n",
      "battery work buy use week\n",
      "\n",
      "----- Bad Topic 8 -----\n",
      "good price battery deal quality\n",
      "\n",
      "----- Bad Topic 9 -----\n",
      "battery Amazon brand buy box\n",
      "\n",
      "----- Bad Topic 10 -----\n",
      "long battery time brand great\n",
      "\n",
      "----- Bad Topic 11 -----\n",
      "Amazon tablet sound screen good\n",
      "\n",
      "----- Bad Topic 12 -----\n",
      "love buy tablet Kindle get\n",
      "\n",
      "----- Bad Topic 13 -----\n",
      "kid tablet love easy use\n",
      "\n",
      "----- Bad Topic 14 -----\n",
      "year old love buy 3\n",
      "\n"
     ]
    }
   ],
   "source": [
    "for id, t in enumerate(topics):\n",
    "    print(f\"----- Bad Topic {id} -----\")\n",
    "    print(t, end=\"\\n\\n\")"
   ]
  },
  {
   "cell_type": "code",
   "execution_count": null,
   "metadata": {},
   "outputs": [],
   "source": []
  },
  {
   "cell_type": "code",
   "execution_count": null,
   "metadata": {},
   "outputs": [],
   "source": []
  },
  {
   "cell_type": "markdown",
   "metadata": {},
   "source": [
    "## Stretch Goals\n",
    "\n",
    "* Incorporate Named Entity Recognition in your analysis\n",
    "* Incorporate some custom pre-processing from our previous lessons (like spacy lemmatization)\n",
    "* Analyze a dataset of interest to you with topic modeling"
   ]
  }
 ],
 "metadata": {
  "kernelspec": {
   "display_name": "U4-S1-NLP (Python3)",
   "language": "python",
   "name": "u4-s1-nlp"
  },
  "language_info": {
   "codemirror_mode": {
    "name": "ipython",
    "version": 3
   },
   "file_extension": ".py",
   "mimetype": "text/x-python",
   "name": "python",
   "nbconvert_exporter": "python",
   "pygments_lexer": "ipython3",
   "version": "3.7.0"
  }
 },
 "nbformat": 4,
 "nbformat_minor": 4
}
