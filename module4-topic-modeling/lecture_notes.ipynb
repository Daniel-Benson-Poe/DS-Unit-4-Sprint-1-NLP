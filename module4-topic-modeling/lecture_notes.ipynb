{
 "cells": [
  {
   "cell_type": "markdown",
   "metadata": {},
   "source": [
    "Guiding Question: What are customers saying about our movies?"
   ]
  },
  {
   "cell_type": "markdown",
   "metadata": {},
   "source": [
    "## Our approach to analyzing:\n",
    "- Analyze text of movie reviews\n",
    "- Clean the review text\n",
    "- HOW - topic modeling\n",
    "- Label most reviews with the most important topics\n",
    "- Visualize the results"
   ]
  },
  {
   "cell_type": "code",
   "execution_count": 2,
   "metadata": {},
   "outputs": [],
   "source": [
    "import pandas as pd\n",
    "import gensim\n",
    "import os\n",
    "import re\n",
    "\n",
    "from gensim.utils import simple_preprocess\n",
    "from gensim.parsing.preprocessing import STOPWORDS\n",
    "from gensim import corpora\n",
    "\n",
    "from gensim.models.ldamulticore import LdaMulticore\n",
    "\n",
    "import pandas as pd"
   ]
  },
  {
   "cell_type": "code",
   "execution_count": 3,
   "metadata": {},
   "outputs": [
    {
     "data": {
      "text/plain": [
       "'3.8.1'"
      ]
     },
     "execution_count": 3,
     "metadata": {},
     "output_type": "execute_result"
    }
   ],
   "source": [
    "gensim.__version__"
   ]
  },
  {
   "cell_type": "code",
   "execution_count": 4,
   "metadata": {},
   "outputs": [],
   "source": [
    "path = './data/austen-brontë-split'"
   ]
  },
  {
   "cell_type": "code",
   "execution_count": 5,
   "metadata": {},
   "outputs": [],
   "source": [
    "STOPWORDS = set(STOPWORDS).union(set(['said', 'mr', 'mrs']))\n",
    "\n",
    "def tokenize(text):\n",
    "    return [token for token in simple_preprocess(text) if token not in STOPWORDS]"
   ]
  },
  {
   "cell_type": "code",
   "execution_count": 6,
   "metadata": {},
   "outputs": [],
   "source": [
    "import os\n",
    "\n",
    "def gather_data(path_to_data):\n",
    "    data = []\n",
    "    for f in os.listdir(path):\n",
    "        if os.path.isdir(f) == False:\n",
    "            if f[-3:] == 'txt':\n",
    "                with open(os.path.join(path,f)) as t:\n",
    "                    text = t.read().strip('\\n')\n",
    "                    data.append(tokenize(str(text)))\n",
    "    return data"
   ]
  },
  {
   "cell_type": "code",
   "execution_count": 7,
   "metadata": {},
   "outputs": [],
   "source": [
    "tokens = gather_data(path)"
   ]
  },
  {
   "cell_type": "code",
   "execution_count": 8,
   "metadata": {},
   "outputs": [
    {
     "data": {
      "text/plain": [
       "['giving',\n",
       " 'fair',\n",
       " 'companion',\n",
       " 'account',\n",
       " 'yesterday',\n",
       " 'party',\n",
       " 'friend',\n",
       " 'cole',\n",
       " 'come',\n",
       " 'stilton']"
      ]
     },
     "execution_count": 8,
     "metadata": {},
     "output_type": "execute_result"
    }
   ],
   "source": [
    "tokens[0][0:10]"
   ]
  },
  {
   "cell_type": "code",
   "execution_count": 9,
   "metadata": {},
   "outputs": [
    {
     "data": {
      "text/plain": [
       "'this is a sample string with a  newline character'"
      ]
     },
     "execution_count": 9,
     "metadata": {},
     "output_type": "execute_result"
    }
   ],
   "source": [
    "\"this is a sample string with a \\n newline character\".replace('\\n', '')"
   ]
  },
  {
   "cell_type": "code",
   "execution_count": 10,
   "metadata": {},
   "outputs": [],
   "source": [
    "titles = [t[:-4] for t in os.listdir(path) if os.path.isdir(t) == False]"
   ]
  },
  {
   "cell_type": "code",
   "execution_count": 11,
   "metadata": {},
   "outputs": [
    {
     "data": {
      "text/plain": [
       "813"
      ]
     },
     "execution_count": 11,
     "metadata": {},
     "output_type": "execute_result"
    }
   ],
   "source": [
    "len(titles)"
   ]
  },
  {
   "cell_type": "code",
   "execution_count": 12,
   "metadata": {},
   "outputs": [
    {
     "data": {
      "text/plain": [
       "813"
      ]
     },
     "execution_count": 12,
     "metadata": {},
     "output_type": "execute_result"
    }
   ],
   "source": [
    "len(tokens)"
   ]
  },
  {
   "cell_type": "code",
   "execution_count": 13,
   "metadata": {},
   "outputs": [],
   "source": [
    "df = pd.DataFrame(index=titles, data={'tokens':tokens})"
   ]
  },
  {
   "cell_type": "code",
   "execution_count": 14,
   "metadata": {},
   "outputs": [
    {
     "data": {
      "text/html": [
       "<div>\n",
       "<style scoped>\n",
       "    .dataframe tbody tr th:only-of-type {\n",
       "        vertical-align: middle;\n",
       "    }\n",
       "\n",
       "    .dataframe tbody tr th {\n",
       "        vertical-align: top;\n",
       "    }\n",
       "\n",
       "    .dataframe thead th {\n",
       "        text-align: right;\n",
       "    }\n",
       "</style>\n",
       "<table border=\"1\" class=\"dataframe\">\n",
       "  <thead>\n",
       "    <tr style=\"text-align: right;\">\n",
       "      <th></th>\n",
       "      <th>tokens</th>\n",
       "    </tr>\n",
       "  </thead>\n",
       "  <tbody>\n",
       "    <tr>\n",
       "      <th>Austen_Emma0026</th>\n",
       "      <td>[giving, fair, companion, account, yesterday, ...</td>\n",
       "    </tr>\n",
       "    <tr>\n",
       "      <th>Austen_Emma0032</th>\n",
       "      <td>[feels, like, snow, place, party, try, day, di...</td>\n",
       "    </tr>\n",
       "    <tr>\n",
       "      <th>CBronte_Villette0086</th>\n",
       "      <td>[pierced, opaque, blackness, stood, bougie, qu...</td>\n",
       "    </tr>\n",
       "    <tr>\n",
       "      <th>CBronte_Jane0099</th>\n",
       "      <td>[joke, queer, looks, tell, thing, specially, s...</td>\n",
       "    </tr>\n",
       "    <tr>\n",
       "      <th>CBronte_Villette0092</th>\n",
       "      <td>[second, landing, floor, comprising, abode, kn...</td>\n",
       "    </tr>\n",
       "  </tbody>\n",
       "</table>\n",
       "</div>"
      ],
      "text/plain": [
       "                                                                 tokens\n",
       "Austen_Emma0026       [giving, fair, companion, account, yesterday, ...\n",
       "Austen_Emma0032       [feels, like, snow, place, party, try, day, di...\n",
       "CBronte_Villette0086  [pierced, opaque, blackness, stood, bougie, qu...\n",
       "CBronte_Jane0099      [joke, queer, looks, tell, thing, specially, s...\n",
       "CBronte_Villette0092  [second, landing, floor, comprising, abode, kn..."
      ]
     },
     "execution_count": 14,
     "metadata": {},
     "output_type": "execute_result"
    }
   ],
   "source": [
    "df.head()"
   ]
  },
  {
   "cell_type": "code",
   "execution_count": 15,
   "metadata": {},
   "outputs": [],
   "source": [
    "df['author'] = df.reset_index()['index'].apply(lambda x: x.split('_')[0]).tolist()\n",
    "df['book'] = df.reset_index()['index'].apply(lambda x: x.split('_')[1][:-4]).tolist()\n",
    "df['section'] = df.reset_index()['index'].apply(lambda x: x[-4:]).tolist()\n",
    "df['section'] = df['section'].astype('int')"
   ]
  },
  {
   "cell_type": "code",
   "execution_count": 16,
   "metadata": {},
   "outputs": [],
   "source": [
    "df['author'] = df['author'].map({'Austen':1, 'CBronte':0})"
   ]
  },
  {
   "cell_type": "code",
   "execution_count": 17,
   "metadata": {},
   "outputs": [
    {
     "data": {
      "text/plain": [
       "0    441\n",
       "1    372\n",
       "Name: author, dtype: int64"
      ]
     },
     "execution_count": 17,
     "metadata": {},
     "output_type": "execute_result"
    }
   ],
   "source": [
    "df.author.value_counts()"
   ]
  },
  {
   "cell_type": "code",
   "execution_count": 18,
   "metadata": {},
   "outputs": [
    {
     "data": {
      "text/html": [
       "<div>\n",
       "<style scoped>\n",
       "    .dataframe tbody tr th:only-of-type {\n",
       "        vertical-align: middle;\n",
       "    }\n",
       "\n",
       "    .dataframe tbody tr th {\n",
       "        vertical-align: top;\n",
       "    }\n",
       "\n",
       "    .dataframe thead th {\n",
       "        text-align: right;\n",
       "    }\n",
       "</style>\n",
       "<table border=\"1\" class=\"dataframe\">\n",
       "  <thead>\n",
       "    <tr style=\"text-align: right;\">\n",
       "      <th></th>\n",
       "      <th>tokens</th>\n",
       "      <th>author</th>\n",
       "      <th>book</th>\n",
       "      <th>section</th>\n",
       "    </tr>\n",
       "  </thead>\n",
       "  <tbody>\n",
       "    <tr>\n",
       "      <th>Austen_Emma0026</th>\n",
       "      <td>[giving, fair, companion, account, yesterday, ...</td>\n",
       "      <td>1</td>\n",
       "      <td>Emma</td>\n",
       "      <td>26</td>\n",
       "    </tr>\n",
       "    <tr>\n",
       "      <th>Austen_Emma0032</th>\n",
       "      <td>[feels, like, snow, place, party, try, day, di...</td>\n",
       "      <td>1</td>\n",
       "      <td>Emma</td>\n",
       "      <td>32</td>\n",
       "    </tr>\n",
       "    <tr>\n",
       "      <th>CBronte_Villette0086</th>\n",
       "      <td>[pierced, opaque, blackness, stood, bougie, qu...</td>\n",
       "      <td>0</td>\n",
       "      <td>Villette</td>\n",
       "      <td>86</td>\n",
       "    </tr>\n",
       "    <tr>\n",
       "      <th>CBronte_Jane0099</th>\n",
       "      <td>[joke, queer, looks, tell, thing, specially, s...</td>\n",
       "      <td>0</td>\n",
       "      <td>Jane</td>\n",
       "      <td>99</td>\n",
       "    </tr>\n",
       "    <tr>\n",
       "      <th>CBronte_Villette0092</th>\n",
       "      <td>[second, landing, floor, comprising, abode, kn...</td>\n",
       "      <td>0</td>\n",
       "      <td>Villette</td>\n",
       "      <td>92</td>\n",
       "    </tr>\n",
       "  </tbody>\n",
       "</table>\n",
       "</div>"
      ],
      "text/plain": [
       "                                                                 tokens  \\\n",
       "Austen_Emma0026       [giving, fair, companion, account, yesterday, ...   \n",
       "Austen_Emma0032       [feels, like, snow, place, party, try, day, di...   \n",
       "CBronte_Villette0086  [pierced, opaque, blackness, stood, bougie, qu...   \n",
       "CBronte_Jane0099      [joke, queer, looks, tell, thing, specially, s...   \n",
       "CBronte_Villette0092  [second, landing, floor, comprising, abode, kn...   \n",
       "\n",
       "                      author      book  section  \n",
       "Austen_Emma0026            1      Emma       26  \n",
       "Austen_Emma0032            1      Emma       32  \n",
       "CBronte_Villette0086       0  Villette       86  \n",
       "CBronte_Jane0099           0      Jane       99  \n",
       "CBronte_Villette0092       0  Villette       92  "
      ]
     },
     "execution_count": 18,
     "metadata": {},
     "output_type": "execute_result"
    }
   ],
   "source": [
    "df.head()"
   ]
  },
  {
   "cell_type": "code",
   "execution_count": 26,
   "metadata": {},
   "outputs": [],
   "source": [
    "def doc_stream(path):\n",
    "    for f in os.listdir(path):\n",
    "        if os.path.isdir(f) == False:\n",
    "            if f[-3:] == 'txt':\n",
    "                with open(os.path.join(path,f)) as t:\n",
    "                    text = t.read().strip('\\n')\n",
    "                    tokens = tokenize(text)\n",
    "                yield tokens"
   ]
  },
  {
   "cell_type": "code",
   "execution_count": 27,
   "metadata": {},
   "outputs": [],
   "source": [
    "streaming_data = doc_stream(path)"
   ]
  },
  {
   "cell_type": "code",
   "execution_count": 28,
   "metadata": {},
   "outputs": [
    {
     "data": {
      "text/plain": [
       "generator"
      ]
     },
     "execution_count": 28,
     "metadata": {},
     "output_type": "execute_result"
    }
   ],
   "source": [
    "type(streaming_data)"
   ]
  },
  {
   "cell_type": "code",
   "execution_count": 29,
   "metadata": {},
   "outputs": [],
   "source": [
    "# gather_data => returns a list\n",
    "# doc_stream => returns a generator"
   ]
  },
  {
   "cell_type": "code",
   "execution_count": 30,
   "metadata": {},
   "outputs": [
    {
     "data": {
      "text/plain": [
       "['giving',\n",
       " 'fair',\n",
       " 'companion',\n",
       " 'account',\n",
       " 'yesterday',\n",
       " 'party',\n",
       " 'friend',\n",
       " 'cole',\n",
       " 'come',\n",
       " 'stilton',\n",
       " 'cheese',\n",
       " 'north',\n",
       " 'wiltshire',\n",
       " 'butter',\n",
       " 'cellery',\n",
       " 'beet',\n",
       " 'root',\n",
       " 'dessert',\n",
       " 'soon',\n",
       " 'led',\n",
       " 'better',\n",
       " 'course',\n",
       " 'consoling',\n",
       " 'reflection',\n",
       " 'thing',\n",
       " 'interests',\n",
       " 'love',\n",
       " 'thing',\n",
       " 'serve',\n",
       " 'introduction',\n",
       " 'near',\n",
       " 'heart',\n",
       " 'kept',\n",
       " 'longer',\n",
       " 'away',\n",
       " 'walked',\n",
       " 'quietly',\n",
       " 'till',\n",
       " 'view',\n",
       " 'vicarage',\n",
       " 'pales',\n",
       " 'sudden',\n",
       " 'resolution',\n",
       " 'getting',\n",
       " 'harriet',\n",
       " 'house',\n",
       " 'amiss',\n",
       " 'boot',\n",
       " 'fall',\n",
       " 'arrange',\n",
       " 'broke',\n",
       " 'lace',\n",
       " 'short',\n",
       " 'dexterously',\n",
       " 'throwing',\n",
       " 'ditch',\n",
       " 'presently',\n",
       " 'obliged',\n",
       " 'entreat',\n",
       " 'stop',\n",
       " 'acknowledged',\n",
       " 'inability',\n",
       " 'rights',\n",
       " 'able',\n",
       " 'walk',\n",
       " 'home',\n",
       " 'tolerable',\n",
       " 'comfort',\n",
       " 'lace',\n",
       " 'gone',\n",
       " 'know',\n",
       " 'contrive',\n",
       " 'troublesome',\n",
       " 'companion',\n",
       " 'hope',\n",
       " 'ill',\n",
       " 'equipped',\n",
       " 'elton',\n",
       " 'beg',\n",
       " 'leave',\n",
       " 'stop',\n",
       " 'house',\n",
       " 'ask',\n",
       " 'housekeeper',\n",
       " 'bit',\n",
       " 'ribband',\n",
       " 'string',\n",
       " 'thing',\n",
       " 'boot',\n",
       " 'elton',\n",
       " 'looked',\n",
       " 'happiness',\n",
       " 'proposition',\n",
       " 'exceed',\n",
       " 'alertness',\n",
       " 'attention',\n",
       " 'conducting',\n",
       " 'house',\n",
       " 'endeavouring',\n",
       " 'thing',\n",
       " 'appear',\n",
       " 'advantage',\n",
       " 'room',\n",
       " 'taken',\n",
       " 'chiefly',\n",
       " 'occupied',\n",
       " 'looking',\n",
       " 'forwards',\n",
       " 'immediately',\n",
       " 'communicated',\n",
       " 'door',\n",
       " 'open',\n",
       " 'emma',\n",
       " 'passed',\n",
       " 'housekeeper',\n",
       " 'receive',\n",
       " 'assistance',\n",
       " 'comfortable',\n",
       " 'manner',\n",
       " 'obliged',\n",
       " 'leave',\n",
       " 'door',\n",
       " 'ajar',\n",
       " 'fully',\n",
       " 'intended',\n",
       " 'elton',\n",
       " 'close',\n",
       " 'closed',\n",
       " 'remained',\n",
       " 'ajar',\n",
       " 'engaging',\n",
       " 'housekeeper',\n",
       " 'incessant',\n",
       " 'conversation',\n",
       " 'hoped',\n",
       " 'practicable',\n",
       " 'chuse',\n",
       " 'subject',\n",
       " 'adjoining',\n",
       " 'room',\n",
       " 'minutes',\n",
       " 'hear',\n",
       " 'protracted',\n",
       " 'longer',\n",
       " 'obliged',\n",
       " 'finished',\n",
       " 'appearance',\n",
       " 'lovers',\n",
       " 'standing',\n",
       " 'windows',\n",
       " 'favourable',\n",
       " 'aspect',\n",
       " 'half',\n",
       " 'minute',\n",
       " 'emma',\n",
       " 'felt',\n",
       " 'glory',\n",
       " 'having',\n",
       " 'schemed',\n",
       " 'successfully',\n",
       " 'come',\n",
       " 'point',\n",
       " 'agreeable',\n",
       " 'delightful',\n",
       " 'told',\n",
       " 'harriet',\n",
       " 'seen',\n",
       " 'purposely',\n",
       " 'followed',\n",
       " 'little',\n",
       " 'gallantries',\n",
       " 'allusions',\n",
       " 'dropt',\n",
       " 'cautious',\n",
       " 'cautious',\n",
       " 'thought',\n",
       " 'emma',\n",
       " 'advances',\n",
       " 'inch',\n",
       " 'inch',\n",
       " 'hazard',\n",
       " 'till',\n",
       " 'believes',\n",
       " 'secure',\n",
       " 'thing',\n",
       " 'accomplished',\n",
       " 'ingenious',\n",
       " 'device',\n",
       " 'flatter',\n",
       " 'occasion',\n",
       " 'present',\n",
       " 'enjoyment',\n",
       " 'leading',\n",
       " 'forward',\n",
       " 'great',\n",
       " 'event',\n",
       " 'chapter',\n",
       " 'xi',\n",
       " 'elton',\n",
       " 'left',\n",
       " 'longer',\n",
       " 'emma',\n",
       " 'power',\n",
       " 'superintend',\n",
       " 'happiness',\n",
       " 'quicken',\n",
       " 'measures',\n",
       " 'coming',\n",
       " 'sister',\n",
       " 'family',\n",
       " 'near',\n",
       " 'hand',\n",
       " 'anticipation',\n",
       " 'reality',\n",
       " 'henceforth',\n",
       " 'prime',\n",
       " 'object',\n",
       " 'days',\n",
       " 'stay',\n",
       " 'hartfield',\n",
       " 'expected',\n",
       " 'expect',\n",
       " 'thing',\n",
       " 'occasional',\n",
       " 'fortuitous',\n",
       " 'assistance',\n",
       " 'afforded',\n",
       " 'lovers',\n",
       " 'advance',\n",
       " 'rapidly',\n",
       " 'advance',\n",
       " 'hardly',\n",
       " 'wished',\n",
       " 'leisure',\n",
       " 'people',\n",
       " 'john',\n",
       " 'knightley',\n",
       " 'having',\n",
       " 'longer',\n",
       " 'usual',\n",
       " 'absent',\n",
       " 'surry',\n",
       " 'exciting',\n",
       " 'course',\n",
       " 'usual',\n",
       " 'till',\n",
       " 'year',\n",
       " 'long',\n",
       " 'vacation',\n",
       " 'marriage',\n",
       " 'divided',\n",
       " 'hartfield',\n",
       " 'donwell',\n",
       " 'abbey',\n",
       " 'holidays',\n",
       " 'autumn',\n",
       " 'given',\n",
       " 'sea',\n",
       " 'bathing',\n",
       " 'children',\n",
       " 'months',\n",
       " 'seen',\n",
       " 'regular',\n",
       " 'way',\n",
       " 'surry',\n",
       " 'connexions',\n",
       " 'seen',\n",
       " 'woodhouse',\n",
       " 'induced',\n",
       " 'far',\n",
       " 'london',\n",
       " 'poor',\n",
       " 'isabella',\n",
       " 'sake',\n",
       " 'consequently',\n",
       " 'nervously',\n",
       " 'apprehensively',\n",
       " 'happy',\n",
       " 'forestalling',\n",
       " 'short',\n",
       " 'visit',\n",
       " 'thought',\n",
       " 'evils',\n",
       " 'journey',\n",
       " 'little',\n",
       " 'fatigues',\n",
       " 'horses',\n",
       " 'coachman',\n",
       " 'bring',\n",
       " 'party',\n",
       " 'half',\n",
       " 'way',\n",
       " 'alarms',\n",
       " 'needless',\n",
       " 'sixteen',\n",
       " 'miles',\n",
       " 'happily',\n",
       " 'accomplished',\n",
       " 'john',\n",
       " 'knightley',\n",
       " 'children',\n",
       " 'competent',\n",
       " 'number',\n",
       " 'nursery',\n",
       " 'maids',\n",
       " 'reaching',\n",
       " 'hartfield',\n",
       " 'safety',\n",
       " 'bustle',\n",
       " 'joy',\n",
       " 'arrival',\n",
       " 'talked',\n",
       " 'welcomed',\n",
       " 'encouraged',\n",
       " 'variously',\n",
       " 'dispersed',\n",
       " 'disposed',\n",
       " 'produced',\n",
       " 'noise',\n",
       " 'confusion',\n",
       " 'nerves',\n",
       " 'borne',\n",
       " 'cause',\n",
       " 'endured',\n",
       " 'longer',\n",
       " 'ways',\n",
       " 'hartfield',\n",
       " 'feelings',\n",
       " 'father',\n",
       " 'respected',\n",
       " 'john',\n",
       " 'knightley',\n",
       " 'spite',\n",
       " 'maternal',\n",
       " 'solicitude',\n",
       " 'immediate',\n",
       " 'enjoyment',\n",
       " 'little',\n",
       " 'ones',\n",
       " 'having',\n",
       " 'instantly',\n",
       " 'liberty',\n",
       " 'attendance',\n",
       " 'eating',\n",
       " 'drinking',\n",
       " 'sleeping',\n",
       " 'playing',\n",
       " 'possibly',\n",
       " 'wish',\n",
       " 'smallest',\n",
       " 'delay',\n",
       " 'children',\n",
       " 'allowed',\n",
       " 'long',\n",
       " 'disturbance',\n",
       " 'restless',\n",
       " 'attendance',\n",
       " 'john',\n",
       " 'knightley',\n",
       " 'pretty',\n",
       " 'elegant',\n",
       " 'little',\n",
       " 'woman',\n",
       " 'gentle',\n",
       " 'quiet',\n",
       " 'manners',\n",
       " 'disposition',\n",
       " 'remarkably',\n",
       " 'amiable',\n",
       " 'affectionate',\n",
       " 'wrapt',\n",
       " 'family',\n",
       " 'devoted',\n",
       " 'wife',\n",
       " 'doating',\n",
       " 'mother',\n",
       " 'tenderly',\n",
       " 'attached',\n",
       " 'father',\n",
       " 'sister',\n",
       " 'higher',\n",
       " 'ties',\n",
       " 'warmer',\n",
       " 'love',\n",
       " 'impossible',\n",
       " 'fault',\n",
       " 'woman',\n",
       " 'strong',\n",
       " 'understanding',\n",
       " 'quickness',\n",
       " 'resemblance',\n",
       " 'father',\n",
       " 'inherited',\n",
       " 'constitution',\n",
       " 'delicate',\n",
       " 'health',\n",
       " 'careful',\n",
       " 'children',\n",
       " 'fears',\n",
       " 'nerves',\n",
       " 'fond',\n",
       " 'wingfield',\n",
       " 'town']"
      ]
     },
     "execution_count": 30,
     "metadata": {},
     "output_type": "execute_result"
    }
   ],
   "source": [
    "next(streaming_data) # Returns one document at a time from the generator"
   ]
  },
  {
   "cell_type": "code",
   "execution_count": 32,
   "metadata": {},
   "outputs": [],
   "source": [
    "# Dictionary Representation of all the words in our corpus\n",
    "id2word = corpora.Dictionary(doc_stream(path))"
   ]
  },
  {
   "cell_type": "code",
   "execution_count": 33,
   "metadata": {},
   "outputs": [
    {
     "data": {
      "text/plain": [
       "869"
      ]
     },
     "execution_count": 33,
     "metadata": {},
     "output_type": "execute_result"
    }
   ],
   "source": [
    "id2word.token2id['england']"
   ]
  },
  {
   "cell_type": "code",
   "execution_count": 34,
   "metadata": {},
   "outputs": [
    {
     "data": {
      "text/plain": [
       "[(869, 3), (1254, 1), (2485, 1), (16850, 1)]"
      ]
     },
     "execution_count": 34,
     "metadata": {},
     "output_type": "execute_result"
    }
   ],
   "source": [
    "id2word.doc2bow(tokenize(\"This is a sample message Darcy England England England\"))"
   ]
  },
  {
   "cell_type": "code",
   "execution_count": 35,
   "metadata": {},
   "outputs": [
    {
     "name": "stdout",
     "output_type": "stream",
     "text": [
      "56\n",
      "7056\n"
     ]
    }
   ],
   "source": [
    "import sys\n",
    "print(sys.getsizeof(id2word))\n",
    "print(sys.getsizeof(tokens))"
   ]
  },
  {
   "cell_type": "code",
   "execution_count": 36,
   "metadata": {},
   "outputs": [
    {
     "data": {
      "text/plain": [
       "22095"
      ]
     },
     "execution_count": 36,
     "metadata": {},
     "output_type": "execute_result"
    }
   ],
   "source": [
    "len(id2word.keys())"
   ]
  },
  {
   "cell_type": "code",
   "execution_count": 37,
   "metadata": {},
   "outputs": [],
   "source": [
    "# Remove extreme values from the dataset\n",
    "id2word.filter_extremes(no_below=5, no_above=0.95)"
   ]
  },
  {
   "cell_type": "code",
   "execution_count": 38,
   "metadata": {},
   "outputs": [
    {
     "data": {
      "text/plain": [
       "8102"
      ]
     },
     "execution_count": 38,
     "metadata": {},
     "output_type": "execute_result"
    }
   ],
   "source": [
    "len(id2word.keys())"
   ]
  },
  {
   "cell_type": "code",
   "execution_count": 39,
   "metadata": {},
   "outputs": [],
   "source": [
    "# a bag of words(bow) representation of our corpus\n",
    "# Note: we haven't actually read any text into memory here\n",
    "# Although abstracted away - tokenization IS happening in the doc_stream f(x)\n",
    "corpus = [id2word.doc2bow(text) for text in doc_stream(path)]"
   ]
  },
  {
   "cell_type": "code",
   "execution_count": 40,
   "metadata": {},
   "outputs": [
    {
     "data": {
      "text/plain": [
       "[(4, 1),\n",
       " (17, 1),\n",
       " (28, 1),\n",
       " (30, 1),\n",
       " (31, 2),\n",
       " (40, 1),\n",
       " (46, 1),\n",
       " (51, 1),\n",
       " (55, 1),\n",
       " (71, 1)]"
      ]
     },
     "execution_count": 40,
     "metadata": {},
     "output_type": "execute_result"
    }
   ],
   "source": [
    "corpus[345][:10]"
   ]
  },
  {
   "cell_type": "code",
   "execution_count": 41,
   "metadata": {},
   "outputs": [],
   "source": [
    "lda = LdaMulticore(corpus=corpus,\n",
    "                  id2word=id2word,\n",
    "                  random_state=723812,\n",
    "                  num_topics = 15,\n",
    "                  passes=10,\n",
    "                  workers=12)"
   ]
  },
  {
   "cell_type": "code",
   "execution_count": 42,
   "metadata": {},
   "outputs": [
    {
     "data": {
      "text/plain": [
       "[(0,\n",
       "  '0.009*\"pounds\" + 0.007*\"mother\" + 0.006*\"sure\" + 0.006*\"think\" + 0.006*\"year\" + 0.004*\"rochester\" + 0.004*\"certainly\" + 0.004*\"thornfield\" + 0.004*\"fairfax\" + 0.004*\"live\"'),\n",
       " (1,\n",
       "  '0.008*\"pelet\" + 0.005*\"thought\" + 0.005*\"like\" + 0.004*\"little\" + 0.004*\"man\" + 0.004*\"hunsden\" + 0.004*\"time\" + 0.003*\"having\" + 0.003*\"pupils\" + 0.003*\"crimsworth\"'),\n",
       " (2,\n",
       "  '0.008*\"madame\" + 0.006*\"little\" + 0.006*\"like\" + 0.004*\"day\" + 0.004*\"vous\" + 0.004*\"thought\" + 0.003*\"know\" + 0.003*\"beck\" + 0.003*\"good\" + 0.003*\"paul\"'),\n",
       " (3,\n",
       "  '0.005*\"night\" + 0.005*\"look\" + 0.005*\"like\" + 0.004*\"old\" + 0.004*\"est\" + 0.004*\"looked\" + 0.003*\"sir\" + 0.003*\"thought\" + 0.003*\"house\" + 0.003*\"hunsden\"'),\n",
       " (4,\n",
       "  '0.007*\"little\" + 0.005*\"madame\" + 0.005*\"like\" + 0.004*\"thought\" + 0.004*\"know\" + 0.004*\"hand\" + 0.004*\"good\" + 0.004*\"night\" + 0.003*\"day\" + 0.003*\"dr\"'),\n",
       " (5,\n",
       "  '0.017*\"elizabeth\" + 0.013*\"darcy\" + 0.010*\"miss\" + 0.010*\"bingley\" + 0.010*\"bennet\" + 0.009*\"jane\" + 0.007*\"know\" + 0.007*\"think\" + 0.006*\"wickham\" + 0.005*\"sister\"'),\n",
       " (6,\n",
       "  '0.006*\"know\" + 0.006*\"jane\" + 0.006*\"life\" + 0.005*\"like\" + 0.005*\"long\" + 0.005*\"love\" + 0.005*\"thought\" + 0.005*\"heart\" + 0.005*\"shall\" + 0.005*\"good\"'),\n",
       " (7,\n",
       "  '0.011*\"frances\" + 0.009*\"monsieur\" + 0.007*\"hunsden\" + 0.007*\"little\" + 0.006*\"english\" + 0.005*\"mdlle\" + 0.004*\"long\" + 0.004*\"time\" + 0.004*\"mademoiselle\" + 0.004*\"shall\"'),\n",
       " (8,\n",
       "  '0.008*\"good\" + 0.006*\"little\" + 0.006*\"like\" + 0.006*\"emma\" + 0.005*\"elton\" + 0.005*\"thought\" + 0.005*\"miss\" + 0.004*\"think\" + 0.004*\"great\" + 0.004*\"woman\"'),\n",
       " (9,\n",
       "  '0.012*\"sir\" + 0.006*\"long\" + 0.006*\"jane\" + 0.006*\"rochester\" + 0.005*\"little\" + 0.005*\"yes\" + 0.005*\"adele\" + 0.004*\"come\" + 0.004*\"life\" + 0.004*\"pounds\"'),\n",
       " (10,\n",
       "  '0.007*\"like\" + 0.005*\"little\" + 0.005*\"rochester\" + 0.005*\"miss\" + 0.004*\"room\" + 0.004*\"time\" + 0.004*\"thought\" + 0.003*\"sir\" + 0.003*\"day\" + 0.003*\"come\"'),\n",
       " (11,\n",
       "  '0.015*\"emma\" + 0.012*\"miss\" + 0.009*\"harriet\" + 0.008*\"thing\" + 0.008*\"weston\" + 0.008*\"think\" + 0.007*\"know\" + 0.007*\"knightley\" + 0.006*\"elton\" + 0.006*\"good\"'),\n",
       " (12,\n",
       "  '0.010*\"jane\" + 0.009*\"emma\" + 0.009*\"little\" + 0.008*\"thing\" + 0.008*\"miss\" + 0.008*\"dear\" + 0.007*\"fairfax\" + 0.006*\"shall\" + 0.006*\"know\" + 0.006*\"like\"'),\n",
       " (13,\n",
       "  '0.011*\"elinor\" + 0.010*\"marianne\" + 0.007*\"sister\" + 0.006*\"mother\" + 0.005*\"time\" + 0.004*\"soon\" + 0.004*\"jennings\" + 0.004*\"willoughby\" + 0.004*\"good\" + 0.004*\"dashwood\"'),\n",
       " (14,\n",
       "  '0.006*\"monsieur\" + 0.004*\"henri\" + 0.004*\"georgiana\" + 0.004*\"mdlle\" + 0.004*\"little\" + 0.003*\"know\" + 0.003*\"good\" + 0.003*\"asked\" + 0.003*\"time\" + 0.003*\"course\"')]"
      ]
     },
     "execution_count": 42,
     "metadata": {},
     "output_type": "execute_result"
    }
   ],
   "source": [
    "lda.print_topics()"
   ]
  },
  {
   "cell_type": "code",
   "execution_count": 43,
   "metadata": {},
   "outputs": [],
   "source": [
    "words = [re.findall(r'\"([^\"]*)\"',t[1]) for t in lda.print_topics()]"
   ]
  },
  {
   "cell_type": "code",
   "execution_count": 44,
   "metadata": {},
   "outputs": [],
   "source": [
    "topics = [' '.join(t[0:5]) for t in words]"
   ]
  },
  {
   "cell_type": "code",
   "execution_count": 46,
   "metadata": {},
   "outputs": [
    {
     "name": "stdout",
     "output_type": "stream",
     "text": [
      "----- Topic 0 -----\n",
      "pounds mother sure think year\n",
      "\n",
      "----- Topic 1 -----\n",
      "pelet thought like little man\n",
      "\n",
      "----- Topic 2 -----\n",
      "madame little like day vous\n",
      "\n",
      "----- Topic 3 -----\n",
      "night look like old est\n",
      "\n",
      "----- Topic 4 -----\n",
      "little madame like thought know\n",
      "\n",
      "----- Topic 5 -----\n",
      "elizabeth darcy miss bingley bennet\n",
      "\n",
      "----- Topic 6 -----\n",
      "know jane life like long\n",
      "\n",
      "----- Topic 7 -----\n",
      "frances monsieur hunsden little english\n",
      "\n",
      "----- Topic 8 -----\n",
      "good little like emma elton\n",
      "\n",
      "----- Topic 9 -----\n",
      "sir long jane rochester little\n",
      "\n",
      "----- Topic 10 -----\n",
      "like little rochester miss room\n",
      "\n",
      "----- Topic 11 -----\n",
      "emma miss harriet thing weston\n",
      "\n",
      "----- Topic 12 -----\n",
      "jane emma little thing miss\n",
      "\n",
      "----- Topic 13 -----\n",
      "elinor marianne sister mother time\n",
      "\n",
      "----- Topic 14 -----\n",
      "monsieur henri georgiana mdlle little\n",
      "\n"
     ]
    }
   ],
   "source": [
    "for id, t in enumerate(topics):\n",
    "    print(f\"----- Topic {id} -----\")\n",
    "    print(t, end=\"\\n\\n\")"
   ]
  },
  {
   "cell_type": "code",
   "execution_count": 48,
   "metadata": {},
   "outputs": [],
   "source": [
    "import pyLDAvis.gensim\n",
    "\n",
    "pyLDAvis.enable_notebook()"
   ]
  },
  {
   "cell_type": "code",
   "execution_count": 49,
   "metadata": {},
   "outputs": [
    {
     "data": {
      "text/html": [
       "\n",
       "<link rel=\"stylesheet\" type=\"text/css\" href=\"https://cdn.rawgit.com/bmabey/pyLDAvis/files/ldavis.v1.0.0.css\">\n",
       "\n",
       "\n",
       "<div id=\"ldavis_el79149195685681980023857\"></div>\n",
       "<script type=\"text/javascript\">\n",
       "\n",
       "var ldavis_el79149195685681980023857_data = {\"mdsDat\": {\"x\": [-0.04559434101829295, -0.07766584647808855, 0.14128816812220413, 0.10404219933368944, 0.15221009622869527, -0.013860511923195084, -0.07765729277123115, -0.03380962387657687, -0.07173063503704025, 0.09536552742783198, 0.05250741728862916, 0.0064619002882642385, -0.09942811868275224, -0.04603602407655839, -0.08609291482557925], \"y\": [-0.020554818137063523, -0.055242075631416115, -0.008635106167327041, -0.01442413552232888, -0.012565242690342204, -0.05111726209464449, -0.07266949563333015, -0.047089001605900536, -0.05392855597118336, 0.03160386097158199, 0.0038838996321335986, 0.050561347572979434, 0.027439745159202538, 0.14862013450159325, 0.07411670561604637], \"topics\": [1, 2, 3, 4, 5, 6, 7, 8, 9, 10, 11, 12, 13, 14, 15], \"cluster\": [1, 1, 1, 1, 1, 1, 1, 1, 1, 1, 1, 1, 1, 1, 1], \"Freq\": [21.412216186523438, 17.608200073242188, 16.26546859741211, 16.000703811645508, 10.042030334472656, 6.8043060302734375, 3.6254162788391113, 2.328354835510254, 1.5561071634292603, 1.2825814485549927, 1.2244526147842407, 0.8663250207901001, 0.45878350734710693, 0.2625908851623535, 0.26247408986091614]}, \"tinfo\": {\"Term\": [\"emma\", \"little\", \"jane\", \"miss\", \"like\", \"think\", \"elizabeth\", \"sir\", \"good\", \"thing\", \"know\", \"rochester\", \"mother\", \"thought\", \"shall\", \"harriet\", \"fairfax\", \"darcy\", \"sure\", \"elton\", \"time\", \"elinor\", \"marianne\", \"long\", \"weston\", \"day\", \"dear\", \"night\", \"monsieur\", \"house\", \"eshton\", \"dent\", \"burns\", \"lynn\", \"ingram\", \"scatcherd\", \"missis\", \"brocklehurst\", \"storey\", \"stile\", \"celine\", \"varens\", \"miller\", \"bessie\", \"cheese\", \"amy\", \"reed\", \"eyre\", \"moors\", \"lowood\", \"bark\", \"temple\", \"poole\", \"gateshead\", \"dimly\", \"frock\", \"er\", \"carlo\", \"enveloped\", \"devoured\", \"rochester\", \"seacombe\", \"thornfield\", \"hannah\", \"adele\", \"pilot\", \"hall\", \"mason\", \"ve\", \"helen\", \"leah\", \"ll\", \"bread\", \"burnt\", \"black\", \"candle\", \"like\", \"face\", \"hair\", \"sir\", \"dark\", \"room\", \"door\", \"asked\", \"st\", \"stood\", \"master\", \"looked\", \"mary\", \"eyes\", \"near\", \"little\", \"heard\", \"night\", \"come\", \"miss\", \"house\", \"yes\", \"thought\", \"day\", \"shall\", \"time\", \"long\", \"hand\", \"saw\", \"good\", \"came\", \"think\", \"jane\", \"know\", \"head\", \"john\", \"went\", \"estrade\", \"grenier\", \"violets\", \"pile\", \"lid\", \"hole\", \"spectral\", \"sleeve\", \"demonstrative\", \"defendue\", \"remnant\", \"wheel\", \"nest\", \"boarders\", \"belles\", \"fifine\", \"hail\", \"platform\", \"bourne\", \"problem\", \"sternly\", \"trod\", \"naked\", \"allee\", \"fiacre\", \"actress\", \"jar\", \"sleeper\", \"appealing\", \"externes\", \"classe\", \"rosine\", \"fossette\", \"dr\", \"crecy\", \"madame\", \"paul\", \"beck\", \"emanuel\", \"rue\", \"paulina\", \"pensionnat\", \"monsieur\", \"pupils\", \"wont\", \"desk\", \"fanshawe\", \"nun\", \"graham\", \"doctor\", \"villette\", \"reuter\", \"corridor\", \"bassompierre\", \"lesson\", \"bretton\", \"est\", \"english\", \"ginevra\", \"teacher\", \"vous\", \"eye\", \"hand\", \"night\", \"little\", \"lucy\", \"garden\", \"eyes\", \"white\", \"thought\", \"knew\", \"like\", \"door\", \"light\", \"know\", \"day\", \"face\", \"good\", \"took\", \"saw\", \"long\", \"looked\", \"half\", \"think\", \"heart\", \"time\", \"moment\", \"came\", \"john\", \"abbey\", \"churchill\", \"knightley\", \"hawkins\", \"randalls\", \"surprized\", \"weston\", \"surprize\", \"richmond\", \"taylor\", \"ford\", \"larkins\", \"smallridge\", \"emma\", \"enscombe\", \"isabella\", \"cole\", \"patty\", \"longstaple\", \"donwell\", \"harriet\", \"martin\", \"hartfield\", \"cox\", \"goddard\", \"elton\", \"windsor\", \"woodhouse\", \"unceasing\", \"grandmama\", \"bates\", \"frank\", \"perry\", \"highbury\", \"campbell\", \"robert\", \"body\", \"smith\", \"thing\", \"fairfax\", \"ferrars\", \"miss\", \"think\", \"sure\", \"dear\", \"great\", \"know\", \"good\", \"oh\", \"time\", \"friend\", \"little\", \"father\", \"jane\", \"man\", \"soon\", \"thought\", \"shall\", \"better\", \"young\", \"come\", \"day\", \"willoughby\", \"cleveland\", \"allenham\", \"combe\", \"denny\", \"barton\", \"palmers\", \"jennings\", \"marianne\", \"unhappiness\", \"magna\", \"brandon\", \"jenkinson\", \"somersetshire\", \"apologising\", \"palmer\", \"curricle\", \"entreaty\", \"recital\", \"enquire\", \"unwillingly\", \"devonshire\", \"middleton\", \"delaford\", \"middletons\", \"enquiry\", \"margaret\", \"effusions\", \"employments\", \"enumerating\", \"elinor\", \"dashwood\", \"norland\", \"dashwoods\", \"cottage\", \"colonel\", \"sister\", \"behaviour\", \"mother\", \"park\", \"edward\", \"affection\", \"surprise\", \"misery\", \"engagement\", \"civility\", \"town\", \"lady\", \"family\", \"soon\", \"time\", \"letter\", \"house\", \"felt\", \"spirits\", \"marriage\", \"left\", \"day\", \"feelings\", \"good\", \"mind\", \"moment\", \"know\", \"heart\", \"little\", \"away\", \"john\", \"think\", \"long\", \"room\", \"shall\", \"man\", \"great\", \"bingley\", \"netherfield\", \"hurst\", \"lucas\", \"kent\", \"darcy\", \"bennet\", \"fitzwilliam\", \"meryton\", \"lucases\", \"wickham\", \"phillips\", \"nonsensical\", \"hertfordshire\", \"officers\", \"bennets\", \"judgement\", \"monday\", \"chooses\", \"longbourn\", \"elizabeth\", \"lizzy\", \"gracechurch\", \"intimately\", \"collins\", \"bourgh\", \"acquaintances\", \"handsomer\", \"militia\", \"corps\", \"pemberley\", \"lydia\", \"catherine\", \"gardiner\", \"caroline\", \"regiment\", \"forster\", \"saturday\", \"everybody\", \"jane\", \"charlotte\", \"uncle\", \"sisters\", \"miss\", \"family\", \"sister\", \"aunt\", \"lady\", \"think\", \"know\", \"soon\", \"dear\", \"father\", \"friend\", \"man\", \"young\", \"replied\", \"good\", \"great\", \"shall\", \"sure\", \"time\", \"little\", \"room\", \"day\", \"mother\", \"skies\", \"atom\", \"healthful\", \"vandenhuten\", \"marchmont\", \"professional\", \"honeymoon\", \"deck\", \"philanthropy\", \"handwriting\", \"chestnut\", \"insane\", \"unmarried\", \"india\", \"victor\", \"abide\", \"missionary\", \"yorke\", \"maniac\", \"crack\", \"contains\", \"suns\", \"imbecile\", \"mound\", \"quarrelled\", \"reminiscences\", \"beer\", \"rosamond\", \"assign\", \"ambitious\", \"anguish\", \"bone\", \"indian\", \"god\", \"maker\", \"graham\", \"higher\", \"terrasse\", \"bretton\", \"life\", \"love\", \"papa\", \"jane\", \"live\", \"heart\", \"existence\", \"loved\", \"long\", \"farewell\", \"know\", \"sun\", \"shall\", \"death\", \"like\", \"hand\", \"thought\", \"look\", \"good\", \"letter\", \"time\", \"come\", \"man\", \"mind\", \"little\", \"night\", \"strange\", \"feel\", \"sir\", \"saw\", \"read\", \"old\", \"day\", \"home\", \"away\", \"think\", \"soon\", \"left\", \"walravens\", \"garcon\", \"isidore\", \"justine\", \"betook\", \"alfred\", \"non\", \"soit\", \"les\", \"peut\", \"troop\", \"oratory\", \"quel\", \"soir\", \"marie\", \"felicitations\", \"treats\", \"shrine\", \"pierre\", \"storeroom\", \"qu\", \"magi\", \"ou\", \"leaved\", \"grimaces\", \"numero\", \"mystic\", \"ces\", \"etre\", \"infirm\", \"equivalent\", \"des\", \"cholmondeley\", \"que\", \"et\", \"vous\", \"etes\", \"mon\", \"priest\", \"ne\", \"madame\", \"il\", \"pas\", \"je\", \"beck\", \"ginevra\", \"est\", \"la\", \"paul\", \"elle\", \"emanuel\", \"mais\", \"moi\", \"like\", \"fanshawe\", \"little\", \"le\", \"knew\", \"day\", \"turned\", \"thought\", \"old\", \"know\", \"good\", \"stood\", \"round\", \"long\", \"away\", \"looked\", \"man\", \"time\", \"shall\", \"look\", \"night\", \"far\", \"door\", \"belgian\", \"devoirs\", \"patrician\", \"morals\", \"flamand\", \"dissimulation\", \"pelet\", \"subside\", \"irritating\", \"rests\", \"sarah\", \"growth\", \"mud\", \"sarcastic\", \"gall\", \"assiduous\", \"belgium\", \"director\", \"deformity\", \"parisian\", \"deportment\", \"repugnance\", \"tutor\", \"extorted\", \"bigben\", \"mischievous\", \"external\", \"serenity\", \"punctuality\", \"promptitude\", \"zoraide\", \"intelligent\", \"hunsden\", \"crimsworth\", \"graces\", \"frances\", \"directress\", \"prosperity\", \"mental\", \"establishment\", \"pupils\", \"mien\", \"mdlle\", \"capacity\", \"pupil\", \"reuter\", \"features\", \"english\", \"certain\", \"thought\", \"having\", \"like\", \"boys\", \"man\", \"degree\", \"little\", \"poor\", \"pleasure\", \"eyes\", \"time\", \"young\", \"mind\", \"saw\", \"day\", \"good\", \"face\", \"long\", \"looked\", \"soon\", \"heart\", \"felt\", \"look\", \"mender\", \"switzerland\", \"insight\", \"wider\", \"frances\", \"shelves\", \"franc\", \"swiss\", \"evans\", \"interrupting\", \"rainbow\", \"fee\", \"joys\", \"dishes\", \"boasting\", \"embers\", \"enlarged\", \"henri\", \"swung\", \"administered\", \"lui\", \"maintaining\", \"exchanging\", \"comments\", \"attics\", \"concisely\", \"consists\", \"diffused\", \"scotch\", \"publicity\", \"notre\", \"hunsden\", \"mdlle\", \"august\", \"monsieur\", \"lace\", \"pieces\", \"cup\", \"mademoiselle\", \"english\", \"francs\", \"reuter\", \"england\", \"diana\", \"brussels\", \"rivers\", \"grate\", \"french\", \"little\", \"old\", \"long\", \"yes\", \"shall\", \"mary\", \"time\", \"asked\", \"evening\", \"house\", \"live\", \"think\", \"like\", \"speak\", \"tell\", \"day\", \"room\", \"good\", \"knew\", \"soon\", \"come\", \"night\", \"came\", \"charade\", \"gruel\", \"leg\", \"unwholesome\", \"bathing\", \"colds\", \"hardships\", \"boiled\", \"knightleys\", \"prose\", \"richard\", \"disposal\", \"poet\", \"sacrifices\", \"performances\", \"exploring\", \"winning\", \"headache\", \"riddle\", \"carter\", \"sparkled\", \"anecdote\", \"triumphantly\", \"truths\", \"copied\", \"undone\", \"reckon\", \"lengths\", \"harp\", \"sickly\", \"wives\", \"talker\", \"likeness\", \"eltons\", \"talents\", \"clever\", \"fairfax\", \"parties\", \"perry\", \"sea\", \"dear\", \"jane\", \"emma\", \"woodhouse\", \"thing\", \"elton\", \"bates\", \"little\", \"shall\", \"children\", \"miss\", \"thousand\", \"body\", \"like\", \"know\", \"inquiry\", \"sure\", \"oh\", \"let\", \"air\", \"harriet\", \"good\", \"pretty\", \"evening\", \"soon\", \"time\", \"think\", \"better\", \"great\", \"away\", \"come\", \"selina\", \"cultivated\", \"boarder\", \"surry\", \"barouche\", \"swiss\", \"nation\", \"fathers\", \"maple\", \"devoting\", \"pomp\", \"denote\", \"ninety\", \"kings\", \"bath\", \"comprehending\", \"military\", \"panel\", \"luxury\", \"grove\", \"seas\", \"flown\", \"antagonist\", \"protestants\", \"belgium\", \"alliance\", \"dingy\", \"explore\", \"sneered\", \"pushing\", \"resources\", \"rome\", \"nash\", \"musical\", \"associations\", \"greatness\", \"highbury\", \"elton\", \"society\", \"hartfield\", \"good\", \"country\", \"woodhouse\", \"emma\", \"sort\", \"like\", \"woman\", \"body\", \"church\", \"little\", \"weston\", \"people\", \"thought\", \"father\", \"great\", \"miss\", \"harriet\", \"think\", \"house\", \"love\", \"thing\", \"shall\", \"man\", \"world\", \"place\", \"time\", \"way\", \"know\", \"briggs\", \"portfolio\", \"jump\", \"kisses\", \"adoption\", \"rays\", \"fetters\", \"gall\", \"storms\", \"decease\", \"militia\", \"committed\", \"funeral\", \"captain\", \"experiment\", \"estate\", \"chances\", \"dishevelled\", \"military\", \"scowled\", \"relatives\", \"appreciating\", \"generations\", \"shudder\", \"banker\", \"recurrence\", \"petit\", \"luxuries\", \"aspire\", \"exchanging\", \"janet\", \"cake\", \"lodge\", \"swelled\", \"pounds\", \"surgeon\", \"adele\", \"farewell\", \"including\", \"henry\", \"rough\", \"sir\", \"property\", \"thousand\", \"fortune\", \"rochester\", \"veil\", \"dashwood\", \"kiss\", \"years\", \"yes\", \"long\", \"jane\", \"family\", \"father\", \"life\", \"come\", \"ll\", \"place\", \"john\", \"little\", \"old\", \"away\", \"fairfax\", \"easy\", \"son\", \"good\", \"night\", \"shall\", \"like\", \"way\", \"half\", \"think\", \"time\", \"miss\", \"felt\", \"amounted\", \"boards\", \"enfin\", \"attic\", \"climax\", \"philanthropist\", \"vicar\", \"assez\", \"collation\", \"chink\", \"vases\", \"complacent\", \"throne\", \"nailed\", \"legitimate\", \"glide\", \"nations\", \"carter\", \"rubber\", \"encore\", \"rats\", \"copying\", \"submissive\", \"demoiselles\", \"enormous\", \"communicative\", \"despotism\", \"belgians\", \"fifth\", \"enlarge\", \"cloaks\", \"messieurs\", \"bien\", \"dawn\", \"est\", \"limited\", \"boys\", \"pelet\", \"hunsden\", \"night\", \"look\", \"old\", \"laugh\", \"et\", \"windows\", \"like\", \"que\", \"looked\", \"sir\", \"superiority\", \"head\", \"began\", \"hands\", \"curtain\", \"house\", \"thought\", \"speak\", \"answer\", \"self\", \"little\", \"time\", \"way\", \"think\", \"door\", \"good\", \"day\", \"people\", \"long\", \"document\", \"bedrooms\", \"agonies\", \"brushed\", \"enlarge\", \"unprepared\", \"aerial\", \"forwarded\", \"resided\", \"chalk\", \"richer\", \"cheap\", \"sixpence\", \"preparations\", \"housekeeping\", \"plebeian\", \"airing\", \"lighting\", \"sickening\", \"expenses\", \"nobleman\", \"tranquilly\", \"xvii\", \"discharging\", \"scrape\", \"unkind\", \"amazing\", \"fulfil\", \"unfrequently\", \"annum\", \"pounds\", \"elderly\", \"millcote\", \"salary\", \"shire\", \"thornfield\", \"year\", \"comfortable\", \"involuntarily\", \"income\", \"thousand\", \"assistance\", \"getting\", \"fortnight\", \"tied\", \"sure\", \"mother\", \"expect\", \"live\", \"certainly\", \"rochester\", \"fairfax\", \"spectacles\", \"think\", \"kept\", \"father\", \"dashwood\", \"half\", \"lady\", \"years\", \"new\", \"kind\", \"little\", \"shall\", \"thing\", \"given\", \"house\", \"hands\", \"peak\", \"lied\", \"portfolio\", \"average\", \"harangue\", \"despotism\", \"drawings\", \"albion\", \"dishevelled\", \"enounced\", \"reluctantly\", \"amour\", \"paramount\", \"slippery\", \"confidential\", \"regularity\", \"scrupled\", \"eyelid\", \"inflicting\", \"reminiscences\", \"conversations\", \"reported\", \"tints\", \"expanse\", \"obeying\", \"mal\", \"paragraph\", \"levity\", \"interior\", \"contour\", \"traced\", \"propre\", \"elle\", \"henri\", \"georgiana\", \"visage\", \"pencil\", \"bracelet\", \"mdlle\", \"monsieur\", \"sketch\", \"directress\", \"secured\", \"capacity\", \"mademoiselle\", \"firmness\", \"accent\", \"hints\", \"pictures\", \"book\", \"eliza\", \"volume\", \"natural\", \"asked\", \"course\", \"wanted\", \"english\", \"word\", \"scarcely\", \"good\", \"little\", \"know\", \"time\", \"saw\", \"day\", \"doubt\", \"power\", \"voice\", \"thought\", \"young\", \"look\", \"face\", \"looked\"], \"Freq\": [836.0, 1711.0, 931.0, 1535.0, 1318.0, 1312.0, 657.0, 596.0, 1349.0, 776.0, 1437.0, 357.0, 672.0, 1136.0, 920.0, 510.0, 361.0, 424.0, 614.0, 370.0, 1315.0, 695.0, 576.0, 934.0, 427.0, 1058.0, 587.0, 622.0, 272.0, 753.0, 28.875139236450195, 28.86406898498535, 31.619892120361328, 19.921579360961914, 85.88396453857422, 22.756620407104492, 19.747419357299805, 53.23983383178711, 16.761810302734375, 13.934343338012695, 13.885224342346191, 11.913976669311523, 23.005617141723633, 121.4366455078125, 10.915446281433105, 9.99553394317627, 119.31542205810547, 93.31803131103516, 9.844032287597656, 50.03449249267578, 11.55576229095459, 68.3883056640625, 29.489511489868164, 39.2464485168457, 10.613900184631348, 13.22911262512207, 9.691720962524414, 7.9060282707214355, 6.993619441986084, 6.98502254486084, 314.4295349121094, 15.89329719543457, 81.9468994140625, 35.71552658081055, 110.69495391845703, 21.137006759643555, 128.48793029785156, 48.98479080200195, 39.68600845336914, 50.72145462036133, 22.791799545288086, 99.97733306884766, 51.71833419799805, 22.504100799560547, 108.0402603149414, 44.20844268798828, 465.2707824707031, 217.23876953125, 100.46855163574219, 230.086669921875, 113.82047271728516, 298.7713623046875, 206.94931030273438, 166.6365203857422, 99.56709289550781, 140.88778686523438, 101.53836822509766, 221.29222106933594, 82.05036926269531, 206.30133056640625, 141.1855926513672, 358.7569580078125, 194.8594207763672, 193.3542022705078, 225.75938415527344, 314.385986328125, 209.39341735839844, 181.34568786621094, 246.15003967285156, 226.53175354003906, 212.4114227294922, 247.0025177001953, 206.11264038085938, 172.89382934570312, 187.51722717285156, 223.6698455810547, 175.4451904296875, 207.56224060058594, 182.74819946289062, 188.08204650878906, 146.02838134765625, 150.02041625976562, 146.04739379882812, 36.879581451416016, 9.95290470123291, 8.998756408691406, 8.985387802124023, 13.352035522460938, 7.933469295501709, 9.698479652404785, 10.506732940673828, 6.986408233642578, 7.829372882843018, 6.940825939178467, 7.833224773406982, 6.931036949157715, 13.893353462219238, 6.021601676940918, 11.185425758361816, 6.00946044921875, 6.009767055511475, 6.842804431915283, 5.987290859222412, 10.31441879272461, 5.907835006713867, 5.907341003417969, 8.493896484375, 9.32503604888916, 5.022347450256348, 5.83834981918335, 4.986594200134277, 4.987049102783203, 5.830737590789795, 53.490264892578125, 30.165908813476562, 41.0289421081543, 181.9825439453125, 17.607410430908203, 279.8148498535156, 131.6934814453125, 116.30716705322266, 77.82177734375, 53.60934829711914, 60.12997817993164, 27.096717834472656, 165.83233642578125, 95.2740478515625, 14.221244812011719, 66.9445571899414, 56.75023651123047, 31.462934494018555, 129.9330596923828, 34.91426467895508, 37.32160568237305, 49.420982360839844, 25.095319747924805, 48.000892639160156, 44.947059631347656, 123.73411560058594, 62.56266784667969, 111.70359802246094, 62.76100540161133, 44.50728988647461, 62.34135818481445, 155.9103240966797, 208.55435180664062, 201.8970947265625, 408.63330078125, 138.49806213378906, 81.2784423828125, 176.14981079101562, 95.76705169677734, 238.54290771484375, 154.7296600341797, 253.90109252929688, 150.3131866455078, 106.44711303710938, 220.41531372070312, 189.61575317382812, 131.0833740234375, 207.17510986328125, 130.72097778320312, 156.7855682373047, 167.5999755859375, 147.32334899902344, 132.31349182128906, 170.56202697753906, 135.4384307861328, 163.8876190185547, 130.49900817871094, 133.6029815673828, 128.45751953125, 29.72258758544922, 207.52325439453125, 359.3763122558594, 18.47036361694336, 82.93939971923828, 30.107053756713867, 400.2212219238281, 34.5599479675293, 12.6586275100708, 45.6419677734375, 15.221013069152832, 12.498266220092773, 9.771236419677734, 766.5288696289062, 32.587947845458984, 61.64711380004883, 55.283958435058594, 11.401060104370117, 7.838702201843262, 43.33244705200195, 456.373779296875, 75.01705932617188, 137.75799560546875, 7.725533962249756, 50.9036865234375, 325.83038330078125, 5.90474796295166, 262.4871520996094, 5.762758255004883, 11.603581428527832, 125.94161224365234, 199.01918029785156, 64.95361328125, 98.39459228515625, 40.852054595947266, 60.677486419677734, 182.1334686279297, 81.41441345214844, 405.4577331542969, 197.54049682617188, 84.38227844238281, 595.9290161132812, 396.8018493652344, 233.42176818847656, 220.38278198242188, 261.63873291015625, 362.10162353515625, 322.95263671875, 191.688720703125, 284.87738037109375, 155.4558868408203, 306.6488952636719, 165.9785919189453, 217.1223602294922, 212.877197265625, 212.9419403076172, 218.19053649902344, 198.5071563720703, 171.5645751953125, 171.61996459960938, 177.71994018554688, 182.7907257080078, 214.49717712402344, 26.756710052490234, 18.029932022094727, 16.0664119720459, 12.159161567687988, 84.32041931152344, 10.175692558288574, 215.81190490722656, 526.0675048828125, 10.978479385375977, 10.959146499633789, 132.3733673095703, 8.956009864807129, 8.046829223632812, 7.1221394538879395, 70.62761688232422, 6.142020225524902, 13.15334701538086, 6.0581207275390625, 6.044802665710449, 6.04147481918335, 23.682336807250977, 90.55279541015625, 26.88068962097168, 17.28854751586914, 5.0977277755737305, 32.051231384277344, 5.005015850067139, 11.050284385681152, 4.9065399169921875, 568.3038940429688, 201.82032775878906, 43.312652587890625, 28.68686294555664, 59.6507682800293, 193.2978973388672, 347.9446105957031, 82.40003967285156, 283.2145690917969, 66.83189392089844, 138.78753662109375, 113.4517822265625, 64.22630310058594, 38.55951690673828, 58.07918167114258, 44.218345642089844, 95.90811157226562, 182.99954223632812, 127.6002197265625, 225.48883056640625, 273.69097900390625, 133.27902221679688, 184.3857879638672, 165.68446350097656, 86.98886108398438, 76.06011962890625, 135.33407592773438, 189.132568359375, 110.912109375, 208.84707641601562, 134.90866088867188, 134.4822235107422, 198.24179077148438, 139.63803100585938, 190.8045196533203, 137.13255310058594, 133.15513610839844, 162.97683715820312, 143.582275390625, 142.0020294189453, 140.57644653320312, 137.58470153808594, 134.73257446289062, 301.9607849121094, 71.95075225830078, 35.2154426574707, 67.18507385253906, 14.066003799438477, 394.2189636230469, 301.06195068359375, 34.06193542480469, 53.17890167236328, 13.508927345275879, 174.13282775878906, 28.058305740356445, 5.032554626464844, 35.62752914428711, 27.95722770690918, 9.225483894348145, 9.9789400100708, 13.682544708251953, 8.057498931884766, 72.5930404663086, 524.709228515625, 78.32408905029297, 7.782966613769531, 7.614112377166748, 141.3914337158203, 30.874116897583008, 11.062538146972656, 4.963350772857666, 6.012292861938477, 6.317897319793701, 38.2364616394043, 117.58308410644531, 86.30734252929688, 59.48987579345703, 17.963144302368164, 18.45431900024414, 25.72409439086914, 17.959041595458984, 37.405029296875, 295.33074951171875, 55.02187728881836, 65.03905487060547, 73.91790771484375, 320.16455078125, 119.72042846679688, 158.64955139160156, 70.22152709960938, 151.40243530273438, 217.09913635253906, 227.2270965576172, 158.58714294433594, 125.57514953613281, 116.04280853271484, 105.95977020263672, 141.95611572265625, 123.13662719726562, 93.08338928222656, 152.84239196777344, 123.55931854248047, 124.00626373291016, 108.39900207519531, 135.6532440185547, 133.41310119628906, 114.42729949951172, 99.0650863647461, 93.30549621582031, 4.828052043914795, 4.694672107696533, 4.6583452224731445, 17.358692169189453, 11.541625022888184, 5.925415992736816, 5.235055923461914, 6.656392574310303, 4.310649394989014, 8.533822059631348, 8.309795379638672, 6.947232723236084, 4.750304222106934, 14.90383529663086, 16.15589714050293, 4.728816032409668, 12.876977920532227, 9.203165054321289, 4.65976095199585, 3.9577252864837646, 3.9463887214660645, 4.475029468536377, 3.8213882446289062, 3.8552660942077637, 7.654067516326904, 3.512629747390747, 6.862462520599365, 10.691810607910156, 4.848761081695557, 7.227592945098877, 14.611620903015137, 9.750736236572266, 11.296916007995605, 87.5938720703125, 5.883615016937256, 72.3297348022461, 19.871885299682617, 10.01541519165039, 68.30858612060547, 126.3782958984375, 109.07796478271484, 46.79766845703125, 128.1675262451172, 46.790672302246094, 96.58168029785156, 24.893823623657227, 33.52231216430664, 112.41376495361328, 13.908658027648926, 135.09312438964844, 27.870738983154297, 96.49984741210938, 32.11271667480469, 116.1802749633789, 72.47002410888672, 101.18651580810547, 72.85954284667969, 96.1979751586914, 53.66515350341797, 92.55079650878906, 72.23235321044922, 73.47388458251953, 59.47185516357422, 94.71609497070312, 58.27277755737305, 40.090572357177734, 47.46101760864258, 54.41593933105469, 59.98859405517578, 42.782779693603516, 48.489112854003906, 62.00900650024414, 49.136634826660156, 52.3929328918457, 59.90469741821289, 55.45580291748047, 49.790809631347656, 18.272613525390625, 3.8509726524353027, 15.943809509277344, 14.442300796508789, 3.483694553375244, 11.437761306762695, 5.0338544845581055, 5.518655300140381, 21.459423065185547, 3.6324732303619385, 4.741081237792969, 5.263115882873535, 5.252747535705566, 5.155693531036377, 15.809164047241211, 3.875239372253418, 3.350682258605957, 4.308299541473389, 15.370142936706543, 2.653867483139038, 14.963309288024902, 2.6595754623413086, 7.133205890655518, 3.4998035430908203, 2.560380220413208, 2.6738638877868652, 3.4962363243103027, 3.5267553329467773, 3.0885376930236816, 2.6275382041931152, 4.4010210037231445, 14.782431602478027, 10.253506660461426, 26.269004821777344, 32.77328872680664, 42.768821716308594, 5.998326778411865, 15.453726768493652, 15.189620971679688, 14.205909729003906, 94.19347381591797, 15.15338134765625, 19.4685115814209, 21.34494400024414, 39.34628677368164, 28.858985900878906, 27.42915916442871, 26.12766456604004, 35.6262321472168, 9.526970863342285, 22.378496170043945, 10.563325881958008, 9.307278633117676, 69.6577377319336, 17.526611328125, 72.94324493408203, 12.602656364440918, 35.4122200012207, 44.00763702392578, 28.224895477294922, 41.91704177856445, 31.29929542541504, 39.577301025390625, 35.8294792175293, 25.25127410888672, 25.39704704284668, 31.0683650970459, 28.659265518188477, 28.560441970825195, 29.759666442871094, 31.796483993530273, 29.407379150390625, 26.8405704498291, 25.77464485168457, 24.508268356323242, 24.451995849609375, 11.950897216796875, 4.193958759307861, 4.525500297546387, 3.421309232711792, 3.450359582901001, 3.18355393409729, 56.865570068359375, 3.1750760078430176, 2.63169264793396, 3.212855339050293, 3.126274824142456, 4.300339221954346, 2.4508299827575684, 4.882958889007568, 2.5820343494415283, 3.1558566093444824, 5.812019348144531, 6.100745677947998, 2.603464126586914, 3.337034225463867, 2.6503190994262695, 2.6359453201293945, 2.599613666534424, 2.605647563934326, 2.573298931121826, 2.0979654788970947, 3.8214125633239746, 4.562051773071289, 3.4497230052948, 2.3938522338867188, 8.58194637298584, 8.527783393859863, 28.45436668395996, 21.187973022460938, 5.033523082733154, 19.339454650878906, 10.353110313415527, 5.4593400955200195, 9.629339218139648, 13.639424324035645, 22.59716033935547, 7.769279956817627, 14.919946670532227, 5.730637073516846, 12.95256519317627, 11.433438301086426, 14.971559524536133, 19.392440795898438, 20.92487144470215, 35.551456451416016, 24.371028900146484, 35.24094009399414, 7.8614091873168945, 29.454736709594727, 12.39985179901123, 31.81879997253418, 17.942302703857422, 18.64405059814453, 20.948360443115234, 26.181726455688477, 19.95098114013672, 18.932546615600586, 19.938922882080078, 21.12152862548828, 20.176733016967773, 16.08745765686035, 17.796030044555664, 16.82549285888672, 15.96231460571289, 14.941543579101562, 14.896221160888672, 14.768836975097656, 7.152930736541748, 6.106688022613525, 2.6382479667663574, 2.650999069213867, 53.98631286621094, 2.6466429233551025, 3.519773006439209, 6.134896755218506, 3.4980194568634033, 2.641752243041992, 3.478400945663452, 2.5814919471740723, 2.0383176803588867, 2.593327283859253, 2.3588621616363525, 2.68668794631958, 2.1705071926116943, 17.742816925048828, 1.812522530555725, 1.8057317733764648, 1.7350749969482422, 1.8065862655639648, 1.7554383277893066, 1.8128697872161865, 1.756661295890808, 1.8003939390182495, 2.5742781162261963, 2.5878820419311523, 4.628952980041504, 1.6609989404678345, 1.7306571006774902, 34.915367126464844, 26.255022048950195, 4.017195224761963, 42.14659881591797, 11.497693061828613, 4.380870342254639, 10.96749210357666, 18.57229232788086, 29.839876174926758, 5.002238750457764, 10.23715877532959, 13.707881927490234, 9.933767318725586, 6.153562545776367, 7.943044185638428, 3.9935998916625977, 11.134904861450195, 32.346317291259766, 16.71116828918457, 20.389253616333008, 17.072914123535156, 17.943540573120117, 9.171554565429688, 18.622488021850586, 12.378741264343262, 13.004740715026855, 14.671564102172852, 9.858887672424316, 16.876964569091797, 16.741031646728516, 12.337264060974121, 12.790312767028809, 15.046881675720215, 14.403814315795898, 15.548077583312988, 12.68053913116455, 12.594213485717773, 11.973129272460938, 11.53637409210205, 11.533581733703613, 14.445895195007324, 6.778361797332764, 3.9687283039093018, 3.1937496662139893, 2.997342109680176, 2.2538323402404785, 2.166659355163574, 3.107217788696289, 2.3738930225372314, 1.6221553087234497, 3.4055659770965576, 2.6227405071258545, 1.623696208000183, 1.5821119546890259, 1.617864966392517, 3.1401901245117188, 1.6131654977798462, 3.4910740852355957, 3.721261978149414, 4.454505443572998, 2.0326080322265625, 1.7912591695785522, 1.4363428354263306, 2.251927137374878, 2.2070679664611816, 1.3808302879333496, 1.6267216205596924, 1.6240460872650146, 1.64899742603302, 4.088925361633301, 3.0008580684661865, 2.5909218788146973, 7.2203264236450195, 4.448514938354492, 5.4182820320129395, 9.261853218078613, 29.11083984375, 8.22402572631836, 8.981335639953613, 7.793524265289307, 31.774009704589844, 40.434852600097656, 36.22196578979492, 19.486305236816406, 34.16617965698242, 21.449295043945312, 11.285163879394531, 35.920143127441406, 25.563779830932617, 12.415477752685547, 31.946041107177734, 9.714361190795898, 12.468148231506348, 22.95004653930664, 23.345481872558594, 6.733271598815918, 15.910135269165039, 15.318376541137695, 14.076918601989746, 11.248269081115723, 13.878626823425293, 18.936080932617188, 10.449570655822754, 12.710881233215332, 14.349215507507324, 14.444403648376465, 13.381943702697754, 11.969808578491211, 12.394532203674316, 11.057205200195312, 11.07087516784668, 4.8673224449157715, 2.373182773590088, 2.3800313472747803, 3.95115065574646, 3.957563877105713, 5.078368663787842, 3.153902053833008, 2.3904168605804443, 10.977542877197266, 2.3852405548095703, 2.3608145713806152, 2.3416123390197754, 2.2629265785217285, 2.46474552154541, 7.707684516906738, 2.004941701889038, 1.574888825416565, 2.220102071762085, 3.8568050861358643, 10.99694538116455, 2.3858654499053955, 1.5962015390396118, 1.5693484544754028, 2.097209930419922, 3.701347827911377, 4.1926350593566895, 1.9086472988128662, 1.619577169418335, 1.6115996837615967, 1.5740810632705688, 4.365142345428467, 4.628138542175293, 2.9916229248046875, 5.290777206420898, 2.955904245376587, 3.065716028213501, 11.28968334197998, 18.479787826538086, 11.051983833312988, 11.152994155883789, 30.236770629882812, 10.609038352966309, 13.568120956420898, 21.450586318969727, 13.452690124511719, 22.287189483642578, 14.241385459899902, 11.130078315734863, 7.774268627166748, 22.37446403503418, 12.876477241516113, 11.718185424804688, 18.08236312866211, 12.717848777770996, 14.75869369506836, 17.797527313232422, 12.273219108581543, 16.068256378173828, 13.504717826843262, 12.239171981811523, 13.199919700622559, 13.482390403747559, 12.788168907165527, 9.863905906677246, 10.147486686706543, 11.45419692993164, 10.524239540100098, 11.029552459716797, 5.651973247528076, 2.3092658519744873, 1.579897165298462, 2.4988138675689697, 1.5713636875152588, 1.5384279489517212, 1.4771288633346558, 1.569724678993225, 1.5684477090835571, 1.5626908540725708, 1.5699265003204346, 2.289205312728882, 1.4961124658584595, 2.3281238079071045, 1.5707536935806274, 9.206355094909668, 1.5229887962341309, 0.8110683560371399, 0.8099668622016907, 0.818725049495697, 1.5996580123901367, 0.8099499940872192, 1.5730504989624023, 0.8097755312919617, 0.8146728873252869, 0.8007444143295288, 0.8127567172050476, 0.8098229765892029, 0.8108066320419312, 0.8044595122337341, 2.93159818649292, 3.7025556564331055, 3.1023027896881104, 2.1612088680267334, 10.634392738342285, 1.9170972108840942, 13.252082824707031, 3.859632968902588, 1.5172349214553833, 3.3011772632598877, 3.5853347778320312, 32.19953155517578, 4.501152992248535, 9.101004600524902, 10.008491516113281, 15.39073371887207, 3.7013001441955566, 9.207512855529785, 3.810420274734497, 9.865553855895996, 13.513897895812988, 16.693153381347656, 15.56229019165039, 9.596680641174316, 10.36530590057373, 10.635308265686035, 11.998876571655273, 5.852258682250977, 9.345684051513672, 9.783746719360352, 13.623153686523438, 8.672240257263184, 9.62503433227539, 7.781299591064453, 5.498775005340576, 6.055952072143555, 10.626782417297363, 8.411781311035156, 9.337571144104004, 9.841859817504883, 8.296951293945312, 7.754505634307861, 9.083744049072266, 8.528355598449707, 8.535534858703613, 7.808383941650391, 1.4014699459075928, 2.7915210723876953, 1.3670152425765991, 3.326719045639038, 2.789503574371338, 1.4123222827911377, 1.4178142547607422, 1.4022265672683716, 1.4008512496948242, 1.4131547212600708, 1.4107061624526978, 1.4128296375274658, 2.0777454376220703, 1.417177677154541, 1.404319167137146, 1.352970004081726, 1.4183785915374756, 3.04158353805542, 1.4145840406417847, 1.3388924598693848, 1.2838258743286133, 1.4176212549209595, 1.3164104223251343, 2.260251998901367, 1.3842538595199585, 1.4143404960632324, 0.7292699813842773, 0.733803391456604, 0.7183759212493896, 0.7315419912338257, 1.2885770797729492, 1.4205940961837769, 3.7581558227539062, 2.201597213745117, 5.535495281219482, 2.0469305515289307, 2.7989001274108887, 4.183684825897217, 4.188624382019043, 7.467090606689453, 6.84138822555542, 5.878401279449463, 3.6196775436401367, 3.1366302967071533, 2.7994003295898438, 6.746243953704834, 2.6745777130126953, 5.077824592590332, 4.760460376739502, 2.094644546508789, 4.0027899742126465, 3.6167025566101074, 3.3756160736083984, 2.3201699256896973, 4.217126846313477, 4.5403547286987305, 3.7106869220733643, 3.2012362480163574, 2.856276035308838, 3.611707925796509, 3.474548101425171, 3.2404696941375732, 3.231558084487915, 3.0100183486938477, 3.0979416370391846, 2.9909536838531494, 2.8940489292144775, 2.9025025367736816, 1.7273589372634888, 1.2156754732131958, 0.9730871915817261, 1.139780879020691, 0.6274933815002441, 0.6251328587532043, 0.6263627409934998, 0.6065636277198792, 0.5527074337005615, 0.6267707347869873, 0.6285310387611389, 0.6278664469718933, 0.6284155249595642, 1.176108717918396, 0.6283506751060486, 0.6250342130661011, 0.6273021697998047, 0.6242237091064453, 0.6238456964492798, 1.217898964881897, 0.48457950353622437, 0.6264420747756958, 0.6270992159843445, 0.6281406283378601, 0.6245118975639343, 0.6280632019042969, 0.6275266408920288, 0.6281634569168091, 0.624914824962616, 1.0888712406158447, 7.251366138458252, 1.5674551725387573, 2.0288193225860596, 1.658454179763794, 2.5098159313201904, 3.547657012939453, 4.7664031982421875, 2.9879493713378906, 1.221465826034546, 1.8114964962005615, 3.063295841217041, 1.807788372039795, 2.058220863342285, 2.2828257083892822, 1.2181710004806519, 5.246503829956055, 5.467026233673096, 2.4051406383514404, 3.0964009761810303, 3.6422598361968994, 3.6484460830688477, 3.525398015975952, 1.1106090545654297, 5.031195163726807, 2.471846342086792, 3.0508666038513184, 2.4738454818725586, 2.849712610244751, 2.8288309574127197, 2.4259424209594727, 2.3264334201812744, 2.4471726417541504, 2.7717206478118896, 2.567805528640747, 2.479072093963623, 2.1314353942871094, 2.188826560974121, 2.029017925262451, 1.1683623790740967, 1.0098795890808105, 1.186409592628479, 1.195275068283081, 0.9164228439331055, 0.6137821674346924, 1.7487822771072388, 0.6153445243835449, 0.6025015115737915, 0.6150538921356201, 0.6140987277030945, 0.9234647154808044, 0.6146358847618103, 0.6095330715179443, 0.6058793663978577, 0.6131012439727783, 0.6141694784164429, 0.6125667691230774, 0.6139554381370544, 0.6071968674659729, 0.6043903231620789, 0.58958500623703, 1.0933418273925781, 0.5820463299751282, 0.5706844329833984, 0.5518549084663391, 0.6152938008308411, 0.6154695153236389, 0.6132746338844299, 0.5499309301376343, 1.7183042764663696, 0.8640407919883728, 1.908676028251648, 3.3851094245910645, 3.287820339202881, 1.1659812927246094, 1.7088714838027954, 0.8258876204490662, 3.1577813625335693, 5.272467136383057, 1.1016550064086914, 1.8958910703659058, 1.616645097732544, 1.1910426616668701, 2.6336913108825684, 1.1941250562667847, 1.7756192684173584, 1.1625044345855713, 1.5477277040481567, 2.444106101989746, 1.6207932233810425, 1.125766396522522, 2.3623619079589844, 2.8082475662231445, 2.6616101264953613, 2.3202764987945557, 2.0509040355682373, 2.3302555084228516, 1.9457266330718994, 2.8248422145843506, 2.958327531814575, 2.835913896560669, 2.785902976989746, 2.4653687477111816, 2.3552989959716797, 1.910523533821106, 1.813392162322998, 1.8538206815719604, 1.9499858617782593, 1.8821011781692505, 1.8460322618484497, 1.8342475891113281, 1.8129786252975464], \"Total\": [836.0, 1711.0, 931.0, 1535.0, 1318.0, 1312.0, 657.0, 596.0, 1349.0, 776.0, 1437.0, 357.0, 672.0, 1136.0, 920.0, 510.0, 361.0, 424.0, 614.0, 370.0, 1315.0, 695.0, 576.0, 934.0, 427.0, 1058.0, 587.0, 622.0, 272.0, 753.0, 29.7700138092041, 29.7686767578125, 32.745689392089844, 20.79227638244629, 89.65576171875, 23.765602111816406, 20.790163040161133, 56.334144592285156, 17.76515007019043, 14.803862571716309, 14.799042701721191, 12.804389953613281, 24.78694725036621, 131.25665283203125, 11.800806999206543, 10.819823265075684, 129.7624053955078, 101.5052261352539, 10.806264877319336, 55.070945739746094, 12.72503662109375, 75.52249908447266, 32.59003448486328, 43.49088668823242, 11.798295021057129, 14.716143608093262, 10.79055118560791, 8.819716453552246, 7.823902130126953, 7.819550514221191, 357.6256103515625, 17.810012817382812, 96.67589569091797, 41.164939880371094, 132.3820037841797, 24.081878662109375, 173.1909942626953, 60.75913619995117, 48.33559799194336, 63.40299606323242, 26.796693801879883, 146.98728942871094, 72.96119689941406, 26.528295516967773, 181.76065063476562, 62.30756759643555, 1318.33544921875, 499.785888671875, 188.7489776611328, 596.8076171875, 229.27227783203125, 893.5216064453125, 537.1133422851562, 396.8652648925781, 192.3968048095703, 324.0606384277344, 203.3555145263672, 696.6088256835938, 149.651611328125, 639.002685546875, 363.04608154296875, 1711.3409423828125, 625.4309692382812, 622.126708984375, 829.6239013671875, 1535.311279296875, 753.0039672851562, 597.4222412109375, 1136.6632080078125, 1058.3175048828125, 920.8311157226562, 1315.137939453125, 934.7523193359375, 617.9515991210938, 778.380859375, 1349.9327392578125, 691.6725463867188, 1312.8985595703125, 931.6443481445312, 1437.9453125, 408.0308837890625, 626.8405151367188, 495.0234069824219, 38.79236602783203, 10.847755432128906, 9.855000495910645, 9.84926700592041, 14.847321510314941, 8.842541694641113, 10.824435234069824, 11.806755065917969, 7.851222515106201, 8.83867073059082, 7.837925434112549, 8.847896575927734, 7.830112457275391, 15.72805404663086, 6.852567672729492, 12.742990493774414, 6.850494384765625, 6.852012634277344, 7.804505348205566, 6.831198215484619, 11.823630332946777, 6.8253374099731445, 6.831252574920654, 9.834709167480469, 10.836782455444336, 5.846738815307617, 6.821512222290039, 5.83036470413208, 5.850959777832031, 6.848921298980713, 63.937522888183594, 36.18098068237305, 49.97453308105469, 234.77073669433594, 21.579320907592773, 400.6336975097656, 180.87808227539062, 162.04954528808594, 106.37055206298828, 72.66981506347656, 83.62376403808594, 35.61953353881836, 272.4009704589844, 152.6092071533203, 17.592571258544922, 102.84654998779297, 85.21156311035156, 43.60302734375, 224.61032104492188, 49.46376419067383, 53.46879577636719, 75.35609436035156, 33.92842102050781, 74.15585327148438, 68.9957275390625, 241.53269958496094, 104.93970489501953, 223.4071044921875, 108.47684478759766, 71.99077606201172, 112.77330017089844, 399.37933349609375, 617.9515991210938, 622.126708984375, 1711.3409423828125, 379.0458679199219, 174.7797088623047, 639.002685546875, 236.55894470214844, 1136.6632080078125, 547.451904296875, 1318.33544921875, 537.1133422851562, 309.6669921875, 1437.9453125, 1058.3175048828125, 499.785888671875, 1349.9327392578125, 497.5202331542969, 778.380859375, 934.7523193359375, 696.6088256835938, 589.8123168945312, 1312.8985595703125, 655.023681640625, 1315.137939453125, 582.50732421875, 691.6725463867188, 626.8405151367188, 31.309551239013672, 219.04635620117188, 379.84100341796875, 19.526573181152344, 88.31623077392578, 32.1413459777832, 427.70318603515625, 37.01854705810547, 13.62381649017334, 49.46556854248047, 16.57485580444336, 13.627348899841309, 10.666925430297852, 836.9935302734375, 35.69318771362305, 67.52327728271484, 60.732582092285156, 12.641633033752441, 8.69915771484375, 48.17826461791992, 510.2044677734375, 84.03624725341797, 154.6314697265625, 8.712371826171875, 57.697086334228516, 370.5152587890625, 6.745467185974121, 300.2798767089844, 6.623846054077148, 13.412755966186523, 145.89552307128906, 234.14002990722656, 76.8948974609375, 119.6069107055664, 50.652469635009766, 78.7457046508789, 271.9557800292969, 112.8879165649414, 776.9521484375, 361.7117614746094, 130.1296844482422, 1535.311279296875, 1312.8985595703125, 614.3442993164062, 587.6687622070312, 824.4301147460938, 1437.9453125, 1349.9327392578125, 561.048828125, 1315.137939453125, 439.7535095214844, 1711.3409423828125, 506.7179870605469, 931.6443481445312, 906.4373779296875, 928.2245483398438, 1136.6632080078125, 920.8311157226562, 616.3258056640625, 664.6233520507812, 829.6239013671875, 1058.3175048828125, 221.0513458251953, 28.350614547729492, 19.20281410217285, 17.158946990966797, 13.078324317932129, 91.36090087890625, 11.044835090637207, 234.86424255371094, 576.4662475585938, 12.049657821655273, 12.05789852142334, 147.18243408203125, 9.98096752166748, 8.997900009155273, 7.977759838104248, 79.11637878417969, 6.966404914855957, 15.0799560546875, 6.965089797973633, 6.961860656738281, 6.961256980895996, 27.31450653076172, 104.49227142333984, 31.2979736328125, 20.157146453857422, 5.945997714996338, 37.396427154541016, 5.850640773773193, 13.018905639648438, 5.8055315017700195, 695.2362670898438, 251.7810821533203, 53.60017776489258, 37.26854705810547, 85.86229705810547, 312.8020324707031, 599.9988403320312, 148.10693359375, 672.6322631835938, 124.49066162109375, 318.2303771972656, 265.7015686035156, 131.67257690429688, 66.09866333007812, 116.6375732421875, 80.4924545288086, 241.088623046875, 629.1981201171875, 384.7784729003906, 928.2245483398438, 1315.137939453125, 431.1112976074219, 753.0039672851562, 669.9277954101562, 229.37985229492188, 186.55914306640625, 539.4898681640625, 1058.3175048828125, 383.8262634277344, 1349.9327392578125, 572.171630859375, 582.50732421875, 1437.9453125, 655.023681640625, 1711.3409423828125, 678.7324829101562, 626.8405151367188, 1312.8985595703125, 934.7523193359375, 893.5216064453125, 920.8311157226562, 906.4373779296875, 824.4301147460938, 311.9295654296875, 75.06892395019531, 37.451534271240234, 71.9748306274414, 15.091272354125977, 424.16131591796875, 328.6849670410156, 37.47394561767578, 58.693702697753906, 15.0911226272583, 198.283447265625, 32.38996887207031, 5.904257774353027, 42.49209213256836, 33.38176345825195, 11.025145530700684, 12.0418701171875, 16.569475173950195, 9.86819839477539, 89.90528106689453, 657.68115234375, 99.23625183105469, 9.886181831359863, 9.72973918914795, 182.51583862304688, 40.54545974731445, 14.955607414245605, 6.780641555786133, 8.466360092163086, 8.916570663452148, 54.7009162902832, 174.64508056640625, 132.84190368652344, 97.2824478149414, 26.03042984008789, 26.93900489807129, 40.47215270996094, 26.726459503173828, 67.09761047363281, 931.6443481445312, 115.718994140625, 154.6671600341797, 188.20361328125, 1535.311279296875, 384.7784729003906, 599.9988403320312, 182.39036560058594, 629.1981201171875, 1312.8985595703125, 1437.9453125, 928.2245483398438, 587.6687622070312, 506.7179870605469, 439.7535095214844, 906.4373779296875, 664.6233520507812, 352.74261474609375, 1349.9327392578125, 824.4301147460938, 920.8311157226562, 614.3442993164062, 1315.137939453125, 1711.3409423828125, 893.5216064453125, 1058.3175048828125, 672.6322631835938, 5.756501197814941, 5.7391357421875, 5.735299587249756, 21.424470901489258, 14.615111351013184, 7.531694412231445, 6.661332130432129, 8.582112312316895, 5.754772663116455, 11.472737312316895, 11.430353164672852, 9.572591781616211, 6.5545549392700195, 20.827688217163086, 23.094303131103516, 6.765964984893799, 18.475940704345703, 13.212484359741211, 6.755760192871094, 5.772927284240723, 5.787447929382324, 6.573258399963379, 5.63853120803833, 5.775844573974609, 11.58627986907959, 5.360121726989746, 10.656258583068848, 16.63215446472168, 7.739518165588379, 11.57372760772705, 24.604705810546875, 16.497777938842773, 19.470266342163086, 227.429931640625, 9.46929931640625, 224.61032104492188, 43.79745101928711, 18.67015266418457, 241.53269958496094, 580.6557006835938, 569.2484130859375, 171.3924102783203, 931.6443481445312, 210.71109008789062, 655.023681640625, 78.88435363769531, 130.281005859375, 934.7523193359375, 32.03193664550781, 1437.9453125, 103.90946960449219, 920.8311157226562, 136.38665771484375, 1318.33544921875, 617.9515991210938, 1136.6632080078125, 637.3969116210938, 1349.9327392578125, 431.1112976074219, 1315.137939453125, 829.6239013671875, 906.4373779296875, 572.171630859375, 1711.3409423828125, 622.126708984375, 252.79969787597656, 401.0498046875, 596.8076171875, 778.380859375, 317.502197265625, 473.14483642578125, 1058.3175048828125, 494.73663330078125, 678.7324829101562, 1312.8985595703125, 928.2245483398438, 539.4898681640625, 22.172874450683594, 5.2736921310424805, 22.49423599243164, 21.74971580505371, 5.3382954597473145, 17.92221450805664, 7.984179973602295, 9.049336433410645, 36.325653076171875, 6.172248840332031, 8.141861915588379, 9.093019485473633, 9.08737564086914, 9.091663360595703, 28.372468948364258, 7.174631118774414, 6.313427448272705, 8.185568809509277, 29.631080627441406, 5.12570858001709, 29.24962043762207, 5.257416725158691, 14.196020126342773, 7.046436309814453, 5.165196895599365, 5.413689613342285, 7.122656345367432, 7.209690093994141, 6.395212173461914, 5.441710472106934, 9.185949325561523, 32.22186279296875, 22.110687255859375, 59.550167083740234, 81.30325317382812, 112.77330017089844, 12.960027694702148, 37.24958038330078, 36.606483459472656, 34.56265640258789, 400.6336975097656, 41.166419982910156, 58.13765335083008, 69.3202896118164, 162.04954528808594, 108.47684478759766, 104.93970489501953, 102.46662139892578, 180.87808227539062, 23.75487518310547, 106.37055206298828, 30.318979263305664, 24.50436019897461, 1318.33544921875, 85.21156311035156, 1711.3409423828125, 44.86790084838867, 547.451904296875, 1058.3175048828125, 337.96185302734375, 1136.6632080078125, 473.14483642578125, 1437.9453125, 1349.9327392578125, 324.0606384277344, 352.5884094238281, 934.7523193359375, 678.7324829101562, 696.6088256835938, 906.4373779296875, 1315.137939453125, 920.8311157226562, 637.3969116210938, 622.126708984375, 463.0863952636719, 537.1133422851562, 14.908952713012695, 6.0873212814331055, 6.838381290435791, 5.180909156799316, 5.310592174530029, 5.342616081237793, 99.47177124023438, 6.153557300567627, 5.1277618408203125, 6.361562728881836, 6.376424312591553, 9.058395385742188, 5.35011100769043, 10.81977367401123, 5.853882312774658, 7.246632099151611, 13.61007308959961, 14.409561157226562, 6.195619583129883, 7.951982021331787, 6.3391313552856445, 6.393877029418945, 6.310013771057129, 6.394704341888428, 6.389756202697754, 5.390366554260254, 9.8939847946167, 11.859085083007812, 9.153973579406738, 6.428428649902344, 26.617197036743164, 28.135971069335938, 138.3003387451172, 95.93492126464844, 15.502689361572266, 107.11503601074219, 44.0001106262207, 17.987871170043945, 41.35765075683594, 70.12104034423828, 152.6092071533203, 31.04537010192871, 106.47697448730469, 21.044946670532227, 94.93585968017578, 75.35609436035156, 129.0823211669922, 223.4071044921875, 336.6641540527344, 1136.6632080078125, 538.417236328125, 1318.33544921875, 41.77239990234375, 906.4373779296875, 141.6714324951172, 1711.3409423828125, 389.2416687011719, 448.621826171875, 639.002685546875, 1315.137939453125, 664.6233520507812, 572.171630859375, 778.380859375, 1058.3175048828125, 1349.9327392578125, 499.785888671875, 934.7523193359375, 696.6088256835938, 928.2245483398438, 655.023681640625, 669.9277954101562, 637.3969116210938, 8.881711959838867, 10.38795280456543, 5.043306350708008, 5.258319854736328, 107.11503601074219, 5.429497718811035, 7.249918460845947, 12.647202491760254, 7.953773021697998, 6.0346999168396, 8.363199234008789, 6.463769912719727, 5.537919998168945, 7.130797386169434, 6.551819801330566, 7.474364280700684, 6.127723693847656, 50.11560821533203, 5.226830959320068, 5.329333782196045, 5.2188005447387695, 5.442744255065918, 5.35878324508667, 5.5736403465271, 5.466641426086426, 5.621033191680908, 8.265610694885254, 8.31205940246582, 15.000911712646484, 5.388907432556152, 5.618396282196045, 138.3003387451172, 106.47697448730469, 13.936857223510742, 272.4009704589844, 55.10672378540039, 16.638761520385742, 54.3491096496582, 114.24715423583984, 223.4071044921875, 22.208112716674805, 75.35609436035156, 124.00604248046875, 73.61055755615234, 35.74875259399414, 58.760623931884766, 16.744205474853516, 156.88365173339844, 1711.3409423828125, 473.14483642578125, 934.7523193359375, 597.4222412109375, 920.8311157226562, 149.651611328125, 1315.137939453125, 396.8652648925781, 484.99945068359375, 753.0039672851562, 210.71109008789062, 1312.8985595703125, 1318.33544921875, 446.2320861816406, 544.86865234375, 1058.3175048828125, 893.5216064453125, 1349.9327392578125, 547.451904296875, 928.2245483398438, 829.6239013671875, 622.126708984375, 691.6725463867188, 19.414260864257812, 10.029125213623047, 8.729277610778809, 7.628472805023193, 8.043370246887207, 6.1970014572143555, 6.196115493774414, 8.99225902557373, 7.155178070068359, 5.059556007385254, 10.76755428314209, 8.325555801391602, 5.295669078826904, 5.185101509094238, 5.383903980255127, 10.50898551940918, 5.411625862121582, 11.762417793273926, 12.607632637023926, 15.17683219909668, 7.143815517425537, 6.327386856079102, 5.167632579803467, 8.263468742370605, 8.164227485656738, 5.167707443237305, 6.216264247894287, 6.2674713134765625, 6.388983726501465, 15.848477363586426, 11.98907470703125, 10.690483093261719, 37.127227783203125, 21.293155670166016, 29.992591857910156, 61.96094512939453, 361.7117614746094, 61.501956939697266, 76.8948974609375, 62.895469665527344, 587.6687622070312, 931.6443481445312, 836.9935302734375, 300.2798767089844, 776.9521484375, 370.5152587890625, 145.89552307128906, 1711.3409423828125, 920.8311157226562, 209.54244995117188, 1535.311279296875, 133.39883422851562, 271.9557800292969, 1318.33544921875, 1437.9453125, 62.17659378051758, 614.3442993164062, 561.048828125, 463.2896423339844, 262.6656494140625, 510.2044677734375, 1349.9327392578125, 232.62847900390625, 484.99945068359375, 928.2245483398438, 1315.137939453125, 1312.8985595703125, 616.3258056640625, 824.4301147460938, 678.7324829101562, 829.6239013671875, 9.468894958496094, 5.13471794128418, 5.228333473205566, 8.711644172668457, 9.402389526367188, 12.647202491760254, 7.857170581817627, 6.0336503982543945, 27.964706420898438, 6.083193778991699, 6.17543888092041, 6.191766738891602, 6.104304790496826, 7.125273704528809, 22.538333892822266, 6.298840522766113, 5.069202423095703, 7.229291915893555, 12.641523361206055, 36.86006546020508, 8.016572952270508, 5.385814666748047, 5.411487579345703, 7.291356086730957, 13.61007308959961, 15.584792137145996, 7.18949556350708, 6.380075454711914, 6.415466785430908, 6.281240463256836, 18.218320846557617, 20.61159324645996, 12.902416229248047, 25.891813278198242, 13.653563499450684, 14.623762130737305, 119.6069107055664, 370.5152587890625, 149.370361328125, 154.6314697265625, 1349.9327392578125, 169.72842407226562, 300.2798767089844, 836.9935302734375, 358.1092224121094, 1318.33544921875, 469.1289978027344, 271.9557800292969, 114.91724395751953, 1711.3409423828125, 427.70318603515625, 338.3831481933594, 1136.6632080078125, 506.7179870605469, 824.4301147460938, 1535.311279296875, 510.2044677734375, 1312.8985595703125, 753.0039672851562, 569.2484130859375, 776.9521484375, 920.8311157226562, 906.4373779296875, 414.5817565917969, 506.3479919433594, 1315.137939453125, 686.8966674804688, 1437.9453125, 14.088519096374512, 6.977451324462891, 4.855640411376953, 7.927827835083008, 5.357944011688232, 5.303257942199707, 5.378489017486572, 5.853882312774658, 7.155333995819092, 7.359792709350586, 8.466360092163086, 12.388882637023926, 8.306951522827148, 13.103303909301758, 9.275525093078613, 54.895355224609375, 9.212924003601074, 5.02676248550415, 5.069202423095703, 5.248379707336426, 10.26020336151123, 5.26551628112793, 10.230925559997559, 5.27175760269165, 5.331118106842041, 5.2482686042785645, 5.332340240478516, 5.335772514343262, 5.372891902923584, 5.35878324508667, 19.83578872680664, 26.76862907409668, 22.929306030273438, 15.691752433776855, 93.46582794189453, 13.974259376525879, 132.3820037841797, 32.03193664550781, 11.02868366241455, 30.228984832763672, 34.154109954833984, 596.8076171875, 46.383384704589844, 133.39883422851562, 169.93824768066406, 357.6256103515625, 37.53895568847656, 251.7810821533203, 47.842796325683594, 314.50048828125, 597.4222412109375, 934.7523193359375, 931.6443481445312, 384.7784729003906, 506.7179870605469, 580.6557006835938, 829.6239013671875, 146.98728942871094, 506.3479919433594, 626.8405151367188, 1711.3409423828125, 473.14483642578125, 678.7324829101562, 361.7117614746094, 133.26034545898438, 193.09649658203125, 1349.9327392578125, 622.126708984375, 920.8311157226562, 1318.33544921875, 686.8966674804688, 589.8123168945312, 1312.8985595703125, 1315.137939453125, 1535.311279296875, 669.9277954101562, 5.183125972747803, 10.591259956359863, 5.250652313232422, 12.87093734741211, 11.553524017333984, 5.885564804077148, 5.938721179962158, 5.877525806427002, 5.87723970413208, 5.96806526184082, 5.959272861480713, 6.0132904052734375, 8.901976585388184, 6.194489479064941, 6.207339763641357, 6.2328996658325195, 6.86476993560791, 15.17683219909668, 7.084810256958008, 7.049355506896973, 7.038415908813477, 8.011382102966309, 8.006604194641113, 14.174821853637695, 8.79302978515625, 9.612470626831055, 4.963498115539551, 5.000908851623535, 4.96845817565918, 5.079470634460449, 9.028573989868164, 11.854991912841797, 45.53744125366211, 22.15814781188965, 104.93970489501953, 22.1275577545166, 41.77239990234375, 99.47177124023438, 138.3003387451172, 622.126708984375, 637.3969116210938, 473.14483642578125, 123.44551849365234, 81.30325317382812, 60.90749740600586, 1318.33544921875, 59.550167083740234, 696.6088256835938, 596.8076171875, 28.115524291992188, 408.0308837890625, 300.8055725097656, 230.39576721191406, 48.2224235534668, 753.0039672851562, 1136.6632080078125, 446.2320861816406, 352.2512512207031, 214.7686309814453, 1711.3409423828125, 1315.137939453125, 686.8966674804688, 1312.8985595703125, 537.1133422851562, 1349.9327392578125, 1058.3175048828125, 338.3831481933594, 934.7523193359375, 6.657004356384277, 6.472417831420898, 6.194704055786133, 7.548754692077637, 5.079470634460449, 5.373812198638916, 5.393914699554443, 5.476736545562744, 5.273599624633789, 5.997317790985107, 6.146974086761475, 6.146901607513428, 6.166831970214844, 11.754948616027832, 6.283602714538574, 6.300326824188232, 6.380516052246094, 6.415072441101074, 6.412356853485107, 12.812453269958496, 5.101478099822998, 7.006739616394043, 7.033320903778076, 7.068887233734131, 7.076370716094971, 7.133468151092529, 7.189189434051514, 7.217520713806152, 7.199300289154053, 12.640891075134277, 93.46582794189453, 19.453203201293945, 27.740419387817383, 22.542606353759766, 41.95476150512695, 96.67589569091797, 179.478271484375, 88.99436950683594, 22.779186248779297, 48.63140869140625, 133.39883422851562, 51.269134521484375, 69.28187561035156, 88.64984893798828, 25.366987228393555, 614.3442993164062, 672.6322631835938, 119.23716735839844, 210.71109008789062, 333.3949279785156, 357.6256103515625, 361.7117614746094, 21.66033363342285, 1312.8985595703125, 209.75094604492188, 506.7179870605469, 251.7810821533203, 589.8123168945312, 629.1981201171875, 314.50048828125, 293.4669189453125, 409.44879150390625, 1711.3409423828125, 920.8311157226562, 776.9521484375, 331.1593933105469, 753.0039672851562, 230.39576721191406, 4.646334648132324, 5.004152774810791, 6.977451324462891, 7.57762336730957, 6.169309616088867, 4.963498115539551, 14.26836109161377, 5.11735725402832, 5.02676248550415, 5.154547691345215, 5.205247402191162, 7.8423542976379395, 5.258808612823486, 5.267176628112793, 5.271092414855957, 5.339753150939941, 5.365050792694092, 5.366797924041748, 5.400945663452148, 5.360121726989746, 5.414240837097168, 5.317862033843994, 9.928169250488281, 5.301638126373291, 5.454529285430908, 5.387231349945068, 6.012882709503174, 6.073539733886719, 6.081792831420898, 5.455410480499268, 19.03534507751465, 8.973798751831055, 23.75487518310547, 50.11560821533203, 58.39592361450195, 15.396750450134277, 31.952970504760742, 9.558965682983398, 106.47697448730469, 272.4009704589844, 16.061630249023438, 44.0001106262207, 35.318626403808594, 21.044946670532227, 114.24715423583984, 22.450115203857422, 53.25559997558594, 21.79782485961914, 41.82666015625, 166.2963104248047, 60.180721282958984, 23.960094451904297, 183.8533172607422, 396.8652648925781, 340.51165771484375, 233.2876739501953, 223.4071044921875, 393.0152893066406, 200.4050750732422, 1349.9327392578125, 1711.3409423828125, 1437.9453125, 1315.137939453125, 778.380859375, 1058.3175048828125, 315.4657897949219, 248.7733612060547, 395.4352111816406, 1136.6632080078125, 664.6233520507812, 637.3969116210938, 499.785888671875, 696.6088256835938], \"Category\": [\"Default\", \"Default\", \"Default\", \"Default\", \"Default\", \"Default\", \"Default\", \"Default\", \"Default\", \"Default\", \"Default\", \"Default\", \"Default\", \"Default\", \"Default\", \"Default\", \"Default\", \"Default\", \"Default\", \"Default\", \"Default\", \"Default\", \"Default\", \"Default\", \"Default\", \"Default\", \"Default\", \"Default\", \"Default\", \"Default\", \"Topic1\", \"Topic1\", \"Topic1\", \"Topic1\", \"Topic1\", \"Topic1\", \"Topic1\", \"Topic1\", \"Topic1\", \"Topic1\", \"Topic1\", \"Topic1\", \"Topic1\", \"Topic1\", \"Topic1\", \"Topic1\", \"Topic1\", \"Topic1\", \"Topic1\", \"Topic1\", \"Topic1\", \"Topic1\", \"Topic1\", \"Topic1\", \"Topic1\", \"Topic1\", \"Topic1\", \"Topic1\", \"Topic1\", \"Topic1\", \"Topic1\", \"Topic1\", \"Topic1\", \"Topic1\", \"Topic1\", \"Topic1\", \"Topic1\", \"Topic1\", \"Topic1\", \"Topic1\", \"Topic1\", \"Topic1\", \"Topic1\", \"Topic1\", \"Topic1\", \"Topic1\", \"Topic1\", \"Topic1\", \"Topic1\", \"Topic1\", \"Topic1\", \"Topic1\", \"Topic1\", \"Topic1\", \"Topic1\", \"Topic1\", \"Topic1\", \"Topic1\", \"Topic1\", \"Topic1\", \"Topic1\", \"Topic1\", \"Topic1\", \"Topic1\", \"Topic1\", \"Topic1\", \"Topic1\", \"Topic1\", \"Topic1\", \"Topic1\", \"Topic1\", \"Topic1\", \"Topic1\", \"Topic1\", \"Topic1\", \"Topic1\", \"Topic1\", \"Topic1\", \"Topic1\", \"Topic1\", \"Topic1\", \"Topic1\", \"Topic1\", \"Topic2\", \"Topic2\", \"Topic2\", \"Topic2\", \"Topic2\", \"Topic2\", \"Topic2\", \"Topic2\", \"Topic2\", \"Topic2\", \"Topic2\", \"Topic2\", \"Topic2\", \"Topic2\", \"Topic2\", \"Topic2\", \"Topic2\", \"Topic2\", \"Topic2\", \"Topic2\", \"Topic2\", \"Topic2\", \"Topic2\", \"Topic2\", \"Topic2\", \"Topic2\", \"Topic2\", \"Topic2\", \"Topic2\", \"Topic2\", \"Topic2\", \"Topic2\", \"Topic2\", \"Topic2\", \"Topic2\", \"Topic2\", \"Topic2\", \"Topic2\", \"Topic2\", \"Topic2\", \"Topic2\", \"Topic2\", \"Topic2\", \"Topic2\", \"Topic2\", \"Topic2\", \"Topic2\", \"Topic2\", \"Topic2\", \"Topic2\", \"Topic2\", \"Topic2\", \"Topic2\", \"Topic2\", \"Topic2\", \"Topic2\", \"Topic2\", \"Topic2\", \"Topic2\", \"Topic2\", \"Topic2\", \"Topic2\", \"Topic2\", \"Topic2\", \"Topic2\", \"Topic2\", \"Topic2\", \"Topic2\", \"Topic2\", \"Topic2\", \"Topic2\", \"Topic2\", \"Topic2\", \"Topic2\", \"Topic2\", \"Topic2\", \"Topic2\", \"Topic2\", \"Topic2\", \"Topic2\", \"Topic2\", \"Topic2\", \"Topic2\", \"Topic2\", \"Topic2\", \"Topic2\", \"Topic2\", \"Topic2\", \"Topic2\", \"Topic3\", \"Topic3\", \"Topic3\", \"Topic3\", \"Topic3\", \"Topic3\", \"Topic3\", \"Topic3\", \"Topic3\", \"Topic3\", \"Topic3\", \"Topic3\", \"Topic3\", \"Topic3\", \"Topic3\", \"Topic3\", \"Topic3\", \"Topic3\", \"Topic3\", \"Topic3\", \"Topic3\", \"Topic3\", \"Topic3\", \"Topic3\", \"Topic3\", \"Topic3\", \"Topic3\", \"Topic3\", \"Topic3\", \"Topic3\", \"Topic3\", \"Topic3\", \"Topic3\", \"Topic3\", \"Topic3\", \"Topic3\", \"Topic3\", \"Topic3\", \"Topic3\", \"Topic3\", \"Topic3\", \"Topic3\", \"Topic3\", \"Topic3\", \"Topic3\", \"Topic3\", \"Topic3\", \"Topic3\", \"Topic3\", \"Topic3\", \"Topic3\", \"Topic3\", \"Topic3\", \"Topic3\", \"Topic3\", \"Topic3\", \"Topic3\", \"Topic3\", \"Topic3\", \"Topic3\", \"Topic3\", \"Topic3\", \"Topic4\", \"Topic4\", \"Topic4\", \"Topic4\", \"Topic4\", \"Topic4\", \"Topic4\", \"Topic4\", \"Topic4\", \"Topic4\", \"Topic4\", \"Topic4\", \"Topic4\", \"Topic4\", \"Topic4\", \"Topic4\", \"Topic4\", \"Topic4\", \"Topic4\", \"Topic4\", \"Topic4\", \"Topic4\", \"Topic4\", \"Topic4\", \"Topic4\", \"Topic4\", \"Topic4\", \"Topic4\", \"Topic4\", \"Topic4\", \"Topic4\", \"Topic4\", \"Topic4\", \"Topic4\", \"Topic4\", \"Topic4\", \"Topic4\", \"Topic4\", \"Topic4\", \"Topic4\", \"Topic4\", \"Topic4\", \"Topic4\", \"Topic4\", \"Topic4\", \"Topic4\", \"Topic4\", \"Topic4\", \"Topic4\", \"Topic4\", \"Topic4\", \"Topic4\", \"Topic4\", \"Topic4\", \"Topic4\", \"Topic4\", \"Topic4\", \"Topic4\", \"Topic4\", \"Topic4\", \"Topic4\", \"Topic4\", \"Topic4\", \"Topic4\", \"Topic4\", \"Topic4\", \"Topic4\", \"Topic4\", \"Topic4\", \"Topic4\", \"Topic4\", \"Topic4\", \"Topic4\", \"Topic5\", \"Topic5\", \"Topic5\", \"Topic5\", \"Topic5\", \"Topic5\", \"Topic5\", \"Topic5\", \"Topic5\", \"Topic5\", \"Topic5\", \"Topic5\", \"Topic5\", \"Topic5\", \"Topic5\", \"Topic5\", \"Topic5\", \"Topic5\", \"Topic5\", \"Topic5\", \"Topic5\", \"Topic5\", \"Topic5\", \"Topic5\", \"Topic5\", \"Topic5\", \"Topic5\", \"Topic5\", \"Topic5\", \"Topic5\", \"Topic5\", \"Topic5\", \"Topic5\", \"Topic5\", \"Topic5\", \"Topic5\", \"Topic5\", \"Topic5\", \"Topic5\", \"Topic5\", \"Topic5\", \"Topic5\", \"Topic5\", \"Topic5\", \"Topic5\", \"Topic5\", \"Topic5\", \"Topic5\", \"Topic5\", \"Topic5\", \"Topic5\", \"Topic5\", \"Topic5\", \"Topic5\", \"Topic5\", \"Topic5\", \"Topic5\", \"Topic5\", \"Topic5\", \"Topic5\", \"Topic5\", \"Topic5\", \"Topic5\", \"Topic5\", \"Topic5\", \"Topic5\", \"Topic6\", \"Topic6\", \"Topic6\", \"Topic6\", \"Topic6\", \"Topic6\", \"Topic6\", \"Topic6\", \"Topic6\", \"Topic6\", \"Topic6\", \"Topic6\", \"Topic6\", \"Topic6\", \"Topic6\", \"Topic6\", \"Topic6\", \"Topic6\", \"Topic6\", \"Topic6\", \"Topic6\", \"Topic6\", \"Topic6\", \"Topic6\", \"Topic6\", \"Topic6\", \"Topic6\", \"Topic6\", \"Topic6\", \"Topic6\", \"Topic6\", \"Topic6\", \"Topic6\", \"Topic6\", \"Topic6\", \"Topic6\", \"Topic6\", \"Topic6\", \"Topic6\", \"Topic6\", \"Topic6\", \"Topic6\", \"Topic6\", \"Topic6\", \"Topic6\", \"Topic6\", \"Topic6\", \"Topic6\", \"Topic6\", \"Topic6\", \"Topic6\", \"Topic6\", \"Topic6\", \"Topic6\", \"Topic6\", \"Topic6\", \"Topic6\", \"Topic6\", \"Topic6\", \"Topic6\", \"Topic6\", \"Topic6\", \"Topic6\", \"Topic6\", \"Topic6\", \"Topic6\", \"Topic6\", \"Topic6\", \"Topic6\", \"Topic6\", \"Topic6\", \"Topic6\", \"Topic6\", \"Topic6\", \"Topic6\", \"Topic6\", \"Topic6\", \"Topic7\", \"Topic7\", \"Topic7\", \"Topic7\", \"Topic7\", \"Topic7\", \"Topic7\", \"Topic7\", \"Topic7\", \"Topic7\", \"Topic7\", \"Topic7\", \"Topic7\", \"Topic7\", \"Topic7\", \"Topic7\", \"Topic7\", \"Topic7\", \"Topic7\", \"Topic7\", \"Topic7\", \"Topic7\", \"Topic7\", \"Topic7\", \"Topic7\", \"Topic7\", \"Topic7\", \"Topic7\", \"Topic7\", \"Topic7\", \"Topic7\", \"Topic7\", \"Topic7\", \"Topic7\", \"Topic7\", \"Topic7\", \"Topic7\", \"Topic7\", \"Topic7\", \"Topic7\", \"Topic7\", \"Topic7\", \"Topic7\", \"Topic7\", \"Topic7\", \"Topic7\", \"Topic7\", \"Topic7\", \"Topic7\", \"Topic7\", \"Topic7\", \"Topic7\", \"Topic7\", \"Topic7\", \"Topic7\", \"Topic7\", \"Topic7\", \"Topic7\", \"Topic7\", \"Topic7\", \"Topic7\", \"Topic7\", \"Topic7\", \"Topic7\", \"Topic7\", \"Topic7\", \"Topic7\", \"Topic7\", \"Topic7\", \"Topic7\", \"Topic7\", \"Topic7\", \"Topic7\", \"Topic7\", \"Topic7\", \"Topic7\", \"Topic8\", \"Topic8\", \"Topic8\", \"Topic8\", \"Topic8\", \"Topic8\", \"Topic8\", \"Topic8\", \"Topic8\", \"Topic8\", \"Topic8\", \"Topic8\", \"Topic8\", \"Topic8\", \"Topic8\", \"Topic8\", \"Topic8\", \"Topic8\", \"Topic8\", \"Topic8\", \"Topic8\", \"Topic8\", \"Topic8\", \"Topic8\", \"Topic8\", \"Topic8\", \"Topic8\", \"Topic8\", \"Topic8\", \"Topic8\", \"Topic8\", \"Topic8\", \"Topic8\", \"Topic8\", \"Topic8\", \"Topic8\", \"Topic8\", \"Topic8\", \"Topic8\", \"Topic8\", \"Topic8\", \"Topic8\", \"Topic8\", \"Topic8\", \"Topic8\", \"Topic8\", \"Topic8\", \"Topic8\", \"Topic8\", \"Topic8\", \"Topic8\", \"Topic8\", \"Topic8\", \"Topic8\", \"Topic8\", \"Topic8\", \"Topic8\", \"Topic8\", \"Topic8\", \"Topic8\", \"Topic8\", \"Topic8\", \"Topic8\", \"Topic8\", \"Topic8\", \"Topic8\", \"Topic8\", \"Topic8\", \"Topic8\", \"Topic8\", \"Topic8\", \"Topic8\", \"Topic9\", \"Topic9\", \"Topic9\", \"Topic9\", \"Topic9\", \"Topic9\", \"Topic9\", \"Topic9\", \"Topic9\", \"Topic9\", \"Topic9\", \"Topic9\", \"Topic9\", \"Topic9\", \"Topic9\", \"Topic9\", \"Topic9\", \"Topic9\", \"Topic9\", \"Topic9\", \"Topic9\", \"Topic9\", \"Topic9\", \"Topic9\", \"Topic9\", \"Topic9\", \"Topic9\", \"Topic9\", \"Topic9\", \"Topic9\", \"Topic9\", \"Topic9\", \"Topic9\", \"Topic9\", \"Topic9\", \"Topic9\", \"Topic9\", \"Topic9\", \"Topic9\", \"Topic9\", \"Topic9\", \"Topic9\", \"Topic9\", \"Topic9\", \"Topic9\", \"Topic9\", \"Topic9\", \"Topic9\", \"Topic9\", \"Topic9\", \"Topic9\", \"Topic9\", \"Topic9\", \"Topic9\", \"Topic9\", \"Topic9\", \"Topic9\", \"Topic9\", \"Topic9\", \"Topic9\", \"Topic9\", \"Topic9\", \"Topic9\", \"Topic9\", \"Topic9\", \"Topic9\", \"Topic9\", \"Topic9\", \"Topic9\", \"Topic9\", \"Topic9\", \"Topic10\", \"Topic10\", \"Topic10\", \"Topic10\", \"Topic10\", \"Topic10\", \"Topic10\", \"Topic10\", \"Topic10\", \"Topic10\", \"Topic10\", \"Topic10\", \"Topic10\", \"Topic10\", \"Topic10\", \"Topic10\", \"Topic10\", \"Topic10\", \"Topic10\", \"Topic10\", \"Topic10\", \"Topic10\", \"Topic10\", \"Topic10\", \"Topic10\", \"Topic10\", \"Topic10\", \"Topic10\", \"Topic10\", \"Topic10\", \"Topic10\", \"Topic10\", \"Topic10\", \"Topic10\", \"Topic10\", \"Topic10\", \"Topic10\", \"Topic10\", \"Topic10\", \"Topic10\", \"Topic10\", \"Topic10\", \"Topic10\", \"Topic10\", \"Topic10\", \"Topic10\", \"Topic10\", \"Topic10\", \"Topic10\", \"Topic10\", \"Topic10\", \"Topic10\", \"Topic10\", \"Topic10\", \"Topic10\", \"Topic10\", \"Topic10\", \"Topic10\", \"Topic10\", \"Topic10\", \"Topic10\", \"Topic10\", \"Topic10\", \"Topic10\", \"Topic10\", \"Topic10\", \"Topic10\", \"Topic10\", \"Topic10\", \"Topic10\", \"Topic10\", \"Topic11\", \"Topic11\", \"Topic11\", \"Topic11\", \"Topic11\", \"Topic11\", \"Topic11\", \"Topic11\", \"Topic11\", \"Topic11\", \"Topic11\", \"Topic11\", \"Topic11\", \"Topic11\", \"Topic11\", \"Topic11\", \"Topic11\", \"Topic11\", \"Topic11\", \"Topic11\", \"Topic11\", \"Topic11\", \"Topic11\", \"Topic11\", \"Topic11\", \"Topic11\", \"Topic11\", \"Topic11\", \"Topic11\", \"Topic11\", \"Topic11\", \"Topic11\", \"Topic11\", \"Topic11\", \"Topic11\", \"Topic11\", \"Topic11\", \"Topic11\", \"Topic11\", \"Topic11\", \"Topic11\", \"Topic11\", \"Topic11\", \"Topic11\", \"Topic11\", \"Topic11\", \"Topic11\", \"Topic11\", \"Topic11\", \"Topic11\", \"Topic11\", \"Topic11\", \"Topic11\", \"Topic11\", \"Topic11\", \"Topic11\", \"Topic11\", \"Topic11\", \"Topic11\", \"Topic11\", \"Topic11\", \"Topic11\", \"Topic11\", \"Topic11\", \"Topic11\", \"Topic11\", \"Topic11\", \"Topic11\", \"Topic12\", \"Topic12\", \"Topic12\", \"Topic12\", \"Topic12\", \"Topic12\", \"Topic12\", \"Topic12\", \"Topic12\", \"Topic12\", \"Topic12\", \"Topic12\", \"Topic12\", \"Topic12\", \"Topic12\", \"Topic12\", \"Topic12\", \"Topic12\", \"Topic12\", \"Topic12\", \"Topic12\", \"Topic12\", \"Topic12\", \"Topic12\", \"Topic12\", \"Topic12\", \"Topic12\", \"Topic12\", \"Topic12\", \"Topic12\", \"Topic12\", \"Topic12\", \"Topic12\", \"Topic12\", \"Topic12\", \"Topic12\", \"Topic12\", \"Topic12\", \"Topic12\", \"Topic12\", \"Topic12\", \"Topic12\", \"Topic12\", \"Topic12\", \"Topic12\", \"Topic12\", \"Topic12\", \"Topic12\", \"Topic12\", \"Topic12\", \"Topic12\", \"Topic12\", \"Topic12\", \"Topic12\", \"Topic12\", \"Topic12\", \"Topic12\", \"Topic12\", \"Topic12\", \"Topic12\", \"Topic12\", \"Topic12\", \"Topic12\", \"Topic12\", \"Topic12\", \"Topic12\", \"Topic12\", \"Topic12\", \"Topic12\", \"Topic12\", \"Topic12\", \"Topic12\", \"Topic12\", \"Topic12\", \"Topic12\", \"Topic12\", \"Topic13\", \"Topic13\", \"Topic13\", \"Topic13\", \"Topic13\", \"Topic13\", \"Topic13\", \"Topic13\", \"Topic13\", \"Topic13\", \"Topic13\", \"Topic13\", \"Topic13\", \"Topic13\", \"Topic13\", \"Topic13\", \"Topic13\", \"Topic13\", \"Topic13\", \"Topic13\", \"Topic13\", \"Topic13\", \"Topic13\", \"Topic13\", \"Topic13\", \"Topic13\", \"Topic13\", \"Topic13\", \"Topic13\", \"Topic13\", \"Topic13\", \"Topic13\", \"Topic13\", \"Topic13\", \"Topic13\", \"Topic13\", \"Topic13\", \"Topic13\", \"Topic13\", \"Topic13\", \"Topic13\", \"Topic13\", \"Topic13\", \"Topic13\", \"Topic13\", \"Topic13\", \"Topic13\", \"Topic13\", \"Topic13\", \"Topic13\", \"Topic13\", \"Topic13\", \"Topic13\", \"Topic13\", \"Topic13\", \"Topic13\", \"Topic13\", \"Topic13\", \"Topic13\", \"Topic13\", \"Topic13\", \"Topic13\", \"Topic13\", \"Topic13\", \"Topic13\", \"Topic13\", \"Topic13\", \"Topic13\", \"Topic14\", \"Topic14\", \"Topic14\", \"Topic14\", \"Topic14\", \"Topic14\", \"Topic14\", \"Topic14\", \"Topic14\", \"Topic14\", \"Topic14\", \"Topic14\", \"Topic14\", \"Topic14\", \"Topic14\", \"Topic14\", \"Topic14\", \"Topic14\", \"Topic14\", \"Topic14\", \"Topic14\", \"Topic14\", \"Topic14\", \"Topic14\", \"Topic14\", \"Topic14\", \"Topic14\", \"Topic14\", \"Topic14\", \"Topic14\", \"Topic14\", \"Topic14\", \"Topic14\", \"Topic14\", \"Topic14\", \"Topic14\", \"Topic14\", \"Topic14\", \"Topic14\", \"Topic14\", \"Topic14\", \"Topic14\", \"Topic14\", \"Topic14\", \"Topic14\", \"Topic14\", \"Topic14\", \"Topic14\", \"Topic14\", \"Topic14\", \"Topic14\", \"Topic14\", \"Topic14\", \"Topic14\", \"Topic14\", \"Topic14\", \"Topic14\", \"Topic14\", \"Topic14\", \"Topic14\", \"Topic14\", \"Topic14\", \"Topic14\", \"Topic14\", \"Topic14\", \"Topic14\", \"Topic14\", \"Topic14\", \"Topic15\", \"Topic15\", \"Topic15\", \"Topic15\", \"Topic15\", \"Topic15\", \"Topic15\", \"Topic15\", \"Topic15\", \"Topic15\", \"Topic15\", \"Topic15\", \"Topic15\", \"Topic15\", \"Topic15\", \"Topic15\", \"Topic15\", \"Topic15\", \"Topic15\", \"Topic15\", \"Topic15\", \"Topic15\", \"Topic15\", \"Topic15\", \"Topic15\", \"Topic15\", \"Topic15\", \"Topic15\", \"Topic15\", \"Topic15\", \"Topic15\", \"Topic15\", \"Topic15\", \"Topic15\", \"Topic15\", \"Topic15\", \"Topic15\", \"Topic15\", \"Topic15\", \"Topic15\", \"Topic15\", \"Topic15\", \"Topic15\", \"Topic15\", \"Topic15\", \"Topic15\", \"Topic15\", \"Topic15\", \"Topic15\", \"Topic15\", \"Topic15\", \"Topic15\", \"Topic15\", \"Topic15\", \"Topic15\", \"Topic15\", \"Topic15\", \"Topic15\", \"Topic15\", \"Topic15\", \"Topic15\", \"Topic15\", \"Topic15\", \"Topic15\", \"Topic15\", \"Topic15\", \"Topic15\", \"Topic15\", \"Topic15\", \"Topic15\", \"Topic15\", \"Topic15\", \"Topic15\"], \"logprob\": [30.0, 29.0, 28.0, 27.0, 26.0, 25.0, 24.0, 23.0, 22.0, 21.0, 20.0, 19.0, 18.0, 17.0, 16.0, 15.0, 14.0, 13.0, 12.0, 11.0, 10.0, 9.0, 8.0, 7.0, 6.0, 5.0, 4.0, 3.0, 2.0, 1.0, -7.751200199127197, -7.751500129699707, -7.660399913787842, -8.122300148010254, -6.661099910736084, -7.989299774169922, -8.131099700927734, -7.1392998695373535, -8.295000076293945, -8.4798002243042, -8.48330020904541, -8.63640022277832, -7.978400230407715, -6.314799785614014, -8.723999977111816, -8.812000274658203, -6.332399845123291, -6.578100204467773, -8.827300071716309, -7.201399803161621, -8.666999816894531, -6.888899803161621, -7.730100154876709, -7.444300174713135, -8.751999855041504, -8.531700134277344, -8.842900276184082, -9.046500205993652, -9.169099807739258, -9.17039966583252, -5.363399982452393, -8.348199844360352, -6.708099842071533, -7.538599967956543, -6.407400131225586, -8.06309986114502, -6.258299827575684, -7.222599983215332, -7.43310022354126, -7.18779993057251, -7.98769998550415, -6.509200096130371, -7.168300151824951, -8.000399589538574, -6.431600093841553, -7.325200080871582, -4.971499919891357, -5.733099937438965, -6.504300117492676, -5.6757001876831055, -6.379499912261963, -5.4145002365112305, -5.781700134277344, -5.998300075531006, -6.513299942016602, -6.166200160980225, -6.49370002746582, -5.714700222015381, -6.7067999839782715, -5.784800052642822, -6.164100170135498, -5.231500148773193, -5.841899871826172, -5.849599838256836, -5.694699764251709, -5.363500118255615, -5.769899845123291, -5.913700103759766, -5.6082000732421875, -5.691299915313721, -5.7555999755859375, -5.604700088500977, -5.785699844360352, -5.96150016784668, -5.880300045013428, -5.703999996185303, -5.946800231933594, -5.77869987487793, -5.906000137329102, -5.877299785614014, -6.130300045013428, -6.103400230407715, -6.130199909210205, -7.3109002113342285, -8.620699882507324, -8.721500396728516, -8.722900390625, -8.326899528503418, -8.84749984741211, -8.646599769592285, -8.566499710083008, -8.974599838256836, -8.860699653625488, -8.981100082397461, -8.860199928283691, -8.982500076293945, -8.287099838256836, -9.123200416564941, -8.503899574279785, -9.125200271606445, -9.125200271606445, -8.99530029296875, -9.128899574279785, -8.585000038146973, -9.14229965209961, -9.142399787902832, -8.779199600219727, -8.685799598693848, -9.30459976196289, -9.15410041809082, -9.311800003051758, -9.311699867248535, -9.155400276184082, -6.939000129699707, -7.5117998123168945, -7.2042999267578125, -5.714600086212158, -8.050200462341309, -5.28439998626709, -6.038099765777588, -6.162300109863281, -6.5640997886657715, -6.936800003051758, -6.822000026702881, -7.619100093841553, -5.807600021362305, -6.361800193786621, -8.263799667358398, -6.714700222015381, -6.879899978637695, -7.469699859619141, -6.051499843597412, -7.365699768066406, -7.298999786376953, -7.018199920654297, -7.695899963378906, -7.047299861907959, -7.113100051879883, -6.100399971008301, -6.782400131225586, -6.202700138092041, -6.779200077056885, -7.122900009155273, -6.785900115966797, -5.86929988861084, -5.5782999992370605, -5.610799789428711, -4.905700206756592, -5.98769998550415, -6.520699977874756, -5.747200012207031, -6.356599807739258, -5.443999767303467, -5.8769001960754395, -5.3815999031066895, -5.905799865722656, -6.250899791717529, -5.5229997634887695, -5.673500061035156, -6.042699813842773, -5.585000038146973, -6.045499801635742, -5.863699913024902, -5.796999931335449, -5.925899982452393, -6.033400058746338, -5.779399871826172, -6.010000228881836, -5.819399833679199, -6.0472002029418945, -6.02370023727417, -6.062900066375732, -7.447299957275391, -5.504000186920166, -4.954899787902832, -7.923099994659424, -6.42110013961792, -7.434500217437744, -4.8471999168396, -7.296500205993652, -8.30090045928955, -7.018400192260742, -8.116499900817871, -8.313599586486816, -8.559800148010254, -4.197400093078613, -7.355299949645996, -6.717800140380859, -6.826700210571289, -8.405500411987305, -8.780200004577637, -7.070300102233887, -4.71589994430542, -6.521500110626221, -5.913700103759766, -8.794699668884277, -6.909299850463867, -5.052800178527832, -9.06350040435791, -5.269000053405762, -9.087800025939941, -8.387900352478027, -6.003399848937988, -5.54580020904541, -6.665599822998047, -6.250199794769287, -7.129300117492676, -6.733699798583984, -5.634500026702881, -6.439700126647949, -4.834199905395508, -5.553299903869629, -6.403900146484375, -4.449100017547607, -4.855800151824951, -5.38640022277832, -5.443900108337402, -5.272299766540527, -4.947299957275391, -5.061699867248535, -5.583399772644043, -5.18720006942749, -5.792900085449219, -5.113500118255615, -5.727399826049805, -5.458799839019775, -5.478499889373779, -5.4781999588012695, -5.45389986038208, -5.548399925231934, -5.694300174713135, -5.693900108337402, -5.658999919891357, -5.630899906158447, -5.454500198364258, -7.535999774932861, -7.930799961090088, -8.046099662780762, -8.324700355529785, -6.388199806213379, -8.502799987792969, -5.448400020599365, -4.557400226593018, -8.426899909973145, -8.428600311279297, -5.93720006942749, -8.630499839782715, -8.737500190734863, -8.859600067138672, -6.565400123596191, -9.007699966430664, -8.246100425720215, -9.021400451660156, -9.023599624633789, -9.024200439453125, -7.658100128173828, -6.31689977645874, -7.531400203704834, -7.972799777984619, -9.194000244140625, -7.355500221252441, -9.212400436401367, -8.42039966583252, -9.232199668884277, -4.480199813842773, -5.515399932861328, -7.0543999671936035, -7.466400146484375, -6.734300136566162, -5.558599948883057, -4.970799922943115, -6.411200046539307, -5.176599979400635, -6.62060022354126, -5.889900207519531, -6.091400146484375, -6.660399913787842, -7.170599937438965, -6.761000156402588, -7.033699989318848, -6.259399890899658, -5.61329984664917, -5.973899841308594, -5.4045000076293945, -5.2108001708984375, -5.9303998947143555, -5.605800151824951, -5.712699890136719, -6.35699987411499, -6.491300106048584, -5.91510009765625, -5.580399990081787, -6.114099979400635, -5.481200218200684, -5.9182000160217285, -5.92140007019043, -5.533299922943115, -5.883800029754639, -5.571599960327148, -5.901899814605713, -5.931300163269043, -5.7291998863220215, -5.855899810791016, -5.867000102996826, -5.877099990844727, -5.898600101470947, -5.91949987411499, -4.646699905395508, -6.080999851226807, -6.795499801635742, -6.149499893188477, -7.713200092315674, -4.380099773406982, -4.649600028991699, -6.828800201416016, -6.383299827575684, -7.753600120544434, -5.1971001625061035, -7.02269983291626, -8.741000175476074, -6.78380012512207, -7.026299953460693, -8.135000228881836, -8.056500434875488, -7.740799903869629, -8.270400047302246, -6.0721001625061035, -4.094099998474121, -5.996099948883057, -8.305000305175781, -8.32699966430664, -5.405399799346924, -6.927000045776367, -7.953400135040283, -8.754899978637695, -8.563199996948242, -8.51360034942627, -6.713200092315674, -5.589799880981445, -5.89900016784668, -6.271200180053711, -7.468599796295166, -7.441699981689453, -7.109499931335449, -7.468900203704834, -6.735199928283691, -4.668900012969971, -6.3491997718811035, -6.182000160217285, -6.053999900817871, -4.588099956512451, -5.571800231933594, -5.290299892425537, -6.105299949645996, -5.336999893188477, -4.976600170135498, -4.931000232696533, -5.2906999588012695, -5.524099826812744, -5.603000164031982, -5.693900108337402, -5.401400089263916, -5.543700218200684, -5.823500156402588, -5.327600002288818, -5.540200233459473, -5.536600112915039, -5.67110013961792, -5.446899890899658, -5.463500022888184, -5.617000102996826, -5.761199951171875, -5.821100234985352, -8.39330005645752, -8.421299934387207, -8.429100036621094, -7.11359977722168, -7.5218000411987305, -8.18850040435791, -8.312399864196777, -8.072199821472168, -8.506600379943848, -7.823699951171875, -7.850299835205078, -8.029399871826172, -8.409500122070312, -7.26609992980957, -7.185500144958496, -8.41409969329834, -7.412300109863281, -7.748199939727783, -8.428799629211426, -8.592100143432617, -8.594900131225586, -8.469200134277344, -8.627099990844727, -8.618300437927246, -7.932499885559082, -8.711400032043457, -8.04170036315918, -7.598299980163574, -8.388999938964844, -7.989799976348877, -7.285900115966797, -7.690400123596191, -7.5432000160217285, -5.494999885559082, -8.195599555969238, -5.686500072479248, -6.978400230407715, -7.663599967956543, -5.74370002746582, -5.128499984741211, -5.275700092315674, -6.1219000816345215, -5.1143999099731445, -6.122099876403809, -5.397299766540527, -6.7530999183654785, -6.45550012588501, -5.24560022354126, -7.33519983291626, -5.061800003051758, -6.640200138092041, -5.398200035095215, -6.498499870300293, -5.212600231170654, -5.684599876403809, -5.350800037384033, -5.679200172424316, -5.401299953460693, -5.985000133514404, -5.440000057220459, -5.68779993057251, -5.67080020904541, -5.882199764251709, -5.416900157928467, -5.902599811553955, -6.276599884033203, -6.107800006866455, -5.971099853515625, -5.873600006103516, -6.211599826812744, -6.086400032043457, -5.8404998779296875, -6.0731000900268555, -6.008999824523926, -5.875, -5.952199935913086, -6.059899806976318, -6.432700157165527, -7.989799976348877, -6.5690999031066895, -6.668000221252441, -8.090100288391113, -6.901199817657471, -7.7220001220703125, -7.630000114440918, -6.271999835968018, -8.048199653625488, -7.781899929046631, -7.6774001121521, -7.6793999671936035, -7.697999954223633, -6.577600002288818, -7.983500003814697, -8.128999710083008, -7.877600193023682, -6.6057000160217285, -8.362099647521973, -6.632599830627441, -8.359999656677246, -7.3734002113342285, -8.085399627685547, -8.39799976348877, -8.354599952697754, -8.08650016784668, -8.077799797058105, -8.21049976348877, -8.372099876403809, -7.856299877166748, -6.644700050354004, -7.010499954223633, -6.069799900054932, -5.848499774932861, -5.582300186157227, -7.5467000007629395, -6.600299835205078, -6.617499828338623, -6.684500217437744, -4.792799949645996, -6.619900226593018, -6.3694000244140625, -6.277299880981445, -5.6656999588012695, -5.9756999015808105, -6.026500225067139, -6.075200080871582, -5.765100002288818, -7.084000110626221, -6.230100154876709, -6.980800151824951, -7.107399940490723, -5.094600200653076, -6.474400043487549, -5.048500061035156, -6.804200172424316, -5.771100044250488, -5.553800106048584, -5.997900009155273, -5.602499961853027, -5.894599914550781, -5.659900188446045, -5.759399890899658, -6.109300136566162, -6.103499889373779, -5.9019999504089355, -5.982699871063232, -5.986100196838379, -5.945000171661377, -5.878799915313721, -5.956900119781494, -6.0482001304626465, -6.088799953460693, -6.139100074768066, -6.14139986038208, -6.4145002365112305, -7.461699962615967, -7.3856000900268555, -7.665299892425537, -7.656899929046631, -7.737299919128418, -4.854700088500977, -7.739999771118164, -7.927700042724609, -7.7281999588012695, -7.755499839782715, -7.436600208282471, -7.998899936676025, -7.309599876403809, -7.946800231933594, -7.746099948883057, -7.13539981842041, -7.086900234222412, -7.938499927520752, -7.690299987792969, -7.9207000732421875, -7.92609977722168, -7.940000057220459, -7.937699794769287, -7.950200080871582, -8.154399871826172, -7.554699897766113, -7.377600193023682, -7.6570000648498535, -8.02239990234375, -6.745699882507324, -6.751999855041504, -5.546999931335449, -5.841899871826172, -7.279200077056885, -5.933199882507324, -6.55810022354126, -7.197999954223633, -6.630499839782715, -6.282400131225586, -5.777500152587891, -6.845200061798096, -6.192599773406982, -7.149499893188477, -6.334000110626221, -6.458799839019775, -6.189199924468994, -5.930500030517578, -5.854400157928467, -5.324399948120117, -5.701900005340576, -5.333099842071533, -6.833399772644043, -5.512499809265137, -6.377699851989746, -5.435299873352051, -6.008200168609619, -5.969799995422363, -5.853300094604492, -5.630300045013428, -5.902100086212158, -5.954500198364258, -5.902699947357178, -5.845099925994873, -5.8907999992370605, -6.117300033569336, -6.01639986038208, -6.072400093078613, -6.125100135803223, -6.191199779510498, -6.194200038909912, -6.2027997970581055, -6.524799823760986, -6.683000087738037, -7.522299766540527, -7.517399787902832, -4.503600120544434, -7.519100189208984, -7.234000205993652, -6.678400039672852, -7.240200042724609, -7.520899772644043, -7.245800018310547, -7.544000148773193, -7.780200004577637, -7.539400100708008, -7.634200096130371, -7.5040998458862305, -7.717400074005127, -5.616399765014648, -7.897600173950195, -7.901400089263916, -7.941299915313721, -7.900899887084961, -7.929599761962891, -7.897500038146973, -7.928999900817871, -7.904399871826172, -7.546800136566162, -7.541500091552734, -6.960000038146973, -7.985000133514404, -7.943900108337402, -4.9394001960754395, -5.2245001792907715, -7.101799964904785, -4.751200199127197, -6.05019998550415, -7.015100002288818, -6.097400188446045, -5.570700168609619, -5.096499919891357, -6.882500171661377, -6.166299819946289, -5.8744001388549805, -6.196400165557861, -6.675300121307373, -6.420100212097168, -7.107699871063232, -6.082300186157227, -5.015900135040283, -5.676300048828125, -5.477399826049805, -5.654900074005127, -5.605100154876709, -6.276299953460693, -5.567999839782715, -5.976399898529053, -5.92710018157959, -5.80649995803833, -6.203999996185303, -5.666399955749512, -5.674499988555908, -5.979700088500977, -5.943699836730957, -5.781199932098389, -5.824900150299072, -5.7484002113342285, -5.952300071716309, -5.959099769592285, -6.009699821472168, -6.046899795532227, -6.047100067138672, -5.628600120544434, -6.385300159454346, -6.920599937438965, -7.137899875640869, -7.201300144195557, -7.486400127410889, -7.525899887084961, -7.165299892425537, -7.434500217437744, -7.815299987792969, -7.073599815368652, -7.334799766540527, -7.8144001960754395, -7.8403000831604, -7.81790018081665, -7.154799938201904, -7.820899963378906, -7.048799991607666, -6.985000133514404, -6.805099964141846, -7.589700222015381, -7.716100215911865, -7.936999797821045, -7.487299919128418, -7.507400035858154, -7.976399898529053, -7.8125, -7.8140997886657715, -7.798900127410889, -6.8907999992370605, -7.200200080871582, -7.3470001220703125, -6.322199821472168, -6.80649995803833, -6.609300136566162, -6.073200225830078, -4.9278998374938965, -6.191999912261963, -6.103899955749512, -6.245800018310547, -4.840400218963623, -4.599400043487549, -4.709400177001953, -5.3292999267578125, -4.7677998542785645, -5.233399868011475, -5.8755998611450195, -4.717800140380859, -5.0578999519348145, -5.780099868774414, -4.835000038146973, -6.0254998207092285, -5.775899887084961, -5.1656999588012695, -5.14870023727417, -6.392000198364258, -5.532100200653076, -5.570000171661377, -5.6545000076293945, -5.878799915313721, -5.668700218200684, -5.357999801635742, -5.952499866485596, -5.7565999031066895, -5.63539981842041, -5.628699779510498, -5.7052001953125, -5.816699981689453, -5.781799793243408, -5.895999908447266, -5.894700050354004, -6.670100212097168, -7.388400077819824, -7.3856000900268555, -6.878699779510498, -6.876999855041504, -6.627699851989746, -7.104000091552734, -7.381199836730957, -5.856800079345703, -7.383399963378906, -7.393700122833252, -7.401800155639648, -7.435999870300293, -7.350599765777588, -6.2104997634887695, -7.55709981918335, -7.798500061035156, -7.455100059509277, -6.9028000831604, -5.855100154876709, -7.3831000328063965, -7.784999847412109, -7.802000045776367, -7.5121002197265625, -6.943999767303467, -6.819300174713135, -7.606299877166748, -7.770500183105469, -7.775400161743164, -7.798999786376953, -6.7789998054504395, -6.7204999923706055, -7.156899929046631, -6.586699962615967, -7.168900012969971, -7.132400035858154, -5.828800201416016, -5.335999965667725, -5.850100040435791, -5.841000080108643, -4.843599796295166, -5.890999794006348, -5.644999980926514, -5.1869001388549805, -5.653500080108643, -5.14870023727417, -5.596499919891357, -5.8429999351501465, -6.201900005340576, -5.144800186157227, -5.697299957275391, -5.791500091552734, -5.357699871063232, -5.709700107574463, -5.560800075531006, -5.373600006103516, -5.745299816131592, -5.475800037384033, -5.649600028991699, -5.748000144958496, -5.672500133514404, -5.651299953460693, -5.70419979095459, -5.963799953460693, -5.935400009155273, -5.814300060272217, -5.89900016784668, -5.852099895477295, -6.174699783325195, -7.069799900054932, -7.4492998123168945, -6.990900039672852, -7.454699993133545, -7.475900173187256, -7.516600131988525, -7.4558000564575195, -7.456600189208984, -7.460299968719482, -7.455699920654297, -7.078499794006348, -7.503799915313721, -7.061600208282471, -7.455100059509277, -5.686800003051758, -7.486000061035156, -8.116100311279297, -8.117400169372559, -8.10669994354248, -7.4369001388549805, -8.117500305175781, -7.453700065612793, -8.11769962310791, -8.111700057983398, -8.128899574279785, -8.11400032043457, -8.117600440979004, -8.116399765014648, -8.124300003051758, -6.831099987030029, -6.597700119018555, -6.774499893188477, -7.136000156402588, -5.542600154876709, -7.255899906158447, -5.322500228881836, -6.556099891662598, -7.489799976348877, -6.712399959564209, -6.629799842834473, -4.434700012207031, -6.402400016784668, -5.698299884796143, -5.603300094604492, -5.172900199890137, -6.5980000495910645, -5.686699867248535, -6.568900108337402, -5.617599964141846, -5.302999973297119, -5.091700077056885, -5.161799907684326, -5.645299911499023, -5.56820011138916, -5.542500019073486, -5.421899795532227, -6.139900207519531, -5.671800136566162, -5.625999927520752, -5.294899940490723, -5.746600151062012, -5.642300128936768, -5.855000019073486, -6.202199935913086, -6.105599880218506, -5.543300151824951, -5.777100086212158, -5.672599792480469, -5.619999885559082, -5.790800094604492, -5.858399868011475, -5.700200080871582, -5.763299942016602, -5.762400150299072, -5.851500034332275, -6.933499813079834, -6.2444000244140625, -6.958399772644043, -6.068999767303467, -6.245100021362305, -6.92579984664917, -6.921899795532227, -6.9328999519348145, -6.933899879455566, -6.92519998550415, -6.9268999099731445, -6.9253997802734375, -6.539700031280518, -6.922299861907959, -6.93149995803833, -6.968699932098389, -6.921500205993652, -6.158599853515625, -6.924200057983398, -6.9791998863220215, -7.021200180053711, -6.921999931335449, -6.996099948883057, -6.45550012588501, -6.945799827575684, -6.924300193786621, -7.586699962615967, -7.58050012588501, -7.601799964904785, -7.583600044250488, -7.017499923706055, -6.919899940490723, -5.9471001625061035, -6.481800079345703, -5.559800148010254, -6.554699897766113, -6.241799831390381, -5.839799880981445, -5.838600158691406, -5.260499954223633, -5.3480000495910645, -5.49970006942749, -5.984600067138672, -6.127900123596191, -6.241600036621094, -5.361999988555908, -6.287199974060059, -5.646100044250488, -5.710700035095215, -6.531599998474121, -5.883999824523926, -5.985400199890137, -6.0543999671936035, -6.4293999671936035, -5.831900119781494, -5.757999897003174, -5.959799766540527, -6.107500076293945, -6.221499919891357, -5.986800193786621, -6.0254998207092285, -6.095300197601318, -6.0980000495910645, -6.169099807739258, -6.1402997970581055, -6.1753997802734375, -6.2083001136779785, -6.205399990081787, -6.166399955749512, -6.5177001953125, -6.740300178527832, -6.582200050354004, -7.178999900817871, -7.182799816131592, -7.180799961090088, -7.2129998207092285, -7.306000232696533, -7.180200099945068, -7.1774001121521, -7.178500175476074, -7.177599906921387, -6.55079984664917, -7.177700042724609, -7.183000087738037, -7.1793999671936035, -7.184299945831299, -7.184899806976318, -6.515900135040283, -7.4375, -7.180699825286865, -7.179699897766113, -7.177999973297119, -7.183800220489502, -7.178100109100342, -7.178999900817871, -7.177999973297119, -7.183199882507324, -6.627900123596191, -4.731800079345703, -6.263599872589111, -6.0055999755859375, -6.207099914550781, -5.792799949645996, -5.446700096130371, -5.151400089263916, -5.6184000968933105, -6.513000011444092, -6.118899822235107, -5.593500137329102, -6.1209001541137695, -5.991199970245361, -5.887599945068359, -6.515699863433838, -5.055500030517578, -5.0142998695373535, -5.835400104522705, -5.582799911499023, -5.420400142669678, -5.418700218200684, -5.453000068664551, -6.608099937438965, -5.097400188446045, -5.80810022354126, -5.597599983215332, -5.807199954986572, -5.665800094604492, -5.6732001304626465, -5.8267998695373535, -5.86870002746582, -5.8180999755859375, -5.693600177764893, -5.769999980926514, -5.805099964141846, -5.956200122833252, -5.929699897766113, -6.005499839782715, -6.557000160217285, -6.702700138092041, -6.541600227355957, -6.534200191497803, -6.799900054931641, -7.200699806213379, -6.15369987487793, -7.198200225830078, -7.219200134277344, -7.198599815368652, -7.200200080871582, -6.792200088500977, -7.1992998123168945, -7.207600116729736, -7.213699817657471, -7.2017998695373535, -7.200099945068359, -7.202700138092041, -7.200399875640869, -7.21150016784668, -7.216100215911865, -7.240900039672852, -6.623300075531006, -7.253799915313721, -7.273499965667725, -7.307000160217285, -7.198200225830078, -7.19789981842041, -7.201499938964844, -7.310500144958496, -6.171199798583984, -6.858699798583984, -6.066199779510498, -5.493199825286865, -5.52239990234375, -6.559000015258789, -6.176700115203857, -6.903900146484375, -5.562699794769287, -5.050099849700928, -6.615799903869629, -6.07289981842041, -6.2322001457214355, -6.537700176239014, -5.744200229644775, -6.535200119018555, -6.138400077819824, -6.561999797821045, -6.2758002281188965, -5.818900108337402, -6.229700088500977, -6.594099998474121, -5.85290002822876, -5.679999828338623, -5.73360013961792, -5.8709001541137695, -5.99429988861084, -5.866600036621094, -6.046899795532227, -5.674099922180176, -5.627999782562256, -5.670199871063232, -5.688000202178955, -5.810200214385986, -5.855899810791016, -6.065199851989746, -6.117400169372559, -6.095300197601318, -6.0447998046875, -6.0802001953125, -6.0995001792907715, -6.105899810791016, -6.117599964141846], \"loglift\": [30.0, 29.0, 28.0, 27.0, 26.0, 25.0, 24.0, 23.0, 22.0, 21.0, 20.0, 19.0, 18.0, 17.0, 16.0, 15.0, 14.0, 13.0, 12.0, 11.0, 10.0, 9.0, 8.0, 7.0, 6.0, 5.0, 4.0, 3.0, 2.0, 1.0, 1.510699987411499, 1.5103000402450562, 1.5061999559402466, 1.4983999729156494, 1.4982000589370728, 1.4977999925613403, 1.489799976348877, 1.4846999645233154, 1.4831000566482544, 1.4807000160217285, 1.4774999618530273, 1.469099998474121, 1.466599941253662, 1.4634000062942505, 1.4631999731063843, 1.4620000123977661, 1.4572999477386475, 1.4571000337600708, 1.4479000568389893, 1.4452999830245972, 1.4448000192642212, 1.4420000314712524, 1.4412000179290771, 1.4385000467300415, 1.4354000091552734, 1.4347000122070312, 1.4337999820709229, 1.4318000078201294, 1.4290000200271606, 1.4283000230789185, 1.412500023841858, 1.427299976348877, 1.3759000301361084, 1.3991999626159668, 1.3623000383377075, 1.4107999801635742, 1.2425999641418457, 1.3257999420166016, 1.343999981880188, 1.3179999589920044, 1.3792999982833862, 1.1557999849319458, 1.197100043296814, 1.3767000436782837, 1.0210000276565552, 1.1979999542236328, 0.49970000982284546, 0.7080000042915344, 0.9106000065803528, 0.588100016117096, 0.8409000039100647, 0.4456999897956848, 0.5874999761581421, 0.6733999848365784, 0.8824999928474426, 0.7081999778747559, 0.8467000126838684, 0.3944999873638153, 0.9401999711990356, 0.4106000065803528, 0.5968000292778015, -0.021199999377131462, 0.375, 0.3725999891757965, 0.23970000445842743, -0.04470000043511391, 0.2614000141620636, 0.3490000069141388, 0.011300000362098217, -0.0003000000142492354, 0.07450000196695328, -0.13109999895095825, 0.02930000051856041, 0.26750001311302185, 0.11789999902248383, -0.2563999891281128, 0.16940000653266907, -0.3034000098705292, -0.08760000020265579, -0.492900013923645, 0.513700008392334, 0.11129999905824661, 0.320499986410141, 1.6862000226974487, 1.6506999731063843, 1.645900011062622, 1.6449999809265137, 1.6306999921798706, 1.6282999515533447, 1.6269999742507935, 1.6202000379562378, 1.6201000213623047, 1.6155999898910522, 1.6153000593185425, 1.6150000095367432, 1.614799976348877, 1.6128000020980835, 1.6074999570846558, 1.6064000129699707, 1.6058000326156616, 1.6055999994277954, 1.605299949645996, 1.6049000024795532, 1.6002000570297241, 1.5923999547958374, 1.5915000438690186, 1.5901999473571777, 1.5865999460220337, 1.5848000049591064, 1.5812000036239624, 1.5805000066757202, 1.5770000219345093, 1.5758999586105347, 1.55840003490448, 1.5549999475479126, 1.5396000146865845, 1.482100009918213, 1.533400058746338, 1.3779000043869019, 1.4194999933242798, 1.4050999879837036, 1.424299955368042, 1.4326000213623047, 1.406999945640564, 1.4632999897003174, 1.2404999732971191, 1.2656999826431274, 1.5240999460220337, 1.3073999881744385, 1.330299973487854, 1.4105000495910645, 1.1894999742507935, 1.3884999752044678, 1.3773000240325928, 1.315000057220459, 1.4351999759674072, 1.301900029182434, 1.3082000017166138, 1.0678999423980713, 1.219599962234497, 1.0436999797821045, 1.1895999908447266, 1.2559000253677368, 1.1440999507904053, 0.7961999773979187, 0.650600016117096, 0.6114000082015991, 0.3046000003814697, 0.7300000190734863, 0.9711999893188477, 0.448199987411499, 0.8324999809265137, 0.17550000548362732, 0.4731999933719635, 0.08959999680519104, 0.4632999897003174, 0.6690000295639038, -0.1386999934911728, 0.017400000244379044, 0.398499995470047, -0.13740000128746033, 0.4002000093460083, 0.13449999690055847, 0.01810000091791153, 0.18320000171661377, 0.24220000207424164, -0.30410000681877136, 0.1606999933719635, -0.3456999957561493, 0.24079999327659607, 0.09260000288486481, 0.1517000049352646, 1.7640999555587769, 1.7620999813079834, 1.760699987411499, 1.7604999542236328, 1.7532999515533447, 1.7506999969482422, 1.7496999502182007, 1.7474000453948975, 1.7425999641418457, 1.735700011253357, 1.7309000492095947, 1.729599952697754, 1.7283999919891357, 1.7281999588012695, 1.725100040435791, 1.725100040435791, 1.722100019454956, 1.7128000259399414, 1.7120000123977661, 1.7101000547409058, 1.7045999765396118, 1.7026000022888184, 1.700600028038025, 1.6958999633789062, 1.6908999681472778, 1.687600016593933, 1.6829999685287476, 1.6815999746322632, 1.676900029182434, 1.6712000370025635, 1.669100046157837, 1.6535999774932861, 1.6474000215530396, 1.62090003490448, 1.601099967956543, 1.5555000305175781, 1.4151999950408936, 1.489300012588501, 1.1657999753952026, 1.2111999988555908, 1.3830000162124634, 0.8697999715805054, 0.6195999979972839, 0.8483999967575073, 0.8353000283241272, 0.66839998960495, 0.43709999322891235, 0.38580000400543213, 0.7422000169754028, 0.2865000069141388, 0.7763000130653381, 0.09679999947547913, 0.699999988079071, 0.3596000075340271, 0.36730000376701355, 0.34389999508857727, 0.1656000018119812, 0.2816999852657318, 0.5372999906539917, 0.46219998598098755, 0.2754000127315521, 0.05999999865889549, 1.80239999294281, 1.7747000455856323, 1.7695000171661377, 1.766700029373169, 1.7596999406814575, 1.7523000240325928, 1.750599980354309, 1.7479000091552734, 1.7410999536514282, 1.739400029182434, 1.7369999885559082, 1.7265000343322754, 1.7242000102996826, 1.7208000421524048, 1.719099998474121, 1.718999981880188, 1.7065999507904053, 1.6957999467849731, 1.6929999589920044, 1.6913000345230103, 1.6907999515533447, 1.6898000240325928, 1.6893999576568604, 1.680400013923645, 1.6790000200271606, 1.6785999536514282, 1.6783000230789185, 1.6763999462127686, 1.6685999631881714, 1.6642999649047852, 1.6309000253677368, 1.6114000082015991, 1.6194000244140625, 1.5707999467849731, 1.4682999849319458, 1.351199984550476, 1.2877000570297241, 1.2461999654769897, 0.9674999713897705, 1.2105000019073486, 1.0026999711990356, 0.9815000295639038, 1.1145999431610107, 1.2935999631881714, 1.1353000402450562, 1.2335000038146973, 0.9107999801635742, 0.597599983215332, 0.7287999987602234, 0.41749998927116394, 0.262800008058548, 0.6585999727249146, 0.4255000054836273, 0.43549999594688416, 0.8629000186920166, 0.9352999925613403, 0.4496999979019165, 0.11060000211000443, 0.5910999774932861, -0.03370000049471855, 0.38769999146461487, 0.36660000681877136, -0.14890000224113464, 0.28690001368522644, -0.3612000048160553, 0.23330000042915344, 0.2833999991416931, -0.25380000472068787, -0.040800001472234726, -0.006800000090152025, -0.04699999839067459, -0.05270000174641609, 0.0210999995470047, 2.265899896621704, 2.25600004196167, 2.236799955368042, 2.2295000553131104, 2.2279999256134033, 2.2251999378204346, 2.210599899291992, 2.202899932861328, 2.199700117111206, 2.1875998973846436, 2.1684999465942383, 2.1547999382019043, 2.1386001110076904, 2.1222000122070312, 2.1210999488830566, 2.1201999187469482, 2.1105000972747803, 2.1068999767303467, 2.0957000255584717, 2.0845000743865967, 2.072499990463257, 2.0617001056671143, 2.0592000484466553, 2.0532000064849854, 2.043100118637085, 2.025899887084961, 1.996899962425232, 1.9864000082015991, 1.9560999870300293, 1.9538999795913696, 1.9402999877929688, 1.9027999639511108, 1.8671000003814697, 1.8065999746322632, 1.92739999294281, 1.9200999736785889, 1.8451999425888062, 1.9007999897003174, 1.7139999866485596, 1.1495000123977661, 1.5549999475479126, 1.4321000576019287, 1.363800048828125, 0.7307000160217285, 1.1309000253677368, 0.9682000279426575, 1.3438999652862549, 0.8738999962806702, 0.49880000948905945, 0.45339998602867126, 0.5314000248908997, 0.7551000118255615, 0.824400007724762, 0.8751999735832214, 0.44440001249313354, 0.612500011920929, 0.9660999774932861, 0.11999999731779099, 0.4004000127315521, 0.29339998960494995, 0.5637000203132629, 0.026799999177455902, -0.2531999945640564, 0.24320000410079956, -0.07029999792575836, 0.3231000006198883, 2.511699914932251, 2.4867000579833984, 2.479599952697754, 2.4772000312805176, 2.4514999389648438, 2.447700023651123, 2.446700096130371, 2.433500051498413, 2.398699998855591, 2.391700029373169, 2.368799924850464, 2.3671000003814697, 2.3657000064849854, 2.3529999256134033, 2.3303000926971436, 2.329400062561035, 2.3266000747680664, 2.3259999752044678, 2.316200017929077, 2.3101000785827637, 2.3046998977661133, 2.303100109100342, 2.2985999584198, 2.283400058746338, 2.2730000019073486, 2.265000104904175, 2.247499942779541, 2.245800018310547, 2.2200000286102295, 2.2167999744415283, 2.1665000915527344, 2.1617000102996826, 2.1433000564575195, 1.7335000038146973, 2.211699962615967, 1.5544999837875366, 1.8973000049591064, 2.0648000240325928, 1.4246000051498413, 1.1627000570297241, 1.0354000329971313, 1.3895000219345093, 0.7039999961853027, 1.182800054550171, 0.7732999920845032, 1.5342999696731567, 1.3301000595092773, 0.5695000290870667, 1.8533999919891357, 0.32260000705718994, 1.3717000484466553, 0.4318999946117401, 1.2414000034332275, 0.25859999656677246, 0.5443999767303467, 0.2687000036239624, 0.5188000202178955, 0.04619999974966049, 0.6039999723434448, 0.03370000049471855, 0.24650000035762787, 0.17499999701976776, 0.4237000048160553, -0.20649999380111694, 0.319599986076355, 0.8461999893188477, 0.5533999800682068, 0.29269999265670776, 0.12460000067949295, 0.6833000183105469, 0.40959998965263367, -0.14949999749660492, 0.3781999945640564, 0.12620000541210175, -0.39959999918937683, -0.13009999692440033, 0.30480000376701355, 3.123699903488159, 3.0027999877929688, 2.9730000495910645, 2.9077999591827393, 2.890399932861328, 2.8680999279022217, 2.8559000492095947, 2.8225998878479004, 2.790800094604492, 2.787100076675415, 2.776400089263916, 2.770400047302246, 2.7690999507904053, 2.7499001026153564, 2.7323999404907227, 2.7012999057769775, 2.6837000846862793, 2.6754000186920166, 2.660799980163574, 2.6589999198913574, 2.646899938583374, 2.635699987411499, 2.628999948501587, 2.6173999309539795, 2.6154000759124756, 2.611799955368042, 2.605600118637085, 2.6022000312805176, 2.5892999172210693, 2.589200019836426, 2.581399917602539, 2.5380001068115234, 2.548799991607666, 2.498800039291382, 2.408600091934204, 2.347599983215332, 2.546799898147583, 2.4374001026153564, 2.4375998973846436, 2.428100109100342, 1.8695000410079956, 2.3178000450134277, 2.2232000827789307, 2.1393001079559326, 1.9017000198364258, 1.9931000471115112, 1.9753999710083008, 1.950700044631958, 1.6924999952316284, 2.4035000801086426, 1.7583999633789062, 2.2627999782562256, 2.349100112915039, 0.3767000138759613, 1.73580002784729, 0.16189999878406525, 2.0473999977111816, 0.5789999961853027, 0.1370999962091446, 0.8345000147819519, 0.017000000923871994, 0.6014000177383423, -0.27549999952316284, -0.3118000030517578, 0.7651000022888184, 0.6865000128746033, -0.0869000032544136, 0.1525000035762787, 0.12300000339746475, -0.09920000284910202, -0.4050999879837036, -0.12680000066757202, 0.14970000088214874, 0.13339999318122864, 0.3783000111579895, 0.22769999504089355, 3.5388998985290527, 3.387399911880493, 3.3471999168395996, 3.345099925994873, 3.3287999629974365, 3.242300033569336, 3.2007999420166016, 3.098299980163574, 3.0929999351501465, 3.076900005340576, 3.0471999645233154, 3.015000104904175, 2.979300022125244, 2.964400053024292, 2.941499948501587, 2.9286999702453613, 2.90910005569458, 2.9005000591278076, 2.8929998874664307, 2.891700029373169, 2.8879001140594482, 2.8738999366760254, 2.873199939727783, 2.8622000217437744, 2.8505001068115234, 2.8164000511169434, 2.8087000846862793, 2.8046998977661133, 2.78410005569458, 2.772200107574463, 2.6280999183654785, 2.5662999153137207, 2.1789000034332275, 2.249799966812134, 2.6350998878479004, 2.04830002784729, 2.3131000995635986, 2.5676000118255615, 2.3025999069213867, 2.12280011177063, 1.850000023841858, 2.3747000694274902, 1.794800043106079, 2.459199905395508, 1.7681000232696533, 1.8743000030517578, 1.6057000160217285, 1.3158999681472778, 0.9818999767303467, 0.29510000348091125, 0.6647999882698059, 0.13809999823570251, 2.0896999835968018, 0.33329999446868896, 1.3242000341415405, -0.22499999403953552, 0.6830000281333923, 0.5794000029563904, 0.34220001101493835, -0.1565999984741211, 0.2540999948978424, 0.351500004529953, 0.09549999982118607, -0.15410000085830688, -0.4433000087738037, 0.3239000141620636, -0.2012999951839447, 0.03669999912381172, -0.30300000309944153, -0.020500000566244125, -0.04610000178217888, -0.004900000058114529, 3.946500062942505, 3.631700038909912, 3.515000104904175, 3.478100061416626, 3.477799892425537, 3.4444000720977783, 3.4403998851776123, 3.439500093460083, 3.3415000438690186, 3.336899995803833, 3.2857000827789307, 3.2451000213623047, 3.1635000705718994, 3.1514999866485596, 3.141400098800659, 3.1398000717163086, 3.1250998973846436, 3.1245999336242676, 3.1038999557495117, 3.080699920654297, 3.061800003051758, 3.0601000785827637, 3.046999931335449, 3.039799928665161, 3.0276999473571777, 3.0244998931884766, 2.9964001178741455, 2.9960999488830566, 2.9872000217437744, 2.9860999584198, 2.9853999614715576, 2.7864999771118164, 2.7629001140594482, 2.9189999103546143, 2.2969000339508057, 2.595900058746338, 2.8285000324249268, 2.5625, 2.346299886703491, 2.1498000621795654, 2.6723999977111816, 2.166800022125244, 1.9606000185012817, 2.160099983215332, 2.4035000801086426, 2.161799907684326, 2.729599952697754, 1.5176000595092773, 0.19449999928474426, 0.8197000026702881, 0.3377000093460083, 0.6079000234603882, 0.2249000072479248, 1.3708000183105469, -0.09430000185966492, 0.6953999996185303, 0.5440999865531921, 0.2248000055551529, 1.1009000539779663, -0.19110000133514404, -0.20329999923706055, 0.5748000144958496, 0.41110000014305115, -0.09030000120401382, 0.03530000150203705, -0.30090001225471497, 0.3977999985218048, -0.1370999962091446, -0.07530000060796738, 0.1753000020980835, 0.06909999996423721, 4.060699939727783, 3.9644999504089355, 3.5680999755859375, 3.485599994659424, 3.3691999912261963, 3.344899892807007, 3.3055999279022217, 3.2936999797821045, 3.253000020980835, 3.2188000679016113, 3.205199956893921, 3.201200008392334, 3.174099922180176, 3.169300079345703, 3.1540000438690186, 3.1482999324798584, 3.145900011062622, 3.1415998935699463, 3.1361000537872314, 3.1303999423980713, 3.099400043487549, 3.0943000316619873, 3.0759999752044678, 3.0562000274658203, 3.0481998920440674, 3.036600112915039, 3.015700101852417, 3.0058000087738037, 3.0018999576568604, 3.001499891281128, 2.9711999893188477, 2.938999891281128, 2.7188000679016113, 2.7904999256134033, 2.6451001167297363, 2.455699920654297, 1.8365999460220337, 2.3443000316619873, 2.2090001106262207, 2.2681000232696533, 1.4387999773025513, 1.218999981880188, 1.2160999774932861, 1.6212999820709229, 1.232200026512146, 1.507099986076355, 1.7969000339508057, 0.4925999939441681, 0.7721999883651733, 1.5303000211715698, 0.4839000105857849, 1.7366000413894653, 1.273800015449524, 0.30550000071525574, 0.23569999635219574, 2.1333999633789062, 0.7027000188827515, 0.7555000185966492, 0.862500011920929, 1.2056000232696533, 0.751800000667572, 0.08959999680519104, 1.2533999681472778, 0.7146000266075134, 0.1867000013589859, -0.1551000028848648, -0.2298000007867813, 0.414900004863739, 0.15889999270439148, 0.23919999599456787, 0.03959999978542328, 3.7372000217437744, 3.6308999061584473, 3.6157000064849854, 3.611999988555908, 3.5373001098632812, 3.4902000427246094, 3.4899001121520996, 3.476799964904785, 3.467600107192993, 3.466399908065796, 3.4410998821258545, 3.430299997329712, 3.4103000164031982, 3.341099977493286, 3.329699993133545, 3.2578999996185303, 3.2337000370025635, 3.222100019454956, 3.2155001163482666, 3.19320011138916, 3.190700054168701, 3.186500072479248, 3.164799928665161, 3.156599998474121, 3.100600004196167, 3.0896999835968018, 3.0764999389648438, 3.0316998958587646, 3.021199941635132, 3.0188000202178955, 2.973900079727173, 2.9089999198913574, 2.9410998821258545, 2.81469988822937, 2.872499942779541, 2.8403000831604004, 2.0423998832702637, 1.4045000076293945, 1.7989000082015991, 1.773300051689148, 0.6039000153541565, 1.6302000284194946, 1.3056999444961548, 0.7386000156402588, 1.121000051498413, 0.32260000705718994, 0.9079999923706055, 1.2066999673843384, 1.7093000411987305, 0.06560000032186508, 0.8996000289916992, 1.0396000146865845, 0.26179999113082886, 0.7177000045776367, 0.3797999918460846, -0.05480000004172325, 0.6753000020980835, -0.0005000000237487257, 0.3815999925136566, 0.5630000233650208, 0.32749998569488525, 0.17880000174045563, 0.14169999957084656, 0.6643000245094299, 0.4927000105381012, -0.3407000005245209, 0.22419999539852142, -0.4677000045776367, 3.8352999687194824, 3.642899990081787, 3.6259000301361084, 3.594099998474121, 3.5220000743865967, 3.5111000537872314, 3.456399917602539, 3.432499885559082, 3.2309000492095947, 3.1989998817443848, 3.0636000633239746, 3.0601000785827637, 3.03439998626709, 3.020900011062622, 2.9728000164031982, 2.963099956512451, 2.948699951171875, 2.924499988555908, 2.9147000312805176, 2.890700101852417, 2.890199899673462, 2.876699924468994, 2.876300096511841, 2.8752999305725098, 2.8701000213623047, 2.8685998916625977, 2.8675999641418457, 2.863300085067749, 2.857599973678589, 2.852299928665161, 2.836699962615967, 2.7704999446868896, 2.7483999729156494, 2.766200065612793, 2.575200080871582, 2.7623000144958496, 2.4470999240875244, 2.632499933242798, 2.7651000022888184, 2.53410005569458, 2.4946000576019287, 1.8289999961853027, 2.416100025177002, 2.063699960708618, 1.916700005531311, 1.6029000282287598, 2.431999921798706, 1.4400999546051025, 2.2184998989105225, 1.2867000102996826, 0.9598000049591064, 0.7233999967575073, 0.6565999984741211, 1.0573999881744385, 0.8592000007629395, 0.7487000226974487, 0.512499988079071, 1.5250999927520752, 0.7563999891281128, 0.588699996471405, -0.08460000157356262, 0.7494000196456909, 0.4927999973297119, 0.909500002861023, 1.5608999729156494, 1.2864999771118164, -0.0957999974489212, 0.44519999623298645, 0.1573999971151352, -0.14880000054836273, 0.33239999413490295, 0.4171000123023987, -0.2248000055551529, -0.2896000146865845, -0.44359999895095825, 0.29670000076293945, 4.076499938964844, 4.050899982452393, 4.038599967956543, 4.031400203704834, 3.963200092315674, 3.9570999145507812, 3.9519999027252197, 3.9512999057769775, 3.9502999782562256, 3.943700075149536, 3.94350004196167, 3.936000108718872, 3.9293999671936035, 3.90939998626709, 3.898200035095215, 3.856800079345703, 3.807499885559082, 3.7769999504089355, 3.773200035095215, 3.723299980163574, 3.682800054550171, 3.6524999141693115, 3.5789999961853027, 3.5483999252319336, 3.5355000495910645, 3.467900037765503, 3.4665000438690186, 3.4651999473571777, 3.450500011444092, 3.446500062942505, 3.4375, 3.262700080871582, 2.889699935913086, 3.0752999782562256, 2.4421000480651855, 3.0039000511169434, 2.681299924850464, 2.2156999111175537, 1.8873000144958496, 0.9617000222206116, 0.8499000072479248, 0.9962000250816345, 1.8549000024795532, 2.129300117492676, 2.3043999671936035, 0.10920000076293945, 2.2813000679016113, 0.46299999952316284, 0.5530999898910522, 2.787400007247925, 0.7599999904632568, 0.9634000062942505, 1.1611000299453735, 2.3501999378204346, 0.19939999282360077, -0.13850000500679016, 0.5946999788284302, 0.6834999918937683, 1.0642999410629272, -0.7764999866485596, -0.5519000291824341, 0.027899999171495438, -0.6226999759674072, 0.20010000467300415, -0.6927000284194946, -0.484499990940094, 0.6227999925613403, -0.3903999924659729, 4.593299865722656, 4.270100116729736, 4.091400146484375, 4.051799774169922, 3.851099967956543, 3.7909998893737793, 3.7892000675201416, 3.7418999671936035, 3.6867001056671143, 3.683799982070923, 3.6619999408721924, 3.6610000133514404, 3.658600091934204, 3.6403000354766846, 3.639699935913086, 3.6317999362945557, 3.62280011177063, 3.6124000549316406, 3.6122000217437744, 3.5889999866485596, 3.5882999897003174, 3.5278000831604004, 3.5250000953674316, 3.5216000080108643, 3.5148000717163086, 3.512399911880493, 3.5037999153137207, 3.5009000301361084, 3.498199939727783, 3.490499973297119, 3.3859000205993652, 3.423799991607666, 3.326900005340576, 3.3327999114990234, 3.1259000301361084, 2.6373000144958496, 2.3138999938964844, 2.54830002784729, 3.0164999961853027, 2.6521999835968018, 2.1684999465942383, 2.5973000526428223, 2.4260001182556152, 2.2829999923706055, 2.9061999320983887, 1.1792999505996704, 1.1298999786376953, 2.038800001144409, 1.722100019454956, 1.4256000518798828, 1.357100009918213, 1.3114999532699585, 2.9718000888824463, 0.3779999911785126, 1.5013999938964844, 0.829800009727478, 1.3194999694824219, 0.6097000241279602, 0.5376999974250793, 1.0776000022888184, 1.1049000024795532, 0.8223999738693237, -0.4832000136375427, 0.060100000351667404, 0.19480000436306, 0.8964999914169312, 0.10159999877214432, 1.2101000547409058, 4.562300205230713, 4.342299938201904, 4.171000003814697, 4.0960001945495605, 4.035900115966797, 3.8524999618530273, 3.843600034713745, 3.8245999813079834, 3.8213000297546387, 3.816800117492676, 3.805500030517578, 3.8036000728607178, 3.796099901199341, 3.7862000465393066, 3.7795000076293945, 3.77839994430542, 3.775399923324585, 3.77239990234375, 3.768399953842163, 3.764899969100952, 3.750200033187866, 3.7434000968933105, 3.736599922180176, 3.733599901199341, 3.6854000091552734, 3.664299964904785, 3.6631999015808105, 3.6535000801086426, 3.6484999656677246, 3.648200035095215, 3.5378000736236572, 3.602299928665161, 3.4214000701904297, 3.24780011177063, 3.0657999515533447, 3.3622000217437744, 3.0143001079559326, 3.49399995803833, 2.4247000217437744, 1.9980000257492065, 3.263200044631958, 2.79830002784729, 2.8587000370025635, 3.0708999633789062, 2.172800064086914, 3.0088999271392822, 2.541800022125244, 3.0114998817443848, 2.6459999084472656, 1.7226999998092651, 2.3282999992370605, 2.8847999572753906, 1.5882999897003174, 0.9916999936103821, 1.0913000106811523, 1.332200050354004, 1.2520999908447266, 0.8148999810218811, 1.3080999851226807, -0.22660000622272491, -0.41760000586509705, -0.2858000099658966, -0.21439999341964722, 0.18790000677108765, -0.16500000655651093, 0.8360999822616577, 1.021399974822998, 0.5799999833106995, -0.4253000020980835, 0.07590000331401825, 0.09839999675750732, 0.3352000117301941, -0.008500000461935997]}, \"token.table\": {\"Topic\": [3, 5, 6, 1, 2, 3, 4, 6, 7, 8, 9, 15, 1, 3, 5, 6, 2, 1, 6, 9, 12, 13, 14, 3, 7, 9, 1, 12, 1, 2, 14, 1, 2, 3, 4, 5, 6, 7, 8, 9, 10, 12, 15, 4, 5, 6, 14, 1, 2, 3, 4, 5, 6, 7, 8, 9, 10, 11, 13, 14, 3, 4, 14, 6, 7, 8, 15, 6, 7, 8, 2, 4, 1, 3, 4, 5, 7, 11, 3, 5, 12, 14, 1, 2, 6, 8, 2, 3, 13, 2, 8, 15, 1, 1, 2, 4, 10, 1, 2, 4, 6, 1, 2, 5, 6, 8, 14, 1, 2, 3, 4, 5, 6, 7, 8, 9, 10, 11, 12, 13, 15, 1, 4, 11, 4, 2, 2, 8, 10, 12, 1, 2, 3, 4, 5, 6, 7, 8, 9, 10, 11, 12, 15, 2, 4, 9, 12, 2, 7, 13, 1, 3, 8, 9, 1, 2, 6, 1, 2, 3, 4, 5, 6, 8, 12, 14, 1, 2, 3, 6, 11, 13, 6, 1, 2, 7, 13, 1, 7, 9, 1, 2, 3, 9, 10, 1, 2, 3, 4, 5, 6, 7, 8, 9, 10, 15, 1, 7, 15, 1, 2, 3, 4, 5, 6, 7, 8, 9, 10, 11, 12, 13, 14, 15, 1, 3, 7, 12, 1, 4, 10, 11, 3, 4, 1, 2, 6, 7, 9, 1, 3, 5, 10, 11, 12, 1, 3, 4, 11, 3, 4, 10, 1, 2, 6, 7, 8, 4, 8, 13, 14, 1, 3, 6, 1, 2, 3, 4, 5, 6, 7, 8, 9, 10, 11, 13, 1, 3, 4, 5, 6, 7, 8, 6, 7, 8, 2, 8, 11, 13, 2, 6, 8, 11, 13, 2, 1, 4, 5, 8, 9, 4, 5, 1, 2, 12, 1, 7, 1, 2, 3, 4, 5, 6, 7, 8, 9, 10, 11, 12, 13, 14, 15, 1, 2, 7, 9, 13, 1, 8, 1, 4, 5, 8, 1, 2, 3, 5, 6, 7, 8, 9, 12, 13, 15, 4, 11, 2, 7, 1, 2, 13, 2, 4, 9, 1, 2, 3, 4, 5, 6, 7, 8, 10, 11, 1, 3, 4, 10, 1, 2, 3, 6, 7, 1, 2, 3, 4, 5, 6, 7, 8, 9, 10, 11, 12, 13, 15, 4, 5, 2, 1, 2, 3, 4, 6, 7, 8, 11, 13, 1, 6, 7, 14, 15, 3, 4, 5, 1, 2, 3, 7, 10, 13, 1, 2, 6, 7, 9, 11, 1, 12, 1, 9, 1, 2, 7, 12, 14, 1, 2, 6, 7, 8, 9, 11, 1, 1, 3, 4, 12, 1, 3, 5, 6, 8, 12, 13, 1, 2, 3, 4, 5, 6, 7, 8, 9, 10, 11, 12, 13, 3, 5, 10, 1, 2, 7, 12, 2, 5, 6, 8, 15, 5, 6, 12, 1, 1, 2, 5, 8, 1, 5, 10, 12, 13, 1, 4, 5, 8, 10, 1, 1, 2, 3, 4, 5, 6, 7, 8, 9, 10, 11, 12, 13, 1, 2, 3, 4, 5, 6, 7, 8, 9, 10, 11, 12, 14, 1, 2, 7, 9, 1, 7, 8, 14, 2, 3, 5, 7, 12, 1, 10, 11, 12, 3, 4, 5, 6, 8, 3, 5, 8, 14, 1, 1, 6, 12, 1, 2, 3, 4, 5, 6, 7, 8, 9, 10, 11, 12, 13, 2, 8, 13, 2, 6, 7, 10, 5, 9, 1, 2, 3, 4, 5, 6, 7, 9, 11, 3, 4, 5, 6, 10, 11, 12, 1, 2, 3, 4, 5, 8, 1, 2, 6, 7, 3, 4, 1, 2, 3, 4, 5, 6, 7, 8, 10, 11, 1, 2, 6, 13, 2, 6, 8, 13, 1, 3, 10, 3, 5, 10, 3, 7, 13, 4, 5, 8, 9, 1, 2, 3, 4, 5, 7, 8, 10, 4, 1, 2, 3, 4, 5, 6, 7, 8, 9, 10, 11, 12, 13, 14, 15, 1, 2, 3, 4, 5, 6, 8, 9, 10, 11, 12, 14, 2, 3, 4, 9, 1, 2, 3, 6, 8, 10, 12, 3, 4, 10, 13, 15, 2, 11, 13, 2, 4, 11, 1, 4, 9, 3, 5, 7, 15, 1, 5, 7, 9, 5, 6, 1, 2, 15, 2, 3, 4, 15, 1, 4, 5, 7, 10, 1, 4, 7, 8, 13, 2, 5, 1, 2, 7, 8, 15, 1, 2, 3, 4, 5, 9, 11, 12, 1, 2, 3, 4, 5, 6, 7, 8, 9, 10, 11, 1, 2, 3, 4, 5, 6, 7, 8, 9, 10, 11, 12, 13, 14, 15, 3, 2, 6, 1, 2, 6, 7, 1, 2, 6, 7, 8, 9, 13, 2, 6, 11, 1, 2, 6, 8, 9, 14, 4, 1, 2, 3, 6, 7, 12, 13, 4, 5, 8, 1, 2, 3, 4, 5, 6, 7, 8, 9, 10, 11, 12, 3, 4, 5, 12, 14, 3, 4, 1, 2, 6, 7, 8, 12, 13, 1, 2, 3, 4, 5, 6, 7, 8, 9, 10, 11, 12, 13, 14, 15, 1, 2, 3, 4, 5, 6, 7, 8, 10, 11, 12, 14, 1, 2, 3, 4, 5, 6, 7, 9, 11, 12, 14, 3, 4, 5, 6, 12, 6, 9, 2, 1, 7, 8, 1, 2, 3, 4, 5, 6, 7, 8, 10, 11, 12, 13, 3, 4, 2, 8, 13, 2, 4, 1, 4, 6, 11, 1, 4, 8, 9, 1, 2, 7, 8, 9, 1, 2, 3, 4, 6, 7, 8, 9, 13, 15, 1, 8, 13, 15, 8, 9, 3, 4, 5, 5, 8, 11, 1, 1, 6, 9, 10, 12, 2, 4, 7, 9, 1, 2, 7, 11, 1, 2, 8, 9, 11, 2, 6, 8, 9, 13, 15, 1, 4, 8, 11, 14, 3, 5, 6, 9, 13, 6, 8, 12, 15, 4, 10, 12, 13, 14, 6, 8, 1, 2, 3, 10, 1, 2, 14, 3, 10, 11, 1, 2, 3, 4, 5, 6, 7, 8, 9, 10, 11, 12, 13, 15, 1, 2, 3, 4, 5, 6, 7, 8, 9, 10, 11, 12, 13, 15, 1, 2, 3, 6, 7, 8, 11, 2, 3, 4, 12, 15, 1, 2, 3, 4, 5, 6, 7, 8, 9, 10, 11, 12, 13, 1, 2, 3, 4, 5, 6, 7, 8, 9, 12, 4, 1, 3, 4, 5, 6, 7, 14, 1, 2, 3, 4, 5, 7, 1, 2, 4, 5, 6, 15, 1, 2, 3, 4, 5, 6, 7, 8, 10, 1, 2, 7, 8, 9, 15, 1, 3, 4, 5, 6, 10, 11, 3, 10, 1, 2, 6, 7, 11, 1, 9, 1, 3, 4, 5, 6, 8, 10, 11, 12, 3, 4, 1, 2, 9, 13, 2, 13, 3, 4, 5, 9, 14, 1, 2, 3, 4, 5, 6, 7, 8, 9, 10, 11, 12, 15, 1, 2, 3, 4, 6, 7, 8, 9, 11, 13, 15, 1, 4, 13, 14, 2, 3, 9, 15, 2, 7, 11, 13, 1, 8, 9, 15, 4, 4, 3, 11, 12, 4, 6, 4, 1, 1, 5, 6, 7, 1, 1, 1, 2, 6, 7, 8, 9, 13, 1, 2, 3, 4, 5, 6, 7, 8, 9, 10, 11, 1, 2, 3, 4, 5, 6, 7, 12, 13, 2, 8, 1, 2, 7, 8, 13, 2, 7, 1, 2, 7, 1, 8, 9, 1, 2, 3, 4, 5, 6, 7, 8, 9, 10, 11, 12, 13, 15, 1, 2, 4, 5, 6, 7, 8, 1, 2, 9, 12, 1, 2, 3, 4, 5, 6, 8, 9, 11, 12, 2, 7, 15, 1, 2, 3, 4, 5, 7, 11, 14, 1, 4, 5, 11, 14, 2, 6, 12, 1, 3, 4, 11, 3, 10, 11, 2, 5, 6, 8, 13, 2, 1, 3, 8, 1, 2, 3, 4, 5, 6, 7, 8, 9, 10, 11, 12, 13, 15, 2, 6, 15, 1, 2, 3, 4, 5, 6, 7, 8, 9, 10, 11, 12, 13, 1, 2, 12, 13, 1, 2, 3, 4, 5, 6, 7, 8, 9, 10, 11, 12, 13, 14, 15, 1, 3, 4, 5, 6, 7, 9, 10, 12, 13, 14, 1, 2, 3, 4, 5, 6, 7, 8, 9, 10, 11, 12, 15, 1, 2, 6, 7, 1, 2, 3, 4, 5, 6, 7, 8, 9, 10, 11, 12, 13, 14, 15, 4, 6, 7, 9, 11, 12, 1, 2, 3, 4, 5, 6, 7, 8, 9, 10, 11, 12, 13, 14, 1, 6, 8, 11, 1, 2, 3, 4, 5, 6, 7, 8, 9, 11, 12, 13, 1, 6, 9, 1, 2, 3, 4, 5, 6, 7, 8, 9, 10, 11, 12, 13, 14, 15, 1, 2, 3, 4, 5, 6, 7, 8, 9, 10, 11, 12, 14, 4, 7, 9, 1, 2, 3, 4, 5, 6, 7, 8, 9, 10, 11, 12, 13, 14, 3, 4, 5, 1, 12, 2, 6, 2, 8, 6, 8, 10, 13, 1, 2, 4, 7, 8, 15, 4, 5, 6, 8, 1, 6, 11, 3, 5, 4, 5, 8, 1, 2, 3, 4, 5, 6, 8, 9, 12, 14, 1, 2, 3, 4, 5, 6, 7, 8, 9, 10, 11, 12, 13, 14, 15, 3, 4, 14, 2, 6, 7, 2, 7, 9, 1, 2, 6, 8, 9, 11, 15, 2, 6, 7, 8, 9, 1, 2, 3, 4, 5, 6, 10, 11, 12, 1, 2, 6, 7, 8, 9, 11, 13, 1, 2, 3, 4, 5, 6, 7, 8, 9, 10, 11, 15, 1, 7, 4, 6, 7, 9, 14, 1, 3, 6, 12, 7, 8, 12, 7, 1, 2, 3, 4, 5, 6, 7, 8, 10, 11, 13, 4, 5, 8, 1, 2, 12, 1, 2, 5, 6, 12, 1, 2, 4, 5, 6, 12, 15, 1, 2, 3, 4, 5, 6, 8, 9, 10, 13, 14, 1, 2, 6, 7, 1, 2, 3, 4, 5, 6, 7, 8, 9, 10, 11, 12, 14, 2, 6, 13, 1, 2, 3, 4, 5, 6, 7, 8, 9, 11, 13, 3, 5, 10, 11, 1, 2, 3, 4, 5, 6, 7, 8, 9, 10, 11, 12, 13, 14, 15, 4, 5, 8, 1, 2, 4, 6, 7, 8, 11, 1, 2, 4, 6, 7, 9, 10, 11, 3, 10, 1, 7, 9, 12, 1, 2, 3, 4, 5, 6, 7, 8, 9, 10, 11, 12, 13, 14, 1, 2, 3, 5, 7, 11, 2, 1, 7, 13, 1, 3, 4, 9, 10, 11, 1, 2, 8, 9, 1, 10, 2, 1, 2, 3, 4, 5, 6, 7, 8, 9, 11, 12, 1, 2, 3, 4, 5, 6, 7, 8, 9, 10, 11, 12, 13, 14, 1, 2, 3, 4, 5, 6, 7, 8, 9, 11, 12, 1, 2, 3, 4, 5, 6, 7, 8, 9, 10, 11, 12, 14, 15, 1, 2, 3, 4, 5, 6, 7, 8, 9, 10, 11, 12, 13, 14, 5, 7, 5, 6, 12, 1, 3, 9, 12, 2, 15, 2, 3, 10, 2, 5, 6, 10, 1, 2, 3, 4, 5, 6, 10, 11, 3, 4, 5, 10, 11, 1, 2, 3, 4, 5, 6, 7, 8, 9, 10, 11, 12, 13, 14, 3, 1, 2, 3, 4, 5, 6, 7, 8, 9, 10, 11, 12, 13, 14, 15, 3, 4, 5, 8, 10, 6, 1, 2, 3, 4, 5, 6, 7, 8, 9, 10, 11, 12, 13, 14, 15, 1, 2, 3, 4, 5, 6, 7, 8, 9, 10, 11, 12, 13, 14, 15, 1, 2, 6, 8, 2, 6, 8, 9, 15, 1, 3, 10, 12, 4, 5, 8, 3, 4, 5, 10, 11, 12, 1, 2, 3, 4, 5, 6, 9, 10, 1, 2, 3, 4, 5, 7, 15, 2, 1, 2, 3, 4, 5, 6, 7, 8, 9, 10, 11, 12, 6, 7, 1, 2, 3, 4, 5, 6, 7, 8, 9, 10, 11, 12, 13, 14, 4, 5, 10, 14, 1, 2, 6, 7, 8, 9, 11, 13, 1, 5, 1, 2, 7, 8, 9, 6, 8, 1, 2, 3, 5, 8, 10, 12, 3, 4, 5, 7, 8, 9, 10, 11, 12, 14, 1, 6, 8, 13, 1, 2, 6, 12, 1, 7, 2, 4, 6, 15, 1, 12, 14, 1, 2, 3, 4, 5, 6, 7, 8, 10, 1, 6, 7, 9, 10, 11, 1, 2, 3, 4, 5, 8, 13, 2, 6, 12, 15, 6, 9, 10, 5, 11, 1, 2, 4, 6, 12, 14, 1, 8, 13, 3, 10, 2, 6, 7, 1, 2, 3, 4, 5, 6, 8, 9, 10, 12, 1, 6, 12, 2, 1, 2, 7, 9, 13, 4, 3, 4, 5, 1, 2, 3, 4, 5, 6, 7, 8, 9, 10, 11, 12, 2, 9, 4, 5, 5, 10, 12, 2, 6, 7, 5, 1, 2, 3, 4, 5, 6, 7, 8, 9, 14, 1, 2, 3, 4, 5, 6, 7, 8, 9, 10, 11, 12, 13, 14, 1, 3, 11, 1, 2, 4, 6, 7, 8, 9, 12, 1, 2, 8, 12, 1, 2, 3, 4, 5, 6, 7, 8, 9, 10, 11, 12, 13, 1, 3, 4, 5, 6, 10, 11, 3, 10, 1, 2, 3, 4, 5, 6, 7, 8, 9, 10, 11, 12, 13, 14, 15, 1, 2, 3, 4, 6, 7, 9, 13, 1, 2, 3, 5, 6, 7, 8, 9, 14, 1, 2, 3, 4, 5, 6, 7, 8, 9, 10, 11, 12, 13, 14, 15, 3, 1, 2, 3, 4, 5, 6, 7, 8, 10, 11, 12, 13, 1, 2, 6, 7, 8, 13, 1, 7, 12, 13, 6, 7, 12, 1, 2, 3, 4, 5, 6, 7, 8, 9, 10, 11, 12, 13, 1, 6, 10, 1, 2, 13, 1, 4, 6, 8, 10, 2, 7, 9, 13, 1, 2, 3, 4, 6, 7, 8, 9, 11, 15, 1, 2, 3, 4, 5, 6, 7, 8, 9, 10, 11, 12, 1, 2, 3, 4, 5, 6, 7, 8, 9, 10, 12, 13, 14, 2, 3, 7, 11, 15, 1, 2, 2, 7, 15, 1, 2, 3, 4, 5, 6, 7, 8, 9, 10, 11, 12, 13, 14, 1, 2, 3, 4, 5, 6, 7, 8, 9, 10, 11, 13, 1, 14, 1, 2, 3, 4, 5, 6, 7, 8, 9, 10, 11, 12, 13, 15, 1, 2, 3, 4, 5, 6, 7, 8, 10, 11, 15, 1, 2, 3, 4, 6, 7, 9, 10, 13, 1, 2, 3, 4, 5, 6, 7, 8, 9, 10, 11, 12, 13, 14, 15, 1, 2, 3, 4, 5, 6, 7, 8, 9, 10, 11, 12, 13, 14, 1, 4, 5, 8, 9, 1, 2, 4, 6, 7, 9, 11, 12, 13, 14, 1, 2, 4, 5, 7, 12, 1, 2, 3, 4, 5, 6, 7, 8, 9, 10, 11, 12, 13, 14, 15, 4, 5, 8, 3, 1, 2, 3, 4, 5, 6, 7, 8, 9, 10, 11, 12, 13, 14, 15, 1, 2, 3, 4, 5, 6, 7, 8, 9, 10, 11, 12, 13, 14, 15, 1, 2, 3, 4, 5, 6, 7, 8, 9, 10, 11, 12, 14, 1, 2, 3, 4, 5, 6, 7, 10, 11, 12, 1, 7, 9, 4, 5, 8, 4, 5, 1, 2, 3, 4, 5, 6, 7, 9, 11, 7, 8, 9, 1, 6, 7, 8, 12, 1, 2, 3, 4, 7, 9, 11, 4, 5, 8, 1, 1, 2, 3, 6, 7, 8, 9, 10, 12, 1, 2, 6, 7, 9, 11, 13, 15, 2, 7, 11, 4, 3, 4, 5, 7, 9, 1, 2, 7, 2, 6, 8, 2, 15, 1, 2, 3, 4, 5, 6, 7, 8, 9, 10, 11, 12, 13, 1, 6, 3, 10, 11, 1, 2, 6, 1, 3, 4, 1, 3, 4, 5, 7, 2, 6, 7, 11, 1, 2, 3, 4, 5, 6, 7, 8, 10, 12, 3, 4, 5, 10, 11, 1, 2, 4, 5, 6, 7, 8, 9, 10, 12, 1, 6, 10, 13, 1, 2, 3, 4, 5, 6, 7, 8, 9, 12, 14, 1, 2, 6, 8, 9, 13, 15, 2, 9, 1, 2, 5, 6, 7, 8, 9, 11, 12, 4, 5, 8, 2, 7, 8, 13, 1, 3, 4, 5, 3, 4, 1, 2, 6, 7, 8, 13, 1, 11, 12, 5, 12, 1, 12, 14, 1, 5, 1, 2, 3, 4, 5, 6, 7, 8, 9, 10, 11, 12, 13, 15, 1, 5, 8, 9, 1, 2, 3, 4, 5, 6, 10, 1, 2, 3, 4, 5, 6, 7, 8, 9, 10, 11, 12, 13, 1, 6, 8, 1, 1, 2, 7, 1, 2, 3, 4, 5, 6, 7, 8, 9, 10, 11, 12, 13, 1, 2, 6, 7, 9, 5, 10, 1, 2, 6, 7, 8, 9, 12, 13, 15, 1, 7, 8, 1, 2, 3, 4, 5, 6, 7, 8, 9, 10, 11, 12, 14, 15, 4, 6, 3, 4, 8, 1, 2, 3, 4, 5, 10, 11, 1, 7, 11, 2, 3, 13, 2, 5, 10, 11, 1, 2, 8, 11, 1, 8, 11, 13, 1, 2, 3, 4, 5, 6, 7, 8, 9, 10, 11, 12, 15, 1, 2, 7, 8, 1, 2, 3, 4, 5, 6, 7, 8, 9, 10, 11, 15, 2, 4, 5, 8, 1, 2, 3, 4, 5, 6, 7, 8, 9, 10, 11, 12, 14, 15, 1, 2, 3, 4, 5, 6, 7, 8, 9, 10, 11, 12, 13, 2, 7, 11, 1, 7, 13, 3, 7, 9, 5, 3, 4, 5, 12, 2, 9, 2, 7, 1, 2, 6, 7, 2, 15, 1, 4, 5, 1, 2, 3, 4, 5, 6, 7, 8, 9, 10, 11, 12, 15, 1, 2, 3, 4, 5, 6, 7, 8, 9, 10, 11, 12, 13, 14, 2, 7, 2, 7, 8, 9, 3, 4, 4, 1, 2, 11, 1, 2, 3, 4, 5, 6, 7, 8, 9, 10, 12, 1, 2, 4, 13, 15, 1, 6, 9, 15, 1, 7, 8, 1, 2, 3, 4, 5, 6, 7, 8, 9, 11, 12, 13, 1, 2, 3, 4, 5, 6, 7, 10, 11, 1, 2, 6, 7, 9, 13, 1, 8, 13, 3, 1, 2, 6, 7, 9, 11, 13, 1, 2, 6, 7, 9, 6, 8, 11, 15, 2, 6, 7, 8, 9, 13, 15, 4, 5, 7, 1, 2, 3, 6, 7, 10, 15, 2, 6, 7, 8, 9, 13, 1, 2, 3, 4, 5, 6, 7, 8, 9, 10, 11, 12, 13, 14, 2, 3, 5, 10, 3, 10, 11, 12, 1, 2, 7, 12, 2, 7, 12, 1, 9, 11, 13, 2, 6, 4, 5, 1, 2, 3, 4, 6, 7, 8, 9, 11, 14, 15, 1, 2, 3, 4, 7, 8, 9, 2, 7, 2, 1, 12, 13, 1, 2, 3, 4, 5, 6, 7, 8, 9, 10, 11, 12, 13, 2, 1, 2, 3, 4, 5, 6, 7, 8, 9, 10, 11, 12, 13, 2, 8, 14, 2, 7, 10, 1, 2, 6, 11, 1, 6, 1, 2, 3, 4, 5, 6, 7, 8, 9, 10, 11, 12, 15, 2, 9, 10, 12, 15, 1, 2, 3, 4, 5, 6, 9, 10, 12, 14, 1, 2, 3, 4, 5, 6, 7, 8, 9, 10, 11, 12, 13, 15, 1, 3, 4, 8, 14, 1, 2, 3, 4, 5, 6, 7, 8, 9, 10, 11, 13, 15, 1, 2, 6, 7, 2, 6, 10, 1, 2, 3, 8, 1, 2, 3, 4, 5, 6, 9, 12, 2, 8, 15, 3, 7, 10, 11, 1, 2, 3, 4, 5, 8, 2, 11, 2, 6, 9, 10, 1, 2, 3, 8, 9, 1, 2, 5, 6, 7, 8, 9, 11, 15, 1, 2, 6, 7, 8, 9, 15, 1, 2, 9, 11, 1, 2, 7, 9, 2, 4, 6, 9, 1, 2, 7, 8, 13, 2, 7, 1, 2, 9, 3, 11, 12, 2, 9, 13, 2, 12, 1, 2, 3, 4, 5, 6, 7, 8, 9, 10, 11, 12, 13, 15, 4, 2, 5, 7, 10, 1, 4, 8, 10, 12, 1, 2, 6, 12, 1, 4, 5, 8, 3, 6, 15, 1, 3, 6, 12, 1, 4, 10, 15, 1, 6, 15, 2, 1, 2, 3, 4, 5, 6, 7, 8, 9, 10, 11, 14, 1, 2, 8, 15, 1, 2, 3, 8, 2, 4, 11, 14, 1, 2, 3, 4, 6, 10, 11, 2, 8, 2, 8, 9, 13, 15, 1, 3, 6, 10, 2, 4, 8, 14, 3, 1, 2, 10, 11, 1, 2, 6, 9, 10, 12, 1, 3, 4, 5, 9, 1, 2, 6, 7, 9, 10, 12, 14, 1, 2, 6, 7, 8, 10, 11, 1, 2, 3, 4, 5, 6, 7, 8, 9, 10, 11, 12, 13, 15, 1, 6, 2, 7, 1, 2, 4, 6, 8, 9, 12, 1, 2, 3, 4, 5, 6, 7, 8, 9, 10, 11, 12, 13, 15, 1, 3, 13, 1, 2, 6, 7, 8, 9, 2, 7, 10, 1, 2, 3, 6, 7, 8, 9, 12, 14, 4, 6, 8, 2, 3, 8, 12, 3, 4, 5, 9, 10, 1, 2, 3, 4, 5, 6, 7, 8, 9, 10, 11, 12, 13, 15, 1, 2, 3, 4, 5, 6, 7, 8, 11, 12, 15, 1, 1, 2, 5, 6, 7, 9, 1, 7, 12, 3, 5, 9, 10, 14, 4, 5, 7, 15, 1, 2, 3, 5, 6, 7, 9, 10, 11, 12, 1, 4, 6, 9, 11, 1, 2, 3, 4, 5, 6, 8, 10, 12, 15, 1, 2, 3, 4, 5, 6, 7, 8, 10, 11, 13, 14, 3, 11, 2, 6, 7, 8, 1, 2, 3, 4, 5, 6, 7, 8, 9, 10, 11, 12, 14, 4, 6, 9, 1, 2, 4, 5, 6, 8, 9, 12, 14, 1, 7, 2, 12, 13, 1, 14, 1, 2, 4, 10, 1, 2, 3, 4, 5, 6, 7, 9, 10, 12, 13, 15, 1, 2, 3, 4, 5, 6, 7, 8, 9, 10, 11, 12, 1, 2, 3, 4, 5, 6, 8, 9, 10, 12, 14, 1, 5, 11, 14, 1, 2, 4, 5, 6, 10, 14, 15, 6, 2, 2, 1, 4, 6, 7, 15, 3, 1, 3, 4, 10, 11, 13, 2, 11, 1, 2, 3, 4, 5, 6, 7, 8, 9, 10, 11, 12, 13, 15, 1, 2, 7, 2, 7, 4, 1, 2, 3, 4, 5, 6, 7, 8, 10, 11, 12, 1, 2, 3, 4, 5, 6, 7, 8, 9, 10, 11, 12, 13, 14, 15, 1, 2, 3, 4, 5, 6, 7, 8, 9, 10, 11, 12, 1, 2, 7, 10, 1, 2, 3, 4, 5, 6, 7, 8, 9, 10, 11, 13, 1, 2, 3, 6, 7, 8, 14, 2, 1, 2, 3, 4, 5, 6, 7, 8, 9, 10, 11, 12, 13, 1, 2, 4, 5, 6, 7, 8, 9, 10, 12, 1, 2, 1, 1, 2, 3, 4, 5, 6, 7, 8, 9, 12, 13, 3, 7, 13, 1, 6, 7, 12, 1, 2, 3, 4, 5, 6, 7, 8, 9, 11, 12, 14, 1, 2, 3, 4, 12, 13, 5, 8, 1, 2, 3, 4, 6, 7, 9, 10, 6, 8, 1, 2, 3, 5, 8, 11, 13, 1, 2, 3, 4, 5, 6, 7, 8, 9, 10, 11, 12, 13, 14, 1, 2, 10, 12, 1, 2, 3, 4, 5, 6, 7, 8, 15, 3, 5, 10, 3, 3, 11, 1, 2, 6, 7, 10, 12, 6, 9, 11, 1, 9, 11, 1, 9, 13, 1, 2, 3, 4, 5, 8, 9, 10, 1, 3, 5, 10, 11, 3, 4, 12, 1, 2, 3, 6, 7, 8, 9, 11, 15, 1, 2, 3, 4, 5, 6, 7, 8, 9, 10, 11, 12, 13, 15, 1, 2, 3, 6, 1, 2, 6, 1, 2, 3, 4, 5, 6, 7, 8, 9, 10, 11, 12, 13, 14, 15, 1, 2, 3, 4, 5, 6, 7, 8, 9, 10, 11, 12, 13, 14, 15, 1, 2, 6, 12, 14, 1, 2, 3, 4, 5, 6, 7, 8, 9, 10, 11, 12, 13, 14, 15, 1, 2, 3, 4, 5, 6, 7, 8, 9, 10, 11, 12, 14, 1, 13, 1, 2, 5, 7, 12, 14, 1, 2, 3, 4, 5, 6, 7, 8, 9, 10, 11, 12, 13, 15, 1, 9, 15, 1, 2, 3, 4, 5, 6, 7, 8, 9, 10, 11, 12, 13, 15, 1, 2, 3, 4, 5, 6, 7, 8, 9, 10, 11, 12, 14, 15, 1, 2, 4, 11, 12, 15, 1, 2, 5, 14, 15, 3, 6, 7, 1, 8, 10, 2, 1, 4, 7, 1, 2, 4, 10, 1, 2, 3, 4, 5, 6, 7, 8, 9, 10, 11, 12, 13, 14, 15, 1, 2, 7, 8, 3, 1, 2, 3, 4, 5, 6, 7, 8, 9, 10, 11, 12, 5, 6, 10, 13, 1, 4, 12, 14, 4, 3, 4, 6, 12, 14, 6, 11, 3, 4, 6, 14, 1, 7, 10, 12, 4, 2, 6, 1, 2, 7, 9, 13, 1, 3, 4, 6, 7, 11, 12, 13, 1, 2, 6, 7, 8, 12, 1, 5, 12, 13, 2, 6, 8, 1, 2, 6, 7, 11, 2, 1, 2, 8, 12, 15, 1, 2, 3, 4, 5, 6, 7, 8, 9, 10, 11, 12, 13, 15, 1, 2, 3, 4, 15, 1, 2, 7, 9, 13, 2, 6, 7, 1, 2, 3, 4, 5, 6, 7, 8, 9, 10, 11, 12, 14, 15, 1, 2, 3, 4, 5, 6, 7, 8, 9, 10, 11, 12, 13, 14, 15, 1, 2, 3, 4, 5, 6, 7, 8, 9, 10, 11, 12, 13, 14, 1, 3, 4, 5, 6, 10, 11, 12, 2, 1, 2, 3, 4, 6, 7, 8, 9, 10, 12, 4, 5, 1, 9, 12, 3, 4, 1, 2, 3, 4, 5, 6, 7, 12, 13, 3, 2, 10, 1, 2, 3, 4, 6, 10, 1, 2, 3, 4, 5, 6, 7, 8, 9, 10, 11, 12, 14, 2, 4, 11, 3, 4, 5, 10, 11, 12, 1, 2, 3, 4, 5, 6, 7, 8, 9, 10, 11, 12, 13, 14, 15, 1, 2, 3, 4, 5, 6, 7, 8, 9, 10, 11, 12, 13, 14, 3, 6, 9, 10, 14, 1, 2, 3, 4, 5, 6, 7, 8, 9, 10, 11, 12, 14, 1, 2, 3, 4, 5, 6, 7, 8, 9, 10, 11, 12, 13, 14, 1, 2, 3, 4, 5, 6, 7, 8, 9, 10, 11, 12, 13, 15, 6, 8, 1, 2, 3, 4, 5, 6, 7, 8, 9, 10, 11, 12, 13, 14, 15, 2, 6, 8, 12, 13], \"Freq\": [0.9581740498542786, 0.1477985829114914, 0.7389928698539734, 0.30043789744377136, 0.22532841563224792, 0.07510947436094284, 0.11266420781612396, 0.07510947436094284, 0.07510947436094284, 0.05633210390806198, 0.03755473718047142, 0.03755473718047142, 0.06686455011367798, 0.06686455011367798, 0.7355100512504578, 0.06686455011367798, 0.8551775813102722, 0.8384825587272644, 0.015107793733477592, 0.015107793733477592, 0.09820065647363663, 0.015107793733477592, 0.007553896866738796, 0.1876407116651535, 0.375281423330307, 0.375281423330307, 0.5599162578582764, 0.3732775151729584, 0.556182324886322, 0.18539410829544067, 0.18539410829544067, 0.05645431578159332, 0.07903604209423065, 0.15430845320224762, 0.42528918385505676, 0.13925397396087646, 0.09032690525054932, 0.026345346122980118, 0.011290863156318665, 0.003763620974496007, 0.007527241948992014, 0.007527241948992014, 0.003763620974496007, 0.32285642623901367, 0.16142821311950684, 0.32285642623901367, 0.16142821311950684, 0.20939166843891144, 0.29314833879470825, 0.11040651798248291, 0.08756379038095474, 0.09898515790700912, 0.045685455203056335, 0.045685455203056335, 0.022842727601528168, 0.030456971377134323, 0.04187833517789841, 0.007614242844283581, 0.0038071214221417904, 0.0038071214221417904, 0.626908540725708, 0.156727135181427, 0.156727135181427, 0.3908267319202423, 0.19541336596012115, 0.19541336596012115, 0.19541336596012115, 0.2231867015361786, 0.6137634515762329, 0.05579667538404465, 0.813445508480072, 0.9373626112937927, 0.19249534606933594, 0.19249534606933594, 0.12833023071289062, 0.12833023071289062, 0.06416511535644531, 0.25666046142578125, 0.4172932207584381, 0.27819547057151794, 0.13909773528575897, 0.13909773528575897, 0.08640258759260178, 0.17280517518520355, 0.6048181056976318, 0.08640258759260178, 0.38586753606796265, 0.19293376803398132, 0.19293376803398132, 0.510050892829895, 0.2550254464149475, 0.12751272320747375, 0.9242295026779175, 0.15804313123226166, 0.3160862624645233, 0.15804313123226166, 0.3160862624645233, 0.2032131552696228, 0.0406426303088665, 0.162570521235466, 0.6096394658088684, 0.0791083499789238, 0.2373250424861908, 0.2373250424861908, 0.1582166999578476, 0.2373250424861908, 0.0791083499789238, 0.24698279798030853, 0.1646551936864853, 0.1618163138628006, 0.1305886059999466, 0.1618163138628006, 0.04542212560772896, 0.02271106280386448, 0.008516647852957249, 0.019872179254889488, 0.008516647852957249, 0.00567776570096612, 0.008516647852957249, 0.008516647852957249, 0.00283888285048306, 0.3695841431617737, 0.18479207158088684, 0.3695841431617737, 0.8774393200874329, 0.8545606732368469, 0.3798297941684723, 0.18991489708423615, 0.18991489708423615, 0.18991489708423615, 0.420797735452652, 0.1562243103981018, 0.09071088582277298, 0.06047392264008522, 0.08567139506340027, 0.0781121551990509, 0.047875188291072845, 0.01007898710668087, 0.03023696132004261, 0.0075592403300106525, 0.0025197467766702175, 0.0075592403300106525, 0.0075592403300106525, 0.18611951172351837, 0.18611951172351837, 0.37223902344703674, 0.18611951172351837, 0.1701396256685257, 0.3402792513370514, 0.1701396256685257, 0.2759902775287628, 0.1379951387643814, 0.41398540139198303, 0.1379951387643814, 0.12920701503753662, 0.12920701503753662, 0.6460350751876831, 0.0780196487903595, 0.03900982439517975, 0.19504912197589874, 0.4486129879951477, 0.11702948063611984, 0.019504912197589874, 0.03900982439517975, 0.019504912197589874, 0.03900982439517975, 0.5126866698265076, 0.07324095070362091, 0.07324095070362091, 0.07324095070362091, 0.21972285211086273, 0.07324095070362091, 0.8712112903594971, 0.07769441604614258, 0.3884721100330353, 0.23308326303958893, 0.23308326303958893, 0.36585533618927, 0.182927668094635, 0.36585533618927, 0.3587609529495239, 0.07175219058990479, 0.14350438117980957, 0.28700876235961914, 0.07175219058990479, 0.08772393316030502, 0.021930983290076256, 0.25768905878067017, 0.16448237001895905, 0.3837921917438507, 0.005482745822519064, 0.010965491645038128, 0.005482745822519064, 0.04386196658015251, 0.005482745822519064, 0.005482745822519064, 0.39590248465538025, 0.39590248465538025, 0.13196749985218048, 0.19448015093803406, 0.1046067476272583, 0.18858681619167328, 0.20184682309627533, 0.12228676676750183, 0.0766133964061737, 0.042726702988147736, 0.017680013552308083, 0.008840006776154041, 0.016206679865717888, 0.00589333800598979, 0.014733345247805119, 0.002946669002994895, 0.0014733345014974475, 0.0014733345014974475, 0.18757791817188263, 0.18757791817188263, 0.18757791817188263, 0.18757791817188263, 0.9430228471755981, 0.3190678358078003, 0.2127118855714798, 0.4254237711429596, 0.054728005081415176, 0.9194304943084717, 0.10788089781999588, 0.6472854018211365, 0.08091067522764206, 0.1348511278629303, 0.013485112227499485, 0.020562659949064255, 0.8636317253112793, 0.013708439655601978, 0.07539641857147217, 0.013708439655601978, 0.006854219827800989, 0.04436885192990303, 0.39931967854499817, 0.1331065595149994, 0.35495081543922424, 0.24865198135375977, 0.24865198135375977, 0.37297797203063965, 0.0061709522269666195, 0.7158304452896118, 0.024683808907866478, 0.24066713452339172, 0.0061709522269666195, 0.3090035319328308, 0.3090035319328308, 0.1545017659664154, 0.1545017659664154, 0.0938415676355362, 0.1876831352710724, 0.6568909883499146, 0.18284235894680023, 0.12632744014263153, 0.20943760871887207, 0.16954472661018372, 0.1562471091747284, 0.026595251634716988, 0.039892878383398056, 0.039892878383398056, 0.016622032970190048, 0.013297625817358494, 0.006648812908679247, 0.013297625817358494, 0.006751878187060356, 0.18905259668827057, 0.5536540150642395, 0.2160601019859314, 0.006751878187060356, 0.013503756374120712, 0.006751878187060356, 0.06707379221916199, 0.06707379221916199, 0.8048855066299438, 0.19996365904808044, 0.3999273180961609, 0.19996365904808044, 0.19996365904808044, 0.07347498834133148, 0.07347498834133148, 0.4408499598503113, 0.2938999533653259, 0.07347498834133148, 0.8755841851234436, 0.0030424268916249275, 0.06084853783249855, 0.9157705307006836, 0.01216970756649971, 0.0030424268916249275, 0.09070175141096115, 0.816315770149231, 0.921858012676239, 0.06094929203391075, 0.007618661504238844, 0.18732571601867676, 0.5619771480560303, 0.20768235623836517, 0.11682132631540298, 0.27907317876815796, 0.11682132631540298, 0.13629154860973358, 0.07139081507921219, 0.014602665789425373, 0.017847703769803047, 0.004867555573582649, 0.019470222294330597, 0.003245036816224456, 0.004867555573582649, 0.001622518408112228, 0.003245036816224456, 0.001622518408112228, 0.021959951147437096, 0.6148786544799805, 0.21959951519966125, 0.021959951147437096, 0.08783980458974838, 0.4695014953613281, 0.4695014953613281, 0.003205851884558797, 0.01923511177301407, 0.9681673049926758, 0.006411703769117594, 0.5941880345344543, 0.2530800700187683, 0.016505222767591476, 0.005501741077750921, 0.016505222767591476, 0.07702437043190002, 0.005501741077750921, 0.005501741077750921, 0.005501741077750921, 0.005501741077750921, 0.005501741077750921, 0.382531076669693, 0.382531076669693, 0.8901292085647583, 0.06358065456151962, 0.37766990065574646, 0.28325241804122925, 0.28325241804122925, 0.15262934565544128, 0.30525869131088257, 0.30525869131088257, 0.0625101625919342, 0.011031204834580421, 0.6692264676094055, 0.10663498193025589, 0.014708273112773895, 0.025739477947354317, 0.007354136556386948, 0.014708273112773895, 0.044124819338321686, 0.04044775292277336, 0.3336202800273895, 0.11120676249265671, 0.11120676249265671, 0.3336202800273895, 0.18184266984462738, 0.06061422452330589, 0.06061422452330589, 0.6061422228813171, 0.06061422452330589, 0.4630289077758789, 0.22850777208805084, 0.012026725336909294, 0.0541202612221241, 0.07817371189594269, 0.03608017414808273, 0.012026725336909294, 0.012026725336909294, 0.024053450673818588, 0.03006681241095066, 0.018040087074041367, 0.006013362668454647, 0.006013362668454647, 0.012026725336909294, 0.22197306156158447, 0.764573872089386, 0.8969178199768066, 0.09575700759887695, 0.11969625949859619, 0.33514952659606934, 0.07181775569915771, 0.07181775569915771, 0.02393925189971924, 0.1915140151977539, 0.02393925189971924, 0.07181775569915771, 0.4184553027153015, 0.20922765135765076, 0.20922765135765076, 0.10461382567882538, 0.10461382567882538, 0.07473717629909515, 0.8968461751937866, 0.006794289220124483, 0.7127075791358948, 0.10964732617139816, 0.02741183154284954, 0.10964732617139816, 0.01370591577142477, 0.01370591577142477, 0.14076769351959229, 0.5133880376815796, 0.28153538703918457, 0.03726203367114067, 0.01242067851126194, 0.008280452340841293, 0.5678382515907288, 0.4258786737918854, 0.9408148527145386, 0.03550244867801666, 0.1324721872806549, 0.2649443745613098, 0.2649443745613098, 0.1324721872806549, 0.1324721872806549, 0.33567604422569275, 0.13986502587795258, 0.13986502587795258, 0.027973003685474396, 0.16783802211284637, 0.16783802211284637, 0.027973003685474396, 0.9772278666496277, 0.8669987916946411, 0.03769559785723686, 0.07539119571447372, 0.03769559785723686, 0.44828593730926514, 0.07471432536840439, 0.07471432536840439, 0.14942865073680878, 0.037357162684202194, 0.14942865073680878, 0.037357162684202194, 0.2530098855495453, 0.19373328983783722, 0.17349250614643097, 0.12722782790660858, 0.10554127395153046, 0.053493522107601166, 0.034698501229286194, 0.018795020878314972, 0.017349250614643097, 0.008674625307321548, 0.008674625307321548, 0.0028915416914969683, 0.0014457708457484841, 0.8094373345375061, 0.11845424771308899, 0.039484746754169464, 0.7061742544174194, 0.19259297847747803, 0.03209882974624634, 0.04814824461936951, 0.3801387548446655, 0.04751734435558319, 0.23758672177791595, 0.28510406613349915, 0.04751734435558319, 0.30526652932167053, 0.4578997790813446, 0.15263326466083527, 0.9070586562156677, 0.03841657564043999, 0.23049946129322052, 0.6914983987808228, 0.03841657564043999, 0.19766971468925476, 0.19766971468925476, 0.26355960965156555, 0.06588990241289139, 0.19766971468925476, 0.007527745328843594, 0.32369303703308105, 0.6473860740661621, 0.007527745328843594, 0.007527745328843594, 0.9460071325302124, 0.13366436958312988, 0.29109129309654236, 0.06831733882427216, 0.15148627758026123, 0.10099085420370102, 0.09207989275455475, 0.04158446937799454, 0.062376704066991806, 0.02079223468899727, 0.008910957723855972, 0.01485159620642662, 0.011881276965141296, 0.002970319241285324, 0.08998337388038635, 0.11097948998212814, 0.31494179368019104, 0.14397339522838593, 0.21596010029315948, 0.029994457960128784, 0.023995565250515938, 0.011997782625257969, 0.01799667440354824, 0.014997228980064392, 0.00899833720177412, 0.0059988913126289845, 0.011997782625257969, 0.13870221376419067, 0.13870221376419067, 0.5548088550567627, 0.13870221376419067, 0.33348241448402405, 0.33348241448402405, 0.16674120724201202, 0.16674120724201202, 0.10854317247867584, 0.43417268991470337, 0.10854317247867584, 0.10854317247867584, 0.21708634495735168, 0.10301705449819565, 0.7211194038391113, 0.051508527249097824, 0.051508527249097824, 0.008641623891890049, 0.48393091559410095, 0.47528931498527527, 0.008641623891890049, 0.008641623891890049, 0.32536718249320984, 0.16268359124660492, 0.32536718249320984, 0.16268359124660492, 0.9321396350860596, 0.08748636394739151, 0.6998909115791321, 0.08748636394739151, 0.19089211523532867, 0.1622582972049713, 0.20043671131134033, 0.19089211523532867, 0.0715845376253128, 0.014316908083856106, 0.04295072332024574, 0.038178421556949615, 0.004772302694618702, 0.05726763233542442, 0.004772302694618702, 0.014316908083856106, 0.004772302694618702, 0.335116982460022, 0.335116982460022, 0.167558491230011, 0.4070429801940918, 0.04522699862718582, 0.452269971370697, 0.04522699862718582, 0.8106849789619446, 0.10133562237024307, 0.44379761815071106, 0.10442297160625458, 0.06091339886188507, 0.06961531192064285, 0.06091339886188507, 0.034807655960321426, 0.12182679772377014, 0.026105742901563644, 0.06961531192064285, 0.9495707154273987, 0.004565243609249592, 0.004565243609249592, 0.004565243609249592, 0.009130487218499184, 0.009130487218499184, 0.018260974436998367, 0.037270575761795044, 0.07454115152359009, 0.12423525005578995, 0.546635091304779, 0.18635286390781403, 0.02484704926609993, 0.03128053620457649, 0.8289341926574707, 0.015640268102288246, 0.09384161233901978, 0.03527260571718216, 0.9523603320121765, 0.2582271695137024, 0.0161391980946064, 0.1936703771352768, 0.0806959941983223, 0.1452527940273285, 0.0322783961892128, 0.0322783961892128, 0.0322783961892128, 0.1452527940273285, 0.0484175942838192, 0.3462147116661072, 0.1731073558330536, 0.1731073558330536, 0.2596610486507416, 0.33227840065956116, 0.22151891887187958, 0.11075945943593979, 0.11075945943593979, 0.16136837005615234, 0.3227367401123047, 0.3227367401123047, 0.9056094288825989, 0.0658625066280365, 0.016465626657009125, 0.34029579162597656, 0.34029579162597656, 0.17014789581298828, 0.19724315404891968, 0.7725356817245483, 0.01095795352011919, 0.005478976760059595, 0.06074129417538643, 0.006393820513039827, 0.12467949837446213, 0.6170036792755127, 0.1694362461566925, 0.012787641026079655, 0.0031969102565199137, 0.006393820513039827, 0.9324581623077393, 0.27241259813308716, 0.13861702382564545, 0.2145550549030304, 0.11933118104934692, 0.07593802362680435, 0.08678631484508514, 0.02892877161502838, 0.007232192903757095, 0.01446438580751419, 0.013259019702672958, 0.008437558077275753, 0.01446438580751419, 0.0036160964518785477, 0.0012053655227646232, 0.0012053655227646232, 0.06741999834775925, 0.011236665770411491, 0.39328330755233765, 0.2472066432237625, 0.10112999379634857, 0.03370999917387962, 0.03370999917387962, 0.011236665770411491, 0.022473331540822983, 0.022473331540822983, 0.011236665770411491, 0.03370999917387962, 0.17941595613956451, 0.17941595613956451, 0.17941595613956451, 0.35883191227912903, 0.0807175263762474, 0.1614350527524948, 0.1614350527524948, 0.0807175263762474, 0.1614350527524948, 0.0807175263762474, 0.1614350527524948, 0.2080630511045456, 0.4161261022090912, 0.1040315255522728, 0.1040315255522728, 0.1040315255522728, 0.49889490008354187, 0.1662983000278473, 0.1662983000278473, 0.4762781262397766, 0.15875937044620514, 0.3175187408924103, 0.17790323495864868, 0.35580646991729736, 0.35580646991729736, 0.3794279992580414, 0.1897139996290207, 0.1897139996290207, 0.1897139996290207, 0.2419663965702057, 0.12098319828510284, 0.2419663965702057, 0.36294957995414734, 0.17278772592544556, 0.6911509037017822, 0.36660853028297424, 0.36660853028297424, 0.18330426514148712, 0.18469810485839844, 0.18469810485839844, 0.3693962097167969, 0.18469810485839844, 0.12248556315898895, 0.2449711263179779, 0.12248556315898895, 0.12248556315898895, 0.2449711263179779, 0.24964481592178345, 0.24964481592178345, 0.12482240796089172, 0.12482240796089172, 0.12482240796089172, 0.22430148720741272, 0.6729044318199158, 0.11789526045322418, 0.7368453741073608, 0.08842144161462784, 0.029473815113306046, 0.029473815113306046, 0.12811210751533508, 0.011646555736660957, 0.03493966534733772, 0.698793351650238, 0.05823277682065964, 0.03493966534733772, 0.023293111473321915, 0.011646555736660957, 0.1767529547214508, 0.11783529818058014, 0.0648094192147255, 0.20621177554130554, 0.22388707101345062, 0.01767529547214508, 0.023567060008645058, 0.0648094192147255, 0.023567060008645058, 0.011783530004322529, 0.0648094192147255, 0.1703319102525711, 0.19676272571086884, 0.13509082794189453, 0.11747027933597565, 0.11159676313400269, 0.0939762219786644, 0.06754541397094727, 0.03230432793498039, 0.01174702774733305, 0.01174702774733305, 0.017620543017983437, 0.014683784916996956, 0.005873513873666525, 0.0029367569368332624, 0.008810271508991718, 0.9182344675064087, 0.1732223480939865, 0.692889392375946, 0.046340662986040115, 0.8341318964958191, 0.046340662986040115, 0.09268132597208023, 0.562881588935852, 0.010423732921481133, 0.07296612858772278, 0.07296612858772278, 0.21889838576316833, 0.03127120062708855, 0.020847465842962265, 0.19475266337394714, 0.19475266337394714, 0.3895053267478943, 0.36799129843711853, 0.14719651639461517, 0.22079478204250336, 0.03679912909865379, 0.2023952156305313, 0.018399564549326897, 0.861276388168335, 0.7465406656265259, 0.10368620604276657, 0.020737240090966225, 0.020737240090966225, 0.020737240090966225, 0.020737240090966225, 0.04147448018193245, 0.06129743158817291, 0.9288918972015381, 0.0023575935047119856, 0.49722540378570557, 0.3271219730377197, 0.017446504905819893, 0.008723252452909946, 0.008723252452909946, 0.06542439758777618, 0.04361626133322716, 0.008723252452909946, 0.004361626226454973, 0.004361626226454973, 0.004361626226454973, 0.008723252452909946, 0.12709453701972961, 0.8022842407226562, 0.015886817127466202, 0.03574533760547638, 0.007943408563733101, 0.18782594799995422, 0.7781360745429993, 0.36104100942611694, 0.04513012617826462, 0.31591087579727173, 0.09026025235652924, 0.04513012617826462, 0.04513012617826462, 0.09026025235652924, 0.21449139714241028, 0.17953024804592133, 0.1729159653186798, 0.17858535051345825, 0.09354470670223236, 0.05858355388045311, 0.04157542437314987, 0.01984281651675701, 0.014173440635204315, 0.006614272017031908, 0.00755916815251112, 0.006614272017031908, 0.0028346881736069918, 0.00188979203812778, 0.00188979203812778, 0.045944247394800186, 0.027226220816373825, 0.3743605613708496, 0.20419666171073914, 0.21440649032592773, 0.04254097118973732, 0.01191147230565548, 0.003403277602046728, 0.05445244163274765, 0.013613110408186913, 0.003403277602046728, 0.001701638801023364, 0.38860106468200684, 0.10264933854341507, 0.051324669271707535, 0.10998143255710602, 0.04399257153272629, 0.23462705314159393, 0.01466419082134962, 0.021996285766363144, 0.00733209541067481, 0.01466419082134962, 0.00733209541067481, 0.13587339222431183, 0.13587339222431183, 0.27174678444862366, 0.13587339222431183, 0.27174678444862366, 0.8156499862670898, 0.1165214329957962, 0.9051134586334229, 0.16140435636043549, 0.32280871272087097, 0.48421308398246765, 0.09882020205259323, 0.07058586180210114, 0.324694961309433, 0.1623474806547165, 0.11999596655368805, 0.049410101026296616, 0.028234343975782394, 0.08470303565263748, 0.02117575891315937, 0.02117575891315937, 0.02117575891315937, 0.007058585993945599, 0.09585285186767578, 0.862675666809082, 0.49383336305618286, 0.3527381122112274, 0.14109525084495544, 0.8915808796882629, 0.9175487160682678, 0.16150479018688202, 0.16150479018688202, 0.16150479018688202, 0.32300958037376404, 0.9741783142089844, 0.3155006468296051, 0.47325095534324646, 0.15775032341480255, 0.03103482909500599, 0.4034527838230133, 0.465522438287735, 0.06206965819001198, 0.03103482909500599, 0.20418769121170044, 0.6514559984207153, 0.009723223745822906, 0.009723223745822906, 0.02916967123746872, 0.038892894983291626, 0.019446447491645813, 0.019446447491645813, 0.009723223745822906, 0.009723223745822906, 0.40294161438941956, 0.20147080719470978, 0.20147080719470978, 0.20147080719470978, 0.6571034789085388, 0.1642758697271347, 0.03661058098077774, 0.8786540031433105, 0.07322116196155548, 0.32877466082572937, 0.16438733041286469, 0.32877466082572937, 0.8951921463012695, 0.6113253235816956, 0.14943508803844452, 0.13585007190704346, 0.0407550223171711, 0.02717001549899578, 0.24061425030231476, 0.12030712515115738, 0.12030712515115738, 0.36092138290405273, 0.9323381185531616, 0.5563672780990601, 0.13909181952476501, 0.27818363904953003, 0.13879673182964325, 0.20819510519504547, 0.41639021039009094, 0.06939836591482162, 0.13879673182964325, 0.5227259397506714, 0.04545443132519722, 0.2272721529006958, 0.09090886265039444, 0.02272721566259861, 0.04545443132519722, 0.1414649784564972, 0.4243949353694916, 0.1414649784564972, 0.1414649784564972, 0.1414649784564972, 0.1402367651462555, 0.1402367651462555, 0.1402367651462555, 0.42071032524108887, 0.1402367651462555, 0.39787039160728455, 0.19893519580364227, 0.19893519580364227, 0.19893519580364227, 0.3603363037109375, 0.3603363037109375, 0.1201120987534523, 0.1201120987534523, 0.1201120987534523, 0.1871742159128189, 0.5615226626396179, 0.08086727559566498, 0.7075886726379395, 0.1819513738155365, 0.020216818898916245, 0.1502177119255066, 0.45065316557884216, 0.3004354238510132, 0.8925186395645142, 0.020756248384714127, 0.06226874515414238, 0.38539353013038635, 0.2792706787586212, 0.09309022128582001, 0.07447217404842377, 0.03537428379058838, 0.042821500450372696, 0.0446833074092865, 0.009309021756052971, 0.013032631017267704, 0.001861804397776723, 0.005585413426160812, 0.007447217591106892, 0.005585413426160812, 0.001861804397776723, 0.15532587468624115, 0.12045679986476898, 0.32016149163246155, 0.1458161324262619, 0.10143730789422989, 0.06973814964294434, 0.025359326973557472, 0.012679663486778736, 0.012679663486778736, 0.009509747847914696, 0.012679663486778736, 0.009509747847914696, 0.003169915871694684, 0.006339831743389368, 0.02129737287759781, 0.7752243876457214, 0.008518949151039124, 0.0894489660859108, 0.0553731694817543, 0.029816322028636932, 0.017037898302078247, 0.14017026126384735, 0.350425660610199, 0.2803405225276947, 0.07008513063192368, 0.14017026126384735, 0.14257805049419403, 0.20261090993881226, 0.21011501550674438, 0.11256162077188492, 0.19510680437088013, 0.015008215792477131, 0.015008215792477131, 0.030016431584954262, 0.0075041078962385654, 0.015008215792477131, 0.0075041078962385654, 0.03752053901553154, 0.0075041078962385654, 0.09427132457494736, 0.006284755188971758, 0.4053667187690735, 0.43679049611091614, 0.012569510377943516, 0.00942713301628828, 0.006284755188971758, 0.01885426603257656, 0.003142377594485879, 0.00942713301628828, 0.8546072244644165, 0.5140541791915894, 0.0514054149389267, 0.1542162448167801, 0.0514054149389267, 0.0514054149389267, 0.1028108298778534, 0.1028108298778534, 0.0014383599627763033, 0.0014383599627763033, 0.16109631955623627, 0.816988468170166, 0.014383599162101746, 0.0014383599627763033, 0.2990991175174713, 0.06646646559238434, 0.18278278410434723, 0.34894895553588867, 0.04984985291957855, 0.03323323279619217, 0.004561481066048145, 0.0015204936498776078, 0.0015204936498776078, 0.18397973477840424, 0.7982591390609741, 0.0015204936498776078, 0.0015204936498776078, 0.006081974599510431, 0.0015204936498776078, 0.04209662228822708, 0.37886959314346313, 0.4209662079811096, 0.04209662228822708, 0.04209662228822708, 0.08419324457645416, 0.0026989441830664873, 0.8798558115959167, 0.005397888366132975, 0.0026989441830664873, 0.0026989441830664873, 0.05667782947421074, 0.048580996692180634, 0.7514151334762573, 0.18785378336906433, 0.01880219578742981, 0.733285665512085, 0.01880219578742981, 0.2068241536617279, 0.009401097893714905, 0.5351625680923462, 0.40137192606925964, 0.0011947524035349488, 0.9163750410079956, 0.007168514188379049, 0.0023895048070698977, 0.0011947524035349488, 0.0011947524035349488, 0.04301108419895172, 0.025089800357818604, 0.0011947524035349488, 0.07681137323379517, 0.8449251055717468, 0.14185693860054016, 0.4255708158016205, 0.14185693860054016, 0.14185693860054016, 0.5713576078414917, 0.19045253098011017, 0.42867833375930786, 0.49726685881614685, 0.04286783188581467, 0.008573566563427448, 0.008573566563427448, 0.33869317173957825, 0.13709008693695068, 0.04032061621546745, 0.056448861956596375, 0.04032061621546745, 0.1612824648618698, 0.024192368611693382, 0.01612824574112892, 0.11289772391319275, 0.00806412287056446, 0.06451298296451569, 0.00806412287056446, 0.00806412287056446, 0.1611407995223999, 0.5013269186019897, 0.017904533073306084, 0.004476133268326521, 0.0537136010825634, 0.01342840027064085, 0.08504653722047806, 0.13428400456905365, 0.008952266536653042, 0.004476133268326521, 0.008952266536653042, 0.39374181628227234, 0.19687090814113617, 0.19687090814113617, 0.19687090814113617, 0.3263854682445526, 0.1631927341222763, 0.3263854682445526, 0.1631927341222763, 0.45490577816963196, 0.22745288908481598, 0.11372644454240799, 0.11372644454240799, 0.38800689578056335, 0.19400344789028168, 0.19400344789028168, 0.19400344789028168, 0.8618385791778564, 0.840901792049408, 0.9245461821556091, 0.028016550466418266, 0.028016550466418266, 0.8620714545249939, 0.06631319224834442, 0.8612475991249084, 0.8946942090988159, 0.2177238166332245, 0.10886190831661224, 0.10886190831661224, 0.435447633266449, 0.9267367124557495, 0.9741345643997192, 0.03811712563037872, 0.600344717502594, 0.00952928140759468, 0.2572906017303467, 0.00952928140759468, 0.028587844222784042, 0.057175688445568085, 0.057044219225645065, 0.3422653079032898, 0.0713052749633789, 0.1426105499267578, 0.014261054806411266, 0.028522109612822533, 0.057044219225645065, 0.19965477287769318, 0.057044219225645065, 0.014261054806411266, 0.028522109612822533, 0.05464943125844002, 0.01821647770702839, 0.01821647770702839, 0.30968010425567627, 0.30968010425567627, 0.07286591082811356, 0.03643295541405678, 0.16394829750061035, 0.01821647770702839, 0.9537959098815918, 0.02577826753258705, 0.08609741926193237, 0.4181874394416809, 0.40588781237602234, 0.0368988923728466, 0.0368988923728466, 0.46296197175979614, 0.46296197175979614, 0.1563669741153717, 0.3127339482307434, 0.4691009223461151, 0.12572649121284485, 0.37717947363853455, 0.37717947363853455, 0.19587650895118713, 0.22268065810203552, 0.1525774896144867, 0.14433005452156067, 0.11546404659748077, 0.05360830947756767, 0.016494864597916603, 0.012371147982776165, 0.026804154738783836, 0.026804154738783836, 0.016494864597916603, 0.008247432298958302, 0.0061855739913880825, 0.0020618580747395754, 0.13413293659687042, 0.04471098259091377, 0.14903660118579865, 0.5514354109764099, 0.0596146397292614, 0.0298073198646307, 0.01490365993231535, 0.18660952150821686, 0.18660952150821686, 0.3732190430164337, 0.18660952150821686, 0.31691962480545044, 0.06338392198085785, 0.1014142781496048, 0.08873749524354935, 0.0253535695374012, 0.31691962480545044, 0.0253535695374012, 0.0253535695374012, 0.0126767847687006, 0.03803035616874695, 0.5658628344535828, 0.1886209398508072, 0.1886209398508072, 0.18450622260570526, 0.05031988024711609, 0.14257299900054932, 0.21805281937122345, 0.30191928148269653, 0.06709317117929459, 0.016773292794823647, 0.016773292794823647, 0.07804906368255615, 0.23414719104766846, 0.39024531841278076, 0.07804906368255615, 0.07804906368255615, 0.215621218085289, 0.5390530228614807, 0.215621218085289, 0.15673795342445374, 0.31347590684890747, 0.15673795342445374, 0.31347590684890747, 0.4757833182811737, 0.28546997904777527, 0.19031332433223724, 0.10107151418924332, 0.10107151418924332, 0.30321455001831055, 0.40428605675697327, 0.10107151418924332, 0.8760503530502319, 0.31275880336761475, 0.15637940168380737, 0.46913817524909973, 0.3255050778388977, 0.3906060755252838, 0.055085472762584686, 0.06009324640035629, 0.017527196556329727, 0.07010878622531891, 0.015023311600089073, 0.03255050629377365, 0.015023311600089073, 0.005007770378142595, 0.007511655800044537, 0.0025038851890712976, 0.005007770378142595, 0.0025038851890712976, 0.37266167998313904, 0.37266167998313904, 0.18633083999156952, 0.32237735390663147, 0.2754291892051697, 0.06885729730129242, 0.1048508882522583, 0.046948160976171494, 0.07198717445135117, 0.03286371007561684, 0.03286371007561684, 0.01251950953155756, 0.007824692875146866, 0.009389631450176239, 0.007824692875146866, 0.00312987738288939, 0.9162089824676514, 0.009851709939539433, 0.03940683975815773, 0.019703419879078865, 0.4341859221458435, 0.26211223006248474, 0.06002570316195488, 0.07002998888492584, 0.020008567720651627, 0.06602827459573746, 0.02200942486524582, 0.03201371058821678, 0.010004283860325813, 0.002000856911763549, 0.004001713823527098, 0.008003427647054195, 0.002000856911763549, 0.004001713823527098, 0.004001713823527098, 0.3096387982368469, 0.5473971962928772, 0.0027646322268992662, 0.008293896913528442, 0.0055292644537985325, 0.0027646322268992662, 0.0055292644537985325, 0.08017433434724808, 0.02211705781519413, 0.0027646322268992662, 0.011058528907597065, 0.07276914268732071, 0.023390082642436028, 0.15333497524261475, 0.33265894651412964, 0.31186777353286743, 0.025988979265093803, 0.015593388117849827, 0.007796694058924913, 0.007796694058924913, 0.015593388117849827, 0.007796694058924913, 0.025988979265093803, 0.002598898019641638, 0.023470992222428322, 0.6689233183860779, 0.09388396888971329, 0.21123893558979034, 0.28504401445388794, 0.13388431072235107, 0.12308718264102936, 0.181391641497612, 0.08853639662265778, 0.07773927599191666, 0.053985606878995895, 0.010797121562063694, 0.012956545688211918, 0.00863769743591547, 0.012956545688211918, 0.004318848717957735, 0.004318848717957735, 0.0021594243589788675, 0.0021594243589788675, 0.31218841671943665, 0.4370638132095337, 0.031218843534588814, 0.031218843534588814, 0.031218843534588814, 0.12487537413835526, 0.0986742153763771, 0.03946968540549278, 0.3275983929634094, 0.11446209251880646, 0.22892418503761292, 0.0690719485282898, 0.025655295699834824, 0.011840905994176865, 0.017761358991265297, 0.011840905994176865, 0.025655295699834824, 0.01973484270274639, 0.0019734844099730253, 0.005920452997088432, 0.16573715209960938, 0.16573715209960938, 0.16573715209960938, 0.33147430419921875, 0.46481966972351074, 0.1704338788986206, 0.03873497247695923, 0.05422896146774292, 0.03873497247695923, 0.030987976118922234, 0.030987976118922234, 0.11620491743087769, 0.015493988059461117, 0.007746994029730558, 0.015493988059461117, 0.007746994029730558, 0.3094169497489929, 0.15470847487449646, 0.4641254246234894, 0.18451572954654694, 0.13464662432670593, 0.23189139366149902, 0.18451572954654694, 0.05734948441386223, 0.11719242483377457, 0.02244110219180584, 0.01994764804840088, 0.00997382402420044, 0.012467279098927975, 0.00997382402420044, 0.00498691201210022, 0.00249345600605011, 0.00249345600605011, 0.00249345600605011, 0.06773898005485535, 0.0963977798819542, 0.2370864301919937, 0.289193332195282, 0.14589934051036835, 0.08337105065584183, 0.013026727363467216, 0.02344810962677002, 0.013026727363467216, 0.013026727363467216, 0.007816036231815815, 0.005210690665990114, 0.002605345332995057, 0.27875998616218567, 0.5575199723243713, 0.13937999308109283, 0.20599235594272614, 0.16867490112781525, 0.15524061024188995, 0.24778789281845093, 0.06418602168560028, 0.07164951413869858, 0.03134666010737419, 0.022390471771359444, 0.004478094633668661, 0.002985396422445774, 0.011941585689783096, 0.011941585689783096, 0.001492698211222887, 0.001492698211222887, 0.6455098986625671, 0.24590852856636047, 0.09221570193767548, 0.557777464389801, 0.18592582643032074, 0.830504834651947, 0.09227830916643143, 0.863219678401947, 0.0784745141863823, 0.20126968622207642, 0.40253937244415283, 0.20126968622207642, 0.20126968622207642, 0.3118024170398712, 0.13362960517406464, 0.2672592103481293, 0.044543202966451645, 0.13362960517406464, 0.044543202966451645, 0.053370412439107895, 0.9072970151901245, 0.1883029192686081, 0.5649087429046631, 0.3713458776473999, 0.18567293882369995, 0.3713458776473999, 0.904985249042511, 0.06033235043287277, 0.32120850682258606, 0.6424170136451721, 0.024708347395062447, 0.11280334740877151, 0.09024268388748169, 0.24816736578941345, 0.16920502483844757, 0.191765695810318, 0.05640167370438576, 0.06768201291561127, 0.022560670971870422, 0.022560670971870422, 0.022560670971870422, 0.1529967486858368, 0.03530694171786308, 0.18830369412899017, 0.18241921067237854, 0.23537962138652802, 0.07061388343572617, 0.005884490441530943, 0.005884490441530943, 0.005884490441530943, 0.011768980883061886, 0.02353796176612377, 0.058844905346632004, 0.005884490441530943, 0.005884490441530943, 0.005884490441530943, 0.18259048461914062, 0.5477714538574219, 0.18259048461914062, 0.8204178810119629, 0.04002038389444351, 0.12006115168333054, 0.2758651673793793, 0.13793258368968964, 0.5517303347587585, 0.07468605786561966, 0.06535030156373978, 0.13070060312747955, 0.17737939953804016, 0.5041308999061584, 0.028007272630929947, 0.009335757233202457, 0.27017155289649963, 0.18011435866355896, 0.09005717933177948, 0.18011435866355896, 0.2251429557800293, 0.012812845408916473, 0.025625690817832947, 0.8499187231063843, 0.008541896939277649, 0.0042709484696388245, 0.05979327857494354, 0.008541896939277649, 0.017083793878555298, 0.0042709484696388245, 0.3442041277885437, 0.35057827830314636, 0.06374150514602661, 0.0828639566898346, 0.06374150514602661, 0.07011565566062927, 0.006374150514602661, 0.006374150514602661, 0.052302028983831406, 0.09323404729366302, 0.35247018933296204, 0.15918008983135223, 0.24104411900043488, 0.04775402322411537, 0.004548002500087023, 0.0068220035172998905, 0.004548002500087023, 0.02046601101756096, 0.013644007034599781, 0.0022740012500435114, 0.8833836317062378, 0.06795258820056915, 0.277103453874588, 0.277103453874588, 0.138551726937294, 0.138551726937294, 0.138551726937294, 0.3611433207988739, 0.12038110196590424, 0.24076220393180847, 0.12038110196590424, 0.17082680761814117, 0.5124804377555847, 0.34165361523628235, 0.7584819197654724, 0.19453059136867523, 0.46344053745269775, 0.02288595214486122, 0.12015124410390854, 0.005721488036215305, 0.0743793398141861, 0.06865785270929337, 0.005721488036215305, 0.005721488036215305, 0.02288595214486122, 0.01144297607243061, 0.3597771227359772, 0.6064814329147339, 0.020558692514896393, 0.8967396020889282, 0.04598664492368698, 0.02299332246184349, 0.39097148180007935, 0.09774287045001984, 0.09774287045001984, 0.19548574090003967, 0.19548574090003967, 0.5308589935302734, 0.08562241494655609, 0.10274689644575119, 0.18836931884288788, 0.017124483361840248, 0.017124483361840248, 0.051373448222875595, 0.34641093015670776, 0.14433789253234863, 0.21650683879852295, 0.10103652626276016, 0.07216894626617432, 0.014433789066970348, 0.014433789066970348, 0.014433789066970348, 0.014433789066970348, 0.014433789066970348, 0.028867578133940697, 0.009218556806445122, 0.5807691216468811, 0.1290598064661026, 0.2673381567001343, 0.16004377603530884, 0.13588622212409973, 0.2204376608133316, 0.1962801069021225, 0.12380745261907578, 0.06039387732744217, 0.0392560213804245, 0.012078776024281979, 0.012078776024281979, 0.006039388012140989, 0.01811816357076168, 0.006039388012140989, 0.006039388012140989, 0.4813168942928314, 0.16043896973133087, 0.16043896973133087, 0.28140535950660706, 0.14949660003185272, 0.03517566993832588, 0.052763503044843674, 0.00879391748458147, 0.386932373046875, 0.02198479324579239, 0.013190875761210918, 0.013190875761210918, 0.030778709799051285, 0.004396958742290735, 0.8839268088340759, 0.01733189821243286, 0.01733189821243286, 0.051995694637298584, 0.16593419015407562, 0.15334098041057587, 0.23927117884159088, 0.15482252836227417, 0.11333897709846497, 0.07111465185880661, 0.026667995378375053, 0.014815553091466427, 0.011852442286908627, 0.014074775390326977, 0.022223329171538353, 0.008148553781211376, 0.0022223328705877066, 0.0007407776429317892, 0.0022223328705877066, 0.10115128755569458, 0.8092103004455566, 0.10115128755569458, 0.06450493633747101, 0.12900987267494202, 0.12900987267494202, 0.12900987267494202, 0.06450493633747101, 0.32252469658851624, 0.12900987267494202, 0.06233017146587372, 0.5787801742553711, 0.0044521549716591835, 0.320555180311203, 0.017808619886636734, 0.0044521549716591835, 0.0044521549716591835, 0.0044521549716591835, 0.8946707248687744, 0.0745558962225914, 0.5972215533256531, 0.05972215160727501, 0.23888860642910004, 0.05972215160727501, 0.12736070156097412, 0.10067560523748398, 0.3177952766418457, 0.16374947130680084, 0.15040692687034607, 0.05458315834403038, 0.02668510004878044, 0.008490713313221931, 0.0072777546010911465, 0.014555509202182293, 0.01819438673555851, 0.0072777546010911465, 0.002425918122753501, 0.0012129590613767505, 0.06838185340166092, 0.13676370680332184, 0.20514556765556335, 0.20514556765556335, 0.13676370680332184, 0.20514556765556335, 0.9218496680259705, 0.19360345602035522, 0.5808103680610657, 0.19360345602035522, 0.13564816117286682, 0.35268521308898926, 0.08138889819383621, 0.027129631489515305, 0.08138889819383621, 0.29842594265937805, 0.11039482802152634, 0.22078965604305267, 0.44157931208610535, 0.11039482802152634, 0.19941918551921844, 0.6979671716690063, 0.875849187374115, 0.5298041701316833, 0.23841188848018646, 0.07947062700986862, 0.04768237844109535, 0.0052980417385697365, 0.021192166954278946, 0.021192166954278946, 0.026490209624171257, 0.0052980417385697365, 0.010596083477139473, 0.0052980417385697365, 0.245840921998024, 0.22380000352859497, 0.18141363561153412, 0.10511818528175354, 0.09664091467857361, 0.05255909264087677, 0.03390909358859062, 0.011868182569742203, 0.010172727517783642, 0.008477273397147655, 0.010172727517783642, 0.013563636690378189, 0.0033909091725945473, 0.005086363758891821, 0.7390684485435486, 0.06928766518831253, 0.011547944508492947, 0.040417805314064026, 0.011547944508492947, 0.028869861736893654, 0.046191778033971786, 0.005773972254246473, 0.005773972254246473, 0.011547944508492947, 0.028869861736893654, 0.27995720505714417, 0.3382141888141632, 0.07443948835134506, 0.0857672318816185, 0.019418995827436447, 0.11651398241519928, 0.038837991654872894, 0.012945997528731823, 0.016182497143745422, 0.0064729987643659115, 0.004854748956859112, 0.0032364993821829557, 0.0016182496910914779, 0.0032364993821829557, 0.37761110067367554, 0.22135823965072632, 0.11284929513931274, 0.04774393141269684, 0.026042144745588303, 0.09114750474691391, 0.052084289491176605, 0.03038250282406807, 0.0043403576128184795, 0.0043403576128184795, 0.0043403576128184795, 0.008680715225636959, 0.013021072372794151, 0.008680715225636959, 0.7373933792114258, 0.14747866988182068, 0.08716315776109695, 0.784468412399292, 0.08716315776109695, 0.8745306134223938, 0.048585034906864166, 0.024292517453432083, 0.024292517453432083, 0.6483707427978516, 0.1620926856994629, 0.32278287410736084, 0.16139143705368042, 0.32278287410736084, 0.15651941299438477, 0.31303882598876953, 0.15651941299438477, 0.31303882598876953, 0.00979999266564846, 0.0019599986262619495, 0.8937593102455139, 0.03135997802019119, 0.005879995413124561, 0.0019599986262619495, 0.02743997983634472, 0.023519981652498245, 0.8924444913864136, 0.006466988939791918, 0.006466988939791918, 0.01940096728503704, 0.07113687694072723, 0.152298241853714, 0.15972742438316345, 0.2655932903289795, 0.12072421610355377, 0.1467263549566269, 0.04828968644142151, 0.02228754758834839, 0.04457509517669678, 0.009286478161811829, 0.005571886897087097, 0.009286478161811829, 0.007429182529449463, 0.0018572956323623657, 0.0037145912647247314, 0.9218207597732544, 0.35781604051589966, 0.22547313570976257, 0.09803179651498795, 0.10538417845964432, 0.05391748622059822, 0.05391748622059822, 0.036761924624443054, 0.022057153284549713, 0.009803179651498795, 0.009803179651498795, 0.004901589825749397, 0.009803179651498795, 0.009803179651498795, 0.0024507949128746986, 0.0024507949128746986, 0.340066134929657, 0.08501653373241425, 0.1700330674648285, 0.08501653373241425, 0.25504961609840393, 0.8717940449714661, 0.3117850124835968, 0.14549967646598816, 0.19026879966259003, 0.12631289660930634, 0.10872502624988556, 0.036774642765522, 0.030379051342606544, 0.011192282661795616, 0.007994486950337887, 0.014390077441930771, 0.006395590025931597, 0.0031977950129657984, 0.0031977950129657984, 0.0015988975064828992, 0.0015988975064828992, 0.20457275211811066, 0.20609942078590393, 0.10533970594406128, 0.2137327343225479, 0.03663989529013634, 0.14808624982833862, 0.03053324669599533, 0.022899935021996498, 0.013739961199462414, 0.0030533247627317905, 0.004579986911267042, 0.006106649525463581, 0.0015266623813658953, 0.0030533247627317905, 0.0015266623813658953, 0.8043783903121948, 0.015772124752402306, 0.15772125124931335, 0.015772124752402306, 0.35916954278945923, 0.07981545478105545, 0.11972317844629288, 0.35916954278945923, 0.05986158922314644, 0.16540417075157166, 0.6616166830062866, 0.03308083117008209, 0.09924250096082687, 0.11766895651817322, 0.8472164869308472, 0.023533791303634644, 0.8193506598472595, 0.016721442341804504, 0.016721442341804504, 0.008360721170902252, 0.09196793287992477, 0.03344288468360901, 0.06849713623523712, 0.06849713623523712, 0.13699427247047424, 0.13699427247047424, 0.04566475749015808, 0.4566475749015808, 0.06849713623523712, 0.02283237874507904, 0.09175227582454681, 0.13762840628623962, 0.27525681257247925, 0.18350455164909363, 0.13762840628623962, 0.04587613791227341, 0.04587613791227341, 0.9047172665596008, 0.1879788041114807, 0.12734048068523407, 0.23446817696094513, 0.1778724193572998, 0.08287237584590912, 0.09904259443283081, 0.00808511022478342, 0.022234052419662476, 0.022234052419662476, 0.018191497772932053, 0.014148942194879055, 0.00404255511239171, 0.7506006360054016, 0.15012012422084808, 0.277554988861084, 0.13014540076255798, 0.10358510911464691, 0.24435462057590485, 0.09694503992795944, 0.03585638478398323, 0.030544327571988106, 0.01726418547332287, 0.019920213147997856, 0.006640071049332619, 0.018592199310660362, 0.009296099655330181, 0.005312057211995125, 0.0026560286059975624, 0.31828874349594116, 0.31828874349594116, 0.15914437174797058, 0.15914437174797058, 0.34707072377204895, 0.007230640389025211, 0.08676768094301224, 0.007230640389025211, 0.20245793461799622, 0.2530724108219147, 0.05784512311220169, 0.028922561556100845, 0.026701176539063454, 0.9345411658287048, 0.09716657549142838, 0.4372495710849762, 0.36437466740608215, 0.024291643872857094, 0.07287493348121643, 0.7094045877456665, 0.17735114693641663, 0.2720179557800293, 0.09067264944314957, 0.09067264944314957, 0.18134529888629913, 0.09067264944314957, 0.09067264944314957, 0.18134529888629913, 0.08225136995315552, 0.45238253474235535, 0.16450273990631104, 0.02056284248828888, 0.06168852746486664, 0.04112568497657776, 0.02056284248828888, 0.08225136995315552, 0.04112568497657776, 0.04112568497657776, 0.14403903484344482, 0.7201951742172241, 0.04801300913095474, 0.04801300913095474, 0.1027207300066948, 0.2568018138408661, 0.5649639964103699, 0.0513603650033474, 0.36753150820732117, 0.5512972474098206, 0.18515275418758392, 0.37030550837516785, 0.18515275418758392, 0.18515275418758392, 0.9592244625091553, 0.022307544946670532, 0.011153772473335266, 0.22516511380672455, 0.03216644376516342, 0.03216644376516342, 0.4503302276134491, 0.08041611313819885, 0.03216644376516342, 0.01608322188258171, 0.03216644376516342, 0.11258255690336227, 0.10446491837501526, 0.7312543988227844, 0.10446491837501526, 0.5948478579521179, 0.1982826143503189, 0.1982826143503189, 0.10662507265806198, 0.24879184365272522, 0.10662507265806198, 0.07108338177204132, 0.10662507265806198, 0.31987521052360535, 0.03554169088602066, 0.3288503885269165, 0.3288503885269165, 0.16442519426345825, 0.16442519426345825, 0.16570831835269928, 0.49712496995925903, 0.33141663670539856, 0.8222213983535767, 0.10277767479419708, 0.30729806423187256, 0.26339834928512573, 0.1755989044904709, 0.13169917464256287, 0.04389972612261772, 0.04389972612261772, 0.19501686096191406, 0.5850505828857422, 0.19501686096191406, 0.9182018637657166, 0.05923883244395256, 0.17782333493232727, 0.08891166746616364, 0.7112933397293091, 0.1964268833398819, 0.004293483681976795, 0.23292149603366852, 0.03542124107480049, 0.31664443016052246, 0.13739147782325745, 0.01180708035826683, 0.004293483681976795, 0.0429348386824131, 0.01717393472790718, 0.6049671173095703, 0.20165570080280304, 0.15124177932739258, 0.8795703649520874, 0.07212895154953003, 0.5770316123962402, 0.30294162034988403, 0.01442579086869955, 0.01442579086869955, 0.9017161726951599, 0.06812445819377899, 0.9196802377700806, 0.004257778637111187, 0.23929531872272491, 0.2041986733675003, 0.1818644404411316, 0.2121751755475998, 0.00478590652346611, 0.0781698003411293, 0.014357718639075756, 0.015953021124005318, 0.017548322677612305, 0.00957181304693222, 0.00478590652346611, 0.015953021124005318, 0.5417196154594421, 0.3611464202404022, 0.08304358273744583, 0.8304358124732971, 0.20594605803489685, 0.20594605803489685, 0.4118921160697937, 0.27586567401885986, 0.04597761109471321, 0.6436865925788879, 0.9276885390281677, 0.2336103916168213, 0.27175086736679077, 0.09535118192434311, 0.18593479692935944, 0.038140472024679184, 0.033372912555933, 0.04290803149342537, 0.05721070617437363, 0.019070236012339592, 0.009535118006169796, 0.10990385711193085, 0.15630769729614258, 0.20026923716068268, 0.24423079192638397, 0.1147884726524353, 0.07815384864807129, 0.03419230878353119, 0.014653847552835941, 0.017096154391765594, 0.004884615540504456, 0.012211538851261139, 0.002442307770252228, 0.002442307770252228, 0.004884615540504456, 0.4210364520549774, 0.1403454840183258, 0.2806909680366516, 0.5225446820259094, 0.18811608850955963, 0.06270536780357361, 0.020901788026094437, 0.06270536780357361, 0.020901788026094437, 0.04180357605218887, 0.08360715210437775, 0.25227591395378113, 0.25227591395378113, 0.12613795697689056, 0.25227591395378113, 0.18631774187088013, 0.28312990069389343, 0.15526477992534637, 0.15343813598155975, 0.05845262482762337, 0.04749275743961334, 0.06393256038427353, 0.0036532890517264605, 0.02374637871980667, 0.005479933228343725, 0.00913322251290083, 0.005479933228343725, 0.0018266445258632302, 0.002632680581882596, 0.945132315158844, 0.005265361163765192, 0.002632680581882596, 0.002632680581882596, 0.026326805353164673, 0.007898041047155857, 0.5590357184410095, 0.27951785922050476, 0.13074210286140442, 0.15299607813358307, 0.25174808502197266, 0.13769647479057312, 0.15786413848400116, 0.09388396143913269, 0.027817469090223312, 0.006954367272555828, 0.007649803999811411, 0.015995044261217117, 0.007649803999811411, 0.003477183636277914, 0.0013908734545111656, 0.0013908734545111656, 0.0020863101817667484, 0.06831493228673935, 0.48796379566192627, 0.06831493228673935, 0.009759275242686272, 0.05855565518140793, 0.25374117493629456, 0.019518550485372543, 0.019518550485372543, 0.1633194535970688, 0.34478551149368286, 0.10887963324785233, 0.018146606162190437, 0.05443981662392616, 0.05443981662392616, 0.018146606162190437, 0.19961266219615936, 0.018146606162190437, 0.19071894884109497, 0.08582352101802826, 0.10966338962316513, 0.2908463776111603, 0.23998799920082092, 0.0333758145570755, 0.015893245115876198, 0.003178649116307497, 0.003178649116307497, 0.004767973441630602, 0.006357298232614994, 0.006357298232614994, 0.003178649116307497, 0.004767973441630602, 0.0015893245581537485, 0.8805821537971497, 0.3240295946598053, 0.16201479732990265, 0.13771256804466248, 0.048604436218738556, 0.14581331610679626, 0.03240295872092247, 0.07290665805339813, 0.008100739680230618, 0.024302218109369278, 0.016201479360461235, 0.008100739680230618, 0.03240295872092247, 0.11143824458122253, 0.44575297832489014, 0.022287648171186447, 0.2897394299507141, 0.13372589647769928, 0.022287648171186447, 0.8583148121833801, 0.03731803596019745, 0.0746360719203949, 0.03731803596019745, 0.2838314175605774, 0.4257471263408661, 0.1419157087802887, 0.23911477625370026, 0.17609228193759918, 0.09824095666408539, 0.2502363920211792, 0.05931529402732849, 0.09268014878034592, 0.03336485102772713, 0.009268014691770077, 0.014828823506832123, 0.011121617630124092, 0.007414411753416061, 0.007414411753416061, 0.0018536029383540154, 0.22911402583122253, 0.22911402583122253, 0.45822805166244507, 0.48329880833625793, 0.1610996127128601, 0.1610996127128601, 0.15955397486686707, 0.15955397486686707, 0.15955397486686707, 0.15955397486686707, 0.31910794973373413, 0.3303450644016266, 0.5781038403511047, 0.027528755366802216, 0.027528755366802216, 0.11594920605421066, 0.6522142887115479, 0.014493650756776333, 0.05797460302710533, 0.014493650756776333, 0.028987301513552666, 0.07246825844049454, 0.028987301513552666, 0.014493650756776333, 0.014493650756776333, 0.263334184885025, 0.16404424607753754, 0.15325185656547546, 0.11224079877138138, 0.12087471038103104, 0.07986364513635635, 0.028060199692845345, 0.00863390788435936, 0.019426291808485985, 0.03021867759525776, 0.01295086182653904, 0.00431695394217968, 0.05335049331188202, 0.07422677427530289, 0.23195865750312805, 0.30850502848625183, 0.16469064354896545, 0.125257670879364, 0.009278346784412861, 0.006958759855479002, 0.009278346784412861, 0.0023195866961032152, 0.006958759855479002, 0.0023195866961032152, 0.0023195866961032152, 0.32929727435112, 0.16464863717556, 0.16464863717556, 0.16464863717556, 0.16464863717556, 0.06735221296548843, 0.8755788207054138, 0.3996680676937103, 0.19983403384685516, 0.19983403384685516, 0.20494072139263153, 0.18771880865097046, 0.09644269198179245, 0.11366460472345352, 0.07749859243631363, 0.21699605882167816, 0.027555055916309357, 0.020666291937232018, 0.006888763979077339, 0.008610954508185387, 0.015499718487262726, 0.01894410140812397, 0.0017221909947693348, 0.0017221909947693348, 0.38428378105163574, 0.34230318665504456, 0.03552202880382538, 0.04198057949542999, 0.038751304149627686, 0.08719043433666229, 0.019375652074813843, 0.012917101383209229, 0.016146376729011536, 0.003229275345802307, 0.009687826037406921, 0.003229275345802307, 0.7794144153594971, 0.15588288009166718, 0.3527175188064575, 0.19266720116138458, 0.12970902025699615, 0.04778753221035004, 0.049304597079753876, 0.08798974752426147, 0.053097259253263474, 0.026548629626631737, 0.012895048595964909, 0.01744624227285385, 0.016687709838151932, 0.007585322950035334, 0.005309726111590862, 0.0007585322600789368, 0.16160646080970764, 0.08080323040485382, 0.26934412121772766, 0.05386882275342941, 0.05386882275342941, 0.05386882275342941, 0.026934411376714706, 0.026934411376714706, 0.18854087591171265, 0.05386882275342941, 0.026934411376714706, 0.04519251734018326, 0.316347599029541, 0.04519251734018326, 0.13557754456996918, 0.13557754456996918, 0.13557754456996918, 0.04519251734018326, 0.04519251734018326, 0.09038503468036652, 0.20977701246738434, 0.23899386823177338, 0.17939148843288422, 0.11160838603973389, 0.07771683484315872, 0.05551202595233917, 0.042656607925891876, 0.018698787316679955, 0.018698787316679955, 0.021036135032773018, 0.012855416163802147, 0.008180719800293446, 0.0023373484145849943, 0.0017530112527310848, 0.0017530112527310848, 0.24678340554237366, 0.08542502671480179, 0.07593335211277008, 0.10915419459342957, 0.09966252744197845, 0.22305423021316528, 0.052204180508852005, 0.00949166901409626, 0.04745834693312645, 0.01898333802819252, 0.014237504452466965, 0.00474583450704813, 0.00474583450704813, 0.014237504452466965, 0.010076962411403656, 0.17130836844444275, 0.7860031127929688, 0.020153924822807312, 0.010076962411403656, 0.6803309321403503, 0.04081985726952553, 0.013606619089841843, 0.12926287949085236, 0.013606619089841843, 0.05442647635936737, 0.006803309544920921, 0.04081985726952553, 0.013606619089841843, 0.006803309544920921, 0.4361231029033661, 0.04361230880022049, 0.08722461760044098, 0.26167386770248413, 0.04361230880022049, 0.13083693385124207, 0.22037923336029053, 0.1797267496585846, 0.13479506969451904, 0.1540514975786209, 0.07702574878931046, 0.1198178380727768, 0.03316386416554451, 0.019256437197327614, 0.02139604277908802, 0.008558416739106178, 0.008558416739106178, 0.01818663626909256, 0.003209406277164817, 0.0010698020923882723, 0.0010698020923882723, 0.1445966213941574, 0.8119656443595886, 0.03336844965815544, 0.9196292757987976, 0.21493671834468842, 0.19611014425754547, 0.1694391667842865, 0.14433707296848297, 0.045497551560401917, 0.11452832072973251, 0.042359791696071625, 0.02353321760892868, 0.004706643521785736, 0.007844406180083752, 0.014119930565357208, 0.007844406180083752, 0.010982167907059193, 0.0015688810963183641, 0.0031377621926367283, 0.31725120544433594, 0.2110223025083542, 0.1234552264213562, 0.10622891783714294, 0.06746971607208252, 0.05598551034927368, 0.041630249470472336, 0.02440394088625908, 0.0157907847315073, 0.011484206654131413, 0.0043065776117146015, 0.008613155223429203, 0.007177629508078098, 0.0014355258317664266, 0.002871051663532853, 0.14580629765987396, 0.09134852141141891, 0.19675065577030182, 0.13175266981124878, 0.14580629765987396, 0.19148054718971252, 0.029863938689231873, 0.017567023634910583, 0.005270106717944145, 0.014053618535399437, 0.02108042687177658, 0.0035134046338498592, 0.0035134046338498592, 0.16119003295898438, 0.09978430718183517, 0.16886575520038605, 0.1842171847820282, 0.023027148097753525, 0.26097434759140015, 0.038378581404685974, 0.03070286475121975, 0.03070286475121975, 0.007675716187804937, 0.9079197645187378, 0.01815839484333992, 0.05447518453001976, 0.041681237518787384, 0.9308809638023376, 0.013893745839595795, 0.06626412272453308, 0.9276977181434631, 0.01319101545959711, 0.3640720248222351, 0.3350518047809601, 0.14773938059806824, 0.010552812367677689, 0.10552812367677689, 0.015829218551516533, 0.002638203091919422, 0.002638203091919422, 0.3832298219203949, 0.19161491096019745, 0.3832298219203949, 0.374828577041626, 0.187414288520813, 0.187414288520813, 0.187414288520813, 0.187414288520813, 0.07910439372062683, 0.2373131662607193, 0.07910439372062683, 0.15820878744125366, 0.07910439372062683, 0.07910439372062683, 0.3164175748825073, 0.3034726083278656, 0.6756560206413269, 0.011451796628534794, 0.9618956446647644, 0.014976274222135544, 0.6988927721977234, 0.002496045548468828, 0.017472319304943085, 0.23462828993797302, 0.017472319304943085, 0.007488137111067772, 0.002496045548468828, 0.002496045548468828, 0.14004725217819214, 0.4989183247089386, 0.008752953261137009, 0.14004725217819214, 0.16630610823631287, 0.017505906522274017, 0.008752953261137009, 0.026258859783411026, 0.19020748138427734, 0.570622444152832, 0.19020748138427734, 0.9122651219367981, 0.1837308406829834, 0.1837308406829834, 0.1837308406829834, 0.1837308406829834, 0.3674616813659668, 0.06596527993679047, 0.5607048869132996, 0.36280906200408936, 0.10560443252325058, 0.6336265802383423, 0.21120886504650116, 0.7424964308738708, 0.1856241077184677, 0.1467282772064209, 0.13128319382667542, 0.23498590290546417, 0.15224438905715942, 0.15665726363658905, 0.08053506910800934, 0.03309660404920578, 0.03199338540434837, 0.00551610067486763, 0.003309660591185093, 0.014341861940920353, 0.00551610067486763, 0.003309660591185093, 0.14802183210849762, 0.7401091456413269, 0.5006310343742371, 0.10727807879447937, 0.3933529555797577, 0.068422332406044, 0.068422332406044, 0.8210679888725281, 0.02674052305519581, 0.10696209222078323, 0.8556967377662659, 0.0017347069224342704, 0.07632710784673691, 0.9124558568000793, 0.0034694138448685408, 0.0017347069224342704, 0.3524543344974518, 0.03524543344974518, 0.5639269351959229, 0.03524543344974518, 0.09112391620874405, 0.016080690547823906, 0.15544667840003967, 0.4073775112628937, 0.19832852482795715, 0.06432276219129562, 0.016080690547823906, 0.016080690547823906, 0.010720460675656796, 0.026801152154803276, 0.8924720287322998, 0.011899626813828945, 0.04759850725531578, 0.011899626813828945, 0.011899626813828945, 0.5479393005371094, 0.02004656009376049, 0.04677530750632286, 0.22719433903694153, 0.04677530750632286, 0.013364373706281185, 0.006682186853140593, 0.06013967841863632, 0.02004656009376049, 0.006682186853140593, 0.8064630627632141, 0.13166743516921997, 0.03291685879230499, 0.016458429396152496, 0.5015846490859985, 0.11310241371393204, 0.04425746574997902, 0.01966998539865017, 0.08851493149995804, 0.14260739088058472, 0.024587482213974, 0.01475248858332634, 0.024587482213974, 0.01966998539865017, 0.004917496349662542, 0.028175106272101402, 0.5259352922439575, 0.01878340356051922, 0.14087553322315216, 0.24418425559997559, 0.00939170178025961, 0.028175106272101402, 0.11259090900421143, 0.78813636302948, 0.16925525665283203, 0.1450759321451187, 0.02417932264506817, 0.19343458116054535, 0.07253796607255936, 0.24179323017597198, 0.07253796607255936, 0.04835864529013634, 0.02417932264506817, 0.06815040856599808, 0.9029929637908936, 0.01703760214149952, 0.5904685854911804, 0.1687052994966507, 0.08435264974832535, 0.08435264974832535, 0.009570085443556309, 0.06699059903621674, 0.8708778023719788, 0.04785043001174927, 0.0992203950881958, 0.8433733582496643, 0.1610546112060547, 0.3865310549736023, 0.09663276374340057, 0.06442184746265411, 0.25768738985061646, 0.03221092373132706, 0.39453938603401184, 0.39453938603401184, 0.19726969301700592, 0.7086870670318604, 0.2362290322780609, 0.829115092754364, 0.07209696620702744, 0.07209696620702744, 0.9279077053070068, 0.040343813598155975, 0.18875455856323242, 0.10835909843444824, 0.19749319553375244, 0.23594318330287933, 0.047188639640808105, 0.10311591625213623, 0.04019773006439209, 0.033206820487976074, 0.01747727394104004, 0.005243182182312012, 0.013981818221509457, 0.005243182182312012, 0.003495454555377364, 0.001747727277688682, 0.1855161339044571, 0.1855161339044571, 0.3710322678089142, 0.1855161339044571, 0.07564449310302734, 0.015128899365663528, 0.19667568802833557, 0.5900270342826843, 0.045386698096990585, 0.060515597462654114, 0.015128899365663528, 0.20451878011226654, 0.04624469205737114, 0.38819488883018494, 0.07816004753112793, 0.20842678844928741, 0.02409934811294079, 0.008467338047921658, 0.0013026674278080463, 0.0006513337139040232, 0.02084267884492874, 0.011724007315933704, 0.005862003657966852, 0.0013026674278080463, 0.2164977788925171, 0.7036177515983582, 0.05412444472312927, 0.961993396282196, 0.040809065103530884, 0.5713269114494324, 0.36728158593177795, 0.1819719672203064, 0.22317315638065338, 0.19227226078510284, 0.2300400286912918, 0.06180179864168167, 0.06523523479700089, 0.008583582937717438, 0.012017016299068928, 0.005150150042027235, 0.0034334331285208464, 0.006866866257041693, 0.005150150042027235, 0.0017167165642604232, 0.0805378183722496, 0.4026890993118286, 0.026845939457416534, 0.4026890993118286, 0.05369187891483307, 0.844927191734314, 0.12070388346910477, 0.02202635258436203, 0.6093958020210266, 0.09544753283262253, 0.062408000230789185, 0.018355295062065125, 0.1541844755411148, 0.0036710589192807674, 0.011013176292181015, 0.018355295062065125, 0.9253891110420227, 0.19301632046699524, 0.5790489315986633, 0.10258205235004425, 0.09366187453269958, 0.12042241543531418, 0.42073509097099304, 0.1382627636194229, 0.052034374326467514, 0.011893571354448795, 0.01784035749733448, 0.00892017874866724, 0.0014866964193060994, 0.0074334824457764626, 0.010406875051558018, 0.0074334824457764626, 0.002973392838612199, 0.17313484847545624, 0.692539393901825, 0.18691201508045197, 0.18691201508045197, 0.37382403016090393, 0.11586674302816391, 0.15448898077011108, 0.2703557312488556, 0.07724449038505554, 0.07724449038505554, 0.07724449038505554, 0.19311124086380005, 0.2807941138744354, 0.42119118571281433, 0.1403970569372177, 0.4843014180660248, 0.16143380105495453, 0.16143380105495453, 0.8783162236213684, 0.6200389266014099, 0.07750486582517624, 0.23251459002494812, 0.12727227807044983, 0.3818168342113495, 0.12727227807044983, 0.3818168342113495, 0.4370139241218567, 0.1456713080406189, 0.1456713080406189, 0.1456713080406189, 0.11966060847043991, 0.16861267387866974, 0.2665168046951294, 0.18493002653121948, 0.08702589571475983, 0.03807383030653, 0.016317356377840042, 0.03807383030653, 0.021756473928689957, 0.016317356377840042, 0.016317356377840042, 0.010878236964344978, 0.010878236964344978, 0.057865921407938004, 0.46292737126350403, 0.4050614535808563, 0.028932960703969002, 0.3883804380893707, 0.17904062569141388, 0.11844226717948914, 0.06335283815860748, 0.10742437839508057, 0.06335283815860748, 0.022035770118236542, 0.024790242314338684, 0.0055089425295591354, 0.013772356323897839, 0.0055089425295591354, 0.0027544712647795677, 0.8939846158027649, 0.02664218284189701, 0.9591186046600342, 0.013321091420948505, 0.31690114736557007, 0.19763727486133575, 0.09881863743066788, 0.14311663806438446, 0.03748292848467827, 0.07837340235710144, 0.03407539054751396, 0.04429800808429718, 0.01703769527375698, 0.003407539101317525, 0.0136301564052701, 0.010222617536783218, 0.00681507820263505, 0.003407539101317525, 0.3102262020111084, 0.3246926963329315, 0.06108080595731735, 0.08679904043674469, 0.025718234479427338, 0.09322859346866608, 0.0417921282351017, 0.008036947809159756, 0.019288675859570503, 0.0016073896549642086, 0.0016073896549642086, 0.012859117239713669, 0.011251727119088173, 0.327637642621994, 0.163818821310997, 0.327637642621994, 0.39204323291778564, 0.19602161645889282, 0.19602161645889282, 0.12524767220020294, 0.6262384057044983, 0.12524767220020294, 0.8468465209007263, 0.0746266171336174, 0.8022361397743225, 0.0373133085668087, 0.0559699647128582, 0.533960223197937, 0.3559734523296356, 0.36943382024765015, 0.5541507005691528, 0.04586837440729141, 0.710959792137146, 0.022934187203645706, 0.18347349762916565, 0.7333354949951172, 0.1833338737487793, 0.029956476762890816, 0.11982590705156326, 0.8387813568115234, 0.19249661266803741, 0.06238316372036934, 0.3422161936759949, 0.1087249368429184, 0.14971959590911865, 0.06951266527175903, 0.017823761329054832, 0.008911880664527416, 0.00534712802618742, 0.026735641062259674, 0.008911880664527416, 0.00534712802618742, 0.0017823760863393545, 0.2832113802433014, 0.19021660089492798, 0.1606273502111435, 0.06129201501607895, 0.021135177463293076, 0.10144884884357452, 0.0655190497636795, 0.023248694837093353, 0.03592980280518532, 0.00845407135784626, 0.014794624410569668, 0.019021660089492798, 0.012681106105446815, 0.002113517839461565, 0.3299234211444855, 0.5498723387718201, 0.14088456332683563, 0.49309593439102173, 0.14088456332683563, 0.14088456332683563, 0.0884772539138794, 0.8974121809005737, 0.9054005742073059, 0.41497841477394104, 0.2766522765159607, 0.2766522765159607, 0.1867060512304306, 0.24505169689655304, 0.16920235753059387, 0.005834564100950956, 0.01750369183719158, 0.27422451972961426, 0.07001476734876633, 0.005834564100950956, 0.005834564100950956, 0.01750369183719158, 0.005834564100950956, 0.16630958020687103, 0.16630958020687103, 0.33261916041374207, 0.16630958020687103, 0.16630958020687103, 0.38031429052352905, 0.19015714526176453, 0.19015714526176453, 0.19015714526176453, 0.12575481832027435, 0.37726444005966187, 0.37726444005966187, 0.03213092312216759, 0.27311286330223083, 0.016065461561083794, 0.5381929874420166, 0.04819638654589653, 0.008032730780541897, 0.024098193272948265, 0.016065461561083794, 0.008032730780541897, 0.008032730780541897, 0.008032730780541897, 0.008032730780541897, 0.03251929208636284, 0.01625964604318142, 0.2113753855228424, 0.34145253896713257, 0.13007716834545135, 0.01625964604318142, 0.01625964604318142, 0.13007716834545135, 0.06503858417272568, 0.06880223006010056, 0.4988161325454712, 0.01720055751502514, 0.3268105685710907, 0.03440111503005028, 0.01720055751502514, 0.1462334394454956, 0.731167197227478, 0.1462334394454956, 0.8701407313346863, 0.0221143439412117, 0.7297733426094055, 0.0221143439412117, 0.1990290880203247, 0.01105717197060585, 0.005528585985302925, 0.005528585985302925, 0.03587497025728226, 0.7174993753433228, 0.14349988102912903, 0.05979161709547043, 0.03587497025728226, 0.21522341668605804, 0.21522341668605804, 0.21522341668605804, 0.21522341668605804, 0.2814868986606598, 0.07037172466516495, 0.010053103789687157, 0.5730268955230713, 0.010053103789687157, 0.04021241515874863, 0.010053103789687157, 0.27421844005584717, 0.6946867108345032, 0.018281228840351105, 0.21907196938991547, 0.46943992376327515, 0.03129599615931511, 0.12518398463726044, 0.03129599615931511, 0.06259199231863022, 0.06259199231863022, 0.7580110430717468, 0.028074482455849648, 0.056148964911699295, 0.11229792982339859, 0.028074482455849648, 0.028074482455849648, 0.1861794888973236, 0.10047781467437744, 0.28665730357170105, 0.08865689486265182, 0.16844810545444489, 0.07979121059179306, 0.01477614976465702, 0.008865689858794212, 0.002955229952931404, 0.008865689858794212, 0.03546275943517685, 0.005910459905862808, 0.008865689858794212, 0.002955229952931404, 0.18573883175849915, 0.18573883175849915, 0.18573883175849915, 0.3714776635169983, 0.8453096747398376, 0.11704287678003311, 0.01300476398319006, 0.01300476398319006, 0.18753491342067719, 0.18753491342067719, 0.37506982684135437, 0.18753491342067719, 0.16201549768447876, 0.648061990737915, 0.16201549768447876, 0.3398144543170929, 0.16990722715854645, 0.16990722715854645, 0.16990722715854645, 0.1737688034772873, 0.6950752139091492, 0.09262126684188843, 0.8644651770591736, 0.3586229383945465, 0.310806542634964, 0.04781639203429222, 0.02390819601714611, 0.04781639203429222, 0.04781639203429222, 0.02390819601714611, 0.02390819601714611, 0.04781639203429222, 0.02390819601714611, 0.04781639203429222, 0.12020125240087509, 0.18030187487602234, 0.060100626200437546, 0.12020125240087509, 0.12020125240087509, 0.12020125240087509, 0.24040250480175018, 0.4387285113334656, 0.5062252283096313, 0.9137735962867737, 0.8720250129699707, 0.04152499884366989, 0.04152499884366989, 0.23501624166965485, 0.1402197778224945, 0.1461445540189743, 0.22514159977436066, 0.08689676225185394, 0.04344838112592697, 0.03159882128238678, 0.019749263301491737, 0.01579941064119339, 0.009874631650745869, 0.019749263301491737, 0.017774337902665138, 0.0039498526602983475, 0.8756551146507263, 0.13151389360427856, 0.0891619548201561, 0.24296633899211884, 0.167178675532341, 0.17163676023483276, 0.0691005140542984, 0.03566478192806244, 0.04235193133354187, 0.011145244352519512, 0.011145244352519512, 0.01783239096403122, 0.0022290488705039024, 0.004458097741007805, 0.6348876953125, 0.158721923828125, 0.158721923828125, 0.377667099237442, 0.188833549618721, 0.377667099237442, 0.1619318127632141, 0.1619318127632141, 0.1619318127632141, 0.3238636255264282, 0.8898425698280334, 0.030684227123856544, 0.16956046223640442, 0.0745038390159607, 0.36224281787872314, 0.19011324644088745, 0.041105568408966064, 0.05652015656232834, 0.007707294076681137, 0.04624376446008682, 0.015414588153362274, 0.020552784204483032, 0.012845490127801895, 0.002569098025560379, 0.002569098025560379, 0.1433188021183014, 0.1433188021183014, 0.1433188021183014, 0.2866376042366028, 0.1433188021183014, 0.10699097067117691, 0.010699097067117691, 0.08559277653694153, 0.267477422952652, 0.21398194134235382, 0.03209729120135307, 0.021398194134235382, 0.053495485335588455, 0.1176900714635849, 0.07489368319511414, 0.1366705745458603, 0.15676920115947723, 0.1366705745458603, 0.22108475863933563, 0.13265085220336914, 0.09647335112094879, 0.024118337780237198, 0.020098615437746048, 0.012059168890118599, 0.008039445616304874, 0.0321577824652195, 0.012059168890118599, 0.012059168890118599, 0.008039445616304874, 0.34028223156929016, 0.17014111578464508, 0.17014111578464508, 0.17014111578464508, 0.08507055789232254, 0.12466229498386383, 0.21063628792762756, 0.2708180844783783, 0.10746749490499496, 0.10746749490499496, 0.021493498235940933, 0.03438960015773773, 0.03438960015773773, 0.017194800078868866, 0.042986996471881866, 0.021493498235940933, 0.008597400039434433, 0.0042987000197172165, 0.10927025973796844, 0.38244590163230896, 0.05463512986898422, 0.40976348519325256, 0.8783231973648071, 0.7966334819793701, 0.13277225196361542, 0.1555590033531189, 0.1555590033531189, 0.1555590033531189, 0.3111180067062378, 0.15091611444950104, 0.08623778074979782, 0.06467833369970322, 0.08623778074979782, 0.28027278184890747, 0.17247556149959564, 0.021559445187449455, 0.10779722034931183, 0.5571776628494263, 0.22287105023860931, 0.11143552511930466, 0.19764579832553864, 0.19764579832553864, 0.39529159665107727, 0.19764579832553864, 0.1667790412902832, 0.11118602752685547, 0.1667790412902832, 0.1667790412902832, 0.055593013763427734, 0.27796506881713867, 0.5485947728157043, 0.2742973864078522, 0.18556636571884155, 0.18556636571884155, 0.3711327314376831, 0.18556636571884155, 0.10924217849969864, 0.10924217849969864, 0.21848435699939728, 0.3277265429496765, 0.10924217849969864, 0.22120197117328644, 0.36866995692253113, 0.010533427819609642, 0.07373399287462234, 0.07373399287462234, 0.1369345635175705, 0.08426742255687714, 0.010533427819609642, 0.010533427819609642, 0.09829027205705643, 0.6225050091743469, 0.026210738345980644, 0.06552684307098389, 0.15071174502372742, 0.026210738345980644, 0.006552684586495161, 0.31840842962265015, 0.15920421481132507, 0.15920421481132507, 0.31840842962265015, 0.10256543010473251, 0.27350783348083496, 0.5128271579742432, 0.06837695837020874, 0.08630897849798203, 0.08630897849798203, 0.6904718279838562, 0.08630897849798203, 0.05037769302725792, 0.4198141098022461, 0.43660667538642883, 0.03358512744307518, 0.05037769302725792, 0.3301283121109009, 0.5502138733863831, 0.35871440172195435, 0.11957146972417831, 0.35871440172195435, 0.9398046135902405, 0.033968839794397354, 0.011322947219014168, 0.4262322783470154, 0.28415486216545105, 0.14207743108272552, 0.5656899809837341, 0.37712666392326355, 0.2330692559480667, 0.20472298562526703, 0.10078670084476471, 0.11023546010255814, 0.11023546010255814, 0.1354321390390396, 0.028346261009573936, 0.022047091275453568, 0.009448753669857979, 0.028346261009573936, 0.012598337605595589, 0.003149584401398897, 0.003149584401398897, 0.003149584401398897, 0.8614389896392822, 0.1608683168888092, 0.1608683168888092, 0.1608683168888092, 0.3217366337776184, 0.19053903222084045, 0.19053903222084045, 0.19053903222084045, 0.19053903222084045, 0.19053903222084045, 0.9170606732368469, 0.038531962782144547, 0.007706392090767622, 0.015412784181535244, 0.03712089732289314, 0.18560448288917542, 0.6681761145591736, 0.07424179464578629, 0.37454915046691895, 0.37454915046691895, 0.18727457523345947, 0.38985583186149597, 0.09746395796537399, 0.2923918664455414, 0.19492791593074799, 0.3842276632785797, 0.19211383163928986, 0.19211383163928986, 0.19211383163928986, 0.1865629255771637, 0.7462517023086548, 0.1865629255771637, 0.893093466758728, 0.10205741971731186, 0.031184211373329163, 0.2749880254268646, 0.2579784691333771, 0.2636483311653137, 0.02267942577600479, 0.014174641110002995, 0.005669856444001198, 0.008504784666001797, 0.008504784666001797, 0.008504784666001797, 0.002834928222000599, 0.18804550170898438, 0.5641365051269531, 0.18804550170898438, 0.18804550170898438, 0.15639962255954742, 0.15639962255954742, 0.15639962255954742, 0.46919888257980347, 0.18962380290031433, 0.37924760580062866, 0.18962380290031433, 0.18962380290031433, 0.10977960377931595, 0.2195592075586319, 0.16466940939426422, 0.054889801889657974, 0.10977960377931595, 0.054889801889657974, 0.2195592075586319, 0.3143881559371948, 0.47158223390579224, 0.6502460241317749, 0.1459735929965973, 0.1327032744884491, 0.02654065378010273, 0.013270326890051365, 0.2786147892475128, 0.18574319779872894, 0.09287159889936447, 0.2786147892475128, 0.3253633379936218, 0.1626816689968109, 0.3253633379936218, 0.1626816689968109, 0.9542113542556763, 0.15863406658172607, 0.3965851664543152, 0.31726813316345215, 0.07931703329086304, 0.5445823669433594, 0.01701819896697998, 0.23825478553771973, 0.13614559173583984, 0.03403639793395996, 0.01701819896697998, 0.10159284621477127, 0.7746454477310181, 0.08889373391866684, 0.012699105776846409, 0.012699105776846409, 0.8780131936073303, 0.008388660848140717, 0.04194330424070358, 0.0027962203603237867, 0.0055924407206475735, 0.0027962203603237867, 0.04194330424070358, 0.011184881441295147, 0.19406554102897644, 0.14554916322231293, 0.14554916322231293, 0.19406554102897644, 0.04851638525724411, 0.04851638525724411, 0.24258193373680115, 0.33463096618652344, 0.1432533860206604, 0.12087004631757736, 0.1589217334985733, 0.1275850534439087, 0.0358133465051651, 0.025740843266248703, 0.01231083832681179, 0.015668340027332306, 0.007834170013666153, 0.007834170013666153, 0.006715002469718456, 0.003357501234859228, 0.0011191670782864094, 0.30062252283096313, 0.6613695025444031, 0.8291649222373962, 0.13819415867328644, 0.4391857981681824, 0.2635114789009094, 0.029279053211212158, 0.029279053211212158, 0.058558106422424316, 0.029279053211212158, 0.11711621284484863, 0.32332316040992737, 0.26943597197532654, 0.07657653838396072, 0.07657653838396072, 0.034034017473459244, 0.08508504182100296, 0.0709042027592659, 0.011344672180712223, 0.01418084092438221, 0.017017008736729622, 0.008508504368364811, 0.008508504368364811, 0.0028361680451780558, 0.0028361680451780558, 0.14114704728126526, 0.564588189125061, 0.14114704728126526, 0.01376087125390768, 0.7430870532989502, 0.02752174250781536, 0.13760872185230255, 0.041282616555690765, 0.02752174250781536, 0.38572052121162415, 0.19286026060581207, 0.38572052121162415, 0.3548835515975952, 0.0443604439496994, 0.1330813318490982, 0.0887208878993988, 0.0887208878993988, 0.1330813318490982, 0.0443604439496994, 0.0443604439496994, 0.0887208878993988, 0.31365540623664856, 0.15682770311832428, 0.47048312425613403, 0.2772701382637024, 0.09242337197065353, 0.46211686730384827, 0.09242337197065353, 0.187080517411232, 0.03741610422730446, 0.6734898686408997, 0.03741610422730446, 0.03741610422730446, 0.2415270060300827, 0.20170074701309204, 0.12975652515888214, 0.169582799077034, 0.09506914019584656, 0.07708308845758438, 0.023124925792217255, 0.025694362819194794, 0.006423590704798698, 0.008993026800453663, 0.008993026800453663, 0.007708308752626181, 0.0038541543763130903, 0.002569436328485608, 0.24450477957725525, 0.16466648876667023, 0.09979787468910217, 0.20957553386688232, 0.1297372281551361, 0.024949468672275543, 0.029939360916614532, 0.054888829588890076, 0.004989893641322851, 0.014969680458307266, 0.009979787282645702, 0.9677852988243103, 0.1333252340555191, 0.2666504681110382, 0.1333252340555191, 0.06666261702775955, 0.1333252340555191, 0.33331307768821716, 0.19053499400615692, 0.38106998801231384, 0.19053499400615692, 0.2826307415962219, 0.2826307415962219, 0.14131537079811096, 0.14131537079811096, 0.14131537079811096, 0.18639153242111206, 0.3727830648422241, 0.18639153242111206, 0.18639153242111206, 0.3338873088359833, 0.2225915491580963, 0.03179879114031792, 0.01589939557015896, 0.14309456944465637, 0.03179879114031792, 0.03179879114031792, 0.12719516456127167, 0.01589939557015896, 0.047698188573122025, 0.8983710408210754, 0.056148190051317215, 0.4989663362503052, 0.1247415840625763, 0.2494831681251526, 0.08494101464748383, 0.16988202929496765, 0.3397640585899353, 0.1415683627128601, 0.02831367217004299, 0.02831367217004299, 0.02831367217004299, 0.02831367217004299, 0.08494101464748383, 0.05662734434008598, 0.19090311229228973, 0.26074570417404175, 0.10243581980466843, 0.15830989181995392, 0.07915494590997696, 0.07449877262115479, 0.03724938631057739, 0.05121790990233421, 0.013968520797789097, 0.013968520797789097, 0.013968520797789097, 0.004656173288822174, 0.42243579030036926, 0.5280447006225586, 0.2529706060886383, 0.16864708065986633, 0.08432354032993317, 0.42161768674850464, 0.2302267998456955, 0.04886889457702637, 0.21610911190509796, 0.15312254428863525, 0.13466095924377441, 0.10425364226102829, 0.03149328753352165, 0.005429877433925867, 0.019547557458281517, 0.028235362842679024, 0.014117681421339512, 0.009773778729140759, 0.003257926320657134, 0.18417909741401672, 0.18417909741401672, 0.5525373220443726, 0.3813631534576416, 0.0238351970911026, 0.0238351970911026, 0.2621871531009674, 0.0476703941822052, 0.0953407883644104, 0.0715055912733078, 0.0238351970911026, 0.0715055912733078, 0.3664986491203308, 0.4886648654937744, 0.5690701603889465, 0.18969005346298218, 0.18969005346298218, 0.7797445058822632, 0.15594890713691711, 0.18929263949394226, 0.06309754401445389, 0.4416828155517578, 0.25239017605781555, 0.38538381457328796, 0.018431400880217552, 0.12231747061014175, 0.19604307413101196, 0.10053490847349167, 0.09048141539096832, 0.001675581792369485, 0.005026745609939098, 0.01340465433895588, 0.05361861735582352, 0.00837790872901678, 0.001675581792369485, 0.03166672959923744, 0.010000019334256649, 0.07666681706905365, 0.5800011157989502, 0.26500052213668823, 0.01333335880190134, 0.0016666698502376676, 0.00666667940095067, 0.0016666698502376676, 0.003333339700475335, 0.0050000096671283245, 0.003333339700475335, 0.14877504110336304, 0.005313394125550985, 0.01594018191099167, 0.3294304311275482, 0.3931911885738373, 0.01062678825110197, 0.01594018191099167, 0.03719376027584076, 0.026566971093416214, 0.01594018191099167, 0.005313394125550985, 0.4864734411239624, 0.1621578186750412, 0.1621578186750412, 0.1621578186750412, 0.12452036142349243, 0.3113009035587311, 0.12452036142349243, 0.12452036142349243, 0.062260180711746216, 0.12452036142349243, 0.062260180711746216, 0.062260180711746216, 0.8685831427574158, 0.8575792908668518, 0.931670069694519, 0.18985503911972046, 0.18985503911972046, 0.18985503911972046, 0.18985503911972046, 0.18985503911972046, 0.9374772310256958, 0.06200840696692467, 0.717525839805603, 0.15059185028076172, 0.008858343586325645, 0.03543337434530258, 0.008858343586325645, 0.6234931945800781, 0.31174659729003906, 0.10042152553796768, 0.06694768369197845, 0.1807587444782257, 0.2343169003725052, 0.19414828717708588, 0.06025291606783867, 0.03347384184598923, 0.00669476855546236, 0.01338953711092472, 0.01338953711092472, 0.07364245504140854, 0.01338953711092472, 0.00669476855546236, 0.00669476855546236, 0.10999087244272232, 0.21998174488544464, 0.549954354763031, 0.3315160274505615, 0.663032054901123, 0.8890963196754456, 0.0932176411151886, 0.15536274015903473, 0.2692953944206238, 0.11393267661333084, 0.09839639812707901, 0.1450052261352539, 0.0466088205575943, 0.015536273829638958, 0.005178757943212986, 0.025893788784742355, 0.031072547659277916, 0.14543893933296204, 0.07433546334505081, 0.22947034239768982, 0.2423982471227646, 0.17129476368427277, 0.05925290286540985, 0.012927906587719917, 0.017237208783626556, 0.01400523167103529, 0.015082557685673237, 0.007541278842836618, 0.007541278842836618, 0.0021546510979533195, 0.0010773255489766598, 0.0010773255489766598, 0.20664086937904358, 0.2122257500886917, 0.22339552640914917, 0.04188666120171547, 0.09773554652929306, 0.07260354608297348, 0.03630177304148674, 0.022339552640914917, 0.013962220400571823, 0.02513199672102928, 0.03630177304148674, 0.008377332240343094, 0.2799624502658844, 0.1399812251329422, 0.1399812251329422, 0.2799624502658844, 0.18151989579200745, 0.165832981467247, 0.21737566590309143, 0.156869038939476, 0.10980833321809769, 0.06498860567808151, 0.029132822528481483, 0.02016887627542019, 0.026891835033893585, 0.006722958758473396, 0.00896394532173872, 0.00896394532173872, 0.1846693605184555, 0.1846693605184555, 0.4155060648918152, 0.09233468025922775, 0.046167340129613876, 0.046167340129613876, 0.046167340129613876, 0.9238357543945312, 0.07847245782613754, 0.05667455121874809, 0.27901315689086914, 0.37928351759910583, 0.0871916189789772, 0.05231497064232826, 0.013078742660582066, 0.01743832230567932, 0.00435958057641983, 0.00871916115283966, 0.013078742660582066, 0.00871916115283966, 0.00435958057641983, 0.5197591781616211, 0.09355664998292923, 0.015592774376273155, 0.02079036645591259, 0.16632293164730072, 0.07276628166437149, 0.025987956672906876, 0.05197591334581375, 0.010395183227956295, 0.025987956672906876, 0.08457639068365097, 0.8457639217376709, 0.945699155330658, 0.43510374426841736, 0.2962408661842346, 0.04937347397208214, 0.027772579342126846, 0.0339442640542984, 0.0339442640542984, 0.07714605331420898, 0.02468673698604107, 0.012343368493020535, 0.006171684246510267, 0.0030858421232551336, 0.1950949728488922, 0.585284948348999, 0.1950949728488922, 0.9569297432899475, 0.5590234994888306, 0.13975587487220764, 0.2795117497444153, 0.3401902914047241, 0.21756355464458466, 0.06724691390991211, 0.08306971937417984, 0.02768990583717823, 0.1582280397415161, 0.06329121440649033, 0.003955700900405645, 0.019778504967689514, 0.019778504967689514, 0.003955700900405645, 0.003955700900405645, 0.12489689141511917, 0.24979378283023834, 0.12489689141511917, 0.12489689141511917, 0.12489689141511917, 0.12489689141511917, 0.32501524686813354, 0.4875228703022003, 0.2694653272628784, 0.3079603910446167, 0.028871286660432816, 0.028871286660432816, 0.2694653272628784, 0.05774257332086563, 0.019247524440288544, 0.009623762220144272, 0.6085262298583984, 0.1521315574645996, 0.14227014780044556, 0.17783769965171814, 0.3556753993034363, 0.07113507390022278, 0.10670261830091476, 0.03556753695011139, 0.07113507390022278, 0.1253368854522705, 0.0667378231883049, 0.3792661428451538, 0.12045362591743469, 0.17579719424247742, 0.05697131156921387, 0.014649765565991402, 0.00488325534388423, 0.00976651068776846, 0.026044027879834175, 0.003255503484979272, 0.00488325534388423, 0.001627751742489636, 0.008138759061694145, 0.5009210109710693, 0.21468043327331543, 0.07156014442443848, 0.14312028884887695, 0.15189191699028015, 0.14429731667041779, 0.022783787921071053, 0.48605412244796753, 0.10632434487342834, 0.022783787921071053, 0.022783787921071053, 0.03037838265299797, 0.007594595663249493, 0.945472002029419, 0.027013486251235008, 0.027013486251235008, 0.933377206325531, 0.4591555893421173, 0.4591555893421173, 0.31863871216773987, 0.25491097569465637, 0.12745548784732819, 0.06372774392366409, 0.06372774392366409, 0.12745548784732819, 0.0790688693523407, 0.4744132161140442, 0.3953443467617035, 0.09626536071300507, 0.577592134475708, 0.19253072142601013, 0.3826410472393036, 0.3826410472393036, 0.1913205236196518, 0.13336627185344696, 0.10002470016479492, 0.06668313592672348, 0.3334156572818756, 0.03334156796336174, 0.06668313592672348, 0.06668313592672348, 0.1667078286409378, 0.2806234359741211, 0.18708229064941406, 0.09354114532470703, 0.2806234359741211, 0.18708229064941406, 0.9299398064613342, 0.02021608129143715, 0.0404321625828743, 0.15279735624790192, 0.6250801086425781, 0.013890668749809265, 0.013890668749809265, 0.08334401249885559, 0.041672006249427795, 0.05556267499923706, 0.013890668749809265, 0.013890668749809265, 0.2477661371231079, 0.15600089728832245, 0.1504949927330017, 0.18903638422489166, 0.08625932037830353, 0.08442401885986328, 0.02385896071791649, 0.003670609323307872, 0.02385896071791649, 0.016517741605639458, 0.005505914334207773, 0.005505914334207773, 0.003670609323307872, 0.001835304661653936, 0.9003939628601074, 0.05296434834599495, 0.013241087086498737, 0.013241087086498737, 0.05356142669916153, 0.3749299943447113, 0.5356142520904541, 0.10554060339927673, 0.030889933928847313, 0.5212676525115967, 0.1583109050989151, 0.046334899961948395, 0.03346409276127815, 0.014157885685563087, 0.00900956429541111, 0.002574161160737276, 0.043760739266872406, 0.016732046380639076, 0.00900956429541111, 0.002574161160737276, 0.002574161160737276, 0.001287080580368638, 0.15842808783054352, 0.13024616241455078, 0.3023843765258789, 0.124152772128582, 0.16528314352035522, 0.04570040851831436, 0.014471796341240406, 0.010663428343832493, 0.012948448769748211, 0.00990175548940897, 0.012186775915324688, 0.006855061277747154, 0.002285020425915718, 0.0038083672989159822, 0.000761673494707793, 0.8481948971748352, 0.010343840345740318, 0.04137536138296127, 0.05171919986605644, 0.04137536138296127, 0.2164229452610016, 0.21026456356048584, 0.1917894333600998, 0.10909124463796616, 0.06950167566537857, 0.08885657787322998, 0.036950260400772095, 0.03167165070772171, 0.008797680959105492, 0.008797680959105492, 0.015835825353860855, 0.005278608296066523, 0.004398840479552746, 0.0017595360986888409, 0.0017595360986888409, 0.04497790336608887, 0.04497790336608887, 0.17241530120372772, 0.23238584399223328, 0.23238584399223328, 0.04497790336608887, 0.007496317382901907, 0.03748158738017082, 0.022488951683044434, 0.07496317476034164, 0.014992634765803814, 0.0674668550491333, 0.022488951683044434, 0.6740075945854187, 0.2246692031621933, 0.5124770998954773, 0.2759492099285126, 0.03942131623625755, 0.03942131623625755, 0.0788426324725151, 0.03942131623625755, 0.18781299889087677, 0.12470174580812454, 0.21670730412006378, 0.20834316313266754, 0.10341120511293411, 0.07071501761674881, 0.02433204837143421, 0.019769789651036263, 0.01444715354591608, 0.01064527127891779, 0.008364141918718815, 0.006843388546258211, 0.0022811295930296183, 0.0022811295930296183, 0.7050645351409912, 0.1007235050201416, 0.1007235050201416, 0.2693357765674591, 0.2633058726787567, 0.09044858068227768, 0.13466788828372955, 0.06632895767688751, 0.07034889608621597, 0.044219307601451874, 0.02612959034740925, 0.01406977977603674, 0.004019937012344599, 0.0020099685061722994, 0.008039874024689198, 0.0020099685061722994, 0.004019937012344599, 0.08295704424381256, 0.103696309030056, 0.1285834163427353, 0.3981938064098358, 0.2156883180141449, 0.02073926106095314, 0.01244355645030737, 0.008295704610645771, 0.01244355645030737, 0.008295704610645771, 0.0041478523053228855, 0.0041478523053228855, 0.0041478523053228855, 0.0041478523053228855, 0.31520310044288635, 0.26266926527023315, 0.15760155022144318, 0.05253385379910469, 0.05253385379910469, 0.10506770759820938, 0.28543946146965027, 0.28543946146965027, 0.14271973073482513, 0.14271973073482513, 0.14271973073482513, 0.15839256346225739, 0.15839256346225739, 0.47517770528793335, 0.1935122162103653, 0.3870244324207306, 0.1935122162103653, 0.8790774345397949, 0.12282203137874603, 0.12282203137874603, 0.6141101717948914, 0.1210145577788353, 0.2420291155576706, 0.2420291155576706, 0.2420291155576706, 0.3225215971469879, 0.23671311140060425, 0.0710139349102974, 0.10652089864015579, 0.08876741677522659, 0.044383708387613297, 0.08284958451986313, 0.01775348372757435, 0.008876741863787174, 0.0029589137993752956, 0.0029589137993752956, 0.005917827598750591, 0.0029589137993752956, 0.0029589137993752956, 0.005917827598750591, 0.1584782600402832, 0.1584782600402832, 0.1584782600402832, 0.4754347801208496, 0.9058181643486023, 0.15517191588878632, 0.012930992990732193, 0.12930993735790253, 0.15517191588878632, 0.4202572703361511, 0.01939648948609829, 0.03879297897219658, 0.0064654964953660965, 0.01939648948609829, 0.01939648948609829, 0.0064654964953660965, 0.025861985981464386, 0.19350939989089966, 0.19350939989089966, 0.19350939989089966, 0.19350939989089966, 0.5556095242500305, 0.13890238106250763, 0.13890238106250763, 0.13890238106250763, 0.9128890037536621, 0.4205527901649475, 0.14018426835536957, 0.14018426835536957, 0.14018426835536957, 0.14018426835536957, 0.7628282904624939, 0.15256565809249878, 0.37217527627944946, 0.18608763813972473, 0.18608763813972473, 0.18608763813972473, 0.26217567920684814, 0.13108783960342407, 0.3932635188102722, 0.13108783960342407, 0.8619133234024048, 0.14002679288387299, 0.793485164642334, 0.9371785521507263, 0.33561140298843384, 0.16780570149421692, 0.16780570149421692, 0.16780570149421692, 0.8275474309921265, 0.02068868651986122, 0.02068868651986122, 0.04137737303972244, 0.04137737303972244, 0.02068868651986122, 0.04137737303972244, 0.02068868651986122, 0.266389936208725, 0.29302892088890076, 0.1331949681043625, 0.15983396768569946, 0.026638993993401527, 0.10655597597360611, 0.16838641464710236, 0.3367728292942047, 0.16838641464710236, 0.16838641464710236, 0.1299021691083908, 0.6928115487098694, 0.08660144358873367, 0.05610749125480652, 0.6919924020767212, 0.09351248294115067, 0.1309174746274948, 0.018702497705817223, 0.913241982460022, 0.4546414017677307, 0.25979506969451904, 0.06494876742362976, 0.06494876742362976, 0.06494876742362976, 0.3211651146411896, 0.2023087441921234, 0.12138524651527405, 0.136558398604393, 0.032875169068574905, 0.09356779605150223, 0.02781745232641697, 0.02023087441921234, 0.022759733721613884, 0.0025288593024015427, 0.0025288593024015427, 0.007586577907204628, 0.0025288593024015427, 0.005057718604803085, 0.37562456727027893, 0.2504163682460785, 0.20868031680583954, 0.0834721252322197, 0.04173606261610985, 0.017734693363308907, 0.5497755408287048, 0.38129591941833496, 0.026602040976285934, 0.008867346681654453, 0.09020030498504639, 0.04510015249252319, 0.8118027448654175, 0.2100411057472229, 0.10287727415561676, 0.29577216506004333, 0.1371697038412094, 0.0685848519206047, 0.05572519078850746, 0.03000587224960327, 0.008573106490075588, 0.008573106490075588, 0.02571931853890419, 0.02143276482820511, 0.02143276482820511, 0.004286553245037794, 0.008573106490075588, 0.20963852107524872, 0.1674196571111679, 0.19216863811016083, 0.1310240775346756, 0.12811243534088135, 0.0596887432038784, 0.030572284013032913, 0.020381523296236992, 0.01164658460766077, 0.01455823052674532, 0.01601405441761017, 0.01164658460766077, 0.004367469344288111, 0.0014558230759575963, 0.0029116461519151926, 0.29493555426597595, 0.2161514014005661, 0.09090479463338852, 0.14948788285255432, 0.07878415286540985, 0.05656298249959946, 0.04848255589604378, 0.026261383667588234, 0.012120638974010944, 0.002020106418058276, 0.004040212836116552, 0.008080425672233105, 0.006060319487005472, 0.004040212836116552, 0.0023380699567496777, 0.9352279901504517, 0.0023380699567496777, 0.0023380699567496777, 0.0023380699567496777, 0.01870455965399742, 0.030394909903407097, 0.004676139913499355, 0.9041696786880493, 0.44386398792266846, 0.40581852197647095, 0.025363657623529434, 0.016909105703234673, 0.02959093265235424, 0.05072731524705887, 0.016909105703234673, 0.004227276425808668, 0.004227276425808668, 0.004227276425808668, 0.11095228046178818, 0.8775316476821899, 0.19017481803894043, 0.5705244541168213, 0.19017481803894043, 0.018095342442393303, 0.9681008458137512, 0.2955301105976105, 0.27911177277565, 0.1313467174768448, 0.11492837965488434, 0.0164183396846056, 0.0656733587384224, 0.0328366793692112, 0.0164183396846056, 0.049255020916461945, 0.8894861936569214, 0.5543620586395264, 0.3695746958255768, 0.08340927213430405, 0.25022780895233154, 0.1668185442686081, 0.08340927213430405, 0.08340927213430405, 0.25022780895233154, 0.21102938055992126, 0.12789659202098846, 0.23874031007289886, 0.13215981423854828, 0.12150175869464874, 0.04689541831612587, 0.03836897760629654, 0.025579318404197693, 0.002131609944626689, 0.012789659202098846, 0.029842538759112358, 0.014921269379556179, 0.002131609944626689, 0.795790433883667, 0.056842174381017685, 0.056842174381017685, 0.872519314289093, 0.0033302265219390392, 0.0033302265219390392, 0.06327430158853531, 0.046623170375823975, 0.0033302265219390392, 0.1959211379289627, 0.17047682404518127, 0.2518985867500305, 0.10941050201654434, 0.09414391964673996, 0.05343303456902504, 0.03307759389281273, 0.02798873372375965, 0.01017772126942873, 0.012722151353955269, 0.015266581438481808, 0.012722151353955269, 0.0025444303173571825, 0.0025444303173571825, 0.005088860634714365, 0.1519603729248047, 0.11819140613079071, 0.2146741896867752, 0.22432246804237366, 0.12542761862277985, 0.0771862268447876, 0.026532763615250587, 0.0144724166020751, 0.004824139177799225, 0.00964827835559845, 0.024120694026350975, 0.004824139177799225, 0.0024120695888996124, 0.0024120695888996124, 0.28436070680618286, 0.28436070680618286, 0.14218035340309143, 0.14218035340309143, 0.14218035340309143, 0.1002906933426857, 0.1002906933426857, 0.1782945692539215, 0.17272286117076874, 0.19500967860221863, 0.13372091948986053, 0.02785852551460266, 0.005571705289185047, 0.016715114936232567, 0.011143410578370094, 0.011143410578370094, 0.016715114936232567, 0.02785852551460266, 0.26709020137786865, 0.09856900572776794, 0.1653415560722351, 0.14626368880271912, 0.08267077803611755, 0.11446723341941833, 0.03815574198961258, 0.025437163189053535, 0.009538935497403145, 0.006359290797263384, 0.006359290797263384, 0.03179645165801048, 0.003179645398631692, 0.006359290797263384, 0.302968293428421, 0.12721320986747742, 0.19584138691425323, 0.09875762462615967, 0.12386549264192581, 0.050215739756822586, 0.01673858053982258, 0.003347716061398387, 0.02845558524131775, 0.013390864245593548, 0.010043147951364517, 0.02343401126563549, 0.003347716061398387, 0.0016738580306991935, 0.6811739206314087, 0.22705797851085663, 0.13541504740715027, 0.1248827651143074, 0.2587932050228119, 0.16249805688858032, 0.18506722152233124, 0.04212912544608116, 0.01805533841252327, 0.030092231929302216, 0.004513834603130817, 0.01053228136152029, 0.012036892585456371, 0.006018446292728186, 0.003009223146364093, 0.0015046115731820464, 0.003009223146364093, 0.52597576379776, 0.037569694221019745, 0.3381272554397583, 0.037569694221019745, 0.037569694221019745], \"Term\": [\"abbey\", \"abide\", \"abide\", \"accent\", \"accent\", \"accent\", \"accent\", \"accent\", \"accent\", \"accent\", \"accent\", \"accent\", \"acquaintances\", \"acquaintances\", \"acquaintances\", \"acquaintances\", \"actress\", \"adele\", \"adele\", \"adele\", \"adele\", \"adele\", \"adele\", \"administered\", \"administered\", \"administered\", \"adoption\", \"adoption\", \"aerial\", \"aerial\", \"aerial\", \"affection\", \"affection\", \"affection\", \"affection\", \"affection\", \"affection\", \"affection\", \"affection\", \"affection\", \"affection\", \"affection\", \"affection\", \"agonies\", \"agonies\", \"agonies\", \"agonies\", \"air\", \"air\", \"air\", \"air\", \"air\", \"air\", \"air\", \"air\", \"air\", \"air\", \"air\", \"air\", \"air\", \"airing\", \"airing\", \"airing\", \"albion\", \"albion\", \"albion\", \"albion\", \"alfred\", \"alfred\", \"alfred\", \"allee\", \"allenham\", \"alliance\", \"alliance\", \"alliance\", \"alliance\", \"alliance\", \"alliance\", \"amazing\", \"amazing\", \"amazing\", \"amazing\", \"ambitious\", \"ambitious\", \"ambitious\", \"ambitious\", \"amounted\", \"amounted\", \"amounted\", \"amour\", \"amour\", \"amour\", \"amy\", \"anecdote\", \"anecdote\", \"anecdote\", \"anecdote\", \"anguish\", \"anguish\", \"anguish\", \"anguish\", \"annum\", \"annum\", \"annum\", \"annum\", \"annum\", \"annum\", \"answer\", \"answer\", \"answer\", \"answer\", \"answer\", \"answer\", \"answer\", \"answer\", \"answer\", \"answer\", \"answer\", \"answer\", \"answer\", \"answer\", \"antagonist\", \"antagonist\", \"antagonist\", \"apologising\", \"appealing\", \"appreciating\", \"appreciating\", \"appreciating\", \"appreciating\", \"asked\", \"asked\", \"asked\", \"asked\", \"asked\", \"asked\", \"asked\", \"asked\", \"asked\", \"asked\", \"asked\", \"asked\", \"asked\", \"aspire\", \"aspire\", \"aspire\", \"aspire\", \"assez\", \"assez\", \"assez\", \"assiduous\", \"assiduous\", \"assiduous\", \"assiduous\", \"assign\", \"assign\", \"assign\", \"assistance\", \"assistance\", \"assistance\", \"assistance\", \"assistance\", \"assistance\", \"assistance\", \"assistance\", \"assistance\", \"associations\", \"associations\", \"associations\", \"associations\", \"associations\", \"associations\", \"atom\", \"attic\", \"attic\", \"attic\", \"attic\", \"attics\", \"attics\", \"attics\", \"august\", \"august\", \"august\", \"august\", \"august\", \"aunt\", \"aunt\", \"aunt\", \"aunt\", \"aunt\", \"aunt\", \"aunt\", \"aunt\", \"aunt\", \"aunt\", \"aunt\", \"average\", \"average\", \"average\", \"away\", \"away\", \"away\", \"away\", \"away\", \"away\", \"away\", \"away\", \"away\", \"away\", \"away\", \"away\", \"away\", \"away\", \"away\", \"banker\", \"banker\", \"banker\", \"banker\", \"bark\", \"barouche\", \"barouche\", \"barouche\", \"barton\", \"barton\", \"bassompierre\", \"bassompierre\", \"bassompierre\", \"bassompierre\", \"bassompierre\", \"bates\", \"bates\", \"bates\", \"bates\", \"bates\", \"bates\", \"bath\", \"bath\", \"bath\", \"bath\", \"bathing\", \"bathing\", \"bathing\", \"beck\", \"beck\", \"beck\", \"beck\", \"beck\", \"bedrooms\", \"bedrooms\", \"bedrooms\", \"bedrooms\", \"beer\", \"beer\", \"beer\", \"began\", \"began\", \"began\", \"began\", \"began\", \"began\", \"began\", \"began\", \"began\", \"began\", \"began\", \"began\", \"behaviour\", \"behaviour\", \"behaviour\", \"behaviour\", \"behaviour\", \"behaviour\", \"behaviour\", \"belgian\", \"belgian\", \"belgian\", \"belgians\", \"belgians\", \"belgians\", \"belgians\", \"belgium\", \"belgium\", \"belgium\", \"belgium\", \"belgium\", \"belles\", \"bennet\", \"bennet\", \"bennet\", \"bennet\", \"bennet\", \"bennets\", \"bennets\", \"bessie\", \"bessie\", \"bessie\", \"betook\", \"betook\", \"better\", \"better\", \"better\", \"better\", \"better\", \"better\", \"better\", \"better\", \"better\", \"better\", \"better\", \"better\", \"better\", \"better\", \"better\", \"bien\", \"bien\", \"bien\", \"bien\", \"bien\", \"bigben\", \"bigben\", \"bingley\", \"bingley\", \"bingley\", \"bingley\", \"black\", \"black\", \"black\", \"black\", \"black\", \"black\", \"black\", \"black\", \"black\", \"black\", \"black\", \"boarder\", \"boarder\", \"boarders\", \"boarders\", \"boards\", \"boards\", \"boards\", \"boasting\", \"boasting\", \"boasting\", \"body\", \"body\", \"body\", \"body\", \"body\", \"body\", \"body\", \"body\", \"body\", \"body\", \"boiled\", \"boiled\", \"boiled\", \"boiled\", \"bone\", \"bone\", \"bone\", \"bone\", \"bone\", \"book\", \"book\", \"book\", \"book\", \"book\", \"book\", \"book\", \"book\", \"book\", \"book\", \"book\", \"book\", \"book\", \"book\", \"bourgh\", \"bourgh\", \"bourne\", \"boys\", \"boys\", \"boys\", \"boys\", \"boys\", \"boys\", \"boys\", \"boys\", \"boys\", \"bracelet\", \"bracelet\", \"bracelet\", \"bracelet\", \"bracelet\", \"brandon\", \"brandon\", \"brandon\", \"bread\", \"bread\", \"bread\", \"bread\", \"bread\", \"bread\", \"bretton\", \"bretton\", \"bretton\", \"bretton\", \"bretton\", \"bretton\", \"briggs\", \"briggs\", \"brocklehurst\", \"brocklehurst\", \"brushed\", \"brushed\", \"brushed\", \"brushed\", \"brushed\", \"brussels\", \"brussels\", \"brussels\", \"brussels\", \"brussels\", \"brussels\", \"brussels\", \"burns\", \"burnt\", \"burnt\", \"burnt\", \"burnt\", \"cake\", \"cake\", \"cake\", \"cake\", \"cake\", \"cake\", \"cake\", \"came\", \"came\", \"came\", \"came\", \"came\", \"came\", \"came\", \"came\", \"came\", \"came\", \"came\", \"came\", \"came\", \"campbell\", \"campbell\", \"campbell\", \"candle\", \"candle\", \"candle\", \"candle\", \"capacity\", \"capacity\", \"capacity\", \"capacity\", \"capacity\", \"captain\", \"captain\", \"captain\", \"carlo\", \"caroline\", \"caroline\", \"caroline\", \"caroline\", \"carter\", \"carter\", \"carter\", \"carter\", \"carter\", \"catherine\", \"catherine\", \"catherine\", \"catherine\", \"catherine\", \"celine\", \"certain\", \"certain\", \"certain\", \"certain\", \"certain\", \"certain\", \"certain\", \"certain\", \"certain\", \"certain\", \"certain\", \"certain\", \"certain\", \"certainly\", \"certainly\", \"certainly\", \"certainly\", \"certainly\", \"certainly\", \"certainly\", \"certainly\", \"certainly\", \"certainly\", \"certainly\", \"certainly\", \"certainly\", \"ces\", \"ces\", \"ces\", \"ces\", \"chalk\", \"chalk\", \"chalk\", \"chalk\", \"chances\", \"chances\", \"chances\", \"chances\", \"chances\", \"charade\", \"charade\", \"charade\", \"charade\", \"charlotte\", \"charlotte\", \"charlotte\", \"charlotte\", \"charlotte\", \"cheap\", \"cheap\", \"cheap\", \"cheap\", \"cheese\", \"chestnut\", \"chestnut\", \"chestnut\", \"children\", \"children\", \"children\", \"children\", \"children\", \"children\", \"children\", \"children\", \"children\", \"children\", \"children\", \"children\", \"children\", \"chink\", \"chink\", \"chink\", \"cholmondeley\", \"cholmondeley\", \"cholmondeley\", \"cholmondeley\", \"chooses\", \"chooses\", \"church\", \"church\", \"church\", \"church\", \"church\", \"church\", \"church\", \"church\", \"church\", \"churchill\", \"churchill\", \"churchill\", \"churchill\", \"churchill\", \"churchill\", \"churchill\", \"civility\", \"civility\", \"civility\", \"civility\", \"civility\", \"civility\", \"classe\", \"classe\", \"classe\", \"classe\", \"cleveland\", \"cleveland\", \"clever\", \"clever\", \"clever\", \"clever\", \"clever\", \"clever\", \"clever\", \"clever\", \"clever\", \"clever\", \"climax\", \"climax\", \"climax\", \"climax\", \"cloaks\", \"cloaks\", \"cloaks\", \"cloaks\", \"colds\", \"colds\", \"colds\", \"cole\", \"cole\", \"cole\", \"collation\", \"collation\", \"collation\", \"collins\", \"collins\", \"collins\", \"collins\", \"colonel\", \"colonel\", \"colonel\", \"colonel\", \"colonel\", \"colonel\", \"colonel\", \"colonel\", \"combe\", \"come\", \"come\", \"come\", \"come\", \"come\", \"come\", \"come\", \"come\", \"come\", \"come\", \"come\", \"come\", \"come\", \"come\", \"come\", \"comfortable\", \"comfortable\", \"comfortable\", \"comfortable\", \"comfortable\", \"comfortable\", \"comfortable\", \"comfortable\", \"comfortable\", \"comfortable\", \"comfortable\", \"comfortable\", \"comments\", \"comments\", \"comments\", \"comments\", \"committed\", \"committed\", \"committed\", \"committed\", \"committed\", \"committed\", \"committed\", \"communicative\", \"communicative\", \"communicative\", \"communicative\", \"communicative\", \"complacent\", \"complacent\", \"complacent\", \"comprehending\", \"comprehending\", \"comprehending\", \"concisely\", \"concisely\", \"concisely\", \"confidential\", \"confidential\", \"confidential\", \"confidential\", \"consists\", \"consists\", \"consists\", \"consists\", \"contains\", \"contains\", \"contour\", \"contour\", \"contour\", \"conversations\", \"conversations\", \"conversations\", \"conversations\", \"copied\", \"copied\", \"copied\", \"copied\", \"copied\", \"copying\", \"copying\", \"copying\", \"copying\", \"copying\", \"corps\", \"corps\", \"corridor\", \"corridor\", \"corridor\", \"corridor\", \"corridor\", \"cottage\", \"cottage\", \"cottage\", \"cottage\", \"cottage\", \"cottage\", \"cottage\", \"cottage\", \"country\", \"country\", \"country\", \"country\", \"country\", \"country\", \"country\", \"country\", \"country\", \"country\", \"country\", \"course\", \"course\", \"course\", \"course\", \"course\", \"course\", \"course\", \"course\", \"course\", \"course\", \"course\", \"course\", \"course\", \"course\", \"course\", \"cox\", \"crack\", \"crack\", \"crecy\", \"crecy\", \"crecy\", \"crecy\", \"crimsworth\", \"crimsworth\", \"crimsworth\", \"crimsworth\", \"crimsworth\", \"crimsworth\", \"crimsworth\", \"cultivated\", \"cultivated\", \"cultivated\", \"cup\", \"cup\", \"cup\", \"cup\", \"cup\", \"cup\", \"curricle\", \"curtain\", \"curtain\", \"curtain\", \"curtain\", \"curtain\", \"curtain\", \"curtain\", \"darcy\", \"darcy\", \"darcy\", \"dark\", \"dark\", \"dark\", \"dark\", \"dark\", \"dark\", \"dark\", \"dark\", \"dark\", \"dark\", \"dark\", \"dark\", \"dashwood\", \"dashwood\", \"dashwood\", \"dashwood\", \"dashwood\", \"dashwoods\", \"dashwoods\", \"dawn\", \"dawn\", \"dawn\", \"dawn\", \"dawn\", \"dawn\", \"dawn\", \"day\", \"day\", \"day\", \"day\", \"day\", \"day\", \"day\", \"day\", \"day\", \"day\", \"day\", \"day\", \"day\", \"day\", \"day\", \"dear\", \"dear\", \"dear\", \"dear\", \"dear\", \"dear\", \"dear\", \"dear\", \"dear\", \"dear\", \"dear\", \"dear\", \"death\", \"death\", \"death\", \"death\", \"death\", \"death\", \"death\", \"death\", \"death\", \"death\", \"death\", \"decease\", \"decease\", \"decease\", \"decease\", \"decease\", \"deck\", \"deck\", \"defendue\", \"deformity\", \"deformity\", \"deformity\", \"degree\", \"degree\", \"degree\", \"degree\", \"degree\", \"degree\", \"degree\", \"degree\", \"degree\", \"degree\", \"degree\", \"degree\", \"delaford\", \"delaford\", \"demoiselles\", \"demoiselles\", \"demoiselles\", \"demonstrative\", \"denny\", \"denote\", \"denote\", \"denote\", \"denote\", \"dent\", \"deportment\", \"deportment\", \"deportment\", \"des\", \"des\", \"des\", \"des\", \"des\", \"desk\", \"desk\", \"desk\", \"desk\", \"desk\", \"desk\", \"desk\", \"desk\", \"desk\", \"desk\", \"despotism\", \"despotism\", \"despotism\", \"despotism\", \"devoirs\", \"devoirs\", \"devonshire\", \"devonshire\", \"devonshire\", \"devoting\", \"devoting\", \"devoting\", \"devoured\", \"diana\", \"diana\", \"diana\", \"diana\", \"diana\", \"diffused\", \"diffused\", \"diffused\", \"diffused\", \"dimly\", \"dingy\", \"dingy\", \"dingy\", \"director\", \"director\", \"director\", \"director\", \"director\", \"directress\", \"directress\", \"directress\", \"directress\", \"directress\", \"directress\", \"discharging\", \"discharging\", \"discharging\", \"discharging\", \"discharging\", \"dishes\", \"dishes\", \"dishes\", \"dishes\", \"dishes\", \"dishevelled\", \"dishevelled\", \"dishevelled\", \"dishevelled\", \"disposal\", \"disposal\", \"disposal\", \"disposal\", \"disposal\", \"dissimulation\", \"dissimulation\", \"doctor\", \"doctor\", \"doctor\", \"doctor\", \"document\", \"document\", \"document\", \"donwell\", \"donwell\", \"donwell\", \"door\", \"door\", \"door\", \"door\", \"door\", \"door\", \"door\", \"door\", \"door\", \"door\", \"door\", \"door\", \"door\", \"door\", \"doubt\", \"doubt\", \"doubt\", \"doubt\", \"doubt\", \"doubt\", \"doubt\", \"doubt\", \"doubt\", \"doubt\", \"doubt\", \"doubt\", \"doubt\", \"doubt\", \"dr\", \"dr\", \"dr\", \"dr\", \"dr\", \"dr\", \"dr\", \"drawings\", \"drawings\", \"drawings\", \"drawings\", \"drawings\", \"easy\", \"easy\", \"easy\", \"easy\", \"easy\", \"easy\", \"easy\", \"easy\", \"easy\", \"easy\", \"easy\", \"easy\", \"easy\", \"edward\", \"edward\", \"edward\", \"edward\", \"edward\", \"edward\", \"edward\", \"edward\", \"edward\", \"edward\", \"effusions\", \"elderly\", \"elderly\", \"elderly\", \"elderly\", \"elderly\", \"elderly\", \"elderly\", \"elinor\", \"elinor\", \"elinor\", \"elinor\", \"elinor\", \"elinor\", \"eliza\", \"eliza\", \"eliza\", \"eliza\", \"eliza\", \"eliza\", \"elizabeth\", \"elizabeth\", \"elizabeth\", \"elizabeth\", \"elizabeth\", \"elizabeth\", \"elizabeth\", \"elizabeth\", \"elizabeth\", \"elle\", \"elle\", \"elle\", \"elle\", \"elle\", \"elle\", \"elton\", \"elton\", \"elton\", \"elton\", \"elton\", \"elton\", \"elton\", \"eltons\", \"eltons\", \"emanuel\", \"emanuel\", \"emanuel\", \"emanuel\", \"emanuel\", \"embers\", \"embers\", \"emma\", \"emma\", \"emma\", \"emma\", \"emma\", \"emma\", \"emma\", \"emma\", \"emma\", \"employments\", \"employments\", \"encore\", \"encore\", \"encore\", \"encore\", \"enfin\", \"enfin\", \"engagement\", \"engagement\", \"engagement\", \"engagement\", \"engagement\", \"england\", \"england\", \"england\", \"england\", \"england\", \"england\", \"england\", \"england\", \"england\", \"england\", \"england\", \"england\", \"england\", \"english\", \"english\", \"english\", \"english\", \"english\", \"english\", \"english\", \"english\", \"english\", \"english\", \"english\", \"enlarge\", \"enlarge\", \"enlarge\", \"enlarge\", \"enlarged\", \"enlarged\", \"enlarged\", \"enlarged\", \"enormous\", \"enormous\", \"enormous\", \"enormous\", \"enounced\", \"enounced\", \"enounced\", \"enounced\", \"enquire\", \"enquiry\", \"enscombe\", \"enscombe\", \"enscombe\", \"entreaty\", \"entreaty\", \"enumerating\", \"enveloped\", \"equivalent\", \"equivalent\", \"equivalent\", \"equivalent\", \"er\", \"eshton\", \"est\", \"est\", \"est\", \"est\", \"est\", \"est\", \"est\", \"establishment\", \"establishment\", \"establishment\", \"establishment\", \"establishment\", \"establishment\", \"establishment\", \"establishment\", \"establishment\", \"establishment\", \"establishment\", \"estate\", \"estate\", \"estate\", \"estate\", \"estate\", \"estate\", \"estate\", \"estate\", \"estate\", \"estrade\", \"estrade\", \"et\", \"et\", \"et\", \"et\", \"et\", \"etes\", \"etes\", \"etre\", \"etre\", \"etre\", \"evans\", \"evans\", \"evans\", \"evening\", \"evening\", \"evening\", \"evening\", \"evening\", \"evening\", \"evening\", \"evening\", \"evening\", \"evening\", \"evening\", \"evening\", \"evening\", \"evening\", \"everybody\", \"everybody\", \"everybody\", \"everybody\", \"everybody\", \"everybody\", \"everybody\", \"exchanging\", \"exchanging\", \"exchanging\", \"exchanging\", \"existence\", \"existence\", \"existence\", \"existence\", \"existence\", \"existence\", \"existence\", \"existence\", \"existence\", \"existence\", \"expanse\", \"expanse\", \"expanse\", \"expect\", \"expect\", \"expect\", \"expect\", \"expect\", \"expect\", \"expect\", \"expect\", \"expenses\", \"expenses\", \"expenses\", \"expenses\", \"expenses\", \"experiment\", \"experiment\", \"experiment\", \"explore\", \"explore\", \"explore\", \"explore\", \"exploring\", \"exploring\", \"exploring\", \"external\", \"external\", \"external\", \"external\", \"external\", \"externes\", \"extorted\", \"extorted\", \"extorted\", \"eye\", \"eye\", \"eye\", \"eye\", \"eye\", \"eye\", \"eye\", \"eye\", \"eye\", \"eye\", \"eye\", \"eye\", \"eye\", \"eye\", \"eyelid\", \"eyelid\", \"eyelid\", \"eyes\", \"eyes\", \"eyes\", \"eyes\", \"eyes\", \"eyes\", \"eyes\", \"eyes\", \"eyes\", \"eyes\", \"eyes\", \"eyes\", \"eyes\", \"eyre\", \"eyre\", \"eyre\", \"eyre\", \"face\", \"face\", \"face\", \"face\", \"face\", \"face\", \"face\", \"face\", \"face\", \"face\", \"face\", \"face\", \"face\", \"face\", \"face\", \"fairfax\", \"fairfax\", \"fairfax\", \"fairfax\", \"fairfax\", \"fairfax\", \"fairfax\", \"fairfax\", \"fairfax\", \"fairfax\", \"fairfax\", \"family\", \"family\", \"family\", \"family\", \"family\", \"family\", \"family\", \"family\", \"family\", \"family\", \"family\", \"family\", \"family\", \"fanshawe\", \"fanshawe\", \"fanshawe\", \"fanshawe\", \"far\", \"far\", \"far\", \"far\", \"far\", \"far\", \"far\", \"far\", \"far\", \"far\", \"far\", \"far\", \"far\", \"far\", \"far\", \"farewell\", \"farewell\", \"farewell\", \"farewell\", \"farewell\", \"farewell\", \"father\", \"father\", \"father\", \"father\", \"father\", \"father\", \"father\", \"father\", \"father\", \"father\", \"father\", \"father\", \"father\", \"father\", \"fathers\", \"fathers\", \"fathers\", \"fathers\", \"features\", \"features\", \"features\", \"features\", \"features\", \"features\", \"features\", \"features\", \"features\", \"features\", \"features\", \"features\", \"fee\", \"fee\", \"fee\", \"feel\", \"feel\", \"feel\", \"feel\", \"feel\", \"feel\", \"feel\", \"feel\", \"feel\", \"feel\", \"feel\", \"feel\", \"feel\", \"feel\", \"feel\", \"feelings\", \"feelings\", \"feelings\", \"feelings\", \"feelings\", \"feelings\", \"feelings\", \"feelings\", \"feelings\", \"feelings\", \"feelings\", \"feelings\", \"feelings\", \"felicitations\", \"felicitations\", \"felicitations\", \"felt\", \"felt\", \"felt\", \"felt\", \"felt\", \"felt\", \"felt\", \"felt\", \"felt\", \"felt\", \"felt\", \"felt\", \"felt\", \"felt\", \"ferrars\", \"ferrars\", \"ferrars\", \"fetters\", \"fetters\", \"fiacre\", \"fiacre\", \"fifine\", \"fifine\", \"fifth\", \"fifth\", \"fifth\", \"fifth\", \"firmness\", \"firmness\", \"firmness\", \"firmness\", \"firmness\", \"firmness\", \"fitzwilliam\", \"fitzwilliam\", \"flamand\", \"flamand\", \"flown\", \"flown\", \"flown\", \"ford\", \"ford\", \"forster\", \"forster\", \"forster\", \"fortnight\", \"fortnight\", \"fortnight\", \"fortnight\", \"fortnight\", \"fortnight\", \"fortnight\", \"fortnight\", \"fortnight\", \"fortnight\", \"fortune\", \"fortune\", \"fortune\", \"fortune\", \"fortune\", \"fortune\", \"fortune\", \"fortune\", \"fortune\", \"fortune\", \"fortune\", \"fortune\", \"fortune\", \"fortune\", \"fortune\", \"forwarded\", \"forwarded\", \"forwarded\", \"fossette\", \"fossette\", \"fossette\", \"franc\", \"franc\", \"franc\", \"frances\", \"frances\", \"frances\", \"frances\", \"frances\", \"frances\", \"frances\", \"francs\", \"francs\", \"francs\", \"francs\", \"francs\", \"frank\", \"frank\", \"frank\", \"frank\", \"frank\", \"frank\", \"frank\", \"frank\", \"frank\", \"french\", \"french\", \"french\", \"french\", \"french\", \"french\", \"french\", \"french\", \"friend\", \"friend\", \"friend\", \"friend\", \"friend\", \"friend\", \"friend\", \"friend\", \"friend\", \"friend\", \"friend\", \"friend\", \"frock\", \"frock\", \"fulfil\", \"fulfil\", \"fulfil\", \"fulfil\", \"fulfil\", \"funeral\", \"funeral\", \"funeral\", \"funeral\", \"gall\", \"gall\", \"gall\", \"garcon\", \"garden\", \"garden\", \"garden\", \"garden\", \"garden\", \"garden\", \"garden\", \"garden\", \"garden\", \"garden\", \"garden\", \"gardiner\", \"gardiner\", \"gardiner\", \"gateshead\", \"gateshead\", \"gateshead\", \"generations\", \"generations\", \"generations\", \"generations\", \"generations\", \"georgiana\", \"georgiana\", \"georgiana\", \"georgiana\", \"georgiana\", \"georgiana\", \"georgiana\", \"getting\", \"getting\", \"getting\", \"getting\", \"getting\", \"getting\", \"getting\", \"getting\", \"getting\", \"getting\", \"getting\", \"ginevra\", \"ginevra\", \"ginevra\", \"ginevra\", \"given\", \"given\", \"given\", \"given\", \"given\", \"given\", \"given\", \"given\", \"given\", \"given\", \"given\", \"given\", \"given\", \"glide\", \"glide\", \"glide\", \"god\", \"god\", \"god\", \"god\", \"god\", \"god\", \"god\", \"god\", \"god\", \"god\", \"god\", \"goddard\", \"goddard\", \"goddard\", \"goddard\", \"good\", \"good\", \"good\", \"good\", \"good\", \"good\", \"good\", \"good\", \"good\", \"good\", \"good\", \"good\", \"good\", \"good\", \"good\", \"gracechurch\", \"gracechurch\", \"gracechurch\", \"graces\", \"graces\", \"graces\", \"graces\", \"graces\", \"graces\", \"graces\", \"graham\", \"graham\", \"graham\", \"graham\", \"graham\", \"graham\", \"graham\", \"graham\", \"grandmama\", \"grandmama\", \"grate\", \"grate\", \"grate\", \"grate\", \"great\", \"great\", \"great\", \"great\", \"great\", \"great\", \"great\", \"great\", \"great\", \"great\", \"great\", \"great\", \"great\", \"great\", \"greatness\", \"greatness\", \"greatness\", \"greatness\", \"greatness\", \"greatness\", \"grenier\", \"grimaces\", \"grimaces\", \"grimaces\", \"grove\", \"grove\", \"grove\", \"grove\", \"grove\", \"grove\", \"growth\", \"growth\", \"growth\", \"growth\", \"gruel\", \"gruel\", \"hail\", \"hair\", \"hair\", \"hair\", \"hair\", \"hair\", \"hair\", \"hair\", \"hair\", \"hair\", \"hair\", \"hair\", \"half\", \"half\", \"half\", \"half\", \"half\", \"half\", \"half\", \"half\", \"half\", \"half\", \"half\", \"half\", \"half\", \"half\", \"hall\", \"hall\", \"hall\", \"hall\", \"hall\", \"hall\", \"hall\", \"hall\", \"hall\", \"hall\", \"hall\", \"hand\", \"hand\", \"hand\", \"hand\", \"hand\", \"hand\", \"hand\", \"hand\", \"hand\", \"hand\", \"hand\", \"hand\", \"hand\", \"hand\", \"hands\", \"hands\", \"hands\", \"hands\", \"hands\", \"hands\", \"hands\", \"hands\", \"hands\", \"hands\", \"hands\", \"hands\", \"hands\", \"hands\", \"handsomer\", \"handsomer\", \"handwriting\", \"handwriting\", \"handwriting\", \"hannah\", \"hannah\", \"hannah\", \"hannah\", \"harangue\", \"harangue\", \"hardships\", \"hardships\", \"hardships\", \"harp\", \"harp\", \"harp\", \"harp\", \"harriet\", \"harriet\", \"harriet\", \"harriet\", \"harriet\", \"harriet\", \"harriet\", \"harriet\", \"hartfield\", \"hartfield\", \"hartfield\", \"hartfield\", \"hartfield\", \"having\", \"having\", \"having\", \"having\", \"having\", \"having\", \"having\", \"having\", \"having\", \"having\", \"having\", \"having\", \"having\", \"having\", \"hawkins\", \"head\", \"head\", \"head\", \"head\", \"head\", \"head\", \"head\", \"head\", \"head\", \"head\", \"head\", \"head\", \"head\", \"head\", \"head\", \"headache\", \"headache\", \"headache\", \"headache\", \"headache\", \"healthful\", \"heard\", \"heard\", \"heard\", \"heard\", \"heard\", \"heard\", \"heard\", \"heard\", \"heard\", \"heard\", \"heard\", \"heard\", \"heard\", \"heard\", \"heard\", \"heart\", \"heart\", \"heart\", \"heart\", \"heart\", \"heart\", \"heart\", \"heart\", \"heart\", \"heart\", \"heart\", \"heart\", \"heart\", \"heart\", \"heart\", \"helen\", \"helen\", \"helen\", \"helen\", \"henri\", \"henri\", \"henri\", \"henri\", \"henri\", \"henry\", \"henry\", \"henry\", \"henry\", \"hertfordshire\", \"hertfordshire\", \"hertfordshire\", \"highbury\", \"highbury\", \"highbury\", \"highbury\", \"highbury\", \"highbury\", \"higher\", \"higher\", \"higher\", \"higher\", \"higher\", \"higher\", \"higher\", \"higher\", \"hints\", \"hints\", \"hints\", \"hints\", \"hints\", \"hints\", \"hints\", \"hole\", \"home\", \"home\", \"home\", \"home\", \"home\", \"home\", \"home\", \"home\", \"home\", \"home\", \"home\", \"home\", \"honeymoon\", \"honeymoon\", \"house\", \"house\", \"house\", \"house\", \"house\", \"house\", \"house\", \"house\", \"house\", \"house\", \"house\", \"house\", \"house\", \"house\", \"housekeeping\", \"housekeeping\", \"housekeeping\", \"housekeeping\", \"hunsden\", \"hunsden\", \"hunsden\", \"hunsden\", \"hunsden\", \"hunsden\", \"hunsden\", \"hunsden\", \"hurst\", \"hurst\", \"il\", \"il\", \"il\", \"il\", \"il\", \"imbecile\", \"imbecile\", \"including\", \"including\", \"including\", \"including\", \"including\", \"including\", \"including\", \"income\", \"income\", \"income\", \"income\", \"income\", \"income\", \"income\", \"income\", \"income\", \"income\", \"india\", \"india\", \"india\", \"india\", \"indian\", \"indian\", \"indian\", \"indian\", \"infirm\", \"infirm\", \"inflicting\", \"inflicting\", \"inflicting\", \"inflicting\", \"ingram\", \"ingram\", \"ingram\", \"inquiry\", \"inquiry\", \"inquiry\", \"inquiry\", \"inquiry\", \"inquiry\", \"inquiry\", \"inquiry\", \"inquiry\", \"insane\", \"insane\", \"insane\", \"insight\", \"insight\", \"insight\", \"intelligent\", \"intelligent\", \"intelligent\", \"intelligent\", \"intelligent\", \"intelligent\", \"intelligent\", \"interior\", \"interior\", \"interior\", \"interior\", \"interrupting\", \"interrupting\", \"interrupting\", \"intimately\", \"intimately\", \"involuntarily\", \"involuntarily\", \"involuntarily\", \"involuntarily\", \"involuntarily\", \"involuntarily\", \"irritating\", \"irritating\", \"irritating\", \"isabella\", \"isabella\", \"isidore\", \"isidore\", \"isidore\", \"jane\", \"jane\", \"jane\", \"jane\", \"jane\", \"jane\", \"jane\", \"jane\", \"jane\", \"jane\", \"janet\", \"janet\", \"janet\", \"jar\", \"je\", \"je\", \"je\", \"je\", \"je\", \"jenkinson\", \"jennings\", \"jennings\", \"jennings\", \"john\", \"john\", \"john\", \"john\", \"john\", \"john\", \"john\", \"john\", \"john\", \"john\", \"john\", \"john\", \"joys\", \"joys\", \"judgement\", \"judgement\", \"jump\", \"jump\", \"jump\", \"justine\", \"justine\", \"justine\", \"kent\", \"kept\", \"kept\", \"kept\", \"kept\", \"kept\", \"kept\", \"kept\", \"kept\", \"kept\", \"kept\", \"kind\", \"kind\", \"kind\", \"kind\", \"kind\", \"kind\", \"kind\", \"kind\", \"kind\", \"kind\", \"kind\", \"kind\", \"kind\", \"kind\", \"kings\", \"kings\", \"kings\", \"kiss\", \"kiss\", \"kiss\", \"kiss\", \"kiss\", \"kiss\", \"kiss\", \"kiss\", \"kisses\", \"kisses\", \"kisses\", \"kisses\", \"knew\", \"knew\", \"knew\", \"knew\", \"knew\", \"knew\", \"knew\", \"knew\", \"knew\", \"knew\", \"knew\", \"knew\", \"knew\", \"knightley\", \"knightley\", \"knightley\", \"knightley\", \"knightley\", \"knightley\", \"knightley\", \"knightleys\", \"knightleys\", \"know\", \"know\", \"know\", \"know\", \"know\", \"know\", \"know\", \"know\", \"know\", \"know\", \"know\", \"know\", \"know\", \"know\", \"know\", \"la\", \"la\", \"la\", \"la\", \"la\", \"la\", \"la\", \"la\", \"lace\", \"lace\", \"lace\", \"lace\", \"lace\", \"lace\", \"lace\", \"lace\", \"lace\", \"lady\", \"lady\", \"lady\", \"lady\", \"lady\", \"lady\", \"lady\", \"lady\", \"lady\", \"lady\", \"lady\", \"lady\", \"lady\", \"lady\", \"lady\", \"larkins\", \"laugh\", \"laugh\", \"laugh\", \"laugh\", \"laugh\", \"laugh\", \"laugh\", \"laugh\", \"laugh\", \"laugh\", \"laugh\", \"laugh\", \"le\", \"le\", \"le\", \"le\", \"le\", \"le\", \"leah\", \"leah\", \"leah\", \"leah\", \"leaved\", \"leaved\", \"leaved\", \"left\", \"left\", \"left\", \"left\", \"left\", \"left\", \"left\", \"left\", \"left\", \"left\", \"left\", \"left\", \"left\", \"leg\", \"leg\", \"leg\", \"legitimate\", \"legitimate\", \"legitimate\", \"lengths\", \"lengths\", \"lengths\", \"lengths\", \"lengths\", \"les\", \"les\", \"les\", \"les\", \"lesson\", \"lesson\", \"lesson\", \"lesson\", \"lesson\", \"lesson\", \"lesson\", \"lesson\", \"lesson\", \"lesson\", \"let\", \"let\", \"let\", \"let\", \"let\", \"let\", \"let\", \"let\", \"let\", \"let\", \"let\", \"let\", \"letter\", \"letter\", \"letter\", \"letter\", \"letter\", \"letter\", \"letter\", \"letter\", \"letter\", \"letter\", \"letter\", \"letter\", \"letter\", \"levity\", \"levity\", \"levity\", \"levity\", \"levity\", \"lid\", \"lid\", \"lied\", \"lied\", \"lied\", \"life\", \"life\", \"life\", \"life\", \"life\", \"life\", \"life\", \"life\", \"life\", \"life\", \"life\", \"life\", \"life\", \"life\", \"light\", \"light\", \"light\", \"light\", \"light\", \"light\", \"light\", \"light\", \"light\", \"light\", \"light\", \"light\", \"lighting\", \"lighting\", \"like\", \"like\", \"like\", \"like\", \"like\", \"like\", \"like\", \"like\", \"like\", \"like\", \"like\", \"like\", \"like\", \"like\", \"likeness\", \"likeness\", \"likeness\", \"likeness\", \"likeness\", \"likeness\", \"likeness\", \"likeness\", \"likeness\", \"likeness\", \"likeness\", \"limited\", \"limited\", \"limited\", \"limited\", \"limited\", \"limited\", \"limited\", \"limited\", \"limited\", \"little\", \"little\", \"little\", \"little\", \"little\", \"little\", \"little\", \"little\", \"little\", \"little\", \"little\", \"little\", \"little\", \"little\", \"little\", \"live\", \"live\", \"live\", \"live\", \"live\", \"live\", \"live\", \"live\", \"live\", \"live\", \"live\", \"live\", \"live\", \"live\", \"lizzy\", \"lizzy\", \"lizzy\", \"lizzy\", \"lizzy\", \"ll\", \"ll\", \"ll\", \"ll\", \"ll\", \"ll\", \"ll\", \"ll\", \"ll\", \"ll\", \"lodge\", \"lodge\", \"lodge\", \"lodge\", \"lodge\", \"lodge\", \"long\", \"long\", \"long\", \"long\", \"long\", \"long\", \"long\", \"long\", \"long\", \"long\", \"long\", \"long\", \"long\", \"long\", \"long\", \"longbourn\", \"longbourn\", \"longbourn\", \"longstaple\", \"look\", \"look\", \"look\", \"look\", \"look\", \"look\", \"look\", \"look\", \"look\", \"look\", \"look\", \"look\", \"look\", \"look\", \"look\", \"looked\", \"looked\", \"looked\", \"looked\", \"looked\", \"looked\", \"looked\", \"looked\", \"looked\", \"looked\", \"looked\", \"looked\", \"looked\", \"looked\", \"looked\", \"love\", \"love\", \"love\", \"love\", \"love\", \"love\", \"love\", \"love\", \"love\", \"love\", \"love\", \"love\", \"love\", \"loved\", \"loved\", \"loved\", \"loved\", \"loved\", \"loved\", \"loved\", \"loved\", \"loved\", \"loved\", \"lowood\", \"lowood\", \"lowood\", \"lucas\", \"lucas\", \"lucas\", \"lucases\", \"lucases\", \"lucy\", \"lucy\", \"lucy\", \"lucy\", \"lucy\", \"lucy\", \"lucy\", \"lucy\", \"lucy\", \"lui\", \"lui\", \"lui\", \"luxuries\", \"luxuries\", \"luxuries\", \"luxuries\", \"luxuries\", \"luxury\", \"luxury\", \"luxury\", \"luxury\", \"luxury\", \"luxury\", \"luxury\", \"lydia\", \"lydia\", \"lydia\", \"lynn\", \"madame\", \"madame\", \"madame\", \"madame\", \"madame\", \"madame\", \"madame\", \"madame\", \"madame\", \"mademoiselle\", \"mademoiselle\", \"mademoiselle\", \"mademoiselle\", \"mademoiselle\", \"mademoiselle\", \"mademoiselle\", \"mademoiselle\", \"magi\", \"magi\", \"magi\", \"magna\", \"maintaining\", \"maintaining\", \"maintaining\", \"maintaining\", \"maintaining\", \"mais\", \"mais\", \"mais\", \"maker\", \"maker\", \"maker\", \"mal\", \"mal\", \"man\", \"man\", \"man\", \"man\", \"man\", \"man\", \"man\", \"man\", \"man\", \"man\", \"man\", \"man\", \"man\", \"maniac\", \"maniac\", \"maple\", \"maple\", \"maple\", \"marchmont\", \"marchmont\", \"marchmont\", \"margaret\", \"margaret\", \"margaret\", \"marianne\", \"marianne\", \"marianne\", \"marianne\", \"marianne\", \"marie\", \"marie\", \"marie\", \"marie\", \"marriage\", \"marriage\", \"marriage\", \"marriage\", \"marriage\", \"marriage\", \"marriage\", \"marriage\", \"marriage\", \"marriage\", \"martin\", \"martin\", \"martin\", \"martin\", \"martin\", \"mary\", \"mary\", \"mary\", \"mary\", \"mary\", \"mary\", \"mary\", \"mary\", \"mary\", \"mary\", \"mason\", \"mason\", \"mason\", \"mason\", \"master\", \"master\", \"master\", \"master\", \"master\", \"master\", \"master\", \"master\", \"master\", \"master\", \"master\", \"mdlle\", \"mdlle\", \"mdlle\", \"mdlle\", \"mdlle\", \"mdlle\", \"mdlle\", \"mender\", \"mender\", \"mental\", \"mental\", \"mental\", \"mental\", \"mental\", \"mental\", \"mental\", \"mental\", \"mental\", \"meryton\", \"meryton\", \"meryton\", \"messieurs\", \"messieurs\", \"messieurs\", \"messieurs\", \"middleton\", \"middleton\", \"middleton\", \"middleton\", \"middletons\", \"middletons\", \"mien\", \"mien\", \"mien\", \"mien\", \"mien\", \"mien\", \"military\", \"military\", \"military\", \"militia\", \"militia\", \"millcote\", \"millcote\", \"millcote\", \"miller\", \"miller\", \"mind\", \"mind\", \"mind\", \"mind\", \"mind\", \"mind\", \"mind\", \"mind\", \"mind\", \"mind\", \"mind\", \"mind\", \"mind\", \"mind\", \"mischievous\", \"mischievous\", \"mischievous\", \"mischievous\", \"misery\", \"misery\", \"misery\", \"misery\", \"misery\", \"misery\", \"misery\", \"miss\", \"miss\", \"miss\", \"miss\", \"miss\", \"miss\", \"miss\", \"miss\", \"miss\", \"miss\", \"miss\", \"miss\", \"miss\", \"missionary\", \"missionary\", \"missionary\", \"missis\", \"moi\", \"moi\", \"moi\", \"moment\", \"moment\", \"moment\", \"moment\", \"moment\", \"moment\", \"moment\", \"moment\", \"moment\", \"moment\", \"moment\", \"moment\", \"moment\", \"mon\", \"mon\", \"mon\", \"mon\", \"mon\", \"monday\", \"monday\", \"monsieur\", \"monsieur\", \"monsieur\", \"monsieur\", \"monsieur\", \"monsieur\", \"monsieur\", \"monsieur\", \"monsieur\", \"moors\", \"morals\", \"morals\", \"mother\", \"mother\", \"mother\", \"mother\", \"mother\", \"mother\", \"mother\", \"mother\", \"mother\", \"mother\", \"mother\", \"mother\", \"mother\", \"mother\", \"mound\", \"mound\", \"mud\", \"mud\", \"mud\", \"musical\", \"musical\", \"musical\", \"musical\", \"musical\", \"musical\", \"musical\", \"mystic\", \"mystic\", \"mystic\", \"nailed\", \"nailed\", \"nailed\", \"naked\", \"nash\", \"nash\", \"nash\", \"nation\", \"nation\", \"nation\", \"nation\", \"nations\", \"nations\", \"nations\", \"nations\", \"natural\", \"natural\", \"natural\", \"natural\", \"natural\", \"natural\", \"natural\", \"natural\", \"natural\", \"natural\", \"natural\", \"natural\", \"natural\", \"ne\", \"ne\", \"ne\", \"ne\", \"near\", \"near\", \"near\", \"near\", \"near\", \"near\", \"near\", \"near\", \"near\", \"near\", \"near\", \"near\", \"nest\", \"netherfield\", \"netherfield\", \"netherfield\", \"new\", \"new\", \"new\", \"new\", \"new\", \"new\", \"new\", \"new\", \"new\", \"new\", \"new\", \"new\", \"new\", \"new\", \"night\", \"night\", \"night\", \"night\", \"night\", \"night\", \"night\", \"night\", \"night\", \"night\", \"night\", \"night\", \"night\", \"ninety\", \"ninety\", \"ninety\", \"nobleman\", \"nobleman\", \"nobleman\", \"non\", \"non\", \"non\", \"nonsensical\", \"norland\", \"norland\", \"norland\", \"norland\", \"notre\", \"notre\", \"numero\", \"numero\", \"nun\", \"nun\", \"nun\", \"nun\", \"obeying\", \"obeying\", \"officers\", \"officers\", \"officers\", \"oh\", \"oh\", \"oh\", \"oh\", \"oh\", \"oh\", \"oh\", \"oh\", \"oh\", \"oh\", \"oh\", \"oh\", \"oh\", \"old\", \"old\", \"old\", \"old\", \"old\", \"old\", \"old\", \"old\", \"old\", \"old\", \"old\", \"old\", \"old\", \"old\", \"oratory\", \"oratory\", \"ou\", \"ou\", \"ou\", \"ou\", \"palmer\", \"palmer\", \"palmers\", \"panel\", \"panel\", \"panel\", \"papa\", \"papa\", \"papa\", \"papa\", \"papa\", \"papa\", \"papa\", \"papa\", \"papa\", \"papa\", \"papa\", \"paragraph\", \"paragraph\", \"paragraph\", \"paragraph\", \"paragraph\", \"paramount\", \"paramount\", \"paramount\", \"paramount\", \"parisian\", \"parisian\", \"parisian\", \"park\", \"park\", \"park\", \"park\", \"park\", \"park\", \"park\", \"park\", \"park\", \"park\", \"park\", \"park\", \"parties\", \"parties\", \"parties\", \"parties\", \"parties\", \"parties\", \"parties\", \"parties\", \"parties\", \"pas\", \"pas\", \"pas\", \"pas\", \"pas\", \"pas\", \"patrician\", \"patrician\", \"patrician\", \"patty\", \"paul\", \"paul\", \"paul\", \"paul\", \"paul\", \"paul\", \"paul\", \"paulina\", \"paulina\", \"paulina\", \"paulina\", \"paulina\", \"peak\", \"peak\", \"peak\", \"peak\", \"pelet\", \"pelet\", \"pelet\", \"pelet\", \"pelet\", \"pelet\", \"pelet\", \"pemberley\", \"pemberley\", \"pemberley\", \"pencil\", \"pencil\", \"pencil\", \"pencil\", \"pencil\", \"pencil\", \"pencil\", \"pensionnat\", \"pensionnat\", \"pensionnat\", \"pensionnat\", \"pensionnat\", \"pensionnat\", \"people\", \"people\", \"people\", \"people\", \"people\", \"people\", \"people\", \"people\", \"people\", \"people\", \"people\", \"people\", \"people\", \"people\", \"performances\", \"performances\", \"performances\", \"performances\", \"perry\", \"perry\", \"perry\", \"perry\", \"petit\", \"petit\", \"petit\", \"petit\", \"peut\", \"peut\", \"peut\", \"philanthropist\", \"philanthropist\", \"philanthropist\", \"philanthropist\", \"philanthropy\", \"philanthropy\", \"phillips\", \"phillips\", \"pictures\", \"pictures\", \"pictures\", \"pictures\", \"pictures\", \"pictures\", \"pictures\", \"pictures\", \"pictures\", \"pictures\", \"pictures\", \"pieces\", \"pieces\", \"pieces\", \"pieces\", \"pieces\", \"pieces\", \"pieces\", \"pierre\", \"pierre\", \"pile\", \"pilot\", \"pilot\", \"pilot\", \"place\", \"place\", \"place\", \"place\", \"place\", \"place\", \"place\", \"place\", \"place\", \"place\", \"place\", \"place\", \"place\", \"platform\", \"pleasure\", \"pleasure\", \"pleasure\", \"pleasure\", \"pleasure\", \"pleasure\", \"pleasure\", \"pleasure\", \"pleasure\", \"pleasure\", \"pleasure\", \"pleasure\", \"pleasure\", \"plebeian\", \"plebeian\", \"plebeian\", \"poet\", \"poet\", \"poet\", \"pomp\", \"pomp\", \"pomp\", \"pomp\", \"poole\", \"poole\", \"poor\", \"poor\", \"poor\", \"poor\", \"poor\", \"poor\", \"poor\", \"poor\", \"poor\", \"poor\", \"poor\", \"poor\", \"poor\", \"portfolio\", \"portfolio\", \"portfolio\", \"portfolio\", \"portfolio\", \"pounds\", \"pounds\", \"pounds\", \"pounds\", \"pounds\", \"pounds\", \"pounds\", \"pounds\", \"pounds\", \"pounds\", \"power\", \"power\", \"power\", \"power\", \"power\", \"power\", \"power\", \"power\", \"power\", \"power\", \"power\", \"power\", \"power\", \"power\", \"preparations\", \"preparations\", \"preparations\", \"preparations\", \"preparations\", \"pretty\", \"pretty\", \"pretty\", \"pretty\", \"pretty\", \"pretty\", \"pretty\", \"pretty\", \"pretty\", \"pretty\", \"pretty\", \"pretty\", \"pretty\", \"priest\", \"priest\", \"priest\", \"priest\", \"problem\", \"professional\", \"professional\", \"promptitude\", \"promptitude\", \"promptitude\", \"promptitude\", \"property\", \"property\", \"property\", \"property\", \"property\", \"property\", \"property\", \"property\", \"propre\", \"propre\", \"propre\", \"prose\", \"prose\", \"prose\", \"prose\", \"prosperity\", \"prosperity\", \"prosperity\", \"prosperity\", \"prosperity\", \"prosperity\", \"protestants\", \"protestants\", \"publicity\", \"publicity\", \"publicity\", \"publicity\", \"punctuality\", \"punctuality\", \"punctuality\", \"punctuality\", \"punctuality\", \"pupil\", \"pupil\", \"pupil\", \"pupil\", \"pupil\", \"pupil\", \"pupil\", \"pupil\", \"pupil\", \"pupils\", \"pupils\", \"pupils\", \"pupils\", \"pupils\", \"pupils\", \"pupils\", \"pushing\", \"pushing\", \"pushing\", \"pushing\", \"qu\", \"qu\", \"qu\", \"qu\", \"quarrelled\", \"quarrelled\", \"quarrelled\", \"quarrelled\", \"que\", \"que\", \"que\", \"que\", \"que\", \"quel\", \"quel\", \"rainbow\", \"rainbow\", \"rainbow\", \"randalls\", \"randalls\", \"randalls\", \"rats\", \"rats\", \"rats\", \"rays\", \"rays\", \"read\", \"read\", \"read\", \"read\", \"read\", \"read\", \"read\", \"read\", \"read\", \"read\", \"read\", \"read\", \"read\", \"read\", \"recital\", \"reckon\", \"reckon\", \"reckon\", \"reckon\", \"recurrence\", \"recurrence\", \"recurrence\", \"recurrence\", \"recurrence\", \"reed\", \"reed\", \"reed\", \"reed\", \"regiment\", \"regiment\", \"regiment\", \"regiment\", \"regularity\", \"regularity\", \"regularity\", \"relatives\", \"relatives\", \"relatives\", \"relatives\", \"reluctantly\", \"reluctantly\", \"reluctantly\", \"reluctantly\", \"reminiscences\", \"reminiscences\", \"reminiscences\", \"remnant\", \"replied\", \"replied\", \"replied\", \"replied\", \"replied\", \"replied\", \"replied\", \"replied\", \"replied\", \"replied\", \"replied\", \"replied\", \"reported\", \"reported\", \"reported\", \"reported\", \"repugnance\", \"repugnance\", \"repugnance\", \"repugnance\", \"resided\", \"resided\", \"resided\", \"resided\", \"resources\", \"resources\", \"resources\", \"resources\", \"resources\", \"resources\", \"resources\", \"rests\", \"rests\", \"reuter\", \"reuter\", \"reuter\", \"reuter\", \"reuter\", \"richard\", \"richard\", \"richard\", \"richard\", \"richer\", \"richer\", \"richer\", \"richer\", \"richmond\", \"riddle\", \"riddle\", \"riddle\", \"riddle\", \"rivers\", \"rivers\", \"rivers\", \"rivers\", \"rivers\", \"rivers\", \"robert\", \"robert\", \"robert\", \"robert\", \"robert\", \"rochester\", \"rochester\", \"rochester\", \"rochester\", \"rochester\", \"rochester\", \"rochester\", \"rochester\", \"rome\", \"rome\", \"rome\", \"rome\", \"rome\", \"rome\", \"rome\", \"room\", \"room\", \"room\", \"room\", \"room\", \"room\", \"room\", \"room\", \"room\", \"room\", \"room\", \"room\", \"room\", \"room\", \"rosamond\", \"rosamond\", \"rosine\", \"rosine\", \"rough\", \"rough\", \"rough\", \"rough\", \"rough\", \"rough\", \"rough\", \"round\", \"round\", \"round\", \"round\", \"round\", \"round\", \"round\", \"round\", \"round\", \"round\", \"round\", \"round\", \"round\", \"round\", \"rubber\", \"rubber\", \"rubber\", \"rue\", \"rue\", \"rue\", \"rue\", \"rue\", \"rue\", \"sacrifices\", \"sacrifices\", \"sacrifices\", \"salary\", \"salary\", \"salary\", \"salary\", \"salary\", \"salary\", \"salary\", \"salary\", \"salary\", \"sarah\", \"sarah\", \"sarah\", \"sarcastic\", \"sarcastic\", \"sarcastic\", \"sarcastic\", \"saturday\", \"saturday\", \"saturday\", \"saturday\", \"saturday\", \"saw\", \"saw\", \"saw\", \"saw\", \"saw\", \"saw\", \"saw\", \"saw\", \"saw\", \"saw\", \"saw\", \"saw\", \"saw\", \"saw\", \"scarcely\", \"scarcely\", \"scarcely\", \"scarcely\", \"scarcely\", \"scarcely\", \"scarcely\", \"scarcely\", \"scarcely\", \"scarcely\", \"scarcely\", \"scatcherd\", \"scotch\", \"scotch\", \"scotch\", \"scotch\", \"scotch\", \"scotch\", \"scowled\", \"scowled\", \"scowled\", \"scrape\", \"scrape\", \"scrape\", \"scrape\", \"scrape\", \"scrupled\", \"scrupled\", \"scrupled\", \"scrupled\", \"sea\", \"sea\", \"sea\", \"sea\", \"sea\", \"sea\", \"sea\", \"sea\", \"sea\", \"sea\", \"seacombe\", \"seacombe\", \"seas\", \"seas\", \"seas\", \"secured\", \"secured\", \"secured\", \"secured\", \"secured\", \"secured\", \"secured\", \"secured\", \"secured\", \"secured\", \"self\", \"self\", \"self\", \"self\", \"self\", \"self\", \"self\", \"self\", \"self\", \"self\", \"self\", \"self\", \"selina\", \"selina\", \"serenity\", \"serenity\", \"serenity\", \"serenity\", \"shall\", \"shall\", \"shall\", \"shall\", \"shall\", \"shall\", \"shall\", \"shall\", \"shall\", \"shall\", \"shall\", \"shall\", \"shall\", \"shelves\", \"shelves\", \"shelves\", \"shire\", \"shire\", \"shire\", \"shire\", \"shire\", \"shire\", \"shire\", \"shire\", \"shire\", \"shrine\", \"shrine\", \"shudder\", \"shudder\", \"shudder\", \"sickening\", \"sickening\", \"sickly\", \"sickly\", \"sickly\", \"sickly\", \"sir\", \"sir\", \"sir\", \"sir\", \"sir\", \"sir\", \"sir\", \"sir\", \"sir\", \"sir\", \"sir\", \"sir\", \"sister\", \"sister\", \"sister\", \"sister\", \"sister\", \"sister\", \"sister\", \"sister\", \"sister\", \"sister\", \"sister\", \"sister\", \"sisters\", \"sisters\", \"sisters\", \"sisters\", \"sisters\", \"sisters\", \"sisters\", \"sisters\", \"sisters\", \"sisters\", \"sisters\", \"sixpence\", \"sixpence\", \"sixpence\", \"sixpence\", \"sketch\", \"sketch\", \"sketch\", \"sketch\", \"sketch\", \"sketch\", \"sketch\", \"sketch\", \"skies\", \"sleeper\", \"sleeve\", \"slippery\", \"slippery\", \"slippery\", \"slippery\", \"slippery\", \"smallridge\", \"smith\", \"smith\", \"smith\", \"smith\", \"smith\", \"smith\", \"sneered\", \"sneered\", \"society\", \"society\", \"society\", \"society\", \"society\", \"society\", \"society\", \"society\", \"society\", \"society\", \"society\", \"society\", \"society\", \"society\", \"soir\", \"soir\", \"soir\", \"soit\", \"soit\", \"somersetshire\", \"son\", \"son\", \"son\", \"son\", \"son\", \"son\", \"son\", \"son\", \"son\", \"son\", \"son\", \"soon\", \"soon\", \"soon\", \"soon\", \"soon\", \"soon\", \"soon\", \"soon\", \"soon\", \"soon\", \"soon\", \"soon\", \"soon\", \"soon\", \"soon\", \"sort\", \"sort\", \"sort\", \"sort\", \"sort\", \"sort\", \"sort\", \"sort\", \"sort\", \"sort\", \"sort\", \"sort\", \"sparkled\", \"sparkled\", \"sparkled\", \"sparkled\", \"speak\", \"speak\", \"speak\", \"speak\", \"speak\", \"speak\", \"speak\", \"speak\", \"speak\", \"speak\", \"speak\", \"speak\", \"spectacles\", \"spectacles\", \"spectacles\", \"spectacles\", \"spectacles\", \"spectacles\", \"spectacles\", \"spectral\", \"spirits\", \"spirits\", \"spirits\", \"spirits\", \"spirits\", \"spirits\", \"spirits\", \"spirits\", \"spirits\", \"spirits\", \"spirits\", \"spirits\", \"spirits\", \"st\", \"st\", \"st\", \"st\", \"st\", \"st\", \"st\", \"st\", \"st\", \"st\", \"sternly\", \"sternly\", \"stile\", \"stood\", \"stood\", \"stood\", \"stood\", \"stood\", \"stood\", \"stood\", \"stood\", \"stood\", \"stood\", \"stood\", \"storeroom\", \"storeroom\", \"storeroom\", \"storey\", \"storms\", \"storms\", \"storms\", \"strange\", \"strange\", \"strange\", \"strange\", \"strange\", \"strange\", \"strange\", \"strange\", \"strange\", \"strange\", \"strange\", \"strange\", \"submissive\", \"submissive\", \"submissive\", \"submissive\", \"submissive\", \"submissive\", \"subside\", \"subside\", \"sun\", \"sun\", \"sun\", \"sun\", \"sun\", \"sun\", \"sun\", \"sun\", \"suns\", \"suns\", \"superiority\", \"superiority\", \"superiority\", \"superiority\", \"superiority\", \"superiority\", \"superiority\", \"sure\", \"sure\", \"sure\", \"sure\", \"sure\", \"sure\", \"sure\", \"sure\", \"sure\", \"sure\", \"sure\", \"sure\", \"sure\", \"sure\", \"surgeon\", \"surgeon\", \"surgeon\", \"surgeon\", \"surprise\", \"surprise\", \"surprise\", \"surprise\", \"surprise\", \"surprise\", \"surprise\", \"surprise\", \"surprise\", \"surprize\", \"surprize\", \"surprize\", \"surprized\", \"surry\", \"surry\", \"swelled\", \"swelled\", \"swelled\", \"swelled\", \"swelled\", \"swelled\", \"swiss\", \"swiss\", \"swiss\", \"switzerland\", \"switzerland\", \"switzerland\", \"swung\", \"swung\", \"swung\", \"talents\", \"talents\", \"talents\", \"talents\", \"talents\", \"talents\", \"talents\", \"talents\", \"talker\", \"talker\", \"talker\", \"talker\", \"talker\", \"taylor\", \"taylor\", \"taylor\", \"teacher\", \"teacher\", \"teacher\", \"teacher\", \"teacher\", \"teacher\", \"teacher\", \"teacher\", \"teacher\", \"tell\", \"tell\", \"tell\", \"tell\", \"tell\", \"tell\", \"tell\", \"tell\", \"tell\", \"tell\", \"tell\", \"tell\", \"tell\", \"tell\", \"temple\", \"temple\", \"temple\", \"temple\", \"terrasse\", \"terrasse\", \"terrasse\", \"thing\", \"thing\", \"thing\", \"thing\", \"thing\", \"thing\", \"thing\", \"thing\", \"thing\", \"thing\", \"thing\", \"thing\", \"thing\", \"thing\", \"thing\", \"think\", \"think\", \"think\", \"think\", \"think\", \"think\", \"think\", \"think\", \"think\", \"think\", \"think\", \"think\", \"think\", \"think\", \"think\", \"thornfield\", \"thornfield\", \"thornfield\", \"thornfield\", \"thornfield\", \"thought\", \"thought\", \"thought\", \"thought\", \"thought\", \"thought\", \"thought\", \"thought\", \"thought\", \"thought\", \"thought\", \"thought\", \"thought\", \"thought\", \"thought\", \"thousand\", \"thousand\", \"thousand\", \"thousand\", \"thousand\", \"thousand\", \"thousand\", \"thousand\", \"thousand\", \"thousand\", \"thousand\", \"thousand\", \"thousand\", \"throne\", \"throne\", \"tied\", \"tied\", \"tied\", \"tied\", \"tied\", \"tied\", \"time\", \"time\", \"time\", \"time\", \"time\", \"time\", \"time\", \"time\", \"time\", \"time\", \"time\", \"time\", \"time\", \"time\", \"tints\", \"tints\", \"tints\", \"took\", \"took\", \"took\", \"took\", \"took\", \"took\", \"took\", \"took\", \"took\", \"took\", \"took\", \"took\", \"took\", \"took\", \"town\", \"town\", \"town\", \"town\", \"town\", \"town\", \"town\", \"town\", \"town\", \"town\", \"town\", \"town\", \"town\", \"town\", \"traced\", \"traced\", \"traced\", \"traced\", \"traced\", \"traced\", \"tranquilly\", \"tranquilly\", \"tranquilly\", \"tranquilly\", \"tranquilly\", \"treats\", \"treats\", \"treats\", \"triumphantly\", \"triumphantly\", \"triumphantly\", \"trod\", \"troop\", \"troop\", \"troop\", \"truths\", \"truths\", \"truths\", \"truths\", \"turned\", \"turned\", \"turned\", \"turned\", \"turned\", \"turned\", \"turned\", \"turned\", \"turned\", \"turned\", \"turned\", \"turned\", \"turned\", \"turned\", \"turned\", \"tutor\", \"tutor\", \"tutor\", \"tutor\", \"unceasing\", \"uncle\", \"uncle\", \"uncle\", \"uncle\", \"uncle\", \"uncle\", \"uncle\", \"uncle\", \"uncle\", \"uncle\", \"uncle\", \"uncle\", \"undone\", \"undone\", \"undone\", \"undone\", \"unfrequently\", \"unfrequently\", \"unfrequently\", \"unfrequently\", \"unhappiness\", \"unkind\", \"unkind\", \"unkind\", \"unkind\", \"unkind\", \"unmarried\", \"unmarried\", \"unprepared\", \"unprepared\", \"unprepared\", \"unprepared\", \"unwholesome\", \"unwholesome\", \"unwholesome\", \"unwholesome\", \"unwillingly\", \"vandenhuten\", \"vandenhuten\", \"varens\", \"vases\", \"vases\", \"vases\", \"vases\", \"ve\", \"ve\", \"ve\", \"ve\", \"ve\", \"ve\", \"ve\", \"ve\", \"veil\", \"veil\", \"veil\", \"veil\", \"veil\", \"veil\", \"vicar\", \"vicar\", \"vicar\", \"vicar\", \"victor\", \"victor\", \"victor\", \"villette\", \"villette\", \"villette\", \"villette\", \"villette\", \"violets\", \"visage\", \"visage\", \"visage\", \"visage\", \"visage\", \"voice\", \"voice\", \"voice\", \"voice\", \"voice\", \"voice\", \"voice\", \"voice\", \"voice\", \"voice\", \"voice\", \"voice\", \"voice\", \"voice\", \"volume\", \"volume\", \"volume\", \"volume\", \"volume\", \"vous\", \"vous\", \"vous\", \"vous\", \"vous\", \"walravens\", \"walravens\", \"walravens\", \"wanted\", \"wanted\", \"wanted\", \"wanted\", \"wanted\", \"wanted\", \"wanted\", \"wanted\", \"wanted\", \"wanted\", \"wanted\", \"wanted\", \"wanted\", \"wanted\", \"way\", \"way\", \"way\", \"way\", \"way\", \"way\", \"way\", \"way\", \"way\", \"way\", \"way\", \"way\", \"way\", \"way\", \"way\", \"went\", \"went\", \"went\", \"went\", \"went\", \"went\", \"went\", \"went\", \"went\", \"went\", \"went\", \"went\", \"went\", \"went\", \"weston\", \"weston\", \"weston\", \"weston\", \"weston\", \"weston\", \"weston\", \"weston\", \"wheel\", \"white\", \"white\", \"white\", \"white\", \"white\", \"white\", \"white\", \"white\", \"white\", \"white\", \"wickham\", \"wickham\", \"wider\", \"wider\", \"wider\", \"willoughby\", \"willoughby\", \"windows\", \"windows\", \"windows\", \"windows\", \"windows\", \"windows\", \"windows\", \"windows\", \"windows\", \"windsor\", \"winning\", \"winning\", \"wives\", \"wives\", \"wives\", \"wives\", \"wives\", \"wives\", \"woman\", \"woman\", \"woman\", \"woman\", \"woman\", \"woman\", \"woman\", \"woman\", \"woman\", \"woman\", \"woman\", \"woman\", \"woman\", \"wont\", \"wont\", \"wont\", \"woodhouse\", \"woodhouse\", \"woodhouse\", \"woodhouse\", \"woodhouse\", \"woodhouse\", \"word\", \"word\", \"word\", \"word\", \"word\", \"word\", \"word\", \"word\", \"word\", \"word\", \"word\", \"word\", \"word\", \"word\", \"word\", \"world\", \"world\", \"world\", \"world\", \"world\", \"world\", \"world\", \"world\", \"world\", \"world\", \"world\", \"world\", \"world\", \"world\", \"xvii\", \"xvii\", \"xvii\", \"xvii\", \"xvii\", \"year\", \"year\", \"year\", \"year\", \"year\", \"year\", \"year\", \"year\", \"year\", \"year\", \"year\", \"year\", \"year\", \"years\", \"years\", \"years\", \"years\", \"years\", \"years\", \"years\", \"years\", \"years\", \"years\", \"years\", \"years\", \"years\", \"years\", \"yes\", \"yes\", \"yes\", \"yes\", \"yes\", \"yes\", \"yes\", \"yes\", \"yes\", \"yes\", \"yes\", \"yes\", \"yes\", \"yes\", \"yorke\", \"yorke\", \"young\", \"young\", \"young\", \"young\", \"young\", \"young\", \"young\", \"young\", \"young\", \"young\", \"young\", \"young\", \"young\", \"young\", \"young\", \"zoraide\", \"zoraide\", \"zoraide\", \"zoraide\", \"zoraide\"]}, \"R\": 30, \"lambda.step\": 0.01, \"plot.opts\": {\"xlab\": \"PC1\", \"ylab\": \"PC2\"}, \"topic.order\": [11, 5, 12, 14, 6, 7, 3, 2, 8, 13, 9, 10, 4, 1, 15]};\n",
       "\n",
       "function LDAvis_load_lib(url, callback){\n",
       "  var s = document.createElement('script');\n",
       "  s.src = url;\n",
       "  s.async = true;\n",
       "  s.onreadystatechange = s.onload = callback;\n",
       "  s.onerror = function(){console.warn(\"failed to load library \" + url);};\n",
       "  document.getElementsByTagName(\"head\")[0].appendChild(s);\n",
       "}\n",
       "\n",
       "if(typeof(LDAvis) !== \"undefined\"){\n",
       "   // already loaded: just create the visualization\n",
       "   !function(LDAvis){\n",
       "       new LDAvis(\"#\" + \"ldavis_el79149195685681980023857\", ldavis_el79149195685681980023857_data);\n",
       "   }(LDAvis);\n",
       "}else if(typeof define === \"function\" && define.amd){\n",
       "   // require.js is available: use it to load d3/LDAvis\n",
       "   require.config({paths: {d3: \"https://cdnjs.cloudflare.com/ajax/libs/d3/3.5.5/d3.min\"}});\n",
       "   require([\"d3\"], function(d3){\n",
       "      window.d3 = d3;\n",
       "      LDAvis_load_lib(\"https://cdn.rawgit.com/bmabey/pyLDAvis/files/ldavis.v1.0.0.js\", function(){\n",
       "        new LDAvis(\"#\" + \"ldavis_el79149195685681980023857\", ldavis_el79149195685681980023857_data);\n",
       "      });\n",
       "    });\n",
       "}else{\n",
       "    // require.js not available: dynamically load d3 & LDAvis\n",
       "    LDAvis_load_lib(\"https://cdnjs.cloudflare.com/ajax/libs/d3/3.5.5/d3.min.js\", function(){\n",
       "         LDAvis_load_lib(\"https://cdn.rawgit.com/bmabey/pyLDAvis/files/ldavis.v1.0.0.js\", function(){\n",
       "                 new LDAvis(\"#\" + \"ldavis_el79149195685681980023857\", ldavis_el79149195685681980023857_data);\n",
       "            })\n",
       "         });\n",
       "}\n",
       "</script>"
      ],
      "text/plain": [
       "PreparedData(topic_coordinates=              x         y  topics  cluster       Freq\n",
       "topic                                                \n",
       "10    -0.045594 -0.020555       1        1  21.412216\n",
       "4     -0.077666 -0.055242       2        1  17.608200\n",
       "11     0.141288 -0.008635       3        1  16.265469\n",
       "13     0.104042 -0.014424       4        1  16.000704\n",
       "5      0.152210 -0.012565       5        1  10.042030\n",
       "6     -0.013861 -0.051117       6        1   6.804306\n",
       "2     -0.077657 -0.072669       7        1   3.625416\n",
       "1     -0.033810 -0.047089       8        1   2.328355\n",
       "7     -0.071731 -0.053929       9        1   1.556107\n",
       "12     0.095366  0.031604      10        1   1.282581\n",
       "8      0.052507  0.003884      11        1   1.224453\n",
       "9      0.006462  0.050561      12        1   0.866325\n",
       "3     -0.099428  0.027440      13        1   0.458784\n",
       "0     -0.046036  0.148620      14        1   0.262591\n",
       "14    -0.086093  0.074117      15        1   0.262474, topic_info=         Term         Freq        Total Category  logprob  loglift\n",
       "90       emma   836.000000   836.000000  Default  30.0000  30.0000\n",
       "177    little  1711.000000  1711.000000  Default  29.0000  29.0000\n",
       "848      jane   931.000000   931.000000  Default  28.0000  28.0000\n",
       "1131     miss  1535.000000  1535.000000  Default  27.0000  27.0000\n",
       "414      like  1318.000000  1318.000000  Default  26.0000  26.0000\n",
       "...       ...          ...          ...      ...      ...      ...\n",
       "272   thought     1.949986  1136.663208  Topic15  -6.0448  -0.4253\n",
       "518     young     1.882101   664.623352  Topic15  -6.0802   0.0759\n",
       "416      look     1.846032   637.396912  Topic15  -6.0995   0.0984\n",
       "374      face     1.834248   499.785889  Topic15  -6.1059   0.3352\n",
       "181    looked     1.812979   696.608826  Topic15  -6.1176  -0.0085\n",
       "\n",
       "[1123 rows x 6 columns], token_table=      Topic      Freq     Term\n",
       "term                          \n",
       "0         3  0.958174    abbey\n",
       "6075      5  0.147799    abide\n",
       "6075      6  0.738993    abide\n",
       "1906      1  0.300438   accent\n",
       "1906      2  0.225328   accent\n",
       "...     ...       ...      ...\n",
       "5389      2  0.525976  zoraide\n",
       "5389      6  0.037570  zoraide\n",
       "5389      8  0.338127  zoraide\n",
       "5389     12  0.037570  zoraide\n",
       "5389     13  0.037570  zoraide\n",
       "\n",
       "[4371 rows x 3 columns], R=30, lambda_step=0.01, plot_opts={'xlab': 'PC1', 'ylab': 'PC2'}, topic_order=[11, 5, 12, 14, 6, 7, 3, 2, 8, 13, 9, 10, 4, 1, 15])"
      ]
     },
     "execution_count": 49,
     "metadata": {},
     "output_type": "execute_result"
    }
   ],
   "source": [
    "pyLDAvis.gensim.prepare(lda, corpus, id2word)"
   ]
  },
  {
   "cell_type": "code",
   "execution_count": 50,
   "metadata": {},
   "outputs": [
    {
     "data": {
      "text/plain": [
       "[(10, 0.13781828), (11, 0.7753989), (13, 0.08468007)]"
      ]
     },
     "execution_count": 50,
     "metadata": {},
     "output_type": "execute_result"
    }
   ],
   "source": [
    "lda[corpus[0]]"
   ]
  },
  {
   "cell_type": "code",
   "execution_count": 51,
   "metadata": {},
   "outputs": [],
   "source": [
    "distro = [lda[d] for d in corpus]"
   ]
  },
  {
   "cell_type": "code",
   "execution_count": 52,
   "metadata": {},
   "outputs": [
    {
     "data": {
      "text/plain": [
       "[(10, 0.13781089), (11, 0.77537), (13, 0.08471637)]"
      ]
     },
     "execution_count": 52,
     "metadata": {},
     "output_type": "execute_result"
    }
   ],
   "source": [
    "distro[0]"
   ]
  },
  {
   "cell_type": "code",
   "execution_count": 54,
   "metadata": {},
   "outputs": [],
   "source": [
    "distro = [lda[d] for d in corpus]\n",
    "\n",
    "def update(doc):\n",
    "    d_dist = {k:0 for k in range(0,15)}\n",
    "    for t in doc:\n",
    "        d_dist[t[0]] = t[1]\n",
    "    return d_dist\n",
    "\n",
    "new_distro = [update(d) for d in distro]"
   ]
  },
  {
   "cell_type": "code",
   "execution_count": 55,
   "metadata": {},
   "outputs": [
    {
     "data": {
      "text/plain": [
       "813"
      ]
     },
     "execution_count": 55,
     "metadata": {},
     "output_type": "execute_result"
    }
   ],
   "source": [
    "len(new_distro)"
   ]
  },
  {
   "cell_type": "code",
   "execution_count": 56,
   "metadata": {},
   "outputs": [
    {
     "data": {
      "text/html": [
       "<div>\n",
       "<style scoped>\n",
       "    .dataframe tbody tr th:only-of-type {\n",
       "        vertical-align: middle;\n",
       "    }\n",
       "\n",
       "    .dataframe tbody tr th {\n",
       "        vertical-align: top;\n",
       "    }\n",
       "\n",
       "    .dataframe thead th {\n",
       "        text-align: right;\n",
       "    }\n",
       "</style>\n",
       "<table border=\"1\" class=\"dataframe\">\n",
       "  <thead>\n",
       "    <tr style=\"text-align: right;\">\n",
       "      <th></th>\n",
       "      <th>tokens</th>\n",
       "      <th>author</th>\n",
       "      <th>book</th>\n",
       "      <th>section</th>\n",
       "    </tr>\n",
       "  </thead>\n",
       "  <tbody>\n",
       "    <tr>\n",
       "      <th>Austen_Emma0026</th>\n",
       "      <td>[giving, fair, companion, account, yesterday, ...</td>\n",
       "      <td>1</td>\n",
       "      <td>Emma</td>\n",
       "      <td>26</td>\n",
       "    </tr>\n",
       "    <tr>\n",
       "      <th>Austen_Emma0032</th>\n",
       "      <td>[feels, like, snow, place, party, try, day, di...</td>\n",
       "      <td>1</td>\n",
       "      <td>Emma</td>\n",
       "      <td>32</td>\n",
       "    </tr>\n",
       "    <tr>\n",
       "      <th>CBronte_Villette0086</th>\n",
       "      <td>[pierced, opaque, blackness, stood, bougie, qu...</td>\n",
       "      <td>0</td>\n",
       "      <td>Villette</td>\n",
       "      <td>86</td>\n",
       "    </tr>\n",
       "    <tr>\n",
       "      <th>CBronte_Jane0099</th>\n",
       "      <td>[joke, queer, looks, tell, thing, specially, s...</td>\n",
       "      <td>0</td>\n",
       "      <td>Jane</td>\n",
       "      <td>99</td>\n",
       "    </tr>\n",
       "    <tr>\n",
       "      <th>CBronte_Villette0092</th>\n",
       "      <td>[second, landing, floor, comprising, abode, kn...</td>\n",
       "      <td>0</td>\n",
       "      <td>Villette</td>\n",
       "      <td>92</td>\n",
       "    </tr>\n",
       "  </tbody>\n",
       "</table>\n",
       "</div>"
      ],
      "text/plain": [
       "                                                                 tokens  \\\n",
       "Austen_Emma0026       [giving, fair, companion, account, yesterday, ...   \n",
       "Austen_Emma0032       [feels, like, snow, place, party, try, day, di...   \n",
       "CBronte_Villette0086  [pierced, opaque, blackness, stood, bougie, qu...   \n",
       "CBronte_Jane0099      [joke, queer, looks, tell, thing, specially, s...   \n",
       "CBronte_Villette0092  [second, landing, floor, comprising, abode, kn...   \n",
       "\n",
       "                      author      book  section  \n",
       "Austen_Emma0026            1      Emma       26  \n",
       "Austen_Emma0032            1      Emma       32  \n",
       "CBronte_Villette0086       0  Villette       86  \n",
       "CBronte_Jane0099           0      Jane       99  \n",
       "CBronte_Villette0092       0  Villette       92  "
      ]
     },
     "execution_count": 56,
     "metadata": {},
     "output_type": "execute_result"
    }
   ],
   "source": [
    "df.head()"
   ]
  },
  {
   "cell_type": "code",
   "execution_count": 57,
   "metadata": {},
   "outputs": [],
   "source": [
    "df = pd.DataFrame.from_records(new_distro, index=titles)\n",
    "df.columns = topics\n",
    "df['author'] = df.reset_index()['index'].apply(lambda x: x.split('_')[0]).tolist()"
   ]
  },
  {
   "cell_type": "code",
   "execution_count": 58,
   "metadata": {},
   "outputs": [
    {
     "data": {
      "text/html": [
       "<div>\n",
       "<style scoped>\n",
       "    .dataframe tbody tr th:only-of-type {\n",
       "        vertical-align: middle;\n",
       "    }\n",
       "\n",
       "    .dataframe tbody tr th {\n",
       "        vertical-align: top;\n",
       "    }\n",
       "\n",
       "    .dataframe thead th {\n",
       "        text-align: right;\n",
       "    }\n",
       "</style>\n",
       "<table border=\"1\" class=\"dataframe\">\n",
       "  <thead>\n",
       "    <tr style=\"text-align: right;\">\n",
       "      <th></th>\n",
       "      <th>pounds mother sure think year</th>\n",
       "      <th>pelet thought like little man</th>\n",
       "      <th>madame little like day vous</th>\n",
       "      <th>night look like old est</th>\n",
       "      <th>little madame like thought know</th>\n",
       "      <th>elizabeth darcy miss bingley bennet</th>\n",
       "      <th>know jane life like long</th>\n",
       "      <th>frances monsieur hunsden little english</th>\n",
       "      <th>good little like emma elton</th>\n",
       "      <th>sir long jane rochester little</th>\n",
       "      <th>like little rochester miss room</th>\n",
       "      <th>emma miss harriet thing weston</th>\n",
       "      <th>jane emma little thing miss</th>\n",
       "      <th>elinor marianne sister mother time</th>\n",
       "      <th>monsieur henri georgiana mdlle little</th>\n",
       "      <th>author</th>\n",
       "    </tr>\n",
       "  </thead>\n",
       "  <tbody>\n",
       "    <tr>\n",
       "      <th>Austen_Emma0026</th>\n",
       "      <td>0.0</td>\n",
       "      <td>0.0</td>\n",
       "      <td>0.0</td>\n",
       "      <td>0.0</td>\n",
       "      <td>0.000000</td>\n",
       "      <td>0.00000</td>\n",
       "      <td>0.000000</td>\n",
       "      <td>0.0</td>\n",
       "      <td>0.0</td>\n",
       "      <td>0.0</td>\n",
       "      <td>0.137893</td>\n",
       "      <td>0.775696</td>\n",
       "      <td>0.0</td>\n",
       "      <td>0.084309</td>\n",
       "      <td>0.0</td>\n",
       "      <td>Austen</td>\n",
       "    </tr>\n",
       "    <tr>\n",
       "      <th>Austen_Emma0032</th>\n",
       "      <td>0.0</td>\n",
       "      <td>0.0</td>\n",
       "      <td>0.0</td>\n",
       "      <td>0.0</td>\n",
       "      <td>0.000000</td>\n",
       "      <td>0.00000</td>\n",
       "      <td>0.000000</td>\n",
       "      <td>0.0</td>\n",
       "      <td>0.0</td>\n",
       "      <td>0.0</td>\n",
       "      <td>0.000000</td>\n",
       "      <td>0.997455</td>\n",
       "      <td>0.0</td>\n",
       "      <td>0.000000</td>\n",
       "      <td>0.0</td>\n",
       "      <td>Austen</td>\n",
       "    </tr>\n",
       "    <tr>\n",
       "      <th>CBronte_Villette0086</th>\n",
       "      <td>0.0</td>\n",
       "      <td>0.0</td>\n",
       "      <td>0.0</td>\n",
       "      <td>0.0</td>\n",
       "      <td>0.215013</td>\n",
       "      <td>0.00000</td>\n",
       "      <td>0.782775</td>\n",
       "      <td>0.0</td>\n",
       "      <td>0.0</td>\n",
       "      <td>0.0</td>\n",
       "      <td>0.000000</td>\n",
       "      <td>0.000000</td>\n",
       "      <td>0.0</td>\n",
       "      <td>0.000000</td>\n",
       "      <td>0.0</td>\n",
       "      <td>CBronte</td>\n",
       "    </tr>\n",
       "    <tr>\n",
       "      <th>CBronte_Jane0099</th>\n",
       "      <td>0.0</td>\n",
       "      <td>0.0</td>\n",
       "      <td>0.0</td>\n",
       "      <td>0.0</td>\n",
       "      <td>0.000000</td>\n",
       "      <td>0.00000</td>\n",
       "      <td>0.522476</td>\n",
       "      <td>0.0</td>\n",
       "      <td>0.0</td>\n",
       "      <td>0.0</td>\n",
       "      <td>0.472818</td>\n",
       "      <td>0.000000</td>\n",
       "      <td>0.0</td>\n",
       "      <td>0.000000</td>\n",
       "      <td>0.0</td>\n",
       "      <td>CBronte</td>\n",
       "    </tr>\n",
       "    <tr>\n",
       "      <th>CBronte_Villette0092</th>\n",
       "      <td>0.0</td>\n",
       "      <td>0.0</td>\n",
       "      <td>0.0</td>\n",
       "      <td>0.0</td>\n",
       "      <td>0.561942</td>\n",
       "      <td>0.02727</td>\n",
       "      <td>0.000000</td>\n",
       "      <td>0.0</td>\n",
       "      <td>0.0</td>\n",
       "      <td>0.0</td>\n",
       "      <td>0.370904</td>\n",
       "      <td>0.038231</td>\n",
       "      <td>0.0</td>\n",
       "      <td>0.000000</td>\n",
       "      <td>0.0</td>\n",
       "      <td>CBronte</td>\n",
       "    </tr>\n",
       "  </tbody>\n",
       "</table>\n",
       "</div>"
      ],
      "text/plain": [
       "                      pounds mother sure think year  \\\n",
       "Austen_Emma0026                                 0.0   \n",
       "Austen_Emma0032                                 0.0   \n",
       "CBronte_Villette0086                            0.0   \n",
       "CBronte_Jane0099                                0.0   \n",
       "CBronte_Villette0092                            0.0   \n",
       "\n",
       "                      pelet thought like little man  \\\n",
       "Austen_Emma0026                                 0.0   \n",
       "Austen_Emma0032                                 0.0   \n",
       "CBronte_Villette0086                            0.0   \n",
       "CBronte_Jane0099                                0.0   \n",
       "CBronte_Villette0092                            0.0   \n",
       "\n",
       "                      madame little like day vous  night look like old est  \\\n",
       "Austen_Emma0026                               0.0                      0.0   \n",
       "Austen_Emma0032                               0.0                      0.0   \n",
       "CBronte_Villette0086                          0.0                      0.0   \n",
       "CBronte_Jane0099                              0.0                      0.0   \n",
       "CBronte_Villette0092                          0.0                      0.0   \n",
       "\n",
       "                      little madame like thought know  \\\n",
       "Austen_Emma0026                              0.000000   \n",
       "Austen_Emma0032                              0.000000   \n",
       "CBronte_Villette0086                         0.215013   \n",
       "CBronte_Jane0099                             0.000000   \n",
       "CBronte_Villette0092                         0.561942   \n",
       "\n",
       "                      elizabeth darcy miss bingley bennet  \\\n",
       "Austen_Emma0026                                   0.00000   \n",
       "Austen_Emma0032                                   0.00000   \n",
       "CBronte_Villette0086                              0.00000   \n",
       "CBronte_Jane0099                                  0.00000   \n",
       "CBronte_Villette0092                              0.02727   \n",
       "\n",
       "                      know jane life like long  \\\n",
       "Austen_Emma0026                       0.000000   \n",
       "Austen_Emma0032                       0.000000   \n",
       "CBronte_Villette0086                  0.782775   \n",
       "CBronte_Jane0099                      0.522476   \n",
       "CBronte_Villette0092                  0.000000   \n",
       "\n",
       "                      frances monsieur hunsden little english  \\\n",
       "Austen_Emma0026                                           0.0   \n",
       "Austen_Emma0032                                           0.0   \n",
       "CBronte_Villette0086                                      0.0   \n",
       "CBronte_Jane0099                                          0.0   \n",
       "CBronte_Villette0092                                      0.0   \n",
       "\n",
       "                      good little like emma elton  \\\n",
       "Austen_Emma0026                               0.0   \n",
       "Austen_Emma0032                               0.0   \n",
       "CBronte_Villette0086                          0.0   \n",
       "CBronte_Jane0099                              0.0   \n",
       "CBronte_Villette0092                          0.0   \n",
       "\n",
       "                      sir long jane rochester little  \\\n",
       "Austen_Emma0026                                  0.0   \n",
       "Austen_Emma0032                                  0.0   \n",
       "CBronte_Villette0086                             0.0   \n",
       "CBronte_Jane0099                                 0.0   \n",
       "CBronte_Villette0092                             0.0   \n",
       "\n",
       "                      like little rochester miss room  \\\n",
       "Austen_Emma0026                              0.137893   \n",
       "Austen_Emma0032                              0.000000   \n",
       "CBronte_Villette0086                         0.000000   \n",
       "CBronte_Jane0099                             0.472818   \n",
       "CBronte_Villette0092                         0.370904   \n",
       "\n",
       "                      emma miss harriet thing weston  \\\n",
       "Austen_Emma0026                             0.775696   \n",
       "Austen_Emma0032                             0.997455   \n",
       "CBronte_Villette0086                        0.000000   \n",
       "CBronte_Jane0099                            0.000000   \n",
       "CBronte_Villette0092                        0.038231   \n",
       "\n",
       "                      jane emma little thing miss  \\\n",
       "Austen_Emma0026                               0.0   \n",
       "Austen_Emma0032                               0.0   \n",
       "CBronte_Villette0086                          0.0   \n",
       "CBronte_Jane0099                              0.0   \n",
       "CBronte_Villette0092                          0.0   \n",
       "\n",
       "                      elinor marianne sister mother time  \\\n",
       "Austen_Emma0026                                 0.084309   \n",
       "Austen_Emma0032                                 0.000000   \n",
       "CBronte_Villette0086                            0.000000   \n",
       "CBronte_Jane0099                                0.000000   \n",
       "CBronte_Villette0092                            0.000000   \n",
       "\n",
       "                      monsieur henri georgiana mdlle little   author  \n",
       "Austen_Emma0026                                         0.0   Austen  \n",
       "Austen_Emma0032                                         0.0   Austen  \n",
       "CBronte_Villette0086                                    0.0  CBronte  \n",
       "CBronte_Jane0099                                        0.0  CBronte  \n",
       "CBronte_Villette0092                                    0.0  CBronte  "
      ]
     },
     "execution_count": 58,
     "metadata": {},
     "output_type": "execute_result"
    }
   ],
   "source": [
    "df.head()"
   ]
  },
  {
   "cell_type": "code",
   "execution_count": 59,
   "metadata": {},
   "outputs": [
    {
     "data": {
      "text/html": [
       "<div>\n",
       "<style scoped>\n",
       "    .dataframe tbody tr th:only-of-type {\n",
       "        vertical-align: middle;\n",
       "    }\n",
       "\n",
       "    .dataframe tbody tr th {\n",
       "        vertical-align: top;\n",
       "    }\n",
       "\n",
       "    .dataframe thead th {\n",
       "        text-align: right;\n",
       "    }\n",
       "</style>\n",
       "<table border=\"1\" class=\"dataframe\">\n",
       "  <thead>\n",
       "    <tr style=\"text-align: right;\">\n",
       "      <th></th>\n",
       "      <th>pounds mother sure think year</th>\n",
       "      <th>pelet thought like little man</th>\n",
       "      <th>madame little like day vous</th>\n",
       "      <th>night look like old est</th>\n",
       "      <th>little madame like thought know</th>\n",
       "      <th>elizabeth darcy miss bingley bennet</th>\n",
       "      <th>know jane life like long</th>\n",
       "      <th>frances monsieur hunsden little english</th>\n",
       "      <th>good little like emma elton</th>\n",
       "      <th>sir long jane rochester little</th>\n",
       "      <th>like little rochester miss room</th>\n",
       "      <th>emma miss harriet thing weston</th>\n",
       "      <th>jane emma little thing miss</th>\n",
       "      <th>elinor marianne sister mother time</th>\n",
       "      <th>monsieur henri georgiana mdlle little</th>\n",
       "    </tr>\n",
       "    <tr>\n",
       "      <th>author</th>\n",
       "      <th></th>\n",
       "      <th></th>\n",
       "      <th></th>\n",
       "      <th></th>\n",
       "      <th></th>\n",
       "      <th></th>\n",
       "      <th></th>\n",
       "      <th></th>\n",
       "      <th></th>\n",
       "      <th></th>\n",
       "      <th></th>\n",
       "      <th></th>\n",
       "      <th></th>\n",
       "      <th></th>\n",
       "      <th></th>\n",
       "    </tr>\n",
       "  </thead>\n",
       "  <tbody>\n",
       "    <tr>\n",
       "      <th>Austen</th>\n",
       "      <td>0.002680</td>\n",
       "      <td>0.005259</td>\n",
       "      <td>0.000558</td>\n",
       "      <td>0.000027</td>\n",
       "      <td>0.002244</td>\n",
       "      <td>0.229092</td>\n",
       "      <td>0.005139</td>\n",
       "      <td>0.000836</td>\n",
       "      <td>0.016347</td>\n",
       "      <td>0.005213</td>\n",
       "      <td>0.014287</td>\n",
       "      <td>0.352109</td>\n",
       "      <td>0.023064</td>\n",
       "      <td>0.340474</td>\n",
       "      <td>0.000000</td>\n",
       "    </tr>\n",
       "    <tr>\n",
       "      <th>CBronte</th>\n",
       "      <td>0.002808</td>\n",
       "      <td>0.035885</td>\n",
       "      <td>0.061142</td>\n",
       "      <td>0.008203</td>\n",
       "      <td>0.298076</td>\n",
       "      <td>0.005800</td>\n",
       "      <td>0.123273</td>\n",
       "      <td>0.026868</td>\n",
       "      <td>0.007873</td>\n",
       "      <td>0.012269</td>\n",
       "      <td>0.385654</td>\n",
       "      <td>0.005821</td>\n",
       "      <td>0.004652</td>\n",
       "      <td>0.014466</td>\n",
       "      <td>0.004484</td>\n",
       "    </tr>\n",
       "  </tbody>\n",
       "</table>\n",
       "</div>"
      ],
      "text/plain": [
       "         pounds mother sure think year  pelet thought like little man  \\\n",
       "author                                                                  \n",
       "Austen                        0.002680                       0.005259   \n",
       "CBronte                       0.002808                       0.035885   \n",
       "\n",
       "         madame little like day vous  night look like old est  \\\n",
       "author                                                          \n",
       "Austen                      0.000558                 0.000027   \n",
       "CBronte                     0.061142                 0.008203   \n",
       "\n",
       "         little madame like thought know  elizabeth darcy miss bingley bennet  \\\n",
       "author                                                                          \n",
       "Austen                          0.002244                             0.229092   \n",
       "CBronte                         0.298076                             0.005800   \n",
       "\n",
       "         know jane life like long  frances monsieur hunsden little english  \\\n",
       "author                                                                       \n",
       "Austen                   0.005139                                 0.000836   \n",
       "CBronte                  0.123273                                 0.026868   \n",
       "\n",
       "         good little like emma elton  sir long jane rochester little  \\\n",
       "author                                                                 \n",
       "Austen                      0.016347                        0.005213   \n",
       "CBronte                     0.007873                        0.012269   \n",
       "\n",
       "         like little rochester miss room  emma miss harriet thing weston  \\\n",
       "author                                                                     \n",
       "Austen                          0.014287                        0.352109   \n",
       "CBronte                         0.385654                        0.005821   \n",
       "\n",
       "         jane emma little thing miss  elinor marianne sister mother time  \\\n",
       "author                                                                     \n",
       "Austen                      0.023064                            0.340474   \n",
       "CBronte                     0.004652                            0.014466   \n",
       "\n",
       "         monsieur henri georgiana mdlle little  \n",
       "author                                          \n",
       "Austen                                0.000000  \n",
       "CBronte                               0.004484  "
      ]
     },
     "execution_count": 59,
     "metadata": {},
     "output_type": "execute_result"
    }
   ],
   "source": [
    "df.groupby('author').mean()"
   ]
  },
  {
   "cell_type": "code",
   "execution_count": 64,
   "metadata": {},
   "outputs": [],
   "source": [
    "from gensim.models.coherencemodel import CoherenceModel\n",
    "\n",
    "def compute_coherence_values(dictionary, corpus, limit, start=2, step=3, passes=5):\n",
    "    \"\"\"\n",
    "    Compute c_v coherence for various number of topics\n",
    "\n",
    "    Parameters:\n",
    "    ----------\n",
    "    dictionary : Gensim dictionary\n",
    "    corpus : Gensim corpus\n",
    "    limit : Max num of topics\n",
    "    passes: the number of times the entire lda model & coherence values are calculated\n",
    "\n",
    "    Returns:\n",
    "    -------\n",
    "    coherence_values : Coherence values corresponding to the LDA model with respective number of topics\n",
    "    \"\"\"\n",
    "    \n",
    "    coherence_values = []\n",
    "    \n",
    "    for iter_ in range(passes):\n",
    "        for num_topics in range(start, limit, step):\n",
    "            model = LdaMulticore(corpus=corpus, num_topics=num_topics, id2word=dictionary, workers=4)\n",
    "            coherencemodel = CoherenceModel(model=model, dictionary=dictionary, corpus=corpus, coherence='u_mass')\n",
    "            coherence_values.append({'pass': iter_,\n",
    "                                    'num_topics': num_topics,\n",
    "                                    'coherence_score': coherencemodel.get_coherence()})"
   ]
  },
  {
   "cell_type": "code",
   "execution_count": null,
   "metadata": {},
   "outputs": [],
   "source": [
    "coherence_values = compute_coherence_values(dictionary=id2word,\n",
    "                                            corpus=corpus,\n",
    "                                            start=2,\n",
    "                                            limit=40,\n",
    "                                            step=2,\n",
    "                                            passes=100)"
   ]
  },
  {
   "cell_type": "code",
   "execution_count": null,
   "metadata": {},
   "outputs": [],
   "source": [
    "topic_coherence.head()"
   ]
  },
  {
   "cell_type": "code",
   "execution_count": null,
   "metadata": {},
   "outputs": [],
   "source": [
    "import seaborn as sns\n",
    "\n",
    "ax = sns.lineplot(x=\"num_topics\", y=\"coherence_score\", data=topic_coherence)"
   ]
  },
  {
   "cell_type": "code",
   "execution_count": null,
   "metadata": {},
   "outputs": [],
   "source": [
    "# Print the coherence scores\n",
    "for m, cv in zip(x, coherence_values):\n",
    "    print(\"Num Topics = \", m, \" has Coherence Value of\", round(cv, 4))"
   ]
  },
  {
   "cell_type": "code",
   "execution_count": null,
   "metadata": {},
   "outputs": [],
   "source": [
    "lda[id2word.doc2bow(tokenize(lda[id2word.doc2bow(tokenize(\"This is a sample document to score with a topic distribution.\"))]"
   ]
  },
  {
   "cell_type": "code",
   "execution_count": null,
   "metadata": {},
   "outputs": [],
   "source": []
  },
  {
   "cell_type": "code",
   "execution_count": null,
   "metadata": {},
   "outputs": [],
   "source": []
  },
  {
   "cell_type": "code",
   "execution_count": null,
   "metadata": {},
   "outputs": [],
   "source": []
  },
  {
   "cell_type": "code",
   "execution_count": null,
   "metadata": {},
   "outputs": [],
   "source": []
  },
  {
   "cell_type": "code",
   "execution_count": null,
   "metadata": {},
   "outputs": [],
   "source": []
  }
 ],
 "metadata": {
  "kernelspec": {
   "display_name": "U4-S1-NLP (Python3)",
   "language": "python",
   "name": "u4-s1-nlp"
  },
  "language_info": {
   "codemirror_mode": {
    "name": "ipython",
    "version": 3
   },
   "file_extension": ".py",
   "mimetype": "text/x-python",
   "name": "python",
   "nbconvert_exporter": "python",
   "pygments_lexer": "ipython3",
   "version": "3.7.0"
  }
 },
 "nbformat": 4,
 "nbformat_minor": 4
}
