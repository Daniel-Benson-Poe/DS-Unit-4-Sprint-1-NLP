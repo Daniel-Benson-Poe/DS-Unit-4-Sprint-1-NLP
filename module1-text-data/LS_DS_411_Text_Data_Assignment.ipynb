{
 "cells": [
  {
   "cell_type": "markdown",
   "metadata": {},
   "source": [
    "<img align=\"left\" src=\"https://lever-client-logos.s3.amazonaws.com/864372b1-534c-480e-acd5-9711f850815c-1524247202159.png\" width=200>\n",
    "<br></br>\n",
    "<br></br>\n",
    "\n",
    "# Natural Language Processing (NLP)\n",
    "## *Data Science Unit 4 Sprint 1 Assignment 1*\n",
    "\n",
    "Your goal in this assignment: find the attributes of the best & worst coffee shops in the dataset. The text is fairly raw: dates in the review, extra words in the `star_rating` column, etc. You'll probably want to clean that stuff up for a better analysis. \n",
    "\n",
    "Analyze the corpus of text using text visualizations of token frequency. Try cleaning the data as much as possible. Try the following techniques: \n",
    "- Lemmatization\n",
    "- Custom stopword removal\n",
    "\n",
    "Keep in mind the attributes of good tokens. Once you have a solid baseline, layer in the star rating in your visualization(s). Key part of this assignment - produce a write-up of the attributes of the best and worst coffee shops. Based on your analysis, what makes the best the best and the worst the worst. Use graphs and numbesr from your analysis to support your conclusions. There should be plenty of markdown cells! :coffee:"
   ]
  },
  {
   "cell_type": "code",
   "execution_count": 1,
   "metadata": {},
   "outputs": [],
   "source": [
    "# from IPython.display import YouTubeVideo\n",
    "\n",
    "# YouTubeVideo('Jml7NVYm8cs')"
   ]
  },
  {
   "cell_type": "code",
   "execution_count": 2,
   "metadata": {},
   "outputs": [
    {
     "data": {
      "text/plain": [
       "'/Users/Daniel/Desktop/DS-Unit-4-Intro-NLP/DS-Unit-4-Sprint-1-NLP/module1-text-data'"
      ]
     },
     "execution_count": 2,
     "metadata": {},
     "output_type": "execute_result"
    }
   ],
   "source": [
    "%pwd"
   ]
  },
  {
   "cell_type": "code",
   "execution_count": 3,
   "metadata": {},
   "outputs": [
    {
     "data": {
      "text/html": [
       "<div>\n",
       "<style scoped>\n",
       "    .dataframe tbody tr th:only-of-type {\n",
       "        vertical-align: middle;\n",
       "    }\n",
       "\n",
       "    .dataframe tbody tr th {\n",
       "        vertical-align: top;\n",
       "    }\n",
       "\n",
       "    .dataframe thead th {\n",
       "        text-align: right;\n",
       "    }\n",
       "</style>\n",
       "<table border=\"1\" class=\"dataframe\">\n",
       "  <thead>\n",
       "    <tr style=\"text-align: right;\">\n",
       "      <th></th>\n",
       "      <th>coffee_shop_name</th>\n",
       "      <th>full_review_text</th>\n",
       "      <th>star_rating</th>\n",
       "    </tr>\n",
       "  </thead>\n",
       "  <tbody>\n",
       "    <tr>\n",
       "      <th>0</th>\n",
       "      <td>The Factory - Cafe With a Soul</td>\n",
       "      <td>11/25/2016 1 check-in Love love loved the atm...</td>\n",
       "      <td>5.0 star rating</td>\n",
       "    </tr>\n",
       "    <tr>\n",
       "      <th>1</th>\n",
       "      <td>The Factory - Cafe With a Soul</td>\n",
       "      <td>12/2/2016 Listed in Date Night: Austin, Ambia...</td>\n",
       "      <td>4.0 star rating</td>\n",
       "    </tr>\n",
       "    <tr>\n",
       "      <th>2</th>\n",
       "      <td>The Factory - Cafe With a Soul</td>\n",
       "      <td>11/30/2016 1 check-in Listed in Brunch Spots ...</td>\n",
       "      <td>4.0 star rating</td>\n",
       "    </tr>\n",
       "    <tr>\n",
       "      <th>3</th>\n",
       "      <td>The Factory - Cafe With a Soul</td>\n",
       "      <td>11/25/2016 Very cool decor! Good drinks Nice ...</td>\n",
       "      <td>2.0 star rating</td>\n",
       "    </tr>\n",
       "    <tr>\n",
       "      <th>4</th>\n",
       "      <td>The Factory - Cafe With a Soul</td>\n",
       "      <td>12/3/2016 1 check-in They are located within ...</td>\n",
       "      <td>4.0 star rating</td>\n",
       "    </tr>\n",
       "  </tbody>\n",
       "</table>\n",
       "</div>"
      ],
      "text/plain": [
       "                  coffee_shop_name  \\\n",
       "0  The Factory - Cafe With a Soul    \n",
       "1  The Factory - Cafe With a Soul    \n",
       "2  The Factory - Cafe With a Soul    \n",
       "3  The Factory - Cafe With a Soul    \n",
       "4  The Factory - Cafe With a Soul    \n",
       "\n",
       "                                    full_review_text        star_rating  \n",
       "0   11/25/2016 1 check-in Love love loved the atm...   5.0 star rating   \n",
       "1   12/2/2016 Listed in Date Night: Austin, Ambia...   4.0 star rating   \n",
       "2   11/30/2016 1 check-in Listed in Brunch Spots ...   4.0 star rating   \n",
       "3   11/25/2016 Very cool decor! Good drinks Nice ...   2.0 star rating   \n",
       "4   12/3/2016 1 check-in They are located within ...   4.0 star rating   "
      ]
     },
     "execution_count": 3,
     "metadata": {},
     "output_type": "execute_result"
    }
   ],
   "source": [
    "import pandas as pd\n",
    "\n",
    "url = \"https://raw.githubusercontent.com/LambdaSchool/DS-Unit-4-Sprint-1-NLP/master/module1-text-data/data/yelp_coffeeshop_review_data.csv\"\n",
    "\n",
    "shops = pd.read_csv(url)\n",
    "shops.head()"
   ]
  },
  {
   "cell_type": "code",
   "execution_count": 4,
   "metadata": {},
   "outputs": [
    {
     "data": {
      "text/plain": [
       "Epoch Coffee                            400\n",
       "Halcyon                                 300\n",
       "The Factory - Cafe With a Soul          244\n",
       "Houndstooth Coffee                      200\n",
       "Venezia Italian Gelato                  200\n",
       "                                       ... \n",
       "Lucky Lab Coffee                         25\n",
       "Sister Coffee                            17\n",
       "Kowabunga Coffee                         16\n",
       "The Marvelous Vintage Tea Party Co.      10\n",
       "Lola Savannah Coffee Downtown             4\n",
       "Name: coffee_shop_name, Length: 79, dtype: int64"
      ]
     },
     "execution_count": 4,
     "metadata": {},
     "output_type": "execute_result"
    }
   ],
   "source": [
    "shops['coffee_shop_name'].value_counts()"
   ]
  },
  {
   "cell_type": "code",
   "execution_count": 5,
   "metadata": {},
   "outputs": [
    {
     "data": {
      "text/plain": [
       "0     11/25/2016 1 check-in Love love loved the atm...\n",
       "1     12/2/2016 Listed in Date Night: Austin, Ambia...\n",
       "2     11/30/2016 1 check-in Listed in Brunch Spots ...\n",
       "3     11/25/2016 Very cool decor! Good drinks Nice ...\n",
       "4     12/3/2016 1 check-in They are located within ...\n",
       "5     11/20/2016 1 check-in Very cute cafe! I think...\n",
       "6     10/27/2016 2 check-ins Listed in \"Nuptial Cof...\n",
       "7     11/2/2016 2 check-ins Love this place!  5 sta...\n",
       "8     10/25/2016 1 check-in Ok, let's try this appr...\n",
       "9     11/10/2016 3 check-ins This place has been sh...\n",
       "Name: full_review_text, dtype: object"
      ]
     },
     "execution_count": 5,
     "metadata": {},
     "output_type": "execute_result"
    }
   ],
   "source": [
    "shops['full_review_text'].head(10)"
   ]
  },
  {
   "cell_type": "code",
   "execution_count": 6,
   "metadata": {},
   "outputs": [
    {
     "data": {
      "text/plain": [
       "7606     6/11/2015 Same great tea and food as their Do...\n",
       "7607     8/14/2015 This place is amazing! It's one of ...\n",
       "7608     9/20/2015 I come here when I visit my friend ...\n",
       "7609     12/7/2014 1 check-in After noticing many frie...\n",
       "7610     3/1/2016 Great food! I haven't had a meal I d...\n",
       "7611     2/19/2015 I actually step into this restauran...\n",
       "7612     1/21/2016 Ok, The Steeping Room IS awesome. H...\n",
       "7613     4/30/2015 Loved coming here for tea, and the ...\n",
       "7614     8/2/2015 The food is just average. The booths...\n",
       "7615     5/23/2015 I finally stopped in for lunch with...\n",
       "Name: full_review_text, dtype: object"
      ]
     },
     "execution_count": 6,
     "metadata": {},
     "output_type": "execute_result"
    }
   ],
   "source": [
    "shops['full_review_text'].tail(10)"
   ]
  },
  {
   "cell_type": "markdown",
   "metadata": {},
   "source": [
    "# Explore Cleaning Options"
   ]
  },
  {
   "cell_type": "code",
   "execution_count": 7,
   "metadata": {},
   "outputs": [],
   "source": [
    "# test = shops.head(10).copy()"
   ]
  },
  {
   "cell_type": "code",
   "execution_count": 8,
   "metadata": {},
   "outputs": [],
   "source": [
    "# split_pee_soup = []\n",
    "# for row in test['full_review_text']:\n",
    "#     split_pee_soup.append(row.split())"
   ]
  },
  {
   "cell_type": "code",
   "execution_count": 9,
   "metadata": {},
   "outputs": [],
   "source": [
    "# split_pee_soup[:2]"
   ]
  },
  {
   "cell_type": "code",
   "execution_count": 10,
   "metadata": {},
   "outputs": [],
   "source": [
    "# dates = []\n",
    "# for soup in split_pee_soup:\n",
    "#     dates.append(soup[0])"
   ]
  },
  {
   "cell_type": "code",
   "execution_count": 11,
   "metadata": {},
   "outputs": [],
   "source": [
    "# dates"
   ]
  },
  {
   "cell_type": "code",
   "execution_count": 12,
   "metadata": {},
   "outputs": [],
   "source": [
    "# for i in split_pee_soup:\n",
    "#     i.remove(i[0])"
   ]
  },
  {
   "cell_type": "code",
   "execution_count": 13,
   "metadata": {},
   "outputs": [],
   "source": [
    "# split_pee_soup"
   ]
  },
  {
   "cell_type": "code",
   "execution_count": 14,
   "metadata": {},
   "outputs": [],
   "source": [
    "# test2 = []\n",
    "# for list in split_pee_soup:\n",
    "#     test2.append(' '.join(list))"
   ]
  },
  {
   "cell_type": "code",
   "execution_count": 15,
   "metadata": {},
   "outputs": [],
   "source": [
    "# test2"
   ]
  },
  {
   "cell_type": "code",
   "execution_count": 16,
   "metadata": {},
   "outputs": [],
   "source": [
    "# icky_tomato_soup = []\n",
    "# for row in test['star_rating']:\n",
    "#     icky_tomato_soup.append(row.split())"
   ]
  },
  {
   "cell_type": "code",
   "execution_count": 17,
   "metadata": {},
   "outputs": [],
   "source": [
    "# rating = []\n",
    "# for i in icky_tomato_soup:\n",
    "#     rating.append(i[0])\n",
    "    \n",
    "# rating"
   ]
  },
  {
   "cell_type": "code",
   "execution_count": 18,
   "metadata": {},
   "outputs": [],
   "source": [
    "# test['star_rating'] = rating"
   ]
  },
  {
   "cell_type": "code",
   "execution_count": 19,
   "metadata": {},
   "outputs": [],
   "source": [
    "# test.head()"
   ]
  },
  {
   "cell_type": "code",
   "execution_count": 20,
   "metadata": {},
   "outputs": [],
   "source": [
    "# test['star_rating'] = test['star_rating'].astype('float')"
   ]
  },
  {
   "cell_type": "code",
   "execution_count": 21,
   "metadata": {},
   "outputs": [],
   "source": [
    "# test.head()"
   ]
  },
  {
   "cell_type": "code",
   "execution_count": 22,
   "metadata": {},
   "outputs": [
    {
     "data": {
      "text/plain": [
       "' 11/10/2016 3 check-ins This place has been shown on my social media for days so i finally visited! One of THE cutest and artistic looking coffeeshops I have ever visited. You can self order which is nice because you can take your time and look at the pictures to help you decide! I especially liked how pictures were shown so I knew which coffee/tea came out aesthetically  I ordered the famous matcha green latte and i dont usually drink coffee but it went beyond my expectations. They give you a good amount and its creamy and sweet. Only downside is no wifi.. So hard to study here. Matcha green tea and living la vida mocha Matcha green tea latte Interior design See all photos from Sarah L. for The Factory - Cafe With a Soul '"
      ]
     },
     "execution_count": 22,
     "metadata": {},
     "output_type": "execute_result"
    }
   ],
   "source": [
    "shops['full_review_text'][9]"
   ]
  },
  {
   "cell_type": "code",
   "execution_count": 23,
   "metadata": {},
   "outputs": [
    {
     "data": {
      "text/plain": [
       " 5.0 star rating     3780\n",
       " 4.0 star rating     2360\n",
       " 3.0 star rating      738\n",
       " 2.0 star rating      460\n",
       " 1.0 star rating      278\n",
       "Name: star_rating, dtype: int64"
      ]
     },
     "execution_count": 23,
     "metadata": {},
     "output_type": "execute_result"
    }
   ],
   "source": [
    "shops['star_rating'].value_counts()"
   ]
  },
  {
   "cell_type": "markdown",
   "metadata": {},
   "source": [
    "# Clean Dataframe"
   ]
  },
  {
   "cell_type": "code",
   "execution_count": 24,
   "metadata": {},
   "outputs": [],
   "source": [
    "def wrangler(df):\n",
    "    \"\"\"\n",
    "    Wrangles the coffee shops dataframe to make the data more useable for Natural Language Processing models.\n",
    "    \n",
    "    args : \n",
    "        df(dataframe): Dataframe to be used in wrangling\n",
    "    \n",
    "    returns : \n",
    "        df(dataframe): Wrangled dataframe\n",
    "    \"\"\"\n",
    "    \n",
    "    df = df.copy()\n",
    "    \n",
    "    # Split the text from each row of the full_review_text column into individual components\n",
    "    split_data = []\n",
    "    for row in df['full_review_text']:\n",
    "        split_data.append(row.split())\n",
    "    \n",
    "    # Put dates aside for future use\n",
    "    dates = []\n",
    "    for data in split_data:\n",
    "        dates.append(data[0])\n",
    "        \n",
    "    # Pull the dates out of the split data\n",
    "    for split in split_data:\n",
    "        split.remove(split[0])\n",
    "        \n",
    "    # Append the split data back into full text\n",
    "    cleaned_text = []\n",
    "    for list in split_data:\n",
    "        cleaned_text.append(\" \".join(list))\n",
    "    \n",
    "    # Set review_text column to the newly cleaned_text list\n",
    "    df['full_review_text'] = cleaned_text\n",
    "    \n",
    "    # Split text from each row of the star_rating column into individual components\n",
    "    split_ratings = []\n",
    "    for row in df['star_rating']:\n",
    "        split_ratings.append(row.split())\n",
    "    \n",
    "    # Create list from just the numeric-like strings in the split data\n",
    "    rating_list = []\n",
    "    for i in split_ratings:\n",
    "        rating_list.append(i[0])\n",
    "    \n",
    "    # Set star_rating column to the cleaned rating_list containing only numeric-like components\n",
    "    df['star_rating'] = rating_list\n",
    "    \n",
    "    # Convert the numeric-like strings in the star_rating column to floats\n",
    "    df['star_rating'] = df['star_rating'].astype('float')\n",
    "    \n",
    "    # Create a new column for the pulled out dates\n",
    "    df['dates'] = dates\n",
    "    \n",
    "    # Convert dates to datetime format\n",
    "    pd.to_datetime(df['dates'], infer_datetime_format=True)\n",
    "    \n",
    "    return df\n",
    "    "
   ]
  },
  {
   "cell_type": "code",
   "execution_count": 25,
   "metadata": {},
   "outputs": [],
   "source": [
    "# Run dataframe through the wrangler\n",
    "shops = wrangler(shops)"
   ]
  },
  {
   "cell_type": "code",
   "execution_count": 26,
   "metadata": {},
   "outputs": [
    {
     "data": {
      "text/plain": [
       "(                  coffee_shop_name  \\\n",
       " 0  The Factory - Cafe With a Soul    \n",
       " 1  The Factory - Cafe With a Soul    \n",
       " 2  The Factory - Cafe With a Soul    \n",
       " 3  The Factory - Cafe With a Soul    \n",
       " 4  The Factory - Cafe With a Soul    \n",
       " \n",
       "                                     full_review_text  star_rating       dates  \n",
       " 0  1 check-in Love love loved the atmosphere! Eve...          5.0  11/25/2016  \n",
       " 1  Listed in Date Night: Austin, Ambiance in Aust...          4.0   12/2/2016  \n",
       " 2  1 check-in Listed in Brunch Spots I loved the ...          4.0  11/30/2016  \n",
       " 3  Very cool decor! Good drinks Nice seating Howe...          2.0  11/25/2016  \n",
       " 4  1 check-in They are located within the Northcr...          4.0   12/3/2016  ,\n",
       "         coffee_shop_name                                   full_review_text  \\\n",
       " 7611  The Steeping Room   I actually step into this restaurant by chance...   \n",
       " 7612  The Steeping Room   Ok, The Steeping Room IS awesome. How do they ...   \n",
       " 7613  The Steeping Room   Loved coming here for tea, and the atmosphere ...   \n",
       " 7614  The Steeping Room   The food is just average. The booths didn't fe...   \n",
       " 7615  The Steeping Room   I finally stopped in for lunch with my colleag...   \n",
       " \n",
       "       star_rating      dates  \n",
       " 7611          4.0  2/19/2015  \n",
       " 7612          5.0  1/21/2016  \n",
       " 7613          4.0  4/30/2015  \n",
       " 7614          3.0   8/2/2015  \n",
       " 7615          4.0  5/23/2015  )"
      ]
     },
     "execution_count": 26,
     "metadata": {},
     "output_type": "execute_result"
    }
   ],
   "source": [
    "shops.head(), shops.tail()"
   ]
  },
  {
   "cell_type": "code",
   "execution_count": 27,
   "metadata": {},
   "outputs": [
    {
     "data": {
      "text/plain": [
       "Amazing coffee! Waffle banana and nutella is incredible! Beautiful place! The service is great! Everything is just perfect!                                                                                                                                                                                                                                                                                                                                                                                                                                                                                                                                                                                                                                                                                                                                                                                                                                                                                                                                                                   4\n",
       "1 check-in Came in on the first day of opening, hours currently 6am-2pm. At some point they'll stay open till 12 midnight. I think this might be the most beautiful cafe in Austin, the interior is charming, snazzy, cozy. There's even a pair of swings to sit on while you enjoy your coffee and play a game of chess. I ordered the Marymint Monroe, basically a mint mojito. It's been a while since I've been to Philz coffee so it's hard to compare, but I think the Marymint is a little creamier. Also had the banana nutella waffle, bananas and nutella are always a winning combination, can't go wrong there. No wifi yet but I'm sure it will come soon. Friendly staff, delicious offerings, antique filament lightbulbs and best of all, Bieber and MJ high above on a mural watching over you. This place is aces. Golden age of milk tea See all photos from Khang H. for The Factory - Cafe With a Soul                                                                                                                                                                   4\n",
       "Tried this new cafe spot on Burnet with a friend - unassuming storefront, the decor is quaint af and you have to order from iPads at the counter and then choose a place to sit. Not a brunch spot as we had thought, just a cafe with a couple of food options. The Nutella waffles we got were on point - there's also a chicken option. The cold brew coffee was fantastic and my friend's milk tea turned out great too. Good spot for conversations. Only knocking down a star for the limited options. I hope they add more items to the menu! Milk tea - humongous!! Nutella banana waffles Love the illustrations! See all photos from Ramya B. for The Factory - Cafe With a Soul                                                                                                                                                                                                                                                                                                                                                                                                    4\n",
       "Enthusiastic and earnest desire to be excellent, try new things and develop new menu ideas, smiles, not in your face - best almond pound cake I've ever had (worth the 5 stars alone), and a fantastic cup of red rooibos iced tea. next to Hanabi. fantastic new spot.                                                                                                                                                                                                                                                                                                                                                                                                                                                                                                                                                                                                                                                                                                                                                                                                                       4\n",
       "3 check-ins This place has been shown on my social media for days so i finally visited! One of THE cutest and artistic looking coffeeshops I have ever visited. You can self order which is nice because you can take your time and look at the pictures to help you decide! I especially liked how pictures were shown so I knew which coffee/tea came out aesthetically I ordered the famous matcha green latte and i dont usually drink coffee but it went beyond my expectations. They give you a good amount and its creamy and sweet. Only downside is no wifi.. So hard to study here. Matcha green tea and living la vida mocha Matcha green tea latte Interior design See all photos from Sarah L. for The Factory - Cafe With a Soul                                                                                                                                                                                                                                                                                                                                                4\n",
       "                                                                                                                                                                                                                                                                                                                                                                                                                                                                                                                                                                                                                                                                                                                                                                                                                                                                                                                                                                                                                                                                                             ..\n",
       "1 check-in Very cute and cozy cafe! When I was ordering, I noticed they had a stock of small board games like Cards Against Humanity, which I thought was pretty neat. I came with the intention of studying and was worried I couldn't find a seat next to an outlet for my laptop. I was lucky enough to grab a table right after these two guys got up to leave. I also loved the background music, which was not too loud and consisted of mainly popular indie songs. If you're looking for a place to chill, chat with friends or do some light studying, Two Hands is great! However, if you're looking to use your laptop, keep in mind that you may not be able to find a table next to an outlet. I'll probably come back some time! I believe this was a banana nut muffin. Pretty moist and tasty!                                                                                                                                                                                                                                                                                1\n",
       "This is a good place to get work done. It's pretty spacious all the tables can get filled pretty quickly. Staff is nice. Coffee is good.                                                                                                                                                                                                                                                                                                                                                                                                                                                                                                                                                                                                                                                                                                                                                                                                                                                                                                                                                      1\n",
       "Listed in Caffeination Stations I judge a good coffee place on their iced coffee. It's my favorite, and I will order it in the dead of winter in a blizzard. Trianon definitely delivers. Great coffee, hip-looking and friendly employees, and a variety of local goodies on sale all equal an overall very nice coffeehouse. If you need a place to study or gather over some tasty coffee and treats, Trianon is the place for you!                                                                                                                                                                                                                                                                                                                                                                                                                                                                                                                                                                                                                                                        1\n",
       "I love this place. I stop in every day or two for a pack of cigarettes, a glass bottle sarsaparilla, some times I even get a sammich. The guys that work here are friendly and they have lots of Austin kooky type stuff like local candles and treats. They carry a great selection of beers as well as glass bottle sodas.                                                                                                                                                                                                                                                                                                                                                                                                                                                                                                                                                                                                                                                                                                                                                                  1\n",
       "3 check-ins Listed in comfy, cozy, & chill Hey friends, don't get me wrong, okay?! The \"secret 7-ingredient recipe\" moon milk is AMAZING. It tastes like coffee creamer on vanilla ice cream steroids. Always down for vanilla ice cream steroids. But in my Half Wintermoon (yup, I even got the half sugar option), it was a little too sweet. Like, \"the back of my throat hurts a little bit\" too sweet. For a rich, decadent drink - if I'm ever craving a caffeinated milkshake - I would come here in a heartbeat, but for a daily go-to coffee fix, I'd pass on the Wintermoon. The chicken cordin bleu hand pie was DELICIOUS. Buttery, golden crust, and a creamy, flavorful chicken & cheese & ham filling. Loved it. The place itself is pretty chill. I like the music! However, all of the table space is relatively small, aside from two larger square tables. If you're working with textbooks and a laptop, Summermoon probably wouldn't be ideal, unless you happen to get one of those bigger tables. But if you're here to do laptop work or read a book, it's great!    1\n",
       "Name: full_review_text, Length: 6915, dtype: int64"
      ]
     },
     "execution_count": 27,
     "metadata": {},
     "output_type": "execute_result"
    }
   ],
   "source": [
    "shops['full_review_text'].value_counts()"
   ]
  },
  {
   "cell_type": "code",
   "execution_count": 28,
   "metadata": {},
   "outputs": [
    {
     "data": {
      "text/plain": [
       "coffee_shop_name     object\n",
       "full_review_text     object\n",
       "star_rating         float64\n",
       "dates                object\n",
       "dtype: object"
      ]
     },
     "execution_count": 28,
     "metadata": {},
     "output_type": "execute_result"
    }
   ],
   "source": [
    "shops.dtypes"
   ]
  },
  {
   "cell_type": "code",
   "execution_count": 29,
   "metadata": {},
   "outputs": [
    {
     "data": {
      "text/plain": [
       "(7616, 4)"
      ]
     },
     "execution_count": 29,
     "metadata": {},
     "output_type": "execute_result"
    }
   ],
   "source": [
    "shops.shape"
   ]
  },
  {
   "cell_type": "markdown",
   "metadata": {},
   "source": [
    "## How do we want to analyze these coffee shop tokens? \n",
    "\n",
    "- Overall Word / Token Count\n",
    "- View Counts by Rating \n",
    "- *Hint:* a 'bad' coffee shops has a rating betweeen 1 & 3 based on the distribution of ratings. A 'good' coffee shop is a 4 or 5. "
   ]
  },
  {
   "cell_type": "markdown",
   "metadata": {},
   "source": [
    "### Attributes of good tokens:\n",
    "\n",
    "- Iterable data structure: allow analysis of semantic unit\n",
    "- Tokens should be same case\n",
    "- Tokens should be free of non-alphanumeric characters"
   ]
  },
  {
   "cell_type": "markdown",
   "metadata": {},
   "source": [
    "#### Import Statements:"
   ]
  },
  {
   "cell_type": "code",
   "execution_count": 30,
   "metadata": {},
   "outputs": [],
   "source": [
    "# Base\n",
    "from collections import Counter\n",
    "import re\n",
    "import pandas as pd\n",
    "\n",
    "# Plotting\n",
    "import squarify\n",
    "import matplotlib.pyplot as plt\n",
    "import seaborn as sns\n",
    "\n",
    "# NLP Libraries\n",
    "import spacy\n",
    "from spacy.tokenizer import Tokenizer\n",
    "from nltk.stem import PorterStemmer\n",
    "\n",
    "nlp = spacy.load(\"en_core_web_lg\")"
   ]
  },
  {
   "cell_type": "markdown",
   "metadata": {},
   "source": [
    "# BASELINE"
   ]
  },
  {
   "cell_type": "markdown",
   "metadata": {},
   "source": [
    "#### Step 1: Iterable Data Structure"
   ]
  },
  {
   "cell_type": "code",
   "execution_count": 31,
   "metadata": {},
   "outputs": [],
   "source": [
    "# Tokenizer\n",
    "tokenizer = Tokenizer(nlp.vocab)"
   ]
  },
  {
   "cell_type": "code",
   "execution_count": 32,
   "metadata": {},
   "outputs": [],
   "source": [
    "# Tokenizer pipe\n",
    "\n",
    "tokens = []\n",
    "\n",
    "for doc in tokenizer.pipe(shops['full_review_text'], batch_size=500):\n",
    "    doc_tokens = [token.text for token in doc]\n",
    "    tokens.append(doc_tokens)\n",
    "    \n",
    "# Create new tokens column and set it to the tokens list\n",
    "shops['tokens'] = tokens"
   ]
  },
  {
   "cell_type": "code",
   "execution_count": 33,
   "metadata": {},
   "outputs": [
    {
     "data": {
      "text/plain": [
       "0    [1, check-in, Love, love, loved, the, atmosphe...\n",
       "1    [Listed, in, Date, Night:, Austin,, Ambiance, ...\n",
       "2    [1, check-in, Listed, in, Brunch, Spots, I, lo...\n",
       "3    [Very, cool, decor!, Good, drinks, Nice, seati...\n",
       "4    [1, check-in, They, are, located, within, the,...\n",
       "Name: tokens, dtype: object"
      ]
     },
     "execution_count": 33,
     "metadata": {},
     "output_type": "execute_result"
    }
   ],
   "source": [
    "shops['tokens'].head()"
   ]
  },
  {
   "cell_type": "markdown",
   "metadata": {},
   "source": [
    "#### Step 2: Same Case"
   ]
  },
  {
   "cell_type": "code",
   "execution_count": 34,
   "metadata": {},
   "outputs": [],
   "source": [
    "tokens = []\n",
    "\n",
    "for doc in tokenizer.pipe(shops['full_review_text'], batch_size=500):\n",
    "    doc_tokens = [token.text.lower() for token in doc]\n",
    "    tokens.append(doc_tokens)\n",
    "    \n",
    "# Set tokens column to lower case tokens\n",
    "shops['tokens'] = tokens"
   ]
  },
  {
   "cell_type": "code",
   "execution_count": 35,
   "metadata": {},
   "outputs": [
    {
     "data": {
      "text/plain": [
       "0    [1, check-in, love, love, loved, the, atmosphe...\n",
       "1    [listed, in, date, night:, austin,, ambiance, ...\n",
       "2    [1, check-in, listed, in, brunch, spots, i, lo...\n",
       "3    [very, cool, decor!, good, drinks, nice, seati...\n",
       "4    [1, check-in, they, are, located, within, the,...\n",
       "Name: tokens, dtype: object"
      ]
     },
     "execution_count": 35,
     "metadata": {},
     "output_type": "execute_result"
    }
   ],
   "source": [
    "shops['tokens'].head()"
   ]
  },
  {
   "cell_type": "markdown",
   "metadata": {},
   "source": [
    "#### Step 3: Free of non-alphanumeric characters"
   ]
  },
  {
   "cell_type": "code",
   "execution_count": 36,
   "metadata": {},
   "outputs": [],
   "source": [
    "# Start by simply using Spacy's default stop words\n",
    "tokens = []\n",
    "\n",
    "for doc in tokenizer.pipe(shops['full_review_text'], batch_size=500):\n",
    "    doc_tokens = []\n",
    "    \n",
    "    for token in doc:\n",
    "        if (token.is_stop == False) & (token.is_punct == False):\n",
    "            doc_tokens.append(token.text.lower())\n",
    "            \n",
    "    tokens.append(doc_tokens)\n",
    "    \n",
    "# Set tokens to the list that now follows all three attributes of good tokens\n",
    "shops['tokens'] = tokens"
   ]
  },
  {
   "cell_type": "code",
   "execution_count": 37,
   "metadata": {},
   "outputs": [
    {
     "data": {
      "text/plain": [
       "0    [1, check-in, love, love, loved, atmosphere!, ...\n",
       "1    [listed, date, night:, austin,, ambiance, aust...\n",
       "2    [1, check-in, listed, brunch, spots, loved, ec...\n",
       "3    [cool, decor!, good, drinks, nice, seating, ho...\n",
       "4    [1, check-in, located, northcross, mall, shopp...\n",
       "Name: tokens, dtype: object"
      ]
     },
     "execution_count": 37,
     "metadata": {},
     "output_type": "execute_result"
    }
   ],
   "source": [
    "shops['tokens'].head()"
   ]
  },
  {
   "cell_type": "markdown",
   "metadata": {},
   "source": [
    "#### Analyze Using Counts"
   ]
  },
  {
   "cell_type": "code",
   "execution_count": 38,
   "metadata": {},
   "outputs": [],
   "source": [
    "def count(docs):\n",
    "    \n",
    "    word_counts = Counter()\n",
    "    appears_in = Counter()\n",
    "    \n",
    "    total_docs = len(docs)\n",
    "    \n",
    "    for doc in docs:\n",
    "        word_counts.update(doc)\n",
    "        appears_in.update(set(doc))\n",
    "        \n",
    "    temp = zip(word_counts.keys(), word_counts.values())\n",
    "    \n",
    "    wc = pd.DataFrame(temp, columns = ['word', 'count'])\n",
    "    \n",
    "    wc['rank'] = wc['count'].rank(method='first', ascending=False)\n",
    "    total = wc['count'].sum()\n",
    "    \n",
    "    wc['pct_total'] = wc['count'].apply(lambda x: x / total)\n",
    "    \n",
    "    wc = wc.sort_values(by='rank')\n",
    "    wc['cul_pct_total'] = wc['pct_total'].cumsum()\n",
    "    \n",
    "    t2 = zip(appears_in.keys(), appears_in.values())\n",
    "    ac = pd.DataFrame(t2, columns=['word', 'appears_in'])\n",
    "    wc = ac.merge(wc, on='word')\n",
    "    \n",
    "    wc['appears_in_pct'] = wc['appears_in'].apply(lambda x: x / total_docs)\n",
    "    \n",
    "    return wc.sort_values(by='rank')"
   ]
  },
  {
   "cell_type": "code",
   "execution_count": 39,
   "metadata": {},
   "outputs": [
    {
     "data": {
      "text/html": [
       "<div>\n",
       "<style scoped>\n",
       "    .dataframe tbody tr th:only-of-type {\n",
       "        vertical-align: middle;\n",
       "    }\n",
       "\n",
       "    .dataframe tbody tr th {\n",
       "        vertical-align: top;\n",
       "    }\n",
       "\n",
       "    .dataframe thead th {\n",
       "        text-align: right;\n",
       "    }\n",
       "</style>\n",
       "<table border=\"1\" class=\"dataframe\">\n",
       "  <thead>\n",
       "    <tr style=\"text-align: right;\">\n",
       "      <th></th>\n",
       "      <th>word</th>\n",
       "      <th>appears_in</th>\n",
       "      <th>count</th>\n",
       "      <th>rank</th>\n",
       "      <th>pct_total</th>\n",
       "      <th>cul_pct_total</th>\n",
       "      <th>appears_in_pct</th>\n",
       "    </tr>\n",
       "  </thead>\n",
       "  <tbody>\n",
       "    <tr>\n",
       "      <th>31</th>\n",
       "      <td>coffee</td>\n",
       "      <td>4210</td>\n",
       "      <td>8058</td>\n",
       "      <td>1.0</td>\n",
       "      <td>0.020622</td>\n",
       "      <td>0.020622</td>\n",
       "      <td>0.552784</td>\n",
       "    </tr>\n",
       "    <tr>\n",
       "      <th>92</th>\n",
       "      <td>place</td>\n",
       "      <td>3029</td>\n",
       "      <td>4264</td>\n",
       "      <td>2.0</td>\n",
       "      <td>0.010912</td>\n",
       "      <td>0.031534</td>\n",
       "      <td>0.397715</td>\n",
       "    </tr>\n",
       "    <tr>\n",
       "      <th>97</th>\n",
       "      <td>great</td>\n",
       "      <td>2438</td>\n",
       "      <td>3250</td>\n",
       "      <td>3.0</td>\n",
       "      <td>0.008317</td>\n",
       "      <td>0.039851</td>\n",
       "      <td>0.320116</td>\n",
       "    </tr>\n",
       "    <tr>\n",
       "      <th>269</th>\n",
       "      <td>it's</td>\n",
       "      <td>2061</td>\n",
       "      <td>3117</td>\n",
       "      <td>4.0</td>\n",
       "      <td>0.007977</td>\n",
       "      <td>0.047828</td>\n",
       "      <td>0.270614</td>\n",
       "    </tr>\n",
       "    <tr>\n",
       "      <th>159</th>\n",
       "      <td>like</td>\n",
       "      <td>2034</td>\n",
       "      <td>2902</td>\n",
       "      <td>5.0</td>\n",
       "      <td>0.007427</td>\n",
       "      <td>0.055255</td>\n",
       "      <td>0.267069</td>\n",
       "    </tr>\n",
       "  </tbody>\n",
       "</table>\n",
       "</div>"
      ],
      "text/plain": [
       "       word  appears_in  count  rank  pct_total  cul_pct_total  appears_in_pct\n",
       "31   coffee        4210   8058   1.0   0.020622       0.020622        0.552784\n",
       "92    place        3029   4264   2.0   0.010912       0.031534        0.397715\n",
       "97    great        2438   3250   3.0   0.008317       0.039851        0.320116\n",
       "269    it's        2061   3117   4.0   0.007977       0.047828        0.270614\n",
       "159    like        2034   2902   5.0   0.007427       0.055255        0.267069"
      ]
     },
     "execution_count": 39,
     "metadata": {},
     "output_type": "execute_result"
    }
   ],
   "source": [
    "# Use the function on dataframe\n",
    "wc = count(shops['tokens'])\n",
    "wc.head()"
   ]
  },
  {
   "cell_type": "code",
   "execution_count": 40,
   "metadata": {},
   "outputs": [
    {
     "data": {
      "image/png": "[encoded data removed]",
      "text/plain": [
       "<Figure size 432x288 with 1 Axes>"
      ]
     },
     "metadata": {
      "needs_background": "light"
     },
     "output_type": "display_data"
    }
   ],
   "source": [
    "# Squarify the baseline tokens\n",
    "wc_top20 = wc[wc['rank'] <= 20]\n",
    "\n",
    "squarify.plot(sizes=wc_top20['pct_total'], label=wc_top20['word'], alpha=.8)\n",
    "plt.axis('off')\n",
    "plt.show()"
   ]
  },
  {
   "cell_type": "markdown",
   "metadata": {},
   "source": [
    "# BASELINE WITH EXTENDED STOP WORDS"
   ]
  },
  {
   "cell_type": "markdown",
   "metadata": {},
   "source": [
    "The words coffee, check-in, 1, I've, i'm , it's appear to be worthless in our analysis, so let's add them to our stop words"
   ]
  },
  {
   "cell_type": "code",
   "execution_count": 41,
   "metadata": {},
   "outputs": [],
   "source": [
    "STOP_WORDS = nlp.Defaults.stop_words.union(['coffee', 'check-in', '1', \"I've\", \"i'm\", \"it's\"])"
   ]
  },
  {
   "cell_type": "code",
   "execution_count": 42,
   "metadata": {},
   "outputs": [],
   "source": [
    "tokens = []\n",
    "\n",
    "for doc in tokenizer.pipe(shops['full_review_text'], batch_size=500):\n",
    "    \n",
    "    doc_tokens = []\n",
    "    \n",
    "    for token in doc:\n",
    "        if token.text.lower() not in STOP_WORDS:\n",
    "            doc_tokens.append(token.text.lower())\n",
    "            \n",
    "    tokens.append(doc_tokens)\n",
    "    \n",
    "shops['tokens'] = tokens"
   ]
  },
  {
   "cell_type": "code",
   "execution_count": 43,
   "metadata": {},
   "outputs": [
    {
     "data": {
      "text/plain": [
       "0    [love, love, loved, atmosphere!, corner, shop,...\n",
       "1    [listed, date, night:, austin,, ambiance, aust...\n",
       "2    [listed, brunch, spots, loved, eclectic, homey...\n",
       "3    [cool, decor!, good, drinks, nice, seating, ho...\n",
       "4    [located, northcross, mall, shopping, center, ...\n",
       "Name: tokens, dtype: object"
      ]
     },
     "execution_count": 43,
     "metadata": {},
     "output_type": "execute_result"
    }
   ],
   "source": [
    "shops['tokens'].head()"
   ]
  },
  {
   "cell_type": "code",
   "execution_count": 44,
   "metadata": {},
   "outputs": [
    {
     "data": {
      "text/html": [
       "<div>\n",
       "<style scoped>\n",
       "    .dataframe tbody tr th:only-of-type {\n",
       "        vertical-align: middle;\n",
       "    }\n",
       "\n",
       "    .dataframe tbody tr th {\n",
       "        vertical-align: top;\n",
       "    }\n",
       "\n",
       "    .dataframe thead th {\n",
       "        text-align: right;\n",
       "    }\n",
       "</style>\n",
       "<table border=\"1\" class=\"dataframe\">\n",
       "  <thead>\n",
       "    <tr style=\"text-align: right;\">\n",
       "      <th></th>\n",
       "      <th>word</th>\n",
       "      <th>appears_in</th>\n",
       "      <th>count</th>\n",
       "      <th>rank</th>\n",
       "      <th>pct_total</th>\n",
       "      <th>cul_pct_total</th>\n",
       "      <th>appears_in_pct</th>\n",
       "    </tr>\n",
       "  </thead>\n",
       "  <tbody>\n",
       "    <tr>\n",
       "      <th>90</th>\n",
       "      <td>place</td>\n",
       "      <td>3029</td>\n",
       "      <td>4264</td>\n",
       "      <td>1.0</td>\n",
       "      <td>0.011296</td>\n",
       "      <td>0.011296</td>\n",
       "      <td>0.397715</td>\n",
       "    </tr>\n",
       "    <tr>\n",
       "      <th>95</th>\n",
       "      <td>great</td>\n",
       "      <td>2438</td>\n",
       "      <td>3250</td>\n",
       "      <td>2.0</td>\n",
       "      <td>0.008610</td>\n",
       "      <td>0.019905</td>\n",
       "      <td>0.320116</td>\n",
       "    </tr>\n",
       "    <tr>\n",
       "      <th>158</th>\n",
       "      <td>like</td>\n",
       "      <td>2034</td>\n",
       "      <td>2902</td>\n",
       "      <td>3.0</td>\n",
       "      <td>0.007688</td>\n",
       "      <td>0.027593</td>\n",
       "      <td>0.267069</td>\n",
       "    </tr>\n",
       "    <tr>\n",
       "      <th>179</th>\n",
       "      <td>good</td>\n",
       "      <td>2084</td>\n",
       "      <td>2779</td>\n",
       "      <td>4.0</td>\n",
       "      <td>0.007362</td>\n",
       "      <td>0.034955</td>\n",
       "      <td>0.273634</td>\n",
       "    </tr>\n",
       "    <tr>\n",
       "      <th>3</th>\n",
       "      <td>love</td>\n",
       "      <td>1434</td>\n",
       "      <td>1806</td>\n",
       "      <td>5.0</td>\n",
       "      <td>0.004784</td>\n",
       "      <td>0.039739</td>\n",
       "      <td>0.188288</td>\n",
       "    </tr>\n",
       "  </tbody>\n",
       "</table>\n",
       "</div>"
      ],
      "text/plain": [
       "      word  appears_in  count  rank  pct_total  cul_pct_total  appears_in_pct\n",
       "90   place        3029   4264   1.0   0.011296       0.011296        0.397715\n",
       "95   great        2438   3250   2.0   0.008610       0.019905        0.320116\n",
       "158   like        2034   2902   3.0   0.007688       0.027593        0.267069\n",
       "179   good        2084   2779   4.0   0.007362       0.034955        0.273634\n",
       "3     love        1434   1806   5.0   0.004784       0.039739        0.188288"
      ]
     },
     "execution_count": 44,
     "metadata": {},
     "output_type": "execute_result"
    }
   ],
   "source": [
    "wc = count(shops['tokens'])\n",
    "wc.head()"
   ]
  },
  {
   "cell_type": "code",
   "execution_count": 45,
   "metadata": {},
   "outputs": [
    {
     "data": {
      "image/png": "[encoded data removed]",
      "text/plain": [
       "<Figure size 432x288 with 1 Axes>"
      ]
     },
     "metadata": {
      "needs_background": "light"
     },
     "output_type": "display_data"
    }
   ],
   "source": [
    "wc_top20 = wc[wc['rank'] <= 20]\n",
    "\n",
    "squarify.plot(sizes=wc_top20['pct_total'], label=wc_top20['word'], alpha=.8)\n",
    "plt.axis('off')\n",
    "plt.show()"
   ]
  },
  {
   "cell_type": "markdown",
   "metadata": {},
   "source": [
    "# BASELINE WITH STATISTICAL TRIMMING"
   ]
  },
  {
   "cell_type": "code",
   "execution_count": 46,
   "metadata": {},
   "outputs": [
    {
     "data": {
      "image/png": "[encoded data removed]",
      "text/plain": [
       "<Figure size 432x288 with 1 Axes>"
      ]
     },
     "metadata": {
      "needs_background": "light"
     },
     "output_type": "display_data"
    }
   ],
   "source": [
    "# Look at cumulative distribution plot\n",
    "sns.lineplot(x='rank', y='cul_pct_total', data=wc);"
   ]
  },
  {
   "cell_type": "code",
   "execution_count": 47,
   "metadata": {},
   "outputs": [
    {
     "data": {
      "text/html": [
       "<div>\n",
       "<style scoped>\n",
       "    .dataframe tbody tr th:only-of-type {\n",
       "        vertical-align: middle;\n",
       "    }\n",
       "\n",
       "    .dataframe tbody tr th {\n",
       "        vertical-align: top;\n",
       "    }\n",
       "\n",
       "    .dataframe thead th {\n",
       "        text-align: right;\n",
       "    }\n",
       "</style>\n",
       "<table border=\"1\" class=\"dataframe\">\n",
       "  <thead>\n",
       "    <tr style=\"text-align: right;\">\n",
       "      <th></th>\n",
       "      <th>word</th>\n",
       "      <th>appears_in</th>\n",
       "      <th>count</th>\n",
       "      <th>rank</th>\n",
       "      <th>pct_total</th>\n",
       "      <th>cul_pct_total</th>\n",
       "      <th>appears_in_pct</th>\n",
       "    </tr>\n",
       "  </thead>\n",
       "  <tbody>\n",
       "    <tr>\n",
       "      <th>38886</th>\n",
       "      <td>delicious...and</td>\n",
       "      <td>1</td>\n",
       "      <td>1</td>\n",
       "      <td>38889.0</td>\n",
       "      <td>0.000003</td>\n",
       "      <td>0.999950</td>\n",
       "      <td>0.000131</td>\n",
       "    </tr>\n",
       "    <tr>\n",
       "      <th>38894</th>\n",
       "      <td>(turkey,</td>\n",
       "      <td>1</td>\n",
       "      <td>1</td>\n",
       "      <td>38890.0</td>\n",
       "      <td>0.000003</td>\n",
       "      <td>0.999952</td>\n",
       "      <td>0.000131</td>\n",
       "    </tr>\n",
       "    <tr>\n",
       "      <th>38890</th>\n",
       "      <td>romaine</td>\n",
       "      <td>1</td>\n",
       "      <td>1</td>\n",
       "      <td>38891.0</td>\n",
       "      <td>0.000003</td>\n",
       "      <td>0.999955</td>\n",
       "      <td>0.000131</td>\n",
       "    </tr>\n",
       "    <tr>\n",
       "      <th>38889</th>\n",
       "      <td>rib,</td>\n",
       "      <td>1</td>\n",
       "      <td>1</td>\n",
       "      <td>38892.0</td>\n",
       "      <td>0.000003</td>\n",
       "      <td>0.999958</td>\n",
       "      <td>0.000131</td>\n",
       "    </tr>\n",
       "    <tr>\n",
       "      <th>38892</th>\n",
       "      <td>predictably,</td>\n",
       "      <td>1</td>\n",
       "      <td>1</td>\n",
       "      <td>38893.0</td>\n",
       "      <td>0.000003</td>\n",
       "      <td>0.999960</td>\n",
       "      <td>0.000131</td>\n",
       "    </tr>\n",
       "    <tr>\n",
       "      <th>38888</th>\n",
       "      <td>blts</td>\n",
       "      <td>1</td>\n",
       "      <td>1</td>\n",
       "      <td>38894.0</td>\n",
       "      <td>0.000003</td>\n",
       "      <td>0.999963</td>\n",
       "      <td>0.000131</td>\n",
       "    </tr>\n",
       "    <tr>\n",
       "      <th>38891</th>\n",
       "      <td>(+</td>\n",
       "      <td>1</td>\n",
       "      <td>1</td>\n",
       "      <td>38895.0</td>\n",
       "      <td>0.000003</td>\n",
       "      <td>0.999966</td>\n",
       "      <td>0.000131</td>\n",
       "    </tr>\n",
       "    <tr>\n",
       "      <th>38893</th>\n",
       "      <td>turkey)</td>\n",
       "      <td>1</td>\n",
       "      <td>1</td>\n",
       "      <td>38896.0</td>\n",
       "      <td>0.000003</td>\n",
       "      <td>0.999968</td>\n",
       "      <td>0.000131</td>\n",
       "    </tr>\n",
       "    <tr>\n",
       "      <th>38895</th>\n",
       "      <td>(pork)</td>\n",
       "      <td>1</td>\n",
       "      <td>1</td>\n",
       "      <td>38897.0</td>\n",
       "      <td>0.000003</td>\n",
       "      <td>0.999971</td>\n",
       "      <td>0.000131</td>\n",
       "    </tr>\n",
       "    <tr>\n",
       "      <th>38898</th>\n",
       "      <td>roomier</td>\n",
       "      <td>1</td>\n",
       "      <td>1</td>\n",
       "      <td>38898.0</td>\n",
       "      <td>0.000003</td>\n",
       "      <td>0.999974</td>\n",
       "      <td>0.000131</td>\n",
       "    </tr>\n",
       "    <tr>\n",
       "      <th>38897</th>\n",
       "      <td>pine</td>\n",
       "      <td>1</td>\n",
       "      <td>1</td>\n",
       "      <td>38899.0</td>\n",
       "      <td>0.000003</td>\n",
       "      <td>0.999976</td>\n",
       "      <td>0.000131</td>\n",
       "    </tr>\n",
       "    <tr>\n",
       "      <th>38896</th>\n",
       "      <td>windowed</td>\n",
       "      <td>1</td>\n",
       "      <td>1</td>\n",
       "      <td>38900.0</td>\n",
       "      <td>0.000003</td>\n",
       "      <td>0.999979</td>\n",
       "      <td>0.000131</td>\n",
       "    </tr>\n",
       "    <tr>\n",
       "      <th>38900</th>\n",
       "      <td>irregular.</td>\n",
       "      <td>1</td>\n",
       "      <td>1</td>\n",
       "      <td>38901.0</td>\n",
       "      <td>0.000003</td>\n",
       "      <td>0.999981</td>\n",
       "      <td>0.000131</td>\n",
       "    </tr>\n",
       "    <tr>\n",
       "      <th>38899</th>\n",
       "      <td>responsive.</td>\n",
       "      <td>1</td>\n",
       "      <td>1</td>\n",
       "      <td>38902.0</td>\n",
       "      <td>0.000003</td>\n",
       "      <td>0.999984</td>\n",
       "      <td>0.000131</td>\n",
       "    </tr>\n",
       "    <tr>\n",
       "      <th>38902</th>\n",
       "      <td>cheddar,</td>\n",
       "      <td>1</td>\n",
       "      <td>1</td>\n",
       "      <td>38903.0</td>\n",
       "      <td>0.000003</td>\n",
       "      <td>0.999987</td>\n",
       "      <td>0.000131</td>\n",
       "    </tr>\n",
       "    <tr>\n",
       "      <th>38903</th>\n",
       "      <td>actuality.</td>\n",
       "      <td>1</td>\n",
       "      <td>1</td>\n",
       "      <td>38904.0</td>\n",
       "      <td>0.000003</td>\n",
       "      <td>0.999989</td>\n",
       "      <td>0.000131</td>\n",
       "    </tr>\n",
       "    <tr>\n",
       "      <th>38901</th>\n",
       "      <td>crass.</td>\n",
       "      <td>1</td>\n",
       "      <td>1</td>\n",
       "      <td>38905.0</td>\n",
       "      <td>0.000003</td>\n",
       "      <td>0.999992</td>\n",
       "      <td>0.000131</td>\n",
       "    </tr>\n",
       "    <tr>\n",
       "      <th>38904</th>\n",
       "      <td>restrictions.</td>\n",
       "      <td>1</td>\n",
       "      <td>1</td>\n",
       "      <td>38906.0</td>\n",
       "      <td>0.000003</td>\n",
       "      <td>0.999995</td>\n",
       "      <td>0.000131</td>\n",
       "    </tr>\n",
       "    <tr>\n",
       "      <th>38905</th>\n",
       "      <td>specially,</td>\n",
       "      <td>1</td>\n",
       "      <td>1</td>\n",
       "      <td>38907.0</td>\n",
       "      <td>0.000003</td>\n",
       "      <td>0.999997</td>\n",
       "      <td>0.000131</td>\n",
       "    </tr>\n",
       "    <tr>\n",
       "      <th>38906</th>\n",
       "      <td>digestion,</td>\n",
       "      <td>1</td>\n",
       "      <td>1</td>\n",
       "      <td>38908.0</td>\n",
       "      <td>0.000003</td>\n",
       "      <td>1.000000</td>\n",
       "      <td>0.000131</td>\n",
       "    </tr>\n",
       "  </tbody>\n",
       "</table>\n",
       "</div>"
      ],
      "text/plain": [
       "                  word  appears_in  count     rank  pct_total  cul_pct_total  \\\n",
       "38886  delicious...and           1      1  38889.0   0.000003       0.999950   \n",
       "38894         (turkey,           1      1  38890.0   0.000003       0.999952   \n",
       "38890          romaine           1      1  38891.0   0.000003       0.999955   \n",
       "38889             rib,           1      1  38892.0   0.000003       0.999958   \n",
       "38892     predictably,           1      1  38893.0   0.000003       0.999960   \n",
       "38888             blts           1      1  38894.0   0.000003       0.999963   \n",
       "38891               (+           1      1  38895.0   0.000003       0.999966   \n",
       "38893          turkey)           1      1  38896.0   0.000003       0.999968   \n",
       "38895           (pork)           1      1  38897.0   0.000003       0.999971   \n",
       "38898          roomier           1      1  38898.0   0.000003       0.999974   \n",
       "38897             pine           1      1  38899.0   0.000003       0.999976   \n",
       "38896         windowed           1      1  38900.0   0.000003       0.999979   \n",
       "38900       irregular.           1      1  38901.0   0.000003       0.999981   \n",
       "38899      responsive.           1      1  38902.0   0.000003       0.999984   \n",
       "38902         cheddar,           1      1  38903.0   0.000003       0.999987   \n",
       "38903       actuality.           1      1  38904.0   0.000003       0.999989   \n",
       "38901           crass.           1      1  38905.0   0.000003       0.999992   \n",
       "38904    restrictions.           1      1  38906.0   0.000003       0.999995   \n",
       "38905       specially,           1      1  38907.0   0.000003       0.999997   \n",
       "38906       digestion,           1      1  38908.0   0.000003       1.000000   \n",
       "\n",
       "       appears_in_pct  \n",
       "38886        0.000131  \n",
       "38894        0.000131  \n",
       "38890        0.000131  \n",
       "38889        0.000131  \n",
       "38892        0.000131  \n",
       "38888        0.000131  \n",
       "38891        0.000131  \n",
       "38893        0.000131  \n",
       "38895        0.000131  \n",
       "38898        0.000131  \n",
       "38897        0.000131  \n",
       "38896        0.000131  \n",
       "38900        0.000131  \n",
       "38899        0.000131  \n",
       "38902        0.000131  \n",
       "38903        0.000131  \n",
       "38901        0.000131  \n",
       "38904        0.000131  \n",
       "38905        0.000131  \n",
       "38906        0.000131  "
      ]
     },
     "execution_count": 47,
     "metadata": {},
     "output_type": "execute_result"
    }
   ],
   "source": [
    "# Look at the 20 words at the bottom of the list\n",
    "wc.tail(20)"
   ]
  },
  {
   "cell_type": "code",
   "execution_count": 48,
   "metadata": {},
   "outputs": [
    {
     "data": {
      "text/plain": [
       "count    38908.000000\n",
       "mean         0.001161\n",
       "std          0.006482\n",
       "min          0.000131\n",
       "25%          0.000131\n",
       "50%          0.000131\n",
       "75%          0.000394\n",
       "max          0.397715\n",
       "Name: appears_in_pct, dtype: float64"
      ]
     },
     "execution_count": 48,
     "metadata": {},
     "output_type": "execute_result"
    }
   ],
   "source": [
    "wc['appears_in_pct'].describe()"
   ]
  },
  {
   "cell_type": "code",
   "execution_count": 49,
   "metadata": {},
   "outputs": [
    {
     "data": {
      "image/png": "[encoded data removed]",
      "text/plain": [
       "<Figure size 432x288 with 1 Axes>"
      ]
     },
     "metadata": {
      "needs_background": "light"
     },
     "output_type": "display_data"
    }
   ],
   "source": [
    "# Frequency of appears_in documents\n",
    "sns.distplot(wc['appears_in_pct']);"
   ]
  },
  {
   "cell_type": "code",
   "execution_count": 50,
   "metadata": {},
   "outputs": [
    {
     "data": {
      "image/png": "[encoded data removed]",
      "text/plain": [
       "<Figure size 432x288 with 1 Axes>"
      ]
     },
     "metadata": {
      "needs_background": "light"
     },
     "output_type": "display_data"
    }
   ],
   "source": [
    "# Map with words appearing in at least 3.5% of documents\n",
    "wc = wc[wc['appears_in_pct'] >= 0.035]\n",
    "\n",
    "sns.distplot(wc['appears_in_pct']);"
   ]
  },
  {
   "cell_type": "code",
   "execution_count": 51,
   "metadata": {},
   "outputs": [
    {
     "data": {
      "text/plain": [
       "(193, 7)"
      ]
     },
     "execution_count": 51,
     "metadata": {},
     "output_type": "execute_result"
    }
   ],
   "source": [
    "wc.shape"
   ]
  },
  {
   "cell_type": "markdown",
   "metadata": {},
   "source": [
    "# BASELINE WITH LEMMATIZATION"
   ]
  },
  {
   "cell_type": "code",
   "execution_count": 52,
   "metadata": {},
   "outputs": [],
   "source": [
    "# Create lemmatization function\n",
    "def get_lemmas(text):\n",
    "    \n",
    "    lemmas = []\n",
    "    \n",
    "    doc = nlp(text)\n",
    "    \n",
    "    for token in doc:\n",
    "        if((token.is_stop == False) and (token.is_punct == False)) and (token.pos_ != 'PRON'):\n",
    "            lemmas.append(token.lemma_)\n",
    "            \n",
    "    return lemmas"
   ]
  },
  {
   "cell_type": "code",
   "execution_count": 53,
   "metadata": {},
   "outputs": [],
   "source": [
    "# Create lemmas column and set it to get_lemmas\n",
    "shops['lemmas'] = shops['full_review_text'].apply(get_lemmas)"
   ]
  },
  {
   "cell_type": "code",
   "execution_count": 54,
   "metadata": {},
   "outputs": [
    {
     "data": {
      "text/plain": [
       "0    [1, check, Love, love, love, atmosphere, corne...\n",
       "1    [list, Date, Night, Austin, Ambiance, Austin, ...\n",
       "2    [1, check, list, Brunch, Spots, love, eclectic...\n",
       "3    [cool, decor, good, drink, nice, seating, over...\n",
       "4    [1, check, locate, Northcross, mall, shopping,...\n",
       "Name: lemmas, dtype: object"
      ]
     },
     "execution_count": 54,
     "metadata": {},
     "output_type": "execute_result"
    }
   ],
   "source": [
    "shops['lemmas'].head()"
   ]
  },
  {
   "cell_type": "code",
   "execution_count": 55,
   "metadata": {},
   "outputs": [
    {
     "data": {
      "image/png": "[encoded data removed]",
      "text/plain": [
       "<Figure size 432x288 with 1 Axes>"
      ]
     },
     "metadata": {
      "needs_background": "light"
     },
     "output_type": "display_data"
    }
   ],
   "source": [
    "# Count with lemmatization\n",
    "wc = count(shops['lemmas'])\n",
    "wc_top20 = wc[wc['rank'] <= 20]\n",
    "\n",
    "squarify.plot(sizes=wc_top20['pct_total'], label=wc_top20['word'], alpha=.8)\n",
    "plt.axis('off')\n",
    "plt.show()"
   ]
  },
  {
   "cell_type": "markdown",
   "metadata": {},
   "source": [
    "## Can visualize the words with the greatest difference in counts between 'good' & 'bad'?\n",
    "\n",
    "Couple Notes: \n",
    "- Rel. freq. instead of absolute counts b/c of different numbers of reviews\n",
    "- Only look at the top 5-10 words with the greatest differences\n"
   ]
  },
  {
   "cell_type": "code",
   "execution_count": 56,
   "metadata": {},
   "outputs": [],
   "source": [
    "# Seperate by star-rating: 1-3 stars = 'bad', 4-5 stars = 'good'\n",
    "bad_shops = shops[shops['star_rating'] <= 3]\n",
    "good_shops = shops[shops['star_rating'] > 3]"
   ]
  },
  {
   "cell_type": "code",
   "execution_count": 57,
   "metadata": {},
   "outputs": [
    {
     "data": {
      "text/plain": [
       "3.0    738\n",
       "2.0    460\n",
       "1.0    278\n",
       "Name: star_rating, dtype: int64"
      ]
     },
     "execution_count": 57,
     "metadata": {},
     "output_type": "execute_result"
    }
   ],
   "source": [
    "bad_shops['star_rating'].value_counts()"
   ]
  },
  {
   "cell_type": "code",
   "execution_count": 59,
   "metadata": {},
   "outputs": [
    {
     "data": {
      "text/plain": [
       "5.0    3780\n",
       "4.0    2360\n",
       "Name: star_rating, dtype: int64"
      ]
     },
     "execution_count": 59,
     "metadata": {},
     "output_type": "execute_result"
    }
   ],
   "source": [
    "good_shops['star_rating'].value_counts()"
   ]
  },
  {
   "cell_type": "markdown",
   "metadata": {},
   "source": [
    "# good_shops and bad_shops lemmatized"
   ]
  },
  {
   "cell_type": "code",
   "execution_count": 60,
   "metadata": {},
   "outputs": [
    {
     "name": "stderr",
     "output_type": "stream",
     "text": [
      "//anaconda3/envs/U4-S1-NLP/lib/python3.7/site-packages/ipykernel_launcher.py:1: SettingWithCopyWarning: \n",
      "A value is trying to be set on a copy of a slice from a DataFrame.\n",
      "Try using .loc[row_indexer,col_indexer] = value instead\n",
      "\n",
      "See the caveats in the documentation: https://pandas.pydata.org/pandas-docs/stable/user_guide/indexing.html#returning-a-view-versus-a-copy\n",
      "  \"\"\"Entry point for launching an IPython kernel.\n",
      "//anaconda3/envs/U4-S1-NLP/lib/python3.7/site-packages/ipykernel_launcher.py:2: SettingWithCopyWarning: \n",
      "A value is trying to be set on a copy of a slice from a DataFrame.\n",
      "Try using .loc[row_indexer,col_indexer] = value instead\n",
      "\n",
      "See the caveats in the documentation: https://pandas.pydata.org/pandas-docs/stable/user_guide/indexing.html#returning-a-view-versus-a-copy\n",
      "  \n"
     ]
    }
   ],
   "source": [
    "bad_shops['lemmas'] = bad_shops['full_review_text'].apply(get_lemmas)\n",
    "good_shops['lemmas'] = good_shops['full_review_text'].apply(get_lemmas)"
   ]
  },
  {
   "cell_type": "code",
   "execution_count": 61,
   "metadata": {},
   "outputs": [
    {
     "data": {
      "text/plain": [
       "3     [cool, decor, good, drink, nice, seating, over...\n",
       "8     [1, check, ok, let, try, approach, pro, music,...\n",
       "11    [store, a+, decoration, honestly, coffee, good...\n",
       "12    [1, check, list, 2016, time, Charm, Factory, a...\n",
       "25    [okay, visit, friend, LA, try, mint, mojito, i...\n",
       "Name: lemmas, dtype: object"
      ]
     },
     "execution_count": 61,
     "metadata": {},
     "output_type": "execute_result"
    }
   ],
   "source": [
    "bad_shops['lemmas'].head()"
   ]
  },
  {
   "cell_type": "code",
   "execution_count": 62,
   "metadata": {},
   "outputs": [
    {
     "data": {
      "text/plain": [
       "0    [1, check, Love, love, love, atmosphere, corne...\n",
       "1    [list, Date, Night, Austin, Ambiance, Austin, ...\n",
       "2    [1, check, list, Brunch, Spots, love, eclectic...\n",
       "4    [1, check, locate, Northcross, mall, shopping,...\n",
       "5    [1, check, cute, cafe, think, moment, step, fi...\n",
       "Name: lemmas, dtype: object"
      ]
     },
     "execution_count": 62,
     "metadata": {},
     "output_type": "execute_result"
    }
   ],
   "source": [
    "good_shops['lemmas'].head()"
   ]
  },
  {
   "cell_type": "code",
   "execution_count": 69,
   "metadata": {},
   "outputs": [
    {
     "data": {
      "image/png": "[encoded data removed]",
      "text/plain": [
       "<Figure size 432x288 with 1 Axes>"
      ]
     },
     "metadata": {
      "needs_background": "light"
     },
     "output_type": "display_data"
    }
   ],
   "source": [
    "bad_shops_wc = count(bad_shops['lemmas'])\n",
    "bad_shops_top20 = bad_shops_wc[bad_shops_wc['rank'] <= 20]\n",
    "\n",
    "squarify.plot(sizes=bad_shops_top20['pct_total'], label=bad_shops_top20['word'], alpha=.8)\n",
    "plt.axis('off')\n",
    "plt.show()"
   ]
  },
  {
   "cell_type": "code",
   "execution_count": 70,
   "metadata": {},
   "outputs": [
    {
     "data": {
      "image/png": "[encoded data removed]",
      "text/plain": [
       "<Figure size 432x288 with 1 Axes>"
      ]
     },
     "metadata": {
      "needs_background": "light"
     },
     "output_type": "display_data"
    }
   ],
   "source": [
    "good_shops_wc = count(good_shops['lemmas'])\n",
    "good_shops_top20 = good_shops_wc[good_shops_wc['rank'] <= 20]\n",
    "\n",
    "squarify.plot(sizes=good_shops_top20['pct_total'], label=good_shops_top20['word'], alpha=.8)\n",
    "plt.axis('off')\n",
    "plt.show()"
   ]
  },
  {
   "cell_type": "code",
   "execution_count": 71,
   "metadata": {},
   "outputs": [
    {
     "data": {
      "text/html": [
       "<div>\n",
       "<style scoped>\n",
       "    .dataframe tbody tr th:only-of-type {\n",
       "        vertical-align: middle;\n",
       "    }\n",
       "\n",
       "    .dataframe tbody tr th {\n",
       "        vertical-align: top;\n",
       "    }\n",
       "\n",
       "    .dataframe thead th {\n",
       "        text-align: right;\n",
       "    }\n",
       "</style>\n",
       "<table border=\"1\" class=\"dataframe\">\n",
       "  <thead>\n",
       "    <tr style=\"text-align: right;\">\n",
       "      <th></th>\n",
       "      <th>word</th>\n",
       "      <th>appears_in</th>\n",
       "      <th>count</th>\n",
       "      <th>rank</th>\n",
       "      <th>pct_total</th>\n",
       "      <th>cul_pct_total</th>\n",
       "      <th>appears_in_pct</th>\n",
       "    </tr>\n",
       "  </thead>\n",
       "  <tbody>\n",
       "    <tr>\n",
       "      <th>32</th>\n",
       "      <td>coffee</td>\n",
       "      <td>934</td>\n",
       "      <td>2120</td>\n",
       "      <td>1.0</td>\n",
       "      <td>0.026785</td>\n",
       "      <td>0.026785</td>\n",
       "      <td>0.632791</td>\n",
       "    </tr>\n",
       "    <tr>\n",
       "      <th>8</th>\n",
       "      <td>place</td>\n",
       "      <td>753</td>\n",
       "      <td>1226</td>\n",
       "      <td>2.0</td>\n",
       "      <td>0.015490</td>\n",
       "      <td>0.042275</td>\n",
       "      <td>0.510163</td>\n",
       "    </tr>\n",
       "    <tr>\n",
       "      <th>26</th>\n",
       "      <td>good</td>\n",
       "      <td>645</td>\n",
       "      <td>997</td>\n",
       "      <td>3.0</td>\n",
       "      <td>0.012597</td>\n",
       "      <td>0.054872</td>\n",
       "      <td>0.436992</td>\n",
       "    </tr>\n",
       "    <tr>\n",
       "      <th>0</th>\n",
       "      <td>like</td>\n",
       "      <td>596</td>\n",
       "      <td>945</td>\n",
       "      <td>4.0</td>\n",
       "      <td>0.011940</td>\n",
       "      <td>0.066812</td>\n",
       "      <td>0.403794</td>\n",
       "    </tr>\n",
       "    <tr>\n",
       "      <th>84</th>\n",
       "      <td>order</td>\n",
       "      <td>433</td>\n",
       "      <td>763</td>\n",
       "      <td>5.0</td>\n",
       "      <td>0.009640</td>\n",
       "      <td>0.076452</td>\n",
       "      <td>0.293360</td>\n",
       "    </tr>\n",
       "    <tr>\n",
       "      <th>72</th>\n",
       "      <td>come</td>\n",
       "      <td>452</td>\n",
       "      <td>650</td>\n",
       "      <td>6.0</td>\n",
       "      <td>0.008212</td>\n",
       "      <td>0.084664</td>\n",
       "      <td>0.306233</td>\n",
       "    </tr>\n",
       "    <tr>\n",
       "      <th>232</th>\n",
       "      <td>time</td>\n",
       "      <td>423</td>\n",
       "      <td>612</td>\n",
       "      <td>7.0</td>\n",
       "      <td>0.007732</td>\n",
       "      <td>0.092397</td>\n",
       "      <td>0.286585</td>\n",
       "    </tr>\n",
       "    <tr>\n",
       "      <th>23</th>\n",
       "      <td>drink</td>\n",
       "      <td>361</td>\n",
       "      <td>608</td>\n",
       "      <td>8.0</td>\n",
       "      <td>0.007682</td>\n",
       "      <td>0.100078</td>\n",
       "      <td>0.244580</td>\n",
       "    </tr>\n",
       "    <tr>\n",
       "      <th>88</th>\n",
       "      <td>check</td>\n",
       "      <td>488</td>\n",
       "      <td>526</td>\n",
       "      <td>9.0</td>\n",
       "      <td>0.006646</td>\n",
       "      <td>0.106724</td>\n",
       "      <td>0.330623</td>\n",
       "    </tr>\n",
       "    <tr>\n",
       "      <th>77</th>\n",
       "      <td>food</td>\n",
       "      <td>321</td>\n",
       "      <td>499</td>\n",
       "      <td>10.0</td>\n",
       "      <td>0.006305</td>\n",
       "      <td>0.113029</td>\n",
       "      <td>0.217480</td>\n",
       "    </tr>\n",
       "    <tr>\n",
       "      <th>90</th>\n",
       "      <td>great</td>\n",
       "      <td>347</td>\n",
       "      <td>466</td>\n",
       "      <td>11.0</td>\n",
       "      <td>0.005888</td>\n",
       "      <td>0.118916</td>\n",
       "      <td>0.235095</td>\n",
       "    </tr>\n",
       "    <tr>\n",
       "      <th>49</th>\n",
       "      <td>go</td>\n",
       "      <td>338</td>\n",
       "      <td>450</td>\n",
       "      <td>12.0</td>\n",
       "      <td>0.005686</td>\n",
       "      <td>0.124602</td>\n",
       "      <td>0.228997</td>\n",
       "    </tr>\n",
       "    <tr>\n",
       "      <th>5</th>\n",
       "      <td>get</td>\n",
       "      <td>334</td>\n",
       "      <td>447</td>\n",
       "      <td>13.0</td>\n",
       "      <td>0.005648</td>\n",
       "      <td>0.130250</td>\n",
       "      <td>0.226287</td>\n",
       "    </tr>\n",
       "    <tr>\n",
       "      <th>66</th>\n",
       "      <td>1</td>\n",
       "      <td>424</td>\n",
       "      <td>446</td>\n",
       "      <td>14.0</td>\n",
       "      <td>0.005635</td>\n",
       "      <td>0.135885</td>\n",
       "      <td>0.287263</td>\n",
       "    </tr>\n",
       "    <tr>\n",
       "      <th>27</th>\n",
       "      <td>service</td>\n",
       "      <td>343</td>\n",
       "      <td>445</td>\n",
       "      <td>15.0</td>\n",
       "      <td>0.005622</td>\n",
       "      <td>0.141507</td>\n",
       "      <td>0.232385</td>\n",
       "    </tr>\n",
       "    <tr>\n",
       "      <th>73</th>\n",
       "      <td>try</td>\n",
       "      <td>342</td>\n",
       "      <td>432</td>\n",
       "      <td>16.0</td>\n",
       "      <td>0.005458</td>\n",
       "      <td>0.146965</td>\n",
       "      <td>0.231707</td>\n",
       "    </tr>\n",
       "    <tr>\n",
       "      <th>192</th>\n",
       "      <td>shop</td>\n",
       "      <td>312</td>\n",
       "      <td>425</td>\n",
       "      <td>17.0</td>\n",
       "      <td>0.005370</td>\n",
       "      <td>0.152335</td>\n",
       "      <td>0.211382</td>\n",
       "    </tr>\n",
       "    <tr>\n",
       "      <th>515</th>\n",
       "      <td>work</td>\n",
       "      <td>304</td>\n",
       "      <td>407</td>\n",
       "      <td>18.0</td>\n",
       "      <td>0.005142</td>\n",
       "      <td>0.157477</td>\n",
       "      <td>0.205962</td>\n",
       "    </tr>\n",
       "    <tr>\n",
       "      <th>136</th>\n",
       "      <td>taste</td>\n",
       "      <td>282</td>\n",
       "      <td>387</td>\n",
       "      <td>19.0</td>\n",
       "      <td>0.004890</td>\n",
       "      <td>0.162367</td>\n",
       "      <td>0.191057</td>\n",
       "    </tr>\n",
       "    <tr>\n",
       "      <th>34</th>\n",
       "      <td>$</td>\n",
       "      <td>218</td>\n",
       "      <td>381</td>\n",
       "      <td>20.0</td>\n",
       "      <td>0.004814</td>\n",
       "      <td>0.167180</td>\n",
       "      <td>0.147696</td>\n",
       "    </tr>\n",
       "  </tbody>\n",
       "</table>\n",
       "</div>"
      ],
      "text/plain": [
       "        word  appears_in  count  rank  pct_total  cul_pct_total  \\\n",
       "32    coffee         934   2120   1.0   0.026785       0.026785   \n",
       "8      place         753   1226   2.0   0.015490       0.042275   \n",
       "26      good         645    997   3.0   0.012597       0.054872   \n",
       "0       like         596    945   4.0   0.011940       0.066812   \n",
       "84     order         433    763   5.0   0.009640       0.076452   \n",
       "72      come         452    650   6.0   0.008212       0.084664   \n",
       "232     time         423    612   7.0   0.007732       0.092397   \n",
       "23     drink         361    608   8.0   0.007682       0.100078   \n",
       "88     check         488    526   9.0   0.006646       0.106724   \n",
       "77      food         321    499  10.0   0.006305       0.113029   \n",
       "90     great         347    466  11.0   0.005888       0.118916   \n",
       "49        go         338    450  12.0   0.005686       0.124602   \n",
       "5        get         334    447  13.0   0.005648       0.130250   \n",
       "66         1         424    446  14.0   0.005635       0.135885   \n",
       "27   service         343    445  15.0   0.005622       0.141507   \n",
       "73       try         342    432  16.0   0.005458       0.146965   \n",
       "192     shop         312    425  17.0   0.005370       0.152335   \n",
       "515     work         304    407  18.0   0.005142       0.157477   \n",
       "136    taste         282    387  19.0   0.004890       0.162367   \n",
       "34         $         218    381  20.0   0.004814       0.167180   \n",
       "\n",
       "     appears_in_pct  \n",
       "32         0.632791  \n",
       "8          0.510163  \n",
       "26         0.436992  \n",
       "0          0.403794  \n",
       "84         0.293360  \n",
       "72         0.306233  \n",
       "232        0.286585  \n",
       "23         0.244580  \n",
       "88         0.330623  \n",
       "77         0.217480  \n",
       "90         0.235095  \n",
       "49         0.228997  \n",
       "5          0.226287  \n",
       "66         0.287263  \n",
       "27         0.232385  \n",
       "73         0.231707  \n",
       "192        0.211382  \n",
       "515        0.205962  \n",
       "136        0.191057  \n",
       "34         0.147696  "
      ]
     },
     "execution_count": 71,
     "metadata": {},
     "output_type": "execute_result"
    }
   ],
   "source": [
    "bad_shops_top20.head(20)"
   ]
  },
  {
   "cell_type": "code",
   "execution_count": 72,
   "metadata": {},
   "outputs": [
    {
     "data": {
      "text/html": [
       "<div>\n",
       "<style scoped>\n",
       "    .dataframe tbody tr th:only-of-type {\n",
       "        vertical-align: middle;\n",
       "    }\n",
       "\n",
       "    .dataframe tbody tr th {\n",
       "        vertical-align: top;\n",
       "    }\n",
       "\n",
       "    .dataframe thead th {\n",
       "        text-align: right;\n",
       "    }\n",
       "</style>\n",
       "<table border=\"1\" class=\"dataframe\">\n",
       "  <thead>\n",
       "    <tr style=\"text-align: right;\">\n",
       "      <th></th>\n",
       "      <th>word</th>\n",
       "      <th>appears_in</th>\n",
       "      <th>count</th>\n",
       "      <th>rank</th>\n",
       "      <th>pct_total</th>\n",
       "      <th>cul_pct_total</th>\n",
       "      <th>appears_in_pct</th>\n",
       "    </tr>\n",
       "  </thead>\n",
       "  <tbody>\n",
       "    <tr>\n",
       "      <th>25</th>\n",
       "      <td>coffee</td>\n",
       "      <td>3919</td>\n",
       "      <td>8041</td>\n",
       "      <td>1.0</td>\n",
       "      <td>0.028458</td>\n",
       "      <td>0.028458</td>\n",
       "      <td>0.638274</td>\n",
       "    </tr>\n",
       "    <tr>\n",
       "      <th>82</th>\n",
       "      <td>place</td>\n",
       "      <td>3127</td>\n",
       "      <td>4810</td>\n",
       "      <td>2.0</td>\n",
       "      <td>0.017023</td>\n",
       "      <td>0.045481</td>\n",
       "      <td>0.509283</td>\n",
       "    </tr>\n",
       "    <tr>\n",
       "      <th>198</th>\n",
       "      <td>good</td>\n",
       "      <td>2929</td>\n",
       "      <td>4349</td>\n",
       "      <td>3.0</td>\n",
       "      <td>0.015392</td>\n",
       "      <td>0.060873</td>\n",
       "      <td>0.477036</td>\n",
       "    </tr>\n",
       "    <tr>\n",
       "      <th>86</th>\n",
       "      <td>great</td>\n",
       "      <td>2499</td>\n",
       "      <td>3458</td>\n",
       "      <td>4.0</td>\n",
       "      <td>0.012238</td>\n",
       "      <td>0.073111</td>\n",
       "      <td>0.407003</td>\n",
       "    </tr>\n",
       "    <tr>\n",
       "      <th>10</th>\n",
       "      <td>check</td>\n",
       "      <td>2686</td>\n",
       "      <td>2941</td>\n",
       "      <td>5.0</td>\n",
       "      <td>0.010409</td>\n",
       "      <td>0.083520</td>\n",
       "      <td>0.437459</td>\n",
       "    </tr>\n",
       "    <tr>\n",
       "      <th>178</th>\n",
       "      <td>like</td>\n",
       "      <td>1677</td>\n",
       "      <td>2434</td>\n",
       "      <td>6.0</td>\n",
       "      <td>0.008614</td>\n",
       "      <td>0.092134</td>\n",
       "      <td>0.273127</td>\n",
       "    </tr>\n",
       "    <tr>\n",
       "      <th>0</th>\n",
       "      <td>love</td>\n",
       "      <td>1575</td>\n",
       "      <td>2069</td>\n",
       "      <td>7.0</td>\n",
       "      <td>0.007322</td>\n",
       "      <td>0.099457</td>\n",
       "      <td>0.256515</td>\n",
       "    </tr>\n",
       "    <tr>\n",
       "      <th>46</th>\n",
       "      <td>Austin</td>\n",
       "      <td>1544</td>\n",
       "      <td>1988</td>\n",
       "      <td>8.0</td>\n",
       "      <td>0.007036</td>\n",
       "      <td>0.106493</td>\n",
       "      <td>0.251466</td>\n",
       "    </tr>\n",
       "    <tr>\n",
       "      <th>395</th>\n",
       "      <td>come</td>\n",
       "      <td>1480</td>\n",
       "      <td>1988</td>\n",
       "      <td>9.0</td>\n",
       "      <td>0.007036</td>\n",
       "      <td>0.113528</td>\n",
       "      <td>0.241042</td>\n",
       "    </tr>\n",
       "    <tr>\n",
       "      <th>28</th>\n",
       "      <td>1</td>\n",
       "      <td>1722</td>\n",
       "      <td>1805</td>\n",
       "      <td>10.0</td>\n",
       "      <td>0.006388</td>\n",
       "      <td>0.119916</td>\n",
       "      <td>0.280456</td>\n",
       "    </tr>\n",
       "    <tr>\n",
       "      <th>396</th>\n",
       "      <td>time</td>\n",
       "      <td>1342</td>\n",
       "      <td>1772</td>\n",
       "      <td>11.0</td>\n",
       "      <td>0.006271</td>\n",
       "      <td>0.126188</td>\n",
       "      <td>0.218567</td>\n",
       "    </tr>\n",
       "    <tr>\n",
       "      <th>30</th>\n",
       "      <td>shop</td>\n",
       "      <td>1319</td>\n",
       "      <td>1760</td>\n",
       "      <td>12.0</td>\n",
       "      <td>0.006229</td>\n",
       "      <td>0.132417</td>\n",
       "      <td>0.214821</td>\n",
       "    </tr>\n",
       "    <tr>\n",
       "      <th>17</th>\n",
       "      <td>drink</td>\n",
       "      <td>1277</td>\n",
       "      <td>1733</td>\n",
       "      <td>13.0</td>\n",
       "      <td>0.006133</td>\n",
       "      <td>0.138550</td>\n",
       "      <td>0.207980</td>\n",
       "    </tr>\n",
       "    <tr>\n",
       "      <th>78</th>\n",
       "      <td>try</td>\n",
       "      <td>1332</td>\n",
       "      <td>1712</td>\n",
       "      <td>14.0</td>\n",
       "      <td>0.006059</td>\n",
       "      <td>0.144609</td>\n",
       "      <td>0.216938</td>\n",
       "    </tr>\n",
       "    <tr>\n",
       "      <th>172</th>\n",
       "      <td>friendly</td>\n",
       "      <td>1443</td>\n",
       "      <td>1518</td>\n",
       "      <td>15.0</td>\n",
       "      <td>0.005372</td>\n",
       "      <td>0.149981</td>\n",
       "      <td>0.235016</td>\n",
       "    </tr>\n",
       "    <tr>\n",
       "      <th>528</th>\n",
       "      <td>work</td>\n",
       "      <td>1182</td>\n",
       "      <td>1498</td>\n",
       "      <td>16.0</td>\n",
       "      <td>0.005302</td>\n",
       "      <td>0.155283</td>\n",
       "      <td>0.192508</td>\n",
       "    </tr>\n",
       "    <tr>\n",
       "      <th>2</th>\n",
       "      <td>get</td>\n",
       "      <td>1133</td>\n",
       "      <td>1453</td>\n",
       "      <td>17.0</td>\n",
       "      <td>0.005142</td>\n",
       "      <td>0.160425</td>\n",
       "      <td>0.184528</td>\n",
       "    </tr>\n",
       "    <tr>\n",
       "      <th>48</th>\n",
       "      <td>nice</td>\n",
       "      <td>1215</td>\n",
       "      <td>1440</td>\n",
       "      <td>18.0</td>\n",
       "      <td>0.005096</td>\n",
       "      <td>0.165522</td>\n",
       "      <td>0.197883</td>\n",
       "    </tr>\n",
       "    <tr>\n",
       "      <th>37</th>\n",
       "      <td>latte</td>\n",
       "      <td>951</td>\n",
       "      <td>1394</td>\n",
       "      <td>19.0</td>\n",
       "      <td>0.004934</td>\n",
       "      <td>0.170455</td>\n",
       "      <td>0.154886</td>\n",
       "    </tr>\n",
       "    <tr>\n",
       "      <th>310</th>\n",
       "      <td>food</td>\n",
       "      <td>1081</td>\n",
       "      <td>1392</td>\n",
       "      <td>20.0</td>\n",
       "      <td>0.004926</td>\n",
       "      <td>0.175382</td>\n",
       "      <td>0.176059</td>\n",
       "    </tr>\n",
       "  </tbody>\n",
       "</table>\n",
       "</div>"
      ],
      "text/plain": [
       "         word  appears_in  count  rank  pct_total  cul_pct_total  \\\n",
       "25     coffee        3919   8041   1.0   0.028458       0.028458   \n",
       "82      place        3127   4810   2.0   0.017023       0.045481   \n",
       "198      good        2929   4349   3.0   0.015392       0.060873   \n",
       "86      great        2499   3458   4.0   0.012238       0.073111   \n",
       "10      check        2686   2941   5.0   0.010409       0.083520   \n",
       "178      like        1677   2434   6.0   0.008614       0.092134   \n",
       "0        love        1575   2069   7.0   0.007322       0.099457   \n",
       "46     Austin        1544   1988   8.0   0.007036       0.106493   \n",
       "395      come        1480   1988   9.0   0.007036       0.113528   \n",
       "28          1        1722   1805  10.0   0.006388       0.119916   \n",
       "396      time        1342   1772  11.0   0.006271       0.126188   \n",
       "30       shop        1319   1760  12.0   0.006229       0.132417   \n",
       "17      drink        1277   1733  13.0   0.006133       0.138550   \n",
       "78        try        1332   1712  14.0   0.006059       0.144609   \n",
       "172  friendly        1443   1518  15.0   0.005372       0.149981   \n",
       "528      work        1182   1498  16.0   0.005302       0.155283   \n",
       "2         get        1133   1453  17.0   0.005142       0.160425   \n",
       "48       nice        1215   1440  18.0   0.005096       0.165522   \n",
       "37      latte         951   1394  19.0   0.004934       0.170455   \n",
       "310      food        1081   1392  20.0   0.004926       0.175382   \n",
       "\n",
       "     appears_in_pct  \n",
       "25         0.638274  \n",
       "82         0.509283  \n",
       "198        0.477036  \n",
       "86         0.407003  \n",
       "10         0.437459  \n",
       "178        0.273127  \n",
       "0          0.256515  \n",
       "46         0.251466  \n",
       "395        0.241042  \n",
       "28         0.280456  \n",
       "396        0.218567  \n",
       "30         0.214821  \n",
       "17         0.207980  \n",
       "78         0.216938  \n",
       "172        0.235016  \n",
       "528        0.192508  \n",
       "2          0.184528  \n",
       "48         0.197883  \n",
       "37         0.154886  \n",
       "310        0.176059  "
      ]
     },
     "execution_count": 72,
     "metadata": {},
     "output_type": "execute_result"
    }
   ],
   "source": [
    "good_shops_top20.head(20)"
   ]
  },
  {
   "cell_type": "markdown",
   "metadata": {},
   "source": [
    "# Lemmatized 'good', 'bad' shops with statistical trimming"
   ]
  },
  {
   "cell_type": "code",
   "execution_count": 74,
   "metadata": {},
   "outputs": [
    {
     "data": {
      "image/png": "[encoded data removed]",
      "text/plain": [
       "<Figure size 432x288 with 1 Axes>"
      ]
     },
     "metadata": {
      "needs_background": "light"
     },
     "output_type": "display_data"
    }
   ],
   "source": [
    "# Map with words appearing in at least 3.5% of bad_shops\n",
    "bad_shops_wc = bad_shops_wc[bad_shops_wc['appears_in_pct'] >= 0.035]\n",
    "\n",
    "sns.distplot(bad_shops_wc['appears_in_pct']);"
   ]
  },
  {
   "cell_type": "code",
   "execution_count": 75,
   "metadata": {},
   "outputs": [
    {
     "data": {
      "image/png": "[encoded data removed]",
      "text/plain": [
       "<Figure size 432x288 with 1 Axes>"
      ]
     },
     "metadata": {
      "needs_background": "light"
     },
     "output_type": "display_data"
    }
   ],
   "source": [
    "# Map with words appearing in at least 3.5% of good_shops\n",
    "good_shops_wc = good_shops_wc[good_shops_wc['appears_in_pct'] >= 0.035]\n",
    "\n",
    "sns.distplot(good_shops_wc['appears_in_pct']);"
   ]
  },
  {
   "cell_type": "code",
   "execution_count": 76,
   "metadata": {},
   "outputs": [
    {
     "data": {
      "image/png": "[encoded data removed]",
      "text/plain": [
       "<Figure size 432x288 with 1 Axes>"
      ]
     },
     "metadata": {
      "needs_background": "light"
     },
     "output_type": "display_data"
    }
   ],
   "source": [
    "bad_shops_top20 = bad_shops_wc[bad_shops_wc['rank'] <= 20]\n",
    "\n",
    "squarify.plot(sizes=bad_shops_top20['pct_total'], label=bad_shops_top20['word'], alpha=.8)\n",
    "plt.axis('off')\n",
    "plt.show()"
   ]
  },
  {
   "cell_type": "code",
   "execution_count": 77,
   "metadata": {},
   "outputs": [
    {
     "data": {
      "image/png": "[encoded data removed]",
      "text/plain": [
       "<Figure size 432x288 with 1 Axes>"
      ]
     },
     "metadata": {
      "needs_background": "light"
     },
     "output_type": "display_data"
    }
   ],
   "source": [
    "good_shops_top20 = good_shops_wc[good_shops_wc['rank'] <= 20]\n",
    "\n",
    "squarify.plot(sizes=good_shops_top20['pct_total'], label=good_shops_top20['word'], alpha=.8)\n",
    "plt.axis('off')\n",
    "plt.show()"
   ]
  },
  {
   "cell_type": "markdown",
   "metadata": {},
   "source": [
    "# Lemmatized and trimmed 'good', 'bad' shops with extended stop words"
   ]
  },
  {
   "cell_type": "code",
   "execution_count": 91,
   "metadata": {},
   "outputs": [],
   "source": [
    "STOP_WORDS = nlp.Defaults.stop_words.union(['good', 'place', 'coffee', '1', 'check', 'Austin', 'come'])"
   ]
  },
  {
   "cell_type": "code",
   "execution_count": 92,
   "metadata": {},
   "outputs": [],
   "source": [
    "# Create lemmatization function\n",
    "def get_lemmas(text):\n",
    "    \n",
    "    lemmas = []\n",
    "    \n",
    "    doc = nlp(text)\n",
    "    \n",
    "    for token in doc:\n",
    "        if((token.is_stop == False) and (token.is_punct == False)) and (token.pos_ != 'PRON') and (token.text.lower() not in STOP_WORDS):\n",
    "            lemmas.append(token.lemma_)\n",
    "            \n",
    "    return lemmas"
   ]
  },
  {
   "cell_type": "code",
   "execution_count": 93,
   "metadata": {},
   "outputs": [
    {
     "name": "stderr",
     "output_type": "stream",
     "text": [
      "//anaconda3/envs/U4-S1-NLP/lib/python3.7/site-packages/ipykernel_launcher.py:1: SettingWithCopyWarning: \n",
      "A value is trying to be set on a copy of a slice from a DataFrame.\n",
      "Try using .loc[row_indexer,col_indexer] = value instead\n",
      "\n",
      "See the caveats in the documentation: https://pandas.pydata.org/pandas-docs/stable/user_guide/indexing.html#returning-a-view-versus-a-copy\n",
      "  \"\"\"Entry point for launching an IPython kernel.\n"
     ]
    }
   ],
   "source": [
    "bad_shops['lemmas'] = bad_shops['full_review_text'].apply(get_lemmas)"
   ]
  },
  {
   "cell_type": "code",
   "execution_count": 94,
   "metadata": {},
   "outputs": [
    {
     "name": "stderr",
     "output_type": "stream",
     "text": [
      "//anaconda3/envs/U4-S1-NLP/lib/python3.7/site-packages/ipykernel_launcher.py:1: SettingWithCopyWarning: \n",
      "A value is trying to be set on a copy of a slice from a DataFrame.\n",
      "Try using .loc[row_indexer,col_indexer] = value instead\n",
      "\n",
      "See the caveats in the documentation: https://pandas.pydata.org/pandas-docs/stable/user_guide/indexing.html#returning-a-view-versus-a-copy\n",
      "  \"\"\"Entry point for launching an IPython kernel.\n"
     ]
    }
   ],
   "source": [
    "good_shops['lemmas'] = good_shops['full_review_text'].apply(get_lemmas)"
   ]
  },
  {
   "cell_type": "code",
   "execution_count": 95,
   "metadata": {},
   "outputs": [
    {
     "data": {
      "image/png": "[encoded data removed]",
      "text/plain": [
       "<Figure size 432x288 with 1 Axes>"
      ]
     },
     "metadata": {
      "needs_background": "light"
     },
     "output_type": "display_data"
    }
   ],
   "source": [
    "bad_shops_wc = count(bad_shops['lemmas'])\n",
    "# Map with words appearing in at least 3.5% of bad_shops\n",
    "bad_shops_wc = bad_shops_wc[bad_shops_wc['appears_in_pct'] >= 0.035]\n",
    "\n",
    "bad_shops_top10 = bad_shops_wc[bad_shops_wc['rank'] <= 10]\n",
    "\n",
    "squarify.plot(sizes=bad_shops_top10['pct_total'], label=bad_shops_top10['word'], alpha=.8)\n",
    "plt.axis('off')\n",
    "plt.show()"
   ]
  },
  {
   "cell_type": "code",
   "execution_count": 96,
   "metadata": {},
   "outputs": [
    {
     "data": {
      "image/png": "[encoded data removed]",
      "text/plain": [
       "<Figure size 432x288 with 1 Axes>"
      ]
     },
     "metadata": {
      "needs_background": "light"
     },
     "output_type": "display_data"
    }
   ],
   "source": [
    "good_shops_wc = count(good_shops['lemmas'])\n",
    "# Map with words appearing in at least 3.5% of good_shops\n",
    "good_shops_wc = good_shops_wc[good_shops_wc['appears_in_pct'] >= 0.035]\n",
    "\n",
    "good_shops_top10 = good_shops_wc[good_shops_wc['rank'] <= 10]\n",
    "\n",
    "squarify.plot(sizes=good_shops_top10['pct_total'], label=good_shops_top10['word'], alpha=.8)\n",
    "plt.axis('off')\n",
    "plt.show()"
   ]
  },
  {
   "cell_type": "code",
   "execution_count": 97,
   "metadata": {},
   "outputs": [
    {
     "data": {
      "image/png": "[encoded data removed]",
      "text/plain": [
       "<Figure size 432x288 with 1 Axes>"
      ]
     },
     "metadata": {
      "needs_background": "light"
     },
     "output_type": "display_data"
    }
   ],
   "source": [
    "bad_shops_top5 = bad_shops_wc[bad_shops_wc['rank'] <= 5]\n",
    "\n",
    "squarify.plot(sizes=bad_shops_top5['pct_total'], label=bad_shops_top5['word'], alpha=.8)\n",
    "plt.axis('off')\n",
    "plt.show()"
   ]
  },
  {
   "cell_type": "code",
   "execution_count": 98,
   "metadata": {},
   "outputs": [
    {
     "data": {
      "image/png": "[encoded data removed]",
      "text/plain": [
       "<Figure size 432x288 with 1 Axes>"
      ]
     },
     "metadata": {
      "needs_background": "light"
     },
     "output_type": "display_data"
    }
   ],
   "source": [
    "good_shops_top5 = good_shops_wc[good_shops_wc['rank'] <= 5]\n",
    "\n",
    "squarify.plot(sizes=good_shops_top5['pct_total'], label=good_shops_top5['word'], alpha=.8)\n",
    "plt.axis('off')\n",
    "plt.show()"
   ]
  },
  {
   "cell_type": "markdown",
   "metadata": {
    "colab_type": "text",
    "id": "1dCb1q8XphcP",
    "toc-hr-collapsed": true
   },
   "source": [
    "## Stretch Goals\n",
    "\n",
    "* Analyze another corpus of documents - such as Indeed.com job listings ;).\n",
    "* Play with the Spacy API to\n",
    " - Extract Named Entities\n",
    " - Extracting 'noun chunks'\n",
    " - Attempt Document Classification with just Spacy\n",
    " - *Note:* This [course](https://course.spacy.io/) will be of interesting in helping you with these stretch goals. \n",
    "* Try to build a plotly dash app with your text data \n",
    "\n"
   ]
  }
 ],
 "metadata": {
  "colab": {
   "collapsed_sections": [],
   "name": "LS_DS_421_Text_Data_Assignment.ipynb",
   "provenance": [],
   "version": "0.3.2"
  },
  "kernelspec": {
   "display_name": "U4-S1-NLP (Python3)",
   "language": "python",
   "name": "u4-s1-nlp"
  },
  "language_info": {
   "codemirror_mode": {
    "name": "ipython",
    "version": 3
   },
   "file_extension": ".py",
   "mimetype": "text/x-python",
   "name": "python",
   "nbconvert_exporter": "python",
   "pygments_lexer": "ipython3",
   "version": "3.7.0"
  },
  "toc-autonumbering": false
 },
 "nbformat": 4,
 "nbformat_minor": 4
}
